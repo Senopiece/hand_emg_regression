{
 "cells": [
  {
   "cell_type": "code",
   "execution_count": 7,
   "id": "aef11825",
   "metadata": {},
   "outputs": [
    {
     "name": "stdout",
     "output_type": "stream",
     "text": [
      "PYTHONPATH = c:\\Users\\shich\\Src\\thesis\\hand_emg_regression\n"
     ]
    }
   ],
   "source": [
    "from shared import *\n",
    "\n",
    "rootme()"
   ]
  },
  {
   "cell_type": "code",
   "execution_count": 8,
   "id": "bf0610c2",
   "metadata": {},
   "outputs": [
    {
     "name": "stderr",
     "output_type": "stream",
     "text": [
      "Loading dataset: 100%|██████████| 17/17 [00:00<00:00, 29.32it/s]\n"
     ]
    },
    {
     "data": {
      "text/plain": [
       "(71, 20)"
      ]
     },
     "execution_count": 8,
     "metadata": {},
     "output_type": "execute_result"
    }
   ],
   "source": [
    "from emg_hand_tracking.dataset import load_recordings\n",
    "import numpy as np\n",
    "\n",
    "d = load_recordings(\"../datasets/s1.z\")\n",
    "\n",
    "frames: np.ndarray = d[7][-1].frames\n",
    "frames.shape"
   ]
  },
  {
   "cell_type": "code",
   "execution_count": 9,
   "id": "4b7e0a2a",
   "metadata": {},
   "outputs": [
    {
     "data": {
      "application/vnd.plotly.v1+json": {
       "config": {
        "plotlyServerURL": "https://plot.ly"
       },
       "data": [
        {
         "marker": {
          "color": "blue",
          "size": 4
         },
         "mode": "markers+text",
         "name": "Landmarks",
         "text": [
          "0",
          "1",
          "2",
          "3",
          "4",
          "5",
          "6",
          "7",
          "8",
          "9",
          "10",
          "11",
          "12",
          "13",
          "14",
          "15",
          "16",
          "17",
          "18",
          "19"
         ],
         "textfont": {
          "color": "black",
          "size": 8
         },
         "textposition": "top center",
         "type": "scatter3d",
         "x": {
          "bdata": "AAAAACCj9zx2fj4+xHFxPmwJ+bpxv2c+WDoAP1mBCD9vEgO7VT+IPlglFj+SijA/fow5vXjGMj7mRAE/+sQqPyBj7r1YfG28MNdyPlO04z4=",
          "dtype": "f4"
         },
         "y": {
          "bdata": "AAAAACk/6T6RnTk/TvZpPwskeD+lGqk/rW6nPzCwjj9kO38/xIy3PzP8wD/vKaw/3+BrP6snrT/yuqs/O4ecP0I+SD/Uq5s/w4aqP9prsT8=",
          "dtype": "f4"
         },
         "z": {
          "bdata": "AAAAAEMvmj60Brc9+h7EvUOtaT6QoJc9ccDUPVvhTj5fKUu87spuvjplc76KgAa+dEZUvlI+874S4eC+yE6xvnlYyL7yibq+Cdfcvukh/L4=",
          "dtype": "f4"
         }
        },
        {
         "line": {
          "color": "black",
          "width": 2
         },
         "mode": "lines",
         "showlegend": false,
         "type": "scatter3d",
         "x": [
          0,
          0.030229151248931885
         ],
         "y": [
          0,
          0.45555999875068665
         ],
         "z": [
          0,
          0.3011418282985687
         ]
        },
        {
         "line": {
          "color": "black",
          "width": 2
         },
         "mode": "lines",
         "showlegend": false,
         "type": "scatter3d",
         "x": [
          0.030229151248931885,
          0.18602928519248962
         ],
         "y": [
          0.45555999875068665,
          0.7250605225563049
         ],
         "z": [
          0.3011418282985687,
          0.08936825394630432
         ]
        },
        {
         "line": {
          "color": "black",
          "width": 2
         },
         "mode": "lines",
         "showlegend": false,
         "type": "scatter3d",
         "x": [
          0.18602928519248962,
          0.23578554391860962
         ],
         "y": [
          0.7250605225563049,
          0.9139145612716675
         ],
         "z": [
          0.08936825394630432,
          -0.0957622081041336
         ]
        },
        {
         "line": {
          "color": "black",
          "width": 2
         },
         "mode": "lines",
         "showlegend": false,
         "type": "scatter3d",
         "x": [
          0,
          -0.0019000000320374966
         ],
         "y": [
          0,
          0.9692999720573425
         ],
         "z": [
          0,
          0.2282000035047531
         ]
        },
        {
         "line": {
          "color": "black",
          "width": 2
         },
         "mode": "lines",
         "showlegend": false,
         "type": "scatter3d",
         "x": [
          -0.0019000000320374966,
          0.22631622850894928
         ],
         "y": [
          0.9692999720573425,
          1.3211256265640259
         ],
         "z": [
          0.2282000035047531,
          0.07403671741485596
         ]
        },
        {
         "line": {
          "color": "black",
          "width": 2
         },
         "mode": "lines",
         "showlegend": false,
         "type": "scatter3d",
         "x": [
          0.22631622850894928,
          0.5008902549743652
         ],
         "y": [
          1.3211256265640259,
          1.3080650568008423
         ],
         "z": [
          0.07403671741485596,
          0.10388267785310745
         ]
        },
        {
         "line": {
          "color": "black",
          "width": 2
         },
         "mode": "lines",
         "showlegend": false,
         "type": "scatter3d",
         "x": [
          0.5008902549743652,
          0.5332236886024475
         ],
         "y": [
          1.3080650568008423,
          1.1147518157958984
         ],
         "z": [
          0.10388267785310745,
          0.20203153789043427
         ]
        },
        {
         "line": {
          "color": "black",
          "width": 2
         },
         "mode": "lines",
         "showlegend": false,
         "type": "scatter3d",
         "x": [
          0,
          -0.0020000000949949026
         ],
         "y": [
          0,
          0.996999979019165
         ],
         "z": [
          0,
          -0.012400000356137753
         ]
        },
        {
         "line": {
          "color": "black",
          "width": 2
         },
         "mode": "lines",
         "showlegend": false,
         "type": "scatter3d",
         "x": [
          -0.0020000000949949026,
          0.2661081850528717
         ],
         "y": [
          0.996999979019165,
          1.433983325958252
         ],
         "z": [
          -0.012400000356137753,
          -0.23319599032402039
         ]
        },
        {
         "line": {
          "color": "black",
          "width": 2
         },
         "mode": "lines",
         "showlegend": false,
         "type": "scatter3d",
         "x": [
          0.2661081850528717,
          0.5865073204040527
         ],
         "y": [
          1.433983325958252,
          1.507696509361267
         ],
         "z": [
          -0.23319599032402039,
          -0.23769083619117737
         ]
        },
        {
         "line": {
          "color": "black",
          "width": 2
         },
         "mode": "lines",
         "showlegend": false,
         "type": "scatter3d",
         "x": [
          0.5865073204040527,
          0.6896144151687622
         ],
         "y": [
          1.507696509361267,
          1.3450297117233276
         ],
         "z": [
          -0.23769083619117737,
          -0.13134971261024475
         ]
        },
        {
         "line": {
          "color": "black",
          "width": 2
         },
         "mode": "lines",
         "showlegend": false,
         "type": "scatter3d",
         "x": [
          0,
          -0.04529999941587448
         ],
         "y": [
          0,
          0.9214000105857849
         ],
         "z": [
          0,
          -0.20730000734329224
         ]
        },
        {
         "line": {
          "color": "black",
          "width": 2
         },
         "mode": "lines",
         "showlegend": false,
         "type": "scatter3d",
         "x": [
          -0.04529999941587448,
          0.174585223197937
         ],
         "y": [
          0.9214000105857849,
          1.3527730703353882
         ],
         "z": [
          -0.20730000734329224,
          -0.4750848412513733
         ]
        },
        {
         "line": {
          "color": "black",
          "width": 2
         },
         "mode": "lines",
         "showlegend": false,
         "type": "scatter3d",
         "x": [
          0.174585223197937,
          0.5049575567245483
         ],
         "y": [
          1.3527730703353882,
          1.3416426181793213
         ],
         "z": [
          -0.4750848412513733,
          -0.43921715021133423
         ]
        },
        {
         "line": {
          "color": "black",
          "width": 2
         },
         "mode": "lines",
         "showlegend": false,
         "type": "scatter3d",
         "x": [
          0.5049575567245483,
          0.6670681238174438
         ],
         "y": [
          1.3416426181793213,
          1.2228769063949585
         ],
         "z": [
          -0.43921715021133423,
          -0.34630417823791504
         ]
        },
        {
         "line": {
          "color": "black",
          "width": 2
         },
         "mode": "lines",
         "showlegend": false,
         "type": "scatter3d",
         "x": [
          0,
          -0.11640000343322754
         ],
         "y": [
          0,
          0.7821999788284302
         ],
         "z": [
          0,
          -0.3912999927997589
         ]
        },
        {
         "line": {
          "color": "black",
          "width": 2
         },
         "mode": "lines",
         "showlegend": false,
         "type": "scatter3d",
         "x": [
          -0.11640000343322754,
          -0.01449497789144516
         ],
         "y": [
          0.7821999788284302,
          1.2161812782287598
         ],
         "z": [
          -0.3912999927997589,
          -0.3643336892127991
         ]
        },
        {
         "line": {
          "color": "black",
          "width": 2
         },
         "mode": "lines",
         "showlegend": false,
         "type": "scatter3d",
         "x": [
          -0.01449497789144516,
          0.23714900016784668
         ],
         "y": [
          1.2161812782287598,
          1.3322376012802124
         ],
         "z": [
          -0.3643336892127991,
          -0.43132808804512024
         ]
        },
        {
         "line": {
          "color": "black",
          "width": 2
         },
         "mode": "lines",
         "showlegend": false,
         "type": "scatter3d",
         "x": [
          0.23714900016784668,
          0.4447351396083832
         ],
         "y": [
          1.3322376012802124,
          1.386103868484497
         ],
         "z": [
          -0.43132808804512024,
          -0.4924462139606476
         ]
        },
        {
         "line": {
          "color": "black",
          "width": 2
         },
         "mode": "lines",
         "showlegend": false,
         "type": "scatter3d",
         "x": [
          0.030229151248931885,
          -0.0019000000320374966
         ],
         "y": [
          0.45555999875068665,
          0.9692999720573425
         ],
         "z": [
          0.3011418282985687,
          0.2282000035047531
         ]
        },
        {
         "line": {
          "color": "black",
          "width": 2
         },
         "mode": "lines",
         "showlegend": false,
         "type": "scatter3d",
         "x": [
          -0.0019000000320374966,
          -0.0020000000949949026
         ],
         "y": [
          0.9692999720573425,
          0.996999979019165
         ],
         "z": [
          0.2282000035047531,
          -0.012400000356137753
         ]
        },
        {
         "line": {
          "color": "black",
          "width": 2
         },
         "mode": "lines",
         "showlegend": false,
         "type": "scatter3d",
         "x": [
          -0.0020000000949949026,
          -0.04529999941587448
         ],
         "y": [
          0.996999979019165,
          0.9214000105857849
         ],
         "z": [
          -0.012400000356137753,
          -0.20730000734329224
         ]
        },
        {
         "line": {
          "color": "black",
          "width": 2
         },
         "mode": "lines",
         "showlegend": false,
         "type": "scatter3d",
         "x": [
          -0.04529999941587448,
          -0.11640000343322754
         ],
         "y": [
          0.9214000105857849,
          0.7821999788284302
         ],
         "z": [
          -0.20730000734329224,
          -0.3912999927997589
         ]
        }
       ],
       "frames": [
        {
         "data": [
          {
           "marker": {
            "color": "blue",
            "size": 4
           },
           "mode": "markers+text",
           "name": "Landmarks",
           "text": [
            "0",
            "1",
            "2",
            "3",
            "4",
            "5",
            "6",
            "7",
            "8",
            "9",
            "10",
            "11",
            "12",
            "13",
            "14",
            "15",
            "16",
            "17",
            "18",
            "19"
           ],
           "textfont": {
            "color": "black",
            "size": 8
           },
           "textposition": "top center",
           "type": "scatter3d",
           "x": {
            "bdata": "AAAAACCj9zx2fj4+xHFxPmwJ+bpxv2c+WDoAP1mBCD9vEgO7VT+IPlglFj+SijA/fow5vXjGMj7mRAE/+sQqPyBj7r1YfG28MNdyPlO04z4=",
            "dtype": "f4"
           },
           "y": {
            "bdata": "AAAAACk/6T6RnTk/TvZpPwskeD+lGqk/rW6nPzCwjj9kO38/xIy3PzP8wD/vKaw/3+BrP6snrT/yuqs/O4ecP0I+SD/Uq5s/w4aqP9prsT8=",
            "dtype": "f4"
           },
           "z": {
            "bdata": "AAAAAEMvmj60Brc9+h7EvUOtaT6QoJc9ccDUPVvhTj5fKUu87spuvjplc76KgAa+dEZUvlI+874S4eC+yE6xvnlYyL7yibq+Cdfcvukh/L4=",
            "dtype": "f4"
           }
          },
          {
           "line": {
            "color": "black",
            "width": 2
           },
           "mode": "lines",
           "showlegend": false,
           "type": "scatter3d",
           "x": [
            0,
            0.030229151248931885
           ],
           "y": [
            0,
            0.45555999875068665
           ],
           "z": [
            0,
            0.3011418282985687
           ]
          },
          {
           "line": {
            "color": "black",
            "width": 2
           },
           "mode": "lines",
           "showlegend": false,
           "type": "scatter3d",
           "x": [
            0.030229151248931885,
            0.18602928519248962
           ],
           "y": [
            0.45555999875068665,
            0.7250605225563049
           ],
           "z": [
            0.3011418282985687,
            0.08936825394630432
           ]
          },
          {
           "line": {
            "color": "black",
            "width": 2
           },
           "mode": "lines",
           "showlegend": false,
           "type": "scatter3d",
           "x": [
            0.18602928519248962,
            0.23578554391860962
           ],
           "y": [
            0.7250605225563049,
            0.9139145612716675
           ],
           "z": [
            0.08936825394630432,
            -0.0957622081041336
           ]
          },
          {
           "line": {
            "color": "black",
            "width": 2
           },
           "mode": "lines",
           "showlegend": false,
           "type": "scatter3d",
           "x": [
            0,
            -0.0019000000320374966
           ],
           "y": [
            0,
            0.9692999720573425
           ],
           "z": [
            0,
            0.2282000035047531
           ]
          },
          {
           "line": {
            "color": "black",
            "width": 2
           },
           "mode": "lines",
           "showlegend": false,
           "type": "scatter3d",
           "x": [
            -0.0019000000320374966,
            0.22631622850894928
           ],
           "y": [
            0.9692999720573425,
            1.3211256265640259
           ],
           "z": [
            0.2282000035047531,
            0.07403671741485596
           ]
          },
          {
           "line": {
            "color": "black",
            "width": 2
           },
           "mode": "lines",
           "showlegend": false,
           "type": "scatter3d",
           "x": [
            0.22631622850894928,
            0.5008902549743652
           ],
           "y": [
            1.3211256265640259,
            1.3080650568008423
           ],
           "z": [
            0.07403671741485596,
            0.10388267785310745
           ]
          },
          {
           "line": {
            "color": "black",
            "width": 2
           },
           "mode": "lines",
           "showlegend": false,
           "type": "scatter3d",
           "x": [
            0.5008902549743652,
            0.5332236886024475
           ],
           "y": [
            1.3080650568008423,
            1.1147518157958984
           ],
           "z": [
            0.10388267785310745,
            0.20203153789043427
           ]
          },
          {
           "line": {
            "color": "black",
            "width": 2
           },
           "mode": "lines",
           "showlegend": false,
           "type": "scatter3d",
           "x": [
            0,
            -0.0020000000949949026
           ],
           "y": [
            0,
            0.996999979019165
           ],
           "z": [
            0,
            -0.012400000356137753
           ]
          },
          {
           "line": {
            "color": "black",
            "width": 2
           },
           "mode": "lines",
           "showlegend": false,
           "type": "scatter3d",
           "x": [
            -0.0020000000949949026,
            0.2661081850528717
           ],
           "y": [
            0.996999979019165,
            1.433983325958252
           ],
           "z": [
            -0.012400000356137753,
            -0.23319599032402039
           ]
          },
          {
           "line": {
            "color": "black",
            "width": 2
           },
           "mode": "lines",
           "showlegend": false,
           "type": "scatter3d",
           "x": [
            0.2661081850528717,
            0.5865073204040527
           ],
           "y": [
            1.433983325958252,
            1.507696509361267
           ],
           "z": [
            -0.23319599032402039,
            -0.23769083619117737
           ]
          },
          {
           "line": {
            "color": "black",
            "width": 2
           },
           "mode": "lines",
           "showlegend": false,
           "type": "scatter3d",
           "x": [
            0.5865073204040527,
            0.6896144151687622
           ],
           "y": [
            1.507696509361267,
            1.3450297117233276
           ],
           "z": [
            -0.23769083619117737,
            -0.13134971261024475
           ]
          },
          {
           "line": {
            "color": "black",
            "width": 2
           },
           "mode": "lines",
           "showlegend": false,
           "type": "scatter3d",
           "x": [
            0,
            -0.04529999941587448
           ],
           "y": [
            0,
            0.9214000105857849
           ],
           "z": [
            0,
            -0.20730000734329224
           ]
          },
          {
           "line": {
            "color": "black",
            "width": 2
           },
           "mode": "lines",
           "showlegend": false,
           "type": "scatter3d",
           "x": [
            -0.04529999941587448,
            0.174585223197937
           ],
           "y": [
            0.9214000105857849,
            1.3527730703353882
           ],
           "z": [
            -0.20730000734329224,
            -0.4750848412513733
           ]
          },
          {
           "line": {
            "color": "black",
            "width": 2
           },
           "mode": "lines",
           "showlegend": false,
           "type": "scatter3d",
           "x": [
            0.174585223197937,
            0.5049575567245483
           ],
           "y": [
            1.3527730703353882,
            1.3416426181793213
           ],
           "z": [
            -0.4750848412513733,
            -0.43921715021133423
           ]
          },
          {
           "line": {
            "color": "black",
            "width": 2
           },
           "mode": "lines",
           "showlegend": false,
           "type": "scatter3d",
           "x": [
            0.5049575567245483,
            0.6670681238174438
           ],
           "y": [
            1.3416426181793213,
            1.2228769063949585
           ],
           "z": [
            -0.43921715021133423,
            -0.34630417823791504
           ]
          },
          {
           "line": {
            "color": "black",
            "width": 2
           },
           "mode": "lines",
           "showlegend": false,
           "type": "scatter3d",
           "x": [
            0,
            -0.11640000343322754
           ],
           "y": [
            0,
            0.7821999788284302
           ],
           "z": [
            0,
            -0.3912999927997589
           ]
          },
          {
           "line": {
            "color": "black",
            "width": 2
           },
           "mode": "lines",
           "showlegend": false,
           "type": "scatter3d",
           "x": [
            -0.11640000343322754,
            -0.01449497789144516
           ],
           "y": [
            0.7821999788284302,
            1.2161812782287598
           ],
           "z": [
            -0.3912999927997589,
            -0.3643336892127991
           ]
          },
          {
           "line": {
            "color": "black",
            "width": 2
           },
           "mode": "lines",
           "showlegend": false,
           "type": "scatter3d",
           "x": [
            -0.01449497789144516,
            0.23714900016784668
           ],
           "y": [
            1.2161812782287598,
            1.3322376012802124
           ],
           "z": [
            -0.3643336892127991,
            -0.43132808804512024
           ]
          },
          {
           "line": {
            "color": "black",
            "width": 2
           },
           "mode": "lines",
           "showlegend": false,
           "type": "scatter3d",
           "x": [
            0.23714900016784668,
            0.4447351396083832
           ],
           "y": [
            1.3322376012802124,
            1.386103868484497
           ],
           "z": [
            -0.43132808804512024,
            -0.4924462139606476
           ]
          },
          {
           "line": {
            "color": "black",
            "width": 2
           },
           "mode": "lines",
           "showlegend": false,
           "type": "scatter3d",
           "x": [
            0.030229151248931885,
            -0.0019000000320374966
           ],
           "y": [
            0.45555999875068665,
            0.9692999720573425
           ],
           "z": [
            0.3011418282985687,
            0.2282000035047531
           ]
          },
          {
           "line": {
            "color": "black",
            "width": 2
           },
           "mode": "lines",
           "showlegend": false,
           "type": "scatter3d",
           "x": [
            -0.0019000000320374966,
            -0.0020000000949949026
           ],
           "y": [
            0.9692999720573425,
            0.996999979019165
           ],
           "z": [
            0.2282000035047531,
            -0.012400000356137753
           ]
          },
          {
           "line": {
            "color": "black",
            "width": 2
           },
           "mode": "lines",
           "showlegend": false,
           "type": "scatter3d",
           "x": [
            -0.0020000000949949026,
            -0.04529999941587448
           ],
           "y": [
            0.996999979019165,
            0.9214000105857849
           ],
           "z": [
            -0.012400000356137753,
            -0.20730000734329224
           ]
          },
          {
           "line": {
            "color": "black",
            "width": 2
           },
           "mode": "lines",
           "showlegend": false,
           "type": "scatter3d",
           "x": [
            -0.04529999941587448,
            -0.11640000343322754
           ],
           "y": [
            0.9214000105857849,
            0.7821999788284302
           ],
           "z": [
            -0.20730000734329224,
            -0.3912999927997589
           ]
          }
         ],
         "name": "0"
        },
        {
         "data": [
          {
           "marker": {
            "color": "blue",
            "size": 4
           },
           "mode": "markers+text",
           "name": "Landmarks",
           "text": [
            "0",
            "1",
            "2",
            "3",
            "4",
            "5",
            "6",
            "7",
            "8",
            "9",
            "10",
            "11",
            "12",
            "13",
            "14",
            "15",
            "16",
            "17",
            "18",
            "19"
           ],
           "textfont": {
            "color": "black",
            "size": 8
           },
           "textposition": "top center",
           "type": "scatter3d",
           "x": {
            "bdata": "AAAAAPDL5zxy2Sg+3ANPPmwJ+boevVc+Jv74PteyAz9vEgO7FaGFPohDFD+v9y8/fow5vTLyRz6G1AY/8qkwPyBj7r1Yl9Q9lnGrPjtv+T4=",
            "dtype": "f4"
           },
           "y": {
            "bdata": "AAAAAHF06T6G8zg/QzJoPwskeD+JY6s/0DqpP+Y4jz9kO38/+5m5P5K1wz+Ic60/3+BrP8dfrT9PYqw/saGcP0I+SD9aOZA/XyOiP9A9jj8=",
            "dtype": "f4"
           },
           "z": {
            "bdata": "AAAAABpglD7oU3w9o8wFvkOtaT5mRsI9ot7ePVSUPj5fKUu8JjRSvs1BbL62Ahq+dEZUvk5K6L4LK9u+I9GvvnlYyL7KJBK/0nspv9sJHb8=",
            "dtype": "f4"
           }
          },
          {
           "line": {
            "color": "black",
            "width": 2
           },
           "mode": "lines",
           "showlegend": false,
           "type": "scatter3d",
           "x": [
            0,
            0.02829548716545105
           ],
           "y": [
            0,
            0.4559665024280548
           ],
           "z": [
            0,
            0.2897956967353821
           ]
          },
          {
           "line": {
            "color": "black",
            "width": 2
           },
           "mode": "lines",
           "showlegend": false,
           "type": "scatter3d",
           "x": [
            0.02829548716545105,
            0.16489198803901672
           ],
           "y": [
            0.4559665024280548,
            0.7224658727645874
           ],
           "z": [
            0.2897956967353821,
            0.06160345673561096
           ]
          },
          {
           "line": {
            "color": "black",
            "width": 2
           },
           "mode": "lines",
           "showlegend": false,
           "type": "scatter3d",
           "x": [
            0.16489198803901672,
            0.20216315984725952
           ],
           "y": [
            0.7224658727645874,
            0.907016932964325
           ],
           "z": [
            0.06160345673561096,
            -0.1306634396314621
           ]
          },
          {
           "line": {
            "color": "black",
            "width": 2
           },
           "mode": "lines",
           "showlegend": false,
           "type": "scatter3d",
           "x": [
            0,
            -0.0019000000320374966
           ],
           "y": [
            0,
            0.9692999720573425
           ],
           "z": [
            0,
            0.2282000035047531
           ]
          },
          {
           "line": {
            "color": "black",
            "width": 2
           },
           "mode": "lines",
           "showlegend": false,
           "type": "scatter3d",
           "x": [
            -0.0019000000320374966,
            0.21068236231803894
           ],
           "y": [
            0.9692999720573425,
            1.3389750719070435
           ],
           "z": [
            0.2282000035047531,
            0.09486083686351776
           ]
          },
          {
           "line": {
            "color": "black",
            "width": 2
           },
           "mode": "lines",
           "showlegend": false,
           "type": "scatter3d",
           "x": [
            0.21068236231803894,
            0.48631399869918823
           ],
           "y": [
            1.3389750719070435,
            1.3221073150634766
           ],
           "z": [
            0.09486083686351776,
            0.10882307589054108
           ]
          },
          {
           "line": {
            "color": "black",
            "width": 2
           },
           "mode": "lines",
           "showlegend": false,
           "type": "scatter3d",
           "x": [
            0.48631399869918823,
            0.5144476294517517
           ],
           "y": [
            1.3221073150634766,
            1.1189239025115967
           ],
           "z": [
            0.10882307589054108,
            0.18611270189285278
           ]
          },
          {
           "line": {
            "color": "black",
            "width": 2
           },
           "mode": "lines",
           "showlegend": false,
           "type": "scatter3d",
           "x": [
            0,
            -0.0020000000949949026
           ],
           "y": [
            0,
            0.996999979019165
           ],
           "z": [
            0,
            -0.012400000356137753
           ]
          },
          {
           "line": {
            "color": "black",
            "width": 2
           },
           "mode": "lines",
           "showlegend": false,
           "type": "scatter3d",
           "x": [
            -0.0020000000949949026,
            0.2609945833683014
           ],
           "y": [
            0.996999979019165,
            1.4500116109848022
           ],
           "z": [
            -0.012400000356137753,
            -0.20527705550193787
           ]
          },
          {
           "line": {
            "color": "black",
            "width": 2
           },
           "mode": "lines",
           "showlegend": false,
           "type": "scatter3d",
           "x": [
            0.2609945833683014,
            0.579155445098877
           ],
           "y": [
            1.4500116109848022,
            1.5289785861968994
           ],
           "z": [
            -0.20527705550193787,
            -0.23071976006031036
           ]
          },
          {
           "line": {
            "color": "black",
            "width": 2
           },
           "mode": "lines",
           "showlegend": false,
           "type": "scatter3d",
           "x": [
            0.579155445098877,
            0.6873731017112732
           ],
           "y": [
            1.5289785861968994,
            1.355088233947754
           ],
           "z": [
            -0.23071976006031036,
            -0.15040096640586853
           ]
          },
          {
           "line": {
            "color": "black",
            "width": 2
           },
           "mode": "lines",
           "showlegend": false,
           "type": "scatter3d",
           "x": [
            0,
            -0.04529999941587448
           ],
           "y": [
            0,
            0.9214000105857849
           ],
           "z": [
            0,
            -0.20730000734329224
           ]
          },
          {
           "line": {
            "color": "black",
            "width": 2
           },
           "mode": "lines",
           "showlegend": false,
           "type": "scatter3d",
           "x": [
            -0.04529999941587448,
            0.19525983929634094
           ],
           "y": [
            0.9214000105857849,
            1.3544853925704956
           ],
           "z": [
            -0.20730000734329224,
            -0.45369189977645874
           ]
          },
          {
           "line": {
            "color": "black",
            "width": 2
           },
           "mode": "lines",
           "showlegend": false,
           "type": "scatter3d",
           "x": [
            0.19525983929634094,
            0.5266803503036499
           ],
           "y": [
            1.3544853925704956,
            1.3467501401901245
           ],
           "z": [
            -0.45369189977645874,
            -0.42806276679039
           ]
          },
          {
           "line": {
            "color": "black",
            "width": 2
           },
           "mode": "lines",
           "showlegend": false,
           "type": "scatter3d",
           "x": [
            0.5266803503036499,
            0.6900931596755981
           ],
           "y": [
            1.3467501401901245,
            1.2236844301223755
           ],
           "z": [
            -0.42806276679039,
            -0.3433924615383148
           ]
          },
          {
           "line": {
            "color": "black",
            "width": 2
           },
           "mode": "lines",
           "showlegend": false,
           "type": "scatter3d",
           "x": [
            0,
            -0.11640000343322754
           ],
           "y": [
            0,
            0.7821999788284302
           ],
           "z": [
            0,
            -0.3912999927997589
           ]
          },
          {
           "line": {
            "color": "black",
            "width": 2
           },
           "mode": "lines",
           "showlegend": false,
           "type": "scatter3d",
           "x": [
            -0.11640000343322754,
            0.10380429029464722
           ],
           "y": [
            0.7821999788284302,
            1.1267502307891846
           ],
           "z": [
            -0.3912999927997589,
            -0.5708738565444946
           ]
          },
          {
           "line": {
            "color": "black",
            "width": 2
           },
           "mode": "lines",
           "showlegend": false,
           "type": "scatter3d",
           "x": [
            0.10380429029464722,
            0.3348509669303894
           ],
           "y": [
            1.1267502307891846,
            1.2667044401168823
           ],
           "z": [
            -0.5708738565444946,
            -0.6620455980300903
           ]
          },
          {
           "line": {
            "color": "black",
            "width": 2
           },
           "mode": "lines",
           "showlegend": false,
           "type": "scatter3d",
           "x": [
            0.3348509669303894,
            0.4871767461299896
           ],
           "y": [
            1.2667044401168823,
            1.1112613677978516
           ],
           "z": [
            -0.6620455980300903,
            -0.6134316325187683
           ]
          },
          {
           "line": {
            "color": "black",
            "width": 2
           },
           "mode": "lines",
           "showlegend": false,
           "type": "scatter3d",
           "x": [
            0.02829548716545105,
            -0.0019000000320374966
           ],
           "y": [
            0.4559665024280548,
            0.9692999720573425
           ],
           "z": [
            0.2897956967353821,
            0.2282000035047531
           ]
          },
          {
           "line": {
            "color": "black",
            "width": 2
           },
           "mode": "lines",
           "showlegend": false,
           "type": "scatter3d",
           "x": [
            -0.0019000000320374966,
            -0.0020000000949949026
           ],
           "y": [
            0.9692999720573425,
            0.996999979019165
           ],
           "z": [
            0.2282000035047531,
            -0.012400000356137753
           ]
          },
          {
           "line": {
            "color": "black",
            "width": 2
           },
           "mode": "lines",
           "showlegend": false,
           "type": "scatter3d",
           "x": [
            -0.0020000000949949026,
            -0.04529999941587448
           ],
           "y": [
            0.996999979019165,
            0.9214000105857849
           ],
           "z": [
            -0.012400000356137753,
            -0.20730000734329224
           ]
          },
          {
           "line": {
            "color": "black",
            "width": 2
           },
           "mode": "lines",
           "showlegend": false,
           "type": "scatter3d",
           "x": [
            -0.04529999941587448,
            -0.11640000343322754
           ],
           "y": [
            0.9214000105857849,
            0.7821999788284302
           ],
           "z": [
            -0.20730000734329224,
            -0.3912999927997589
           ]
          }
         ],
         "name": "1"
        },
        {
         "data": [
          {
           "marker": {
            "color": "blue",
            "size": 4
           },
           "mode": "markers+text",
           "name": "Landmarks",
           "text": [
            "0",
            "1",
            "2",
            "3",
            "4",
            "5",
            "6",
            "7",
            "8",
            "9",
            "10",
            "11",
            "12",
            "13",
            "14",
            "15",
            "16",
            "17",
            "18",
            "19"
           ],
           "textfont": {
            "color": "black",
            "size": 8
           },
           "textposition": "top center",
           "type": "scatter3d",
           "x": {
            "bdata": "AAAAAAC2pDxpVB4+yJPIPWwJ+brkaQM+eUHOPiKrHj9vEgO7SJ6EPnsfFT/FY0A/fow5vTDpSz4CxAc/IjQxPyBj7r24v9I9tpOpPii1+T4=",
            "dtype": "f4"
           },
           "y": {
            "bdata": "AAAAAKQ88j62nEI/gqVrPwskeD/TRbE/Xr20P67BsD9kO38/7Ki6P8Ffsz9bVaI/3+BrP84HrT860as/NPibP0I+SD+DCZA/x1iiPwsIjz8=",
            "dtype": "f4"
           },
           "z": {
            "bdata": "AAAAADsWpj40cfg9IL+yvUOtaT4MvQM+wHPgPfXH2T1fKUu8UwxAvh7EML5ytQG+dEZUvju/6L6dh9q+lDmuvnlYyL5oIRO//AErv+tMHr8=",
            "dtype": "f4"
           }
          },
          {
           "line": {
            "color": "black",
            "width": 2
           },
           "mode": "lines",
           "showlegend": false,
           "type": "scatter3d",
           "x": [
            0,
            0.02010631561279297
           ],
           "y": [
            0,
            0.4731189012527466
           ],
           "z": [
            0,
            0.3243883550167084
           ]
          },
          {
           "line": {
            "color": "black",
            "width": 2
           },
           "mode": "lines",
           "showlegend": false,
           "type": "scatter3d",
           "x": [
            0.02010631561279297,
            0.15461887419223785
           ],
           "y": [
            0.4731189012527466,
            0.7602037191390991
           ],
           "z": [
            0.3243883550167084,
            0.12130966782569885
           ]
          },
          {
           "line": {
            "color": "black",
            "width": 2
           },
           "mode": "lines",
           "showlegend": false,
           "type": "scatter3d",
           "x": [
            0.15461887419223785,
            0.09793812036514282
           ],
           "y": [
            0.7602037191390991,
            0.9204941987991333
           ],
           "z": [
            0.12130966782569885,
            -0.08727860450744629
           ]
          },
          {
           "line": {
            "color": "black",
            "width": 2
           },
           "mode": "lines",
           "showlegend": false,
           "type": "scatter3d",
           "x": [
            0,
            -0.0019000000320374966
           ],
           "y": [
            0,
            0.9692999720573425
           ],
           "z": [
            0,
            0.2282000035047531
           ]
          },
          {
           "line": {
            "color": "black",
            "width": 2
           },
           "mode": "lines",
           "showlegend": false,
           "type": "scatter3d",
           "x": [
            -0.0019000000320374966,
            0.12833362817764282
           ],
           "y": [
            0.9692999720573425,
            1.3849433660507202
           ],
           "z": [
            0.2282000035047531,
            0.12865084409713745
           ]
          },
          {
           "line": {
            "color": "black",
            "width": 2
           },
           "mode": "lines",
           "showlegend": false,
           "type": "scatter3d",
           "x": [
            0.12833362817764282,
            0.40284326672554016
           ],
           "y": [
            1.3849433660507202,
            1.4120290279388428
           ],
           "z": [
            0.12865084409713745,
            0.10959577560424805
           ]
          },
          {
           "line": {
            "color": "black",
            "width": 2
           },
           "mode": "lines",
           "showlegend": false,
           "type": "scatter3d",
           "x": [
            0.40284326672554016,
            0.6197987794876099
           ],
           "y": [
            1.4120290279388428,
            1.3809106349945068
           ],
           "z": [
            0.10959577560424805,
            0.10633841902017593
           ]
          },
          {
           "line": {
            "color": "black",
            "width": 2
           },
           "mode": "lines",
           "showlegend": false,
           "type": "scatter3d",
           "x": [
            0,
            -0.0020000000949949026
           ],
           "y": [
            0,
            0.996999979019165
           ],
           "z": [
            0,
            -0.012400000356137753
           ]
          },
          {
           "line": {
            "color": "black",
            "width": 2
           },
           "mode": "lines",
           "showlegend": false,
           "type": "scatter3d",
           "x": [
            -0.0020000000949949026,
            0.2590200901031494
           ],
           "y": [
            0.996999979019165,
            1.458280086517334
           ],
           "z": [
            -0.012400000356137753,
            -0.1875470131635666
           ]
          },
          {
           "line": {
            "color": "black",
            "width": 2
           },
           "mode": "lines",
           "showlegend": false,
           "type": "scatter3d",
           "x": [
            0.2590200901031494,
            0.5825116038322449
           ],
           "y": [
            1.458280086517334,
            1.4013596773147583
           ],
           "z": [
            -0.1875470131635666,
            -0.17262312769889832
           ]
          },
          {
           "line": {
            "color": "black",
            "width": 2
           },
           "mode": "lines",
           "showlegend": false,
           "type": "scatter3d",
           "x": [
            0.5825116038322449,
            0.7515223622322083
           ],
           "y": [
            1.4013596773147583,
            1.2682298421859741
           ],
           "z": [
            -0.17262312769889832,
            -0.12666872143745422
           ]
          },
          {
           "line": {
            "color": "black",
            "width": 2
           },
           "mode": "lines",
           "showlegend": false,
           "type": "scatter3d",
           "x": [
            0,
            -0.04529999941587448
           ],
           "y": [
            0,
            0.9214000105857849
           ],
           "z": [
            0,
            -0.20730000734329224
           ]
          },
          {
           "line": {
            "color": "black",
            "width": 2
           },
           "mode": "lines",
           "showlegend": false,
           "type": "scatter3d",
           "x": [
            -0.04529999941587448,
            0.19913172721862793
           ],
           "y": [
            0.9214000105857849,
            1.3518006801605225
           ],
           "z": [
            -0.20730000734329224,
            -0.4545839726924896
           ]
          },
          {
           "line": {
            "color": "black",
            "width": 2
           },
           "mode": "lines",
           "showlegend": false,
           "type": "scatter3d",
           "x": [
            0.19913172721862793,
            0.5303345918655396
           ],
           "y": [
            1.3518006801605225,
            1.342322587966919
           ],
           "z": [
            -0.4545839726924896,
            -0.4268158972263336
           ]
          },
          {
           "line": {
            "color": "black",
            "width": 2
           },
           "mode": "lines",
           "showlegend": false,
           "type": "scatter3d",
           "x": [
            0.5303345918655396,
            0.6922017335891724
           ],
           "y": [
            1.342322587966919,
            1.2185120582580566
           ],
           "z": [
            -0.4268158972263336,
            -0.34028303623199463
           ]
          },
          {
           "line": {
            "color": "black",
            "width": 2
           },
           "mode": "lines",
           "showlegend": false,
           "type": "scatter3d",
           "x": [
            0,
            -0.11640000343322754
           ],
           "y": [
            0,
            0.7821999788284302
           ],
           "z": [
            0,
            -0.3912999927997589
           ]
          },
          {
           "line": {
            "color": "black",
            "width": 2
           },
           "mode": "lines",
           "showlegend": false,
           "type": "scatter3d",
           "x": [
            -0.11640000343322754,
            0.10290473699569702
           ],
           "y": [
            0.7821999788284302,
            1.1252902746200562
           ],
           "z": [
            -0.3912999927997589,
            -0.5747284889221191
           ]
          },
          {
           "line": {
            "color": "black",
            "width": 2
           },
           "mode": "lines",
           "showlegend": false,
           "type": "scatter3d",
           "x": [
            0.10290473699569702,
            0.3312050700187683
           ],
           "y": [
            1.1252902746200562,
            1.2683342695236206
           ],
           "z": [
            -0.5747284889221191,
            -0.6679990291595459
           ]
          },
          {
           "line": {
            "color": "black",
            "width": 2
           },
           "mode": "lines",
           "showlegend": false,
           "type": "scatter3d",
           "x": [
            0.3312050700187683,
            0.48771023750305176
           ],
           "y": [
            1.2683342695236206,
            1.117432951927185
           ],
           "z": [
            -0.6679990291595459,
            -0.6183611750602722
           ]
          },
          {
           "line": {
            "color": "black",
            "width": 2
           },
           "mode": "lines",
           "showlegend": false,
           "type": "scatter3d",
           "x": [
            0.02010631561279297,
            -0.0019000000320374966
           ],
           "y": [
            0.4731189012527466,
            0.9692999720573425
           ],
           "z": [
            0.3243883550167084,
            0.2282000035047531
           ]
          },
          {
           "line": {
            "color": "black",
            "width": 2
           },
           "mode": "lines",
           "showlegend": false,
           "type": "scatter3d",
           "x": [
            -0.0019000000320374966,
            -0.0020000000949949026
           ],
           "y": [
            0.9692999720573425,
            0.996999979019165
           ],
           "z": [
            0.2282000035047531,
            -0.012400000356137753
           ]
          },
          {
           "line": {
            "color": "black",
            "width": 2
           },
           "mode": "lines",
           "showlegend": false,
           "type": "scatter3d",
           "x": [
            -0.0020000000949949026,
            -0.04529999941587448
           ],
           "y": [
            0.996999979019165,
            0.9214000105857849
           ],
           "z": [
            -0.012400000356137753,
            -0.20730000734329224
           ]
          },
          {
           "line": {
            "color": "black",
            "width": 2
           },
           "mode": "lines",
           "showlegend": false,
           "type": "scatter3d",
           "x": [
            -0.04529999941587448,
            -0.11640000343322754
           ],
           "y": [
            0.9214000105857849,
            0.7821999788284302
           ],
           "z": [
            -0.20730000734329224,
            -0.3912999927997589
           ]
          }
         ],
         "name": "2"
        },
        {
         "data": [
          {
           "marker": {
            "color": "blue",
            "size": 4
           },
           "mode": "markers+text",
           "name": "Landmarks",
           "text": [
            "0",
            "1",
            "2",
            "3",
            "4",
            "5",
            "6",
            "7",
            "8",
            "9",
            "10",
            "11",
            "12",
            "13",
            "14",
            "15",
            "16",
            "17",
            "18",
            "19"
           ],
           "textfont": {
            "color": "black",
            "size": 8
           },
           "textposition": "top center",
           "type": "scatter3d",
           "x": {
            "bdata": "AAAAABA0nDxLVCs+o2UKPmwJ+bou3ws+/lXTPtpvIT9vEgO7ZzyOPtZlGD89eUY/fow5vZheSz5IpQc/ODwxPyBj7r0yXdI9bGWpPiuX+T4=",
            "dtype": "f4"
           },
           "y": {
            "bdata": "AAAAAK4n8z5G+UQ/tvxxPwskeD+E+bA/IeiwP+rfrT9kO38/yJm5P9nyrj/NdZ8/3+BrP+UHrT8w8as/2C6cP0I+SD87CpA/tl+iP+4Tjz8=",
            "dtype": "f4"
           },
           "z": {
            "bdata": "AAAAAGfKrz5mdiU+8BMivUOtaT7CPAU+JuvuPeq04z1fKUu8Y0w4vp5iJL6WIf29dEZUvvcC6b79/9q+AMKuvnlYyL5wLRO/bxUrv/ZbHr8=",
            "dtype": "f4"
           }
          },
          {
           "line": {
            "color": "black",
            "width": 2
           },
           "mode": "lines",
           "showlegend": false,
           "type": "scatter3d",
           "x": [
            0,
            0.01906779408454895
           ],
           "y": [
            0,
            0.4749121069908142
           ],
           "z": [
            0,
            0.34334108233451843
           ]
          },
          {
           "line": {
            "color": "black",
            "width": 2
           },
           "mode": "lines",
           "showlegend": false,
           "type": "scatter3d",
           "x": [
            0.01906779408454895,
            0.16731373965740204
           ],
           "y": [
            0.4749121069908142,
            0.7694286108016968
           ],
           "z": [
            0.34334108233451843,
            0.16158446669578552
           ]
          },
          {
           "line": {
            "color": "black",
            "width": 2
           },
           "mode": "lines",
           "showlegend": false,
           "type": "scatter3d",
           "x": [
            0.16731373965740204,
            0.13515333831310272
           ],
           "y": [
            0.7694286108016968,
            0.9452623128890991
           ],
           "z": [
            0.16158446669578552,
            -0.03956979513168335
           ]
          },
          {
           "line": {
            "color": "black",
            "width": 2
           },
           "mode": "lines",
           "showlegend": false,
           "type": "scatter3d",
           "x": [
            0,
            -0.0019000000320374966
           ],
           "y": [
            0,
            0.9692999720573425
           ],
           "z": [
            0,
            0.2282000035047531
           ]
          },
          {
           "line": {
            "color": "black",
            "width": 2
           },
           "mode": "lines",
           "showlegend": false,
           "type": "scatter3d",
           "x": [
            -0.0019000000320374966,
            0.1365935504436493
           ],
           "y": [
            0.9692999720573425,
            1.3826146125793457
           ],
           "z": [
            0.2282000035047531,
            0.1301145851612091
           ]
          },
          {
           "line": {
            "color": "black",
            "width": 2
           },
           "mode": "lines",
           "showlegend": false,
           "type": "scatter3d",
           "x": [
            0.1365935504436493,
            0.4127654433250427
           ],
           "y": [
            1.3826146125793457,
            1.3820840120315552
           ],
           "z": [
            0.1301145851612091,
            0.11665944755077362
           ]
          },
          {
           "line": {
            "color": "black",
            "width": 2
           },
           "mode": "lines",
           "showlegend": false,
           "type": "scatter3d",
           "x": [
            0.4127654433250427,
            0.6306129693984985
           ],
           "y": [
            1.3820840120315552,
            1.3583958148956299
           ],
           "z": [
            0.11665944755077362,
            0.11118490993976593
           ]
          },
          {
           "line": {
            "color": "black",
            "width": 2
           },
           "mode": "lines",
           "showlegend": false,
           "type": "scatter3d",
           "x": [
            0,
            -0.0020000000949949026
           ],
           "y": [
            0,
            0.996999979019165
           ],
           "z": [
            0,
            -0.012400000356137753
           ]
          },
          {
           "line": {
            "color": "black",
            "width": 2
           },
           "mode": "lines",
           "showlegend": false,
           "type": "scatter3d",
           "x": [
            -0.0020000000949949026,
            0.27780458331108093
           ],
           "y": [
            0.996999979019165,
            1.4500055313110352
           ],
           "z": [
            -0.012400000356137753,
            -0.1799788922071457
           ]
          },
          {
           "line": {
            "color": "black",
            "width": 2
           },
           "mode": "lines",
           "showlegend": false,
           "type": "scatter3d",
           "x": [
            0.27780458331108093,
            0.5953038930892944
           ],
           "y": [
            1.4500055313110352,
            1.3667861223220825
           ],
           "z": [
            -0.1799788922071457,
            -0.16053244471549988
           ]
          },
          {
           "line": {
            "color": "black",
            "width": 2
           },
           "mode": "lines",
           "showlegend": false,
           "type": "scatter3d",
           "x": [
            0.5953038930892944,
            0.7752874493598938
           ],
           "y": [
            1.3667861223220825,
            1.245782494544983
           ],
           "z": [
            -0.16053244471549988,
            -0.12359921634197235
           ]
          },
          {
           "line": {
            "color": "black",
            "width": 2
           },
           "mode": "lines",
           "showlegend": false,
           "type": "scatter3d",
           "x": [
            0,
            -0.04529999941587448
           ],
           "y": [
            0,
            0.9214000105857849
           ],
           "z": [
            0,
            -0.20730000734329224
           ]
          },
          {
           "line": {
            "color": "black",
            "width": 2
           },
           "mode": "lines",
           "showlegend": false,
           "type": "scatter3d",
           "x": [
            -0.04529999941587448,
            0.19860303401947021
           ],
           "y": [
            0.9214000105857849,
            1.3518034219741821
           ],
           "z": [
            -0.20730000734329224,
            -0.45510074496269226
           ]
          },
          {
           "line": {
            "color": "black",
            "width": 2
           },
           "mode": "lines",
           "showlegend": false,
           "type": "scatter3d",
           "x": [
            0.19860303401947021,
            0.5298657417297363
           ],
           "y": [
            1.3518034219741821,
            1.3432979583740234
           ],
           "z": [
            -0.45510074496269226,
            -0.42773428559303284
           ]
          },
          {
           "line": {
            "color": "black",
            "width": 2
           },
           "mode": "lines",
           "showlegend": false,
           "type": "scatter3d",
           "x": [
            0.5298657417297363,
            0.6923251152038574
           ],
           "y": [
            1.3432979583740234,
            1.220179557800293
           ],
           "z": [
            -0.42773428559303284,
            -0.3413238525390625
           ]
          },
          {
           "line": {
            "color": "black",
            "width": 2
           },
           "mode": "lines",
           "showlegend": false,
           "type": "scatter3d",
           "x": [
            0,
            -0.11640000343322754
           ],
           "y": [
            0,
            0.7821999788284302
           ],
           "z": [
            0,
            -0.3912999927997589
           ]
          },
          {
           "line": {
            "color": "black",
            "width": 2
           },
           "mode": "lines",
           "showlegend": false,
           "type": "scatter3d",
           "x": [
            -0.11640000343322754,
            0.10271681845188141
           ],
           "y": [
            0.7821999788284302,
            1.1253122091293335
           ],
           "z": [
            -0.3912999927997589,
            -0.5749120712280273
           ]
          },
          {
           "line": {
            "color": "black",
            "width": 2
           },
           "mode": "lines",
           "showlegend": false,
           "type": "scatter3d",
           "x": [
            0.10271681845188141,
            0.3308519124984741
           ],
           "y": [
            1.1253122091293335,
            1.2685458660125732
           ],
           "z": [
            -0.5749120712280273,
            -0.6682958006858826
           ]
          },
          {
           "line": {
            "color": "black",
            "width": 2
           },
           "mode": "lines",
           "showlegend": false,
           "type": "scatter3d",
           "x": [
            0.3308519124984741,
            0.4874814450740814
           ],
           "y": [
            1.2685458660125732,
            1.117795705795288
           ],
           "z": [
            -0.6682958006858826,
            -0.6185907125473022
           ]
          },
          {
           "line": {
            "color": "black",
            "width": 2
           },
           "mode": "lines",
           "showlegend": false,
           "type": "scatter3d",
           "x": [
            0.01906779408454895,
            -0.0019000000320374966
           ],
           "y": [
            0.4749121069908142,
            0.9692999720573425
           ],
           "z": [
            0.34334108233451843,
            0.2282000035047531
           ]
          },
          {
           "line": {
            "color": "black",
            "width": 2
           },
           "mode": "lines",
           "showlegend": false,
           "type": "scatter3d",
           "x": [
            -0.0019000000320374966,
            -0.0020000000949949026
           ],
           "y": [
            0.9692999720573425,
            0.996999979019165
           ],
           "z": [
            0.2282000035047531,
            -0.012400000356137753
           ]
          },
          {
           "line": {
            "color": "black",
            "width": 2
           },
           "mode": "lines",
           "showlegend": false,
           "type": "scatter3d",
           "x": [
            -0.0020000000949949026,
            -0.04529999941587448
           ],
           "y": [
            0.996999979019165,
            0.9214000105857849
           ],
           "z": [
            -0.012400000356137753,
            -0.20730000734329224
           ]
          },
          {
           "line": {
            "color": "black",
            "width": 2
           },
           "mode": "lines",
           "showlegend": false,
           "type": "scatter3d",
           "x": [
            -0.04529999941587448,
            -0.11640000343322754
           ],
           "y": [
            0.9214000105857849,
            0.7821999788284302
           ],
           "z": [
            -0.20730000734329224,
            -0.3912999927997589
           ]
          }
         ],
         "name": "3"
        },
        {
         "data": [
          {
           "marker": {
            "color": "blue",
            "size": 4
           },
           "mode": "markers+text",
           "name": "Landmarks",
           "text": [
            "0",
            "1",
            "2",
            "3",
            "4",
            "5",
            "6",
            "7",
            "8",
            "9",
            "10",
            "11",
            "12",
            "13",
            "14",
            "15",
            "16",
            "17",
            "18",
            "19"
           ],
           "textfont": {
            "color": "black",
            "size": 8
           },
           "textposition": "top center",
           "type": "scatter3d",
           "x": {
            "bdata": "AAAAAEC7njxqAis+jpsTPmwJ+bpYLBY+hpvYPkVDJD9vEgO7UA2OPtQbGD8i40Y/fow5veL8Sz66ygc/01AxPyBj7r1APNE9X/WoPl9P+T4=",
            "dtype": "f4"
           },
           "y": {
            "bdata": "AAAAAHL28j4xqUQ/tbVyPwskeD/6+a8/UjmwPxAirj9kO38/Gi+4P5Hmrj/aN6E/3+BrP0UErT+f26s/pw6cP0I+SD9TD5A/LnCiP8Uvjz8=",
            "dtype": "f4"
           },
           "z": {
            "bdata": "AAAAALLPrj4KmCE+6A8ovUOtaT4eyOg9yLjaPQGh2T1fKUu8r85UvgdIIb5b9ce9dEZUvhbO6L6/rtq+Gm6uvnlYyL5rRRO/ETsrvzN8Hr8=",
            "dtype": "f4"
           }
          },
          {
           "line": {
            "color": "black",
            "width": 2
           },
           "mode": "lines",
           "showlegend": false,
           "type": "scatter3d",
           "x": [
            0,
            0.019376397132873535
           ],
           "y": [
            0,
            0.4745364785194397
           ],
           "z": [
            0,
            0.34142833948135376
           ]
          },
          {
           "line": {
            "color": "black",
            "width": 2
           },
           "mode": "lines",
           "showlegend": false,
           "type": "scatter3d",
           "x": [
            0.019376397132873535,
            0.1670013964176178
           ],
           "y": [
            0.4745364785194397,
            0.7682066559791565
           ],
           "z": [
            0.34142833948135376,
            0.15780654549598694
           ]
          },
          {
           "line": {
            "color": "black",
            "width": 2
           },
           "mode": "lines",
           "showlegend": false,
           "type": "scatter3d",
           "x": [
            0.1670013964176178,
            0.1441480815410614
           ],
           "y": [
            0.7682066559791565,
            0.9480851292610168
           ],
           "z": [
            0.15780654549598694,
            -0.04103079438209534
           ]
          },
          {
           "line": {
            "color": "black",
            "width": 2
           },
           "mode": "lines",
           "showlegend": false,
           "type": "scatter3d",
           "x": [
            0,
            -0.0019000000320374966
           ],
           "y": [
            0,
            0.9692999720573425
           ],
           "z": [
            0,
            0.2282000035047531
           ]
          },
          {
           "line": {
            "color": "black",
            "width": 2
           },
           "mode": "lines",
           "showlegend": false,
           "type": "scatter3d",
           "x": [
            -0.0019000000320374966,
            0.14665353298187256
           ],
           "y": [
            0.9692999720573425,
            1.3748161792755127
           ],
           "z": [
            0.2282000035047531,
            0.11366294324398041
           ]
          },
          {
           "line": {
            "color": "black",
            "width": 2
           },
           "mode": "lines",
           "showlegend": false,
           "type": "scatter3d",
           "x": [
            0.14665353298187256,
            0.4230615496635437
           ],
           "y": [
            1.3748161792755127,
            1.3767492771148682
           ],
           "z": [
            0.11366294324398041,
            0.10679775476455688
           ]
          },
          {
           "line": {
            "color": "black",
            "width": 2
           },
           "mode": "lines",
           "showlegend": false,
           "type": "scatter3d",
           "x": [
            0.4230615496635437,
            0.641651451587677
           ],
           "y": [
            1.3767492771148682,
            1.3604145050048828
           ],
           "z": [
            0.10679775476455688,
            0.10626412183046341
           ]
          },
          {
           "line": {
            "color": "black",
            "width": 2
           },
           "mode": "lines",
           "showlegend": false,
           "type": "scatter3d",
           "x": [
            0,
            -0.0020000000949949026
           ],
           "y": [
            0,
            0.996999979019165
           ],
           "z": [
            0,
            -0.012400000356137753
           ]
          },
          {
           "line": {
            "color": "black",
            "width": 2
           },
           "mode": "lines",
           "showlegend": false,
           "type": "scatter3d",
           "x": [
            -0.0020000000949949026,
            0.27744531631469727
           ],
           "y": [
            0.996999979019165,
            1.4389374256134033
           ],
           "z": [
            -0.012400000356137753,
            -0.20781968533992767
           ]
          },
          {
           "line": {
            "color": "black",
            "width": 2
           },
           "mode": "lines",
           "showlegend": false,
           "type": "scatter3d",
           "x": [
            0.27744531631469727,
            0.5941746234893799
           ],
           "y": [
            1.4389374256134033,
            1.3664113283157349
           ],
           "z": [
            -0.20781968533992767,
            -0.15750132501125336
           ]
          },
          {
           "line": {
            "color": "black",
            "width": 2
           },
           "mode": "lines",
           "showlegend": false,
           "type": "scatter3d",
           "x": [
            0.5941746234893799,
            0.7769032716751099
           ],
           "y": [
            1.3664113283157349,
            1.259516954421997
           ],
           "z": [
            -0.15750132501125336,
            -0.09763594716787338
           ]
          },
          {
           "line": {
            "color": "black",
            "width": 2
           },
           "mode": "lines",
           "showlegend": false,
           "type": "scatter3d",
           "x": [
            0,
            -0.04529999941587448
           ],
           "y": [
            0,
            0.9214000105857849
           ],
           "z": [
            0,
            -0.20730000734329224
           ]
          },
          {
           "line": {
            "color": "black",
            "width": 2
           },
           "mode": "lines",
           "showlegend": false,
           "type": "scatter3d",
           "x": [
            -0.04529999941587448,
            0.1992068588733673
           ],
           "y": [
            0.9214000105857849,
            1.351692795753479
           ],
           "z": [
            -0.20730000734329224,
            -0.45469731092453003
           ]
          },
          {
           "line": {
            "color": "black",
            "width": 2
           },
           "mode": "lines",
           "showlegend": false,
           "type": "scatter3d",
           "x": [
            0.1992068588733673,
            0.5304371118545532
           ],
           "y": [
            1.351692795753479,
            1.3426398038864136
           ],
           "z": [
            -0.45469731092453003,
            -0.42711445689201355
           ]
          },
          {
           "line": {
            "color": "black",
            "width": 2
           },
           "mode": "lines",
           "showlegend": false,
           "type": "scatter3d",
           "x": [
            0.5304371118545532,
            0.6926395297050476
           ],
           "y": [
            1.3426398038864136,
            1.219197154045105
           ],
           "z": [
            -0.42711445689201355,
            -0.3406837582588196
           ]
          },
          {
           "line": {
            "color": "black",
            "width": 2
           },
           "mode": "lines",
           "showlegend": false,
           "type": "scatter3d",
           "x": [
            0,
            -0.11640000343322754
           ],
           "y": [
            0,
            0.7821999788284302
           ],
           "z": [
            0,
            -0.3912999927997589
           ]
          },
          {
           "line": {
            "color": "black",
            "width": 2
           },
           "mode": "lines",
           "showlegend": false,
           "type": "scatter3d",
           "x": [
            -0.11640000343322754,
            0.10216569900512695
           ],
           "y": [
            0.7821999788284302,
            1.1254676580429077
           ],
           "z": [
            -0.3912999927997589,
            -0.5752779841423035
           ]
          },
          {
           "line": {
            "color": "black",
            "width": 2
           },
           "mode": "lines",
           "showlegend": false,
           "type": "scatter3d",
           "x": [
            0.10216569900512695,
            0.3299970328807831
           ],
           "y": [
            1.1254676580429077,
            1.2690484523773193
           ],
           "z": [
            -0.5752779841423035,
            -0.6688700318336487
           ]
          },
          {
           "line": {
            "color": "black",
            "width": 2
           },
           "mode": "lines",
           "showlegend": false,
           "type": "scatter3d",
           "x": [
            0.3299970328807831,
            0.4869336783885956
           ],
           "y": [
            1.2690484523773193,
            1.1186453104019165
           ],
           "z": [
            -0.6688700318336487,
            -0.6190826296806335
           ]
          },
          {
           "line": {
            "color": "black",
            "width": 2
           },
           "mode": "lines",
           "showlegend": false,
           "type": "scatter3d",
           "x": [
            0.019376397132873535,
            -0.0019000000320374966
           ],
           "y": [
            0.4745364785194397,
            0.9692999720573425
           ],
           "z": [
            0.34142833948135376,
            0.2282000035047531
           ]
          },
          {
           "line": {
            "color": "black",
            "width": 2
           },
           "mode": "lines",
           "showlegend": false,
           "type": "scatter3d",
           "x": [
            -0.0019000000320374966,
            -0.0020000000949949026
           ],
           "y": [
            0.9692999720573425,
            0.996999979019165
           ],
           "z": [
            0.2282000035047531,
            -0.012400000356137753
           ]
          },
          {
           "line": {
            "color": "black",
            "width": 2
           },
           "mode": "lines",
           "showlegend": false,
           "type": "scatter3d",
           "x": [
            -0.0020000000949949026,
            -0.04529999941587448
           ],
           "y": [
            0.996999979019165,
            0.9214000105857849
           ],
           "z": [
            -0.012400000356137753,
            -0.20730000734329224
           ]
          },
          {
           "line": {
            "color": "black",
            "width": 2
           },
           "mode": "lines",
           "showlegend": false,
           "type": "scatter3d",
           "x": [
            -0.04529999941587448,
            -0.11640000343322754
           ],
           "y": [
            0.9214000105857849,
            0.7821999788284302
           ],
           "z": [
            -0.20730000734329224,
            -0.3912999927997589
           ]
          }
         ],
         "name": "4"
        },
        {
         "data": [
          {
           "marker": {
            "color": "blue",
            "size": 4
           },
           "mode": "markers+text",
           "name": "Landmarks",
           "text": [
            "0",
            "1",
            "2",
            "3",
            "4",
            "5",
            "6",
            "7",
            "8",
            "9",
            "10",
            "11",
            "12",
            "13",
            "14",
            "15",
            "16",
            "17",
            "18",
            "19"
           ],
           "textfont": {
            "color": "black",
            "size": 8
           },
           "textposition": "top center",
           "type": "scatter3d",
           "x": {
            "bdata": "AAAAALA1lTwzrCs+H0gdPmwJ+bpimhE+1EnWPqL7Ij9vEgO7+6eNPtj8Fz+7w0Y/fow5vf6TSz7bsQc/YUQxPyBj7r0od9E9pBOpPg5e+T4=",
            "dtype": "f4"
           },
           "y": {
            "bdata": "AAAAAPGp8z5CukU/XiR1PwskeD9QarA/i9mvP0kUrT9kO38/3Ve4P1MFrz/QOKE/3+BrP54DrT+B6as/GyacP0I+SD9+D5A//GuiPwgnjz8=",
            "dtype": "f4"
           },
           "z": {
            "bdata": "AAAAAEDxsT6IDy4+SJzKvEOtaT55d/Y97JDlPQCX4T1fKUu8mwtTvij3Ib4yrMy9dEZUvlwG6b7p9Nq+XKyuvnlYyL4JPBO/Iywrvy5wHr8=",
            "dtype": "f4"
           }
          },
          {
           "line": {
            "color": "black",
            "width": 2
           },
           "mode": "lines",
           "showlegend": false,
           "type": "scatter3d",
           "x": [
            0,
            0.01821407675743103
           ],
           "y": [
            0,
            0.4759059250354767
           ],
           "z": [
            0,
            0.34754371643066406
           ]
          },
          {
           "line": {
            "color": "black",
            "width": 2
           },
           "mode": "lines",
           "showlegend": false,
           "type": "scatter3d",
           "x": [
            0.01821407675743103,
            0.1676490753889084
           ],
           "y": [
            0.4759059250354767,
            0.7723733186721802
           ],
           "z": [
            0.34754371643066406,
            0.16998112201690674
           ]
          },
          {
           "line": {
            "color": "black",
            "width": 2
           },
           "mode": "lines",
           "showlegend": false,
           "type": "scatter3d",
           "x": [
            0.1676490753889084,
            0.153595432639122
           ],
           "y": [
            0.7723733186721802,
            0.9575861692428589
           ],
           "z": [
            0.16998112201690674,
            -0.024732723832130432
           ]
          },
          {
           "line": {
            "color": "black",
            "width": 2
           },
           "mode": "lines",
           "showlegend": false,
           "type": "scatter3d",
           "x": [
            0,
            -0.0019000000320374966
           ],
           "y": [
            0,
            0.9692999720573425
           ],
           "z": [
            0,
            0.2282000035047531
           ]
          },
          {
           "line": {
            "color": "black",
            "width": 2
           },
           "mode": "lines",
           "showlegend": false,
           "type": "scatter3d",
           "x": [
            -0.0019000000320374966,
            0.14219048619270325
           ],
           "y": [
            0.9692999720573425,
            1.378244400024414
           ],
           "z": [
            0.2282000035047531,
            0.12034506350755692
           ]
          },
          {
           "line": {
            "color": "black",
            "width": 2
           },
           "mode": "lines",
           "showlegend": false,
           "type": "scatter3d",
           "x": [
            0.14219048619270325,
            0.41853201389312744
           ],
           "y": [
            1.378244400024414,
            1.3738263845443726
           ],
           "z": [
            0.12034506350755692,
            0.11209282279014587
           ]
          },
          {
           "line": {
            "color": "black",
            "width": 2
           },
           "mode": "lines",
           "showlegend": false,
           "type": "scatter3d",
           "x": [
            0.41853201389312744,
            0.6366521120071411
           ],
           "y": [
            1.3738263845443726,
            1.3521815538406372
           ],
           "z": [
            0.11209282279014587,
            0.11015129089355469
           ]
          },
          {
           "line": {
            "color": "black",
            "width": 2
           },
           "mode": "lines",
           "showlegend": false,
           "type": "scatter3d",
           "x": [
            0,
            -0.0020000000949949026
           ],
           "y": [
            0,
            0.996999979019165
           ],
           "z": [
            0,
            -0.012400000356137753
           ]
          },
          {
           "line": {
            "color": "black",
            "width": 2
           },
           "mode": "lines",
           "showlegend": false,
           "type": "scatter3d",
           "x": [
            -0.0020000000949949026,
            0.27667221426963806
           ],
           "y": [
            0.996999979019165,
            1.4401813745498657
           ],
           "z": [
            -0.012400000356137753,
            -0.20609895884990692
           ]
          },
          {
           "line": {
            "color": "black",
            "width": 2
           },
           "mode": "lines",
           "showlegend": false,
           "type": "scatter3d",
           "x": [
            0.27667221426963806,
            0.5937018394470215
           ],
           "y": [
            1.4401813745498657,
            1.3673499822616577
           ],
           "z": [
            -0.20609895884990692,
            -0.15816938877105713
           ]
          },
          {
           "line": {
            "color": "black",
            "width": 2
           },
           "mode": "lines",
           "showlegend": false,
           "type": "scatter3d",
           "x": [
            0.5937018394470215,
            0.7764241099357605
           ],
           "y": [
            1.3673499822616577,
            1.2595462799072266
           ],
           "z": [
            -0.15816938877105713,
            -0.0999378114938736
           ]
          },
          {
           "line": {
            "color": "black",
            "width": 2
           },
           "mode": "lines",
           "showlegend": false,
           "type": "scatter3d",
           "x": [
            0,
            -0.04529999941587448
           ],
           "y": [
            0,
            0.9214000105857849
           ],
           "z": [
            0,
            -0.20730000734329224
           ]
          },
          {
           "line": {
            "color": "black",
            "width": 2
           },
           "mode": "lines",
           "showlegend": false,
           "type": "scatter3d",
           "x": [
            -0.04529999941587448,
            0.1988067328929901
           ],
           "y": [
            0.9214000105857849,
            1.351672887802124
           ],
           "z": [
            -0.20730000734329224,
            -0.45512664318084717
           ]
          },
          {
           "line": {
            "color": "black",
            "width": 2
           },
           "mode": "lines",
           "showlegend": false,
           "type": "scatter3d",
           "x": [
            0.1988067328929901,
            0.5300576090812683
           ],
           "y": [
            1.351672887802124,
            1.343063473701477
           ],
           "z": [
            -0.45512664318084717,
            -0.42764976620674133
           ]
          },
          {
           "line": {
            "color": "black",
            "width": 2
           },
           "mode": "lines",
           "showlegend": false,
           "type": "scatter3d",
           "x": [
            0.5300576090812683,
            0.6924496293067932
           ],
           "y": [
            1.343063473701477,
            1.2199128866195679
           ],
           "z": [
            -0.42764976620674133,
            -0.34115874767303467
           ]
          },
          {
           "line": {
            "color": "black",
            "width": 2
           },
           "mode": "lines",
           "showlegend": false,
           "type": "scatter3d",
           "x": [
            0,
            -0.11640000343322754
           ],
           "y": [
            0,
            0.7821999788284302
           ],
           "z": [
            0,
            -0.3912999927997589
           ]
          },
          {
           "line": {
            "color": "black",
            "width": 2
           },
           "mode": "lines",
           "showlegend": false,
           "type": "scatter3d",
           "x": [
            -0.11640000343322754,
            0.10227805376052856
           ],
           "y": [
            0.7821999788284302,
            1.1254727840423584
           ],
           "z": [
            -0.3912999927997589,
            -0.575134813785553
           ]
          },
          {
           "line": {
            "color": "black",
            "width": 2
           },
           "mode": "lines",
           "showlegend": false,
           "type": "scatter3d",
           "x": [
            0.10227805376052856,
            0.33022797107696533
           ],
           "y": [
            1.1254727840423584,
            1.2689204216003418
           ],
           "z": [
            -0.575134813785553,
            -0.6686422228813171
           ]
          },
          {
           "line": {
            "color": "black",
            "width": 2
           },
           "mode": "lines",
           "showlegend": false,
           "type": "scatter3d",
           "x": [
            0.33022797107696533,
            0.4870457053184509
           ],
           "y": [
            1.2689204216003418,
            1.1183786392211914
           ],
           "z": [
            -0.6686422228813171,
            -0.6188992261886597
           ]
          },
          {
           "line": {
            "color": "black",
            "width": 2
           },
           "mode": "lines",
           "showlegend": false,
           "type": "scatter3d",
           "x": [
            0.01821407675743103,
            -0.0019000000320374966
           ],
           "y": [
            0.4759059250354767,
            0.9692999720573425
           ],
           "z": [
            0.34754371643066406,
            0.2282000035047531
           ]
          },
          {
           "line": {
            "color": "black",
            "width": 2
           },
           "mode": "lines",
           "showlegend": false,
           "type": "scatter3d",
           "x": [
            -0.0019000000320374966,
            -0.0020000000949949026
           ],
           "y": [
            0.9692999720573425,
            0.996999979019165
           ],
           "z": [
            0.2282000035047531,
            -0.012400000356137753
           ]
          },
          {
           "line": {
            "color": "black",
            "width": 2
           },
           "mode": "lines",
           "showlegend": false,
           "type": "scatter3d",
           "x": [
            -0.0020000000949949026,
            -0.04529999941587448
           ],
           "y": [
            0.996999979019165,
            0.9214000105857849
           ],
           "z": [
            -0.012400000356137753,
            -0.20730000734329224
           ]
          },
          {
           "line": {
            "color": "black",
            "width": 2
           },
           "mode": "lines",
           "showlegend": false,
           "type": "scatter3d",
           "x": [
            -0.04529999941587448,
            -0.11640000343322754
           ],
           "y": [
            0.9214000105857849,
            0.7821999788284302
           ],
           "z": [
            -0.20730000734329224,
            -0.3912999927997589
           ]
          }
         ],
         "name": "5"
        },
        {
         "data": [
          {
           "marker": {
            "color": "blue",
            "size": 4
           },
           "mode": "markers+text",
           "name": "Landmarks",
           "text": [
            "0",
            "1",
            "2",
            "3",
            "4",
            "5",
            "6",
            "7",
            "8",
            "9",
            "10",
            "11",
            "12",
            "13",
            "14",
            "15",
            "16",
            "17",
            "18",
            "19"
           ],
           "textfont": {
            "color": "black",
            "size": 8
           },
           "textposition": "top center",
           "type": "scatter3d",
           "x": {
            "bdata": "AAAAAMByrjxhbTc+BrotPmwJ+brHWik+gA/iPoXOKD9vEgO7RXyfPukgHz9Kmks/fow5vVZrSz5iqAc/Gj8xPyBj7r1kgtI9FnupPoCg+T4=",
            "dtype": "f4"
           },
           "y": {
            "bdata": "AAAAAASL8T7D/kM/4ppzPwskeD94rq8/ikyvPyJVrD9kO38/nL24P/Fwqz9nMJo/3+BrPwwHrT8E8Ks/tS2cP0I+SD+WC5A/012iP/8Njz8=",
            "dtype": "f4"
           },
           "z": {
            "bdata": "AAAAAIrEsT5qtTA+KLuxvEOtaT4ILQg+RRb0Pajt5j1fKUu82nIGvjIxKb72nzC+dEZUvpQC6b75/dq+8r6uvnlYyL7OIhO/oQUrv0xRHr8=",
            "dtype": "f4"
           }
          },
          {
           "line": {
            "color": "black",
            "width": 2
           },
           "mode": "lines",
           "showlegend": false,
           "type": "scatter3d",
           "x": [
            0,
            0.02129495143890381
           ],
           "y": [
            0,
            0.4717637300491333
           ],
           "z": [
            0,
            0.3472025990486145
           ]
          },
          {
           "line": {
            "color": "black",
            "width": 2
           },
           "mode": "lines",
           "showlegend": false,
           "type": "scatter3d",
           "x": [
            0.02129495143890381,
            0.17912818491458893
           ],
           "y": [
            0.4717637300491333,
            0.7656061053276062
           ],
           "z": [
            0.3472025990486145,
            0.17256703972816467
           ]
          },
          {
           "line": {
            "color": "black",
            "width": 2
           },
           "mode": "lines",
           "showlegend": false,
           "type": "scatter3d",
           "x": [
            0.17912818491458893,
            0.1696549355983734
           ],
           "y": [
            0.7656061053276062,
            0.9515820741653442
           ],
           "z": [
            0.17256703972816467,
            -0.021695688366889954
           ]
          },
          {
           "line": {
            "color": "black",
            "width": 2
           },
           "mode": "lines",
           "showlegend": false,
           "type": "scatter3d",
           "x": [
            0,
            -0.0019000000320374966
           ],
           "y": [
            0,
            0.9692999720573425
           ],
           "z": [
            0,
            0.2282000035047531
           ]
          },
          {
           "line": {
            "color": "black",
            "width": 2
           },
           "mode": "lines",
           "showlegend": false,
           "type": "scatter3d",
           "x": [
            -0.0019000000320374966,
            0.16538535058498383
           ],
           "y": [
            0.9692999720573425,
            1.372511863708496
           ],
           "z": [
            0.2282000035047531,
            0.13298428058624268
           ]
          },
          {
           "line": {
            "color": "black",
            "width": 2
           },
           "mode": "lines",
           "showlegend": false,
           "type": "scatter3d",
           "x": [
            0.16538535058498383,
            0.4415245056152344
           ],
           "y": [
            1.372511863708496,
            1.369523286819458
           ],
           "z": [
            0.13298428058624268,
            0.11918310075998306
           ]
          },
          {
           "line": {
            "color": "black",
            "width": 2
           },
           "mode": "lines",
           "showlegend": false,
           "type": "scatter3d",
           "x": [
            0.4415245056152344,
            0.6594012379646301
           ],
           "y": [
            1.369523286819458,
            1.3463480472564697
           ],
           "z": [
            0.11918310075998306,
            0.11275798082351685
           ]
          },
          {
           "line": {
            "color": "black",
            "width": 2
           },
           "mode": "lines",
           "showlegend": false,
           "type": "scatter3d",
           "x": [
            0,
            -0.0020000000949949026
           ],
           "y": [
            0,
            0.996999979019165
           ],
           "z": [
            0,
            -0.012400000356137753
           ]
          },
          {
           "line": {
            "color": "black",
            "width": 2
           },
           "mode": "lines",
           "showlegend": false,
           "type": "scatter3d",
           "x": [
            -0.0020000000949949026,
            0.31149497628211975
           ],
           "y": [
            0.996999979019165,
            1.443286418914795
           ],
           "z": [
            -0.012400000356137753,
            -0.1312974989414215
           ]
          },
          {
           "line": {
            "color": "black",
            "width": 2
           },
           "mode": "lines",
           "showlegend": false,
           "type": "scatter3d",
           "x": [
            0.31149497628211975,
            0.6215959191322327
           ],
           "y": [
            1.443286418914795,
            1.3393841981887817
           ],
           "z": [
            -0.1312974989414215,
            -0.16522672772407532
           ]
          },
          {
           "line": {
            "color": "black",
            "width": 2
           },
           "mode": "lines",
           "showlegend": false,
           "type": "scatter3d",
           "x": [
            0.6215959191322327,
            0.7953230142593384
           ],
           "y": [
            1.3393841981887817,
            1.2046021223068237
           ],
           "z": [
            -0.16522672772407532,
            -0.17248520255088806
           ]
          },
          {
           "line": {
            "color": "black",
            "width": 2
           },
           "mode": "lines",
           "showlegend": false,
           "type": "scatter3d",
           "x": [
            0,
            -0.04529999941587448
           ],
           "y": [
            0,
            0.9214000105857849
           ],
           "z": [
            0,
            -0.20730000734329224
           ]
          },
          {
           "line": {
            "color": "black",
            "width": 2
           },
           "mode": "lines",
           "showlegend": false,
           "type": "scatter3d",
           "x": [
            -0.04529999941587448,
            0.19865164160728455
           ],
           "y": [
            0.9214000105857849,
            1.3517775535583496
           ],
           "z": [
            -0.20730000734329224,
            -0.4550977945327759
           ]
          },
          {
           "line": {
            "color": "black",
            "width": 2
           },
           "mode": "lines",
           "showlegend": false,
           "type": "scatter3d",
           "x": [
            0.19865164160728455,
            0.529913067817688
           ],
           "y": [
            1.3517775535583496,
            1.3432621955871582
           ],
           "z": [
            -0.4550977945327759,
            -0.4277189075946808
           ]
          },
          {
           "line": {
            "color": "black",
            "width": 2
           },
           "mode": "lines",
           "showlegend": false,
           "type": "scatter3d",
           "x": [
            0.529913067817688,
            0.6923691034317017
           ],
           "y": [
            1.3432621955871582,
            1.2201448678970337
           ],
           "z": [
            -0.4277189075946808,
            -0.3413005471229553
           ]
          },
          {
           "line": {
            "color": "black",
            "width": 2
           },
           "mode": "lines",
           "showlegend": false,
           "type": "scatter3d",
           "x": [
            0,
            -0.11640000343322754
           ],
           "y": [
            0,
            0.7821999788284302
           ],
           "z": [
            0,
            -0.3912999927997589
           ]
          },
          {
           "line": {
            "color": "black",
            "width": 2
           },
           "mode": "lines",
           "showlegend": false,
           "type": "scatter3d",
           "x": [
            -0.11640000343322754,
            0.10278776288032532
           ],
           "y": [
            0.7821999788284302,
            1.1253535747528076
           ],
           "z": [
            -0.3912999927997589,
            -0.5747498273849487
           ]
          },
          {
           "line": {
            "color": "black",
            "width": 2
           },
           "mode": "lines",
           "showlegend": false,
           "type": "scatter3d",
           "x": [
            0.10278776288032532,
            0.3310171961784363
           ],
           "y": [
            1.1253535747528076,
            1.2684882879257202
           ],
           "z": [
            -0.5747498273849487,
            -0.6680546402931213
           ]
          },
          {
           "line": {
            "color": "black",
            "width": 2
           },
           "mode": "lines",
           "showlegend": false,
           "type": "scatter3d",
           "x": [
            0.3310171961784363,
            0.4875526428222656
           ],
           "y": [
            1.2684882879257202,
            1.1176146268844604
           ],
           "z": [
            -0.6680546402931213,
            -0.6184279918670654
           ]
          },
          {
           "line": {
            "color": "black",
            "width": 2
           },
           "mode": "lines",
           "showlegend": false,
           "type": "scatter3d",
           "x": [
            0.02129495143890381,
            -0.0019000000320374966
           ],
           "y": [
            0.4717637300491333,
            0.9692999720573425
           ],
           "z": [
            0.3472025990486145,
            0.2282000035047531
           ]
          },
          {
           "line": {
            "color": "black",
            "width": 2
           },
           "mode": "lines",
           "showlegend": false,
           "type": "scatter3d",
           "x": [
            -0.0019000000320374966,
            -0.0020000000949949026
           ],
           "y": [
            0.9692999720573425,
            0.996999979019165
           ],
           "z": [
            0.2282000035047531,
            -0.012400000356137753
           ]
          },
          {
           "line": {
            "color": "black",
            "width": 2
           },
           "mode": "lines",
           "showlegend": false,
           "type": "scatter3d",
           "x": [
            -0.0020000000949949026,
            -0.04529999941587448
           ],
           "y": [
            0.996999979019165,
            0.9214000105857849
           ],
           "z": [
            -0.012400000356137753,
            -0.20730000734329224
           ]
          },
          {
           "line": {
            "color": "black",
            "width": 2
           },
           "mode": "lines",
           "showlegend": false,
           "type": "scatter3d",
           "x": [
            -0.04529999941587448,
            -0.11640000343322754
           ],
           "y": [
            0.9214000105857849,
            0.7821999788284302
           ],
           "z": [
            -0.20730000734329224,
            -0.3912999927997589
           ]
          }
         ],
         "name": "6"
        },
        {
         "data": [
          {
           "marker": {
            "color": "blue",
            "size": 4
           },
           "mode": "markers+text",
           "name": "Landmarks",
           "text": [
            "0",
            "1",
            "2",
            "3",
            "4",
            "5",
            "6",
            "7",
            "8",
            "9",
            "10",
            "11",
            "12",
            "13",
            "14",
            "15",
            "16",
            "17",
            "18",
            "19"
           ],
           "textfont": {
            "color": "black",
            "size": 8
           },
           "textposition": "top center",
           "type": "scatter3d",
           "x": {
            "bdata": "AAAAADCyqDyx9jc+0uMyPmwJ+bpbgig+co3hPn9VKD9vEgO7n0ugPnaBHz8g50s/fow5vdCVSz6Hsgc/lEUxPyBj7r205dE9VECpPnp5+T4=",
            "dtype": "f4"
           },
           "y": {
            "bdata": "AAAAAALt8T6xn0Q/CPN0PwskeD8A6q8/+bOvP1Tjqz9kO38/XJi4P1NAqz/r8pk/3+BrP4oFrT/S6qs/aCacP0I+SD9VDpA/G2aiP/4bjz8=",
            "dtype": "f4"
           },
           "z": {
            "bdata": "AAAAAEHOsz487Dg+AFU2vEOtaT7g0A4+VNX6PezA6j1fKUu80YcGvp8zKb7phTC+dEZUviD46L6m7Nq+2quuvnlYyL7tLxO/tRkrv8ZhHr8=",
            "dtype": "f4"
           }
          },
          {
           "line": {
            "color": "black",
            "width": 2
           },
           "mode": "lines",
           "showlegend": false,
           "type": "scatter3d",
           "x": [
            0,
            0.02059277892112732
           ],
           "y": [
            0,
            0.472511351108551
           ],
           "z": [
            0,
            0.3511829674243927
           ]
          },
          {
           "line": {
            "color": "black",
            "width": 2
           },
           "mode": "lines",
           "showlegend": false,
           "type": "scatter3d",
           "x": [
            0.02059277892112732,
            0.17965199053287506
           ],
           "y": [
            0.472511351108551,
            0.7680616974830627
           ],
           "z": [
            0.3511829674243927,
            0.18058866262435913
           ]
          },
          {
           "line": {
            "color": "black",
            "width": 2
           },
           "mode": "lines",
           "showlegend": false,
           "type": "scatter3d",
           "x": [
            0.17965199053287506,
            0.17469719052314758
           ],
           "y": [
            0.7680616974830627,
            0.9568333625793457
           ],
           "z": [
            0.18058866262435913,
            -0.011128664016723633
           ]
          },
          {
           "line": {
            "color": "black",
            "width": 2
           },
           "mode": "lines",
           "showlegend": false,
           "type": "scatter3d",
           "x": [
            0,
            -0.0019000000320374966
           ],
           "y": [
            0,
            0.9692999720573425
           ],
           "z": [
            0,
            0.2282000035047531
           ]
          },
          {
           "line": {
            "color": "black",
            "width": 2
           },
           "mode": "lines",
           "showlegend": false,
           "type": "scatter3d",
           "x": [
            -0.0019000000320374966,
            0.1645597666501999
           ],
           "y": [
            0.9692999720573425,
            1.37432861328125
           ],
           "z": [
            0.2282000035047531,
            0.13946866989135742
           ]
          },
          {
           "line": {
            "color": "black",
            "width": 2
           },
           "mode": "lines",
           "showlegend": false,
           "type": "scatter3d",
           "x": [
            0.1645597666501999,
            0.44053226709365845
           ],
           "y": [
            1.37432861328125,
            1.3726798295974731
           ],
           "z": [
            0.13946866989135742,
            0.1224772036075592
           ]
          },
          {
           "line": {
            "color": "black",
            "width": 2
           },
           "mode": "lines",
           "showlegend": false,
           "type": "scatter3d",
           "x": [
            0.44053226709365845,
            0.657554566860199
           ],
           "y": [
            1.3726798295974731,
            1.3428750038146973
           ],
           "z": [
            0.1224772036075592,
            0.11462578177452087
           ]
          },
          {
           "line": {
            "color": "black",
            "width": 2
           },
           "mode": "lines",
           "showlegend": false,
           "type": "scatter3d",
           "x": [
            0,
            -0.0020000000949949026
           ],
           "y": [
            0,
            0.996999979019165
           ],
           "z": [
            0,
            -0.012400000356137753
           ]
          },
          {
           "line": {
            "color": "black",
            "width": 2
           },
           "mode": "lines",
           "showlegend": false,
           "type": "scatter3d",
           "x": [
            -0.0020000000949949026,
            0.3130769431591034
           ],
           "y": [
            0.996999979019165,
            1.4421496391296387
           ],
           "z": [
            -0.012400000356137753,
            -0.1313774734735489
           ]
          },
          {
           "line": {
            "color": "black",
            "width": 2
           },
           "mode": "lines",
           "showlegend": false,
           "type": "scatter3d",
           "x": [
            0.3130769431591034,
            0.623069167137146
           ],
           "y": [
            1.4421496391296387,
            1.3379005193710327
           ],
           "z": [
            -0.1313774734735489,
            -0.1652359813451767
           ]
          },
          {
           "line": {
            "color": "black",
            "width": 2
           },
           "mode": "lines",
           "showlegend": false,
           "type": "scatter3d",
           "x": [
            0.623069167137146,
            0.7964954376220703
           ],
           "y": [
            1.3379005193710327,
            1.2027257680892944
           ],
           "z": [
            -0.1652359813451767,
            -0.1723858267068863
           ]
          },
          {
           "line": {
            "color": "black",
            "width": 2
           },
           "mode": "lines",
           "showlegend": false,
           "type": "scatter3d",
           "x": [
            0,
            -0.04529999941587448
           ],
           "y": [
            0,
            0.9214000105857849
           ],
           "z": [
            0,
            -0.20730000734329224
           ]
          },
          {
           "line": {
            "color": "black",
            "width": 2
           },
           "mode": "lines",
           "showlegend": false,
           "type": "scatter3d",
           "x": [
            -0.04529999941587448,
            0.19881367683410645
           ],
           "y": [
            0.9214000105857849,
            1.351731538772583
           ],
           "z": [
            -0.20730000734329224,
            -0.4550180435180664
           ]
          },
          {
           "line": {
            "color": "black",
            "width": 2
           },
           "mode": "lines",
           "showlegend": false,
           "type": "scatter3d",
           "x": [
            0.19881367683410645,
            0.5300678610801697
           ],
           "y": [
            1.351731538772583,
            1.3431036472320557
           ],
           "z": [
            -0.4550180435180664,
            -0.42758673429489136
           ]
          },
          {
           "line": {
            "color": "black",
            "width": 2
           },
           "mode": "lines",
           "showlegend": false,
           "type": "scatter3d",
           "x": [
            0.5300678610801697,
            0.6924679279327393
           ],
           "y": [
            1.3431036472320557,
            1.2199220657348633
           ],
           "z": [
            -0.42758673429489136,
            -0.34115487337112427
           ]
          },
          {
           "line": {
            "color": "black",
            "width": 2
           },
           "mode": "lines",
           "showlegend": false,
           "type": "scatter3d",
           "x": [
            0,
            -0.11640000343322754
           ],
           "y": [
            0,
            0.7821999788284302
           ],
           "z": [
            0,
            -0.3912999927997589
           ]
          },
          {
           "line": {
            "color": "black",
            "width": 2
           },
           "mode": "lines",
           "showlegend": false,
           "type": "scatter3d",
           "x": [
            -0.11640000343322754,
            0.10248890519142151
           ],
           "y": [
            0.7821999788284302,
            1.1254373788833618
           ],
           "z": [
            -0.3912999927997589,
            -0.5749500393867493
           ]
          },
          {
           "line": {
            "color": "black",
            "width": 2
           },
           "mode": "lines",
           "showlegend": false,
           "type": "scatter3d",
           "x": [
            0.10248890519142151,
            0.33056890964508057
           ],
           "y": [
            1.1254373788833618,
            1.2687410116195679
           ],
           "z": [
            -0.5749500393867493,
            -0.6683610081672668
           ]
          },
          {
           "line": {
            "color": "black",
            "width": 2
           },
           "mode": "lines",
           "showlegend": false,
           "type": "scatter3d",
           "x": [
            0.33056890964508057,
            0.48725491762161255
           ],
           "y": [
            1.2687410116195679,
            1.118041753768921
           ],
           "z": [
            -0.6683610081672668,
            -0.618679404258728
           ]
          },
          {
           "line": {
            "color": "black",
            "width": 2
           },
           "mode": "lines",
           "showlegend": false,
           "type": "scatter3d",
           "x": [
            0.02059277892112732,
            -0.0019000000320374966
           ],
           "y": [
            0.472511351108551,
            0.9692999720573425
           ],
           "z": [
            0.3511829674243927,
            0.2282000035047531
           ]
          },
          {
           "line": {
            "color": "black",
            "width": 2
           },
           "mode": "lines",
           "showlegend": false,
           "type": "scatter3d",
           "x": [
            -0.0019000000320374966,
            -0.0020000000949949026
           ],
           "y": [
            0.9692999720573425,
            0.996999979019165
           ],
           "z": [
            0.2282000035047531,
            -0.012400000356137753
           ]
          },
          {
           "line": {
            "color": "black",
            "width": 2
           },
           "mode": "lines",
           "showlegend": false,
           "type": "scatter3d",
           "x": [
            -0.0020000000949949026,
            -0.04529999941587448
           ],
           "y": [
            0.996999979019165,
            0.9214000105857849
           ],
           "z": [
            -0.012400000356137753,
            -0.20730000734329224
           ]
          },
          {
           "line": {
            "color": "black",
            "width": 2
           },
           "mode": "lines",
           "showlegend": false,
           "type": "scatter3d",
           "x": [
            -0.04529999941587448,
            -0.11640000343322754
           ],
           "y": [
            0.9214000105857849,
            0.7821999788284302
           ],
           "z": [
            -0.20730000734329224,
            -0.3912999927997589
           ]
          }
         ],
         "name": "7"
        },
        {
         "data": [
          {
           "marker": {
            "color": "blue",
            "size": 4
           },
           "mode": "markers+text",
           "name": "Landmarks",
           "text": [
            "0",
            "1",
            "2",
            "3",
            "4",
            "5",
            "6",
            "7",
            "8",
            "9",
            "10",
            "11",
            "12",
            "13",
            "14",
            "15",
            "16",
            "17",
            "18",
            "19"
           ],
           "textfont": {
            "color": "black",
            "size": 8
           },
           "textposition": "top center",
           "type": "scatter3d",
           "x": {
            "bdata": "AAAAANAYsDwH9zY+5aguPmwJ+bp3Cik+6PLhPqC5KD9vEgO74v+fPm1gHz9Pz0s/fow5vVJeSz5IpQc/5z0xPyBj7r00rNI9RoqpPi+r+T4=",
            "dtype": "f4"
           },
           "y": {
            "bdata": "AAAAAJVu8T6tyUM/LnVzPwskeD9Jj68/InCvP1hKrD9kO38//6W4P6tVqz9FDpo/3+BrP5IGrT+n8as/9DCcP0I+SD9ECpA/BVuiPyMKjz8=",
            "dtype": "f4"
           },
           "z": {
            "bdata": "AAAAAAoDsT6hlC0++GrJvEOtaT5EnAM+RCjuPfyU5T1fKUu8MoAGvpE4Kb4pmDC+dEZUvkoM6b64CNu+sMeuvnlYyL6CIRO/GAMrvxVOHr8=",
            "dtype": "f4"
           }
          },
          {
           "line": {
            "color": "black",
            "width": 2
           },
           "mode": "lines",
           "showlegend": false,
           "type": "scatter3d",
           "x": [
            0,
            0.021496206521987915
           ],
           "y": [
            0,
            0.47154679894447327
           ],
           "z": [
            0,
            0.3457263112068176
           ]
          },
          {
           "line": {
            "color": "black",
            "width": 2
           },
           "mode": "lines",
           "showlegend": false,
           "type": "scatter3d",
           "x": [
            0.021496206521987915,
            0.17867670953273773
           ],
           "y": [
            0.47154679894447327,
            0.7647960782051086
           ],
           "z": [
            0.3457263112068176,
            0.1695122867822647
           ]
          },
          {
           "line": {
            "color": "black",
            "width": 2
           },
           "mode": "lines",
           "showlegend": false,
           "type": "scatter3d",
           "x": [
            0.17867670953273773,
            0.1705661565065384
           ],
           "y": [
            0.7647960782051086,
            0.9510067701339722
           ],
           "z": [
            0.1695122867822647,
            -0.02458713948726654
           ]
          },
          {
           "line": {
            "color": "black",
            "width": 2
           },
           "mode": "lines",
           "showlegend": false,
           "type": "scatter3d",
           "x": [
            0,
            -0.0019000000320374966
           ],
           "y": [
            0,
            0.9692999720573425
           ],
           "z": [
            0,
            0.2282000035047531
           ]
          },
          {
           "line": {
            "color": "black",
            "width": 2
           },
           "mode": "lines",
           "showlegend": false,
           "type": "scatter3d",
           "x": [
            -0.0019000000320374966,
            0.16507898271083832
           ],
           "y": [
            0.9692999720573425,
            1.3715602159500122
           ],
           "z": [
            0.2282000035047531,
            0.12852579355239868
           ]
          },
          {
           "line": {
            "color": "black",
            "width": 2
           },
           "mode": "lines",
           "showlegend": false,
           "type": "scatter3d",
           "x": [
            0.16507898271083832,
            0.44130635261535645
           ],
           "y": [
            1.3715602159500122,
            1.3706095218658447
           ],
           "z": [
            0.12852579355239868,
            0.11628773808479309
           ]
          },
          {
           "line": {
            "color": "black",
            "width": 2
           },
           "mode": "lines",
           "showlegend": false,
           "type": "scatter3d",
           "x": [
            0.44130635261535645,
            0.6590824127197266
           ],
           "y": [
            1.3706095218658447,
            1.3460187911987305
           ],
           "z": [
            0.11628773808479309,
            0.11210057139396667
           ]
          },
          {
           "line": {
            "color": "black",
            "width": 2
           },
           "mode": "lines",
           "showlegend": false,
           "type": "scatter3d",
           "x": [
            0,
            -0.0020000000949949026
           ],
           "y": [
            0,
            0.996999979019165
           ],
           "z": [
            0,
            -0.012400000356137753
           ]
          },
          {
           "line": {
            "color": "black",
            "width": 2
           },
           "mode": "lines",
           "showlegend": false,
           "type": "scatter3d",
           "x": [
            -0.0020000000949949026,
            0.31249910593032837
           ],
           "y": [
            0.996999979019165,
            1.4425657987594604
           ],
           "z": [
            -0.012400000356137753,
            -0.1313484013080597
           ]
          },
          {
           "line": {
            "color": "black",
            "width": 2
           },
           "mode": "lines",
           "showlegend": false,
           "type": "scatter3d",
           "x": [
            0.31249910593032837,
            0.6225650906562805
           ],
           "y": [
            1.4425657987594604,
            1.3385518789291382
           ],
           "z": [
            -0.1313484013080597,
            -0.1652548462152481
           ]
          },
          {
           "line": {
            "color": "black",
            "width": 2
           },
           "mode": "lines",
           "showlegend": false,
           "type": "scatter3d",
           "x": [
            0.6225650906562805,
            0.7961320281028748
           ],
           "y": [
            1.3385518789291382,
            1.203560471534729
           ],
           "z": [
            -0.1652548462152481,
            -0.17245544493198395
           ]
          },
          {
           "line": {
            "color": "black",
            "width": 2
           },
           "mode": "lines",
           "showlegend": false,
           "type": "scatter3d",
           "x": [
            0,
            -0.04529999941587448
           ],
           "y": [
            0,
            0.9214000105857849
           ],
           "z": [
            0,
            -0.20730000734329224
           ]
          },
          {
           "line": {
            "color": "black",
            "width": 2
           },
           "mode": "lines",
           "showlegend": false,
           "type": "scatter3d",
           "x": [
            -0.04529999941587448,
            0.19860199093818665
           ],
           "y": [
            0.9214000105857849,
            1.3517630100250244
           ],
           "z": [
            -0.20730000734329224,
            -0.4551718831062317
           ]
          },
          {
           "line": {
            "color": "black",
            "width": 2
           },
           "mode": "lines",
           "showlegend": false,
           "type": "scatter3d",
           "x": [
            0.19860199093818665,
            0.5298657417297363
           ],
           "y": [
            1.3517630100250244,
            1.34331214427948
           ],
           "z": [
            -0.4551718831062317,
            -0.42780089378356934
           ]
          },
          {
           "line": {
            "color": "black",
            "width": 2
           },
           "mode": "lines",
           "showlegend": false,
           "type": "scatter3d",
           "x": [
            0.5298657417297363,
            0.6923508048057556
           ],
           "y": [
            1.34331214427948,
            1.2202439308166504
           ],
           "z": [
            -0.42780089378356934,
            -0.341367244720459
           ]
          },
          {
           "line": {
            "color": "black",
            "width": 2
           },
           "mode": "lines",
           "showlegend": false,
           "type": "scatter3d",
           "x": [
            0,
            -0.11640000343322754
           ],
           "y": [
            0,
            0.7821999788284302
           ],
           "z": [
            0,
            -0.3912999927997589
           ]
          },
          {
           "line": {
            "color": "black",
            "width": 2
           },
           "mode": "lines",
           "showlegend": false,
           "type": "scatter3d",
           "x": [
            -0.11640000343322754,
            0.10286751389503479
           ],
           "y": [
            0.7821999788284302,
            1.1253132820129395
           ],
           "z": [
            -0.3912999927997589,
            -0.5747300386428833
           ]
          },
          {
           "line": {
            "color": "black",
            "width": 2
           },
           "mode": "lines",
           "showlegend": false,
           "type": "scatter3d",
           "x": [
            0.10286751389503479,
            0.33113306760787964
           ],
           "y": [
            1.1253132820129395,
            1.2684026956558228
           ],
           "z": [
            -0.5747300386428833,
            -0.6680159568786621
           ]
          },
          {
           "line": {
            "color": "black",
            "width": 2
           },
           "mode": "lines",
           "showlegend": false,
           "type": "scatter3d",
           "x": [
            0.33113306760787964,
            0.48763415217399597
           ],
           "y": [
            1.2684026956558228,
            1.1174968481063843
           ],
           "z": [
            -0.6680159568786621,
            -0.6183789372444153
           ]
          },
          {
           "line": {
            "color": "black",
            "width": 2
           },
           "mode": "lines",
           "showlegend": false,
           "type": "scatter3d",
           "x": [
            0.021496206521987915,
            -0.0019000000320374966
           ],
           "y": [
            0.47154679894447327,
            0.9692999720573425
           ],
           "z": [
            0.3457263112068176,
            0.2282000035047531
           ]
          },
          {
           "line": {
            "color": "black",
            "width": 2
           },
           "mode": "lines",
           "showlegend": false,
           "type": "scatter3d",
           "x": [
            -0.0019000000320374966,
            -0.0020000000949949026
           ],
           "y": [
            0.9692999720573425,
            0.996999979019165
           ],
           "z": [
            0.2282000035047531,
            -0.012400000356137753
           ]
          },
          {
           "line": {
            "color": "black",
            "width": 2
           },
           "mode": "lines",
           "showlegend": false,
           "type": "scatter3d",
           "x": [
            -0.0020000000949949026,
            -0.04529999941587448
           ],
           "y": [
            0.996999979019165,
            0.9214000105857849
           ],
           "z": [
            -0.012400000356137753,
            -0.20730000734329224
           ]
          },
          {
           "line": {
            "color": "black",
            "width": 2
           },
           "mode": "lines",
           "showlegend": false,
           "type": "scatter3d",
           "x": [
            -0.04529999941587448,
            -0.11640000343322754
           ],
           "y": [
            0.9214000105857849,
            0.7821999788284302
           ],
           "z": [
            -0.20730000734329224,
            -0.3912999927997589
           ]
          }
         ],
         "name": "8"
        },
        {
         "data": [
          {
           "marker": {
            "color": "blue",
            "size": 4
           },
           "mode": "markers+text",
           "name": "Landmarks",
           "text": [
            "0",
            "1",
            "2",
            "3",
            "4",
            "5",
            "6",
            "7",
            "8",
            "9",
            "10",
            "11",
            "12",
            "13",
            "14",
            "15",
            "16",
            "17",
            "18",
            "19"
           ],
           "textfont": {
            "color": "black",
            "size": 8
           },
           "textposition": "top center",
           "type": "scatter3d",
           "x": {
            "bdata": "AAAAAHBbuzzimy4+qTALPmwJ+boFjiU+1ivgPlcoKD9vEgO7OnyfPtAuHz8ytEs/fow5ve4gTD4X0gc/SUoxPyBj7r1OeNM92tWpPnje+T4=",
            "dtype": "f4"
           },
           "y": {
            "bdata": "AAAAAPpp8D6AlEE/0HFtPwskeD/FSq8/q5SwP5SMrz9kO38/nr24P0uHqz+eTpo/3+BrP1v/rD9Wz6s/v/2bP0I+SD+kBZA/L0+iP7T3jj8=",
            "dtype": "f4"
           },
           "z": {
            "bdata": "AAAAAFk7qD5KXAk+FkqQvUOtaT6lNew9NCbZPeX60j1fKUu82XIGvpNVKb631TC+dEZUvnDe6L50odq+H0euvnlYyL5HFBO/6u0qv8Q6Hr8=",
            "dtype": "f4"
           }
          },
          {
           "line": {
            "color": "black",
            "width": 2
           },
           "mode": "lines",
           "showlegend": false,
           "type": "scatter3d",
           "x": [
            0,
            0.022870749235153198
           ],
           "y": [
            0,
            0.4695585370063782
           ],
           "z": [
            0,
            0.32857778668403625
           ]
          },
          {
           "line": {
            "color": "black",
            "width": 2
           },
           "mode": "lines",
           "showlegend": false,
           "type": "scatter3d",
           "x": [
            0.022870749235153198,
            0.17051652073860168
           ],
           "y": [
            0.4695585370063782,
            0.7561721801757812
           ],
           "z": [
            0.32857778668403625,
            0.13414111733436584
           ]
          },
          {
           "line": {
            "color": "black",
            "width": 2
           },
           "mode": "lines",
           "showlegend": false,
           "type": "scatter3d",
           "x": [
            0.17051652073860168,
            0.13592781126499176
           ],
           "y": [
            0.7561721801757812,
            0.9275178909301758
           ],
           "z": [
            0.13414111733436584,
            -0.07045380771160126
           ]
          },
          {
           "line": {
            "color": "black",
            "width": 2
           },
           "mode": "lines",
           "showlegend": false,
           "type": "scatter3d",
           "x": [
            0,
            -0.0019000000320374966
           ],
           "y": [
            0,
            0.9692999720573425
           ],
           "z": [
            0,
            0.2282000035047531
           ]
          },
          {
           "line": {
            "color": "black",
            "width": 2
           },
           "mode": "lines",
           "showlegend": false,
           "type": "scatter3d",
           "x": [
            -0.0019000000320374966,
            0.16167457401752472
           ],
           "y": [
            0.9692999720573425,
            1.3694692850112915
           ],
           "z": [
            0.2282000035047531,
            0.11533669382333755
           ]
          },
          {
           "line": {
            "color": "black",
            "width": 2
           },
           "mode": "lines",
           "showlegend": false,
           "type": "scatter3d",
           "x": [
            0.16167457401752472,
            0.4378344416618347
           ],
           "y": [
            1.3694692850112915,
            1.3795369863510132
           ],
           "z": [
            0.11533669382333755,
            0.10602989792823792
           ]
          },
          {
           "line": {
            "color": "black",
            "width": 2
           },
           "mode": "lines",
           "showlegend": false,
           "type": "scatter3d",
           "x": [
            0.4378344416618347,
            0.6568655371665955
           ],
           "y": [
            1.3795369863510132,
            1.3714776039123535
           ],
           "z": [
            0.10602989792823792,
            0.10301760584115982
           ]
          },
          {
           "line": {
            "color": "black",
            "width": 2
           },
           "mode": "lines",
           "showlegend": false,
           "type": "scatter3d",
           "x": [
            0,
            -0.0020000000949949026
           ],
           "y": [
            0,
            0.996999979019165
           ],
           "z": [
            0,
            -0.012400000356137753
           ]
          },
          {
           "line": {
            "color": "black",
            "width": 2
           },
           "mode": "lines",
           "showlegend": false,
           "type": "scatter3d",
           "x": [
            -0.0020000000949949026,
            0.3114946484565735
           ],
           "y": [
            0.996999979019165,
            1.443286657333374
           ],
           "z": [
            -0.012400000356137753,
            -0.13129748404026031
           ]
          },
          {
           "line": {
            "color": "black",
            "width": 2
           },
           "mode": "lines",
           "showlegend": false,
           "type": "scatter3d",
           "x": [
            0.3114946484565735,
            0.6218080520629883
           ],
           "y": [
            1.443286657333374,
            1.3400663137435913
           ],
           "z": [
            -0.13129748404026031,
            -0.16536550223827362
           ]
          },
          {
           "line": {
            "color": "black",
            "width": 2
           },
           "mode": "lines",
           "showlegend": false,
           "type": "scatter3d",
           "x": [
            0.6218080520629883,
            0.7957183122634888
           ],
           "y": [
            1.3400663137435913,
            1.205524206161499
           ],
           "z": [
            -0.16536550223827362,
            -0.1726902574300766
           ]
          },
          {
           "line": {
            "color": "black",
            "width": 2
           },
           "mode": "lines",
           "showlegend": false,
           "type": "scatter3d",
           "x": [
            0,
            -0.04529999941587448
           ],
           "y": [
            0,
            0.9214000105857849
           ],
           "z": [
            0,
            -0.20730000734329224
           ]
          },
          {
           "line": {
            "color": "black",
            "width": 2
           },
           "mode": "lines",
           "showlegend": false,
           "type": "scatter3d",
           "x": [
            -0.04529999941587448,
            0.19934436678886414
           ],
           "y": [
            0.9214000105857849,
            1.3515428304672241
           ],
           "z": [
            -0.20730000734329224,
            -0.4548220634460449
           ]
          },
          {
           "line": {
            "color": "black",
            "width": 2
           },
           "mode": "lines",
           "showlegend": false,
           "type": "scatter3d",
           "x": [
            0.19934436678886414,
            0.5305494666099548
           ],
           "y": [
            1.3515428304672241,
            1.3422648906707764
           ],
           "z": [
            -0.4548220634460449,
            -0.4270130395889282
           ]
          },
          {
           "line": {
            "color": "black",
            "width": 2
           },
           "mode": "lines",
           "showlegend": false,
           "type": "scatter3d",
           "x": [
            0.5305494666099548,
            0.6925397515296936
           ],
           "y": [
            1.3422648906707764,
            1.2186812162399292
           ],
           "z": [
            -0.4270130395889282,
            -0.34038636088371277
           ]
          },
          {
           "line": {
            "color": "black",
            "width": 2
           },
           "mode": "lines",
           "showlegend": false,
           "type": "scatter3d",
           "x": [
            0,
            -0.11640000343322754
           ],
           "y": [
            0,
            0.7821999788284302
           ],
           "z": [
            0,
            -0.3912999927997589
           ]
          },
          {
           "line": {
            "color": "black",
            "width": 2
           },
           "mode": "lines",
           "showlegend": false,
           "type": "scatter3d",
           "x": [
            -0.11640000343322754,
            0.10325680673122406
           ],
           "y": [
            0.7821999788284302,
            1.1251721382141113
           ],
           "z": [
            -0.3912999927997589,
            -0.574528157711029
           ]
          },
          {
           "line": {
            "color": "black",
            "width": 2
           },
           "mode": "lines",
           "showlegend": false,
           "type": "scatter3d",
           "x": [
            0.10325680673122406,
            0.33170968294143677
           ],
           "y": [
            1.1251721382141113,
            1.2680414915084839
           ],
           "z": [
            -0.574528157711029,
            -0.6676927804946899
           ]
          },
          {
           "line": {
            "color": "black",
            "width": 2
           },
           "mode": "lines",
           "showlegend": false,
           "type": "scatter3d",
           "x": [
            0.33170968294143677,
            0.488025426864624
           ],
           "y": [
            1.2680414915084839,
            1.1169342994689941
           ],
           "z": [
            -0.6676927804946899,
            -0.618084192276001
           ]
          },
          {
           "line": {
            "color": "black",
            "width": 2
           },
           "mode": "lines",
           "showlegend": false,
           "type": "scatter3d",
           "x": [
            0.022870749235153198,
            -0.0019000000320374966
           ],
           "y": [
            0.4695585370063782,
            0.9692999720573425
           ],
           "z": [
            0.32857778668403625,
            0.2282000035047531
           ]
          },
          {
           "line": {
            "color": "black",
            "width": 2
           },
           "mode": "lines",
           "showlegend": false,
           "type": "scatter3d",
           "x": [
            -0.0019000000320374966,
            -0.0020000000949949026
           ],
           "y": [
            0.9692999720573425,
            0.996999979019165
           ],
           "z": [
            0.2282000035047531,
            -0.012400000356137753
           ]
          },
          {
           "line": {
            "color": "black",
            "width": 2
           },
           "mode": "lines",
           "showlegend": false,
           "type": "scatter3d",
           "x": [
            -0.0020000000949949026,
            -0.04529999941587448
           ],
           "y": [
            0.996999979019165,
            0.9214000105857849
           ],
           "z": [
            -0.012400000356137753,
            -0.20730000734329224
           ]
          },
          {
           "line": {
            "color": "black",
            "width": 2
           },
           "mode": "lines",
           "showlegend": false,
           "type": "scatter3d",
           "x": [
            -0.04529999941587448,
            -0.11640000343322754
           ],
           "y": [
            0.9214000105857849,
            0.7821999788284302
           ],
           "z": [
            -0.20730000734329224,
            -0.3912999927997589
           ]
          }
         ],
         "name": "9"
        },
        {
         "data": [
          {
           "marker": {
            "color": "blue",
            "size": 4
           },
           "mode": "markers+text",
           "name": "Landmarks",
           "text": [
            "0",
            "1",
            "2",
            "3",
            "4",
            "5",
            "6",
            "7",
            "8",
            "9",
            "10",
            "11",
            "12",
            "13",
            "14",
            "15",
            "16",
            "17",
            "18",
            "19"
           ],
           "textfont": {
            "color": "black",
            "size": 8
           },
           "textposition": "top center",
           "type": "scatter3d",
           "x": {
            "bdata": "AAAAAEA+1zxsODI+LtnbPWwJ+bp3UE0+gmHzPlzKMT9vEgO7PxagPs1zHz/i6ks/fow5vb4qTD7n1Ac/bEcxPyBj7r2un9M9IuypPmvp+T4=",
            "dtype": "f4"
           },
           "y": {
            "bdata": "AAAAAHdN7T7u6j0/HO1kPwskeD/fXaw/FiCwP6bEsD9kO38/+aG4P8Neqz+4HJo/3+BrP0ILrT9N0as/NfWbP0I+SD+GA5A/10iiP0fvjj8=",
            "dtype": "f4"
           },
           "z": {
            "bdata": "AAAAAIu6oD6qHN09fh3UvUOtaT6s5809wOG/PV2vwT1fKUu8c4IGvjJQKb6luzC+dEZUvreG6L7SX9q+WiyuvnlYyL5LFhO/ou0qv1E1Hr8=",
            "dtype": "f4"
           }
          },
          {
           "line": {
            "color": "black",
            "width": 2
           },
           "mode": "lines",
           "showlegend": false,
           "type": "scatter3d",
           "x": [
            0,
            0.026274800300598145
           ],
           "y": [
            0,
            0.4634816348552704
           ],
           "z": [
            0,
            0.3139232099056244
           ]
          },
          {
           "line": {
            "color": "black",
            "width": 2
           },
           "mode": "lines",
           "showlegend": false,
           "type": "scatter3d",
           "x": [
            0.026274800300598145,
            0.17404335737228394
           ],
           "y": [
            0.4634816348552704,
            0.7418659925460815
           ],
           "z": [
            0.3139232099056244,
            0.10796482861042023
           ]
          },
          {
           "line": {
            "color": "black",
            "width": 2
           },
           "mode": "lines",
           "showlegend": false,
           "type": "scatter3d",
           "x": [
            0.17404335737228394,
            0.10734783113002777
           ],
           "y": [
            0.7418659925460815,
            0.8942430019378662
           ],
           "z": [
            0.10796482861042023,
            -0.10357187688350677
           ]
          },
          {
           "line": {
            "color": "black",
            "width": 2
           },
           "mode": "lines",
           "showlegend": false,
           "type": "scatter3d",
           "x": [
            0,
            -0.0019000000320374966
           ],
           "y": [
            0,
            0.9692999720573425
           ],
           "z": [
            0,
            0.2282000035047531
           ]
          },
          {
           "line": {
            "color": "black",
            "width": 2
           },
           "mode": "lines",
           "showlegend": false,
           "type": "scatter3d",
           "x": [
            -0.0019000000320374966,
            0.20050226151943207
           ],
           "y": [
            0.9692999720573425,
            1.3466147184371948
           ],
           "z": [
            0.2282000035047531,
            0.10053953528404236
           ]
          },
          {
           "line": {
            "color": "black",
            "width": 2
           },
           "mode": "lines",
           "showlegend": false,
           "type": "scatter3d",
           "x": [
            0.20050226151943207,
            0.47535330057144165
           ],
           "y": [
            1.3466147184371948,
            1.3759791851043701
           ],
           "z": [
            0.10053953528404236,
            0.09369230270385742
           ]
          },
          {
           "line": {
            "color": "black",
            "width": 2
           },
           "mode": "lines",
           "showlegend": false,
           "type": "scatter3d",
           "x": [
            0.47535330057144165,
            0.6944940090179443
           ],
           "y": [
            1.3759791851043701,
            1.3810012340545654
           ],
           "z": [
            0.09369230270385742,
            0.0945727601647377
           ]
          },
          {
           "line": {
            "color": "black",
            "width": 2
           },
           "mode": "lines",
           "showlegend": false,
           "type": "scatter3d",
           "x": [
            0,
            -0.0020000000949949026
           ],
           "y": [
            0,
            0.996999979019165
           ],
           "z": [
            0,
            -0.012400000356137753
           ]
          },
          {
           "line": {
            "color": "black",
            "width": 2
           },
           "mode": "lines",
           "showlegend": false,
           "type": "scatter3d",
           "x": [
            -0.0020000000949949026,
            0.3126697242259979
           ],
           "y": [
            0.996999979019165,
            1.4424430131912231
           ],
           "z": [
            -0.012400000356137753,
            -0.13135699927806854
           ]
          },
          {
           "line": {
            "color": "black",
            "width": 2
           },
           "mode": "lines",
           "showlegend": false,
           "type": "scatter3d",
           "x": [
            0.3126697242259979,
            0.6228607296943665
           ],
           "y": [
            1.4424430131912231,
            1.3388293981552124
           ],
           "z": [
            -0.13135699927806854,
            -0.1653449833393097
           ]
          },
          {
           "line": {
            "color": "black",
            "width": 2
           },
           "mode": "lines",
           "showlegend": false,
           "type": "scatter3d",
           "x": [
            0.6228607296943665,
            0.7965527772903442
           ],
           "y": [
            1.3388293981552124,
            1.2040014266967773
           ],
           "z": [
            -0.1653449833393097,
            -0.17259080708026886
           ]
          },
          {
           "line": {
            "color": "black",
            "width": 2
           },
           "mode": "lines",
           "showlegend": false,
           "type": "scatter3d",
           "x": [
            0,
            -0.04529999941587448
           ],
           "y": [
            0,
            0.9214000105857849
           ],
           "z": [
            0,
            -0.20730000734329224
           ]
          },
          {
           "line": {
            "color": "black",
            "width": 2
           },
           "mode": "lines",
           "showlegend": false,
           "type": "scatter3d",
           "x": [
            -0.04529999941587448,
            0.19938179850578308
           ],
           "y": [
            0.9214000105857849,
            1.3519060611724854
           ],
           "z": [
            -0.20730000734329224,
            -0.45415279269218445
           ]
          },
          {
           "line": {
            "color": "black",
            "width": 2
           },
           "mode": "lines",
           "showlegend": false,
           "type": "scatter3d",
           "x": [
            0.19938179850578308,
            0.5305923819541931
           ],
           "y": [
            1.3519060611724854,
            1.3423248529434204
           ],
           "z": [
            -0.45415279269218445,
            -0.42651230096817017
           ]
          },
          {
           "line": {
            "color": "black",
            "width": 2
           },
           "mode": "lines",
           "showlegend": false,
           "type": "scatter3d",
           "x": [
            0.5305923819541931,
            0.6924960613250732
           ],
           "y": [
            1.3423248529434204,
            1.2184206247329712
           ],
           "z": [
            -0.42651230096817017,
            -0.3401821255683899
           ]
          },
          {
           "line": {
            "color": "black",
            "width": 2
           },
           "mode": "lines",
           "showlegend": false,
           "type": "scatter3d",
           "x": [
            0,
            -0.11640000343322754
           ],
           "y": [
            0,
            0.7821999788284302
           ],
           "z": [
            0,
            -0.3912999927997589
           ]
          },
          {
           "line": {
            "color": "black",
            "width": 2
           },
           "mode": "lines",
           "showlegend": false,
           "type": "scatter3d",
           "x": [
            -0.11640000343322754,
            0.10333190858364105
           ],
           "y": [
            0.7821999788284302,
            1.1251075267791748
           ],
           "z": [
            -0.3912999927997589,
            -0.5745589137077332
           ]
          },
          {
           "line": {
            "color": "black",
            "width": 2
           },
           "mode": "lines",
           "showlegend": false,
           "type": "scatter3d",
           "x": [
            0.10333190858364105,
            0.3318796753883362
           ],
           "y": [
            1.1251075267791748,
            1.2678478956222534
           ],
           "z": [
            -0.5745589137077332,
            -0.6676884889602661
           ]
          },
          {
           "line": {
            "color": "black",
            "width": 2
           },
           "mode": "lines",
           "showlegend": false,
           "type": "scatter3d",
           "x": [
            0.3318796753883362,
            0.48810896277427673
           ],
           "y": [
            1.2678478956222534,
            1.116677165031433
           ],
           "z": [
            -0.6676884889602661,
            -0.6180010437965393
           ]
          },
          {
           "line": {
            "color": "black",
            "width": 2
           },
           "mode": "lines",
           "showlegend": false,
           "type": "scatter3d",
           "x": [
            0.026274800300598145,
            -0.0019000000320374966
           ],
           "y": [
            0.4634816348552704,
            0.9692999720573425
           ],
           "z": [
            0.3139232099056244,
            0.2282000035047531
           ]
          },
          {
           "line": {
            "color": "black",
            "width": 2
           },
           "mode": "lines",
           "showlegend": false,
           "type": "scatter3d",
           "x": [
            -0.0019000000320374966,
            -0.0020000000949949026
           ],
           "y": [
            0.9692999720573425,
            0.996999979019165
           ],
           "z": [
            0.2282000035047531,
            -0.012400000356137753
           ]
          },
          {
           "line": {
            "color": "black",
            "width": 2
           },
           "mode": "lines",
           "showlegend": false,
           "type": "scatter3d",
           "x": [
            -0.0020000000949949026,
            -0.04529999941587448
           ],
           "y": [
            0.996999979019165,
            0.9214000105857849
           ],
           "z": [
            -0.012400000356137753,
            -0.20730000734329224
           ]
          },
          {
           "line": {
            "color": "black",
            "width": 2
           },
           "mode": "lines",
           "showlegend": false,
           "type": "scatter3d",
           "x": [
            -0.04529999941587448,
            -0.11640000343322754
           ],
           "y": [
            0.9214000105857849,
            0.7821999788284302
           ],
           "z": [
            -0.20730000734329224,
            -0.3912999927997589
           ]
          }
         ],
         "name": "10"
        },
        {
         "data": [
          {
           "marker": {
            "color": "blue",
            "size": 4
           },
           "mode": "markers+text",
           "name": "Landmarks",
           "text": [
            "0",
            "1",
            "2",
            "3",
            "4",
            "5",
            "6",
            "7",
            "8",
            "9",
            "10",
            "11",
            "12",
            "13",
            "14",
            "15",
            "16",
            "17",
            "18",
            "19"
           ],
           "textfont": {
            "color": "black",
            "size": 8
           },
           "textposition": "top center",
           "type": "scatter3d",
           "x": {
            "bdata": "AAAAAEAp1TyQ7DU+Ak7YPWwJ+brul0o+VB3yPr0nMT9vEgO7qPSdPvZ9Hj/XJUs/fow5vbyMSz4esAc/AD4xPyBj7r2kn9M9sumpPg7p+T4=",
            "dtype": "f4"
           },
           "y": {
            "bdata": "AAAAAMva7T745T4/IVFlPwskeD82yqw/20CwP9OWrz9kO38/PAO5P5brqz+kyZo/3+BrP9wOrT9S6qs/2h2cP0I+SD8BBJA/PkqiP+Lwjj8=",
            "dtype": "f4"
           },
           "z": {
            "bdata": "AAAAABsvpD6mkvg91G+4vUOtaT5ns9k9FNrHPVYryz1fKUu8W0oGvuxeKb4pETG+dEZUvsC76L5Xudq+HZOuvnlYyL6CFBO/A+wqv7k1Hr8=",
            "dtype": "f4"
           }
          },
          {
           "line": {
            "color": "black",
            "width": 2
           },
           "mode": "lines",
           "showlegend": false,
           "type": "scatter3d",
           "x": [
            0,
            0.02602064609527588
           ],
           "y": [
            0,
            0.4645598828792572
           ],
           "z": [
            0,
            0.3206718862056732
           ]
          },
          {
           "line": {
            "color": "black",
            "width": 2
           },
           "mode": "lines",
           "showlegend": false,
           "type": "scatter3d",
           "x": [
            0.02602064609527588,
            0.17766022682189941
           ],
           "y": [
            0.4645598828792572,
            0.7456965446472168
           ],
           "z": [
            0.3206718862056732,
            0.12137345969676971
           ]
          },
          {
           "line": {
            "color": "black",
            "width": 2
           },
           "mode": "lines",
           "showlegend": false,
           "type": "scatter3d",
           "x": [
            0.17766022682189941,
            0.10561753809452057
           ],
           "y": [
            0.7456965446472168,
            0.8957691788673401
           ],
           "z": [
            0.12137345969676971,
            -0.09005704522132874
           ]
          },
          {
           "line": {
            "color": "black",
            "width": 2
           },
           "mode": "lines",
           "showlegend": false,
           "type": "scatter3d",
           "x": [
            0,
            -0.0019000000320374966
           ],
           "y": [
            0,
            0.9692999720573425
           ],
           "z": [
            0,
            0.2282000035047531
           ]
          },
          {
           "line": {
            "color": "black",
            "width": 2
           },
           "mode": "lines",
           "showlegend": false,
           "type": "scatter3d",
           "x": [
            -0.0019000000320374966,
            0.1978451907634735
           ],
           "y": [
            0.9692999720573425,
            1.3499209880828857
           ],
           "z": [
            0.2282000035047531,
            0.10629921406507492
           ]
          },
          {
           "line": {
            "color": "black",
            "width": 2
           },
           "mode": "lines",
           "showlegend": false,
           "type": "scatter3d",
           "x": [
            0.1978451907634735,
            0.4728800058364868
           ],
           "y": [
            1.3499209880828857,
            1.3769792318344116
           ],
           "z": [
            0.10629921406507492,
            0.09758391976356506
           ]
          },
          {
           "line": {
            "color": "black",
            "width": 2
           },
           "mode": "lines",
           "showlegend": false,
           "type": "scatter3d",
           "x": [
            0.4728800058364868,
            0.6920126080513
           ],
           "y": [
            1.3769792318344116,
            1.3717902898788452
           ],
           "z": [
            0.09758391976356506,
            0.09920375049114227
           ]
          },
          {
           "line": {
            "color": "black",
            "width": 2
           },
           "mode": "lines",
           "showlegend": false,
           "type": "scatter3d",
           "x": [
            0,
            -0.0020000000949949026
           ],
           "y": [
            0,
            0.996999979019165
           ],
           "z": [
            0,
            -0.012400000356137753
           ]
          },
          {
           "line": {
            "color": "black",
            "width": 2
           },
           "mode": "lines",
           "showlegend": false,
           "type": "scatter3d",
           "x": [
            -0.0020000000949949026,
            0.30850720405578613
           ],
           "y": [
            0.996999979019165,
            1.445411205291748
           ],
           "z": [
            -0.012400000356137753,
            -0.1311430186033249
           ]
          },
          {
           "line": {
            "color": "black",
            "width": 2
           },
           "mode": "lines",
           "showlegend": false,
           "type": "scatter3d",
           "x": [
            0.30850720405578613,
            0.6191095113754272
           ],
           "y": [
            1.445411205291748,
            1.3431270122528076
           ],
           "z": [
            -0.1311430186033249,
            -0.1654011607170105
           ]
          },
          {
           "line": {
            "color": "black",
            "width": 2
           },
           "mode": "lines",
           "showlegend": false,
           "type": "scatter3d",
           "x": [
            0.6191095113754272,
            0.7935461401939392
           ],
           "y": [
            1.3431270122528076,
            1.2092785835266113
           ],
           "z": [
            -0.1654011607170105,
            -0.17291702330112457
           ]
          },
          {
           "line": {
            "color": "black",
            "width": 2
           },
           "mode": "lines",
           "showlegend": false,
           "type": "scatter3d",
           "x": [
            0,
            -0.04529999941587448
           ],
           "y": [
            0,
            0.9214000105857849
           ],
           "z": [
            0,
            -0.20730000734329224
           ]
          },
          {
           "line": {
            "color": "black",
            "width": 2
           },
           "mode": "lines",
           "showlegend": false,
           "type": "scatter3d",
           "x": [
            -0.04529999941587448,
            0.19877904653549194
           ],
           "y": [
            0.9214000105857849,
            1.3520159721374512
           ],
           "z": [
            -0.20730000734329224,
            -0.4545574188232422
           ]
          },
          {
           "line": {
            "color": "black",
            "width": 2
           },
           "mode": "lines",
           "showlegend": false,
           "type": "scatter3d",
           "x": [
            0.19877904653549194,
            0.5300310850143433
           ],
           "y": [
            1.3520159721374512,
            1.3430883884429932
           ],
           "z": [
            -0.4545574188232422,
            -0.427195280790329
           ]
          },
          {
           "line": {
            "color": "black",
            "width": 2
           },
           "mode": "lines",
           "showlegend": false,
           "type": "scatter3d",
           "x": [
            0.5300310850143433,
            0.692352294921875
           ],
           "y": [
            1.3430883884429932,
            1.219660997390747
           ],
           "z": [
            -0.427195280790329,
            -0.340966135263443
           ]
          },
          {
           "line": {
            "color": "black",
            "width": 2
           },
           "mode": "lines",
           "showlegend": false,
           "type": "scatter3d",
           "x": [
            0,
            -0.11640000343322754
           ],
           "y": [
            0,
            0.7821999788284302
           ],
           "z": [
            0,
            -0.3912999927997589
           ]
          },
          {
           "line": {
            "color": "black",
            "width": 2
           },
           "mode": "lines",
           "showlegend": false,
           "type": "scatter3d",
           "x": [
            -0.11640000343322754,
            0.10333183407783508
           ],
           "y": [
            0.7821999788284302,
            1.1251221895217896
           ],
           "z": [
            -0.3912999927997589,
            -0.5745316743850708
           ]
          },
          {
           "line": {
            "color": "black",
            "width": 2
           },
           "mode": "lines",
           "showlegend": false,
           "type": "scatter3d",
           "x": [
            0.10333183407783508,
            0.33186107873916626
           ],
           "y": [
            1.1251221895217896,
            1.2678906917572021
           ],
           "z": [
            -0.5745316743850708,
            -0.6676637530326843
           ]
          },
          {
           "line": {
            "color": "black",
            "width": 2
           },
           "mode": "lines",
           "showlegend": false,
           "type": "scatter3d",
           "x": [
            0.33186107873916626,
            0.4881061911582947
           ],
           "y": [
            1.2678906917572021,
            1.1167261600494385
           ],
           "z": [
            -0.6676637530326843,
            -0.618007242679596
           ]
          },
          {
           "line": {
            "color": "black",
            "width": 2
           },
           "mode": "lines",
           "showlegend": false,
           "type": "scatter3d",
           "x": [
            0.02602064609527588,
            -0.0019000000320374966
           ],
           "y": [
            0.4645598828792572,
            0.9692999720573425
           ],
           "z": [
            0.3206718862056732,
            0.2282000035047531
           ]
          },
          {
           "line": {
            "color": "black",
            "width": 2
           },
           "mode": "lines",
           "showlegend": false,
           "type": "scatter3d",
           "x": [
            -0.0019000000320374966,
            -0.0020000000949949026
           ],
           "y": [
            0.9692999720573425,
            0.996999979019165
           ],
           "z": [
            0.2282000035047531,
            -0.012400000356137753
           ]
          },
          {
           "line": {
            "color": "black",
            "width": 2
           },
           "mode": "lines",
           "showlegend": false,
           "type": "scatter3d",
           "x": [
            -0.0020000000949949026,
            -0.04529999941587448
           ],
           "y": [
            0.996999979019165,
            0.9214000105857849
           ],
           "z": [
            -0.012400000356137753,
            -0.20730000734329224
           ]
          },
          {
           "line": {
            "color": "black",
            "width": 2
           },
           "mode": "lines",
           "showlegend": false,
           "type": "scatter3d",
           "x": [
            -0.04529999941587448,
            -0.11640000343322754
           ],
           "y": [
            0.9214000105857849,
            0.7821999788284302
           ],
           "z": [
            -0.20730000734329224,
            -0.3912999927997589
           ]
          }
         ],
         "name": "11"
        },
        {
         "data": [
          {
           "marker": {
            "color": "blue",
            "size": 4
           },
           "mode": "markers+text",
           "name": "Landmarks",
           "text": [
            "0",
            "1",
            "2",
            "3",
            "4",
            "5",
            "6",
            "7",
            "8",
            "9",
            "10",
            "11",
            "12",
            "13",
            "14",
            "15",
            "16",
            "17",
            "18",
            "19"
           ],
           "textfont": {
            "color": "black",
            "size": 8
           },
           "textposition": "top center",
           "type": "scatter3d",
           "x": {
            "bdata": "AAAAAKCArDxnxhw+qwKrPWwJ+bpoBQ4+Ia7TPm7yIT9vEgO78HN7PqyUED/ZFkE/fow5vfzLSj7pgQc/JBwxPyBj7r32C9Q9hhqqPmYA+j4=",
            "dtype": "f4"
           },
           "y": {
            "bdata": "AAAAAPlA8T4YN0E/9CNoPwskeD9oja8/TGezPxoRsz9kO38/fNm4Pxabsj+Uaac/3+BrP3gJrT/mAKw/oEOcP0I+SD/cCZA/ukuiP+Tnjj8=",
            "dtype": "f4"
           },
           "z": {
            "bdata": "AAAAALtRoj6uFtw9HLPTvUOtaT742L89+bivPXZCtT1fKUu8PYRyviYZM75smte9dEZUvgZA6b73Stu+ffyuvnlYyL5E7hK/dLgqvwkaHr8=",
            "dtype": "f4"
           }
          },
          {
           "line": {
            "color": "black",
            "width": 2
           },
           "mode": "lines",
           "showlegend": false,
           "type": "scatter3d",
           "x": [
            0,
            0.021057426929473877
           ],
           "y": [
            0,
            0.47119882702827454
           ],
           "z": [
            0,
            0.31702980399131775
           ]
          },
          {
           "line": {
            "color": "black",
            "width": 2
           },
           "mode": "lines",
           "showlegend": false,
           "type": "scatter3d",
           "x": [
            0.021057426929473877,
            0.15310059487819672
           ],
           "y": [
            0.47119882702827454,
            0.7547469139099121
           ],
           "z": [
            0.31702980399131775,
            0.10746513307094574
           ]
          },
          {
           "line": {
            "color": "black",
            "width": 2
           },
           "mode": "lines",
           "showlegend": false,
           "type": "scatter3d",
           "x": [
            0.15310059487819672,
            0.0835011824965477
           ],
           "y": [
            0.7547469139099121,
            0.9067986011505127
           ],
           "z": [
            0.10746513307094574,
            -0.10336896777153015
           ]
          },
          {
           "line": {
            "color": "black",
            "width": 2
           },
           "mode": "lines",
           "showlegend": false,
           "type": "scatter3d",
           "x": [
            0,
            -0.0019000000320374966
           ],
           "y": [
            0,
            0.9692999720573425
           ],
           "z": [
            0,
            0.2282000035047531
           ]
          },
          {
           "line": {
            "color": "black",
            "width": 2
           },
           "mode": "lines",
           "showlegend": false,
           "type": "scatter3d",
           "x": [
            -0.0019000000320374966,
            0.13869249820709229
           ],
           "y": [
            0.9692999720573425,
            1.3715028762817383
           ],
           "z": [
            0.2282000035047531,
            0.09367555379867554
           ]
          },
          {
           "line": {
            "color": "black",
            "width": 2
           },
           "mode": "lines",
           "showlegend": false,
           "type": "scatter3d",
           "x": [
            0.13869249820709229,
            0.4134378731250763
           ],
           "y": [
            1.3715028762817383,
            1.4015898704528809
           ],
           "z": [
            0.09367555379867554,
            0.08580202609300613
           ]
          },
          {
           "line": {
            "color": "black",
            "width": 2
           },
           "mode": "lines",
           "showlegend": false,
           "type": "scatter3d",
           "x": [
            0.4134378731250763,
            0.6326054334640503
           ],
           "y": [
            1.4015898704528809,
            1.3989593982696533
           ],
           "z": [
            0.08580202609300613,
            0.08850567042827606
           ]
          },
          {
           "line": {
            "color": "black",
            "width": 2
           },
           "mode": "lines",
           "showlegend": false,
           "type": "scatter3d",
           "x": [
            0,
            -0.0020000000949949026
           ],
           "y": [
            0,
            0.996999979019165
           ],
           "z": [
            0,
            -0.012400000356137753
           ]
          },
          {
           "line": {
            "color": "black",
            "width": 2
           },
           "mode": "lines",
           "showlegend": false,
           "type": "scatter3d",
           "x": [
            -0.0020000000949949026,
            0.2455594539642334
           ],
           "y": [
            0.996999979019165,
            1.4441370964050293
           ],
           "z": [
            -0.012400000356137753,
            -0.23683257400989532
           ]
          },
          {
           "line": {
            "color": "black",
            "width": 2
           },
           "mode": "lines",
           "showlegend": false,
           "type": "scatter3d",
           "x": [
            0.2455594539642334,
            0.5647685527801514
           ],
           "y": [
            1.4441370964050293,
            1.3953578472137451
           ],
           "z": [
            -0.23683257400989532,
            -0.174900621175766
           ]
          },
          {
           "line": {
            "color": "black",
            "width": 2
           },
           "mode": "lines",
           "showlegend": false,
           "type": "scatter3d",
           "x": [
            0.5647685527801514,
            0.7542548775672913
           ],
           "y": [
            1.3953578472137451,
            1.3079094886779785
           ],
           "z": [
            -0.174900621175766,
            -0.10527500510215759
           ]
          },
          {
           "line": {
            "color": "black",
            "width": 2
           },
           "mode": "lines",
           "showlegend": false,
           "type": "scatter3d",
           "x": [
            0,
            -0.04529999941587448
           ],
           "y": [
            0,
            0.9214000105857849
           ],
           "z": [
            0,
            -0.20730000734329224
           ]
          },
          {
           "line": {
            "color": "black",
            "width": 2
           },
           "mode": "lines",
           "showlegend": false,
           "type": "scatter3d",
           "x": [
            -0.04529999941587448,
            0.19804376363754272
           ],
           "y": [
            0.9214000105857849,
            1.351851463317871
           ],
           "z": [
            -0.20730000734329224,
            -0.4555665850639343
           ]
          },
          {
           "line": {
            "color": "black",
            "width": 2
           },
           "mode": "lines",
           "showlegend": false,
           "type": "scatter3d",
           "x": [
            0.19804376363754272,
            0.5293260216712952
           ],
           "y": [
            1.351851463317871,
            1.3437774181365967
           ],
           "z": [
            -0.4555665850639343,
            -0.42830631136894226
           ]
          },
          {
           "line": {
            "color": "black",
            "width": 2
           },
           "mode": "lines",
           "showlegend": false,
           "type": "scatter3d",
           "x": [
            0.5293260216712952,
            0.6918356418609619
           ],
           "y": [
            1.3437774181365967,
            1.2208137512207031
           ],
           "z": [
            -0.42830631136894226,
            -0.34177008271217346
           ]
          },
          {
           "line": {
            "color": "black",
            "width": 2
           },
           "mode": "lines",
           "showlegend": false,
           "type": "scatter3d",
           "x": [
            0,
            -0.11640000343322754
           ],
           "y": [
            0,
            0.7821999788284302
           ],
           "z": [
            0,
            -0.3912999927997589
           ]
          },
          {
           "line": {
            "color": "black",
            "width": 2
           },
           "mode": "lines",
           "showlegend": false,
           "type": "scatter3d",
           "x": [
            -0.11640000343322754,
            0.10353843867778778
           ],
           "y": [
            0.7821999788284302,
            1.1253008842468262
           ],
           "z": [
            -0.3912999927997589,
            -0.5739481449127197
           ]
          },
          {
           "line": {
            "color": "black",
            "width": 2
           },
           "mode": "lines",
           "showlegend": false,
           "type": "scatter3d",
           "x": [
            0.10353843867778778,
            0.33223360776901245
           ],
           "y": [
            1.1253008842468262,
            1.2679359912872314
           ],
           "z": [
            -0.5739481449127197,
            -0.666877031326294
           ]
          },
          {
           "line": {
            "color": "black",
            "width": 2
           },
           "mode": "lines",
           "showlegend": false,
           "type": "scatter3d",
           "x": [
            0.33223360776901245,
            0.48828428983688354
           ],
           "y": [
            1.2679359912872314,
            1.1164517402648926
           ],
           "z": [
            -0.666877031326294,
            -0.617584764957428
           ]
          },
          {
           "line": {
            "color": "black",
            "width": 2
           },
           "mode": "lines",
           "showlegend": false,
           "type": "scatter3d",
           "x": [
            0.021057426929473877,
            -0.0019000000320374966
           ],
           "y": [
            0.47119882702827454,
            0.9692999720573425
           ],
           "z": [
            0.31702980399131775,
            0.2282000035047531
           ]
          },
          {
           "line": {
            "color": "black",
            "width": 2
           },
           "mode": "lines",
           "showlegend": false,
           "type": "scatter3d",
           "x": [
            -0.0019000000320374966,
            -0.0020000000949949026
           ],
           "y": [
            0.9692999720573425,
            0.996999979019165
           ],
           "z": [
            0.2282000035047531,
            -0.012400000356137753
           ]
          },
          {
           "line": {
            "color": "black",
            "width": 2
           },
           "mode": "lines",
           "showlegend": false,
           "type": "scatter3d",
           "x": [
            -0.0020000000949949026,
            -0.04529999941587448
           ],
           "y": [
            0.996999979019165,
            0.9214000105857849
           ],
           "z": [
            -0.012400000356137753,
            -0.20730000734329224
           ]
          },
          {
           "line": {
            "color": "black",
            "width": 2
           },
           "mode": "lines",
           "showlegend": false,
           "type": "scatter3d",
           "x": [
            -0.04529999941587448,
            -0.11640000343322754
           ],
           "y": [
            0.9214000105857849,
            0.7821999788284302
           ],
           "z": [
            -0.20730000734329224,
            -0.3912999927997589
           ]
          }
         ],
         "name": "12"
        },
        {
         "data": [
          {
           "marker": {
            "color": "blue",
            "size": 4
           },
           "mode": "markers+text",
           "name": "Landmarks",
           "text": [
            "0",
            "1",
            "2",
            "3",
            "4",
            "5",
            "6",
            "7",
            "8",
            "9",
            "10",
            "11",
            "12",
            "13",
            "14",
            "15",
            "16",
            "17",
            "18",
            "19"
           ],
           "textfont": {
            "color": "black",
            "size": 8
           },
           "textposition": "top center",
           "type": "scatter3d",
           "x": {
            "bdata": "AAAAADA8pjzf2Rk+21e4PWwJ+bq3hPg9L5rKPqhoHT9vEgO72bd2Piz4DT9JeT4/fow5vbajSz5guAc/qBE0PyBj7r0gUtM9RtOpPgTR+T4=",
            "dtype": "f4"
           },
           "y": {
            "bdata": "AAAAAA7C8T6kiUE/M9VpPwskeD989a8/8kC0P4J/tD9kO38/HU22Pwiusj++jao/3+BrPyByrT8U/as/smKdP0I+SD9hD5A//liiP9/6jj8=",
            "dtype": "f4"
           },
           "z": {
            "bdata": "AAAAAAwEoj7w9tg9bK7UvUOtaT6S8LA92xOiPVdNqD1fKUu889qNvo/eOr6FP7m9dEZUvp7y5b52qdi+OgixvnlYyL589RK/XMYqv6kqHr8=",
            "dtype": "f4"
           }
          },
          {
           "line": {
            "color": "black",
            "width": 2
           },
           "mode": "lines",
           "showlegend": false,
           "type": "scatter3d",
           "x": [
            0,
            0.02029237151145935
           ],
           "y": [
            0,
            0.4721836447715759
           ],
           "z": [
            0,
            0.31643712520599365
           ]
          },
          {
           "line": {
            "color": "black",
            "width": 2
           },
           "mode": "lines",
           "showlegend": false,
           "type": "scatter3d",
           "x": [
            0.02029237151145935,
            0.15024517476558685
           ],
           "y": [
            0.4721836447715759,
            0.7560064792633057
           ],
           "z": [
            0.31643712520599365,
            0.10593974590301514
           ]
          },
          {
           "line": {
            "color": "black",
            "width": 2
           },
           "mode": "lines",
           "showlegend": false,
           "type": "scatter3d",
           "x": [
            0.15024517476558685,
            0.09001132100820541
           ],
           "y": [
            0.7560064792633057,
            0.913409411907196
           ],
           "z": [
            0.10593974590301514,
            -0.10384830832481384
           ]
          },
          {
           "line": {
            "color": "black",
            "width": 2
           },
           "mode": "lines",
           "showlegend": false,
           "type": "scatter3d",
           "x": [
            0,
            -0.0019000000320374966
           ],
           "y": [
            0,
            0.9692999720573425
           ],
           "z": [
            0,
            0.2282000035047531
           ]
          },
          {
           "line": {
            "color": "black",
            "width": 2
           },
           "mode": "lines",
           "showlegend": false,
           "type": "scatter3d",
           "x": [
            -0.0019000000320374966,
            0.12134688347578049
           ],
           "y": [
            0.9692999720573425,
            1.3746790885925293
           ],
           "z": [
            0.2282000035047531,
            0.08639635145664215
           ]
          },
          {
           "line": {
            "color": "black",
            "width": 2
           },
           "mode": "lines",
           "showlegend": false,
           "type": "scatter3d",
           "x": [
            0.12134688347578049,
            0.3957075774669647
           ],
           "y": [
            1.3746790885925293,
            1.4082319736480713
           ],
           "z": [
            0.08639635145664215,
            0.07913943380117416
           ]
          },
          {
           "line": {
            "color": "black",
            "width": 2
           },
           "mode": "lines",
           "showlegend": false,
           "type": "scatter3d",
           "x": [
            0.3957075774669647,
            0.6148781776428223
           ],
           "y": [
            1.4082319736480713,
            1.4101412296295166
           ],
           "z": [
            0.07913943380117416,
            0.0821787640452385
           ]
          },
          {
           "line": {
            "color": "black",
            "width": 2
           },
           "mode": "lines",
           "showlegend": false,
           "type": "scatter3d",
           "x": [
            0,
            -0.0020000000949949026
           ],
           "y": [
            0,
            0.996999979019165
           ],
           "z": [
            0,
            -0.012400000356137753
           ]
          },
          {
           "line": {
            "color": "black",
            "width": 2
           },
           "mode": "lines",
           "showlegend": false,
           "type": "scatter3d",
           "x": [
            -0.0020000000949949026,
            0.24093569815158844
           ],
           "y": [
            0.996999979019165,
            1.424228310585022
           ],
           "z": [
            -0.012400000356137753,
            -0.2770610749721527
           ]
          },
          {
           "line": {
            "color": "black",
            "width": 2
           },
           "mode": "lines",
           "showlegend": false,
           "type": "scatter3d",
           "x": [
            0.24093569815158844,
            0.5545680522918701
           ],
           "y": [
            1.424228310585022,
            1.3959360122680664
           ],
           "z": [
            -0.2770610749721527,
            -0.18248961865901947
           ]
          },
          {
           "line": {
            "color": "black",
            "width": 2
           },
           "mode": "lines",
           "showlegend": false,
           "type": "scatter3d",
           "x": [
            0.5545680522918701,
            0.7440381646156311
           ],
           "y": [
            1.3959360122680664,
            1.3324506282806396
           ],
           "z": [
            -0.18248961865901947,
            -0.09045318514108658
           ]
          },
          {
           "line": {
            "color": "black",
            "width": 2
           },
           "mode": "lines",
           "showlegend": false,
           "type": "scatter3d",
           "x": [
            0,
            -0.04529999941587448
           ],
           "y": [
            0,
            0.9214000105857849
           ],
           "z": [
            0,
            -0.20730000734329224
           ]
          },
          {
           "line": {
            "color": "black",
            "width": 2
           },
           "mode": "lines",
           "showlegend": false,
           "type": "scatter3d",
           "x": [
            -0.04529999941587448,
            0.19886669516563416
           ],
           "y": [
            0.9214000105857849,
            1.3550453186035156
           ],
           "z": [
            -0.20730000734329224,
            -0.44911664724349976
           ]
          },
          {
           "line": {
            "color": "black",
            "width": 2
           },
           "mode": "lines",
           "showlegend": false,
           "type": "scatter3d",
           "x": [
            0.19886669516563416,
            0.5301570892333984
           ],
           "y": [
            1.3550453186035156,
            1.343660831451416
           ],
           "z": [
            -0.44911664724349976,
            -0.423167884349823
           ]
          },
          {
           "line": {
            "color": "black",
            "width": 2
           },
           "mode": "lines",
           "showlegend": false,
           "type": "scatter3d",
           "x": [
            0.5301570892333984,
            0.7033944129943848
           ],
           "y": [
            1.343660831451416,
            1.22957444190979
           ],
           "z": [
            -0.423167884349823,
            -0.3457658886909485
           ]
          },
          {
           "line": {
            "color": "black",
            "width": 2
           },
           "mode": "lines",
           "showlegend": false,
           "type": "scatter3d",
           "x": [
            0,
            -0.11640000343322754
           ],
           "y": [
            0,
            0.7821999788284302
           ],
           "z": [
            0,
            -0.3912999927997589
           ]
          },
          {
           "line": {
            "color": "black",
            "width": 2
           },
           "mode": "lines",
           "showlegend": false,
           "type": "scatter3d",
           "x": [
            -0.11640000343322754,
            0.10318398475646973
           ],
           "y": [
            0.7821999788284302,
            1.1254693269729614
           ],
           "z": [
            -0.3912999927997589,
            -0.5740582942962646
           ]
          },
          {
           "line": {
            "color": "black",
            "width": 2
           },
           "mode": "lines",
           "showlegend": false,
           "type": "scatter3d",
           "x": [
            0.10318398475646973,
            0.3316900134086609
           ],
           "y": [
            1.1254693269729614,
            1.268340826034546
           ],
           "z": [
            -0.5740582942962646,
            -0.6670892238616943
           ]
          },
          {
           "line": {
            "color": "black",
            "width": 2
           },
           "mode": "lines",
           "showlegend": false,
           "type": "scatter3d",
           "x": [
            0.3316900134086609,
            0.4879227876663208
           ],
           "y": [
            1.268340826034546,
            1.1170309782028198
           ],
           "z": [
            -0.6670892238616943,
            -0.617838442325592
           ]
          },
          {
           "line": {
            "color": "black",
            "width": 2
           },
           "mode": "lines",
           "showlegend": false,
           "type": "scatter3d",
           "x": [
            0.02029237151145935,
            -0.0019000000320374966
           ],
           "y": [
            0.4721836447715759,
            0.9692999720573425
           ],
           "z": [
            0.31643712520599365,
            0.2282000035047531
           ]
          },
          {
           "line": {
            "color": "black",
            "width": 2
           },
           "mode": "lines",
           "showlegend": false,
           "type": "scatter3d",
           "x": [
            -0.0019000000320374966,
            -0.0020000000949949026
           ],
           "y": [
            0.9692999720573425,
            0.996999979019165
           ],
           "z": [
            0.2282000035047531,
            -0.012400000356137753
           ]
          },
          {
           "line": {
            "color": "black",
            "width": 2
           },
           "mode": "lines",
           "showlegend": false,
           "type": "scatter3d",
           "x": [
            -0.0020000000949949026,
            -0.04529999941587448
           ],
           "y": [
            0.996999979019165,
            0.9214000105857849
           ],
           "z": [
            -0.012400000356137753,
            -0.20730000734329224
           ]
          },
          {
           "line": {
            "color": "black",
            "width": 2
           },
           "mode": "lines",
           "showlegend": false,
           "type": "scatter3d",
           "x": [
            -0.04529999941587448,
            -0.11640000343322754
           ],
           "y": [
            0.9214000105857849,
            0.7821999788284302
           ],
           "z": [
            -0.20730000734329224,
            -0.3912999927997589
           ]
          }
         ],
         "name": "13"
        },
        {
         "data": [
          {
           "marker": {
            "color": "blue",
            "size": 4
           },
           "mode": "markers+text",
           "name": "Landmarks",
           "text": [
            "0",
            "1",
            "2",
            "3",
            "4",
            "5",
            "6",
            "7",
            "8",
            "9",
            "10",
            "11",
            "12",
            "13",
            "14",
            "15",
            "16",
            "17",
            "18",
            "19"
           ],
           "textfont": {
            "color": "black",
            "size": 8
           },
           "textposition": "top center",
           "type": "scatter3d",
           "x": {
            "bdata": "AAAAALA3nTyRGBs+Yw3EPWwJ+bouSvg9LjfLPnSwHT9vEgO76aBvPvNMDT/I0D0/fow5vYhrTD5S6wc/Gbg3PyBj7r08iNM9luCpPtrh+T4=",
            "dtype": "f4"
           },
           "y": {
            "bdata": "AAAAAC7h8j6AHkM/rVlsPwskeD8Zj7A/SB6zP1oosj9kO38/kHC6P74Isj/G2qU/3+BrP7UQrj/dDqw/ZTafP0I+SD8AB5A/5E6iP9X0jj8=",
            "dtype": "f4"
           },
           "z": {
            "bdata": "AAAAACdApj7ELvg99lCyvUOtaT5Cx809/R6+PZ+GwD1fKUu83ytlvgbfL76yxue9dEZUvkH84L6tAtW+iku0vnlYyL7MDBO/OOMqvzM0Hr8=",
            "dtype": "f4"
           }
          },
          {
           "line": {
            "color": "black",
            "width": 2
           },
           "mode": "lines",
           "showlegend": false,
           "type": "scatter3d",
           "x": [
            0,
            0.019191592931747437
           ],
           "y": [
            0,
            0.4743742346763611
           ],
           "z": [
            0,
            0.3247081935405731
           ]
          },
          {
           "line": {
            "color": "black",
            "width": 2
           },
           "mode": "lines",
           "showlegend": false,
           "type": "scatter3d",
           "x": [
            0.019191592931747437,
            0.1514609009027481
           ],
           "y": [
            0.4743742346763611,
            0.7621841430664062
           ],
           "z": [
            0.3247081935405731,
            0.12118294835090637
           ]
          },
          {
           "line": {
            "color": "black",
            "width": 2
           },
           "mode": "lines",
           "showlegend": false,
           "type": "scatter3d",
           "x": [
            0.1514609009027481,
            0.09572865813970566
           ],
           "y": [
            0.7621841430664062,
            0.9232433438301086
           ],
           "z": [
            0.12118294835090637,
            -0.08706848323345184
           ]
          },
          {
           "line": {
            "color": "black",
            "width": 2
           },
           "mode": "lines",
           "showlegend": false,
           "type": "scatter3d",
           "x": [
            0,
            -0.0019000000320374966
           ],
           "y": [
            0,
            0.9692999720573425
           ],
           "z": [
            0,
            0.2282000035047531
           ]
          },
          {
           "line": {
            "color": "black",
            "width": 2
           },
           "mode": "lines",
           "showlegend": false,
           "type": "scatter3d",
           "x": [
            -0.0019000000320374966,
            0.12123523652553558
           ],
           "y": [
            0.9692999720573425,
            1.3793669939041138
           ],
           "z": [
            0.2282000035047531,
            0.10047771036624908
           ]
          },
          {
           "line": {
            "color": "black",
            "width": 2
           },
           "mode": "lines",
           "showlegend": false,
           "type": "scatter3d",
           "x": [
            0.12123523652553558,
            0.3969053626060486
           ],
           "y": [
            1.3793669939041138,
            1.3993616104125977
           ],
           "z": [
            0.10047771036624908,
            0.0928325429558754
           ]
          },
          {
           "line": {
            "color": "black",
            "width": 2
           },
           "mode": "lines",
           "showlegend": false,
           "type": "scatter3d",
           "x": [
            0.3969053626060486,
            0.615973711013794
           ],
           "y": [
            1.3993616104125977,
            1.3918564319610596
           ],
           "z": [
            0.0928325429558754,
            0.09400676935911179
           ]
          },
          {
           "line": {
            "color": "black",
            "width": 2
           },
           "mode": "lines",
           "showlegend": false,
           "type": "scatter3d",
           "x": [
            0,
            -0.0020000000949949026
           ],
           "y": [
            0,
            0.996999979019165
           ],
           "z": [
            0,
            -0.012400000356137753
           ]
          },
          {
           "line": {
            "color": "black",
            "width": 2
           },
           "mode": "lines",
           "showlegend": false,
           "type": "scatter3d",
           "x": [
            -0.0020000000949949026,
            0.23401226103305817
           ],
           "y": [
            0.996999979019165,
            1.4565601348876953
           ],
           "z": [
            -0.012400000356137753,
            -0.2238001674413681
           ]
          },
          {
           "line": {
            "color": "black",
            "width": 2
           },
           "mode": "lines",
           "showlegend": false,
           "type": "scatter3d",
           "x": [
            0.23401226103305817,
            0.5519554018974304
           ],
           "y": [
            1.4565601348876953,
            1.3908917903900146
           ],
           "z": [
            -0.2238001674413681,
            -0.17174920439720154
           ]
          },
          {
           "line": {
            "color": "black",
            "width": 2
           },
           "mode": "lines",
           "showlegend": false,
           "type": "scatter3d",
           "x": [
            0.5519554018974304,
            0.7414669990539551
           ],
           "y": [
            1.3908917903900146,
            1.295738935470581
           ],
           "z": [
            -0.17174920439720154,
            -0.11317194998264313
           ]
          },
          {
           "line": {
            "color": "black",
            "width": 2
           },
           "mode": "lines",
           "showlegend": false,
           "type": "scatter3d",
           "x": [
            0,
            -0.04529999941587448
           ],
           "y": [
            0,
            0.9214000105857849
           ],
           "z": [
            0,
            -0.20730000734329224
           ]
          },
          {
           "line": {
            "color": "black",
            "width": 2
           },
           "mode": "lines",
           "showlegend": false,
           "type": "scatter3d",
           "x": [
            -0.04529999941587448,
            0.19962894916534424
           ],
           "y": [
            0.9214000105857849,
            1.3598848581314087
           ],
           "z": [
            -0.20730000734329224,
            -0.4394245445728302
           ]
          },
          {
           "line": {
            "color": "black",
            "width": 2
           },
           "mode": "lines",
           "showlegend": false,
           "type": "scatter3d",
           "x": [
            0.19962894916534424,
            0.5309344530105591
           ],
           "y": [
            1.3598848581314087,
            1.3442035913467407
           ],
           "z": [
            -0.4394245445728302,
            -0.41603603959083557
           ]
          },
          {
           "line": {
            "color": "black",
            "width": 2
           },
           "mode": "lines",
           "showlegend": false,
           "type": "scatter3d",
           "x": [
            0.5309344530105591,
            0.7176528573036194
           ],
           "y": [
            1.3442035913467407,
            1.2438474893569946
           ],
           "z": [
            -0.41603603959083557,
            -0.35213881731033325
           ]
          },
          {
           "line": {
            "color": "black",
            "width": 2
           },
           "mode": "lines",
           "showlegend": false,
           "type": "scatter3d",
           "x": [
            0,
            -0.11640000343322754
           ],
           "y": [
            0,
            0.7821999788284302
           ],
           "z": [
            0,
            -0.3912999927997589
           ]
          },
          {
           "line": {
            "color": "black",
            "width": 2
           },
           "mode": "lines",
           "showlegend": false,
           "type": "scatter3d",
           "x": [
            -0.11640000343322754,
            0.10328719019889832
           ],
           "y": [
            0.7821999788284302,
            1.125213623046875
           ],
           "z": [
            -0.3912999927997589,
            -0.5744140148162842
           ]
          },
          {
           "line": {
            "color": "black",
            "width": 2
           },
           "mode": "lines",
           "showlegend": false,
           "type": "scatter3d",
           "x": [
            0.10328719019889832,
            0.33179157972335815
           ],
           "y": [
            1.125213623046875,
            1.2680325508117676
           ],
           "z": [
            -0.5744140148162842,
            -0.6675295829772949
           ]
          },
          {
           "line": {
            "color": "black",
            "width": 2
           },
           "mode": "lines",
           "showlegend": false,
           "type": "scatter3d",
           "x": [
            0.33179157972335815,
            0.48805123567581177
           ],
           "y": [
            1.2680325508117676,
            1.1168466806411743
           ],
           "z": [
            -0.6675295829772949,
            -0.6179839968681335
           ]
          },
          {
           "line": {
            "color": "black",
            "width": 2
           },
           "mode": "lines",
           "showlegend": false,
           "type": "scatter3d",
           "x": [
            0.019191592931747437,
            -0.0019000000320374966
           ],
           "y": [
            0.4743742346763611,
            0.9692999720573425
           ],
           "z": [
            0.3247081935405731,
            0.2282000035047531
           ]
          },
          {
           "line": {
            "color": "black",
            "width": 2
           },
           "mode": "lines",
           "showlegend": false,
           "type": "scatter3d",
           "x": [
            -0.0019000000320374966,
            -0.0020000000949949026
           ],
           "y": [
            0.9692999720573425,
            0.996999979019165
           ],
           "z": [
            0.2282000035047531,
            -0.012400000356137753
           ]
          },
          {
           "line": {
            "color": "black",
            "width": 2
           },
           "mode": "lines",
           "showlegend": false,
           "type": "scatter3d",
           "x": [
            -0.0020000000949949026,
            -0.04529999941587448
           ],
           "y": [
            0.996999979019165,
            0.9214000105857849
           ],
           "z": [
            -0.012400000356137753,
            -0.20730000734329224
           ]
          },
          {
           "line": {
            "color": "black",
            "width": 2
           },
           "mode": "lines",
           "showlegend": false,
           "type": "scatter3d",
           "x": [
            -0.04529999941587448,
            -0.11640000343322754
           ],
           "y": [
            0.9214000105857849,
            0.7821999788284302
           ],
           "z": [
            -0.20730000734329224,
            -0.3912999927997589
           ]
          }
         ],
         "name": "14"
        },
        {
         "data": [
          {
           "marker": {
            "color": "blue",
            "size": 4
           },
           "mode": "markers+text",
           "name": "Landmarks",
           "text": [
            "0",
            "1",
            "2",
            "3",
            "4",
            "5",
            "6",
            "7",
            "8",
            "9",
            "10",
            "11",
            "12",
            "13",
            "14",
            "15",
            "16",
            "17",
            "18",
            "19"
           ],
           "textfont": {
            "color": "black",
            "size": 8
           },
           "textposition": "top center",
           "type": "scatter3d",
           "x": {
            "bdata": "AAAAAMAlrDysMx0+gFi6PWwJ+bop0Q0+DMLTPrr8IT9vEgO7uBp2Puj4Dj+DYz8/fow5vfzOSz7cxAc/glg3PyBj7r3SE9Q9lh6qPooD+j4=",
            "dtype": "f4"
           },
           "y": {
            "bdata": "AAAAACBU8T46WUE/bFJpPwskeD+2rq8/CxqzP1S4sj9kO38/4gG6P97YsT/3sKU/3+BrP8sIrj/5F6w/ECGfP0I+SD+MB5A/K0iiPy3ljj8=",
            "dtype": "f4"
           },
           "z": {
            "bdata": "AAAAAH3Coj7MfN894LTOvUOtaT4ct8U94si1PVFhuT1fKUu89VVlvs/lLr7otOK9dEZUvjCK4b7sdtW++jO0vnlYyL7G9RK/M8EqvygcHr8=",
            "dtype": "f4"
           }
          },
          {
           "line": {
            "color": "black",
            "width": 2
           },
           "mode": "lines",
           "showlegend": false,
           "type": "scatter3d",
           "x": [
            0,
            0.021014094352722168
           ],
           "y": [
            0,
            0.4713449478149414
           ],
           "z": [
            0,
            0.31789007782936096
           ]
          },
          {
           "line": {
            "color": "black",
            "width": 2
           },
           "mode": "lines",
           "showlegend": false,
           "type": "scatter3d",
           "x": [
            0.021014094352722168,
            0.15351742506027222
           ],
           "y": [
            0.4713449478149414,
            0.7552677392959595
           ],
           "z": [
            0.31789007782936096,
            0.10912474989891052
           ]
          },
          {
           "line": {
            "color": "black",
            "width": 2
           },
           "mode": "lines",
           "showlegend": false,
           "type": "scatter3d",
           "x": [
            0.15351742506027222,
            0.0909891128540039
           ],
           "y": [
            0.7552677392959595,
            0.9114139080047607
           ],
           "z": [
            0.10912474989891052,
            -0.10093092918395996
           ]
          },
          {
           "line": {
            "color": "black",
            "width": 2
           },
           "mode": "lines",
           "showlegend": false,
           "type": "scatter3d",
           "x": [
            0,
            -0.0019000000320374966
           ],
           "y": [
            0,
            0.9692999720573425
           ],
           "z": [
            0,
            0.2282000035047531
           ]
          },
          {
           "line": {
            "color": "black",
            "width": 2
           },
           "mode": "lines",
           "showlegend": false,
           "type": "scatter3d",
           "x": [
            -0.0019000000320374966,
            0.13849319517612457
           ],
           "y": [
            0.9692999720573425,
            1.3725192546844482
           ],
           "z": [
            0.2282000035047531,
            0.0965406596660614
           ]
          },
          {
           "line": {
            "color": "black",
            "width": 2
           },
           "mode": "lines",
           "showlegend": false,
           "type": "scatter3d",
           "x": [
            0.13849319517612457,
            0.41358983516693115
           ],
           "y": [
            1.3725192546844482,
            1.399232268333435
           ],
           "z": [
            0.0965406596660614,
            0.0887620598077774
           ]
          },
          {
           "line": {
            "color": "black",
            "width": 2
           },
           "mode": "lines",
           "showlegend": false,
           "type": "scatter3d",
           "x": [
            0.41358983516693115,
            0.6327625513076782
           ],
           "y": [
            1.399232268333435,
            1.3962502479553223
           ],
           "z": [
            0.0887620598077774,
            0.09051764756441116
           ]
          },
          {
           "line": {
            "color": "black",
            "width": 2
           },
           "mode": "lines",
           "showlegend": false,
           "type": "scatter3d",
           "x": [
            0,
            -0.0020000000949949026
           ],
           "y": [
            0,
            0.996999979019165
           ],
           "z": [
            0,
            -0.012400000356137753
           ]
          },
          {
           "line": {
            "color": "black",
            "width": 2
           },
           "mode": "lines",
           "showlegend": false,
           "type": "scatter3d",
           "x": [
            -0.0020000000949949026,
            0.24033629894256592
           ],
           "y": [
            0.996999979019165,
            1.4531824588775635
           ],
           "z": [
            -0.012400000356137753,
            -0.22396071255207062
           ]
          },
          {
           "line": {
            "color": "black",
            "width": 2
           },
           "mode": "lines",
           "showlegend": false,
           "type": "scatter3d",
           "x": [
            0.24033629894256592,
            0.5584855079650879
           ],
           "y": [
            1.4531824588775635,
            1.3894307613372803
           ],
           "z": [
            -0.22396071255207062,
            -0.17079852521419525
           ]
          },
          {
           "line": {
            "color": "black",
            "width": 2
           },
           "mode": "lines",
           "showlegend": false,
           "type": "scatter3d",
           "x": [
            0.5584855079650879,
            0.7476121783256531
           ],
           "y": [
            1.3894307613372803,
            1.294463038444519
           ],
           "z": [
            -0.17079852521419525,
            -0.11069661378860474
           ]
          },
          {
           "line": {
            "color": "black",
            "width": 2
           },
           "mode": "lines",
           "showlegend": false,
           "type": "scatter3d",
           "x": [
            0,
            -0.04529999941587448
           ],
           "y": [
            0,
            0.9214000105857849
           ],
           "z": [
            0,
            -0.20730000734329224
           ]
          },
          {
           "line": {
            "color": "black",
            "width": 2
           },
           "mode": "lines",
           "showlegend": false,
           "type": "scatter3d",
           "x": [
            -0.04529999941587448,
            0.1990317702293396
           ],
           "y": [
            0.9214000105857849,
            1.3596433401107788
           ],
           "z": [
            -0.20730000734329224,
            -0.4405074119567871
           ]
          },
          {
           "line": {
            "color": "black",
            "width": 2
           },
           "mode": "lines",
           "showlegend": false,
           "type": "scatter3d",
           "x": [
            0.1990317702293396,
            0.5303475856781006
           ],
           "y": [
            1.3596433401107788,
            1.3444815874099731
           ],
           "z": [
            -0.4405074119567871,
            -0.416922926902771
           ]
          },
          {
           "line": {
            "color": "black",
            "width": 2
           },
           "mode": "lines",
           "showlegend": false,
           "type": "scatter3d",
           "x": [
            0.5303475856781006,
            0.7161942720413208
           ],
           "y": [
            1.3444815874099731,
            1.2431964874267578
           ],
           "z": [
            -0.416922926902771,
            -0.3519590497016907
           ]
          },
          {
           "line": {
            "color": "black",
            "width": 2
           },
           "mode": "lines",
           "showlegend": false,
           "type": "scatter3d",
           "x": [
            0,
            -0.11640000343322754
           ],
           "y": [
            0,
            0.7821999788284302
           ],
           "z": [
            0,
            -0.3912999927997589
           ]
          },
          {
           "line": {
            "color": "black",
            "width": 2
           },
           "mode": "lines",
           "showlegend": false,
           "type": "scatter3d",
           "x": [
            -0.11640000343322754,
            0.10355342924594879
           ],
           "y": [
            0.7821999788284302,
            1.125230312347412
           ],
           "z": [
            -0.3912999927997589,
            -0.574062705039978
           ]
          },
          {
           "line": {
            "color": "black",
            "width": 2
           },
           "mode": "lines",
           "showlegend": false,
           "type": "scatter3d",
           "x": [
            0.10355342924594879,
            0.33226460218429565
           ],
           "y": [
            1.125230312347412,
            1.2678273916244507
           ],
           "z": [
            -0.574062705039978,
            -0.667010486125946
           ]
          },
          {
           "line": {
            "color": "black",
            "width": 2
           },
           "mode": "lines",
           "showlegend": false,
           "type": "scatter3d",
           "x": [
            0.33226460218429565,
            0.48830825090408325
           ],
           "y": [
            1.2678273916244507,
            1.1163688898086548
           ],
           "z": [
            -0.667010486125946,
            -0.617617130279541
           ]
          },
          {
           "line": {
            "color": "black",
            "width": 2
           },
           "mode": "lines",
           "showlegend": false,
           "type": "scatter3d",
           "x": [
            0.021014094352722168,
            -0.0019000000320374966
           ],
           "y": [
            0.4713449478149414,
            0.9692999720573425
           ],
           "z": [
            0.31789007782936096,
            0.2282000035047531
           ]
          },
          {
           "line": {
            "color": "black",
            "width": 2
           },
           "mode": "lines",
           "showlegend": false,
           "type": "scatter3d",
           "x": [
            -0.0019000000320374966,
            -0.0020000000949949026
           ],
           "y": [
            0.9692999720573425,
            0.996999979019165
           ],
           "z": [
            0.2282000035047531,
            -0.012400000356137753
           ]
          },
          {
           "line": {
            "color": "black",
            "width": 2
           },
           "mode": "lines",
           "showlegend": false,
           "type": "scatter3d",
           "x": [
            -0.0020000000949949026,
            -0.04529999941587448
           ],
           "y": [
            0.996999979019165,
            0.9214000105857849
           ],
           "z": [
            -0.012400000356137753,
            -0.20730000734329224
           ]
          },
          {
           "line": {
            "color": "black",
            "width": 2
           },
           "mode": "lines",
           "showlegend": false,
           "type": "scatter3d",
           "x": [
            -0.04529999941587448,
            -0.11640000343322754
           ],
           "y": [
            0.9214000105857849,
            0.7821999788284302
           ],
           "z": [
            -0.20730000734329224,
            -0.3912999927997589
           ]
          }
         ],
         "name": "15"
        },
        {
         "data": [
          {
           "marker": {
            "color": "blue",
            "size": 4
           },
           "mode": "markers+text",
           "name": "Landmarks",
           "text": [
            "0",
            "1",
            "2",
            "3",
            "4",
            "5",
            "6",
            "7",
            "8",
            "9",
            "10",
            "11",
            "12",
            "13",
            "14",
            "15",
            "16",
            "17",
            "18",
            "19"
           ],
           "textfont": {
            "color": "black",
            "size": 8
           },
           "textposition": "top center",
           "type": "scatter3d",
           "x": {
            "bdata": "AAAAAIBMmzycSA4+JiCBPWwJ+brY1uo9fBfHPkKjGz9vEgO7G/BZPlFtCD9v0Tk/fow5vY7UPT6gQAQ/j5o0PyBj7r2qKtQ91SeqPpAH+j4=",
            "dtype": "f4"
           },
           "y": {
            "bdata": "AAAAAJBl8j6+gUE/BHRnPwskeD+gPrA/+7G0P3t+tT9kO38/iDy6PyaZtD+jNao/3+BrP1errj/opaw/FEOgP0I+SD9WCpA/zkqiP9jkjj8=",
            "dtype": "f4"
           },
           "z": {
            "bdata": "AAAAAAqMnz7Ifb89gmvxvUOtaT5Me7I9K8GhPU7Xoz1fKUu8+lx+vsz3P74mMvW9dEZUvv7V475eXNe+ww23vnlYyL7c5xK/aK8qv1YUHr8=",
            "dtype": "f4"
           }
          },
          {
           "line": {
            "color": "black",
            "width": 2
           },
           "mode": "lines",
           "showlegend": false,
           "type": "scatter3d",
           "x": [
            0,
            0.01895737648010254
           ],
           "y": [
            0,
            0.4734311103820801
           ],
           "z": [
            0,
            0.3116152882575989
           ]
          },
          {
           "line": {
            "color": "black",
            "width": 2
           },
           "mode": "lines",
           "showlegend": false,
           "type": "scatter3d",
           "x": [
            0.01895737648010254,
            0.13894885778427124
           ],
           "y": [
            0.4734311103820801,
            0.7558859586715698
           ],
           "z": [
            0.3116152882575989,
            0.09350162744522095
           ]
          },
          {
           "line": {
            "color": "black",
            "width": 2
           },
           "mode": "lines",
           "showlegend": false,
           "type": "scatter3d",
           "x": [
            0.13894885778427124,
            0.06304959952831268
           ],
           "y": [
            0.7558859586715698,
            0.9041140079498291
           ],
           "z": [
            0.09350162744522095,
            -0.11788083612918854
           ]
          },
          {
           "line": {
            "color": "black",
            "width": 2
           },
           "mode": "lines",
           "showlegend": false,
           "type": "scatter3d",
           "x": [
            0,
            -0.0019000000320374966
           ],
           "y": [
            0,
            0.9692999720573425
           ],
           "z": [
            0,
            0.2282000035047531
           ]
          },
          {
           "line": {
            "color": "black",
            "width": 2
           },
           "mode": "lines",
           "showlegend": false,
           "type": "scatter3d",
           "x": [
            -0.0019000000320374966,
            0.11466759443283081
           ],
           "y": [
            0.9692999720573425,
            1.3769111633300781
           ],
           "z": [
            0.2282000035047531,
            0.0871492326259613
           ]
          },
          {
           "line": {
            "color": "black",
            "width": 2
           },
           "mode": "lines",
           "showlegend": false,
           "type": "scatter3d",
           "x": [
            0.11466759443283081,
            0.3888510465621948
           ],
           "y": [
            1.3769111633300781,
            1.4116815328598022
           ],
           "z": [
            0.0871492326259613,
            0.07898171991109848
           ]
          },
          {
           "line": {
            "color": "black",
            "width": 2
           },
           "mode": "lines",
           "showlegend": false,
           "type": "scatter3d",
           "x": [
            0.3888510465621948,
            0.6079598665237427
           ],
           "y": [
            1.4116815328598022,
            1.4179223775863647
           ],
           "z": [
            0.07898171991109848,
            0.08000050485134125
           ]
          },
          {
           "line": {
            "color": "black",
            "width": 2
           },
           "mode": "lines",
           "showlegend": false,
           "type": "scatter3d",
           "x": [
            0,
            -0.0020000000949949026
           ],
           "y": [
            0,
            0.996999979019165
           ],
           "z": [
            0,
            -0.012400000356137753
           ]
          },
          {
           "line": {
            "color": "black",
            "width": 2
           },
           "mode": "lines",
           "showlegend": false,
           "type": "scatter3d",
           "x": [
            -0.0020000000949949026,
            0.21282999217510223
           ],
           "y": [
            0.996999979019165,
            1.454972267150879
           ],
           "z": [
            -0.012400000356137753,
            -0.24840155243873596
           ]
          },
          {
           "line": {
            "color": "black",
            "width": 2
           },
           "mode": "lines",
           "showlegend": false,
           "type": "scatter3d",
           "x": [
            0.21282999217510223,
            0.5329180359840393
           ],
           "y": [
            1.454972267150879,
            1.410923719406128
           ],
           "z": [
            -0.24840155243873596,
            -0.18746870756149292
           ]
          },
          {
           "line": {
            "color": "black",
            "width": 2
           },
           "mode": "lines",
           "showlegend": false,
           "type": "scatter3d",
           "x": [
            0.5329180359840393,
            0.7258519530296326
           ],
           "y": [
            1.410923719406128,
            1.3297618627548218
           ],
           "z": [
            -0.18746870756149292,
            -0.11972455680370331
           ]
          },
          {
           "line": {
            "color": "black",
            "width": 2
           },
           "mode": "lines",
           "showlegend": false,
           "type": "scatter3d",
           "x": [
            0,
            -0.04529999941587448
           ],
           "y": [
            0,
            0.9214000105857849
           ],
           "z": [
            0,
            -0.20730000734329224
           ]
          },
          {
           "line": {
            "color": "black",
            "width": 2
           },
           "mode": "lines",
           "showlegend": false,
           "type": "scatter3d",
           "x": [
            -0.04529999941587448,
            0.18538114428520203
           ],
           "y": [
            0.9214000105857849,
            1.364603877067566
           ],
           "z": [
            -0.20730000734329224,
            -0.4449920058250427
           ]
          },
          {
           "line": {
            "color": "black",
            "width": 2
           },
           "mode": "lines",
           "showlegend": false,
           "type": "scatter3d",
           "x": [
            0.18538114428520203,
            0.5166110992431641
           ],
           "y": [
            1.364603877067566,
            1.3488130569458008
           ],
           "z": [
            -0.4449920058250427,
            -0.42062658071517944
           ]
          },
          {
           "line": {
            "color": "black",
            "width": 2
           },
           "mode": "lines",
           "showlegend": false,
           "type": "scatter3d",
           "x": [
            0.5166110992431641,
            0.7054833769798279
           ],
           "y": [
            1.3488130569458008,
            1.252047061920166
           ],
           "z": [
            -0.42062658071517944,
            -0.35752686858177185
           ]
          },
          {
           "line": {
            "color": "black",
            "width": 2
           },
           "mode": "lines",
           "showlegend": false,
           "type": "scatter3d",
           "x": [
            0,
            -0.11640000343322754
           ],
           "y": [
            0,
            0.7821999788284302
           ],
           "z": [
            0,
            -0.3912999927997589
           ]
          },
          {
           "line": {
            "color": "black",
            "width": 2
           },
           "mode": "lines",
           "showlegend": false,
           "type": "scatter3d",
           "x": [
            -0.11640000343322754,
            0.1035970002412796
           ],
           "y": [
            0.7821999788284302,
            1.1253154277801514
           ],
           "z": [
            -0.3912999927997589,
            -0.5738503932952881
           ]
          },
          {
           "line": {
            "color": "black",
            "width": 2
           },
           "mode": "lines",
           "showlegend": false,
           "type": "scatter3d",
           "x": [
            0.1035970002412796,
            0.33233514428138733
           ],
           "y": [
            1.1253154277801514,
            1.2679078578948975
           ],
           "z": [
            -0.5738503932952881,
            -0.6667389869689941
           ]
          },
          {
           "line": {
            "color": "black",
            "width": 2
           },
           "mode": "lines",
           "showlegend": false,
           "type": "scatter3d",
           "x": [
            0.33233514428138733,
            0.4883389472961426
           ],
           "y": [
            1.2679078578948975,
            1.116358757019043
           ],
           "z": [
            -0.6667389869689941,
            -0.6174978017807007
           ]
          },
          {
           "line": {
            "color": "black",
            "width": 2
           },
           "mode": "lines",
           "showlegend": false,
           "type": "scatter3d",
           "x": [
            0.01895737648010254,
            -0.0019000000320374966
           ],
           "y": [
            0.4734311103820801,
            0.9692999720573425
           ],
           "z": [
            0.3116152882575989,
            0.2282000035047531
           ]
          },
          {
           "line": {
            "color": "black",
            "width": 2
           },
           "mode": "lines",
           "showlegend": false,
           "type": "scatter3d",
           "x": [
            -0.0019000000320374966,
            -0.0020000000949949026
           ],
           "y": [
            0.9692999720573425,
            0.996999979019165
           ],
           "z": [
            0.2282000035047531,
            -0.012400000356137753
           ]
          },
          {
           "line": {
            "color": "black",
            "width": 2
           },
           "mode": "lines",
           "showlegend": false,
           "type": "scatter3d",
           "x": [
            -0.0020000000949949026,
            -0.04529999941587448
           ],
           "y": [
            0.996999979019165,
            0.9214000105857849
           ],
           "z": [
            -0.012400000356137753,
            -0.20730000734329224
           ]
          },
          {
           "line": {
            "color": "black",
            "width": 2
           },
           "mode": "lines",
           "showlegend": false,
           "type": "scatter3d",
           "x": [
            -0.04529999941587448,
            -0.11640000343322754
           ],
           "y": [
            0.9214000105857849,
            0.7821999788284302
           ],
           "z": [
            -0.20730000734329224,
            -0.3912999927997589
           ]
          }
         ],
         "name": "16"
        },
        {
         "data": [
          {
           "marker": {
            "color": "blue",
            "size": 4
           },
           "mode": "markers+text",
           "name": "Landmarks",
           "text": [
            "0",
            "1",
            "2",
            "3",
            "4",
            "5",
            "6",
            "7",
            "8",
            "9",
            "10",
            "11",
            "12",
            "13",
            "14",
            "15",
            "16",
            "17",
            "18",
            "19"
           ],
           "textfont": {
            "color": "black",
            "size": 8
           },
           "textposition": "top center",
           "type": "scatter3d",
           "x": {
            "bdata": "AAAAAKCmnDzv+A8+PfaFPWwJ+bqDNfE9+M3IPmeBHD9vEgO7cFRfPsagCT8a4Do/fow5vT7JPT6wNAQ/9rI0PyBj7r1qBdQ98hqqPsj++T4=",
            "dtype": "f4"
           },
           "y": {
            "bdata": "AAAAAF5Z8j7qk0E/EKZnPwskeD/uIrA/AV20P2bltD9kO38/g/a5P/4ctD9mqKk/3+BrP6S8rj+MeKw/GSegP0I+SD9GCpA/hUuiPyfnjj8=",
            "dtype": "f4"
           },
           "z": {
            "bdata": "AAAAAJYToD5aSMQ9SnPsvUOtaT520bI9cXWjPU0lpz1fKUu8Q6F9vuJrPb6OIe69dEZUvh5a474nlta+27e2vnlYyL607RK/Qrcqv+EYHr8=",
            "dtype": "f4"
           }
          },
          {
           "line": {
            "color": "black",
            "width": 2
           },
           "mode": "lines",
           "showlegend": false,
           "type": "scatter3d",
           "x": [
            0,
            0.019122421741485596
           ],
           "y": [
            0,
            0.4733380675315857
           ],
           "z": [
            0,
            0.3126494288444519
           ]
          },
          {
           "line": {
            "color": "black",
            "width": 2
           },
           "mode": "lines",
           "showlegend": false,
           "type": "scatter3d",
           "x": [
            0.019122421741485596,
            0.14059804379940033
           ],
           "y": [
            0.4733380675315857,
            0.7561632394790649
           ],
           "z": [
            0.3126494288444519,
            0.09584112465381622
           ]
          },
          {
           "line": {
            "color": "black",
            "width": 2
           },
           "mode": "lines",
           "showlegend": false,
           "type": "scatter3d",
           "x": [
            0.14059804379940033,
            0.06541106849908829
           ],
           "y": [
            0.7561632394790649,
            0.9048776626586914
           ],
           "z": [
            0.09584112465381622,
            -0.11545427143573761
           ]
          },
          {
           "line": {
            "color": "black",
            "width": 2
           },
           "mode": "lines",
           "showlegend": false,
           "type": "scatter3d",
           "x": [
            0,
            -0.0019000000320374966
           ],
           "y": [
            0,
            0.9692999720573425
           ],
           "z": [
            0,
            0.2282000035047531
           ]
          },
          {
           "line": {
            "color": "black",
            "width": 2
           },
           "mode": "lines",
           "showlegend": false,
           "type": "scatter3d",
           "x": [
            -0.0019000000320374966,
            0.11777784675359726
           ],
           "y": [
            0.9692999720573425,
            1.376065969467163
           ],
           "z": [
            0.2282000035047531,
            0.08731357753276825
           ]
          },
          {
           "line": {
            "color": "black",
            "width": 2
           },
           "mode": "lines",
           "showlegend": false,
           "type": "scatter3d",
           "x": [
            0.11777784675359726,
            0.3921964168548584
           ],
           "y": [
            1.376065969467163,
            1.4090882539749146
           ],
           "z": [
            0.08731357753276825,
            0.07981384545564651
           ]
          },
          {
           "line": {
            "color": "black",
            "width": 2
           },
           "mode": "lines",
           "showlegend": false,
           "type": "scatter3d",
           "x": [
            0.3921964168548584,
            0.6113495230674744
           ],
           "y": [
            1.4090882539749146,
            1.4132506847381592
           ],
           "z": [
            0.07981384545564651,
            0.08161411434412003
           ]
          },
          {
           "line": {
            "color": "black",
            "width": 2
           },
           "mode": "lines",
           "showlegend": false,
           "type": "scatter3d",
           "x": [
            0,
            -0.0020000000949949026
           ],
           "y": [
            0,
            0.996999979019165
           ],
           "z": [
            0,
            -0.012400000356137753
           ]
          },
          {
           "line": {
            "color": "black",
            "width": 2
           },
           "mode": "lines",
           "showlegend": false,
           "type": "scatter3d",
           "x": [
            -0.0020000000949949026,
            0.2180955410003662
           ],
           "y": [
            0.996999979019165,
            1.4528354406356812
           ],
           "z": [
            -0.012400000356137753,
            -0.2476854771375656
           ]
          },
          {
           "line": {
            "color": "black",
            "width": 2
           },
           "mode": "lines",
           "showlegend": false,
           "type": "scatter3d",
           "x": [
            0.2180955410003662,
            0.5376094579696655
           ],
           "y": [
            1.4528354406356812,
            1.407134771347046
           ],
           "z": [
            -0.2476854771375656,
            -0.18498185276985168
           ]
          },
          {
           "line": {
            "color": "black",
            "width": 2
           },
           "mode": "lines",
           "showlegend": false,
           "type": "scatter3d",
           "x": [
            0.5376094579696655,
            0.7299820184707642
           ],
           "y": [
            1.407134771347046,
            1.3254516124725342
           ],
           "z": [
            -0.18498185276985168,
            -0.11627493798732758
           ]
          },
          {
           "line": {
            "color": "black",
            "width": 2
           },
           "mode": "lines",
           "showlegend": false,
           "type": "scatter3d",
           "x": [
            0,
            -0.04529999941587448
           ],
           "y": [
            0,
            0.9214000105857849
           ],
           "z": [
            0,
            -0.20730000734329224
           ]
          },
          {
           "line": {
            "color": "black",
            "width": 2
           },
           "mode": "lines",
           "showlegend": false,
           "type": "scatter3d",
           "x": [
            -0.04529999941587448,
            0.18533799052238464
           ],
           "y": [
            0.9214000105857849,
            1.3651318550109863
           ],
           "z": [
            -0.20730000734329224,
            -0.44404691457748413
           ]
          },
          {
           "line": {
            "color": "black",
            "width": 2
           },
           "mode": "lines",
           "showlegend": false,
           "type": "scatter3d",
           "x": [
            0.18533799052238464,
            0.5164289474487305
           ],
           "y": [
            1.3651318550109863,
            1.347428798675537
           ],
           "z": [
            -0.44404691457748413,
            -0.4191143214702606
           ]
          },
          {
           "line": {
            "color": "black",
            "width": 2
           },
           "mode": "lines",
           "showlegend": false,
           "type": "scatter3d",
           "x": [
            0.5164289474487305,
            0.7058557271957397
           ],
           "y": [
            1.347428798675537,
            1.2511931657791138
           ],
           "z": [
            -0.4191143214702606,
            -0.35687145590782166
           ]
          },
          {
           "line": {
            "color": "black",
            "width": 2
           },
           "mode": "lines",
           "showlegend": false,
           "type": "scatter3d",
           "x": [
            0,
            -0.11640000343322754
           ],
           "y": [
            0,
            0.7821999788284302
           ],
           "z": [
            0,
            -0.3912999927997589
           ]
          },
          {
           "line": {
            "color": "black",
            "width": 2
           },
           "mode": "lines",
           "showlegend": false,
           "type": "scatter3d",
           "x": [
            -0.11640000343322754,
            0.10352595150470734
           ],
           "y": [
            0.7821999788284302,
            1.1253135204315186
           ],
           "z": [
            -0.3912999927997589,
            -0.5739395618438721
           ]
          },
          {
           "line": {
            "color": "black",
            "width": 2
           },
           "mode": "lines",
           "showlegend": false,
           "type": "scatter3d",
           "x": [
            0.10352595150470734,
            0.3322368264198303
           ],
           "y": [
            1.1253135204315186,
            1.2679296731948853
           ],
           "z": [
            -0.5739395618438721,
            -0.6668587923049927
           ]
          },
          {
           "line": {
            "color": "black",
            "width": 2
           },
           "mode": "lines",
           "showlegend": false,
           "type": "scatter3d",
           "x": [
            0.3322368264198303,
            0.48827195167541504
           ],
           "y": [
            1.2679296731948853,
            1.1164292097091675
           ],
           "z": [
            -0.6668587923049927,
            -0.6175671219825745
           ]
          },
          {
           "line": {
            "color": "black",
            "width": 2
           },
           "mode": "lines",
           "showlegend": false,
           "type": "scatter3d",
           "x": [
            0.019122421741485596,
            -0.0019000000320374966
           ],
           "y": [
            0.4733380675315857,
            0.9692999720573425
           ],
           "z": [
            0.3126494288444519,
            0.2282000035047531
           ]
          },
          {
           "line": {
            "color": "black",
            "width": 2
           },
           "mode": "lines",
           "showlegend": false,
           "type": "scatter3d",
           "x": [
            -0.0019000000320374966,
            -0.0020000000949949026
           ],
           "y": [
            0.9692999720573425,
            0.996999979019165
           ],
           "z": [
            0.2282000035047531,
            -0.012400000356137753
           ]
          },
          {
           "line": {
            "color": "black",
            "width": 2
           },
           "mode": "lines",
           "showlegend": false,
           "type": "scatter3d",
           "x": [
            -0.0020000000949949026,
            -0.04529999941587448
           ],
           "y": [
            0.996999979019165,
            0.9214000105857849
           ],
           "z": [
            -0.012400000356137753,
            -0.20730000734329224
           ]
          },
          {
           "line": {
            "color": "black",
            "width": 2
           },
           "mode": "lines",
           "showlegend": false,
           "type": "scatter3d",
           "x": [
            -0.04529999941587448,
            -0.11640000343322754
           ],
           "y": [
            0.9214000105857849,
            0.7821999788284302
           ],
           "z": [
            -0.20730000734329224,
            -0.3912999927997589
           ]
          }
         ],
         "name": "17"
        },
        {
         "data": [
          {
           "marker": {
            "color": "blue",
            "size": 4
           },
           "mode": "markers+text",
           "name": "Landmarks",
           "text": [
            "0",
            "1",
            "2",
            "3",
            "4",
            "5",
            "6",
            "7",
            "8",
            "9",
            "10",
            "11",
            "12",
            "13",
            "14",
            "15",
            "16",
            "17",
            "18",
            "19"
           ],
           "textfont": {
            "color": "black",
            "size": 8
           },
           "textposition": "top center",
           "type": "scatter3d",
           "x": {
            "bdata": "AAAAADABkTwGzQw+1XOEPWwJ+bqVu8s9lpK/Pr3mFz9vEgO7MnBWPkOMBz+B0Dg/fow5vYA9ST7k9QY/Omc3PyBj7r2yD9Q9/iGqPjL/+T4=",
            "dtype": "f4"
           },
           "y": {
            "bdata": "AAAAAP6O8z7g0UI/bmdpPwskeD8RELE/He60Pyz+tD9kO38/CD+7PwZUtD8jDqk/3+BrP3RRrj+jaqs/+/qeP0I+SD+TDpA/qE+iP3rnjj8=",
            "dtype": "f4"
           },
           "z": {
            "bdata": "AAAAACMroj6KctE9NhHevUOtaT5y78A9ENytPYFQrj1fKUu85lxxvqW8O77sdvy9dEZUvpy84L6MKtO+BrqzvnlYyL782xK/iqAqvyIPHr8=",
            "dtype": "f4"
           }
          },
          {
           "line": {
            "color": "black",
            "width": 2
           },
           "mode": "lines",
           "showlegend": false,
           "type": "scatter3d",
           "x": [
            0,
            0.017700761556625366
           ],
           "y": [
            0,
            0.475700318813324
           ],
           "z": [
            0,
            0.3167353570461273
           ]
          },
          {
           "line": {
            "color": "black",
            "width": 2
           },
           "mode": "lines",
           "showlegend": false,
           "type": "scatter3d",
           "x": [
            0.017700761556625366,
            0.1375008523464203
           ],
           "y": [
            0.475700318813324,
            0.7610149383544922
           ],
           "z": [
            0.3167353570461273,
            0.102269247174263
           ]
          },
          {
           "line": {
            "color": "black",
            "width": 2
           },
           "mode": "lines",
           "showlegend": false,
           "type": "scatter3d",
           "x": [
            0.1375008523464203,
            0.06467405706644058
           ],
           "y": [
            0.7610149383544922,
            0.9117344617843628
           ],
           "z": [
            0.102269247174263,
            -0.10843126475811005
           ]
          },
          {
           "line": {
            "color": "black",
            "width": 2
           },
           "mode": "lines",
           "showlegend": false,
           "type": "scatter3d",
           "x": [
            0,
            -0.0019000000320374966
           ],
           "y": [
            0,
            0.9692999720573425
           ],
           "z": [
            0,
            0.2282000035047531
           ]
          },
          {
           "line": {
            "color": "black",
            "width": 2
           },
           "mode": "lines",
           "showlegend": false,
           "type": "scatter3d",
           "x": [
            -0.0019000000320374966,
            0.09947887808084488
           ],
           "y": [
            0.9692999720573425,
            1.3833028078079224
           ],
           "z": [
            0.2282000035047531,
            0.09420670568943024
           ]
          },
          {
           "line": {
            "color": "black",
            "width": 2
           },
           "mode": "lines",
           "showlegend": false,
           "type": "scatter3d",
           "x": [
            0.09947887808084488,
            0.37416523694992065
           ],
           "y": [
            1.3833028078079224,
            1.413516640663147
           ],
           "z": [
            0.09420670568943024,
            0.0848923921585083
           ]
          },
          {
           "line": {
            "color": "black",
            "width": 2
           },
           "mode": "lines",
           "showlegend": false,
           "type": "scatter3d",
           "x": [
            0.37416523694992065,
            0.5933645367622375
           ],
           "y": [
            1.413516640663147,
            1.4140067100524902
           ],
           "z": [
            0.0848923921585083,
            0.085114486515522
           ]
          },
          {
           "line": {
            "color": "black",
            "width": 2
           },
           "mode": "lines",
           "showlegend": false,
           "type": "scatter3d",
           "x": [
            0,
            -0.0020000000949949026
           ],
           "y": [
            0,
            0.996999979019165
           ],
           "z": [
            0,
            -0.012400000356137753
           ]
          },
          {
           "line": {
            "color": "black",
            "width": 2
           },
           "mode": "lines",
           "showlegend": false,
           "type": "scatter3d",
           "x": [
            -0.0020000000949949026,
            0.2094123661518097
           ],
           "y": [
            0.996999979019165,
            1.4628610610961914
           ],
           "z": [
            -0.012400000356137753,
            -0.23570594191551208
           ]
          },
          {
           "line": {
            "color": "black",
            "width": 2
           },
           "mode": "lines",
           "showlegend": false,
           "type": "scatter3d",
           "x": [
            0.2094123661518097,
            0.52948397397995
           ],
           "y": [
            1.4628610610961914,
            1.4088141918182373
           ],
           "z": [
            -0.23570594191551208,
            -0.18333680927753448
           ]
          },
          {
           "line": {
            "color": "black",
            "width": 2
           },
           "mode": "lines",
           "showlegend": false,
           "type": "scatter3d",
           "x": [
            0.52948397397995,
            0.721931517124176
           ],
           "y": [
            1.4088141918182373,
            1.3207439184188843
           ],
           "z": [
            -0.18333680927753448,
            -0.12327370047569275
           ]
          },
          {
           "line": {
            "color": "black",
            "width": 2
           },
           "mode": "lines",
           "showlegend": false,
           "type": "scatter3d",
           "x": [
            0,
            -0.04529999941587448
           ],
           "y": [
            0,
            0.9214000105857849
           ],
           "z": [
            0,
            -0.20730000734329224
           ]
          },
          {
           "line": {
            "color": "black",
            "width": 2
           },
           "mode": "lines",
           "showlegend": false,
           "type": "scatter3d",
           "x": [
            -0.04529999941587448,
            0.19652366638183594
           ],
           "y": [
            0.9214000105857849,
            1.361860752105713
           ],
           "z": [
            -0.20730000734329224,
            -0.4389389753341675
           ]
          },
          {
           "line": {
            "color": "black",
            "width": 2
           },
           "mode": "lines",
           "showlegend": false,
           "type": "scatter3d",
           "x": [
            0.19652366638183594,
            0.5271894931793213
           ],
           "y": [
            1.361860752105713,
            1.3391917943954468
           ],
           "z": [
            -0.4389389753341675,
            -0.4124339818954468
           ]
          },
          {
           "line": {
            "color": "black",
            "width": 2
           },
           "mode": "lines",
           "showlegend": false,
           "type": "scatter3d",
           "x": [
            0.5271894931793213,
            0.7164188623428345
           ],
           "y": [
            1.3391917943954468,
            1.2420343160629272
           ],
           "z": [
            -0.4124339818954468,
            -0.3510286211967468
           ]
          },
          {
           "line": {
            "color": "black",
            "width": 2
           },
           "mode": "lines",
           "showlegend": false,
           "type": "scatter3d",
           "x": [
            0,
            -0.11640000343322754
           ],
           "y": [
            0,
            0.7821999788284302
           ],
           "z": [
            0,
            -0.3912999927997589
           ]
          },
          {
           "line": {
            "color": "black",
            "width": 2
           },
           "mode": "lines",
           "showlegend": false,
           "type": "scatter3d",
           "x": [
            -0.11640000343322754,
            0.10354556143283844
           ],
           "y": [
            0.7821999788284302,
            1.125444769859314
           ],
           "z": [
            -0.3912999927997589,
            -0.5736691951751709
           ]
          },
          {
           "line": {
            "color": "black",
            "width": 2
           },
           "mode": "lines",
           "showlegend": false,
           "type": "scatter3d",
           "x": [
            0.10354556143283844,
            0.3322905898094177
           ],
           "y": [
            1.125444769859314,
            1.2680559158325195
           ],
           "z": [
            -0.5736691951751709,
            -0.666512131690979
           ]
          },
          {
           "line": {
            "color": "black",
            "width": 2
           },
           "mode": "lines",
           "showlegend": false,
           "type": "scatter3d",
           "x": [
            0.3322905898094177,
            0.48827511072158813
           ],
           "y": [
            1.2680559158325195,
            1.1164391040802002
           ],
           "z": [
            -0.666512131690979,
            -0.6174184083938599
           ]
          },
          {
           "line": {
            "color": "black",
            "width": 2
           },
           "mode": "lines",
           "showlegend": false,
           "type": "scatter3d",
           "x": [
            0.017700761556625366,
            -0.0019000000320374966
           ],
           "y": [
            0.475700318813324,
            0.9692999720573425
           ],
           "z": [
            0.3167353570461273,
            0.2282000035047531
           ]
          },
          {
           "line": {
            "color": "black",
            "width": 2
           },
           "mode": "lines",
           "showlegend": false,
           "type": "scatter3d",
           "x": [
            -0.0019000000320374966,
            -0.0020000000949949026
           ],
           "y": [
            0.9692999720573425,
            0.996999979019165
           ],
           "z": [
            0.2282000035047531,
            -0.012400000356137753
           ]
          },
          {
           "line": {
            "color": "black",
            "width": 2
           },
           "mode": "lines",
           "showlegend": false,
           "type": "scatter3d",
           "x": [
            -0.0020000000949949026,
            -0.04529999941587448
           ],
           "y": [
            0.996999979019165,
            0.9214000105857849
           ],
           "z": [
            -0.012400000356137753,
            -0.20730000734329224
           ]
          },
          {
           "line": {
            "color": "black",
            "width": 2
           },
           "mode": "lines",
           "showlegend": false,
           "type": "scatter3d",
           "x": [
            -0.04529999941587448,
            -0.11640000343322754
           ],
           "y": [
            0.9214000105857849,
            0.7821999788284302
           ],
           "z": [
            -0.20730000734329224,
            -0.3912999927997589
           ]
          }
         ],
         "name": "18"
        },
        {
         "data": [
          {
           "marker": {
            "color": "blue",
            "size": 4
           },
           "mode": "markers+text",
           "name": "Landmarks",
           "text": [
            "0",
            "1",
            "2",
            "3",
            "4",
            "5",
            "6",
            "7",
            "8",
            "9",
            "10",
            "11",
            "12",
            "13",
            "14",
            "15",
            "16",
            "17",
            "18",
            "19"
           ],
           "textfont": {
            "color": "black",
            "size": 8
           },
           "textposition": "top center",
           "type": "scatter3d",
           "x": {
            "bdata": "AAAAAHDqmjzSdhE+ZXmRPWwJ+brtkeg9G7/GPrR8Gz9vEgO7dg5hPpwWCj/UVjs/fow5vejgSD54ywY/QJE3PyBj7r2+ItQ9dCiqPhwF+j4=",
            "dtype": "f4"
           },
           "y": {
            "bdata": "AAAAAF6r8j52F0I/pN5oPwskeD9shrA/mH60P52ntD9kO38/flu6P3jXsz/o8qg/3+BrP09Lrj8nGqs/Lu+eP0I+SD/UC5A/yUuiP4vkjj8=",
            "dtype": "f4"
           },
           "z": {
            "bdata": "AAAAAGGVoT6U+c89XLDfvUOtaT4w1709Xv2rPfy7rT1fKUu8yb51vuloOr4h9fC9dEZUvnQb4b4DutK+Q6azvnlYyL5x4xK/W6kqv04RHr8=",
            "dtype": "f4"
           }
          },
          {
           "line": {
            "color": "black",
            "width": 2
           },
           "mode": "lines",
           "showlegend": false,
           "type": "scatter3d",
           "x": [
            0,
            0.018910616636276245
           ],
           "y": [
            0,
            0.4739636778831482
           ],
           "z": [
            0,
            0.31559279561042786
           ]
          },
          {
           "line": {
            "color": "black",
            "width": 2
           },
           "mode": "lines",
           "showlegend": false,
           "type": "scatter3d",
           "x": [
            0.018910616636276245,
            0.14205482602119446
           ],
           "y": [
            0.4739636778831482,
            0.758170485496521
           ],
           "z": [
            0.31559279561042786,
            0.10155025124549866
           ]
          },
          {
           "line": {
            "color": "black",
            "width": 2
           },
           "mode": "lines",
           "showlegend": false,
           "type": "scatter3d",
           "x": [
            0.14205482602119446,
            0.0710323229432106
           ],
           "y": [
            0.758170485496521,
            0.9096472263336182
           ],
           "z": [
            0.10155025124549866,
            -0.10922309756278992
           ]
          },
          {
           "line": {
            "color": "black",
            "width": 2
           },
           "mode": "lines",
           "showlegend": false,
           "type": "scatter3d",
           "x": [
            0,
            -0.0019000000320374966
           ],
           "y": [
            0,
            0.9692999720573425
           ],
           "z": [
            0,
            0.2282000035047531
           ]
          },
          {
           "line": {
            "color": "black",
            "width": 2
           },
           "mode": "lines",
           "showlegend": false,
           "type": "scatter3d",
           "x": [
            -0.0019000000320374966,
            0.11355958133935928
           ],
           "y": [
            0.9692999720573425,
            1.3791022300720215
           ],
           "z": [
            0.2282000035047531,
            0.09269559383392334
           ]
          },
          {
           "line": {
            "color": "black",
            "width": 2
           },
           "mode": "lines",
           "showlegend": false,
           "type": "scatter3d",
           "x": [
            0.11355958133935928,
            0.3881767690181732
           ],
           "y": [
            1.3791022300720215,
            1.4101133346557617
           ],
           "z": [
            0.09269559383392334,
            0.08397935330867767
           ]
          },
          {
           "line": {
            "color": "black",
            "width": 2
           },
           "mode": "lines",
           "showlegend": false,
           "type": "scatter3d",
           "x": [
            0.3881767690181732,
            0.6073715686798096
           ],
           "y": [
            1.4101133346557617,
            1.4113651514053345
           ],
           "z": [
            0.08397935330867767,
            0.08483120799064636
           ]
          },
          {
           "line": {
            "color": "black",
            "width": 2
           },
           "mode": "lines",
           "showlegend": false,
           "type": "scatter3d",
           "x": [
            0,
            -0.0020000000949949026
           ],
           "y": [
            0,
            0.996999979019165
           ],
           "z": [
            0,
            -0.012400000356137753
           ]
          },
          {
           "line": {
            "color": "black",
            "width": 2
           },
           "mode": "lines",
           "showlegend": false,
           "type": "scatter3d",
           "x": [
            -0.0020000000949949026,
            0.21978172659873962
           ],
           "y": [
            0.996999979019165,
            1.4559171199798584
           ],
           "z": [
            -0.012400000356137753,
            -0.2399856001138687
           ]
          },
          {
           "line": {
            "color": "black",
            "width": 2
           },
           "mode": "lines",
           "showlegend": false,
           "type": "scatter3d",
           "x": [
            0.21978172659873962,
            0.53940749168396
           ],
           "y": [
            1.4559171199798584,
            1.405013084411621
           ],
           "z": [
            -0.2399856001138687,
            -0.18204082548618317
           ]
          },
          {
           "line": {
            "color": "black",
            "width": 2
           },
           "mode": "lines",
           "showlegend": false,
           "type": "scatter3d",
           "x": [
            0.53940749168396,
            0.7317936420440674
           ],
           "y": [
            1.405013084411621,
            1.3199129104614258
           ],
           "z": [
            -0.18204082548618317,
            -0.11765504628419876
           ]
          },
          {
           "line": {
            "color": "black",
            "width": 2
           },
           "mode": "lines",
           "showlegend": false,
           "type": "scatter3d",
           "x": [
            0,
            -0.04529999941587448
           ],
           "y": [
            0,
            0.9214000105857849
           ],
           "z": [
            0,
            -0.20730000734329224
           ]
          },
          {
           "line": {
            "color": "black",
            "width": 2
           },
           "mode": "lines",
           "showlegend": false,
           "type": "scatter3d",
           "x": [
            -0.04529999941587448,
            0.19617044925689697
           ],
           "y": [
            0.9214000105857849,
            1.3616732358932495
           ],
           "z": [
            -0.20730000734329224,
            -0.4396625757217407
           ]
          },
          {
           "line": {
            "color": "black",
            "width": 2
           },
           "mode": "lines",
           "showlegend": false,
           "type": "scatter3d",
           "x": [
            0.19617044925689697,
            0.5265421867370605
           ],
           "y": [
            1.3616732358932495,
            1.3367356061935425
           ],
           "z": [
            -0.4396625757217407,
            -0.41157540678977966
           ]
          },
          {
           "line": {
            "color": "black",
            "width": 2
           },
           "mode": "lines",
           "showlegend": false,
           "type": "scatter3d",
           "x": [
            0.5265421867370605,
            0.7170600891113281
           ],
           "y": [
            1.3367356061935425,
            1.2416741847991943
           ],
           "z": [
            -0.41157540678977966,
            -0.3508778512477875
           ]
          },
          {
           "line": {
            "color": "black",
            "width": 2
           },
           "mode": "lines",
           "showlegend": false,
           "type": "scatter3d",
           "x": [
            0,
            -0.11640000343322754
           ],
           "y": [
            0,
            0.7821999788284302
           ],
           "z": [
            0,
            -0.3912999927997589
           ]
          },
          {
           "line": {
            "color": "black",
            "width": 2
           },
           "mode": "lines",
           "showlegend": false,
           "type": "scatter3d",
           "x": [
            -0.11640000343322754,
            0.10358189046382904
           ],
           "y": [
            0.7821999788284302,
            1.1253609657287598
           ],
           "z": [
            -0.3912999927997589,
            -0.5737829804420471
           ]
          },
          {
           "line": {
            "color": "black",
            "width": 2
           },
           "mode": "lines",
           "showlegend": false,
           "type": "scatter3d",
           "x": [
            0.10358189046382904,
            0.332339882850647
           ],
           "y": [
            1.1253609657287598,
            1.2679377794265747
           ],
           "z": [
            -0.5737829804420471,
            -0.6666466593742371
           ]
          },
          {
           "line": {
            "color": "black",
            "width": 2
           },
           "mode": "lines",
           "showlegend": false,
           "type": "scatter3d",
           "x": [
            0.332339882850647,
            0.4883202314376831
           ],
           "y": [
            1.2679377794265747,
            1.1163495779037476
           ],
           "z": [
            -0.6666466593742371,
            -0.617451548576355
           ]
          },
          {
           "line": {
            "color": "black",
            "width": 2
           },
           "mode": "lines",
           "showlegend": false,
           "type": "scatter3d",
           "x": [
            0.018910616636276245,
            -0.0019000000320374966
           ],
           "y": [
            0.4739636778831482,
            0.9692999720573425
           ],
           "z": [
            0.31559279561042786,
            0.2282000035047531
           ]
          },
          {
           "line": {
            "color": "black",
            "width": 2
           },
           "mode": "lines",
           "showlegend": false,
           "type": "scatter3d",
           "x": [
            -0.0019000000320374966,
            -0.0020000000949949026
           ],
           "y": [
            0.9692999720573425,
            0.996999979019165
           ],
           "z": [
            0.2282000035047531,
            -0.012400000356137753
           ]
          },
          {
           "line": {
            "color": "black",
            "width": 2
           },
           "mode": "lines",
           "showlegend": false,
           "type": "scatter3d",
           "x": [
            -0.0020000000949949026,
            -0.04529999941587448
           ],
           "y": [
            0.996999979019165,
            0.9214000105857849
           ],
           "z": [
            -0.012400000356137753,
            -0.20730000734329224
           ]
          },
          {
           "line": {
            "color": "black",
            "width": 2
           },
           "mode": "lines",
           "showlegend": false,
           "type": "scatter3d",
           "x": [
            -0.04529999941587448,
            -0.11640000343322754
           ],
           "y": [
            0.9214000105857849,
            0.7821999788284302
           ],
           "z": [
            -0.20730000734329224,
            -0.3912999927997589
           ]
          }
         ],
         "name": "19"
        },
        {
         "data": [
          {
           "marker": {
            "color": "blue",
            "size": 4
           },
           "mode": "markers+text",
           "name": "Landmarks",
           "text": [
            "0",
            "1",
            "2",
            "3",
            "4",
            "5",
            "6",
            "7",
            "8",
            "9",
            "10",
            "11",
            "12",
            "13",
            "14",
            "15",
            "16",
            "17",
            "18",
            "19"
           ],
           "textfont": {
            "color": "black",
            "size": 8
           },
           "textposition": "top center",
           "type": "scatter3d",
           "x": {
            "bdata": "AAAAANDInTxcFRI+N5mQPWwJ+bqwIfA9pKDIPj5tHD9vEgO79mRYPvYHCD/WWjk/fow5vTr9ST4gDwc/Z9k3PyBj7r18AtQ94RuqPmj9+T4=",
            "dtype": "f4"
           },
           "y": {
            "bdata": "AAAAAIhd8j4axUE/5FloPwskeD+VUrA/v1S0P9ZRtD9kO38/PTa7P3g3tD8X86g/3+BrP3o6rj8X/ao/ydaeP0I+SD/HC5A/30yiP0vnjj8=",
            "dtype": "f4"
           },
           "z": {
            "bdata": "AAAAAGoFoT5QOsw93NjjvUOtaT4moLo9gtupPQjbrT1fKUu8chJwvkbyOr7iN/y9dEZUvugG4b7zgNK+MGyzvnlYyL5/6BK/erAqv+cVHr8=",
            "dtype": "f4"
           }
          },
          {
           "line": {
            "color": "black",
            "width": 2
           },
           "mode": "lines",
           "showlegend": false,
           "type": "scatter3d",
           "x": [
            0,
            0.019260793924331665
           ],
           "y": [
            0,
            0.473369836807251
           ],
           "z": [
            0,
            0.31449443101882935
           ]
          },
          {
           "line": {
            "color": "black",
            "width": 2
           },
           "mode": "lines",
           "showlegend": false,
           "type": "scatter3d",
           "x": [
            0.019260793924331665,
            0.14265960454940796
           ],
           "y": [
            0.473369836807251,
            0.7569137811660767
           ],
           "z": [
            0.31449443101882935,
            0.09972059726715088
           ]
          },
          {
           "line": {
            "color": "black",
            "width": 2
           },
           "mode": "lines",
           "showlegend": false,
           "type": "scatter3d",
           "x": [
            0.14265960454940796,
            0.07060473412275314
           ],
           "y": [
            0.7569137811660767,
            0.9076216220855713
           ],
           "z": [
            0.09972059726715088,
            -0.11125347018241882
           ]
          },
          {
           "line": {
            "color": "black",
            "width": 2
           },
           "mode": "lines",
           "showlegend": false,
           "type": "scatter3d",
           "x": [
            0,
            -0.0019000000320374966
           ],
           "y": [
            0,
            0.9692999720573425
           ],
           "z": [
            0,
            0.2282000035047531
           ]
          },
          {
           "line": {
            "color": "black",
            "width": 2
           },
           "mode": "lines",
           "showlegend": false,
           "type": "scatter3d",
           "x": [
            -0.0019000000320374966,
            0.11725175380706787
           ],
           "y": [
            0.9692999720573425,
            1.377520203590393
           ],
           "z": [
            0.2282000035047531,
            0.09112577140331268
           ]
          },
          {
           "line": {
            "color": "black",
            "width": 2
           },
           "mode": "lines",
           "showlegend": false,
           "type": "scatter3d",
           "x": [
            0.11725175380706787,
            0.3918505907058716
           ],
           "y": [
            1.377520203590393,
            1.4088362455368042
           ],
           "z": [
            0.09112577140331268,
            0.08293820917606354
           ]
          },
          {
           "line": {
            "color": "black",
            "width": 2
           },
           "mode": "lines",
           "showlegend": false,
           "type": "scatter3d",
           "x": [
            0.3918505907058716,
            0.6110419034957886
           ],
           "y": [
            1.4088362455368042,
            1.4087474346160889
           ],
           "z": [
            0.08293820917606354,
            0.08489042520523071
           ]
          },
          {
           "line": {
            "color": "black",
            "width": 2
           },
           "mode": "lines",
           "showlegend": false,
           "type": "scatter3d",
           "x": [
            0,
            -0.0020000000949949026
           ],
           "y": [
            0,
            0.996999979019165
           ],
           "z": [
            0,
            -0.012400000356137753
           ]
          },
          {
           "line": {
            "color": "black",
            "width": 2
           },
           "mode": "lines",
           "showlegend": false,
           "type": "scatter3d",
           "x": [
            -0.0020000000949949026,
            0.2113226354122162
           ],
           "y": [
            0.996999979019165,
            1.4625927209854126
           ],
           "z": [
            -0.012400000356137753,
            -0.23444536328315735
           ]
          },
          {
           "line": {
            "color": "black",
            "width": 2
           },
           "mode": "lines",
           "showlegend": false,
           "type": "scatter3d",
           "x": [
            0.2113226354122162,
            0.5313714742660522
           ],
           "y": [
            1.4625927209854126,
            1.407942771911621
           ],
           "z": [
            -0.23444536328315735,
            -0.18256482481956482
           ]
          },
          {
           "line": {
            "color": "black",
            "width": 2
           },
           "mode": "lines",
           "showlegend": false,
           "type": "scatter3d",
           "x": [
            0.5313714742660522,
            0.7240422964096069
           ],
           "y": [
            1.407942771911621,
            1.3199185132980347
           ],
           "z": [
            -0.18256482481956482,
            -0.12315346300601959
           ]
          },
          {
           "line": {
            "color": "black",
            "width": 2
           },
           "mode": "lines",
           "showlegend": false,
           "type": "scatter3d",
           "x": [
            0,
            -0.04529999941587448
           ],
           "y": [
            0,
            0.9214000105857849
           ],
           "z": [
            0,
            -0.20730000734329224
           ]
          },
          {
           "line": {
            "color": "black",
            "width": 2
           },
           "mode": "lines",
           "showlegend": false,
           "type": "scatter3d",
           "x": [
            -0.04529999941587448,
            0.19725504517555237
           ],
           "y": [
            0.9214000105857849,
            1.3611595630645752
           ],
           "z": [
            -0.20730000734329224,
            -0.43950581550598145
           ]
          },
          {
           "line": {
            "color": "black",
            "width": 2
           },
           "mode": "lines",
           "showlegend": false,
           "type": "scatter3d",
           "x": [
            0.19725504517555237,
            0.5275745391845703
           ],
           "y": [
            1.3611595630645752,
            1.3358486890792847
           ],
           "z": [
            -0.43950581550598145,
            -0.4111400544643402
           ]
          },
          {
           "line": {
            "color": "black",
            "width": 2
           },
           "mode": "lines",
           "showlegend": false,
           "type": "scatter3d",
           "x": [
            0.5275745391845703,
            0.7181610465049744
           ],
           "y": [
            1.3358486890792847,
            1.2409297227859497
           ],
           "z": [
            -0.4111400544643402,
            -0.3504347801208496
           ]
          },
          {
           "line": {
            "color": "black",
            "width": 2
           },
           "mode": "lines",
           "showlegend": false,
           "type": "scatter3d",
           "x": [
            0,
            -0.11640000343322754
           ],
           "y": [
            0,
            0.7821999788284302
           ],
           "z": [
            0,
            -0.3912999927997589
           ]
          },
          {
           "line": {
            "color": "black",
            "width": 2
           },
           "mode": "lines",
           "showlegend": false,
           "type": "scatter3d",
           "x": [
            -0.11640000343322754,
            0.10352036356925964
           ],
           "y": [
            0.7821999788284302,
            1.1253594160079956
           ],
           "z": [
            -0.3912999927997589,
            -0.5738601088523865
           ]
          },
          {
           "line": {
            "color": "black",
            "width": 2
           },
           "mode": "lines",
           "showlegend": false,
           "type": "scatter3d",
           "x": [
            0.10352036356925964,
            0.332243949174881
           ],
           "y": [
            1.1253594160079956,
            1.2679709196090698
           ],
           "z": [
            -0.5738601088523865,
            -0.6667553186416626
           ]
          },
          {
           "line": {
            "color": "black",
            "width": 2
           },
           "mode": "lines",
           "showlegend": false,
           "type": "scatter3d",
           "x": [
            0.332243949174881,
            0.48826146125793457
           ],
           "y": [
            1.2679709196090698,
            1.1164335012435913
           ],
           "z": [
            -0.6667553186416626,
            -0.6175217032432556
           ]
          },
          {
           "line": {
            "color": "black",
            "width": 2
           },
           "mode": "lines",
           "showlegend": false,
           "type": "scatter3d",
           "x": [
            0.019260793924331665,
            -0.0019000000320374966
           ],
           "y": [
            0.473369836807251,
            0.9692999720573425
           ],
           "z": [
            0.31449443101882935,
            0.2282000035047531
           ]
          },
          {
           "line": {
            "color": "black",
            "width": 2
           },
           "mode": "lines",
           "showlegend": false,
           "type": "scatter3d",
           "x": [
            -0.0019000000320374966,
            -0.0020000000949949026
           ],
           "y": [
            0.9692999720573425,
            0.996999979019165
           ],
           "z": [
            0.2282000035047531,
            -0.012400000356137753
           ]
          },
          {
           "line": {
            "color": "black",
            "width": 2
           },
           "mode": "lines",
           "showlegend": false,
           "type": "scatter3d",
           "x": [
            -0.0020000000949949026,
            -0.04529999941587448
           ],
           "y": [
            0.996999979019165,
            0.9214000105857849
           ],
           "z": [
            -0.012400000356137753,
            -0.20730000734329224
           ]
          },
          {
           "line": {
            "color": "black",
            "width": 2
           },
           "mode": "lines",
           "showlegend": false,
           "type": "scatter3d",
           "x": [
            -0.04529999941587448,
            -0.11640000343322754
           ],
           "y": [
            0.9214000105857849,
            0.7821999788284302
           ],
           "z": [
            -0.20730000734329224,
            -0.3912999927997589
           ]
          }
         ],
         "name": "20"
        },
        {
         "data": [
          {
           "marker": {
            "color": "blue",
            "size": 4
           },
           "mode": "markers+text",
           "name": "Landmarks",
           "text": [
            "0",
            "1",
            "2",
            "3",
            "4",
            "5",
            "6",
            "7",
            "8",
            "9",
            "10",
            "11",
            "12",
            "13",
            "14",
            "15",
            "16",
            "17",
            "18",
            "19"
           ],
           "textfont": {
            "color": "black",
            "size": 8
           },
           "textposition": "top center",
           "type": "scatter3d",
           "x": {
            "bdata": "AAAAAADslTxoLg0+vwaDPWwJ+bofKtk96M7CPiqDGT9vEgO7DFZWPmuHBz8P3Dg/fow5vZJjOz52hQM/vZg0PyBj7r2m89M9HBOqPrL5+T4=",
            "dtype": "f4"
           },
           "y": {
            "bdata": "AAAAABb88j7YIUI/23VoPwskeD+XobA/ic20PyM4tT9kO38/7KG6P72ctD+s8Kk/3+BrPy7Qrj/VJ6w/cUugP0I+SD/MC5A/ZU6iPyrqjj8=",
            "dtype": "f4"
           },
           "z": {
            "bdata": "AAAAAGeqoD7C8cY9wETpvUOtaT7UYbY9tWilPULJpz1fKUu8iG17vrFpP76WR/i9dEZUvpbw475JKda+bhe3vnlYyL6o6hK/P7Qqv18ZHr8=",
            "dtype": "f4"
           }
          },
          {
           "line": {
            "color": "black",
            "width": 2
           },
           "mode": "lines",
           "showlegend": false,
           "type": "scatter3d",
           "x": [
            0,
            0.018301010131835938
           ],
           "y": [
            0,
            0.47457951307296753
           ],
           "z": [
            0,
            0.31380006670951843
           ]
          },
          {
           "line": {
            "color": "black",
            "width": 2
           },
           "mode": "lines",
           "showlegend": false,
           "type": "scatter3d",
           "x": [
            0.018301010131835938,
            0.1378723382949829
           ],
           "y": [
            0.47457951307296753,
            0.758328914642334
           ],
           "z": [
            0.31380006670951843,
            0.09714080393314362
           ]
          },
          {
           "line": {
            "color": "black",
            "width": 2
           },
           "mode": "lines",
           "showlegend": false,
           "type": "scatter3d",
           "x": [
            0.1378723382949829,
            0.06397771090269089
           ],
           "y": [
            0.758328914642334,
            0.9080483317375183
           ],
           "z": [
            0.09714080393314362,
            -0.11390066146850586
           ]
          },
          {
           "line": {
            "color": "black",
            "width": 2
           },
           "mode": "lines",
           "showlegend": false,
           "type": "scatter3d",
           "x": [
            0,
            -0.0019000000320374966
           ],
           "y": [
            0,
            0.9692999720573425
           ],
           "z": [
            0,
            0.2282000035047531
           ]
          },
          {
           "line": {
            "color": "black",
            "width": 2
           },
           "mode": "lines",
           "showlegend": false,
           "type": "scatter3d",
           "x": [
            -0.0019000000320374966,
            0.10603737086057663
           ],
           "y": [
            0.9692999720573425,
            1.3799313306808472
           ],
           "z": [
            0.2282000035047531,
            0.08905377984046936
           ]
          },
          {
           "line": {
            "color": "black",
            "width": 2
           },
           "mode": "lines",
           "showlegend": false,
           "type": "scatter3d",
           "x": [
            0.10603737086057663,
            0.38048481941223145
           ],
           "y": [
            1.3799313306808472,
            1.4125224351882935
           ],
           "z": [
            0.08905377984046936,
            0.08076611906290054
           ]
          },
          {
           "line": {
            "color": "black",
            "width": 2
           },
           "mode": "lines",
           "showlegend": false,
           "type": "scatter3d",
           "x": [
            0.38048481941223145,
            0.5996576547622681
           ],
           "y": [
            1.4125224351882935,
            1.4157756567001343
           ],
           "z": [
            0.08076611906290054,
            0.08192683756351471
           ]
          },
          {
           "line": {
            "color": "black",
            "width": 2
           },
           "mode": "lines",
           "showlegend": false,
           "type": "scatter3d",
           "x": [
            0,
            -0.0020000000949949026
           ],
           "y": [
            0,
            0.996999979019165
           ],
           "z": [
            0,
            -0.012400000356137753
           ]
          },
          {
           "line": {
            "color": "black",
            "width": 2
           },
           "mode": "lines",
           "showlegend": false,
           "type": "scatter3d",
           "x": [
            -0.0020000000949949026,
            0.20931261777877808
           ],
           "y": [
            0.996999979019165,
            1.458066463470459
           ],
           "z": [
            -0.012400000356137753,
            -0.2455350160598755
           ]
          },
          {
           "line": {
            "color": "black",
            "width": 2
           },
           "mode": "lines",
           "showlegend": false,
           "type": "scatter3d",
           "x": [
            0.20931261777877808,
            0.5294100642204285
           ],
           "y": [
            1.458066463470459,
            1.411033272743225
           ],
           "z": [
            -0.2455350160598755,
            -0.18692661821842194
           ]
          },
          {
           "line": {
            "color": "black",
            "width": 2
           },
           "mode": "lines",
           "showlegend": false,
           "type": "scatter3d",
           "x": [
            0.5294100642204285,
            0.7221078276634216
           ],
           "y": [
            1.411033272743225,
            1.3276572227478027
           ],
           "z": [
            -0.18692661821842194,
            -0.12123028934001923
           ]
          },
          {
           "line": {
            "color": "black",
            "width": 2
           },
           "mode": "lines",
           "showlegend": false,
           "type": "scatter3d",
           "x": [
            0,
            -0.04529999941587448
           ],
           "y": [
            0,
            0.9214000105857849
           ],
           "z": [
            0,
            -0.20730000734329224
           ]
          },
          {
           "line": {
            "color": "black",
            "width": 2
           },
           "mode": "lines",
           "showlegend": false,
           "type": "scatter3d",
           "x": [
            -0.04529999941587448,
            0.18299701809883118
           ],
           "y": [
            0.9214000105857849,
            1.3657281398773193
           ],
           "z": [
            -0.20730000734329224,
            -0.44519490003585815
           ]
          },
          {
           "line": {
            "color": "black",
            "width": 2
           },
           "mode": "lines",
           "showlegend": false,
           "type": "scatter3d",
           "x": [
            0.18299701809883118,
            0.513755202293396
           ],
           "y": [
            1.3657281398773193,
            1.3449655771255493
           ],
           "z": [
            -0.44519490003585815,
            -0.41828373074531555
           ]
          },
          {
           "line": {
            "color": "black",
            "width": 2
           },
           "mode": "lines",
           "showlegend": false,
           "type": "scatter3d",
           "x": [
            0.513755202293396,
            0.7054556012153625
           ],
           "y": [
            1.3449655771255493,
            1.2523022890090942
           ],
           "z": [
            -0.41828373074531555,
            -0.3576006293296814
           ]
          },
          {
           "line": {
            "color": "black",
            "width": 2
           },
           "mode": "lines",
           "showlegend": false,
           "type": "scatter3d",
           "x": [
            0,
            -0.11640000343322754
           ],
           "y": [
            0,
            0.7821999788284302
           ],
           "z": [
            0,
            -0.3912999927997589
           ]
          },
          {
           "line": {
            "color": "black",
            "width": 2
           },
           "mode": "lines",
           "showlegend": false,
           "type": "scatter3d",
           "x": [
            -0.11640000343322754,
            0.10349206626415253
           ],
           "y": [
            0.7821999788284302,
            1.1253600120544434
           ],
           "z": [
            -0.3912999927997589,
            -0.5738930702209473
           ]
          },
          {
           "line": {
            "color": "black",
            "width": 2
           },
           "mode": "lines",
           "showlegend": false,
           "type": "scatter3d",
           "x": [
            0.10349206626415253,
            0.3321770429611206
           ],
           "y": [
            1.1253600120544434,
            1.2680174112319946
           ],
           "z": [
            -0.5738930702209473,
            -0.6668128371238708
           ]
          },
          {
           "line": {
            "color": "black",
            "width": 2
           },
           "mode": "lines",
           "showlegend": false,
           "type": "scatter3d",
           "x": [
            0.3321770429611206,
            0.48823314905166626
           ],
           "y": [
            1.2680174112319946,
            1.1165211200714111
           ],
           "z": [
            -0.6668128371238708,
            -0.6175746321678162
           ]
          },
          {
           "line": {
            "color": "black",
            "width": 2
           },
           "mode": "lines",
           "showlegend": false,
           "type": "scatter3d",
           "x": [
            0.018301010131835938,
            -0.0019000000320374966
           ],
           "y": [
            0.47457951307296753,
            0.9692999720573425
           ],
           "z": [
            0.31380006670951843,
            0.2282000035047531
           ]
          },
          {
           "line": {
            "color": "black",
            "width": 2
           },
           "mode": "lines",
           "showlegend": false,
           "type": "scatter3d",
           "x": [
            -0.0019000000320374966,
            -0.0020000000949949026
           ],
           "y": [
            0.9692999720573425,
            0.996999979019165
           ],
           "z": [
            0.2282000035047531,
            -0.012400000356137753
           ]
          },
          {
           "line": {
            "color": "black",
            "width": 2
           },
           "mode": "lines",
           "showlegend": false,
           "type": "scatter3d",
           "x": [
            -0.0020000000949949026,
            -0.04529999941587448
           ],
           "y": [
            0.996999979019165,
            0.9214000105857849
           ],
           "z": [
            -0.012400000356137753,
            -0.20730000734329224
           ]
          },
          {
           "line": {
            "color": "black",
            "width": 2
           },
           "mode": "lines",
           "showlegend": false,
           "type": "scatter3d",
           "x": [
            -0.04529999941587448,
            -0.11640000343322754
           ],
           "y": [
            0.9214000105857849,
            0.7821999788284302
           ],
           "z": [
            -0.20730000734329224,
            -0.3912999927997589
           ]
          }
         ],
         "name": "21"
        },
        {
         "data": [
          {
           "marker": {
            "color": "blue",
            "size": 4
           },
           "mode": "markers+text",
           "name": "Landmarks",
           "text": [
            "0",
            "1",
            "2",
            "3",
            "4",
            "5",
            "6",
            "7",
            "8",
            "9",
            "10",
            "11",
            "12",
            "13",
            "14",
            "15",
            "16",
            "17",
            "18",
            "19"
           ],
           "textfont": {
            "color": "black",
            "size": 8
           },
           "textposition": "top center",
           "type": "scatter3d",
           "x": {
            "bdata": "AAAAACCxnTyHThU+mWWgPWwJ+brmy/M9CMbJPir/HD9vEgO7Z1RmPpQUCz/U3Ts/fow5vbgQQD6MsQQ/4Wo1PyBj7r3UntM9le6pPtzm+T4=",
            "dtype": "f4"
           },
           "y": {
            "bdata": "AAAAABKO8j4uPEI/U5RpPwskeD98PrA/M8OzP2eRsz9kO38/fA66PzQHsz9S06c/3+BrP4Rcrj/K5Ks/auSfP0I+SD9yCJA/QU6iPxrxjj8=",
            "dtype": "f4"
           },
           "z": {
            "bdata": "AAAAADK9oj6Y2to9WOjTvUOtaT76GLo92EusPYqYsT1fKUu8AWN1vua0Nr4oNuW9dEZUvtgH5b6txda+2mG2vnlYyL79AxO/jtYqv0EsHr8=",
            "dtype": "f4"
           }
          },
          {
           "line": {
            "color": "black",
            "width": 2
           },
           "mode": "lines",
           "showlegend": false,
           "type": "scatter3d",
           "x": [
            0,
            0.01924949884414673
           ],
           "y": [
            0,
            0.4737401604652405
           ],
           "z": [
            0,
            0.31784969568252563
           ]
          },
          {
           "line": {
            "color": "black",
            "width": 2
           },
           "mode": "lines",
           "showlegend": false,
           "type": "scatter3d",
           "x": [
            0.01924949884414673,
            0.14580737054347992
           ],
           "y": [
            0.4737401604652405,
            0.7587307691574097
           ],
           "z": [
            0.31784969568252563,
            0.10686224699020386
           ]
          },
          {
           "line": {
            "color": "black",
            "width": 2
           },
           "mode": "lines",
           "showlegend": false,
           "type": "scatter3d",
           "x": [
            0.14580737054347992,
            0.07831878215074539
           ],
           "y": [
            0.7587307691574097,
            0.9124194979667664
           ],
           "z": [
            0.10686224699020386,
            -0.10347050428390503
           ]
          },
          {
           "line": {
            "color": "black",
            "width": 2
           },
           "mode": "lines",
           "showlegend": false,
           "type": "scatter3d",
           "x": [
            0,
            -0.0019000000320374966
           ],
           "y": [
            0,
            0.9692999720573425
           ],
           "z": [
            0,
            0.2282000035047531
           ]
          },
          {
           "line": {
            "color": "black",
            "width": 2
           },
           "mode": "lines",
           "showlegend": false,
           "type": "scatter3d",
           "x": [
            -0.0019000000320374966,
            0.11904124915599823
           ],
           "y": [
            0.9692999720573425,
            1.3769068717956543
           ],
           "z": [
            0.2282000035047531,
            0.09086795151233673
           ]
          },
          {
           "line": {
            "color": "black",
            "width": 2
           },
           "mode": "lines",
           "showlegend": false,
           "type": "scatter3d",
           "x": [
            0.11904124915599823,
            0.3940889835357666
           ],
           "y": [
            1.3769068717956543,
            1.404394507408142
           ],
           "z": [
            0.09086795151233673,
            0.08412903547286987
           ]
          },
          {
           "line": {
            "color": "black",
            "width": 2
           },
           "mode": "lines",
           "showlegend": false,
           "type": "scatter3d",
           "x": [
            0.3940889835357666,
            0.6132684946060181
           ],
           "y": [
            1.404394507408142,
            1.4028748273849487
           ],
           "z": [
            0.08412903547286987,
            0.08671672642230988
           ]
          },
          {
           "line": {
            "color": "black",
            "width": 2
           },
           "mode": "lines",
           "showlegend": false,
           "type": "scatter3d",
           "x": [
            0,
            -0.0020000000949949026
           ],
           "y": [
            0,
            0.996999979019165
           ],
           "z": [
            0,
            -0.012400000356137753
           ]
          },
          {
           "line": {
            "color": "black",
            "width": 2
           },
           "mode": "lines",
           "showlegend": false,
           "type": "scatter3d",
           "x": [
            -0.0020000000949949026,
            0.22493134438991547
           ],
           "y": [
            0.996999979019165,
            1.4535670280456543
           ],
           "z": [
            -0.012400000356137753,
            -0.23963548243045807
           ]
          },
          {
           "line": {
            "color": "black",
            "width": 2
           },
           "mode": "lines",
           "showlegend": false,
           "type": "scatter3d",
           "x": [
            0.22493134438991547,
            0.5432827472686768
           ],
           "y": [
            1.4535670280456543,
            1.3986573219299316
           ],
           "z": [
            -0.23963548243045807,
            -0.17842444777488708
           ]
          },
          {
           "line": {
            "color": "black",
            "width": 2
           },
           "mode": "lines",
           "showlegend": false,
           "type": "scatter3d",
           "x": [
            0.5432827472686768,
            0.7338535785675049
           ],
           "y": [
            1.3986573219299316,
            1.3111364841461182
           ],
           "z": [
            -0.17842444777488708,
            -0.11191970109939575
           ]
          },
          {
           "line": {
            "color": "black",
            "width": 2
           },
           "mode": "lines",
           "showlegend": false,
           "type": "scatter3d",
           "x": [
            0,
            -0.04529999941587448
           ],
           "y": [
            0,
            0.9214000105857849
           ],
           "z": [
            0,
            -0.20730000734329224
           ]
          },
          {
           "line": {
            "color": "black",
            "width": 2
           },
           "mode": "lines",
           "showlegend": false,
           "type": "scatter3d",
           "x": [
            -0.04529999941587448,
            0.18756377696990967
           ],
           "y": [
            0.9214000105857849,
            1.3621983528137207
           ],
           "z": [
            -0.20730000734329224,
            -0.4473254680633545
           ]
          },
          {
           "line": {
            "color": "black",
            "width": 2
           },
           "mode": "lines",
           "showlegend": false,
           "type": "scatter3d",
           "x": [
            0.18756377696990967,
            0.518334150314331
           ],
           "y": [
            1.3621983528137207,
            1.3429195880889893
           ],
           "z": [
            -0.4473254680633545,
            -0.4194768965244293
           ]
          },
          {
           "line": {
            "color": "black",
            "width": 2
           },
           "mode": "lines",
           "showlegend": false,
           "type": "scatter3d",
           "x": [
            0.518334150314331,
            0.7086620926856995
           ],
           "y": [
            1.3429195880889893,
            1.2491581439971924
           ],
           "z": [
            -0.4194768965244293,
            -0.35621529817581177
           ]
          },
          {
           "line": {
            "color": "black",
            "width": 2
           },
           "mode": "lines",
           "showlegend": false,
           "type": "scatter3d",
           "x": [
            0,
            -0.11640000343322754
           ],
           "y": [
            0,
            0.7821999788284302
           ],
           "z": [
            0,
            -0.3912999927997589
           ]
          },
          {
           "line": {
            "color": "black",
            "width": 2
           },
           "mode": "lines",
           "showlegend": false,
           "type": "scatter3d",
           "x": [
            -0.11640000343322754,
            0.10333028435707092
           ],
           "y": [
            0.7821999788284302,
            1.1252577304840088
           ],
           "z": [
            -0.3912999927997589,
            -0.5742796063423157
           ]
          },
          {
           "line": {
            "color": "black",
            "width": 2
           },
           "mode": "lines",
           "showlegend": false,
           "type": "scatter3d",
           "x": [
            0.10333028435707092,
            0.33189836144447327
           ],
           "y": [
            1.1252577304840088,
            1.2680131196975708
           ],
           "z": [
            -0.5742796063423157,
            -0.6673363447189331
           ]
          },
          {
           "line": {
            "color": "black",
            "width": 2
           },
           "mode": "lines",
           "showlegend": false,
           "type": "scatter3d",
           "x": [
            0.33189836144447327,
            0.4880894422531128
           ],
           "y": [
            1.2680131196975708,
            1.1167328357696533
           ],
           "z": [
            -0.6673363447189331,
            -0.6178627610206604
           ]
          },
          {
           "line": {
            "color": "black",
            "width": 2
           },
           "mode": "lines",
           "showlegend": false,
           "type": "scatter3d",
           "x": [
            0.01924949884414673,
            -0.0019000000320374966
           ],
           "y": [
            0.4737401604652405,
            0.9692999720573425
           ],
           "z": [
            0.31784969568252563,
            0.2282000035047531
           ]
          },
          {
           "line": {
            "color": "black",
            "width": 2
           },
           "mode": "lines",
           "showlegend": false,
           "type": "scatter3d",
           "x": [
            -0.0019000000320374966,
            -0.0020000000949949026
           ],
           "y": [
            0.9692999720573425,
            0.996999979019165
           ],
           "z": [
            0.2282000035047531,
            -0.012400000356137753
           ]
          },
          {
           "line": {
            "color": "black",
            "width": 2
           },
           "mode": "lines",
           "showlegend": false,
           "type": "scatter3d",
           "x": [
            -0.0020000000949949026,
            -0.04529999941587448
           ],
           "y": [
            0.996999979019165,
            0.9214000105857849
           ],
           "z": [
            -0.012400000356137753,
            -0.20730000734329224
           ]
          },
          {
           "line": {
            "color": "black",
            "width": 2
           },
           "mode": "lines",
           "showlegend": false,
           "type": "scatter3d",
           "x": [
            -0.04529999941587448,
            -0.11640000343322754
           ],
           "y": [
            0.9214000105857849,
            0.7821999788284302
           ],
           "z": [
            -0.20730000734329224,
            -0.3912999927997589
           ]
          }
         ],
         "name": "22"
        },
        {
         "data": [
          {
           "marker": {
            "color": "blue",
            "size": 4
           },
           "mode": "markers+text",
           "name": "Landmarks",
           "text": [
            "0",
            "1",
            "2",
            "3",
            "4",
            "5",
            "6",
            "7",
            "8",
            "9",
            "10",
            "11",
            "12",
            "13",
            "14",
            "15",
            "16",
            "17",
            "18",
            "19"
           ],
           "textfont": {
            "color": "black",
            "size": 8
           },
           "textposition": "top center",
           "type": "scatter3d",
           "x": {
            "bdata": "AAAAANAroDwzthw+HjzEPWwJ+bpmlwA+TXDNPjvLHj9vEgO7PyB2PmOkDj/yFT8/fow5vXycUT68Awk/vvc4PyBj7r3MitM9yuGpPk/i+T4=",
            "dtype": "f4"
           },
           "y": {
            "bdata": "AAAAALWg8j7c7EI/IexrPwskeD80U7A/IuqyP0LhsT9kO38/gsS5P65gsT+ueKU/3+BrP+YKrT9HpKo/bFeeP0I+SD9YB5A/LE+iP7v0jj8=",
            "dtype": "f4"
           },
           "z": {
            "bdata": "AAAAAIYypj5a1Pg9KkmyvUOtaT4iiMo9JS+8PcRrwD1fKUu8amZpvoF1Lb5KY9q9dEZUvljH5b7j4NW+6MqyvnlYyL4gCxO/DOEqvzEzHr8=",
            "dtype": "f4"
           }
          },
          {
           "line": {
            "color": "black",
            "width": 2
           },
           "mode": "lines",
           "showlegend": false,
           "type": "scatter3d",
           "x": [
            0,
            0.019552141427993774
           ],
           "y": [
            0,
            0.4738823473453522
           ],
           "z": [
            0,
            0.32460421323776245
           ]
          },
          {
           "line": {
            "color": "black",
            "width": 2
           },
           "mode": "lines",
           "showlegend": false,
           "type": "scatter3d",
           "x": [
            0.019552141427993774,
            0.15303878486156464
           ],
           "y": [
            0.4738823473453522,
            0.7614266872406006
           ],
           "z": [
            0.32460421323776245,
            0.12149877846240997
           ]
          },
          {
           "line": {
            "color": "black",
            "width": 2
           },
           "mode": "lines",
           "showlegend": false,
           "type": "scatter3d",
           "x": [
            0.15303878486156464,
            0.09581778943538666
           ],
           "y": [
            0.7614266872406006,
            0.9215717911720276
           ],
           "z": [
            0.12149877846240997,
            -0.08705361187458038
           ]
          },
          {
           "line": {
            "color": "black",
            "width": 2
           },
           "mode": "lines",
           "showlegend": false,
           "type": "scatter3d",
           "x": [
            0,
            -0.0019000000320374966
           ],
           "y": [
            0,
            0.9692999720573425
           ],
           "z": [
            0,
            0.2282000035047531
           ]
          },
          {
           "line": {
            "color": "black",
            "width": 2
           },
           "mode": "lines",
           "showlegend": false,
           "type": "scatter3d",
           "x": [
            -0.0019000000320374966,
            0.12557753920555115
           ],
           "y": [
            0.9692999720573425,
            1.3775391578674316
           ],
           "z": [
            0.2282000035047531,
            0.0988924652338028
           ]
          },
          {
           "line": {
            "color": "black",
            "width": 2
           },
           "mode": "lines",
           "showlegend": false,
           "type": "scatter3d",
           "x": [
            0.12557753920555115,
            0.40124741196632385
           ],
           "y": [
            1.3775391578674316,
            1.3977701663970947
           ],
           "z": [
            0.0988924652338028,
            0.09188679605722427
           ]
          },
          {
           "line": {
            "color": "black",
            "width": 2
           },
           "mode": "lines",
           "showlegend": false,
           "type": "scatter3d",
           "x": [
            0.40124741196632385,
            0.6202885508537292
           ],
           "y": [
            1.3977701663970947,
            1.3896868228912354
           ],
           "z": [
            0.09188679605722427,
            0.09395554661750793
           ]
          },
          {
           "line": {
            "color": "black",
            "width": 2
           },
           "mode": "lines",
           "showlegend": false,
           "type": "scatter3d",
           "x": [
            0,
            -0.0020000000949949026
           ],
           "y": [
            0,
            0.996999979019165
           ],
           "z": [
            0,
            -0.012400000356137753
           ]
          },
          {
           "line": {
            "color": "black",
            "width": 2
           },
           "mode": "lines",
           "showlegend": false,
           "type": "scatter3d",
           "x": [
            -0.0020000000949949026,
            0.2403573840856552
           ],
           "y": [
            0.996999979019165,
            1.4513094425201416
           ],
           "z": [
            -0.012400000356137753,
            -0.2279297411441803
           ]
          },
          {
           "line": {
            "color": "black",
            "width": 2
           },
           "mode": "lines",
           "showlegend": false,
           "type": "scatter3d",
           "x": [
            0.2403573840856552,
            0.5571958422660828
           ],
           "y": [
            1.4513094425201416,
            1.3857629299163818
           ],
           "z": [
            -0.2279297411441803,
            -0.16939355432987213
           ]
          },
          {
           "line": {
            "color": "black",
            "width": 2
           },
           "mode": "lines",
           "showlegend": false,
           "type": "scatter3d",
           "x": [
            0.5571958422660828,
            0.7464286088943481
           ],
           "y": [
            1.3857629299163818,
            1.2927453517913818
           ],
           "z": [
            -0.16939355432987213,
            -0.10663469135761261
           ]
          },
          {
           "line": {
            "color": "black",
            "width": 2
           },
           "mode": "lines",
           "showlegend": false,
           "type": "scatter3d",
           "x": [
            0,
            -0.04529999941587448
           ],
           "y": [
            0,
            0.9214000105857849
           ],
           "z": [
            0,
            -0.20730000734329224
           ]
          },
          {
           "line": {
            "color": "black",
            "width": 2
           },
           "mode": "lines",
           "showlegend": false,
           "type": "scatter3d",
           "x": [
            -0.04529999941587448,
            0.20469850301742554
           ],
           "y": [
            0.9214000105857849,
            1.3518950939178467
           ],
           "z": [
            -0.20730000734329224,
            -0.44878649711608887
           ]
          },
          {
           "line": {
            "color": "black",
            "width": 2
           },
           "mode": "lines",
           "showlegend": false,
           "type": "scatter3d",
           "x": [
            0.20469850301742554,
            0.5352132320404053
           ],
           "y": [
            1.3518950939178467,
            1.333138346672058
           ],
           "z": [
            -0.44878649711608887,
            -0.417731374502182
           ]
          },
          {
           "line": {
            "color": "black",
            "width": 2
           },
           "mode": "lines",
           "showlegend": false,
           "type": "scatter3d",
           "x": [
            0.5352132320404053,
            0.7225302457809448
           ],
           "y": [
            1.333138346672058,
            1.2370429039001465
           ],
           "z": [
            -0.417731374502182,
            -0.34920430183410645
           ]
          },
          {
           "line": {
            "color": "black",
            "width": 2
           },
           "mode": "lines",
           "showlegend": false,
           "type": "scatter3d",
           "x": [
            0,
            -0.11640000343322754
           ],
           "y": [
            0,
            0.7821999788284302
           ],
           "z": [
            0,
            -0.3912999927997589
           ]
          },
          {
           "line": {
            "color": "black",
            "width": 2
           },
           "mode": "lines",
           "showlegend": false,
           "type": "scatter3d",
           "x": [
            -0.11640000343322754,
            0.1032920777797699
           ],
           "y": [
            0.7821999788284302,
            1.1252241134643555
           ],
           "z": [
            -0.3912999927997589,
            -0.5743885040283203
           ]
          },
          {
           "line": {
            "color": "black",
            "width": 2
           },
           "mode": "lines",
           "showlegend": false,
           "type": "scatter3d",
           "x": [
            0.1032920777797699,
            0.33180075883865356
           ],
           "y": [
            1.1252241134643555,
            1.2680411338806152
           ],
           "z": [
            -0.5743885040283203,
            -0.6674964427947998
           ]
          },
          {
           "line": {
            "color": "black",
            "width": 2
           },
           "mode": "lines",
           "showlegend": false,
           "type": "scatter3d",
           "x": [
            0.33180075883865356,
            0.48805472254753113
           ],
           "y": [
            1.2680411338806152,
            1.116843581199646
           ],
           "z": [
            -0.6674964427947998,
            -0.6179686188697815
           ]
          },
          {
           "line": {
            "color": "black",
            "width": 2
           },
           "mode": "lines",
           "showlegend": false,
           "type": "scatter3d",
           "x": [
            0.019552141427993774,
            -0.0019000000320374966
           ],
           "y": [
            0.4738823473453522,
            0.9692999720573425
           ],
           "z": [
            0.32460421323776245,
            0.2282000035047531
           ]
          },
          {
           "line": {
            "color": "black",
            "width": 2
           },
           "mode": "lines",
           "showlegend": false,
           "type": "scatter3d",
           "x": [
            -0.0019000000320374966,
            -0.0020000000949949026
           ],
           "y": [
            0.9692999720573425,
            0.996999979019165
           ],
           "z": [
            0.2282000035047531,
            -0.012400000356137753
           ]
          },
          {
           "line": {
            "color": "black",
            "width": 2
           },
           "mode": "lines",
           "showlegend": false,
           "type": "scatter3d",
           "x": [
            -0.0020000000949949026,
            -0.04529999941587448
           ],
           "y": [
            0.996999979019165,
            0.9214000105857849
           ],
           "z": [
            -0.012400000356137753,
            -0.20730000734329224
           ]
          },
          {
           "line": {
            "color": "black",
            "width": 2
           },
           "mode": "lines",
           "showlegend": false,
           "type": "scatter3d",
           "x": [
            -0.04529999941587448,
            -0.11640000343322754
           ],
           "y": [
            0.9214000105857849,
            0.7821999788284302
           ],
           "z": [
            -0.20730000734329224,
            -0.3912999927997589
           ]
          }
         ],
         "name": "23"
        },
        {
         "data": [
          {
           "marker": {
            "color": "blue",
            "size": 4
           },
           "mode": "markers+text",
           "name": "Landmarks",
           "text": [
            "0",
            "1",
            "2",
            "3",
            "4",
            "5",
            "6",
            "7",
            "8",
            "9",
            "10",
            "11",
            "12",
            "13",
            "14",
            "15",
            "16",
            "17",
            "18",
            "19"
           ],
           "textfont": {
            "color": "black",
            "size": 8
           },
           "textposition": "top center",
           "type": "scatter3d",
           "x": {
            "bdata": "AAAAAKBbqzyFVSE+5nzTPWwJ+bpdDBE+2pDVPqLgIj9vEgO7w3V5PnBCDz/N5D8/fow5vdZ6UD70uwg/XLo4PyBj7r0UJdM9jrepPlbK+T4=",
            "dtype": "f4"
           },
           "y": {
            "bdata": "AAAAAL2a8T7O+kE/4j1rPwskeD/VTq8/Q02yP5XGsT9kO38/ItG4PxxSsT9iXKY/3+BrP7AjrT9vt6o/+GueP0I+SD8WBpA/AVKiPwL+jj8=",
            "dtype": "f4"
           },
           "z": {
            "bdata": "AAAAAPIlpT6OBfQ9QBG3vUOtaT40oLo9c2OxPYMwuj1fKUu8xzV1vkEQLr7IpMu9dEZUvvyr5b6o4NW+3/uyvnlYyL4QHxO/DP0qv7REHr8=",
            "dtype": "f4"
           }
          },
          {
           "line": {
            "color": "black",
            "width": 2
           },
           "mode": "lines",
           "showlegend": false,
           "type": "scatter3d",
           "x": [
            0,
            0.02091771364212036
           ],
           "y": [
            0,
            0.4718836843967438
           ],
           "z": [
            0,
            0.3225551247596741
           ]
          },
          {
           "line": {
            "color": "black",
            "width": 2
           },
           "mode": "lines",
           "showlegend": false,
           "type": "scatter3d",
           "x": [
            0.02091771364212036,
            0.1575527936220169
           ],
           "y": [
            0.4718836843967438,
            0.7577332258224487
           ],
           "z": [
            0.3225551247596741,
            0.11915121972560883
           ]
          },
          {
           "line": {
            "color": "black",
            "width": 2
           },
           "mode": "lines",
           "showlegend": false,
           "type": "scatter3d",
           "x": [
            0.1575527936220169,
            0.10326556861400604
           ],
           "y": [
            0.7577332258224487,
            0.9189130067825317
           ],
           "z": [
            0.11915121972560883,
            -0.08938837051391602
           ]
          },
          {
           "line": {
            "color": "black",
            "width": 2
           },
           "mode": "lines",
           "showlegend": false,
           "type": "scatter3d",
           "x": [
            0,
            -0.0019000000320374966
           ],
           "y": [
            0,
            0.9692999720573425
           ],
           "z": [
            0,
            0.2282000035047531
           ]
          },
          {
           "line": {
            "color": "black",
            "width": 2
           },
           "mode": "lines",
           "showlegend": false,
           "type": "scatter3d",
           "x": [
            -0.0019000000320374966,
            0.14164872467517853
           ],
           "y": [
            0.9692999720573425,
            1.3695932626724243
           ],
           "z": [
            0.2282000035047531,
            0.09112587571144104
           ]
          },
          {
           "line": {
            "color": "black",
            "width": 2
           },
           "mode": "lines",
           "showlegend": false,
           "type": "scatter3d",
           "x": [
            0.14164872467517853,
            0.4171207547187805
           ],
           "y": [
            1.3695932626724243,
            1.392982840538025
           ],
           "z": [
            0.09112587571144104,
            0.08661546558141708
           ]
          },
          {
           "line": {
            "color": "black",
            "width": 2
           },
           "mode": "lines",
           "showlegend": false,
           "type": "scatter3d",
           "x": [
            0.4171207547187805,
            0.6362401247024536
           ],
           "y": [
            1.392982840538025,
            1.388872742652893
           ],
           "z": [
            0.08661546558141708,
            0.0909128412604332
           ]
          },
          {
           "line": {
            "color": "black",
            "width": 2
           },
           "mode": "lines",
           "showlegend": false,
           "type": "scatter3d",
           "x": [
            0,
            -0.0020000000949949026
           ],
           "y": [
            0,
            0.996999979019165
           ],
           "z": [
            0,
            -0.012400000356137753
           ]
          },
          {
           "line": {
            "color": "black",
            "width": 2
           },
           "mode": "lines",
           "showlegend": false,
           "type": "scatter3d",
           "x": [
            -0.0020000000949949026,
            0.24361328780651093
           ],
           "y": [
            0.996999979019165,
            1.4438822269439697
           ],
           "z": [
            -0.012400000356137753,
            -0.2394629567861557
           ]
          },
          {
           "line": {
            "color": "black",
            "width": 2
           },
           "mode": "lines",
           "showlegend": false,
           "type": "scatter3d",
           "x": [
            0.24361328780651093,
            0.5596075057983398
           ],
           "y": [
            1.4438822269439697,
            1.3853182792663574
           ],
           "z": [
            -0.2394629567861557,
            -0.1699838787317276
           ]
          },
          {
           "line": {
            "color": "black",
            "width": 2
           },
           "mode": "lines",
           "showlegend": false,
           "type": "scatter3d",
           "x": [
            0.5596075057983398,
            0.749584972858429
           ],
           "y": [
            1.3853182792663574,
            1.299694299697876
           ],
           "z": [
            -0.1699838787317276,
            -0.09943538904190063
           ]
          },
          {
           "line": {
            "color": "black",
            "width": 2
           },
           "mode": "lines",
           "showlegend": false,
           "type": "scatter3d",
           "x": [
            0,
            -0.04529999941587448
           ],
           "y": [
            0,
            0.9214000105857849
           ],
           "z": [
            0,
            -0.20730000734329224
           ]
          },
          {
           "line": {
            "color": "black",
            "width": 2
           },
           "mode": "lines",
           "showlegend": false,
           "type": "scatter3d",
           "x": [
            -0.04529999941587448,
            0.20359358191490173
           ],
           "y": [
            0.9214000105857849,
            1.352651596069336
           ],
           "z": [
            -0.20730000734329224,
            -0.44857776165008545
           ]
          },
          {
           "line": {
            "color": "black",
            "width": 2
           },
           "mode": "lines",
           "showlegend": false,
           "type": "scatter3d",
           "x": [
            0.20359358191490173,
            0.5341179370880127
           ],
           "y": [
            1.352651596069336,
            1.3337229490280151
           ],
           "z": [
            -0.44857776165008545,
            -0.41772961616516113
           ]
          },
          {
           "line": {
            "color": "black",
            "width": 2
           },
           "mode": "lines",
           "showlegend": false,
           "type": "scatter3d",
           "x": [
            0.5341179370880127,
            0.7215936183929443
           ],
           "y": [
            1.3337229490280151,
            1.2376699447631836
           ],
           "z": [
            -0.41772961616516113,
            -0.3495778739452362
           ]
          },
          {
           "line": {
            "color": "black",
            "width": 2
           },
           "mode": "lines",
           "showlegend": false,
           "type": "scatter3d",
           "x": [
            0,
            -0.11640000343322754
           ],
           "y": [
            0,
            0.7821999788284302
           ],
           "z": [
            0,
            -0.3912999927997589
           ]
          },
          {
           "line": {
            "color": "black",
            "width": 2
           },
           "mode": "lines",
           "showlegend": false,
           "type": "scatter3d",
           "x": [
            -0.11640000343322754,
            0.103098064661026
           ],
           "y": [
            0.7821999788284302,
            1.1251857280731201
           ],
           "z": [
            -0.3912999927997589,
            -0.5746927261352539
           ]
          },
          {
           "line": {
            "color": "black",
            "width": 2
           },
           "mode": "lines",
           "showlegend": false,
           "type": "scatter3d",
           "x": [
            0.103098064661026,
            0.3314785361289978
           ],
           "y": [
            1.1251857280731201,
            1.2681275606155396
           ],
           "z": [
            -0.5746927261352539,
            -0.6679236888885498
           ]
          },
          {
           "line": {
            "color": "black",
            "width": 2
           },
           "mode": "lines",
           "showlegend": false,
           "type": "scatter3d",
           "x": [
            0.3314785361289978,
            0.48787182569503784
           ],
           "y": [
            1.2681275606155396,
            1.117126703262329
           ],
           "z": [
            -0.6679236888885498,
            -0.6182358264923096
           ]
          },
          {
           "line": {
            "color": "black",
            "width": 2
           },
           "mode": "lines",
           "showlegend": false,
           "type": "scatter3d",
           "x": [
            0.02091771364212036,
            -0.0019000000320374966
           ],
           "y": [
            0.4718836843967438,
            0.9692999720573425
           ],
           "z": [
            0.3225551247596741,
            0.2282000035047531
           ]
          },
          {
           "line": {
            "color": "black",
            "width": 2
           },
           "mode": "lines",
           "showlegend": false,
           "type": "scatter3d",
           "x": [
            -0.0019000000320374966,
            -0.0020000000949949026
           ],
           "y": [
            0.9692999720573425,
            0.996999979019165
           ],
           "z": [
            0.2282000035047531,
            -0.012400000356137753
           ]
          },
          {
           "line": {
            "color": "black",
            "width": 2
           },
           "mode": "lines",
           "showlegend": false,
           "type": "scatter3d",
           "x": [
            -0.0020000000949949026,
            -0.04529999941587448
           ],
           "y": [
            0.996999979019165,
            0.9214000105857849
           ],
           "z": [
            -0.012400000356137753,
            -0.20730000734329224
           ]
          },
          {
           "line": {
            "color": "black",
            "width": 2
           },
           "mode": "lines",
           "showlegend": false,
           "type": "scatter3d",
           "x": [
            -0.04529999941587448,
            -0.11640000343322754
           ],
           "y": [
            0.9214000105857849,
            0.7821999788284302
           ],
           "z": [
            -0.20730000734329224,
            -0.3912999927997589
           ]
          }
         ],
         "name": "24"
        },
        {
         "data": [
          {
           "marker": {
            "color": "blue",
            "size": 4
           },
           "mode": "markers+text",
           "name": "Landmarks",
           "text": [
            "0",
            "1",
            "2",
            "3",
            "4",
            "5",
            "6",
            "7",
            "8",
            "9",
            "10",
            "11",
            "12",
            "13",
            "14",
            "15",
            "16",
            "17",
            "18",
            "19"
           ],
           "textfont": {
            "color": "black",
            "size": 8
           },
           "textposition": "top center",
           "type": "scatter3d",
           "x": {
            "bdata": "AAAAADBnvTxZDio+GRnoPWwJ+bowY7M96+uePvQbBT9vEgO7z2CMPQSkvz6RsA8/fow5vXtroz0xNsE+JJgXPyBj7r0IYme8LAghPjgtuz4=",
            "dtype": "f4"
           },
           "y": {
            "bdata": "AAAAAFlP8D5o3EI/k9ZsPwskeD+W9rM/RpXIPzYdzz9kO38/bPvFP3L+zT/7O9s/3+BrP3bauj/+wcw/nXzHP0I+SD9KvZs/mGa4Pzs7sj8=",
            "dtype": "f4"
           },
           "z": {
            "bdata": "AAAAABEesD5ohB0+NMhYvUOtaT5zmIQ+wyZrPjYfQz5fKUu80vdcPVzYSr2shtC9dEZUvuDmbb6zP5C+ON2hvnlYyL4pX8++1+zkvnGrAr8=",
            "dtype": "f4"
           }
          },
          {
           "line": {
            "color": "black",
            "width": 2
           },
           "mode": "lines",
           "showlegend": false,
           "type": "scatter3d",
           "x": [
            0,
            0.023120492696762085
           ],
           "y": [
            0,
            0.46935537457466125
           ],
           "z": [
            0,
            0.3439793884754181
           ]
          },
          {
           "line": {
            "color": "black",
            "width": 2
           },
           "mode": "lines",
           "showlegend": false,
           "type": "scatter3d",
           "x": [
            0.023120492696762085,
            0.166070356965065
           ],
           "y": [
            0.46935537457466125,
            0.7611756324768066
           ],
           "z": [
            0.3439793884754181,
            0.15382540225982666
           ]
          },
          {
           "line": {
            "color": "black",
            "width": 2
           },
           "mode": "lines",
           "showlegend": false,
           "type": "scatter3d",
           "x": [
            0.166070356965065,
            0.11332911998033524
           ],
           "y": [
            0.7611756324768066,
            0.925149142742157
           ],
           "z": [
            0.15382540225982666,
            -0.05292530357837677
           ]
          },
          {
           "line": {
            "color": "black",
            "width": 2
           },
           "mode": "lines",
           "showlegend": false,
           "type": "scatter3d",
           "x": [
            0,
            -0.0019000000320374966
           ],
           "y": [
            0,
            0.9692999720573425
           ],
           "z": [
            0,
            0.2282000035047531
           ]
          },
          {
           "line": {
            "color": "black",
            "width": 2
           },
           "mode": "lines",
           "showlegend": false,
           "type": "scatter3d",
           "x": [
            -0.0019000000320374966,
            0.08759152889251709
           ],
           "y": [
            0.9692999720573425,
            1.4059627056121826
           ],
           "z": [
            0.2282000035047531,
            0.2589755952358246
           ]
          },
          {
           "line": {
            "color": "black",
            "width": 2
           },
           "mode": "lines",
           "showlegend": false,
           "type": "scatter3d",
           "x": [
            0.08759152889251709,
            0.31039366126060486
           ],
           "y": [
            1.4059627056121826,
            1.5670554637908936
           ],
           "z": [
            0.2589755952358246,
            0.22964005172252655
           ]
          },
          {
           "line": {
            "color": "black",
            "width": 2
           },
           "mode": "lines",
           "showlegend": false,
           "type": "scatter3d",
           "x": [
            0.31039366126060486,
            0.5199577808380127
           ],
           "y": [
            1.5670554637908936,
            1.6180789470672607
           ],
           "z": [
            0.22964005172252655,
            0.19054874777793884
           ]
          },
          {
           "line": {
            "color": "black",
            "width": 2
           },
           "mode": "lines",
           "showlegend": false,
           "type": "scatter3d",
           "x": [
            0,
            -0.0020000000949949026
           ],
           "y": [
            0,
            0.996999979019165
           ],
           "z": [
            0,
            -0.012400000356137753
           ]
          },
          {
           "line": {
            "color": "black",
            "width": 2
           },
           "mode": "lines",
           "showlegend": false,
           "type": "scatter3d",
           "x": [
            -0.0020000000949949026,
            0.06854402273893356
           ],
           "y": [
            0.996999979019165,
            1.5467352867126465
           ],
           "z": [
            -0.012400000356137753,
            0.05394727736711502
           ]
          },
          {
           "line": {
            "color": "black",
            "width": 2
           },
           "mode": "lines",
           "showlegend": false,
           "type": "scatter3d",
           "x": [
            0.06854402273893356,
            0.37429821491241455
           ],
           "y": [
            1.5467352867126465,
            1.6093275547027588
           ],
           "z": [
            0.05394727736711502,
            -0.04952274262905121
           ]
          },
          {
           "line": {
            "color": "black",
            "width": 2
           },
           "mode": "lines",
           "showlegend": false,
           "type": "scatter3d",
           "x": [
            0.37429821491241455,
            0.5612879395484924
           ],
           "y": [
            1.6093275547027588,
            1.7127679586410522
           ],
           "z": [
            -0.04952274262905121,
            -0.10181936621665955
           ]
          },
          {
           "line": {
            "color": "black",
            "width": 2
           },
           "mode": "lines",
           "showlegend": false,
           "type": "scatter3d",
           "x": [
            0,
            -0.04529999941587448
           ],
           "y": [
            0,
            0.9214000105857849
           ],
           "z": [
            0,
            -0.20730000734329224
           ]
          },
          {
           "line": {
            "color": "black",
            "width": 2
           },
           "mode": "lines",
           "showlegend": false,
           "type": "scatter3d",
           "x": [
            -0.04529999941587448,
            0.07979484647512436
           ],
           "y": [
            0.9214000105857849,
            1.459791898727417
           ],
           "z": [
            -0.20730000734329224,
            -0.23232603073120117
           ]
          },
          {
           "line": {
            "color": "black",
            "width": 2
           },
           "mode": "lines",
           "showlegend": false,
           "type": "scatter3d",
           "x": [
            0.07979484647512436,
            0.3773665726184845
           ],
           "y": [
            1.459791898727417,
            1.599670171737671
           ],
           "z": [
            -0.23232603073120117,
            -0.28173598647117615
           ]
          },
          {
           "line": {
            "color": "black",
            "width": 2
           },
           "mode": "lines",
           "showlegend": false,
           "type": "scatter3d",
           "x": [
            0.3773665726184845,
            0.5921652317047119
           ],
           "y": [
            1.599670171737671,
            1.5584903955459595
           ],
           "z": [
            -0.28173598647117615,
            -0.31614089012145996
           ]
          },
          {
           "line": {
            "color": "black",
            "width": 2
           },
           "mode": "lines",
           "showlegend": false,
           "type": "scatter3d",
           "x": [
            0,
            -0.11640000343322754
           ],
           "y": [
            0,
            0.7821999788284302
           ],
           "z": [
            0,
            -0.3912999927997589
           ]
          },
          {
           "line": {
            "color": "black",
            "width": 2
           },
           "mode": "lines",
           "showlegend": false,
           "type": "scatter3d",
           "x": [
            -0.11640000343322754,
            -0.01412249356508255
           ],
           "y": [
            0.7821999788284302,
            1.2167141437530518
           ],
           "z": [
            -0.3912999927997589,
            -0.40502288937568665
           ]
          },
          {
           "line": {
            "color": "black",
            "width": 2
           },
           "mode": "lines",
           "showlegend": false,
           "type": "scatter3d",
           "x": [
            -0.01412249356508255,
            0.15725773572921753
           ],
           "y": [
            1.2167141437530518,
            1.4406309127807617
           ],
           "z": [
            -0.40502288937568665,
            -0.44711944460868835
           ]
          },
          {
           "line": {
            "color": "black",
            "width": 2
           },
           "mode": "lines",
           "showlegend": false,
           "type": "scatter3d",
           "x": [
            0.15725773572921753,
            0.36557936668395996
           ],
           "y": [
            1.4406309127807617,
            1.3924325704574585
           ],
           "z": [
            -0.44711944460868835,
            -0.5104284882545471
           ]
          },
          {
           "line": {
            "color": "black",
            "width": 2
           },
           "mode": "lines",
           "showlegend": false,
           "type": "scatter3d",
           "x": [
            0.023120492696762085,
            -0.0019000000320374966
           ],
           "y": [
            0.46935537457466125,
            0.9692999720573425
           ],
           "z": [
            0.3439793884754181,
            0.2282000035047531
           ]
          },
          {
           "line": {
            "color": "black",
            "width": 2
           },
           "mode": "lines",
           "showlegend": false,
           "type": "scatter3d",
           "x": [
            -0.0019000000320374966,
            -0.0020000000949949026
           ],
           "y": [
            0.9692999720573425,
            0.996999979019165
           ],
           "z": [
            0.2282000035047531,
            -0.012400000356137753
           ]
          },
          {
           "line": {
            "color": "black",
            "width": 2
           },
           "mode": "lines",
           "showlegend": false,
           "type": "scatter3d",
           "x": [
            -0.0020000000949949026,
            -0.04529999941587448
           ],
           "y": [
            0.996999979019165,
            0.9214000105857849
           ],
           "z": [
            -0.012400000356137753,
            -0.20730000734329224
           ]
          },
          {
           "line": {
            "color": "black",
            "width": 2
           },
           "mode": "lines",
           "showlegend": false,
           "type": "scatter3d",
           "x": [
            -0.04529999941587448,
            -0.11640000343322754
           ],
           "y": [
            0.9214000105857849,
            0.7821999788284302
           ],
           "z": [
            -0.20730000734329224,
            -0.3912999927997589
           ]
          }
         ],
         "name": "25"
        },
        {
         "data": [
          {
           "marker": {
            "color": "blue",
            "size": 4
           },
           "mode": "markers+text",
           "name": "Landmarks",
           "text": [
            "0",
            "1",
            "2",
            "3",
            "4",
            "5",
            "6",
            "7",
            "8",
            "9",
            "10",
            "11",
            "12",
            "13",
            "14",
            "15",
            "16",
            "17",
            "18",
            "19"
           ],
           "textfont": {
            "color": "black",
            "size": 8
           },
           "textposition": "top center",
           "type": "scatter3d",
           "x": {
            "bdata": "AAAAAHBYmDxsSRM+MPd5PGwJ+brOUig9C52KPuAv9z5vEgO7UE+6PCSxpD5KmgQ/fow5vRwXkD070cI+/FEQPyBj7r2weT+8kYN9PrSvrT4=",
            "dtype": "f4"
           },
           "y": {
            "bdata": "AAAAABR68z5oNkQ/inpgPwskeD/X67M/I1DHP2bHyD9kO38/nFPEPy+8xD/e4s0/3+BrP53Puj+Elsg/G4S6P0I+SD8Kr5s/aaunP9Fdjj8=",
            "dtype": "f4"
           },
           "z": {
            "bdata": "AAAAADqEqj6OlgQ+uOeivUOtaT4V3aA+2auSPga8bT5fKUu86vwNPoDc5DoMj4m9dEZUvmfaGb6c2k++xZGFvnlYyL5VUsS+MpfpvkvwAL8=",
            "dtype": "f4"
           }
          },
          {
           "line": {
            "color": "black",
            "width": 2
           },
           "mode": "lines",
           "showlegend": false,
           "type": "scatter3d",
           "x": [
            0,
            0.01859685778617859
           ],
           "y": [
            0,
            0.47554075717926025
           ],
           "z": [
            0,
            0.3330400586128235
           ]
          },
          {
           "line": {
            "color": "black",
            "width": 2
           },
           "mode": "lines",
           "showlegend": false,
           "type": "scatter3d",
           "x": [
            0.01859685778617859,
            0.14383476972579956
           ],
           "y": [
            0.47554075717926025,
            0.7664551734924316
           ],
           "z": [
            0.3330400586128235,
            0.12948057055473328
           ]
          },
          {
           "line": {
            "color": "black",
            "width": 2
           },
           "mode": "lines",
           "showlegend": false,
           "type": "scatter3d",
           "x": [
            0.14383476972579956,
            0.015256687998771667
           ],
           "y": [
            0.7664551734924316,
            0.876869797706604
           ],
           "z": [
            0.12948057055473328,
            -0.07954353094100952
           ]
          },
          {
           "line": {
            "color": "black",
            "width": 2
           },
           "mode": "lines",
           "showlegend": false,
           "type": "scatter3d",
           "x": [
            0,
            -0.0019000000320374966
           ],
           "y": [
            0,
            0.9692999720573425
           ],
           "z": [
            0,
            0.2282000035047531
           ]
          },
          {
           "line": {
            "color": "black",
            "width": 2
           },
           "mode": "lines",
           "showlegend": false,
           "type": "scatter3d",
           "x": [
            -0.0019000000320374966,
            0.041094593703746796
           ],
           "y": [
            0.9692999720573425,
            1.4056347608566284
           ],
           "z": [
            0.2282000035047531,
            0.3141867220401764
           ]
          },
          {
           "line": {
            "color": "black",
            "width": 2
           },
           "mode": "lines",
           "showlegend": false,
           "type": "scatter3d",
           "x": [
            0.041094593703746796,
            0.2707293927669525
           ],
           "y": [
            1.4056347608566284,
            1.5571330785751343
           ],
           "z": [
            0.3141867220401764,
            0.2864673435688019
           ]
          },
          {
           "line": {
            "color": "black",
            "width": 2
           },
           "mode": "lines",
           "showlegend": false,
           "type": "scatter3d",
           "x": [
            0.2707293927669525,
            0.4827871322631836
           ],
           "y": [
            1.5571330785751343,
            1.5685851573944092
           ],
           "z": [
            0.2864673435688019,
            0.23216256499290466
           ]
          },
          {
           "line": {
            "color": "black",
            "width": 2
           },
           "mode": "lines",
           "showlegend": false,
           "type": "scatter3d",
           "x": [
            0,
            -0.0020000000949949026
           ],
           "y": [
            0,
            0.996999979019165
           ],
           "z": [
            0,
            -0.012400000356137753
           ]
          },
          {
           "line": {
            "color": "black",
            "width": 2
           },
           "mode": "lines",
           "showlegend": false,
           "type": "scatter3d",
           "x": [
            -0.0020000000949949026,
            0.022742897272109985
           ],
           "y": [
            0.996999979019165,
            1.533801555633545
           ],
           "z": [
            -0.012400000356137753,
            0.13866010308265686
           ]
          },
          {
           "line": {
            "color": "black",
            "width": 2
           },
           "mode": "lines",
           "showlegend": false,
           "type": "scatter3d",
           "x": [
            0.022742897272109985,
            0.3216639757156372
           ],
           "y": [
            1.533801555633545,
            1.5369929075241089
           ],
           "z": [
            0.13866010308265686,
            0.0017460733652114868
           ]
          },
          {
           "line": {
            "color": "black",
            "width": 2
           },
           "mode": "lines",
           "showlegend": false,
           "type": "scatter3d",
           "x": [
            0.3216639757156372,
            0.5179792642593384
           ],
           "y": [
            1.5369929075241089,
            1.6084859371185303
           ],
           "z": [
            0.0017460733652114868,
            -0.06716737151145935
           ]
          },
          {
           "line": {
            "color": "black",
            "width": 2
           },
           "mode": "lines",
           "showlegend": false,
           "type": "scatter3d",
           "x": [
            0,
            -0.04529999941587448
           ],
           "y": [
            0,
            0.9214000105857849
           ],
           "z": [
            0,
            -0.20730000734329224
           ]
          },
          {
           "line": {
            "color": "black",
            "width": 2
           },
           "mode": "lines",
           "showlegend": false,
           "type": "scatter3d",
           "x": [
            -0.04529999941587448,
            0.0703565776348114
           ],
           "y": [
            0.9214000105857849,
            1.4594608545303345
           ],
           "z": [
            -0.20730000734329224,
            -0.15024720132350922
           ]
          },
          {
           "line": {
            "color": "black",
            "width": 2
           },
           "mode": "lines",
           "showlegend": false,
           "type": "scatter3d",
           "x": [
            0.0703565776348114,
            0.3805025517940521
           ],
           "y": [
            1.4594608545303345,
            1.5670933723449707
           ],
           "z": [
            -0.15024720132350922,
            -0.2029823660850525
           ]
          },
          {
           "line": {
            "color": "black",
            "width": 2
           },
           "mode": "lines",
           "showlegend": false,
           "type": "scatter3d",
           "x": [
            0.3805025517940521,
            0.5637509822845459
           ],
           "y": [
            1.5670933723449707,
            1.4571565389633179
           ],
           "z": [
            -0.2029823660850525,
            -0.2608777582645416
           ]
          },
          {
           "line": {
            "color": "black",
            "width": 2
           },
           "mode": "lines",
           "showlegend": false,
           "type": "scatter3d",
           "x": [
            0,
            -0.11640000343322754
           ],
           "y": [
            0,
            0.7821999788284302
           ],
           "z": [
            0,
            -0.3912999927997589
           ]
          },
          {
           "line": {
            "color": "black",
            "width": 2
           },
           "mode": "lines",
           "showlegend": false,
           "type": "scatter3d",
           "x": [
            -0.11640000343322754,
            -0.011686727404594421
           ],
           "y": [
            0.7821999788284302,
            1.2162792682647705
           ],
           "z": [
            -0.3912999927997589,
            -0.38344064354896545
           ]
          },
          {
           "line": {
            "color": "black",
            "width": 2
           },
           "mode": "lines",
           "showlegend": false,
           "type": "scatter3d",
           "x": [
            -0.011686727404594421,
            0.24757219851016998
           ],
           "y": [
            1.2162792682647705,
            1.3099185228347778
           ],
           "z": [
            -0.38344064354896545,
            -0.45623165369033813
           ]
          },
          {
           "line": {
            "color": "black",
            "width": 2
           },
           "mode": "lines",
           "showlegend": false,
           "type": "scatter3d",
           "x": [
            0.24757219851016998,
            0.33923113346099854
           ],
           "y": [
            1.3099185228347778,
            1.1122380495071411
           ],
           "z": [
            -0.45623165369033813,
            -0.5036665797233582
           ]
          },
          {
           "line": {
            "color": "black",
            "width": 2
           },
           "mode": "lines",
           "showlegend": false,
           "type": "scatter3d",
           "x": [
            0.01859685778617859,
            -0.0019000000320374966
           ],
           "y": [
            0.47554075717926025,
            0.9692999720573425
           ],
           "z": [
            0.3330400586128235,
            0.2282000035047531
           ]
          },
          {
           "line": {
            "color": "black",
            "width": 2
           },
           "mode": "lines",
           "showlegend": false,
           "type": "scatter3d",
           "x": [
            -0.0019000000320374966,
            -0.0020000000949949026
           ],
           "y": [
            0.9692999720573425,
            0.996999979019165
           ],
           "z": [
            0.2282000035047531,
            -0.012400000356137753
           ]
          },
          {
           "line": {
            "color": "black",
            "width": 2
           },
           "mode": "lines",
           "showlegend": false,
           "type": "scatter3d",
           "x": [
            -0.0020000000949949026,
            -0.04529999941587448
           ],
           "y": [
            0.996999979019165,
            0.9214000105857849
           ],
           "z": [
            -0.012400000356137753,
            -0.20730000734329224
           ]
          },
          {
           "line": {
            "color": "black",
            "width": 2
           },
           "mode": "lines",
           "showlegend": false,
           "type": "scatter3d",
           "x": [
            -0.04529999941587448,
            -0.11640000343322754
           ],
           "y": [
            0.9214000105857849,
            0.7821999788284302
           ],
           "z": [
            -0.20730000734329224,
            -0.3912999927997589
           ]
          }
         ],
         "name": "26"
        },
        {
         "data": [
          {
           "marker": {
            "color": "blue",
            "size": 4
           },
           "mode": "markers+text",
           "name": "Landmarks",
           "text": [
            "0",
            "1",
            "2",
            "3",
            "4",
            "5",
            "6",
            "7",
            "8",
            "9",
            "10",
            "11",
            "12",
            "13",
            "14",
            "15",
            "16",
            "17",
            "18",
            "19"
           ],
           "textfont": {
            "color": "black",
            "size": 8
           },
           "textposition": "top center",
           "type": "scatter3d",
           "x": {
            "bdata": "AAAAAKCrnDwN/ho+2LmTPGwJ+bqIZ1s9Un6YPs9hAj9vEgO7eT92PTJFtj4CLQ4/fow5vbSylT3hicU+pEwRPyBj7r3ysx69KkYsPliVvz4=",
            "dtype": "f4"
           },
           "y": {
            "bdata": "AAAAAJgl8z5Yk0Q/k7FfPwskeD+gsbM/XI7DP+PMwz9kO38/ThjEP3x8wz8anMk/3+BrP9vJuj/hc8c/OP64P0I+SD9XXpw/LLy0P5Zorj8=",
            "dtype": "f4"
           },
           "z": {
            "bdata": "AAAAAJWyrT4vpxI++G6FvUOtaT7QzaE+qHiOPrDgYT5fKUu8Q34JPuBqFLzS4LW9dEZUvhoPHr7H4VW+Wv+HvnlYyL4sI7++6ynXvobl+r4=",
            "dtype": "f4"
           }
          },
          {
           "line": {
            "color": "black",
            "width": 2
           },
           "mode": "lines",
           "showlegend": false,
           "type": "scatter3d",
           "x": [
            0,
            0.01912480592727661
           ],
           "y": [
            0,
            0.4748961925506592
           ],
           "z": [
            0,
            0.33925309777259827
           ]
          },
          {
           "line": {
            "color": "black",
            "width": 2
           },
           "mode": "lines",
           "showlegend": false,
           "type": "scatter3d",
           "x": [
            0.01912480592727661,
            0.15135975182056427
           ],
           "y": [
            0.4748961925506592,
            0.7678732872009277
           ],
           "z": [
            0.33925309777259827,
            0.14321587979793549
           ]
          },
          {
           "line": {
            "color": "black",
            "width": 2
           },
           "mode": "lines",
           "showlegend": false,
           "type": "scatter3d",
           "x": [
            0.15135975182056427,
            0.018032953143119812
           ],
           "y": [
            0.7678732872009277,
            0.8738033175468445
           ],
           "z": [
            0.14321587979793549,
            -0.06515306234359741
           ]
          },
          {
           "line": {
            "color": "black",
            "width": 2
           },
           "mode": "lines",
           "showlegend": false,
           "type": "scatter3d",
           "x": [
            0,
            -0.0019000000320374966
           ],
           "y": [
            0,
            0.9692999720573425
           ],
           "z": [
            0,
            0.2282000035047531
           ]
          },
          {
           "line": {
            "color": "black",
            "width": 2
           },
           "mode": "lines",
           "showlegend": false,
           "type": "scatter3d",
           "x": [
            -0.0019000000320374966,
            0.053565531969070435
           ],
           "y": [
            0.9692999720573425,
            1.4038581848144531
           ],
           "z": [
            0.2282000035047531,
            0.3160233497619629
           ]
          },
          {
           "line": {
            "color": "black",
            "width": 2
           },
           "mode": "lines",
           "showlegend": false,
           "type": "scatter3d",
           "x": [
            0.053565531969070435,
            0.2978387475013733
           ],
           "y": [
            1.4038581848144531,
            1.5277819633483887
           ],
           "z": [
            0.3160233497619629,
            0.27826428413391113
           ]
          },
          {
           "line": {
            "color": "black",
            "width": 2
           },
           "mode": "lines",
           "showlegend": false,
           "type": "scatter3d",
           "x": [
            0.2978387475013733,
            0.509304940700531
           ],
           "y": [
            1.5277819633483887,
            1.529690146446228
           ],
           "z": [
            0.27826428413391113,
            0.22058367729187012
           ]
          },
          {
           "line": {
            "color": "black",
            "width": 2
           },
           "mode": "lines",
           "showlegend": false,
           "type": "scatter3d",
           "x": [
            0,
            -0.0020000000949949026
           ],
           "y": [
            0,
            0.996999979019165
           ],
           "z": [
            0,
            -0.012400000356137753
           ]
          },
          {
           "line": {
            "color": "black",
            "width": 2
           },
           "mode": "lines",
           "showlegend": false,
           "type": "scatter3d",
           "x": [
            -0.0020000000949949026,
            0.06011912599205971
           ],
           "y": [
            0.996999979019165,
            1.531991720199585
           ],
           "z": [
            -0.012400000356137753,
            0.13427071273326874
           ]
          },
          {
           "line": {
            "color": "black",
            "width": 2
           },
           "mode": "lines",
           "showlegend": false,
           "type": "scatter3d",
           "x": [
            0.06011912599205971,
            0.35599666833877563
           ],
           "y": [
            1.531991720199585,
            1.5272364616394043
           ],
           "z": [
            0.13427071273326874,
            -0.00905868411064148
           ]
          },
          {
           "line": {
            "color": "black",
            "width": 2
           },
           "mode": "lines",
           "showlegend": false,
           "type": "scatter3d",
           "x": [
            0.35599666833877563,
            0.555374264717102
           ],
           "y": [
            1.5272364616394043,
            1.5750763416290283
           ],
           "z": [
            -0.00905868411064148,
            -0.08880771696567535
           ]
          },
          {
           "line": {
            "color": "black",
            "width": 2
           },
           "mode": "lines",
           "showlegend": false,
           "type": "scatter3d",
           "x": [
            0,
            -0.04529999941587448
           ],
           "y": [
            0,
            0.9214000105857849
           ],
           "z": [
            0,
            -0.20730000734329224
           ]
          },
          {
           "line": {
            "color": "black",
            "width": 2
           },
           "mode": "lines",
           "showlegend": false,
           "type": "scatter3d",
           "x": [
            -0.04529999941587448,
            0.07309475541114807
           ],
           "y": [
            0.9214000105857849,
            1.4592851400375366
           ],
           "z": [
            -0.20730000734329224,
            -0.15435448288917542
           ]
          },
          {
           "line": {
            "color": "black",
            "width": 2
           },
           "mode": "lines",
           "showlegend": false,
           "type": "scatter3d",
           "x": [
            0.07309475541114807,
            0.3858175575733185
           ],
           "y": [
            1.4592851400375366,
            1.558223843574524
           ],
           "z": [
            -0.15435448288917542,
            -0.2088690847158432
           ]
          },
          {
           "line": {
            "color": "black",
            "width": 2
           },
           "mode": "lines",
           "showlegend": false,
           "type": "scatter3d",
           "x": [
            0.3858175575733185,
            0.5675756931304932
           ],
           "y": [
            1.558223843574524,
            1.4452581405639648
           ],
           "z": [
            -0.2088690847158432,
            -0.26562005281448364
           ]
          },
          {
           "line": {
            "color": "black",
            "width": 2
           },
           "mode": "lines",
           "showlegend": false,
           "type": "scatter3d",
           "x": [
            0,
            -0.11640000343322754
           ],
           "y": [
            0,
            0.7821999788284302
           ],
           "z": [
            0,
            -0.3912999927997589
           ]
          },
          {
           "line": {
            "color": "black",
            "width": 2
           },
           "mode": "lines",
           "showlegend": false,
           "type": "scatter3d",
           "x": [
            -0.11640000343322754,
            -0.03874582797288895
           ],
           "y": [
            0.7821999788284302,
            1.221629023551941
           ],
           "z": [
            -0.3912999927997589,
            -0.3733152151107788
           ]
          },
          {
           "line": {
            "color": "black",
            "width": 2
           },
           "mode": "lines",
           "showlegend": false,
           "type": "scatter3d",
           "x": [
            -0.03874582797288895,
            0.1682364046573639
           ],
           "y": [
            1.221629023551941,
            1.4119925498962402
           ],
           "z": [
            -0.3733152151107788,
            -0.42024168372154236
           ]
          },
          {
           "line": {
            "color": "black",
            "width": 2
           },
           "mode": "lines",
           "showlegend": false,
           "type": "scatter3d",
           "x": [
            0.1682364046573639,
            0.37418627738952637
           ],
           "y": [
            1.4119925498962402,
            1.3625667095184326
           ],
           "z": [
            -0.42024168372154236,
            -0.4900323748588562
           ]
          },
          {
           "line": {
            "color": "black",
            "width": 2
           },
           "mode": "lines",
           "showlegend": false,
           "type": "scatter3d",
           "x": [
            0.01912480592727661,
            -0.0019000000320374966
           ],
           "y": [
            0.4748961925506592,
            0.9692999720573425
           ],
           "z": [
            0.33925309777259827,
            0.2282000035047531
           ]
          },
          {
           "line": {
            "color": "black",
            "width": 2
           },
           "mode": "lines",
           "showlegend": false,
           "type": "scatter3d",
           "x": [
            -0.0019000000320374966,
            -0.0020000000949949026
           ],
           "y": [
            0.9692999720573425,
            0.996999979019165
           ],
           "z": [
            0.2282000035047531,
            -0.012400000356137753
           ]
          },
          {
           "line": {
            "color": "black",
            "width": 2
           },
           "mode": "lines",
           "showlegend": false,
           "type": "scatter3d",
           "x": [
            -0.0020000000949949026,
            -0.04529999941587448
           ],
           "y": [
            0.996999979019165,
            0.9214000105857849
           ],
           "z": [
            -0.012400000356137753,
            -0.20730000734329224
           ]
          },
          {
           "line": {
            "color": "black",
            "width": 2
           },
           "mode": "lines",
           "showlegend": false,
           "type": "scatter3d",
           "x": [
            -0.04529999941587448,
            -0.11640000343322754
           ],
           "y": [
            0.9214000105857849,
            0.7821999788284302
           ],
           "z": [
            -0.20730000734329224,
            -0.3912999927997589
           ]
          }
         ],
         "name": "27"
        },
        {
         "data": [
          {
           "marker": {
            "color": "blue",
            "size": 4
           },
           "mode": "markers+text",
           "name": "Landmarks",
           "text": [
            "0",
            "1",
            "2",
            "3",
            "4",
            "5",
            "6",
            "7",
            "8",
            "9",
            "10",
            "11",
            "12",
            "13",
            "14",
            "15",
            "16",
            "17",
            "18",
            "19"
           ],
           "textfont": {
            "color": "black",
            "size": 8
           },
           "textposition": "top center",
           "type": "scatter3d",
           "x": {
            "bdata": "AAAAAIBHKjxHODE+urriPWwJ+br5zw89zgGaPr6tAj9vEgO7i2RIPhhY9j4C7Cg/fow5venmlD3UMsU+4DURPyBj7r0EnNe9RskxPtimxD4=",
            "dtype": "f4"
           },
           "y": {
            "bdata": "AAAAAGiv9T414ko/hEt1PwskeD+2SrM/WT23P52Itj9kO38/dKTAP6Hbvz95M7o/3+BrP9TOuj91mcc/BjC5P0I+SD/QLZw/7ZGbP+gYkz8=",
            "dtype": "f4"
           },
           "z": {
            "bdata": "AAAAACDhxz58FYQ+uHxiPUOtaT76P60+DF2JPlqAUT5fKUu8I4rcPUbfYr14EDS+dEZUvkHBHr7/VVa+dxWIvnlYyL67xfS+f3oJv53HEb8=",
            "dtype": "f4"
           }
          },
          {
           "line": {
            "color": "black",
            "width": 2
           },
           "mode": "lines",
           "showlegend": false,
           "type": "scatter3d",
           "x": [
            0,
            0.010393023490905762
           ],
           "y": [
            0,
            0.47985386848449707
           ],
           "z": [
            0,
            0.39038944244384766
           ]
          },
          {
           "line": {
            "color": "black",
            "width": 2
           },
           "mode": "lines",
           "showlegend": false,
           "type": "scatter3d",
           "x": [
            0.010393023490905762,
            0.17306624352931976
           ],
           "y": [
            0.47985386848449707,
            0.7925141453742981
           ],
           "z": [
            0.39038944244384766,
            0.2579764127731323
           ]
          },
          {
           "line": {
            "color": "black",
            "width": 2
           },
           "mode": "lines",
           "showlegend": false,
           "type": "scatter3d",
           "x": [
            0.17306624352931976,
            0.11070771515369415
           ],
           "y": [
            0.7925141453742981,
            0.9581835269927979
           ],
           "z": [
            0.2579764127731323,
            0.05529472231864929
           ]
          },
          {
           "line": {
            "color": "black",
            "width": 2
           },
           "mode": "lines",
           "showlegend": false,
           "type": "scatter3d",
           "x": [
            0,
            -0.0019000000320374966
           ],
           "y": [
            0,
            0.9692999720573425
           ],
           "z": [
            0,
            0.2282000035047531
           ]
          },
          {
           "line": {
            "color": "black",
            "width": 2
           },
           "mode": "lines",
           "showlegend": false,
           "type": "scatter3d",
           "x": [
            -0.0019000000320374966,
            0.03511044755578041
           ],
           "y": [
            0.9692999720573425,
            1.4007174968719482
           ],
           "z": [
            0.2282000035047531,
            0.3383787274360657
           ]
          },
          {
           "line": {
            "color": "black",
            "width": 2
           },
           "mode": "lines",
           "showlegend": false,
           "type": "scatter3d",
           "x": [
            0.03511044755578041,
            0.3007950186729431
           ],
           "y": [
            1.4007174968719482,
            1.431559681892395
           ],
           "z": [
            0.3383787274360657,
            0.2682880163192749
           ]
          },
          {
           "line": {
            "color": "black",
            "width": 2
           },
           "mode": "lines",
           "showlegend": false,
           "type": "scatter3d",
           "x": [
            0.3007950186729431,
            0.5104635953903198
           ],
           "y": [
            1.431559681892395,
            1.4260441064834595
           ],
           "z": [
            0.2682880163192749,
            0.20459118485450745
           ]
          },
          {
           "line": {
            "color": "black",
            "width": 2
           },
           "mode": "lines",
           "showlegend": false,
           "type": "scatter3d",
           "x": [
            0,
            -0.0020000000949949026
           ],
           "y": [
            0,
            0.996999979019165
           ],
           "z": [
            0,
            -0.012400000356137753
           ]
          },
          {
           "line": {
            "color": "black",
            "width": 2
           },
           "mode": "lines",
           "showlegend": false,
           "type": "scatter3d",
           "x": [
            -0.0020000000949949026,
            0.19569604098796844
           ],
           "y": [
            0.996999979019165,
            1.505018711090088
           ],
           "z": [
            -0.012400000356137753,
            0.10768534988164902
           ]
          },
          {
           "line": {
            "color": "black",
            "width": 2
           },
           "mode": "lines",
           "showlegend": false,
           "type": "scatter3d",
           "x": [
            0.19569604098796844,
            0.4811408519744873
           ],
           "y": [
            1.505018711090088,
            1.4988900423049927
           ],
           "z": [
            0.10768534988164902,
            -0.055388711392879486
           ]
          },
          {
           "line": {
            "color": "black",
            "width": 2
           },
           "mode": "lines",
           "showlegend": false,
           "type": "scatter3d",
           "x": [
            0.4811408519744873,
            0.6598511934280396
           ],
           "y": [
            1.4988900423049927,
            1.4546958208084106
           ],
           "z": [
            -0.055388711392879486,
            -0.17584407329559326
           ]
          },
          {
           "line": {
            "color": "black",
            "width": 2
           },
           "mode": "lines",
           "showlegend": false,
           "type": "scatter3d",
           "x": [
            0,
            -0.04529999941587448
           ],
           "y": [
            0,
            0.9214000105857849
           ],
           "z": [
            0,
            -0.20730000734329224
           ]
          },
          {
           "line": {
            "color": "black",
            "width": 2
           },
           "mode": "lines",
           "showlegend": false,
           "type": "scatter3d",
           "x": [
            -0.04529999941587448,
            0.07270605117082596
           ],
           "y": [
            0.9214000105857849,
            1.4594368934631348
           ],
           "z": [
            -0.20730000734329224,
            -0.15503408014774323
           ]
          },
          {
           "line": {
            "color": "black",
            "width": 2
           },
           "mode": "lines",
           "showlegend": false,
           "type": "scatter3d",
           "x": [
            0.07270605117082596,
            0.3851534128189087
           ],
           "y": [
            1.4594368934631348,
            1.5593706369400024
           ],
           "z": [
            -0.15503408014774323,
            -0.20931242406368256
           ]
          },
          {
           "line": {
            "color": "black",
            "width": 2
           },
           "mode": "lines",
           "showlegend": false,
           "type": "scatter3d",
           "x": [
            0.3851534128189087,
            0.5672283172607422
           ],
           "y": [
            1.5593706369400024,
            1.4467780590057373
           ],
           "z": [
            -0.20931242406368256,
            -0.2657887637615204
           ]
          },
          {
           "line": {
            "color": "black",
            "width": 2
           },
           "mode": "lines",
           "showlegend": false,
           "type": "scatter3d",
           "x": [
            0,
            -0.11640000343322754
           ],
           "y": [
            0,
            0.7821999788284302
           ],
           "z": [
            0,
            -0.3912999927997589
           ]
          },
          {
           "line": {
            "color": "black",
            "width": 2
           },
           "mode": "lines",
           "showlegend": false,
           "type": "scatter3d",
           "x": [
            -0.11640000343322754,
            -0.10527804493904114
           ],
           "y": [
            0.7821999788284302,
            1.2201480865478516
           ],
           "z": [
            -0.3912999927997589,
            -0.47807106375694275
           ]
          },
          {
           "line": {
            "color": "black",
            "width": 2
           },
           "mode": "lines",
           "showlegend": false,
           "type": "scatter3d",
           "x": [
            -0.10527804493904114,
            0.1736193597316742
           ],
           "y": [
            1.2201480865478516,
            1.2153908014297485
           ],
           "z": [
            -0.47807106375694275,
            -0.5370253920555115
           ]
          },
          {
           "line": {
            "color": "black",
            "width": 2
           },
           "mode": "lines",
           "showlegend": false,
           "type": "scatter3d",
           "x": [
            0.1736193597316742,
            0.38408541679382324
           ],
           "y": [
            1.2153908014297485,
            1.1491975784301758
           ],
           "z": [
            -0.5370253920555115,
            -0.5694521069526672
           ]
          },
          {
           "line": {
            "color": "black",
            "width": 2
           },
           "mode": "lines",
           "showlegend": false,
           "type": "scatter3d",
           "x": [
            0.010393023490905762,
            -0.0019000000320374966
           ],
           "y": [
            0.47985386848449707,
            0.9692999720573425
           ],
           "z": [
            0.39038944244384766,
            0.2282000035047531
           ]
          },
          {
           "line": {
            "color": "black",
            "width": 2
           },
           "mode": "lines",
           "showlegend": false,
           "type": "scatter3d",
           "x": [
            -0.0019000000320374966,
            -0.0020000000949949026
           ],
           "y": [
            0.9692999720573425,
            0.996999979019165
           ],
           "z": [
            0.2282000035047531,
            -0.012400000356137753
           ]
          },
          {
           "line": {
            "color": "black",
            "width": 2
           },
           "mode": "lines",
           "showlegend": false,
           "type": "scatter3d",
           "x": [
            -0.0020000000949949026,
            -0.04529999941587448
           ],
           "y": [
            0.996999979019165,
            0.9214000105857849
           ],
           "z": [
            -0.012400000356137753,
            -0.20730000734329224
           ]
          },
          {
           "line": {
            "color": "black",
            "width": 2
           },
           "mode": "lines",
           "showlegend": false,
           "type": "scatter3d",
           "x": [
            -0.04529999941587448,
            -0.11640000343322754
           ],
           "y": [
            0.9214000105857849,
            0.7821999788284302
           ],
           "z": [
            -0.20730000734329224,
            -0.3912999927997589
           ]
          }
         ],
         "name": "28"
        },
        {
         "data": [
          {
           "marker": {
            "color": "blue",
            "size": 4
           },
           "mode": "markers+text",
           "name": "Landmarks",
           "text": [
            "0",
            "1",
            "2",
            "3",
            "4",
            "5",
            "6",
            "7",
            "8",
            "9",
            "10",
            "11",
            "12",
            "13",
            "14",
            "15",
            "16",
            "17",
            "18",
            "19"
           ],
           "textfont": {
            "color": "black",
            "size": 8
           },
           "textposition": "top center",
           "type": "scatter3d",
           "x": {
            "bdata": "AAAAAEDM9juYBzQ+pCcfPmwJ+br31QA9ig+YPiCQAT9vEgO7MCBhPkB0AT9m2io/fow5vZstlT3MScU+ZD4RPyBj7r2hUCK+MibxPYAmDD4=",
            "dtype": "f4"
           },
           "y": {
            "bdata": "AAAAAHwe9j7U7Es/hIp9PwskeD+uJLM/4X61P8GOtD9kO38/im+/P30jwT/0/rc/3+BrP7rNuj+ik8c/PSi5P0I+SD+/kpk/RcOQP7sgbD8=",
            "dtype": "f4"
           },
           "z": {
            "bdata": "AAAAALIpzT4LVpE+WkzJPUOtaT5yGbA+DsaJPvunUD5fKUu84fzWPbZwab1uckC+dEZUvk22Hr6eU1a+yxeIvnlYyL4MPwu/ERYPv/P99r4=",
            "dtype": "f4"
           }
          },
          {
           "line": {
            "color": "black",
            "width": 2
           },
           "mode": "lines",
           "showlegend": false,
           "type": "scatter3d",
           "x": [
            0,
            0.007531672716140747
           ],
           "y": [
            0,
            0.4807013273239136
           ],
           "z": [
            0,
            0.40070873498916626
           ]
          },
          {
           "line": {
            "color": "black",
            "width": 2
           },
           "mode": "lines",
           "showlegend": false,
           "type": "scatter3d",
           "x": [
            0.007531672716140747,
            0.17581021785736084
           ],
           "y": [
            0.4807013273239136,
            0.7965824604034424
           ],
           "z": [
            0.40070873498916626,
            0.28385958075523376
           ]
          },
          {
           "line": {
            "color": "black",
            "width": 2
           },
           "mode": "lines",
           "showlegend": false,
           "type": "scatter3d",
           "x": [
            0.17581021785736084,
            0.15542465448379517
           ],
           "y": [
            0.7965824604034424,
            0.9903948307037354
           ],
           "z": [
            0.28385958075523376,
            0.09829016029834747
           ]
          },
          {
           "line": {
            "color": "black",
            "width": 2
           },
           "mode": "lines",
           "showlegend": false,
           "type": "scatter3d",
           "x": [
            0,
            -0.0019000000320374966
           ],
           "y": [
            0,
            0.9692999720573425
           ],
           "z": [
            0,
            0.2282000035047531
           ]
          },
          {
           "line": {
            "color": "black",
            "width": 2
           },
           "mode": "lines",
           "showlegend": false,
           "type": "scatter3d",
           "x": [
            -0.0019000000320374966,
            0.03145405277609825
           ],
           "y": [
            0.9692999720573425,
            1.3995568752288818
           ],
           "z": [
            0.2282000035047531,
            0.34394413232803345
           ]
          },
          {
           "line": {
            "color": "black",
            "width": 2
           },
           "mode": "lines",
           "showlegend": false,
           "type": "scatter3d",
           "x": [
            0.03145405277609825,
            0.29699355363845825
           ],
           "y": [
            1.3995568752288818,
            1.417934536933899
           ],
           "z": [
            0.34394413232803345,
            0.2690891623497009
           ]
          },
          {
           "line": {
            "color": "black",
            "width": 2
           },
           "mode": "lines",
           "showlegend": false,
           "type": "scatter3d",
           "x": [
            0.29699355363845825,
            0.5061054229736328
           ],
           "y": [
            1.417934536933899,
            1.4106065034866333
           ],
           "z": [
            0.2690891623497009,
            0.20376579463481903
           ]
          },
          {
           "line": {
            "color": "black",
            "width": 2
           },
           "mode": "lines",
           "showlegend": false,
           "type": "scatter3d",
           "x": [
            0,
            -0.0020000000949949026
           ],
           "y": [
            0,
            0.996999979019165
           ],
           "z": [
            0,
            -0.012400000356137753
           ]
          },
          {
           "line": {
            "color": "black",
            "width": 2
           },
           "mode": "lines",
           "showlegend": false,
           "type": "scatter3d",
           "x": [
            -0.0020000000949949026,
            0.2198493480682373
           ],
           "y": [
            0.996999979019165,
            1.495591402053833
           ],
           "z": [
            -0.012400000356137753,
            0.10497451573610306
           ]
          },
          {
           "line": {
            "color": "black",
            "width": 2
           },
           "mode": "lines",
           "showlegend": false,
           "type": "scatter3d",
           "x": [
            0.2198493480682373,
            0.5056800842285156
           ],
           "y": [
            1.495591402053833,
            1.5088955163955688
           ],
           "z": [
            0.10497451573610306,
            -0.05699225515127182
           ]
          },
          {
           "line": {
            "color": "black",
            "width": 2
           },
           "mode": "lines",
           "showlegend": false,
           "type": "scatter3d",
           "x": [
            0.5056800842285156,
            0.6673949956893921
           ],
           "y": [
            1.5088955163955688,
            1.4374680519104004
           ],
           "z": [
            -0.05699225515127182,
            -0.18793651461601257
           ]
          },
          {
           "line": {
            "color": "black",
            "width": 2
           },
           "mode": "lines",
           "showlegend": false,
           "type": "scatter3d",
           "x": [
            0,
            -0.04529999941587448
           ],
           "y": [
            0,
            0.9214000105857849
           ],
           "z": [
            0,
            -0.20730000734329224
           ]
          },
          {
           "line": {
            "color": "black",
            "width": 2
           },
           "mode": "lines",
           "showlegend": false,
           "type": "scatter3d",
           "x": [
            -0.04529999941587448,
            0.07284089177846909
           ],
           "y": [
            0.9214000105857849,
            1.4594032764434814
           ],
           "z": [
            -0.20730000734329224,
            -0.15499229729175568
           ]
          },
          {
           "line": {
            "color": "black",
            "width": 2
           },
           "mode": "lines",
           "showlegend": false,
           "type": "scatter3d",
           "x": [
            0.07284089177846909,
            0.38532865047454834
           ],
           "y": [
            1.4594032764434814,
            1.5591928958892822
           ],
           "z": [
            -0.15499229729175568,
            -0.2093033492565155
           ]
          },
          {
           "line": {
            "color": "black",
            "width": 2
           },
           "mode": "lines",
           "showlegend": false,
           "type": "scatter3d",
           "x": [
            0.38532865047454834,
            0.5673582553863525
           ],
           "y": [
            1.5591928958892822,
            1.4465404748916626
           ],
           "z": [
            -0.2093033492565155,
            -0.26580652594566345
           ]
          },
          {
           "line": {
            "color": "black",
            "width": 2
           },
           "mode": "lines",
           "showlegend": false,
           "type": "scatter3d",
           "x": [
            0,
            -0.11640000343322754
           ],
           "y": [
            0,
            0.7821999788284302
           ],
           "z": [
            0,
            -0.3912999927997589
           ]
          },
          {
           "line": {
            "color": "black",
            "width": 2
           },
           "mode": "lines",
           "showlegend": false,
           "type": "scatter3d",
           "x": [
            -0.11640000343322754,
            -0.1585106998682022
           ],
           "y": [
            0.7821999788284302,
            1.1997908353805542
           ],
           "z": [
            -0.3912999927997589,
            -0.5439307689666748
           ]
          },
          {
           "line": {
            "color": "black",
            "width": 2
           },
           "mode": "lines",
           "showlegend": false,
           "type": "scatter3d",
           "x": [
            -0.1585106998682022,
            0.11774863302707672
           ],
           "y": [
            1.1997908353805542,
            1.130959153175354
           ],
           "z": [
            -0.5439307689666748,
            -0.5589304566383362
           ]
          },
          {
           "line": {
            "color": "black",
            "width": 2
           },
           "mode": "lines",
           "showlegend": false,
           "type": "scatter3d",
           "x": [
            0.11774863302707672,
            0.13686561584472656
           ],
           "y": [
            1.130959153175354,
            0.922374427318573
           ],
           "z": [
            -0.5589304566383362,
            -0.48240622878074646
           ]
          },
          {
           "line": {
            "color": "black",
            "width": 2
           },
           "mode": "lines",
           "showlegend": false,
           "type": "scatter3d",
           "x": [
            0.007531672716140747,
            -0.0019000000320374966
           ],
           "y": [
            0.4807013273239136,
            0.9692999720573425
           ],
           "z": [
            0.40070873498916626,
            0.2282000035047531
           ]
          },
          {
           "line": {
            "color": "black",
            "width": 2
           },
           "mode": "lines",
           "showlegend": false,
           "type": "scatter3d",
           "x": [
            -0.0019000000320374966,
            -0.0020000000949949026
           ],
           "y": [
            0.9692999720573425,
            0.996999979019165
           ],
           "z": [
            0.2282000035047531,
            -0.012400000356137753
           ]
          },
          {
           "line": {
            "color": "black",
            "width": 2
           },
           "mode": "lines",
           "showlegend": false,
           "type": "scatter3d",
           "x": [
            -0.0020000000949949026,
            -0.04529999941587448
           ],
           "y": [
            0.996999979019165,
            0.9214000105857849
           ],
           "z": [
            -0.012400000356137753,
            -0.20730000734329224
           ]
          },
          {
           "line": {
            "color": "black",
            "width": 2
           },
           "mode": "lines",
           "showlegend": false,
           "type": "scatter3d",
           "x": [
            -0.04529999941587448,
            -0.11640000343322754
           ],
           "y": [
            0.9214000105857849,
            0.7821999788284302
           ],
           "z": [
            -0.20730000734329224,
            -0.3912999927997589
           ]
          }
         ],
         "name": "29"
        },
        {
         "data": [
          {
           "marker": {
            "color": "blue",
            "size": 4
           },
           "mode": "markers+text",
           "name": "Landmarks",
           "text": [
            "0",
            "1",
            "2",
            "3",
            "4",
            "5",
            "6",
            "7",
            "8",
            "9",
            "10",
            "11",
            "12",
            "13",
            "14",
            "15",
            "16",
            "17",
            "18",
            "19"
           ],
           "textfont": {
            "color": "black",
            "size": 8
           },
           "textposition": "top center",
           "type": "scatter3d",
           "x": {
            "bdata": "AAAAAODADDzzSTc+rD8uPmwJ+boRqB49pG6bPiQeAz9vEgO79l1mPiTUAj/wHis/fow5vT86lT3KSsU+Wj8RPyBj7r1Qwyu+RFzYPcm8mz0=",
            "dtype": "f4"
           },
           "y": {
            "bdata": "AAAAAMKA9T7JXEs/IWN+PwskeD8OzbI/FBm2P+Z6tT9kO38/2eq+PzbNwj8rebk/3+BrP/nMuj+olMc/tiq5P0I+SD+AdZk/pS2PP1fpaT8=",
            "dtype": "f4"
           },
           "z": {
            "bdata": "AAAAAIPwzD6AUJE+kGzTPUOtaT7J3LM+p2ONPhYAVj5fKUu8hpblPVDsQL2d0Tq+dEZUvpOGHr64Ila+5geIvnlYyL7CJQu/+p4NvzfD8L4=",
            "dtype": "f4"
           }
          },
          {
           "line": {
            "color": "black",
            "width": 2
           },
           "mode": "lines",
           "showlegend": false,
           "type": "scatter3d",
           "x": [
            0,
            0.008590906858444214
           ],
           "y": [
            0,
            0.4794979691505432
           ],
           "z": [
            0,
            0.4002724587917328
           ]
          },
          {
           "line": {
            "color": "black",
            "width": 2
           },
           "mode": "lines",
           "showlegend": false,
           "type": "scatter3d",
           "x": [
            0.008590906858444214,
            0.17899303138256073
           ],
           "y": [
            0.4794979691505432,
            0.7943845391273499
           ],
           "z": [
            0.4002724587917328,
            0.2838172912597656
           ]
          },
          {
           "line": {
            "color": "black",
            "width": 2
           },
           "mode": "lines",
           "showlegend": false,
           "type": "scatter3d",
           "x": [
            0.17899303138256073,
            0.17016476392745972
           ],
           "y": [
            0.7943845391273499,
            0.9937000870704651
           ],
           "z": [
            0.2838172912597656,
            0.10323441028594971
           ]
          },
          {
           "line": {
            "color": "black",
            "width": 2
           },
           "mode": "lines",
           "showlegend": false,
           "type": "scatter3d",
           "x": [
            0,
            -0.0019000000320374966
           ],
           "y": [
            0,
            0.9692999720573425
           ],
           "z": [
            0,
            0.2282000035047531
           ]
          },
          {
           "line": {
            "color": "black",
            "width": 2
           },
           "mode": "lines",
           "showlegend": false,
           "type": "scatter3d",
           "x": [
            -0.0019000000320374966,
            0.038734499365091324
           ],
           "y": [
            0.9692999720573425,
            1.3968827724456787
           ],
           "z": [
            0.2282000035047531,
            0.3512938320636749
           ]
          },
          {
           "line": {
            "color": "black",
            "width": 2
           },
           "mode": "lines",
           "showlegend": false,
           "type": "scatter3d",
           "x": [
            0.038734499365091324,
            0.3035784959793091
           ],
           "y": [
            1.3968827724456787,
            1.422640323638916
           ],
           "z": [
            0.3512938320636749,
            0.2761509120464325
           ]
          },
          {
           "line": {
            "color": "black",
            "width": 2
           },
           "mode": "lines",
           "showlegend": false,
           "type": "scatter3d",
           "x": [
            0.3035784959793091,
            0.5121786594390869
           ],
           "y": [
            1.422640323638916,
            1.4178130626678467
           ],
           "z": [
            0.2761509120464325,
            0.20898470282554626
           ]
          },
          {
           "line": {
            "color": "black",
            "width": 2
           },
           "mode": "lines",
           "showlegend": false,
           "type": "scatter3d",
           "x": [
            0,
            -0.0020000000949949026
           ],
           "y": [
            0,
            0.996999979019165
           ],
           "z": [
            0,
            -0.012400000356137753
           ]
          },
          {
           "line": {
            "color": "black",
            "width": 2
           },
           "mode": "lines",
           "showlegend": false,
           "type": "scatter3d",
           "x": [
            -0.0020000000949949026,
            0.2249678075313568
           ],
           "y": [
            0.996999979019165,
            1.4915419816970825
           ],
           "z": [
            -0.012400000356137753,
            0.11210350692272186
           ]
          },
          {
           "line": {
            "color": "black",
            "width": 2
           },
           "mode": "lines",
           "showlegend": false,
           "type": "scatter3d",
           "x": [
            0.2249678075313568,
            0.5110495090484619
           ],
           "y": [
            1.4915419816970825,
            1.5218875408172607
           ],
           "z": [
            0.11210350692272186,
            -0.04710036516189575
           ]
          },
          {
           "line": {
            "color": "black",
            "width": 2
           },
           "mode": "lines",
           "showlegend": false,
           "type": "scatter3d",
           "x": [
            0.5110495090484619,
            0.6684408187866211
           ],
           "y": [
            1.5218875408172607,
            1.4490102529525757
           ],
           "z": [
            -0.04710036516189575,
            -0.18244023621082306
           ]
          },
          {
           "line": {
            "color": "black",
            "width": 2
           },
           "mode": "lines",
           "showlegend": false,
           "type": "scatter3d",
           "x": [
            0,
            -0.04529999941587448
           ],
           "y": [
            0,
            0.9214000105857849
           ],
           "z": [
            0,
            -0.20730000734329224
           ]
          },
          {
           "line": {
            "color": "black",
            "width": 2
           },
           "mode": "lines",
           "showlegend": false,
           "type": "scatter3d",
           "x": [
            -0.04529999941587448,
            0.07286500185728073
           ],
           "y": [
            0.9214000105857849,
            1.4593802690505981
           ],
           "z": [
            -0.20730000734329224,
            -0.15481023490428925
           ]
          },
          {
           "line": {
            "color": "black",
            "width": 2
           },
           "mode": "lines",
           "showlegend": false,
           "type": "scatter3d",
           "x": [
            0.07286500185728073,
            0.3853362202644348
           ],
           "y": [
            1.4593802690505981,
            1.5592241287231445
           ],
           "z": [
            -0.15481023490428925,
            -0.20911681652069092
           ]
          },
          {
           "line": {
            "color": "black",
            "width": 2
           },
           "mode": "lines",
           "showlegend": false,
           "type": "scatter3d",
           "x": [
            0.3853362202644348,
            0.5673729181289673
           ],
           "y": [
            1.5592241287231445,
            1.4466159343719482
           ],
           "z": [
            -0.20911681652069092,
            -0.2656852602958679
           ]
          },
          {
           "line": {
            "color": "black",
            "width": 2
           },
           "mode": "lines",
           "showlegend": false,
           "type": "scatter3d",
           "x": [
            0,
            -0.11640000343322754
           ],
           "y": [
            0,
            0.7821999788284302
           ],
           "z": [
            0,
            -0.3912999927997589
           ]
          },
          {
           "line": {
            "color": "black",
            "width": 2
           },
           "mode": "lines",
           "showlegend": false,
           "type": "scatter3d",
           "x": [
            -0.11640000343322754,
            -0.16773724555969238
           ],
           "y": [
            0.7821999788284302,
            1.1988983154296875
           ],
           "z": [
            -0.3912999927997589,
            -0.5435448884963989
           ]
          },
          {
           "line": {
            "color": "black",
            "width": 2
           },
           "mode": "lines",
           "showlegend": false,
           "type": "scatter3d",
           "x": [
            -0.16773724555969238,
            0.10564473271369934
           ],
           "y": [
            1.1988983154296875,
            1.1185804605484009
           ],
           "z": [
            -0.5435448884963989,
            -0.5532070398330688
           ]
          },
          {
           "line": {
            "color": "black",
            "width": 2
           },
           "mode": "lines",
           "showlegend": false,
           "type": "scatter3d",
           "x": [
            0.10564473271369934,
            0.07604367285966873
           ],
           "y": [
            1.1185804605484009,
            0.913716733455658
           ],
           "z": [
            -0.5532070398330688,
            -0.4702393710613251
           ]
          },
          {
           "line": {
            "color": "black",
            "width": 2
           },
           "mode": "lines",
           "showlegend": false,
           "type": "scatter3d",
           "x": [
            0.008590906858444214,
            -0.0019000000320374966
           ],
           "y": [
            0.4794979691505432,
            0.9692999720573425
           ],
           "z": [
            0.4002724587917328,
            0.2282000035047531
           ]
          },
          {
           "line": {
            "color": "black",
            "width": 2
           },
           "mode": "lines",
           "showlegend": false,
           "type": "scatter3d",
           "x": [
            -0.0019000000320374966,
            -0.0020000000949949026
           ],
           "y": [
            0.9692999720573425,
            0.996999979019165
           ],
           "z": [
            0.2282000035047531,
            -0.012400000356137753
           ]
          },
          {
           "line": {
            "color": "black",
            "width": 2
           },
           "mode": "lines",
           "showlegend": false,
           "type": "scatter3d",
           "x": [
            -0.0020000000949949026,
            -0.04529999941587448
           ],
           "y": [
            0.996999979019165,
            0.9214000105857849
           ],
           "z": [
            -0.012400000356137753,
            -0.20730000734329224
           ]
          },
          {
           "line": {
            "color": "black",
            "width": 2
           },
           "mode": "lines",
           "showlegend": false,
           "type": "scatter3d",
           "x": [
            -0.04529999941587448,
            -0.11640000343322754
           ],
           "y": [
            0.9214000105857849,
            0.7821999788284302
           ],
           "z": [
            -0.20730000734329224,
            -0.3912999927997589
           ]
          }
         ],
         "name": "30"
        },
        {
         "data": [
          {
           "marker": {
            "color": "blue",
            "size": 4
           },
           "mode": "markers+text",
           "name": "Landmarks",
           "text": [
            "0",
            "1",
            "2",
            "3",
            "4",
            "5",
            "6",
            "7",
            "8",
            "9",
            "10",
            "11",
            "12",
            "13",
            "14",
            "15",
            "16",
            "17",
            "18",
            "19"
           ],
           "textfont": {
            "color": "black",
            "size": 8
           },
           "textposition": "top center",
           "type": "scatter3d",
           "x": {
            "bdata": "AAAAAECX9jvx5jU+iPkzPmwJ+bomdzA9VYWdPpIpBD9vEgO7y0hrPiTKAz9pmis/fow5veCJlT2NY8U+rkcRPyBj7r1szyi+4IjePXCTtT0=",
            "dtype": "f4"
           },
           "y": {
            "bdata": "AAAAAP/j9T5k0ks/KOB/PwskeD+mrLI/ble2PwIMtj9kO38/WHy+P87/wj/J17k/3+BrP/TKuj8cjsc/xSK5P0I+SD8m4Zk/ur2PP9pBaj8=",
            "dtype": "f4"
           },
           "z": {
            "bdata": "AAAAAPrzzT4ykJM++EflPUOtaT5e1rQ+fGqOPq7rVz5fKUu81qXuPbRYMr1RFzq+dEZUvvU6Hr7J4VW+a/aHvnlYyL4+BQm/k6EMvxpE8b4=",
            "dtype": "f4"
           }
          },
          {
           "line": {
            "color": "black",
            "width": 2
           },
           "mode": "lines",
           "showlegend": false,
           "type": "scatter3d",
           "x": [
            0,
            0.007525354623794556
           ],
           "y": [
            0,
            0.4802550971508026
           ],
           "z": [
            0,
            0.4022520184516907
           ]
          },
          {
           "line": {
            "color": "black",
            "width": 2
           },
           "mode": "lines",
           "showlegend": false,
           "type": "scatter3d",
           "x": [
            0.007525354623794556,
            0.17763878405094147
           ],
           "y": [
            0.4802550971508026,
            0.7961790561676025
           ],
           "z": [
            0.4022520184516907,
            0.2882094979286194
           ]
          },
          {
           "line": {
            "color": "black",
            "width": 2
           },
           "mode": "lines",
           "showlegend": false,
           "type": "scatter3d",
           "x": [
            0.17763878405094147,
            0.175756573677063
           ],
           "y": [
            0.7961790561676025,
            0.999514102935791
           ],
           "z": [
            0.2882094979286194,
            0.11195367574691772
           ]
          },
          {
           "line": {
            "color": "black",
            "width": 2
           },
           "mode": "lines",
           "showlegend": false,
           "type": "scatter3d",
           "x": [
            0,
            -0.0019000000320374966
           ],
           "y": [
            0,
            0.9692999720573425
           ],
           "z": [
            0,
            0.2282000035047531
           ]
          },
          {
           "line": {
            "color": "black",
            "width": 2
           },
           "mode": "lines",
           "showlegend": false,
           "type": "scatter3d",
           "x": [
            -0.0019000000320374966,
            0.043082378804683685
           ],
           "y": [
            0.9692999720573425,
            1.3958938121795654
           ],
           "z": [
            0.2282000035047531,
            0.35319799184799194
           ]
          },
          {
           "line": {
            "color": "black",
            "width": 2
           },
           "mode": "lines",
           "showlegend": false,
           "type": "scatter3d",
           "x": [
            0.043082378804683685,
            0.3076578676700592
           ],
           "y": [
            1.3958938121795654,
            1.4245431423187256
           ],
           "z": [
            0.35319799184799194,
            0.2781561613082886
           ]
          },
          {
           "line": {
            "color": "black",
            "width": 2
           },
           "mode": "lines",
           "showlegend": false,
           "type": "scatter3d",
           "x": [
            0.3076578676700592,
            0.5162593126296997
           ],
           "y": [
            1.4245431423187256,
            1.422241449356079
           ],
           "z": [
            0.2781561613082886,
            0.2108599841594696
           ]
          },
          {
           "line": {
            "color": "black",
            "width": 2
           },
           "mode": "lines",
           "showlegend": false,
           "type": "scatter3d",
           "x": [
            0,
            -0.0020000000949949026
           ],
           "y": [
            0,
            0.996999979019165
           ],
           "z": [
            0,
            -0.012400000356137753
           ]
          },
          {
           "line": {
            "color": "black",
            "width": 2
           },
           "mode": "lines",
           "showlegend": false,
           "type": "scatter3d",
           "x": [
            -0.0020000000949949026,
            0.22976987063884735
           ],
           "y": [
            0.996999979019165,
            1.4881696701049805
           ],
           "z": [
            -0.012400000356137753,
            0.1165272444486618
           ]
          },
          {
           "line": {
            "color": "black",
            "width": 2
           },
           "mode": "lines",
           "showlegend": false,
           "type": "scatter3d",
           "x": [
            0.22976987063884735,
            0.5148031711578369
           ],
           "y": [
            1.4881696701049805,
            1.5234315395355225
           ],
           "z": [
            0.1165272444486618,
            -0.04354162514209747
           ]
          },
          {
           "line": {
            "color": "black",
            "width": 2
           },
           "mode": "lines",
           "showlegend": false,
           "type": "scatter3d",
           "x": [
            0.5148031711578369,
            0.6703248620033264
           ],
           "y": [
            1.5234315395355225,
            1.4518977403640747
           ],
           "z": [
            -0.04354162514209747,
            -0.18172957003116608
           ]
          },
          {
           "line": {
            "color": "black",
            "width": 2
           },
           "mode": "lines",
           "showlegend": false,
           "type": "scatter3d",
           "x": [
            0,
            -0.04529999941587448
           ],
           "y": [
            0,
            0.9214000105857849
           ],
           "z": [
            0,
            -0.20730000734329224
           ]
          },
          {
           "line": {
            "color": "black",
            "width": 2
           },
           "mode": "lines",
           "showlegend": false,
           "type": "scatter3d",
           "x": [
            -0.04529999941587448,
            0.07301688194274902
           ],
           "y": [
            0.9214000105857849,
            1.4593186378479004
           ],
           "z": [
            -0.20730000734329224,
            -0.15452177822589874
           ]
          },
          {
           "line": {
            "color": "black",
            "width": 2
           },
           "mode": "lines",
           "showlegend": false,
           "type": "scatter3d",
           "x": [
            0.07301688194274902,
            0.3855251371860504
           ],
           "y": [
            1.4593186378479004,
            1.5590243339538574
           ],
           "z": [
            -0.15452177822589874,
            -0.2088691145181656
           ]
          },
          {
           "line": {
            "color": "black",
            "width": 2
           },
           "mode": "lines",
           "showlegend": false,
           "type": "scatter3d",
           "x": [
            0.3855251371860504,
            0.5674999952316284
           ],
           "y": [
            1.5590243339538574,
            1.4463735818862915
           ],
           "z": [
            -0.2088691145181656,
            -0.265551894903183
           ]
          },
          {
           "line": {
            "color": "black",
            "width": 2
           },
           "mode": "lines",
           "showlegend": false,
           "type": "scatter3d",
           "x": [
            0,
            -0.11640000343322754
           ],
           "y": [
            0,
            0.7821999788284302
           ],
           "z": [
            0,
            -0.3912999927997589
           ]
          },
          {
           "line": {
            "color": "black",
            "width": 2
           },
           "mode": "lines",
           "showlegend": false,
           "type": "scatter3d",
           "x": [
            -0.11640000343322754,
            -0.1648537516593933
           ],
           "y": [
            0.7821999788284302,
            1.202183485031128
           ],
           "z": [
            -0.3912999927997589,
            -0.5352362394332886
           ]
          },
          {
           "line": {
            "color": "black",
            "width": 2
           },
           "mode": "lines",
           "showlegend": false,
           "type": "scatter3d",
           "x": [
            -0.1648537516593933,
            0.10865950584411621
           ],
           "y": [
            1.202183485031128,
            1.1229774951934814
           ],
           "z": [
            -0.5352362394332886,
            -0.5493404269218445
           ]
          },
          {
           "line": {
            "color": "black",
            "width": 2
           },
           "mode": "lines",
           "showlegend": false,
           "type": "scatter3d",
           "x": [
            0.10865950584411621,
            0.08866012096405029
           ],
           "y": [
            1.1229774951934814,
            0.9150673151016235
           ],
           "z": [
            -0.5493404269218445,
            -0.4712226986885071
           ]
          },
          {
           "line": {
            "color": "black",
            "width": 2
           },
           "mode": "lines",
           "showlegend": false,
           "type": "scatter3d",
           "x": [
            0.007525354623794556,
            -0.0019000000320374966
           ],
           "y": [
            0.4802550971508026,
            0.9692999720573425
           ],
           "z": [
            0.4022520184516907,
            0.2282000035047531
           ]
          },
          {
           "line": {
            "color": "black",
            "width": 2
           },
           "mode": "lines",
           "showlegend": false,
           "type": "scatter3d",
           "x": [
            -0.0019000000320374966,
            -0.0020000000949949026
           ],
           "y": [
            0.9692999720573425,
            0.996999979019165
           ],
           "z": [
            0.2282000035047531,
            -0.012400000356137753
           ]
          },
          {
           "line": {
            "color": "black",
            "width": 2
           },
           "mode": "lines",
           "showlegend": false,
           "type": "scatter3d",
           "x": [
            -0.0020000000949949026,
            -0.04529999941587448
           ],
           "y": [
            0.996999979019165,
            0.9214000105857849
           ],
           "z": [
            -0.012400000356137753,
            -0.20730000734329224
           ]
          },
          {
           "line": {
            "color": "black",
            "width": 2
           },
           "mode": "lines",
           "showlegend": false,
           "type": "scatter3d",
           "x": [
            -0.04529999941587448,
            -0.11640000343322754
           ],
           "y": [
            0.9214000105857849,
            0.7821999788284302
           ],
           "z": [
            -0.20730000734329224,
            -0.3912999927997589
           ]
          }
         ],
         "name": "31"
        },
        {
         "data": [
          {
           "marker": {
            "color": "blue",
            "size": 4
           },
           "mode": "markers+text",
           "name": "Landmarks",
           "text": [
            "0",
            "1",
            "2",
            "3",
            "4",
            "5",
            "6",
            "7",
            "8",
            "9",
            "10",
            "11",
            "12",
            "13",
            "14",
            "15",
            "16",
            "17",
            "18",
            "19"
           ],
           "textfont": {
            "color": "black",
            "size": 8
           },
           "textposition": "top center",
           "type": "scatter3d",
           "x": {
            "bdata": "AAAAAMBqMDxadio+UqYNPmwJ+bqioao8w96TPhksAD9vEgO7b85pPqSEAz9qfCs/fow5vWDBlz2RB8Y+GoERPyBj7r1MZ2y+6CdTPQwqgD0=",
            "dtype": "f4"
           },
           "y": {
            "bdata": "AAAAAPd/9j5QzUo/+l96PwskeD9zL7Q/Jr62P9P4tT9kO38/gJq+PyoRwz/H5Lk/3+BrP6nBuj+acMc/tPW4P0I+SD9aIZY/AFuRPzKebz8=",
            "dtype": "f4"
           },
           "z": {
            "bdata": "AAAAABgXwz5y/HE+5BszPUOtaT6qbp8+FzB8PljvQj5fKUu8gsDsPbCwM72DqDm+dEZUvuPEHb6plFW+gPGHvnlYyL6hLBO/Fh8Wv6qf+b4=",
            "dtype": "f4"
           }
          },
          {
           "line": {
            "color": "black",
            "width": 2
           },
           "mode": "lines",
           "showlegend": false,
           "type": "scatter3d",
           "x": [
            0,
            0.010767638683319092
           ],
           "y": [
            0,
            0.4814450442790985
           ],
           "z": [
            0,
            0.38103556632995605
           ]
          },
          {
           "line": {
            "color": "black",
            "width": 2
           },
           "mode": "lines",
           "showlegend": false,
           "type": "scatter3d",
           "x": [
            0.010767638683319092,
            0.1664671003818512
           ],
           "y": [
            0.4814450442790985,
            0.7921953201293945
           ],
           "z": [
            0.38103556632995605,
            0.2363145649433136
           ]
          },
          {
           "line": {
            "color": "black",
            "width": 2
           },
           "mode": "lines",
           "showlegend": false,
           "type": "scatter3d",
           "x": [
            0.1664671003818512,
            0.13832977414131165
           ],
           "y": [
            0.7921953201293945,
            0.9780269861221313
           ],
           "z": [
            0.2363145649433136,
            0.04372777044773102
           ]
          },
          {
           "line": {
            "color": "black",
            "width": 2
           },
           "mode": "lines",
           "showlegend": false,
           "type": "scatter3d",
           "x": [
            0,
            -0.0019000000320374966
           ],
           "y": [
            0,
            0.9692999720573425
           ],
           "z": [
            0,
            0.2282000035047531
           ]
          },
          {
           "line": {
            "color": "black",
            "width": 2
           },
           "mode": "lines",
           "showlegend": false,
           "type": "scatter3d",
           "x": [
            -0.0019000000320374966,
            0.02082902565598488
           ],
           "y": [
            0.9692999720573425,
            1.4076980352401733
           ],
           "z": [
            0.2282000035047531,
            0.3113911747932434
           ]
          },
          {
           "line": {
            "color": "black",
            "width": 2
           },
           "mode": "lines",
           "showlegend": false,
           "type": "scatter3d",
           "x": [
            0.02082902565598488,
            0.2888089120388031
           ],
           "y": [
            1.4076980352401733,
            1.427677869796753
           ],
           "z": [
            0.3113911747932434,
            0.24627719819545746
           ]
          },
          {
           "line": {
            "color": "black",
            "width": 2
           },
           "mode": "lines",
           "showlegend": false,
           "type": "scatter3d",
           "x": [
            0.2888089120388031,
            0.5006728768348694
           ],
           "y": [
            1.427677869796753,
            1.4216560125350952
           ],
           "z": [
            0.24627719819545746,
            0.19036614894866943
           ]
          },
          {
           "line": {
            "color": "black",
            "width": 2
           },
           "mode": "lines",
           "showlegend": false,
           "type": "scatter3d",
           "x": [
            0,
            -0.0020000000949949026
           ],
           "y": [
            0,
            0.996999979019165
           ],
           "z": [
            0,
            -0.012400000356137753
           ]
          },
          {
           "line": {
            "color": "black",
            "width": 2
           },
           "mode": "lines",
           "showlegend": false,
           "type": "scatter3d",
           "x": [
            -0.0020000000949949026,
            0.22832654416561127
           ],
           "y": [
            0.996999979019165,
            1.4890899658203125
           ],
           "z": [
            -0.012400000356137753,
            0.1156015545129776
           ]
          },
          {
           "line": {
            "color": "black",
            "width": 2
           },
           "mode": "lines",
           "showlegend": false,
           "type": "scatter3d",
           "x": [
            0.22832654416561127,
            0.5137426853179932
           ],
           "y": [
            1.4890899658203125,
            1.5239613056182861
           ],
           "z": [
            0.1156015545129776,
            -0.04386967420578003
           ]
          },
          {
           "line": {
            "color": "black",
            "width": 2
           },
           "mode": "lines",
           "showlegend": false,
           "type": "scatter3d",
           "x": [
            0.5137426853179932,
            0.6698671579360962
           ],
           "y": [
            1.5239613056182861,
            1.4522942304611206
           ],
           "z": [
            -0.04386967420578003,
            -0.1813068836927414
           ]
          },
          {
           "line": {
            "color": "black",
            "width": 2
           },
           "mode": "lines",
           "showlegend": false,
           "type": "scatter3d",
           "x": [
            0,
            -0.04529999941587448
           ],
           "y": [
            0,
            0.9214000105857849
           ],
           "z": [
            0,
            -0.20730000734329224
           ]
          },
          {
           "line": {
            "color": "black",
            "width": 2
           },
           "mode": "lines",
           "showlegend": false,
           "type": "scatter3d",
           "x": [
            -0.04529999941587448,
            0.07409930229187012
           ],
           "y": [
            0.9214000105857849,
            1.459035038948059
           ],
           "z": [
            -0.20730000734329224,
            -0.1540713757276535
           ]
          },
          {
           "line": {
            "color": "black",
            "width": 2
           },
           "mode": "lines",
           "showlegend": false,
           "type": "scatter3d",
           "x": [
            0.07409930229187012,
            0.38677647709846497
           ],
           "y": [
            1.459035038948059,
            1.5581238269805908
           ],
           "z": [
            -0.1540713757276535,
            -0.20857490599155426
           ]
          },
          {
           "line": {
            "color": "black",
            "width": 2
           },
           "mode": "lines",
           "showlegend": false,
           "type": "scatter3d",
           "x": [
            0.38677647709846497,
            0.5683761835098267
           ],
           "y": [
            1.5581238269805908,
            1.4449982643127441
           ],
           "z": [
            -0.20857490599155426,
            -0.2655143737792969
           ]
          },
          {
           "line": {
            "color": "black",
            "width": 2
           },
           "mode": "lines",
           "showlegend": false,
           "type": "scatter3d",
           "x": [
            0,
            -0.11640000343322754
           ],
           "y": [
            0,
            0.7821999788284302
           ],
           "z": [
            0,
            -0.3912999927997589
           ]
          },
          {
           "line": {
            "color": "black",
            "width": 2
           },
           "mode": "lines",
           "showlegend": false,
           "type": "scatter3d",
           "x": [
            -0.11640000343322754,
            -0.2308627963066101
           ],
           "y": [
            0.7821999788284302,
            1.1728928089141846
           ],
           "z": [
            -0.3912999927997589,
            -0.5748997330665588
           ]
          },
          {
           "line": {
            "color": "black",
            "width": 2
           },
           "mode": "lines",
           "showlegend": false,
           "type": "scatter3d",
           "x": [
            -0.2308627963066101,
            0.05155172944068909
           ],
           "y": [
            1.1728928089141846,
            1.135589599609375
           ],
           "z": [
            -0.5748997330665588,
            -0.5864118337631226
           ]
          },
          {
           "line": {
            "color": "black",
            "width": 2
           },
           "mode": "lines",
           "showlegend": false,
           "type": "scatter3d",
           "x": [
            0.05155172944068909,
            0.06258019804954529
           ],
           "y": [
            1.135589599609375,
            0.9360076189041138
           ],
           "z": [
            -0.5864118337631226,
            -0.48754626512527466
           ]
          },
          {
           "line": {
            "color": "black",
            "width": 2
           },
           "mode": "lines",
           "showlegend": false,
           "type": "scatter3d",
           "x": [
            0.010767638683319092,
            -0.0019000000320374966
           ],
           "y": [
            0.4814450442790985,
            0.9692999720573425
           ],
           "z": [
            0.38103556632995605,
            0.2282000035047531
           ]
          },
          {
           "line": {
            "color": "black",
            "width": 2
           },
           "mode": "lines",
           "showlegend": false,
           "type": "scatter3d",
           "x": [
            -0.0019000000320374966,
            -0.0020000000949949026
           ],
           "y": [
            0.9692999720573425,
            0.996999979019165
           ],
           "z": [
            0.2282000035047531,
            -0.012400000356137753
           ]
          },
          {
           "line": {
            "color": "black",
            "width": 2
           },
           "mode": "lines",
           "showlegend": false,
           "type": "scatter3d",
           "x": [
            -0.0020000000949949026,
            -0.04529999941587448
           ],
           "y": [
            0.996999979019165,
            0.9214000105857849
           ],
           "z": [
            -0.012400000356137753,
            -0.20730000734329224
           ]
          },
          {
           "line": {
            "color": "black",
            "width": 2
           },
           "mode": "lines",
           "showlegend": false,
           "type": "scatter3d",
           "x": [
            -0.04529999941587448,
            -0.11640000343322754
           ],
           "y": [
            0.9214000105857849,
            0.7821999788284302
           ],
           "z": [
            -0.20730000734329224,
            -0.3912999927997589
           ]
          }
         ],
         "name": "32"
        },
        {
         "data": [
          {
           "marker": {
            "color": "blue",
            "size": 4
           },
           "mode": "markers+text",
           "name": "Landmarks",
           "text": [
            "0",
            "1",
            "2",
            "3",
            "4",
            "5",
            "6",
            "7",
            "8",
            "9",
            "10",
            "11",
            "12",
            "13",
            "14",
            "15",
            "16",
            "17",
            "18",
            "19"
           ],
           "textfont": {
            "color": "black",
            "size": 8
           },
           "textposition": "top center",
           "type": "scatter3d",
           "x": {
            "bdata": "AAAAACCdWTyMMig+cVvqPWwJ+bqIIr48MDqVPoTeAD9vEgO7UX5pPll2Az+7eCs/fow5vdVvmD1YP8Y++pYRPyBj7r38en++0HEMPXKvYj0=",
            "dtype": "f4"
           },
           "y": {
            "bdata": "AAAAADCx9T6FcEk/q051PwskeD+fQbQ/KT+2P/JCtT9kO38/Kp++P8sewz/t9rk/3+BrP8y9uj9zYcc/xuS4P0I+SD9ekpQ/smuRP9/VcD8=",
            "dtype": "f4"
           },
           "z": {
            "bdata": "AAAAACdvvj576Vs+YJRaPEOtaT7jip0+A094PgKMPz5fKUu8tsHsPezKMr2tUTm+dEZUvipRHb5AOVW++NuHvnlYyL4iYRa/xnQZv9Dl/L4=",
            "dtype": "f4"
           }
          },
          {
           "line": {
            "color": "black",
            "width": 2
           },
           "mode": "lines",
           "showlegend": false,
           "type": "scatter3d",
           "x": [
            0,
            0.013282090425491333
           ],
           "y": [
            0,
            0.47986745834350586
           ],
           "z": [
            0,
            0.37194177508354187
           ]
          },
          {
           "line": {
            "color": "black",
            "width": 2
           },
           "mode": "lines",
           "showlegend": false,
           "type": "scatter3d",
           "x": [
            0.013282090425491333,
            0.1642553210258484
           ],
           "y": [
            0.47986745834350586,
            0.7868731617927551
           ],
           "z": [
            0.37194177508354187,
            0.21475784480571747
           ]
          },
          {
           "line": {
            "color": "black",
            "width": 2
           },
           "mode": "lines",
           "showlegend": false,
           "type": "scatter3d",
           "x": [
            0.1642553210258484,
            0.11443222314119339
           ],
           "y": [
            0.7868731617927551,
            0.9582316279411316
           ],
           "z": [
            0.21475784480571747,
            0.013341039419174194
           ]
          },
          {
           "line": {
            "color": "black",
            "width": 2
           },
           "mode": "lines",
           "showlegend": false,
           "type": "scatter3d",
           "x": [
            0,
            -0.0019000000320374966
           ],
           "y": [
            0,
            0.9692999720573425
           ],
           "z": [
            0,
            0.2282000035047531
           ]
          },
          {
           "line": {
            "color": "black",
            "width": 2
           },
           "mode": "lines",
           "showlegend": false,
           "type": "scatter3d",
           "x": [
            -0.0019000000320374966,
            0.0232098251581192
           ],
           "y": [
            0.9692999720573425,
            1.4082525968551636
           ],
           "z": [
            0.2282000035047531,
            0.3077002465724945
           ]
          },
          {
           "line": {
            "color": "black",
            "width": 2
           },
           "mode": "lines",
           "showlegend": false,
           "type": "scatter3d",
           "x": [
            0.0232098251581192,
            0.2914595603942871
           ],
           "y": [
            1.4082525968551636,
            1.4238024950027466
           ],
           "z": [
            0.3077002465724945,
            0.24248890578746796
           ]
          },
          {
           "line": {
            "color": "black",
            "width": 2
           },
           "mode": "lines",
           "showlegend": false,
           "type": "scatter3d",
           "x": [
            0.2914595603942871,
            0.5033953189849854
           ],
           "y": [
            1.4238024950027466,
            1.4161055088043213
           ],
           "z": [
            0.24248890578746796,
            0.1870575249195099
           ]
          },
          {
           "line": {
            "color": "black",
            "width": 2
           },
           "mode": "lines",
           "showlegend": false,
           "type": "scatter3d",
           "x": [
            0,
            -0.0020000000949949026
           ],
           "y": [
            0,
            0.996999979019165
           ],
           "z": [
            0,
            -0.012400000356137753
           ]
          },
          {
           "line": {
            "color": "black",
            "width": 2
           },
           "mode": "lines",
           "showlegend": false,
           "type": "scatter3d",
           "x": [
            -0.0020000000949949026,
            0.22802092134952545
           ],
           "y": [
            0.996999979019165,
            1.4892323017120361
           ],
           "z": [
            -0.012400000356137753,
            0.11560384929180145
           ]
          },
          {
           "line": {
            "color": "black",
            "width": 2
           },
           "mode": "lines",
           "showlegend": false,
           "type": "scatter3d",
           "x": [
            0.22802092134952545,
            0.51352459192276
           ],
           "y": [
            1.4892323017120361,
            1.5243772268295288
           ],
           "z": [
            0.11560384929180145,
            -0.0436505526304245
           ]
          },
          {
           "line": {
            "color": "black",
            "width": 2
           },
           "mode": "lines",
           "showlegend": false,
           "type": "scatter3d",
           "x": [
            0.51352459192276,
            0.669810950756073
           ],
           "y": [
            1.5243772268295288,
            1.4528480768203735
           ],
           "z": [
            -0.0436505526304245,
            -0.18097563087940216
           ]
          },
          {
           "line": {
            "color": "black",
            "width": 2
           },
           "mode": "lines",
           "showlegend": false,
           "type": "scatter3d",
           "x": [
            0,
            -0.04529999941587448
           ],
           "y": [
            0,
            0.9214000105857849
           ],
           "z": [
            0,
            -0.20730000734329224
           ]
          },
          {
           "line": {
            "color": "black",
            "width": 2
           },
           "mode": "lines",
           "showlegend": false,
           "type": "scatter3d",
           "x": [
            -0.04529999941587448,
            0.07443205267190933
           ],
           "y": [
            0.9214000105857849,
            1.4589171409606934
           ],
           "z": [
            -0.20730000734329224,
            -0.15362992882728577
           ]
          },
          {
           "line": {
            "color": "black",
            "width": 2
           },
           "mode": "lines",
           "showlegend": false,
           "type": "scatter3d",
           "x": [
            0.07443205267190933,
            0.38720202445983887
           ],
           "y": [
            1.4589171409606934,
            1.5576614141464233
           ],
           "z": [
            -0.15362992882728577,
            -0.20822620391845703
           ]
          },
          {
           "line": {
            "color": "black",
            "width": 2
           },
           "mode": "lines",
           "showlegend": false,
           "type": "scatter3d",
           "x": [
            0.38720202445983887,
            0.5687099695205688
           ],
           "y": [
            1.5576614141464233,
            1.444481611251831
           ],
           "z": [
            -0.20822620391845703,
            -0.2653501033782959
           ]
          },
          {
           "line": {
            "color": "black",
            "width": 2
           },
           "mode": "lines",
           "showlegend": false,
           "type": "scatter3d",
           "x": [
            0,
            -0.11640000343322754
           ],
           "y": [
            0,
            0.7821999788284302
           ],
           "z": [
            0,
            -0.3912999927997589
           ]
          },
          {
           "line": {
            "color": "black",
            "width": 2
           },
           "mode": "lines",
           "showlegend": false,
           "type": "scatter3d",
           "x": [
            -0.11640000343322754,
            -0.2494925856590271
           ],
           "y": [
            0.7821999788284302,
            1.1607167720794678
           ],
           "z": [
            -0.3912999927997589,
            -0.5874196290969849
           ]
          },
          {
           "line": {
            "color": "black",
            "width": 2
           },
           "mode": "lines",
           "showlegend": false,
           "type": "scatter3d",
           "x": [
            -0.2494925856590271,
            0.034288227558135986
           ],
           "y": [
            1.1607167720794678,
            1.136099100112915
           ],
           "z": [
            -0.5874196290969849,
            -0.5994380712509155
           ]
          },
          {
           "line": {
            "color": "black",
            "width": 2
           },
           "mode": "lines",
           "showlegend": false,
           "type": "scatter3d",
           "x": [
            0.034288227558135986,
            0.05534309893846512
           ],
           "y": [
            1.136099100112915,
            0.9407634139060974
           ],
           "z": [
            -0.5994380712509155,
            -0.4939408302307129
           ]
          },
          {
           "line": {
            "color": "black",
            "width": 2
           },
           "mode": "lines",
           "showlegend": false,
           "type": "scatter3d",
           "x": [
            0.013282090425491333,
            -0.0019000000320374966
           ],
           "y": [
            0.47986745834350586,
            0.9692999720573425
           ],
           "z": [
            0.37194177508354187,
            0.2282000035047531
           ]
          },
          {
           "line": {
            "color": "black",
            "width": 2
           },
           "mode": "lines",
           "showlegend": false,
           "type": "scatter3d",
           "x": [
            -0.0019000000320374966,
            -0.0020000000949949026
           ],
           "y": [
            0.9692999720573425,
            0.996999979019165
           ],
           "z": [
            0.2282000035047531,
            -0.012400000356137753
           ]
          },
          {
           "line": {
            "color": "black",
            "width": 2
           },
           "mode": "lines",
           "showlegend": false,
           "type": "scatter3d",
           "x": [
            -0.0020000000949949026,
            -0.04529999941587448
           ],
           "y": [
            0.996999979019165,
            0.9214000105857849
           ],
           "z": [
            -0.012400000356137753,
            -0.20730000734329224
           ]
          },
          {
           "line": {
            "color": "black",
            "width": 2
           },
           "mode": "lines",
           "showlegend": false,
           "type": "scatter3d",
           "x": [
            -0.04529999941587448,
            -0.11640000343322754
           ],
           "y": [
            0.9214000105857849,
            0.7821999788284302
           ],
           "z": [
            -0.20730000734329224,
            -0.3912999927997589
           ]
          }
         ],
         "name": "33"
        },
        {
         "data": [
          {
           "marker": {
            "color": "blue",
            "size": 4
           },
           "mode": "markers+text",
           "name": "Landmarks",
           "text": [
            "0",
            "1",
            "2",
            "3",
            "4",
            "5",
            "6",
            "7",
            "8",
            "9",
            "10",
            "11",
            "12",
            "13",
            "14",
            "15",
            "16",
            "17",
            "18",
            "19"
           ],
           "textfont": {
            "color": "black",
            "size": 8
           },
           "textposition": "top center",
           "type": "scatter3d",
           "x": {
            "bdata": "AAAAAMB1cDytCSI+YcKzPWwJ+brfDLs89emUPv6oAD9vEgO71t5qPjmVAz/yUSs/fow5vSaWlj2mM8Y+tY0RPyBj7r0g7Yq+IMBSPFp5OT0=",
            "dtype": "f4"
           },
           "y": {
            "bdata": "AAAAAH1a9T7AfEg/saJwPwskeD9wLLQ/e0K2P5xStT9kO38/5GO+P6Qowz8fKro/3+BrP5q5uj/h+MY/tYq4P0I+SD+o3pM/xV2SP8nkcj8=",
            "dtype": "f4"
           },
           "z": {
            "bdata": "AAAAAFw/uj4d2EY+sCxSvEOtaT5EY58+5TJ7PiOXQT5fKUu8Atv1PVwFJb3Uwze+dEZUvuQLGr7iv1K+jCaHvnlYyL4f8RS/z+EZvwid/r4=",
            "dtype": "f4"
           }
          },
          {
           "line": {
            "color": "black",
            "width": 2
           },
           "mode": "lines",
           "showlegend": false,
           "type": "scatter3d",
           "x": [
            0,
            0.014676511287689209
           ],
           "y": [
            0,
            0.47920599579811096
           ],
           "z": [
            0,
            0.3637646436691284
           ]
          },
          {
           "line": {
            "color": "black",
            "width": 2
           },
           "mode": "lines",
           "showlegend": false,
           "type": "scatter3d",
           "x": [
            0.014676511287689209,
            0.15824003517627716
           ],
           "y": [
            0.47920599579811096,
            0.7831535339355469
           ],
           "z": [
            0.3637646436691284,
            0.19418378174304962
           ]
          },
          {
           "line": {
            "color": "black",
            "width": 2
           },
           "mode": "lines",
           "showlegend": false,
           "type": "scatter3d",
           "x": [
            0.15824003517627716,
            0.08777309209108353
           ],
           "y": [
            0.7831535339355469,
            0.9399824738502502
           ],
           "z": [
            0.19418378174304962,
            -0.012828037142753601
           ]
          },
          {
           "line": {
            "color": "black",
            "width": 2
           },
           "mode": "lines",
           "showlegend": false,
           "type": "scatter3d",
           "x": [
            0,
            -0.0019000000320374966
           ],
           "y": [
            0,
            0.9692999720573425
           ],
           "z": [
            0,
            0.2282000035047531
           ]
          },
          {
           "line": {
            "color": "black",
            "width": 2
           },
           "mode": "lines",
           "showlegend": false,
           "type": "scatter3d",
           "x": [
            -0.0019000000320374966,
            0.022833285853266716
           ],
           "y": [
            0.9692999720573425,
            1.4076061248779297
           ],
           "z": [
            0.2282000035047531,
            0.3113042116165161
           ]
          },
          {
           "line": {
            "color": "black",
            "width": 2
           },
           "mode": "lines",
           "showlegend": false,
           "type": "scatter3d",
           "x": [
            0.022833285853266716,
            0.29084745049476624
           ],
           "y": [
            1.4076061248779297,
            1.4239038228988647
           ],
           "z": [
            0.3113042116165161,
            0.24531133472919464
           ]
          },
          {
           "line": {
            "color": "black",
            "width": 2
           },
           "mode": "lines",
           "showlegend": false,
           "type": "scatter3d",
           "x": [
            0.29084745049476624,
            0.502578616142273
           ],
           "y": [
            1.4239038228988647,
            1.41658353805542
           ],
           "z": [
            0.24531133472919464,
            0.18905310332775116
           ]
          },
          {
           "line": {
            "color": "black",
            "width": 2
           },
           "mode": "lines",
           "showlegend": false,
           "type": "scatter3d",
           "x": [
            0,
            -0.0020000000949949026
           ],
           "y": [
            0,
            0.996999979019165
           ],
           "z": [
            0,
            -0.012400000356137753
           ]
          },
          {
           "line": {
            "color": "black",
            "width": 2
           },
           "mode": "lines",
           "showlegend": false,
           "type": "scatter3d",
           "x": [
            -0.0020000000949949026,
            0.22936567664146423
           ],
           "y": [
            0.996999979019165,
            1.4874234199523926
           ],
           "z": [
            -0.012400000356137753,
            0.12004663050174713
           ]
          },
          {
           "line": {
            "color": "black",
            "width": 2
           },
           "mode": "lines",
           "showlegend": false,
           "type": "scatter3d",
           "x": [
            0.22936567664146423,
            0.5139957070350647
           ],
           "y": [
            1.4874234199523926,
            1.5246777534484863
           ],
           "z": [
            0.12004663050174713,
            -0.04028831422328949
           ]
          },
          {
           "line": {
            "color": "black",
            "width": 2
           },
           "mode": "lines",
           "showlegend": false,
           "type": "scatter3d",
           "x": [
            0.5139957070350647,
            0.6692191362380981
           ],
           "y": [
            1.5246777534484863,
            1.454410433769226
           ],
           "z": [
            -0.04028831422328949,
            -0.17945796251296997
           ]
          },
          {
           "line": {
            "color": "black",
            "width": 2
           },
           "mode": "lines",
           "showlegend": false,
           "type": "scatter3d",
           "x": [
            0,
            -0.04529999941587448
           ],
           "y": [
            0,
            0.9214000105857849
           ],
           "z": [
            0,
            -0.20730000734329224
           ]
          },
          {
           "line": {
            "color": "black",
            "width": 2
           },
           "mode": "lines",
           "showlegend": false,
           "type": "scatter3d",
           "x": [
            -0.04529999941587448,
            0.07352857291698456
           ],
           "y": [
            0.9214000105857849,
            1.4587891101837158
           ],
           "z": [
            -0.20730000734329224,
            -0.15043598413467407
           ]
          },
          {
           "line": {
            "color": "black",
            "width": 2
           },
           "mode": "lines",
           "showlegend": false,
           "type": "scatter3d",
           "x": [
            0.07352857291698456,
            0.3871127963066101
           ],
           "y": [
            1.4587891101837158,
            1.554470181465149
           ],
           "z": [
            -0.15043598413467407,
            -0.20581009984016418
           ]
          },
          {
           "line": {
            "color": "black",
            "width": 2
           },
           "mode": "lines",
           "showlegend": false,
           "type": "scatter3d",
           "x": [
            0.3871127963066101,
            0.5685685276985168
           ],
           "y": [
            1.554470181465149,
            1.4417330026626587
           ],
           "z": [
            -0.20581009984016418,
            -0.2639659643173218
           ]
          },
          {
           "line": {
            "color": "black",
            "width": 2
           },
           "mode": "lines",
           "showlegend": false,
           "type": "scatter3d",
           "x": [
            0,
            -0.11640000343322754
           ],
           "y": [
            0,
            0.7821999788284302
           ],
           "z": [
            0,
            -0.3912999927997589
           ]
          },
          {
           "line": {
            "color": "black",
            "width": 2
           },
           "mode": "lines",
           "showlegend": false,
           "type": "scatter3d",
           "x": [
            -0.11640000343322754,
            -0.27134037017822266
           ],
           "y": [
            0.7821999788284302,
            1.1552324295043945
           ],
           "z": [
            -0.3912999927997589,
            -0.5818042159080505
           ]
          },
          {
           "line": {
            "color": "black",
            "width": 2
           },
           "mode": "lines",
           "showlegend": false,
           "type": "scatter3d",
           "x": [
            -0.27134037017822266,
            0.012863188982009888
           ],
           "y": [
            1.1552324295043945,
            1.1434866189956665
           ],
           "z": [
            -0.5818042159080505,
            -0.601101815700531
           ]
          },
          {
           "line": {
            "color": "black",
            "width": 2
           },
           "mode": "lines",
           "showlegend": false,
           "type": "scatter3d",
           "x": [
            0.012863188982009888,
            0.04528174549341202
           ],
           "y": [
            1.1434866189956665,
            0.9488034844398499
           ],
           "z": [
            -0.601101815700531,
            -0.49729180335998535
           ]
          },
          {
           "line": {
            "color": "black",
            "width": 2
           },
           "mode": "lines",
           "showlegend": false,
           "type": "scatter3d",
           "x": [
            0.014676511287689209,
            -0.0019000000320374966
           ],
           "y": [
            0.47920599579811096,
            0.9692999720573425
           ],
           "z": [
            0.3637646436691284,
            0.2282000035047531
           ]
          },
          {
           "line": {
            "color": "black",
            "width": 2
           },
           "mode": "lines",
           "showlegend": false,
           "type": "scatter3d",
           "x": [
            -0.0019000000320374966,
            -0.0020000000949949026
           ],
           "y": [
            0.9692999720573425,
            0.996999979019165
           ],
           "z": [
            0.2282000035047531,
            -0.012400000356137753
           ]
          },
          {
           "line": {
            "color": "black",
            "width": 2
           },
           "mode": "lines",
           "showlegend": false,
           "type": "scatter3d",
           "x": [
            -0.0020000000949949026,
            -0.04529999941587448
           ],
           "y": [
            0.996999979019165,
            0.9214000105857849
           ],
           "z": [
            -0.012400000356137753,
            -0.20730000734329224
           ]
          },
          {
           "line": {
            "color": "black",
            "width": 2
           },
           "mode": "lines",
           "showlegend": false,
           "type": "scatter3d",
           "x": [
            -0.04529999941587448,
            -0.11640000343322754
           ],
           "y": [
            0.9214000105857849,
            0.7821999788284302
           ],
           "z": [
            -0.20730000734329224,
            -0.3912999927997589
           ]
          }
         ],
         "name": "34"
        },
        {
         "data": [
          {
           "marker": {
            "color": "blue",
            "size": 4
           },
           "mode": "markers+text",
           "name": "Landmarks",
           "text": [
            "0",
            "1",
            "2",
            "3",
            "4",
            "5",
            "6",
            "7",
            "8",
            "9",
            "10",
            "11",
            "12",
            "13",
            "14",
            "15",
            "16",
            "17",
            "18",
            "19"
           ],
           "textfont": {
            "color": "black",
            "size": 8
           },
           "textposition": "top center",
           "type": "scatter3d",
           "x": {
            "bdata": "AAAAADDQijxsih4+R4+kPWwJ+boRt3891iirPuWnDD9vEgO7FXdgPq3fBj+RmTM/fow5vdF7uD0EorQ+jD0IPyBj7r1TMFu+iqaLPa/8kD0=",
            "dtype": "f4"
           },
           "y": {
            "bdata": "AAAAANGC9D64bUY/rHNtPwskeD+lpbQ/R/O1P3detD9kO38/EjHBP+5GvD+c8K0/3+BrPxwOuj+AQdM/vrTCP0I+SD+5v4w/NdCJP9PLaT8=",
            "dtype": "f4"
           },
           "z": {
            "bdata": "AAAAAAovsj7S+yY+rKY7vUOtaT7UDHU+5n1CPhxmGT5fKUu8asrXvJ4YC76g2lW+dEZUvs/zjL4Y6qe+ooOtvnlYyL5unjC/WSQov29MAb8=",
            "dtype": "f4"
           }
          },
          {
           "line": {
            "color": "black",
            "width": 2
           },
           "mode": "lines",
           "showlegend": false,
           "type": "scatter3d",
           "x": [
            0,
            0.016944974660873413
           ],
           "y": [
            0,
            0.47756054997444153
           ],
           "z": [
            0,
            0.3480151295661926
           ]
          },
          {
           "line": {
            "color": "black",
            "width": 2
           },
           "mode": "lines",
           "showlegend": false,
           "type": "scatter3d",
           "x": [
            0.016944974660873413,
            0.15482491254806519
           ],
           "y": [
            0.47756054997444153,
            0.7751116752624512
           ],
           "z": [
            0.3480151295661926,
            0.16306999325752258
           ]
          },
          {
           "line": {
            "color": "black",
            "width": 2
           },
           "mode": "lines",
           "showlegend": false,
           "type": "scatter3d",
           "x": [
            0.15482491254806519,
            0.08035140484571457
           ],
           "y": [
            0.7751116752624512,
            0.9275462627410889
           ],
           "z": [
            0.16306999325752258,
            -0.04581324756145477
           ]
          },
          {
           "line": {
            "color": "black",
            "width": 2
           },
           "mode": "lines",
           "showlegend": false,
           "type": "scatter3d",
           "x": [
            0,
            -0.0019000000320374966
           ],
           "y": [
            0,
            0.9692999720573425
           ],
           "z": [
            0,
            0.2282000035047531
           ]
          },
          {
           "line": {
            "color": "black",
            "width": 2
           },
           "mode": "lines",
           "showlegend": false,
           "type": "scatter3d",
           "x": [
            -0.0019000000320374966,
            0.06243044510483742
           ],
           "y": [
            0.9692999720573425,
            1.4113050699234009
           ],
           "z": [
            0.2282000035047531,
            0.2393067479133606
           ]
          },
          {
           "line": {
            "color": "black",
            "width": 2
           },
           "mode": "lines",
           "showlegend": false,
           "type": "scatter3d",
           "x": [
            0.06243044510483742,
            0.33429592847824097
           ],
           "y": [
            1.4113050699234009,
            1.421486735343933
           ],
           "z": [
            0.2393067479133606,
            0.1899333894252777
           ]
          },
          {
           "line": {
            "color": "black",
            "width": 2
           },
           "mode": "lines",
           "showlegend": false,
           "type": "scatter3d",
           "x": [
            0.33429592847824097,
            0.5494368672370911
           ],
           "y": [
            1.421486735343933,
            1.4091328382492065
           ],
           "z": [
            0.1899333894252777,
            0.14980357885360718
           ]
          },
          {
           "line": {
            "color": "black",
            "width": 2
           },
           "mode": "lines",
           "showlegend": false,
           "type": "scatter3d",
           "x": [
            0,
            -0.0020000000949949026
           ],
           "y": [
            0,
            0.996999979019165
           ],
           "z": [
            0,
            -0.012400000356137753
           ]
          },
          {
           "line": {
            "color": "black",
            "width": 2
           },
           "mode": "lines",
           "showlegend": false,
           "type": "scatter3d",
           "x": [
            -0.0020000000949949026,
            0.21920426189899445
           ],
           "y": [
            0.996999979019165,
            1.509310007095337
           ],
           "z": [
            -0.012400000356137753,
            -0.02634163573384285
           ]
          },
          {
           "line": {
            "color": "black",
            "width": 2
           },
           "mode": "lines",
           "showlegend": false,
           "type": "scatter3d",
           "x": [
            0.21920426189899445,
            0.5268505215644836
           ],
           "y": [
            1.509310007095337,
            1.470914602279663
           ],
           "z": [
            -0.02634163573384285,
            -0.13583609461784363
           ]
          },
          {
           "line": {
            "color": "black",
            "width": 2
           },
           "mode": "lines",
           "showlegend": false,
           "type": "scatter3d",
           "x": [
            0.5268505215644836,
            0.7015619874000549
           ],
           "y": [
            1.470914602279663,
            1.35890531539917
           ],
           "z": [
            -0.13583609461784363,
            -0.20884180068969727
           ]
          },
          {
           "line": {
            "color": "black",
            "width": 2
           },
           "mode": "lines",
           "showlegend": false,
           "type": "scatter3d",
           "x": [
            0,
            -0.04529999941587448
           ],
           "y": [
            0,
            0.9214000105857849
           ],
           "z": [
            0,
            -0.20730000734329224
           ]
          },
          {
           "line": {
            "color": "black",
            "width": 2
           },
           "mode": "lines",
           "showlegend": false,
           "type": "scatter3d",
           "x": [
            -0.04529999941587448,
            0.0900799110531807
           ],
           "y": [
            0.9214000105857849,
            1.4535555839538574
           ],
           "z": [
            -0.20730000734329224,
            -0.275297611951828
           ]
          },
          {
           "line": {
            "color": "black",
            "width": 2
           },
           "mode": "lines",
           "showlegend": false,
           "type": "scatter3d",
           "x": [
            0.0900799110531807,
            0.35279858112335205
           ],
           "y": [
            1.4535555839538574,
            1.6504364013671875
           ],
           "z": [
            -0.275297611951828,
            -0.3279578685760498
           ]
          },
          {
           "line": {
            "color": "black",
            "width": 2
           },
           "mode": "lines",
           "showlegend": false,
           "type": "scatter3d",
           "x": [
            0.35279858112335205,
            0.532189130783081
           ],
           "y": [
            1.6504364013671875,
            1.5211408138275146
           ],
           "z": [
            -0.3279578685760498,
            -0.33889490365982056
           ]
          },
          {
           "line": {
            "color": "black",
            "width": 2
           },
           "mode": "lines",
           "showlegend": false,
           "type": "scatter3d",
           "x": [
            0,
            -0.11640000343322754
           ],
           "y": [
            0,
            0.7821999788284302
           ],
           "z": [
            0,
            -0.3912999927997589
           ]
          },
          {
           "line": {
            "color": "black",
            "width": 2
           },
           "mode": "lines",
           "showlegend": false,
           "type": "scatter3d",
           "x": [
            -0.11640000343322754,
            -0.2140515297651291
           ],
           "y": [
            0.7821999788284302,
            1.099600911140442
           ],
           "z": [
            -0.3912999927997589,
            -0.6899174451828003
           ]
          },
          {
           "line": {
            "color": "black",
            "width": 2
           },
           "mode": "lines",
           "showlegend": false,
           "type": "scatter3d",
           "x": [
            -0.2140515297651291,
            0.06818874180316925
           ],
           "y": [
            1.099600911140442,
            1.0766664743423462
           ],
           "z": [
            -0.6899174451828003,
            -0.656804621219635
           ]
          },
          {
           "line": {
            "color": "black",
            "width": 2
           },
           "mode": "lines",
           "showlegend": false,
           "type": "scatter3d",
           "x": [
            0.06818874180316925,
            0.07079445570707321
           ],
           "y": [
            1.0766664743423462,
            0.9132663607597351
           ],
           "z": [
            -0.656804621219635,
            -0.5050725340843201
           ]
          },
          {
           "line": {
            "color": "black",
            "width": 2
           },
           "mode": "lines",
           "showlegend": false,
           "type": "scatter3d",
           "x": [
            0.016944974660873413,
            -0.0019000000320374966
           ],
           "y": [
            0.47756054997444153,
            0.9692999720573425
           ],
           "z": [
            0.3480151295661926,
            0.2282000035047531
           ]
          },
          {
           "line": {
            "color": "black",
            "width": 2
           },
           "mode": "lines",
           "showlegend": false,
           "type": "scatter3d",
           "x": [
            -0.0019000000320374966,
            -0.0020000000949949026
           ],
           "y": [
            0.9692999720573425,
            0.996999979019165
           ],
           "z": [
            0.2282000035047531,
            -0.012400000356137753
           ]
          },
          {
           "line": {
            "color": "black",
            "width": 2
           },
           "mode": "lines",
           "showlegend": false,
           "type": "scatter3d",
           "x": [
            -0.0020000000949949026,
            -0.04529999941587448
           ],
           "y": [
            0.996999979019165,
            0.9214000105857849
           ],
           "z": [
            -0.012400000356137753,
            -0.20730000734329224
           ]
          },
          {
           "line": {
            "color": "black",
            "width": 2
           },
           "mode": "lines",
           "showlegend": false,
           "type": "scatter3d",
           "x": [
            -0.04529999941587448,
            -0.11640000343322754
           ],
           "y": [
            0.9214000105857849,
            0.7821999788284302
           ],
           "z": [
            -0.20730000734329224,
            -0.3912999927997589
           ]
          }
         ],
         "name": "35"
        },
        {
         "data": [
          {
           "marker": {
            "color": "blue",
            "size": 4
           },
           "mode": "markers+text",
           "name": "Landmarks",
           "text": [
            "0",
            "1",
            "2",
            "3",
            "4",
            "5",
            "6",
            "7",
            "8",
            "9",
            "10",
            "11",
            "12",
            "13",
            "14",
            "15",
            "16",
            "17",
            "18",
            "19"
           ],
           "textfont": {
            "color": "black",
            "size": 8
           },
           "textposition": "top center",
           "type": "scatter3d",
           "x": {
            "bdata": "AAAAALDqgjwzQBU+YAmYPWwJ+bqxrn89KQusPlmLDT9vEgO78RxXPn8BBz+uRzY/fow5vaVuwT0u8qI+ohkAPyBj7r1sP2W+YPtwPUGohz0=",
            "dtype": "f4"
           },
           "y": {
            "bdata": "AAAAALpD9T7GSkY/hLJtPwskeD8wjrQ/rh22P/qDtD9kO38/r+fAP/G2uT+7/Ko/3+BrP2DPuD8cFdc/jALHP0I+SD8k24k/rHKIP6aTaT8=",
            "dtype": "f4"
           },
           "z": {
            "bdata": "AAAAAKtcrj4CQhY+NE5+vUOtaT4Sgk0+yY8mPl2mCD5fKUu8+sK9vXTaIb7uM0O+dEZUvkQFpr4Hf8i+kADEvnlYyL4/hzW/NIYsv74tA78=",
            "dtype": "f4"
           }
          },
          {
           "line": {
            "color": "black",
            "width": 2
           },
           "mode": "lines",
           "showlegend": false,
           "type": "scatter3d",
           "x": [
            0,
            0.015981048345565796
           ],
           "y": [
            0,
            0.47903233766555786
           ],
           "z": [
            0,
            0.3405507504940033
           ]
          },
          {
           "line": {
            "color": "black",
            "width": 2
           },
           "mode": "lines",
           "showlegend": false,
           "type": "scatter3d",
           "x": [
            0.015981048345565796,
            0.1457527130842209
           ],
           "y": [
            0.47903233766555786,
            0.7745784521102905
           ],
           "z": [
            0.3405507504940033,
            0.14673617482185364
           ]
          },
          {
           "line": {
            "color": "black",
            "width": 2
           },
           "mode": "lines",
           "showlegend": false,
           "type": "scatter3d",
           "x": [
            0.1457527130842209,
            0.07423663139343262
           ],
           "y": [
            0.7745784521102905,
            0.9285051822662354
           ],
           "z": [
            0.14673617482185364,
            -0.06208629906177521
           ]
          },
          {
           "line": {
            "color": "black",
            "width": 2
           },
           "mode": "lines",
           "showlegend": false,
           "type": "scatter3d",
           "x": [
            0,
            -0.0019000000320374966
           ],
           "y": [
            0,
            0.9692999720573425
           ],
           "z": [
            0,
            0.2282000035047531
           ]
          },
          {
           "line": {
            "color": "black",
            "width": 2
           },
           "mode": "lines",
           "showlegend": false,
           "type": "scatter3d",
           "x": [
            -0.0019000000320374966,
            0.062422458082437515
           ],
           "y": [
            0.9692999720573425,
            1.4105892181396484
           ],
           "z": [
            0.2282000035047531,
            0.20069149136543274
           ]
          },
          {
           "line": {
            "color": "black",
            "width": 2
           },
           "mode": "lines",
           "showlegend": false,
           "type": "scatter3d",
           "x": [
            0.062422458082437515,
            0.33602264523506165
           ],
           "y": [
            1.4105892181396484,
            1.4227807521820068
           ],
           "z": [
            0.20069149136543274,
            0.16265787184238434
           ]
          },
          {
           "line": {
            "color": "black",
            "width": 2
           },
           "mode": "lines",
           "showlegend": false,
           "type": "scatter3d",
           "x": [
            0.33602264523506165,
            0.5529075264930725
           ],
           "y": [
            1.4227807521820068,
            1.4102776050567627
           ],
           "z": [
            0.16265787184238434,
            0.13344712555408478
           ]
          },
          {
           "line": {
            "color": "black",
            "width": 2
           },
           "mode": "lines",
           "showlegend": false,
           "type": "scatter3d",
           "x": [
            0,
            -0.0020000000949949026
           ],
           "y": [
            0,
            0.996999979019165
           ],
           "z": [
            0,
            -0.012400000356137753
           ]
          },
          {
           "line": {
            "color": "black",
            "width": 2
           },
           "mode": "lines",
           "showlegend": false,
           "type": "scatter3d",
           "x": [
            -0.0020000000949949026,
            0.21007134020328522
           ],
           "y": [
            0.996999979019165,
            1.5070704221725464
           ],
           "z": [
            -0.012400000356137753,
            -0.09265704452991486
           ]
          },
          {
           "line": {
            "color": "black",
            "width": 2
           },
           "mode": "lines",
           "showlegend": false,
           "type": "scatter3d",
           "x": [
            0.21007134020328522,
            0.527366578578949
           ],
           "y": [
            1.5070704221725464,
            1.4508954286575317
           ],
           "z": [
            -0.09265704452991486,
            -0.15805989503860474
           ]
          },
          {
           "line": {
            "color": "black",
            "width": 2
           },
           "mode": "lines",
           "showlegend": false,
           "type": "scatter3d",
           "x": [
            0.527366578578949,
            0.7120312452316284
           ],
           "y": [
            1.4508954286575317,
            1.335837721824646
           ],
           "z": [
            -0.15805989503860474,
            -0.190627783536911
           ]
          },
          {
           "line": {
            "color": "black",
            "width": 2
           },
           "mode": "lines",
           "showlegend": false,
           "type": "scatter3d",
           "x": [
            0,
            -0.04529999941587448
           ],
           "y": [
            0,
            0.9214000105857849
           ],
           "z": [
            0,
            -0.20730000734329224
           ]
          },
          {
           "line": {
            "color": "black",
            "width": 2
           },
           "mode": "lines",
           "showlegend": false,
           "type": "scatter3d",
           "x": [
            -0.04529999941587448,
            0.09444931894540787
           ],
           "y": [
            0.9214000105857849,
            1.4438285827636719
           ],
           "z": [
            -0.20730000734329224,
            -0.3242589235305786
           ]
          },
          {
           "line": {
            "color": "black",
            "width": 2
           },
           "mode": "lines",
           "showlegend": false,
           "type": "scatter3d",
           "x": [
            0.09444931894540787,
            0.31825393438339233
           ],
           "y": [
            1.4438285827636719,
            1.6803317070007324
           ],
           "z": [
            -0.3242589235305786,
            -0.39159414172172546
           ]
          },
          {
           "line": {
            "color": "black",
            "width": 2
           },
           "mode": "lines",
           "showlegend": false,
           "type": "scatter3d",
           "x": [
            0.31825393438339233,
            0.5003911256790161
           ],
           "y": [
            1.6803317070007324,
            1.554765224456787
           ],
           "z": [
            -0.39159414172172546,
            -0.38281679153442383
           ]
          },
          {
           "line": {
            "color": "black",
            "width": 2
           },
           "mode": "lines",
           "showlegend": false,
           "type": "scatter3d",
           "x": [
            0,
            -0.11640000343322754
           ],
           "y": [
            0,
            0.7821999788284302
           ],
           "z": [
            0,
            -0.3912999927997589
           ]
          },
          {
           "line": {
            "color": "black",
            "width": 2
           },
           "mode": "lines",
           "showlegend": false,
           "type": "scatter3d",
           "x": [
            -0.11640000343322754,
            -0.2238747477531433
           ],
           "y": [
            0.7821999788284302,
            1.0770001411437988
           ],
           "z": [
            -0.3912999927997589,
            -0.7090949416160583
           ]
          },
          {
           "line": {
            "color": "black",
            "width": 2
           },
           "mode": "lines",
           "showlegend": false,
           "type": "scatter3d",
           "x": [
            -0.2238747477531433,
            0.05883347988128662
           ],
           "y": [
            1.0770001411437988,
            1.0659995079040527
           ],
           "z": [
            -0.7090949416160583,
            -0.6739227771759033
           ]
          },
          {
           "line": {
            "color": "black",
            "width": 2
           },
           "mode": "lines",
           "showlegend": false,
           "type": "scatter3d",
           "x": [
            0.05883347988128662,
            0.0662388876080513
           ],
           "y": [
            1.0659995079040527,
            0.9124091863632202
           ],
           "z": [
            -0.6739227771759033,
            -0.5124167203903198
           ]
          },
          {
           "line": {
            "color": "black",
            "width": 2
           },
           "mode": "lines",
           "showlegend": false,
           "type": "scatter3d",
           "x": [
            0.015981048345565796,
            -0.0019000000320374966
           ],
           "y": [
            0.47903233766555786,
            0.9692999720573425
           ],
           "z": [
            0.3405507504940033,
            0.2282000035047531
           ]
          },
          {
           "line": {
            "color": "black",
            "width": 2
           },
           "mode": "lines",
           "showlegend": false,
           "type": "scatter3d",
           "x": [
            -0.0019000000320374966,
            -0.0020000000949949026
           ],
           "y": [
            0.9692999720573425,
            0.996999979019165
           ],
           "z": [
            0.2282000035047531,
            -0.012400000356137753
           ]
          },
          {
           "line": {
            "color": "black",
            "width": 2
           },
           "mode": "lines",
           "showlegend": false,
           "type": "scatter3d",
           "x": [
            -0.0020000000949949026,
            -0.04529999941587448
           ],
           "y": [
            0.996999979019165,
            0.9214000105857849
           ],
           "z": [
            -0.012400000356137753,
            -0.20730000734329224
           ]
          },
          {
           "line": {
            "color": "black",
            "width": 2
           },
           "mode": "lines",
           "showlegend": false,
           "type": "scatter3d",
           "x": [
            -0.04529999941587448,
            -0.11640000343322754
           ],
           "y": [
            0.9214000105857849,
            0.7821999788284302
           ],
           "z": [
            -0.20730000734329224,
            -0.3912999927997589
           ]
          }
         ],
         "name": "36"
        },
        {
         "data": [
          {
           "marker": {
            "color": "blue",
            "size": 4
           },
           "mode": "markers+text",
           "name": "Landmarks",
           "text": [
            "0",
            "1",
            "2",
            "3",
            "4",
            "5",
            "6",
            "7",
            "8",
            "9",
            "10",
            "11",
            "12",
            "13",
            "14",
            "15",
            "16",
            "17",
            "18",
            "19"
           ],
           "textfont": {
            "color": "black",
            "size": 8
           },
           "textposition": "top center",
           "type": "scatter3d",
           "x": {
            "bdata": "AAAAAKBdeDwCKBU+8vemPWwJ+bqIUF09CdunPqCBCz9vEgO7l0VWPnaKBj9SnjU/fow5vSOsvz0jmKU+VHgBPyBj7r1aARC+7MsGPmdfyj0=",
            "dtype": "f4"
           },
           "y": {
            "bdata": "AAAAAODK9T5j4kY/npNvPwskeD+8qbQ/qj+2P6GttD9kO38/9h/BP7g6uj/hkas/3+BrPwwQuT8pstY/sKHGP0I+SD/WB5E/LWKIP7JiZD8=",
            "dtype": "f4"
           },
           "z": {
            "bdata": "AAAAAPhprz7m4ho+ACtmvUOtaT7J7Eg+D6IjPtpTBz5fKUu8m7OqvRDrHr4dHka+dEZUvgvhob45zcK+mBjAvnlYyL6foyq/MZ0dv15o9b4=",
            "dtype": "f4"
           }
          },
          {
           "line": {
            "color": "black",
            "width": 2
           },
           "mode": "lines",
           "showlegend": false,
           "type": "scatter3d",
           "x": [
            0,
            0.015159040689468384
           ],
           "y": [
            0,
            0.48006343841552734
           ],
           "z": [
            0,
            0.3426053524017334
           ]
          },
          {
           "line": {
            "color": "black",
            "width": 2
           },
           "mode": "lines",
           "showlegend": false,
           "type": "scatter3d",
           "x": [
            0.015159040689468384,
            0.1456604301929474
           ],
           "y": [
            0.48006343841552734,
            0.7768918871879578
           ],
           "z": [
            0.3426053524017334,
            0.15125617384910583
           ]
          },
          {
           "line": {
            "color": "black",
            "width": 2
           },
           "mode": "lines",
           "showlegend": false,
           "type": "scatter3d",
           "x": [
            0.1456604301929474,
            0.08152760565280914
           ],
           "y": [
            0.7768918871879578,
            0.935846209526062
           ],
           "z": [
            0.15125617384910583,
            -0.05619335174560547
           ]
          },
          {
           "line": {
            "color": "black",
            "width": 2
           },
           "mode": "lines",
           "showlegend": false,
           "type": "scatter3d",
           "x": [
            0,
            -0.0019000000320374966
           ],
           "y": [
            0,
            0.9692999720573425
           ],
           "z": [
            0,
            0.2282000035047531
           ]
          },
          {
           "line": {
            "color": "black",
            "width": 2
           },
           "mode": "lines",
           "showlegend": false,
           "type": "scatter3d",
           "x": [
            -0.0019000000320374966,
            0.05403187870979309
           ],
           "y": [
            0.9692999720573425,
            1.4114298820495605
           ],
           "z": [
            0.2282000035047531,
            0.19621576368808746
           ]
          },
          {
           "line": {
            "color": "black",
            "width": 2
           },
           "mode": "lines",
           "showlegend": false,
           "type": "scatter3d",
           "x": [
            0.05403187870979309,
            0.32784298062324524
           ],
           "y": [
            1.4114298820495605,
            1.4238178730010986
           ],
           "z": [
            0.19621576368808746,
            0.15979789197444916
           ]
          },
          {
           "line": {
            "color": "black",
            "width": 2
           },
           "mode": "lines",
           "showlegend": false,
           "type": "scatter3d",
           "x": [
            0.32784298062324524,
            0.5449466705322266
           ],
           "y": [
            1.4238178730010986,
            1.4115487337112427
           ],
           "z": [
            0.15979789197444916,
            0.13215580582618713
           ]
          },
          {
           "line": {
            "color": "black",
            "width": 2
           },
           "mode": "lines",
           "showlegend": false,
           "type": "scatter3d",
           "x": [
            0,
            -0.0020000000949949026
           ],
           "y": [
            0,
            0.996999979019165
           ],
           "z": [
            0,
            -0.012400000356137753
           ]
          },
          {
           "line": {
            "color": "black",
            "width": 2
           },
           "mode": "lines",
           "showlegend": false,
           "type": "scatter3d",
           "x": [
            -0.0020000000949949026,
            0.2092498391866684
           ],
           "y": [
            0.996999979019165,
            1.5087878704071045
           ],
           "z": [
            -0.012400000356137753,
            -0.08335038274526596
           ]
          },
          {
           "line": {
            "color": "black",
            "width": 2
           },
           "mode": "lines",
           "showlegend": false,
           "type": "scatter3d",
           "x": [
            0.2092498391866684,
            0.5255502462387085
           ],
           "y": [
            1.5087878704071045,
            1.4549169540405273
           ],
           "z": [
            -0.08335038274526596,
            -0.15519356727600098
           ]
          },
          {
           "line": {
            "color": "black",
            "width": 2
           },
           "mode": "lines",
           "showlegend": false,
           "type": "scatter3d",
           "x": [
            0.5255502462387085,
            0.7094470262527466
           ],
           "y": [
            1.4549169540405273,
            1.340389370918274
           ],
           "z": [
            -0.15519356727600098,
            -0.19347424805164337
           ]
          },
          {
           "line": {
            "color": "black",
            "width": 2
           },
           "mode": "lines",
           "showlegend": false,
           "type": "scatter3d",
           "x": [
            0,
            -0.04529999941587448
           ],
           "y": [
            0,
            0.9214000105857849
           ],
           "z": [
            0,
            -0.20730000734329224
           ]
          },
          {
           "line": {
            "color": "black",
            "width": 2
           },
           "mode": "lines",
           "showlegend": false,
           "type": "scatter3d",
           "x": [
            -0.04529999941587448,
            0.09359004348516464
           ],
           "y": [
            0.9214000105857849,
            1.4458022117614746
           ],
           "z": [
            -0.20730000734329224,
            -0.3161700665950775
           ]
          },
          {
           "line": {
            "color": "black",
            "width": 2
           },
           "mode": "lines",
           "showlegend": false,
           "type": "scatter3d",
           "x": [
            0.09359004348516464,
            0.32342633605003357
           ],
           "y": [
            1.4458022117614746,
            1.6773120164871216
           ],
           "z": [
            -0.3161700665950775,
            -0.38047197461128235
           ]
          },
          {
           "line": {
            "color": "black",
            "width": 2
           },
           "mode": "lines",
           "showlegend": false,
           "type": "scatter3d",
           "x": [
            0.32342633605003357,
            0.5057423114776611
           ],
           "y": [
            1.6773120164871216,
            1.551809310913086
           ],
           "z": [
            -0.38047197461128235,
            -0.37518763542175293
           ]
          },
          {
           "line": {
            "color": "black",
            "width": 2
           },
           "mode": "lines",
           "showlegend": false,
           "type": "scatter3d",
           "x": [
            0,
            -0.11640000343322754
           ],
           "y": [
            0,
            0.7821999788284302
           ],
           "z": [
            0,
            -0.3912999927997589
           ]
          },
          {
           "line": {
            "color": "black",
            "width": 2
           },
           "mode": "lines",
           "showlegend": false,
           "type": "scatter3d",
           "x": [
            -0.11640000343322754,
            -0.14063015580177307
           ],
           "y": [
            0.7821999788284302,
            1.1330516338348389
           ],
           "z": [
            -0.3912999927997589,
            -0.6665591597557068
           ]
          },
          {
           "line": {
            "color": "black",
            "width": 2
           },
           "mode": "lines",
           "showlegend": false,
           "type": "scatter3d",
           "x": [
            -0.14063015580177307,
            0.13163727521896362
           ],
           "y": [
            1.1330516338348389,
            1.0654960870742798
           ],
           "z": [
            -0.6665591597557068,
            -0.6156798005104065
           ]
          },
          {
           "line": {
            "color": "black",
            "width": 2
           },
           "mode": "lines",
           "showlegend": false,
           "type": "scatter3d",
           "x": [
            0.13163727521896362,
            0.09881477802991867
           ],
           "y": [
            1.0654960870742798,
            0.892130970954895
           ],
           "z": [
            -0.6156798005104065,
            -0.47931188344955444
           ]
          },
          {
           "line": {
            "color": "black",
            "width": 2
           },
           "mode": "lines",
           "showlegend": false,
           "type": "scatter3d",
           "x": [
            0.015159040689468384,
            -0.0019000000320374966
           ],
           "y": [
            0.48006343841552734,
            0.9692999720573425
           ],
           "z": [
            0.3426053524017334,
            0.2282000035047531
           ]
          },
          {
           "line": {
            "color": "black",
            "width": 2
           },
           "mode": "lines",
           "showlegend": false,
           "type": "scatter3d",
           "x": [
            -0.0019000000320374966,
            -0.0020000000949949026
           ],
           "y": [
            0.9692999720573425,
            0.996999979019165
           ],
           "z": [
            0.2282000035047531,
            -0.012400000356137753
           ]
          },
          {
           "line": {
            "color": "black",
            "width": 2
           },
           "mode": "lines",
           "showlegend": false,
           "type": "scatter3d",
           "x": [
            -0.0020000000949949026,
            -0.04529999941587448
           ],
           "y": [
            0.996999979019165,
            0.9214000105857849
           ],
           "z": [
            -0.012400000356137753,
            -0.20730000734329224
           ]
          },
          {
           "line": {
            "color": "black",
            "width": 2
           },
           "mode": "lines",
           "showlegend": false,
           "type": "scatter3d",
           "x": [
            -0.04529999941587448,
            -0.11640000343322754
           ],
           "y": [
            0.9214000105857849,
            0.7821999788284302
           ],
           "z": [
            -0.20730000734329224,
            -0.3912999927997589
           ]
          }
         ],
         "name": "37"
        },
        {
         "data": [
          {
           "marker": {
            "color": "blue",
            "size": 4
           },
           "mode": "markers+text",
           "name": "Landmarks",
           "text": [
            "0",
            "1",
            "2",
            "3",
            "4",
            "5",
            "6",
            "7",
            "8",
            "9",
            "10",
            "11",
            "12",
            "13",
            "14",
            "15",
            "16",
            "17",
            "18",
            "19"
           ],
           "textfont": {
            "color": "black",
            "size": 8
           },
           "textposition": "top center",
           "type": "scatter3d",
           "x": {
            "bdata": "AAAAACByhDzxgRk+eX+xPWwJ+bpoyII9KiOtPtYvDj9vEgO78MZePiKCCD/eTjc/fow5vcPhvz3tIaU+uToBPyBj7r107SQ+EguaPoqP/D0=",
            "dtype": "f4"
           },
           "y": {
            "bdata": "AAAAACYh9T4eWkY/4B1vPwskeD/garQ/ujC1Pz58sz9kO38/lrLAP1KvuT9k4Ko/3+BrPzYFuT8Zw9Y/u7HGP0I+SD87PIo/IMlaP11BPj8=",
            "dtype": "f4"
           },
           "z": {
            "bdata": "AAAAAHQcrz6eVBs+AKBkvUOtaT6SwUE+w6YePo0lBD5fKUu8IC+ovS+3H74jn0i+dEZUvmafor4I0MO+CcnAvnlYyL6CPRO/dN/wvv7syb4=",
            "dtype": "f4"
           }
          },
          {
           "line": {
            "color": "black",
            "width": 2
           },
           "mode": "lines",
           "showlegend": false,
           "type": "scatter3d",
           "x": [
            0,
            0.01616770029067993
           ],
           "y": [
            0,
            0.478768527507782
           ],
           "z": [
            0,
            0.342013955116272
           ]
          },
          {
           "line": {
            "color": "black",
            "width": 2
           },
           "mode": "lines",
           "showlegend": false,
           "type": "scatter3d",
           "x": [
            0.01616770029067993,
            0.14990974962711334
           ],
           "y": [
            0.478768527507782,
            0.7748125791549683
           ],
           "z": [
            0.342013955116272,
            0.15168997645378113
           ]
          },
          {
           "line": {
            "color": "black",
            "width": 2
           },
           "mode": "lines",
           "showlegend": false,
           "type": "scatter3d",
           "x": [
            0.14990974962711334,
            0.08666891604661942
           ],
           "y": [
            0.7748125791549683,
            0.9340496063232422
           ],
           "z": [
            0.15168997645378113,
            -0.055816650390625
           ]
          },
          {
           "line": {
            "color": "black",
            "width": 2
           },
           "mode": "lines",
           "showlegend": false,
           "type": "scatter3d",
           "x": [
            0,
            -0.0019000000320374966
           ],
           "y": [
            0,
            0.9692999720573425
           ],
           "z": [
            0,
            0.2282000035047531
           ]
          },
          {
           "line": {
            "color": "black",
            "width": 2
           },
           "mode": "lines",
           "showlegend": false,
           "type": "scatter3d",
           "x": [
            -0.0019000000320374966,
            0.06385880708694458
           ],
           "y": [
            0.9692999720573425,
            1.4095115661621094
           ],
           "z": [
            0.2282000035047531,
            0.18921497464179993
           ]
          },
          {
           "line": {
            "color": "black",
            "width": 2
           },
           "mode": "lines",
           "showlegend": false,
           "type": "scatter3d",
           "x": [
            0.06385880708694458,
            0.33815890550613403
           ],
           "y": [
            1.4095115661621094,
            1.4155495166778564
           ],
           "z": [
            0.18921497464179993,
            0.15493302047252655
           ]
          },
          {
           "line": {
            "color": "black",
            "width": 2
           },
           "mode": "lines",
           "showlegend": false,
           "type": "scatter3d",
           "x": [
            0.33815890550613403,
            0.5554174184799194
           ],
           "y": [
            1.4155495166778564,
            1.4022290706634521
           ],
           "z": [
            0.15493302047252655,
            0.12904949486255646
           ]
          },
          {
           "line": {
            "color": "black",
            "width": 2
           },
           "mode": "lines",
           "showlegend": false,
           "type": "scatter3d",
           "x": [
            0,
            -0.0020000000949949026
           ],
           "y": [
            0,
            0.996999979019165
           ],
           "z": [
            0,
            -0.012400000356137753
           ]
          },
          {
           "line": {
            "color": "black",
            "width": 2
           },
           "mode": "lines",
           "showlegend": false,
           "type": "scatter3d",
           "x": [
            -0.0020000000949949026,
            0.21755576133728027
           ],
           "y": [
            0.996999979019165,
            1.5054500102996826
           ],
           "z": [
            -0.012400000356137753,
            -0.08212113380432129
           ]
          },
          {
           "line": {
            "color": "black",
            "width": 2
           },
           "mode": "lines",
           "showlegend": false,
           "type": "scatter3d",
           "x": [
            0.21755576133728027,
            0.5332356691360474
           ],
           "y": [
            1.5054500102996826,
            1.4506628513336182
           ],
           "z": [
            -0.08212113380432129,
            -0.15597222745418549
           ]
          },
          {
           "line": {
            "color": "black",
            "width": 2
           },
           "mode": "lines",
           "showlegend": false,
           "type": "scatter3d",
           "x": [
            0.5332356691360474,
            0.7160471677780151
           ],
           "y": [
            1.4506628513336182,
            1.334972858428955
           ],
           "z": [
            -0.15597222745418549,
            -0.19591955840587616
           ]
          },
          {
           "line": {
            "color": "black",
            "width": 2
           },
           "mode": "lines",
           "showlegend": false,
           "type": "scatter3d",
           "x": [
            0,
            -0.04529999941587448
           ],
           "y": [
            0,
            0.9214000105857849
           ],
           "z": [
            0,
            -0.20730000734329224
           ]
          },
          {
           "line": {
            "color": "black",
            "width": 2
           },
           "mode": "lines",
           "showlegend": false,
           "type": "scatter3d",
           "x": [
            -0.04529999941587448,
            0.09369232505559921
           ],
           "y": [
            0.9214000105857849,
            1.4454715251922607
           ],
           "z": [
            -0.20730000734329224,
            -0.3176223635673523
           ]
          },
          {
           "line": {
            "color": "black",
            "width": 2
           },
           "mode": "lines",
           "showlegend": false,
           "type": "scatter3d",
           "x": [
            0.09369232505559921,
            0.32252445816993713
           ],
           "y": [
            1.4454715251922607,
            1.6778289079666138
           ],
           "z": [
            -0.3176223635673523,
            -0.3824465274810791
           ]
          },
          {
           "line": {
            "color": "black",
            "width": 2
           },
           "mode": "lines",
           "showlegend": false,
           "type": "scatter3d",
           "x": [
            0.32252445816993713,
            0.5048022866249084
           ],
           "y": [
            1.6778289079666138,
            1.552298903465271
           ],
           "z": [
            -0.3824465274810791,
            -0.37653377652168274
           ]
          },
          {
           "line": {
            "color": "black",
            "width": 2
           },
           "mode": "lines",
           "showlegend": false,
           "type": "scatter3d",
           "x": [
            0,
            -0.11640000343322754
           ],
           "y": [
            0,
            0.7821999788284302
           ],
           "z": [
            0,
            -0.3912999927997589
           ]
          },
          {
           "line": {
            "color": "black",
            "width": 2
           },
           "mode": "lines",
           "showlegend": false,
           "type": "scatter3d",
           "x": [
            -0.11640000343322754,
            0.1610620617866516
           ],
           "y": [
            0.7821999788284302,
            1.0799630880355835
           ],
           "z": [
            -0.3912999927997589,
            -0.5751572847366333
           ]
          },
          {
           "line": {
            "color": "black",
            "width": 2
           },
           "mode": "lines",
           "showlegend": false,
           "type": "scatter3d",
           "x": [
            0.1610620617866516,
            0.30086570978164673
           ],
           "y": [
            1.0799630880355835,
            0.8546314239501953
           ],
           "z": [
            -0.5751572847366333,
            -0.4704548120498657
           ]
          },
          {
           "line": {
            "color": "black",
            "width": 2
           },
           "mode": "lines",
           "showlegend": false,
           "type": "scatter3d",
           "x": [
            0.30086570978164673,
            0.12332065403461456
           ],
           "y": [
            0.8546314239501953,
            0.7431848645210266
           ],
           "z": [
            -0.4704548120498657,
            -0.3943862318992615
           ]
          },
          {
           "line": {
            "color": "black",
            "width": 2
           },
           "mode": "lines",
           "showlegend": false,
           "type": "scatter3d",
           "x": [
            0.01616770029067993,
            -0.0019000000320374966
           ],
           "y": [
            0.478768527507782,
            0.9692999720573425
           ],
           "z": [
            0.342013955116272,
            0.2282000035047531
           ]
          },
          {
           "line": {
            "color": "black",
            "width": 2
           },
           "mode": "lines",
           "showlegend": false,
           "type": "scatter3d",
           "x": [
            -0.0019000000320374966,
            -0.0020000000949949026
           ],
           "y": [
            0.9692999720573425,
            0.996999979019165
           ],
           "z": [
            0.2282000035047531,
            -0.012400000356137753
           ]
          },
          {
           "line": {
            "color": "black",
            "width": 2
           },
           "mode": "lines",
           "showlegend": false,
           "type": "scatter3d",
           "x": [
            -0.0020000000949949026,
            -0.04529999941587448
           ],
           "y": [
            0.996999979019165,
            0.9214000105857849
           ],
           "z": [
            -0.012400000356137753,
            -0.20730000734329224
           ]
          },
          {
           "line": {
            "color": "black",
            "width": 2
           },
           "mode": "lines",
           "showlegend": false,
           "type": "scatter3d",
           "x": [
            -0.04529999941587448,
            -0.11640000343322754
           ],
           "y": [
            0.9214000105857849,
            0.7821999788284302
           ],
           "z": [
            -0.20730000734329224,
            -0.3912999927997589
           ]
          }
         ],
         "name": "38"
        },
        {
         "data": [
          {
           "marker": {
            "color": "blue",
            "size": 4
           },
           "mode": "markers+text",
           "name": "Landmarks",
           "text": [
            "0",
            "1",
            "2",
            "3",
            "4",
            "5",
            "6",
            "7",
            "8",
            "9",
            "10",
            "11",
            "12",
            "13",
            "14",
            "15",
            "16",
            "17",
            "18",
            "19"
           ],
           "textfont": {
            "color": "black",
            "size": 8
           },
           "textposition": "top center",
           "type": "scatter3d",
           "x": {
            "bdata": "AAAAAMCoMjzQpeg9hJTnPGwJ+bpoNEa8JgmGPjrA9T5vEgO7OwfePe3t3D4AoSA/fow5ve8FwT3IzaU+6HwBPyBj7r0I56Q8QCKZPhgUxT4=",
            "dtype": "f4"
           },
           "y": {
            "bdata": "AAAAAGJ4+D7UNUc/WDdsPwskeD/jvrQ/Sfa3P52FuD9kO38/6E/EP5eWvj+95bE/3+BrP34DuT/hqtY/EYvGP0I+SD+fu5g/vbqWPz0NeT8=",
            "dtype": "f4"
           },
           "z": {
            "bdata": "AAAAAK+AqD4ue+09UkXBvUOtaT6OTS0+WjUQPspk9j1fKUu837HzvSNYJL5XxTG+dEZUvsZjor4QecO+mX7AvnlYyL4OEAC/BpYOv+AhCb8=",
            "dtype": "f4"
           }
          },
          {
           "line": {
            "color": "black",
            "width": 2
           },
           "mode": "lines",
           "showlegend": false,
           "type": "scatter3d",
           "x": [
            0,
            0.010904490947723389
           ],
           "y": [
            0,
            0.485293447971344
           ],
           "z": [
            0,
            0.32910677790641785
           ]
          },
          {
           "line": {
            "color": "black",
            "width": 2
           },
           "mode": "lines",
           "showlegend": false,
           "type": "scatter3d",
           "x": [
            0.010904490947723389,
            0.11359751224517822
           ],
           "y": [
            0.485293447971344,
            0.7781651020050049
           ],
           "z": [
            0.32910677790641785,
            0.1159576028585434
           ]
          },
          {
           "line": {
            "color": "black",
            "width": 2
           },
           "mode": "lines",
           "showlegend": false,
           "type": "scatter3d",
           "x": [
            0.11359751224517822,
            0.02826905995607376
           ],
           "y": [
            0.7781651020050049,
            0.9227194786071777
           ],
           "z": [
            0.1159576028585434,
            -0.09437049925327301
           ]
          },
          {
           "line": {
            "color": "black",
            "width": 2
           },
           "mode": "lines",
           "showlegend": false,
           "type": "scatter3d",
           "x": [
            0,
            -0.0019000000320374966
           ],
           "y": [
            0,
            0.9692999720573425
           ],
           "z": [
            0,
            0.2282000035047531
           ]
          },
          {
           "line": {
            "color": "black",
            "width": 2
           },
           "mode": "lines",
           "showlegend": false,
           "type": "scatter3d",
           "x": [
            -0.0019000000320374966,
            -0.012097455561161041
           ],
           "y": [
            0.9692999720573425,
            1.412075400352478
           ],
           "z": [
            0.2282000035047531,
            0.16924116015434265
           ]
          },
          {
           "line": {
            "color": "black",
            "width": 2
           },
           "mode": "lines",
           "showlegend": false,
           "type": "scatter3d",
           "x": [
            -0.012097455561161041,
            0.261788547039032
           ],
           "y": [
            1.412075400352478,
            1.4372035264968872
           ],
           "z": [
            0.16924116015434265,
            0.14082852005958557
           ]
          },
          {
           "line": {
            "color": "black",
            "width": 2
           },
           "mode": "lines",
           "showlegend": false,
           "type": "scatter3d",
           "x": [
            0.261788547039032,
            0.4799821972846985
           ],
           "y": [
            1.4372035264968872,
            1.4415775537490845
           ],
           "z": [
            0.14082852005958557,
            0.12030942738056183
           ]
          },
          {
           "line": {
            "color": "black",
            "width": 2
           },
           "mode": "lines",
           "showlegend": false,
           "type": "scatter3d",
           "x": [
            0,
            -0.0020000000949949026
           ],
           "y": [
            0,
            0.996999979019165
           ],
           "z": [
            0,
            -0.012400000356137753
           ]
          },
          {
           "line": {
            "color": "black",
            "width": 2
           },
           "mode": "lines",
           "showlegend": false,
           "type": "scatter3d",
           "x": [
            -0.0020000000949949026,
            0.1084122285246849
           ],
           "y": [
            0.996999979019165,
            1.5336885452270508
           ],
           "z": [
            -0.012400000356137753,
            -0.11899160593748093
           ]
          },
          {
           "line": {
            "color": "black",
            "width": 2
           },
           "mode": "lines",
           "showlegend": false,
           "type": "scatter3d",
           "x": [
            0.1084122285246849,
            0.43150272965431213
           ],
           "y": [
            1.5336885452270508,
            1.4889706373214722
           ],
           "z": [
            -0.11899160593748093,
            -0.16049246490001678
           ]
          },
          {
           "line": {
            "color": "black",
            "width": 2
           },
           "mode": "lines",
           "showlegend": false,
           "type": "scatter3d",
           "x": [
            0.43150272965431213,
            0.6274566650390625
           ],
           "y": [
            1.4889706373214722,
            1.38982355594635
           ],
           "z": [
            -0.16049246490001678,
            -0.173604354262352
           ]
          },
          {
           "line": {
            "color": "black",
            "width": 2
           },
           "mode": "lines",
           "showlegend": false,
           "type": "scatter3d",
           "x": [
            0,
            -0.04529999941587448
           ],
           "y": [
            0,
            0.9214000105857849
           ],
           "z": [
            0,
            -0.20730000734329224
           ]
          },
          {
           "line": {
            "color": "black",
            "width": 2
           },
           "mode": "lines",
           "showlegend": false,
           "type": "scatter3d",
           "x": [
            -0.04529999941587448,
            0.09424959868192673
           ],
           "y": [
            0.9214000105857849,
            1.4454190731048584
           ],
           "z": [
            -0.20730000734329224,
            -0.3171674609184265
           ]
          },
          {
           "line": {
            "color": "black",
            "width": 2
           },
           "mode": "lines",
           "showlegend": false,
           "type": "scatter3d",
           "x": [
            0.09424959868192673,
            0.3238356113433838
           ],
           "y": [
            1.4454190731048584,
            1.677089810371399
           ],
           "z": [
            -0.3171674609184265,
            -0.38178300857543945
           ]
          },
          {
           "line": {
            "color": "black",
            "width": 2
           },
           "mode": "lines",
           "showlegend": false,
           "type": "scatter3d",
           "x": [
            0.3238356113433838,
            0.5058121681213379
           ],
           "y": [
            1.677089810371399,
            1.5511189699172974
           ],
           "z": [
            -0.38178300857543945,
            -0.3759658634662628
           ]
          },
          {
           "line": {
            "color": "black",
            "width": 2
           },
           "mode": "lines",
           "showlegend": false,
           "type": "scatter3d",
           "x": [
            0,
            -0.11640000343322754
           ],
           "y": [
            0,
            0.7821999788284302
           ],
           "z": [
            0,
            -0.3912999927997589
           ]
          },
          {
           "line": {
            "color": "black",
            "width": 2
           },
           "mode": "lines",
           "showlegend": false,
           "type": "scatter3d",
           "x": [
            -0.11640000343322754,
            0.020129695534706116
           ],
           "y": [
            0.7821999788284302,
            1.1932257413864136
           ],
           "z": [
            -0.3912999927997589,
            -0.5002449750900269
           ]
          },
          {
           "line": {
            "color": "black",
            "width": 2
           },
           "mode": "lines",
           "showlegend": false,
           "type": "scatter3d",
           "x": [
            0.020129695534706116,
            0.2990894317626953
           ],
           "y": [
            1.1932257413864136,
            1.177573800086975
           ],
           "z": [
            -0.5002449750900269,
            -0.5569766759872437
           ]
          },
          {
           "line": {
            "color": "black",
            "width": 2
           },
           "mode": "lines",
           "showlegend": false,
           "type": "scatter3d",
           "x": [
            0.2990894317626953,
            0.3849189281463623
           ],
           "y": [
            1.177573800086975,
            0.9728582501411438
           ],
           "z": [
            -0.5569766759872437,
            -0.5356731414794922
           ]
          },
          {
           "line": {
            "color": "black",
            "width": 2
           },
           "mode": "lines",
           "showlegend": false,
           "type": "scatter3d",
           "x": [
            0.010904490947723389,
            -0.0019000000320374966
           ],
           "y": [
            0.485293447971344,
            0.9692999720573425
           ],
           "z": [
            0.32910677790641785,
            0.2282000035047531
           ]
          },
          {
           "line": {
            "color": "black",
            "width": 2
           },
           "mode": "lines",
           "showlegend": false,
           "type": "scatter3d",
           "x": [
            -0.0019000000320374966,
            -0.0020000000949949026
           ],
           "y": [
            0.9692999720573425,
            0.996999979019165
           ],
           "z": [
            0.2282000035047531,
            -0.012400000356137753
           ]
          },
          {
           "line": {
            "color": "black",
            "width": 2
           },
           "mode": "lines",
           "showlegend": false,
           "type": "scatter3d",
           "x": [
            -0.0020000000949949026,
            -0.04529999941587448
           ],
           "y": [
            0.996999979019165,
            0.9214000105857849
           ],
           "z": [
            -0.012400000356137753,
            -0.20730000734329224
           ]
          },
          {
           "line": {
            "color": "black",
            "width": 2
           },
           "mode": "lines",
           "showlegend": false,
           "type": "scatter3d",
           "x": [
            -0.04529999941587448,
            -0.11640000343322754
           ],
           "y": [
            0.9214000105857849,
            0.7821999788284302
           ],
           "z": [
            -0.20730000734329224,
            -0.3912999927997589
           ]
          }
         ],
         "name": "39"
        },
        {
         "data": [
          {
           "marker": {
            "color": "blue",
            "size": 4
           },
           "mode": "markers+text",
           "name": "Landmarks",
           "text": [
            "0",
            "1",
            "2",
            "3",
            "4",
            "5",
            "6",
            "7",
            "8",
            "9",
            "10",
            "11",
            "12",
            "13",
            "14",
            "15",
            "16",
            "17",
            "18",
            "19"
           ],
           "textfont": {
            "color": "black",
            "size": 8
           },
           "textposition": "top center",
           "type": "scatter3d",
           "x": {
            "bdata": "AAAAAEC53zvpzLQ92LA4vGwJ+brD4ou9dJJQPrjJ1z5vEgO7qRHHPAU+sz4x7w0/fow5vRuGwD2OoaU+1WgBPyBj7r3YGsA8h8VpPsTs2z4=",
            "dtype": "f4"
           },
           "y": {
            "bdata": "AAAAAFzZ+j4uvEc/khlqPwskeD+PE7Q/fEe5P3Iluz9kO38/uBfFP/6vwD+SRLY/3+BrP7gFuT8WsNY/u5HGP0I+SD/KyJg/UCWyP7A4rz8=",
            "dtype": "f4"
           },
           "z": {
            "bdata": "AAAAAC6GpT5QPcg9jLXnvUOtaT4Ixio+wWUNPrZg8T1fKUu8vFgPvowlLL5jJDC+dEZUvthhor4AeMO+Nn/AvnlYyL6dlJO+IKuXvhNxx74=",
            "dtype": "f4"
           }
          },
          {
           "line": {
            "color": "black",
            "width": 2
           },
           "mode": "lines",
           "showlegend": false,
           "type": "scatter3d",
           "x": [
            0,
            0.006827503442764282
           ],
           "y": [
            0,
            0.4899395704269409
           ],
           "z": [
            0,
            0.32328933477401733
           ]
          },
          {
           "line": {
            "color": "black",
            "width": 2
           },
           "mode": "lines",
           "showlegend": false,
           "type": "scatter3d",
           "x": [
            0.006827503442764282,
            0.08828146010637283
           ],
           "y": [
            0.4899395704269409,
            0.7802151441574097
           ],
           "z": [
            0.32328933477401733,
            0.09777319431304932
           ]
          },
          {
           "line": {
            "color": "black",
            "width": 2
           },
           "mode": "lines",
           "showlegend": false,
           "type": "scatter3d",
           "x": [
            0.08828146010637283,
            -0.011272631585597992
           ],
           "y": [
            0.7802151441574097,
            0.9144526720046997
           ],
           "z": [
            0.09777319431304932,
            -0.11313924193382263
           ]
          },
          {
           "line": {
            "color": "black",
            "width": 2
           },
           "mode": "lines",
           "showlegend": false,
           "type": "scatter3d",
           "x": [
            0,
            -0.0019000000320374966
           ],
           "y": [
            0,
            0.9692999720573425
           ],
           "z": [
            0,
            0.2282000035047531
           ]
          },
          {
           "line": {
            "color": "black",
            "width": 2
           },
           "mode": "lines",
           "showlegend": false,
           "type": "scatter3d",
           "x": [
            -0.0019000000320374966,
            -0.06830360740423203
           ],
           "y": [
            0.9692999720573425,
            1.4068468809127808
           ],
           "z": [
            0.2282000035047531,
            0.1667710542678833
           ]
          },
          {
           "line": {
            "color": "black",
            "width": 2
           },
           "mode": "lines",
           "showlegend": false,
           "type": "scatter3d",
           "x": [
            -0.06830360740423203,
            0.20368367433547974
           ],
           "y": [
            1.4068468809127808,
            1.4474940299987793
           ],
           "z": [
            0.1667710542678833,
            0.13808347284793854
           ]
          },
          {
           "line": {
            "color": "black",
            "width": 2
           },
           "mode": "lines",
           "showlegend": false,
           "type": "scatter3d",
           "x": [
            0.20368367433547974,
            0.4214608669281006
           ],
           "y": [
            1.4474940299987793,
            1.4620802402496338
           ],
           "z": [
            0.13808347284793854,
            0.11786024272441864
           ]
          },
          {
           "line": {
            "color": "black",
            "width": 2
           },
           "mode": "lines",
           "showlegend": false,
           "type": "scatter3d",
           "x": [
            0,
            -0.0020000000949949026
           ],
           "y": [
            0,
            0.996999979019165
           ],
           "z": [
            0,
            -0.012400000356137753
           ]
          },
          {
           "line": {
            "color": "black",
            "width": 2
           },
           "mode": "lines",
           "showlegend": false,
           "type": "scatter3d",
           "x": [
            -0.0020000000949949026,
            0.024300413206219673
           ],
           "y": [
            0.996999979019165,
            1.5397863388061523
           ],
           "z": [
            -0.012400000356137753,
            -0.13998693227767944
           ]
          },
          {
           "line": {
            "color": "black",
            "width": 2
           },
           "mode": "lines",
           "showlegend": false,
           "type": "scatter3d",
           "x": [
            0.024300413206219673,
            0.35008254647254944
           ],
           "y": [
            1.5397863388061523,
            1.505370855331421
           ],
           "z": [
            -0.13998693227767944,
            -0.16811197996139526
           ]
          },
          {
           "line": {
            "color": "black",
            "width": 2
           },
           "mode": "lines",
           "showlegend": false,
           "type": "scatter3d",
           "x": [
            0.35008254647254944,
            0.5544310212135315
           ],
           "y": [
            1.505370855331421,
            1.4239675998687744
           ],
           "z": [
            -0.16811197996139526,
            -0.1720138043165207
           ]
          },
          {
           "line": {
            "color": "black",
            "width": 2
           },
           "mode": "lines",
           "showlegend": false,
           "type": "scatter3d",
           "x": [
            0,
            -0.04529999941587448
           ],
           "y": [
            0,
            0.9214000105857849
           ],
           "z": [
            0,
            -0.20730000734329224
           ]
          },
          {
           "line": {
            "color": "black",
            "width": 2
           },
           "mode": "lines",
           "showlegend": false,
           "type": "scatter3d",
           "x": [
            -0.04529999941587448,
            0.09400578588247299
           ],
           "y": [
            0.9214000105857849,
            1.4454870223999023
           ],
           "z": [
            -0.20730000734329224,
            -0.317152738571167
           ]
          },
          {
           "line": {
            "color": "black",
            "width": 2
           },
           "mode": "lines",
           "showlegend": false,
           "type": "scatter3d",
           "x": [
            0.09400578588247299,
            0.3234981894493103
           ],
           "y": [
            1.4454870223999023,
            1.6772487163543701
           ],
           "z": [
            -0.317152738571167,
            -0.38177490234375
           ]
          },
          {
           "line": {
            "color": "black",
            "width": 2
           },
           "mode": "lines",
           "showlegend": false,
           "type": "scatter3d",
           "x": [
            0.3234981894493103,
            0.5055058598518372
           ],
           "y": [
            1.6772487163543701,
            1.551322340965271
           ],
           "z": [
            -0.38177490234375,
            -0.3759705424308777
           ]
          },
          {
           "line": {
            "color": "black",
            "width": 2
           },
           "mode": "lines",
           "showlegend": false,
           "type": "scatter3d",
           "x": [
            0,
            -0.11640000343322754
           ],
           "y": [
            0,
            0.7821999788284302
           ],
           "z": [
            0,
            -0.3912999927997589
           ]
          },
          {
           "line": {
            "color": "black",
            "width": 2
           },
           "mode": "lines",
           "showlegend": false,
           "type": "scatter3d",
           "x": [
            -0.11640000343322754,
            0.023450300097465515
           ],
           "y": [
            0.7821999788284302,
            1.1936275959014893
           ],
           "z": [
            -0.3912999927997589,
            -0.28824320435523987
           ]
          },
          {
           "line": {
            "color": "black",
            "width": 2
           },
           "mode": "lines",
           "showlegend": false,
           "type": "scatter3d",
           "x": [
            0.023450300097465515,
            0.2282925695180893
           ],
           "y": [
            1.1936275959014893,
            1.391763687133789
           ],
           "z": [
            -0.28824320435523987,
            -0.29622745513916016
           ]
          },
          {
           "line": {
            "color": "black",
            "width": 2
           },
           "mode": "lines",
           "showlegend": false,
           "type": "scatter3d",
           "x": [
            0.2282925695180893,
            0.429540753364563
           ],
           "y": [
            1.391763687133789,
            1.368917465209961
           ],
           "z": [
            -0.29622745513916016,
            -0.3895345628261566
           ]
          },
          {
           "line": {
            "color": "black",
            "width": 2
           },
           "mode": "lines",
           "showlegend": false,
           "type": "scatter3d",
           "x": [
            0.006827503442764282,
            -0.0019000000320374966
           ],
           "y": [
            0.4899395704269409,
            0.9692999720573425
           ],
           "z": [
            0.32328933477401733,
            0.2282000035047531
           ]
          },
          {
           "line": {
            "color": "black",
            "width": 2
           },
           "mode": "lines",
           "showlegend": false,
           "type": "scatter3d",
           "x": [
            -0.0019000000320374966,
            -0.0020000000949949026
           ],
           "y": [
            0.9692999720573425,
            0.996999979019165
           ],
           "z": [
            0.2282000035047531,
            -0.012400000356137753
           ]
          },
          {
           "line": {
            "color": "black",
            "width": 2
           },
           "mode": "lines",
           "showlegend": false,
           "type": "scatter3d",
           "x": [
            -0.0020000000949949026,
            -0.04529999941587448
           ],
           "y": [
            0.996999979019165,
            0.9214000105857849
           ],
           "z": [
            -0.012400000356137753,
            -0.20730000734329224
           ]
          },
          {
           "line": {
            "color": "black",
            "width": 2
           },
           "mode": "lines",
           "showlegend": false,
           "type": "scatter3d",
           "x": [
            -0.04529999941587448,
            -0.11640000343322754
           ],
           "y": [
            0.9214000105857849,
            0.7821999788284302
           ],
           "z": [
            -0.20730000734329224,
            -0.3912999927997589
           ]
          }
         ],
         "name": "40"
        },
        {
         "data": [
          {
           "marker": {
            "color": "blue",
            "size": 4
           },
           "mode": "markers+text",
           "name": "Landmarks",
           "text": [
            "0",
            "1",
            "2",
            "3",
            "4",
            "5",
            "6",
            "7",
            "8",
            "9",
            "10",
            "11",
            "12",
            "13",
            "14",
            "15",
            "16",
            "17",
            "18",
            "19"
           ],
           "textfont": {
            "color": "black",
            "size": 8
           },
           "textposition": "top center",
           "type": "scatter3d",
           "x": {
            "bdata": "AAAAAEA+yzsPf7w9gDszu2wJ+brPuJi9MtpJPgVw1D5vEgO7+5jjPG7stD5i+Q4/fow5vcGRwD26paU+oWoBPyBj7r0qJRe9uGFcPkVSxz4=",
            "dtype": "f4"
           },
           "y": {
            "bdata": "AAAAADZj+z6ozkg/FC1sPwskeD9lGLQ/FmS5P5D1uj9kO38/6z3FPw72wD/80rY/3+BrPywGuT9/sNY/35HGP0I+SD9k6Zs/a7qqP8FXnD8=",
            "dtype": "f4"
           },
           "z": {
            "bdata": "AAAAAG53qD4azd89VHjPvUOtaT68wTM+r6IUPlgt/T1fKUu8blcJvsWAKb5p1TC+dEZUvnZVor62Z8O+CnTAvnlYyL5Mk6u+ODrNvott974=",
            "dtype": "f4"
           }
          },
          {
           "line": {
            "color": "black",
            "width": 2
           },
           "mode": "lines",
           "showlegend": false,
           "type": "scatter3d",
           "x": [
            0,
            0.006202489137649536
           ],
           "y": [
            0,
            0.4909912943840027
           ],
           "z": [
            0,
            0.3290361762046814
           ]
          },
          {
           "line": {
            "color": "black",
            "width": 2
           },
           "mode": "lines",
           "showlegend": false,
           "type": "scatter3d",
           "x": [
            0.006202489137649536,
            0.09203922003507614
           ],
           "y": [
            0.4909912943840027,
            0.7844033241271973
           ],
           "z": [
            0.3290361762046814,
            0.10927791893482208
           ]
          },
          {
           "line": {
            "color": "black",
            "width": 2
           },
           "mode": "lines",
           "showlegend": false,
           "type": "scatter3d",
           "x": [
            0.09203922003507614,
            -0.0027348697185516357
           ],
           "y": [
            0.7844033241271973,
            0.922562837600708
           ],
           "z": [
            0.10927791893482208,
            -0.10130372643470764
           ]
          },
          {
           "line": {
            "color": "black",
            "width": 2
           },
           "mode": "lines",
           "showlegend": false,
           "type": "scatter3d",
           "x": [
            0,
            -0.0019000000320374966
           ],
           "y": [
            0,
            0.9692999720573425
           ],
           "z": [
            0,
            0.2282000035047531
           ]
          },
          {
           "line": {
            "color": "black",
            "width": 2
           },
           "mode": "lines",
           "showlegend": false,
           "type": "scatter3d",
           "x": [
            -0.0019000000320374966,
            -0.07457124441862106
           ],
           "y": [
            0.9692999720573425,
            1.4069944620132446
           ],
           "z": [
            0.2282000035047531,
            0.17554372549057007
           ]
          },
          {
           "line": {
            "color": "black",
            "width": 2
           },
           "mode": "lines",
           "showlegend": false,
           "type": "scatter3d",
           "x": [
            -0.07457124441862106,
            0.19712141156196594
           ],
           "y": [
            1.4069944620132446,
            1.4483668804168701
           ],
           "z": [
            0.17554372549057007,
            0.14515183866024017
           ]
          },
          {
           "line": {
            "color": "black",
            "width": 2
           },
           "mode": "lines",
           "showlegend": false,
           "type": "scatter3d",
           "x": [
            0.19712141156196594,
            0.41491714119911194
           ],
           "y": [
            1.4483668804168701,
            1.4606189727783203
           ],
           "z": [
            0.14515183866024017,
            0.12362164258956909
           ]
          },
          {
           "line": {
            "color": "black",
            "width": 2
           },
           "mode": "lines",
           "showlegend": false,
           "type": "scatter3d",
           "x": [
            0,
            -0.0020000000949949026
           ],
           "y": [
            0,
            0.996999979019165
           ],
           "z": [
            0,
            -0.012400000356137753
           ]
          },
          {
           "line": {
            "color": "black",
            "width": 2
           },
           "mode": "lines",
           "showlegend": false,
           "type": "scatter3d",
           "x": [
            -0.0020000000949949026,
            0.027782907709479332
           ],
           "y": [
            0.996999979019165,
            1.5409520864486694
           ],
           "z": [
            -0.012400000356137753,
            -0.1341225802898407
           ]
          },
          {
           "line": {
            "color": "black",
            "width": 2
           },
           "mode": "lines",
           "showlegend": false,
           "type": "scatter3d",
           "x": [
            0.027782907709479332,
            0.35336631536483765
           ],
           "y": [
            1.5409520864486694,
            1.5075089931488037
           ],
           "z": [
            -0.1341225802898407,
            -0.1655302792787552
           ]
          },
          {
           "line": {
            "color": "black",
            "width": 2
           },
           "mode": "lines",
           "showlegend": false,
           "type": "scatter3d",
           "x": [
            0.35336631536483765,
            0.5584927797317505
           ],
           "y": [
            1.5075089931488037,
            1.4283137321472168
           ],
           "z": [
            -0.1655302792787552,
            -0.17268909513950348
           ]
          },
          {
           "line": {
            "color": "black",
            "width": 2
           },
           "mode": "lines",
           "showlegend": false,
           "type": "scatter3d",
           "x": [
            0,
            -0.04529999941587448
           ],
           "y": [
            0,
            0.9214000105857849
           ],
           "z": [
            0,
            -0.20730000734329224
           ]
          },
          {
           "line": {
            "color": "black",
            "width": 2
           },
           "mode": "lines",
           "showlegend": false,
           "type": "scatter3d",
           "x": [
            -0.04529999941587448,
            0.09402800351381302
           ],
           "y": [
            0.9214000105857849,
            1.4455008506774902
           ],
           "z": [
            -0.20730000734329224,
            -0.317058265209198
           ]
          },
          {
           "line": {
            "color": "black",
            "width": 2
           },
           "mode": "lines",
           "showlegend": false,
           "type": "scatter3d",
           "x": [
            0.09402800351381302,
            0.32353001832962036
           ],
           "y": [
            1.4455008506774902,
            1.677261233329773
           ],
           "z": [
            -0.317058265209198,
            -0.3816506266593933
           ]
          },
          {
           "line": {
            "color": "black",
            "width": 2
           },
           "mode": "lines",
           "showlegend": false,
           "type": "scatter3d",
           "x": [
            0.32353001832962036,
            0.5055332779884338
           ],
           "y": [
            1.677261233329773,
            1.5513266324996948
           ],
           "z": [
            -0.3816506266593933,
            -0.3758853077888489
           ]
          },
          {
           "line": {
            "color": "black",
            "width": 2
           },
           "mode": "lines",
           "showlegend": false,
           "type": "scatter3d",
           "x": [
            0,
            -0.11640000343322754
           ],
           "y": [
            0,
            0.7821999788284302
           ],
           "z": [
            0,
            -0.3912999927997589
           ]
          },
          {
           "line": {
            "color": "black",
            "width": 2
           },
           "mode": "lines",
           "showlegend": false,
           "type": "scatter3d",
           "x": [
            -0.11640000343322754,
            -0.03690067678689957
           ],
           "y": [
            0.7821999788284302,
            1.21806001663208
           ],
           "z": [
            -0.3912999927997589,
            -0.3351081609725952
           ]
          },
          {
           "line": {
            "color": "black",
            "width": 2
           },
           "mode": "lines",
           "showlegend": false,
           "type": "scatter3d",
           "x": [
            -0.03690067678689957,
            0.2152165174484253
           ],
           "y": [
            1.21806001663208,
            1.333814024925232
           ],
           "z": [
            -0.3351081609725952,
            -0.4008347988128662
           ]
          },
          {
           "line": {
            "color": "black",
            "width": 2
           },
           "mode": "lines",
           "showlegend": false,
           "type": "scatter3d",
           "x": [
            0.2152165174484253,
            0.38929954171180725
           ],
           "y": [
            1.333814024925232,
            1.2214280366897583
           ],
           "z": [
            -0.4008347988128662,
            -0.48325762152671814
           ]
          },
          {
           "line": {
            "color": "black",
            "width": 2
           },
           "mode": "lines",
           "showlegend": false,
           "type": "scatter3d",
           "x": [
            0.006202489137649536,
            -0.0019000000320374966
           ],
           "y": [
            0.4909912943840027,
            0.9692999720573425
           ],
           "z": [
            0.3290361762046814,
            0.2282000035047531
           ]
          },
          {
           "line": {
            "color": "black",
            "width": 2
           },
           "mode": "lines",
           "showlegend": false,
           "type": "scatter3d",
           "x": [
            -0.0019000000320374966,
            -0.0020000000949949026
           ],
           "y": [
            0.9692999720573425,
            0.996999979019165
           ],
           "z": [
            0.2282000035047531,
            -0.012400000356137753
           ]
          },
          {
           "line": {
            "color": "black",
            "width": 2
           },
           "mode": "lines",
           "showlegend": false,
           "type": "scatter3d",
           "x": [
            -0.0020000000949949026,
            -0.04529999941587448
           ],
           "y": [
            0.996999979019165,
            0.9214000105857849
           ],
           "z": [
            -0.012400000356137753,
            -0.20730000734329224
           ]
          },
          {
           "line": {
            "color": "black",
            "width": 2
           },
           "mode": "lines",
           "showlegend": false,
           "type": "scatter3d",
           "x": [
            -0.04529999941587448,
            -0.11640000343322754
           ],
           "y": [
            0.9214000105857849,
            0.7821999788284302
           ],
           "z": [
            -0.20730000734329224,
            -0.3912999927997589
           ]
          }
         ],
         "name": "41"
        },
        {
         "data": [
          {
           "marker": {
            "color": "blue",
            "size": 4
           },
           "mode": "markers+text",
           "name": "Landmarks",
           "text": [
            "0",
            "1",
            "2",
            "3",
            "4",
            "5",
            "6",
            "7",
            "8",
            "9",
            "10",
            "11",
            "12",
            "13",
            "14",
            "15",
            "16",
            "17",
            "18",
            "19"
           ],
           "textfont": {
            "color": "black",
            "size": 8
           },
           "textposition": "top center",
           "type": "scatter3d",
           "x": {
            "bdata": "AAAAAIDXDzztr8Q9IFowu2wJ+brJXz69kkFoPqbe4z5vEgO7nARMPXDzvz67MhQ/fow5vX+twD33paU+vWwBPyBj7r0Ok0+9vHE6Pg0bPj4=",
            "dtype": "f4"
           },
           "y": {
            "bdata": "AAAAAKaZ+T4s8EY/JmtpPwskeD9yb7Q/EnO4P3E5uT9kO38/e7fEP9RJvz/Vv7Q/3+BrP5AEuT8NsNY/9JLGP0I+SD9WjZo/qnuFP2uQUz8=",
            "dtype": "f4"
           },
           "z": {
            "bdata": "AAAAAAblpD4AZ8g9MMDnvUOtaT5rGis+j3wOPiYA9T1fKUu8AQcUviucLb48SDC+dEZUvm9ror7RhMO+WonAvnlYyL5sygK/BMcDv4QS7L4=",
            "dtype": "f4"
           }
          },
          {
           "line": {
            "color": "black",
            "width": 2
           },
           "mode": "lines",
           "showlegend": false,
           "type": "scatter3d",
           "x": [
            0,
            0.008779406547546387
           ],
           "y": [
            0,
            0.4875003695487976
           ],
           "z": [
            0,
            0.3220598101615906
           ]
          },
          {
           "line": {
            "color": "black",
            "width": 2
           },
           "mode": "lines",
           "showlegend": false,
           "type": "scatter3d",
           "x": [
            0.008779406547546387,
            0.09603867679834366
           ],
           "y": [
            0.4875003695487976,
            0.7771022319793701
           ],
           "z": [
            0.3220598101615906,
            0.09785270690917969
           ]
          },
          {
           "line": {
            "color": "black",
            "width": 2
           },
           "mode": "lines",
           "showlegend": false,
           "type": "scatter3d",
           "x": [
            0.09603867679834366,
            -0.002690918743610382
           ],
           "y": [
            0.7771022319793701,
            0.911791205406189
           ],
           "z": [
            0.09785270690917969,
            -0.11315953731536865
           ]
          },
          {
           "line": {
            "color": "black",
            "width": 2
           },
           "mode": "lines",
           "showlegend": false,
           "type": "scatter3d",
           "x": [
            0,
            -0.0019000000320374966
           ],
           "y": [
            0,
            0.9692999720573425
           ],
           "z": [
            0,
            0.2282000035047531
           ]
          },
          {
           "line": {
            "color": "black",
            "width": 2
           },
           "mode": "lines",
           "showlegend": false,
           "type": "scatter3d",
           "x": [
            -0.0019000000320374966,
            -0.046478066593408585
           ],
           "y": [
            0.9692999720573425,
            1.4096510410308838
           ],
           "z": [
            0.2282000035047531,
            0.167092964053154
           ]
          },
          {
           "line": {
            "color": "black",
            "width": 2
           },
           "mode": "lines",
           "showlegend": false,
           "type": "scatter3d",
           "x": [
            -0.046478066593408585,
            0.22681263089179993
           ],
           "y": [
            1.4096510410308838,
            1.441011667251587
           ],
           "z": [
            0.167092964053154,
            0.13914702832698822
           ]
          },
          {
           "line": {
            "color": "black",
            "width": 2
           },
           "mode": "lines",
           "showlegend": false,
           "type": "scatter3d",
           "x": [
            0.22681263089179993,
            0.44505804777145386
           ],
           "y": [
            1.441011667251587,
            1.4470654726028442
           ],
           "z": [
            0.13914702832698822,
            0.11962918937206268
           ]
          },
          {
           "line": {
            "color": "black",
            "width": 2
           },
           "mode": "lines",
           "showlegend": false,
           "type": "scatter3d",
           "x": [
            0,
            -0.0020000000949949026
           ],
           "y": [
            0,
            0.996999979019165
           ],
           "z": [
            0,
            -0.012400000356137753
           ]
          },
          {
           "line": {
            "color": "black",
            "width": 2
           },
           "mode": "lines",
           "showlegend": false,
           "type": "scatter3d",
           "x": [
            -0.0020000000949949026,
            0.049809083342552185
           ],
           "y": [
            0.996999979019165,
            1.5368493795394897
           ],
           "z": [
            -0.012400000356137753,
            -0.14455796778202057
           ]
          },
          {
           "line": {
            "color": "black",
            "width": 2
           },
           "mode": "lines",
           "showlegend": false,
           "type": "scatter3d",
           "x": [
            0.049809083342552185,
            0.37490415573120117
           ],
           "y": [
            1.5368493795394897,
            1.4944405555725098
           ],
           "z": [
            -0.14455796778202057,
            -0.16954104602336884
           ]
          },
          {
           "line": {
            "color": "black",
            "width": 2
           },
           "mode": "lines",
           "showlegend": false,
           "type": "scatter3d",
           "x": [
            0.37490415573120117,
            0.578899085521698
           ],
           "y": [
            1.4944405555725098,
            1.4121042490005493
           ],
           "z": [
            -0.16954104602336884,
            -0.17215055227279663
           ]
          },
          {
           "line": {
            "color": "black",
            "width": 2
           },
           "mode": "lines",
           "showlegend": false,
           "type": "scatter3d",
           "x": [
            0,
            -0.04529999941587448
           ],
           "y": [
            0,
            0.9214000105857849
           ],
           "z": [
            0,
            -0.20730000734329224
           ]
          },
          {
           "line": {
            "color": "black",
            "width": 2
           },
           "mode": "lines",
           "showlegend": false,
           "type": "scatter3d",
           "x": [
            -0.04529999941587448,
            0.09408091753721237
           ],
           "y": [
            0.9214000105857849,
            1.4454517364501953
           ],
           "z": [
            -0.20730000734329224,
            -0.3172259032726288
           ]
          },
          {
           "line": {
            "color": "black",
            "width": 2
           },
           "mode": "lines",
           "showlegend": false,
           "type": "scatter3d",
           "x": [
            0.09408091753721237,
            0.323531836271286
           ],
           "y": [
            1.4454517364501953,
            1.6772476434707642
           ],
           "z": [
            -0.3172259032726288,
            -0.38187268376350403
           ]
          },
          {
           "line": {
            "color": "black",
            "width": 2
           },
           "mode": "lines",
           "showlegend": false,
           "type": "scatter3d",
           "x": [
            0.323531836271286,
            0.5055654644966125
           ],
           "y": [
            1.6772476434707642,
            1.5513596534729004
           ],
           "z": [
            -0.38187268376350403,
            -0.37604790925979614
           ]
          },
          {
           "line": {
            "color": "black",
            "width": 2
           },
           "mode": "lines",
           "showlegend": false,
           "type": "scatter3d",
           "x": [
            0,
            -0.11640000343322754
           ],
           "y": [
            0,
            0.7821999788284302
           ],
           "z": [
            0,
            -0.3912999927997589
           ]
          },
          {
           "line": {
            "color": "black",
            "width": 2
           },
           "mode": "lines",
           "showlegend": false,
           "type": "scatter3d",
           "x": [
            -0.11640000343322754,
            -0.0506773516535759
           ],
           "y": [
            0.7821999788284302,
            1.2074382305145264
           ],
           "z": [
            -0.3912999927997589,
            -0.5109012126922607
           ]
          },
          {
           "line": {
            "color": "black",
            "width": 2
           },
           "mode": "lines",
           "showlegend": false,
           "type": "scatter3d",
           "x": [
            -0.0506773516535759,
            0.18207448720932007
           ],
           "y": [
            1.2074382305145264,
            1.0428364276885986
           ],
           "z": [
            -0.5109012126922607,
            -0.5147554874420166
           ]
          },
          {
           "line": {
            "color": "black",
            "width": 2
           },
           "mode": "lines",
           "showlegend": false,
           "type": "scatter3d",
           "x": [
            0.18207448720932007,
            0.1856500655412674
           ],
           "y": [
            1.0428364276885986,
            0.826422393321991
           ],
           "z": [
            -0.5147554874420166,
            -0.4610787630081177
           ]
          },
          {
           "line": {
            "color": "black",
            "width": 2
           },
           "mode": "lines",
           "showlegend": false,
           "type": "scatter3d",
           "x": [
            0.008779406547546387,
            -0.0019000000320374966
           ],
           "y": [
            0.4875003695487976,
            0.9692999720573425
           ],
           "z": [
            0.3220598101615906,
            0.2282000035047531
           ]
          },
          {
           "line": {
            "color": "black",
            "width": 2
           },
           "mode": "lines",
           "showlegend": false,
           "type": "scatter3d",
           "x": [
            -0.0019000000320374966,
            -0.0020000000949949026
           ],
           "y": [
            0.9692999720573425,
            0.996999979019165
           ],
           "z": [
            0.2282000035047531,
            -0.012400000356137753
           ]
          },
          {
           "line": {
            "color": "black",
            "width": 2
           },
           "mode": "lines",
           "showlegend": false,
           "type": "scatter3d",
           "x": [
            -0.0020000000949949026,
            -0.04529999941587448
           ],
           "y": [
            0.996999979019165,
            0.9214000105857849
           ],
           "z": [
            -0.012400000356137753,
            -0.20730000734329224
           ]
          },
          {
           "line": {
            "color": "black",
            "width": 2
           },
           "mode": "lines",
           "showlegend": false,
           "type": "scatter3d",
           "x": [
            -0.04529999941587448,
            -0.11640000343322754
           ],
           "y": [
            0.9214000105857849,
            0.7821999788284302
           ],
           "z": [
            -0.20730000734329224,
            -0.3912999927997589
           ]
          }
         ],
         "name": "42"
        },
        {
         "data": [
          {
           "marker": {
            "color": "blue",
            "size": 4
           },
           "mode": "markers+text",
           "name": "Landmarks",
           "text": [
            "0",
            "1",
            "2",
            "3",
            "4",
            "5",
            "6",
            "7",
            "8",
            "9",
            "10",
            "11",
            "12",
            "13",
            "14",
            "15",
            "16",
            "17",
            "18",
            "19"
           ],
           "textfont": {
            "color": "black",
            "size": 8
           },
           "textposition": "top center",
           "type": "scatter3d",
           "x": {
            "bdata": "AAAAAMB+WzzW5AE+ABYyPWwJ+boLRK08laeXPvC2Az9vEgO7LtUOPtvr6j78aSc/fow5vRe6vz2oL6U+9kABPyBj7r0aNnq9mphHPgvsdj4=",
            "dtype": "f4"
           },
           "y": {
            "bdata": "AAAAADLm9j42akY/sbVrPwskeD9wmrQ/nv61PzMntT9kO38/JMDCP/8uuT9rLqw/3+BrP40GuT8Ev9Y/Iq3GP0I+SD+E15o/7viKP4U9Xz8=",
            "dtype": "f4"
           },
           "z": {
            "bdata": "AAAAALE8qT54oPs9PCOzvUOtaT4spig+sOkNPgy39T1fKUu8+ycQvhH8J74BbCq+dEZUvnqSor5WvcO+MbvAvnlYyL6GEAK/VQEHv46E974=",
            "dtype": "f4"
           }
          },
          {
           "line": {
            "color": "black",
            "width": 2
           },
           "mode": "lines",
           "showlegend": false,
           "type": "scatter3d",
           "x": [
            0,
            0.013396918773651123
           ],
           "y": [
            0,
            0.4822250008583069
           ],
           "z": [
            0,
            0.3305411636829376
           ]
          },
          {
           "line": {
            "color": "black",
            "width": 2
           },
           "mode": "lines",
           "showlegend": false,
           "type": "scatter3d",
           "x": [
            0.013396918773651123,
            0.12684950232505798
           ],
           "y": [
            0.4822250008583069,
            0.7750581502914429
           ],
           "z": [
            0.3305411636829376,
            0.12286466360092163
           ]
          },
          {
           "line": {
            "color": "black",
            "width": 2
           },
           "mode": "lines",
           "showlegend": false,
           "type": "scatter3d",
           "x": [
            0.12684950232505798,
            0.04347801208496094
           ],
           "y": [
            0.7750581502914429,
            0.9207411408424377
           ],
           "z": [
            0.12286466360092163,
            -0.08746954798698425
           ]
          },
          {
           "line": {
            "color": "black",
            "width": 2
           },
           "mode": "lines",
           "showlegend": false,
           "type": "scatter3d",
           "x": [
            0,
            -0.0019000000320374966
           ],
           "y": [
            0,
            0.9692999720573425
           ],
           "z": [
            0,
            0.2282000035047531
           ]
          },
          {
           "line": {
            "color": "black",
            "width": 2
           },
           "mode": "lines",
           "showlegend": false,
           "type": "scatter3d",
           "x": [
            -0.0019000000320374966,
            0.021150609478354454
           ],
           "y": [
            0.9692999720573425,
            1.4109630584716797
           ],
           "z": [
            0.2282000035047531,
            0.16469639539718628
           ]
          },
          {
           "line": {
            "color": "black",
            "width": 2
           },
           "mode": "lines",
           "showlegend": false,
           "type": "scatter3d",
           "x": [
            0.021150609478354454,
            0.2962004244327545
           ],
           "y": [
            1.4109630584716797,
            1.421832799911499
           ],
           "z": [
            0.16469639539718628,
            0.13858675956726074
           ]
          },
          {
           "line": {
            "color": "black",
            "width": 2
           },
           "mode": "lines",
           "showlegend": false,
           "type": "scatter3d",
           "x": [
            0.2962004244327545,
            0.5145101547241211
           ],
           "y": [
            1.421832799911499,
            1.415258765220642
           ],
           "z": [
            0.13858675956726074,
            0.11997804045677185
           ]
          },
          {
           "line": {
            "color": "black",
            "width": 2
           },
           "mode": "lines",
           "showlegend": false,
           "type": "scatter3d",
           "x": [
            0,
            -0.0020000000949949026
           ],
           "y": [
            0,
            0.996999979019165
           ],
           "z": [
            0,
            -0.012400000356137753
           ]
          },
          {
           "line": {
            "color": "black",
            "width": 2
           },
           "mode": "lines",
           "showlegend": false,
           "type": "scatter3d",
           "x": [
            -0.0020000000949949026,
            0.13948509097099304
           ],
           "y": [
            0.996999979019165,
            1.5214886665344238
           ],
           "z": [
            -0.012400000356137753,
            -0.14077751338481903
           ]
          },
          {
           "line": {
            "color": "black",
            "width": 2
           },
           "mode": "lines",
           "showlegend": false,
           "type": "scatter3d",
           "x": [
            0.13948509097099304,
            0.45883068442344666
           ],
           "y": [
            1.5214886665344238,
            1.4467467069625854
           ],
           "z": [
            -0.14077751338481903,
            -0.1640474945306778
           ]
          },
          {
           "line": {
            "color": "black",
            "width": 2
           },
           "mode": "lines",
           "showlegend": false,
           "type": "scatter3d",
           "x": [
            0.45883068442344666,
            0.6539609432220459
           ],
           "y": [
            1.4467467069625854,
            1.345166563987732
           ],
           "z": [
            -0.1640474945306778,
            -0.1664276272058487
           ]
          },
          {
           "line": {
            "color": "black",
            "width": 2
           },
           "mode": "lines",
           "showlegend": false,
           "type": "scatter3d",
           "x": [
            0,
            -0.04529999941587448
           ],
           "y": [
            0,
            0.9214000105857849
           ],
           "z": [
            0,
            -0.20730000734329224
           ]
          },
          {
           "line": {
            "color": "black",
            "width": 2
           },
           "mode": "lines",
           "showlegend": false,
           "type": "scatter3d",
           "x": [
            -0.04529999941587448,
            0.09361665695905685
           ],
           "y": [
            0.9214000105857849,
            1.4455124139785767
           ],
           "z": [
            -0.20730000734329224,
            -0.3175237774848938
           ]
          },
          {
           "line": {
            "color": "black",
            "width": 2
           },
           "mode": "lines",
           "showlegend": false,
           "type": "scatter3d",
           "x": [
            0.09361665695905685,
            0.3226292133331299
           ],
           "y": [
            1.4455124139785767,
            1.6777043342590332
           ],
           "z": [
            -0.3175237774848938,
            -0.3823038935661316
           ]
          },
          {
           "line": {
            "color": "black",
            "width": 2
           },
           "mode": "lines",
           "showlegend": false,
           "type": "scatter3d",
           "x": [
            0.3226292133331299,
            0.5048974752426147
           ],
           "y": [
            1.6777043342590332,
            1.5521585941314697
           ],
           "z": [
            -0.3823038935661316,
            -0.37642815709114075
           ]
          },
          {
           "line": {
            "color": "black",
            "width": 2
           },
           "mode": "lines",
           "showlegend": false,
           "type": "scatter3d",
           "x": [
            0,
            -0.11640000343322754
           ],
           "y": [
            0,
            0.7821999788284302
           ],
           "z": [
            0,
            -0.3912999927997589
           ]
          },
          {
           "line": {
            "color": "black",
            "width": 2
           },
           "mode": "lines",
           "showlegend": false,
           "type": "scatter3d",
           "x": [
            -0.11640000343322754,
            -0.0610867515206337
           ],
           "y": [
            0.7821999788284302,
            1.2097020149230957
           ],
           "z": [
            -0.3912999927997589,
            -0.5080646276473999
           ]
          },
          {
           "line": {
            "color": "black",
            "width": 2
           },
           "mode": "lines",
           "showlegend": false,
           "type": "scatter3d",
           "x": [
            -0.0610867515206337,
            0.19491806626319885
           ],
           "y": [
            1.2097020149230957,
            1.085721731185913
           ],
           "z": [
            -0.5080646276473999,
            -0.5273640751838684
           ]
          },
          {
           "line": {
            "color": "black",
            "width": 2
           },
           "mode": "lines",
           "showlegend": false,
           "type": "scatter3d",
           "x": [
            0.19491806626319885,
            0.24113480746746063
           ],
           "y": [
            1.085721731185913,
            0.8720324635505676
           ],
           "z": [
            -0.5273640751838684,
            -0.48343318700790405
           ]
          },
          {
           "line": {
            "color": "black",
            "width": 2
           },
           "mode": "lines",
           "showlegend": false,
           "type": "scatter3d",
           "x": [
            0.013396918773651123,
            -0.0019000000320374966
           ],
           "y": [
            0.4822250008583069,
            0.9692999720573425
           ],
           "z": [
            0.3305411636829376,
            0.2282000035047531
           ]
          },
          {
           "line": {
            "color": "black",
            "width": 2
           },
           "mode": "lines",
           "showlegend": false,
           "type": "scatter3d",
           "x": [
            -0.0019000000320374966,
            -0.0020000000949949026
           ],
           "y": [
            0.9692999720573425,
            0.996999979019165
           ],
           "z": [
            0.2282000035047531,
            -0.012400000356137753
           ]
          },
          {
           "line": {
            "color": "black",
            "width": 2
           },
           "mode": "lines",
           "showlegend": false,
           "type": "scatter3d",
           "x": [
            -0.0020000000949949026,
            -0.04529999941587448
           ],
           "y": [
            0.996999979019165,
            0.9214000105857849
           ],
           "z": [
            -0.012400000356137753,
            -0.20730000734329224
           ]
          },
          {
           "line": {
            "color": "black",
            "width": 2
           },
           "mode": "lines",
           "showlegend": false,
           "type": "scatter3d",
           "x": [
            -0.04529999941587448,
            -0.11640000343322754
           ],
           "y": [
            0.9214000105857849,
            0.7821999788284302
           ],
           "z": [
            -0.20730000734329224,
            -0.3912999927997589
           ]
          }
         ],
         "name": "43"
        },
        {
         "data": [
          {
           "marker": {
            "color": "blue",
            "size": 4
           },
           "mode": "markers+text",
           "name": "Landmarks",
           "text": [
            "0",
            "1",
            "2",
            "3",
            "4",
            "5",
            "6",
            "7",
            "8",
            "9",
            "10",
            "11",
            "12",
            "13",
            "14",
            "15",
            "16",
            "17",
            "18",
            "19"
           ],
           "textfont": {
            "color": "black",
            "size": 8
           },
           "textposition": "top center",
           "type": "scatter3d",
           "x": {
            "bdata": "AAAAAOARaTxbKA8+u8GPPWwJ+bqFqCM92vugPqw9CD9vEgO7UEAsPpNI+D5q6yw/fow5vTNzvz0JHaU+STgBPyBj7r1cv0U9gqqiPqC8+j4=",
            "dtype": "f4"
           },
           "y": {
            "bdata": "AAAAAOxs9j78Ekc/ZtxuPwskeD/rr7Q/Cym2PwP0tD9kO38/r3vCP+fLuD8o76o/3+BrP/0GuT9av9Y/AK7GP0I+SD+AU5g/18efP1QNjj8=",
            "dtype": "f4"
           },
           "z": {
            "bdata": "AAAAAHkErj4j+hM+vsWCvUOtaT7wSjk+zhkZPvdjAT5fKUu8pjzjvZNBIL592zO+dEZUvnigor7oz8O+8cfAvnlYyL7c+u++0Z8Kvy6LEr8=",
            "dtype": "f4"
           }
          },
          {
           "line": {
            "color": "black",
            "width": 2
           },
           "mode": "lines",
           "showlegend": false,
           "type": "scatter3d",
           "x": [
            0,
            0.01422545313835144
           ],
           "y": [
            0,
            0.4812997579574585
           ],
           "z": [
            0,
            0.3398778736591339
           ]
          },
          {
           "line": {
            "color": "black",
            "width": 2
           },
           "mode": "lines",
           "showlegend": false,
           "type": "scatter3d",
           "x": [
            0.01422545313835144,
            0.13980238139629364
           ],
           "y": [
            0.4812997579574585,
            0.7776334285736084
           ],
           "z": [
            0.3398778736591339,
            0.14450888335704803
           ]
          },
          {
           "line": {
            "color": "black",
            "width": 2
           },
           "mode": "lines",
           "showlegend": false,
           "type": "scatter3d",
           "x": [
            0.13980238139629364,
            0.07019373029470444
           ],
           "y": [
            0.7776334285736084,
            0.9330505132675171
           ],
           "z": [
            0.14450888335704803,
            -0.06385372579097748
           ]
          },
          {
           "line": {
            "color": "black",
            "width": 2
           },
           "mode": "lines",
           "showlegend": false,
           "type": "scatter3d",
           "x": [
            0,
            -0.0019000000320374966
           ],
           "y": [
            0,
            0.9692999720573425
           ],
           "z": [
            0,
            0.2282000035047531
           ]
          },
          {
           "line": {
            "color": "black",
            "width": 2
           },
           "mode": "lines",
           "showlegend": false,
           "type": "scatter3d",
           "x": [
            -0.0019000000320374966,
            0.039955634623765945
           ],
           "y": [
            0.9692999720573425,
            1.4116185903549194
           ],
           "z": [
            0.2282000035047531,
            0.18094992637634277
           ]
          },
          {
           "line": {
            "color": "black",
            "width": 2
           },
           "mode": "lines",
           "showlegend": false,
           "type": "scatter3d",
           "x": [
            0.039955634623765945,
            0.31442147493362427
           ],
           "y": [
            1.4116185903549194,
            1.42312753200531
           ],
           "z": [
            0.18094992637634277,
            0.14951249957084656
           ]
          },
          {
           "line": {
            "color": "black",
            "width": 2
           },
           "mode": "lines",
           "showlegend": false,
           "type": "scatter3d",
           "x": [
            0.31442147493362427,
            0.5321910381317139
           ],
           "y": [
            1.42312753200531,
            1.4136966466903687
           ],
           "z": [
            0.14951249957084656,
            0.12635789811611176
           ]
          },
          {
           "line": {
            "color": "black",
            "width": 2
           },
           "mode": "lines",
           "showlegend": false,
           "type": "scatter3d",
           "x": [
            0,
            -0.0020000000949949026
           ],
           "y": [
            0,
            0.996999979019165
           ],
           "z": [
            0,
            -0.012400000356137753
           ]
          },
          {
           "line": {
            "color": "black",
            "width": 2
           },
           "mode": "lines",
           "showlegend": false,
           "type": "scatter3d",
           "x": [
            -0.0020000000949949026,
            0.1682140827178955
           ],
           "y": [
            0.996999979019165,
            1.5193995237350464
           ],
           "z": [
            -0.012400000356137753,
            -0.11095552146434784
           ]
          },
          {
           "line": {
            "color": "black",
            "width": 2
           },
           "mode": "lines",
           "showlegend": false,
           "type": "scatter3d",
           "x": [
            0.1682140827178955,
            0.484928697347641
           ],
           "y": [
            1.5193995237350464,
            1.4437226057052612
           ],
           "z": [
            -0.11095552146434784,
            -0.15650014579296112
           ]
          },
          {
           "line": {
            "color": "black",
            "width": 2
           },
           "mode": "lines",
           "showlegend": false,
           "type": "scatter3d",
           "x": [
            0.484928697347641,
            0.6754671335220337
           ],
           "y": [
            1.4437226057052612,
            1.335423469543457
           ],
           "z": [
            -0.15650014579296112,
            -0.1756419688463211
           ]
          },
          {
           "line": {
            "color": "black",
            "width": 2
           },
           "mode": "lines",
           "showlegend": false,
           "type": "scatter3d",
           "x": [
            0,
            -0.04529999941587448
           ],
           "y": [
            0,
            0.9214000105857849
           ],
           "z": [
            0,
            -0.20730000734329224
           ]
          },
          {
           "line": {
            "color": "black",
            "width": 2
           },
           "mode": "lines",
           "showlegend": false,
           "type": "scatter3d",
           "x": [
            -0.04529999941587448,
            0.09348144382238388
           ],
           "y": [
            0.9214000105857849,
            1.4455257654190063
           ],
           "z": [
            -0.20730000734329224,
            -0.3176305294036865
           ]
          },
          {
           "line": {
            "color": "black",
            "width": 2
           },
           "mode": "lines",
           "showlegend": false,
           "type": "scatter3d",
           "x": [
            0.09348144382238388,
            0.32248714566230774
           ],
           "y": [
            1.4455257654190063,
            1.6777145862579346
           ],
           "z": [
            -0.3176305294036865,
            -0.3824455738067627
           ]
          },
          {
           "line": {
            "color": "black",
            "width": 2
           },
           "mode": "lines",
           "showlegend": false,
           "type": "scatter3d",
           "x": [
            0.32248714566230774,
            0.5047650933265686
           ],
           "y": [
            1.6777145862579346,
            1.55218505859375
           ],
           "z": [
            -0.3824455738067627,
            -0.3765254318714142
           ]
          },
          {
           "line": {
            "color": "black",
            "width": 2
           },
           "mode": "lines",
           "showlegend": false,
           "type": "scatter3d",
           "x": [
            0,
            -0.11640000343322754
           ],
           "y": [
            0,
            0.7821999788284302
           ],
           "z": [
            0,
            -0.3912999927997589
           ]
          },
          {
           "line": {
            "color": "black",
            "width": 2
           },
           "mode": "lines",
           "showlegend": false,
           "type": "scatter3d",
           "x": [
            -0.11640000343322754,
            0.04827819764614105
           ],
           "y": [
            0.7821999788284302,
            1.1900482177734375
           ],
           "z": [
            -0.3912999927997589,
            -0.4687107801437378
           ]
          },
          {
           "line": {
            "color": "black",
            "width": 2
           },
           "mode": "lines",
           "showlegend": false,
           "type": "scatter3d",
           "x": [
            0.04827819764614105,
            0.3177071213722229
           ],
           "y": [
            1.1900482177734375,
            1.2482861280441284
           ],
           "z": [
            -0.4687107801437378,
            -0.5415011048316956
           ]
          },
          {
           "line": {
            "color": "black",
            "width": 2
           },
           "mode": "lines",
           "showlegend": false,
           "type": "scatter3d",
           "x": [
            0.3177071213722229,
            0.48972034454345703
           ],
           "y": [
            1.2482861280441284,
            1.1097817420959473
           ],
           "z": [
            -0.5415011048316956,
            -0.5724362134933472
           ]
          },
          {
           "line": {
            "color": "black",
            "width": 2
           },
           "mode": "lines",
           "showlegend": false,
           "type": "scatter3d",
           "x": [
            0.01422545313835144,
            -0.0019000000320374966
           ],
           "y": [
            0.4812997579574585,
            0.9692999720573425
           ],
           "z": [
            0.3398778736591339,
            0.2282000035047531
           ]
          },
          {
           "line": {
            "color": "black",
            "width": 2
           },
           "mode": "lines",
           "showlegend": false,
           "type": "scatter3d",
           "x": [
            -0.0019000000320374966,
            -0.0020000000949949026
           ],
           "y": [
            0.9692999720573425,
            0.996999979019165
           ],
           "z": [
            0.2282000035047531,
            -0.012400000356137753
           ]
          },
          {
           "line": {
            "color": "black",
            "width": 2
           },
           "mode": "lines",
           "showlegend": false,
           "type": "scatter3d",
           "x": [
            -0.0020000000949949026,
            -0.04529999941587448
           ],
           "y": [
            0.996999979019165,
            0.9214000105857849
           ],
           "z": [
            -0.012400000356137753,
            -0.20730000734329224
           ]
          },
          {
           "line": {
            "color": "black",
            "width": 2
           },
           "mode": "lines",
           "showlegend": false,
           "type": "scatter3d",
           "x": [
            -0.04529999941587448,
            -0.11640000343322754
           ],
           "y": [
            0.9214000105857849,
            0.7821999788284302
           ],
           "z": [
            -0.20730000734329224,
            -0.3912999927997589
           ]
          }
         ],
         "name": "44"
        },
        {
         "data": [
          {
           "marker": {
            "color": "blue",
            "size": 4
           },
           "mode": "markers+text",
           "name": "Landmarks",
           "text": [
            "0",
            "1",
            "2",
            "3",
            "4",
            "5",
            "6",
            "7",
            "8",
            "9",
            "10",
            "11",
            "12",
            "13",
            "14",
            "15",
            "16",
            "17",
            "18",
            "19"
           ],
           "textfont": {
            "color": "black",
            "size": 8
           },
           "textposition": "top center",
           "type": "scatter3d",
           "x": {
            "bdata": "AAAAAGDKXTw0Tg4+ktKUPWwJ+brzlAo9q9SdPuWlBj9vEgO7Mw4vPqC0+T7oiS0/fow5ve+hvz08KqU+zj0BPyBj7r1Kh5o9/OWpPuoNBj8=",
            "dtype": "f4"
           },
           "y": {
            "bdata": "AAAAAETd9j6JjUc/D/RvPwskeD/lx7Q/jD22P7butD9kO38/PE/CP+KGuD/kjao/3+BrP8QGuT8Av9Y/0qzGP0I+SD955pY/K9mjP9tylj8=",
            "dtype": "f4"
           },
           "z": {
            "bdata": "AAAAAGjdrj6lKBc+INl1vUOtaT7PMzs+UqYaPhCrAj5fKUu8YR7ovSwcIb6OTTO+dEZUvviVor7swcO+273AvnlYyL48gO2+wGsJvzTNFL8=",
            "dtype": "f4"
           }
          },
          {
           "line": {
            "color": "black",
            "width": 2
           },
           "mode": "lines",
           "showlegend": false,
           "type": "scatter3d",
           "x": [
            0,
            0.013537019491195679
           ],
           "y": [
            0,
            0.4821568727493286
           ],
           "z": [
            0,
            0.34153294563293457
           ]
          },
          {
           "line": {
            "color": "black",
            "width": 2
           },
           "mode": "lines",
           "showlegend": false,
           "type": "scatter3d",
           "x": [
            0.013537019491195679,
            0.13897019624710083
           ],
           "y": [
            0.4821568727493286,
            0.7795034050941467
           ],
           "z": [
            0.34153294563293457,
            0.14761598408222198
           ]
          },
          {
           "line": {
            "color": "black",
            "width": 2
           },
           "mode": "lines",
           "showlegend": false,
           "type": "scatter3d",
           "x": [
            0.13897019624710083,
            0.07266725599765778
           ],
           "y": [
            0.7795034050941467,
            0.9373177886009216
           ],
           "z": [
            0.14761598408222198,
            -0.06002151966094971
           ]
          },
          {
           "line": {
            "color": "black",
            "width": 2
           },
           "mode": "lines",
           "showlegend": false,
           "type": "scatter3d",
           "x": [
            0,
            -0.0019000000320374966
           ],
           "y": [
            0,
            0.9692999720573425
           ],
           "z": [
            0,
            0.2282000035047531
           ]
          },
          {
           "line": {
            "color": "black",
            "width": 2
           },
           "mode": "lines",
           "showlegend": false,
           "type": "scatter3d",
           "x": [
            -0.0019000000320374966,
            0.03383345529437065
           ],
           "y": [
            0.9692999720573425,
            1.4123502969741821
           ],
           "z": [
            0.2282000035047531,
            0.182814821600914
           ]
          },
          {
           "line": {
            "color": "black",
            "width": 2
           },
           "mode": "lines",
           "showlegend": false,
           "type": "scatter3d",
           "x": [
            0.03383345529437065,
            0.3082631528377533
           ],
           "y": [
            1.4123502969741821,
            1.423753261566162
           ],
           "z": [
            0.182814821600914,
            0.15102508664131165
           ]
          },
          {
           "line": {
            "color": "black",
            "width": 2
           },
           "mode": "lines",
           "showlegend": false,
           "type": "scatter3d",
           "x": [
            0.3082631528377533,
            0.5259688496589661
           ],
           "y": [
            1.423753261566162,
            1.4135348796844482
           ],
           "z": [
            0.15102508664131165,
            0.12760567665100098
           ]
          },
          {
           "line": {
            "color": "black",
            "width": 2
           },
           "mode": "lines",
           "showlegend": false,
           "type": "scatter3d",
           "x": [
            0,
            -0.0020000000949949026
           ],
           "y": [
            0,
            0.996999979019165
           ],
           "z": [
            0,
            -0.012400000356137753
           ]
          },
          {
           "line": {
            "color": "black",
            "width": 2
           },
           "mode": "lines",
           "showlegend": false,
           "type": "scatter3d",
           "x": [
            -0.0020000000949949026,
            0.17095260322093964
           ],
           "y": [
            0.996999979019165,
            1.518043041229248
           ],
           "z": [
            -0.012400000356137753,
            -0.11333919316530228
           ]
          },
          {
           "line": {
            "color": "black",
            "width": 2
           },
           "mode": "lines",
           "showlegend": false,
           "type": "scatter3d",
           "x": [
            0.17095260322093964,
            0.48770618438720703
           ],
           "y": [
            1.518043041229248,
            1.4416162967681885
           ],
           "z": [
            -0.11333919316530228,
            -0.15733402967453003
           ]
          },
          {
           "line": {
            "color": "black",
            "width": 2
           },
           "mode": "lines",
           "showlegend": false,
           "type": "scatter3d",
           "x": [
            0.48770618438720703,
            0.6778855323791504
           ],
           "y": [
            1.4416162967681885,
            1.3324551582336426
           ],
           "z": [
            -0.15733402967453003,
            -0.17510053515434265
           ]
          },
          {
           "line": {
            "color": "black",
            "width": 2
           },
           "mode": "lines",
           "showlegend": false,
           "type": "scatter3d",
           "x": [
            0,
            -0.04529999941587448
           ],
           "y": [
            0,
            0.9214000105857849
           ],
           "z": [
            0,
            -0.20730000734329224
           ]
          },
          {
           "line": {
            "color": "black",
            "width": 2
           },
           "mode": "lines",
           "showlegend": false,
           "type": "scatter3d",
           "x": [
            -0.04529999941587448,
            0.09357058256864548
           ],
           "y": [
            0.9214000105857849,
            1.445518970489502
           ],
           "z": [
            -0.20730000734329224,
            -0.3175504207611084
           ]
          },
          {
           "line": {
            "color": "black",
            "width": 2
           },
           "mode": "lines",
           "showlegend": false,
           "type": "scatter3d",
           "x": [
            0.09357058256864548,
            0.32258784770965576
           ],
           "y": [
            1.445518970489502,
            1.677703857421875
           ],
           "z": [
            -0.3175504207611084,
            -0.38233888149261475
           ]
          },
          {
           "line": {
            "color": "black",
            "width": 2
           },
           "mode": "lines",
           "showlegend": false,
           "type": "scatter3d",
           "x": [
            0.32258784770965576,
            0.5048493146896362
           ],
           "y": [
            1.677703857421875,
            1.5521490573883057
           ],
           "z": [
            -0.38233888149261475,
            -0.37644848227500916
           ]
          },
          {
           "line": {
            "color": "black",
            "width": 2
           },
           "mode": "lines",
           "showlegend": false,
           "type": "scatter3d",
           "x": [
            0,
            -0.11640000343322754
           ],
           "y": [
            0,
            0.7821999788284302
           ],
           "z": [
            0,
            -0.3912999927997589
           ]
          },
          {
           "line": {
            "color": "black",
            "width": 2
           },
           "mode": "lines",
           "showlegend": false,
           "type": "scatter3d",
           "x": [
            -0.11640000343322754,
            0.07545335590839386
           ],
           "y": [
            0.7821999788284302,
            1.1789084672927856
           ],
           "z": [
            -0.3912999927997589,
            -0.46386897563934326
           ]
          },
          {
           "line": {
            "color": "black",
            "width": 2
           },
           "mode": "lines",
           "showlegend": false,
           "type": "scatter3d",
           "x": [
            0.07545335590839386,
            0.33183276653289795
           ],
           "y": [
            1.1789084672927856,
            1.2800649404525757
           ],
           "z": [
            -0.46386897563934326,
            -0.5368003845214844
           ]
          },
          {
           "line": {
            "color": "black",
            "width": 2
           },
           "mode": "lines",
           "showlegend": false,
           "type": "scatter3d",
           "x": [
            0.33183276653289795,
            0.5236498117446899
           ],
           "y": [
            1.2800649404525757,
            1.1753801107406616
           ],
           "z": [
            -0.5368003845214844,
            -0.5812561511993408
           ]
          },
          {
           "line": {
            "color": "black",
            "width": 2
           },
           "mode": "lines",
           "showlegend": false,
           "type": "scatter3d",
           "x": [
            0.013537019491195679,
            -0.0019000000320374966
           ],
           "y": [
            0.4821568727493286,
            0.9692999720573425
           ],
           "z": [
            0.34153294563293457,
            0.2282000035047531
           ]
          },
          {
           "line": {
            "color": "black",
            "width": 2
           },
           "mode": "lines",
           "showlegend": false,
           "type": "scatter3d",
           "x": [
            -0.0019000000320374966,
            -0.0020000000949949026
           ],
           "y": [
            0.9692999720573425,
            0.996999979019165
           ],
           "z": [
            0.2282000035047531,
            -0.012400000356137753
           ]
          },
          {
           "line": {
            "color": "black",
            "width": 2
           },
           "mode": "lines",
           "showlegend": false,
           "type": "scatter3d",
           "x": [
            -0.0020000000949949026,
            -0.04529999941587448
           ],
           "y": [
            0.996999979019165,
            0.9214000105857849
           ],
           "z": [
            -0.012400000356137753,
            -0.20730000734329224
           ]
          },
          {
           "line": {
            "color": "black",
            "width": 2
           },
           "mode": "lines",
           "showlegend": false,
           "type": "scatter3d",
           "x": [
            -0.04529999941587448,
            -0.11640000343322754
           ],
           "y": [
            0.9214000105857849,
            0.7821999788284302
           ],
           "z": [
            -0.20730000734329224,
            -0.3912999927997589
           ]
          }
         ],
         "name": "45"
        },
        {
         "data": [
          {
           "marker": {
            "color": "blue",
            "size": 4
           },
           "mode": "markers+text",
           "name": "Landmarks",
           "text": [
            "0",
            "1",
            "2",
            "3",
            "4",
            "5",
            "6",
            "7",
            "8",
            "9",
            "10",
            "11",
            "12",
            "13",
            "14",
            "15",
            "16",
            "17",
            "18",
            "19"
           ],
           "textfont": {
            "color": "black",
            "size": 8
           },
           "textposition": "top center",
           "type": "scatter3d",
           "x": {
            "bdata": "AAAAAKAGcjwihhM+neGiPWwJ+bpTEjs9pZWjPq1hCT9vEgO78JU6Pk7z/j5+ji8/fow5vYHWvz3DUaU+x0kBPyBj7r2CQqQ9lPyoPnBeBz8=",
            "dtype": "f4"
           },
           "y": {
            "bdata": "AAAAAIQL9j7EFUc/Pr1vPwskeD9rzbQ/qkm2P9jjtD9kO38/CkHCP8RUuT+lK6s/3+BrP24EuT+6tdY/Gp7GP0I+SD+eVJc/5p+mP5IRnT8=",
            "dtype": "f4"
           },
           "z": {
            "bdata": "AAAAAGuHrz5dvRo+JLZmvUOtaT7Vi0o+VCElPi6VCD5fKUu86wHAvYQZHb7vkTu+dEZUvtixor7p48O+oM7AvnlYyL4xS9a+W/P4vtPzDb8=",
            "dtype": "f4"
           }
          },
          {
           "line": {
            "color": "black",
            "width": 2
           },
           "mode": "lines",
           "showlegend": false,
           "type": "scatter3d",
           "x": [
            0,
            0.014772087335586548
           ],
           "y": [
            0,
            0.4805566072463989
           ],
           "z": [
            0,
            0.34283003211021423
           ]
          },
          {
           "line": {
            "color": "black",
            "width": 2
           },
           "mode": "lines",
           "showlegend": false,
           "type": "scatter3d",
           "x": [
            0.014772087335586548,
            0.14406636357307434
           ],
           "y": [
            0.4805566072463989,
            0.7776758670806885
           ],
           "z": [
            0.34283003211021423,
            0.15111298859119415
           ]
          },
          {
           "line": {
            "color": "black",
            "width": 2
           },
           "mode": "lines",
           "showlegend": false,
           "type": "scatter3d",
           "x": [
            0.14406636357307434,
            0.07953188568353653
           ],
           "y": [
            0.7776758670806885,
            0.9364813566207886
           ],
           "z": [
            0.15111298859119415,
            -0.05632604658603668
           ]
          },
          {
           "line": {
            "color": "black",
            "width": 2
           },
           "mode": "lines",
           "showlegend": false,
           "type": "scatter3d",
           "x": [
            0,
            -0.0019000000320374966
           ],
           "y": [
            0,
            0.9692999720573425
           ],
           "z": [
            0,
            0.2282000035047531
           ]
          },
          {
           "line": {
            "color": "black",
            "width": 2
           },
           "mode": "lines",
           "showlegend": false,
           "type": "scatter3d",
           "x": [
            -0.0019000000320374966,
            0.045671772211790085
           ],
           "y": [
            0.9692999720573425,
            1.412518858909607
           ],
           "z": [
            0.2282000035047531,
            0.19779904186725616
           ]
          },
          {
           "line": {
            "color": "black",
            "width": 2
           },
           "mode": "lines",
           "showlegend": false,
           "type": "scatter3d",
           "x": [
            0.045671772211790085,
            0.3195010721683502
           ],
           "y": [
            1.412518858909607,
            1.4241230487823486
           ],
           "z": [
            0.19779904186725616,
            0.1612599492073059
           ]
          },
          {
           "line": {
            "color": "black",
            "width": 2
           },
           "mode": "lines",
           "showlegend": false,
           "type": "scatter3d",
           "x": [
            0.3195010721683502,
            0.5366466641426086
           ],
           "y": [
            1.4241230487823486,
            1.413203239440918
           ],
           "z": [
            0.1612599492073059,
            0.13338157534599304
           ]
          },
          {
           "line": {
            "color": "black",
            "width": 2
           },
           "mode": "lines",
           "showlegend": false,
           "type": "scatter3d",
           "x": [
            0,
            -0.0020000000949949026
           ],
           "y": [
            0,
            0.996999979019165
           ],
           "z": [
            0,
            -0.012400000356137753
           ]
          },
          {
           "line": {
            "color": "black",
            "width": 2
           },
           "mode": "lines",
           "showlegend": false,
           "type": "scatter3d",
           "x": [
            -0.0020000000949949026,
            0.18221259117126465
           ],
           "y": [
            0.996999979019165,
            1.5176098346710205
           ],
           "z": [
            -0.012400000356137753,
            -0.09375365823507309
           ]
          },
          {
           "line": {
            "color": "black",
            "width": 2
           },
           "mode": "lines",
           "showlegend": false,
           "type": "scatter3d",
           "x": [
            0.18221259117126465,
            0.49795001745224
           ],
           "y": [
            1.5176098346710205,
            1.447899341583252
           ],
           "z": [
            -0.09375365823507309,
            -0.1534176468849182
           ]
          },
          {
           "line": {
            "color": "black",
            "width": 2
           },
           "mode": "lines",
           "showlegend": false,
           "type": "scatter3d",
           "x": [
            0.49795001745224,
            0.6857680082321167
           ],
           "y": [
            1.447899341583252,
            1.3372694253921509
           ],
           "z": [
            -0.1534176468849182,
            -0.18317387998104095
           ]
          },
          {
           "line": {
            "color": "black",
            "width": 2
           },
           "mode": "lines",
           "showlegend": false,
           "type": "scatter3d",
           "x": [
            0,
            -0.04529999941587448
           ],
           "y": [
            0,
            0.9214000105857849
           ],
           "z": [
            0,
            -0.20730000734329224
           ]
          },
          {
           "line": {
            "color": "black",
            "width": 2
           },
           "mode": "lines",
           "showlegend": false,
           "type": "scatter3d",
           "x": [
            -0.04529999941587448,
            0.09367085248231888
           ],
           "y": [
            0.9214000105857849,
            1.4454476833343506
           ],
           "z": [
            -0.20730000734329224,
            -0.317763090133667
           ]
          },
          {
           "line": {
            "color": "black",
            "width": 2
           },
           "mode": "lines",
           "showlegend": false,
           "type": "scatter3d",
           "x": [
            0.09367085248231888,
            0.32288941740989685
           ],
           "y": [
            1.4454476833343506,
            1.6774208545684814
           ],
           "z": [
            -0.317763090133667,
            -0.3825981914997101
           ]
          },
          {
           "line": {
            "color": "black",
            "width": 2
           },
           "mode": "lines",
           "showlegend": false,
           "type": "scatter3d",
           "x": [
            0.32288941740989685,
            0.5050320029258728
           ],
           "y": [
            1.6774208545684814,
            1.5516998767852783
           ],
           "z": [
            -0.3825981914997101,
            -0.37657642364501953
           ]
          },
          {
           "line": {
            "color": "black",
            "width": 2
           },
           "mode": "lines",
           "showlegend": false,
           "type": "scatter3d",
           "x": [
            0,
            -0.11640000343322754
           ],
           "y": [
            0,
            0.7821999788284302
           ],
           "z": [
            0,
            -0.3912999927997589
           ]
          },
          {
           "line": {
            "color": "black",
            "width": 2
           },
           "mode": "lines",
           "showlegend": false,
           "type": "scatter3d",
           "x": [
            -0.11640000343322754,
            0.08020497858524323
           ],
           "y": [
            0.7821999788284302,
            1.182269811630249
           ],
           "z": [
            -0.3912999927997589,
            -0.41854241490364075
           ]
          },
          {
           "line": {
            "color": "black",
            "width": 2
           },
           "mode": "lines",
           "showlegend": false,
           "type": "scatter3d",
           "x": [
            0.08020497858524323,
            0.3300520181655884
           ],
           "y": [
            1.182269811630249,
            1.3017547130584717
           ],
           "z": [
            -0.41854241490364075,
            -0.48623165488243103
           ]
          },
          {
           "line": {
            "color": "black",
            "width": 2
           },
           "mode": "lines",
           "showlegend": false,
           "type": "scatter3d",
           "x": [
            0.3300520181655884,
            0.5287847518920898
           ],
           "y": [
            1.3017547130584717,
            1.2270987033843994
           ],
           "z": [
            -0.48623165488243103,
            -0.5545017123222351
           ]
          },
          {
           "line": {
            "color": "black",
            "width": 2
           },
           "mode": "lines",
           "showlegend": false,
           "type": "scatter3d",
           "x": [
            0.014772087335586548,
            -0.0019000000320374966
           ],
           "y": [
            0.4805566072463989,
            0.9692999720573425
           ],
           "z": [
            0.34283003211021423,
            0.2282000035047531
           ]
          },
          {
           "line": {
            "color": "black",
            "width": 2
           },
           "mode": "lines",
           "showlegend": false,
           "type": "scatter3d",
           "x": [
            -0.0019000000320374966,
            -0.0020000000949949026
           ],
           "y": [
            0.9692999720573425,
            0.996999979019165
           ],
           "z": [
            0.2282000035047531,
            -0.012400000356137753
           ]
          },
          {
           "line": {
            "color": "black",
            "width": 2
           },
           "mode": "lines",
           "showlegend": false,
           "type": "scatter3d",
           "x": [
            -0.0020000000949949026,
            -0.04529999941587448
           ],
           "y": [
            0.996999979019165,
            0.9214000105857849
           ],
           "z": [
            -0.012400000356137753,
            -0.20730000734329224
           ]
          },
          {
           "line": {
            "color": "black",
            "width": 2
           },
           "mode": "lines",
           "showlegend": false,
           "type": "scatter3d",
           "x": [
            -0.04529999941587448,
            -0.11640000343322754
           ],
           "y": [
            0.9214000105857849,
            0.7821999788284302
           ],
           "z": [
            -0.20730000734329224,
            -0.3912999927997589
           ]
          }
         ],
         "name": "46"
        },
        {
         "data": [
          {
           "marker": {
            "color": "blue",
            "size": 4
           },
           "mode": "markers+text",
           "name": "Landmarks",
           "text": [
            "0",
            "1",
            "2",
            "3",
            "4",
            "5",
            "6",
            "7",
            "8",
            "9",
            "10",
            "11",
            "12",
            "13",
            "14",
            "15",
            "16",
            "17",
            "18",
            "19"
           ],
           "textfont": {
            "color": "black",
            "size": 8
           },
           "textposition": "top center",
           "type": "scatter3d",
           "x": {
            "bdata": "AAAAABAhgTyb1BY+4GmiPWwJ+br951Q91mKmPuugCj9vEgO7nu9APtC0AD8NTzA/fow5vSnwwD19HqY+mq0BPyBj7r2ghaE9XrCkPoIRCD8=",
            "dtype": "f4"
           },
           "y": {
            "bdata": "AAAAAE9h9T7+q0Y/vbxuPwskeD/Ez7Q/D7a2PzZmtT9kO38/A0rCP2o/uj/pIaw/3+BrP64DuT8WltY/QXzGP0I+SD+8Z5c/PzOpPwBGrD8=",
            "dtype": "f4"
           },
           "z": {
            "bdata": "AAAAAHL3rz5DrRw+SJhhvUOtaT6fdVo+uigwPuzyDj5fKUu8ThWbva5wGL69MkK+dEZUvhpnor5NdsO+ToDAvnlYyL7a37m+F/TVvkGP+r4=",
            "dtype": "f4"
           }
          },
          {
           "line": {
            "color": "black",
            "width": 2
           },
           "mode": "lines",
           "showlegend": false,
           "type": "scatter3d",
           "x": [
            0,
            0.01576283574104309
           ],
           "y": [
            0,
            0.4792580306529999
           ],
           "z": [
            0,
            0.34368473291397095
           ]
          },
          {
           "line": {
            "color": "black",
            "width": 2
           },
           "mode": "lines",
           "showlegend": false,
           "type": "scatter3d",
           "x": [
            0.01576283574104309,
            0.14729540050029755
           ],
           "y": [
            0.4792580306529999,
            0.7760618925094604
           ],
           "z": [
            0.34368473291397095,
            0.1530046910047531
           ]
          },
          {
           "line": {
            "color": "black",
            "width": 2
           },
           "mode": "lines",
           "showlegend": false,
           "type": "scatter3d",
           "x": [
            0.14729540050029755,
            0.07930350303649902
           ],
           "y": [
            0.7760618925094604,
            0.9325674176216125
           ],
           "z": [
            0.1530046910047531,
            -0.05507686734199524
           ]
          },
          {
           "line": {
            "color": "black",
            "width": 2
           },
           "mode": "lines",
           "showlegend": false,
           "type": "scatter3d",
           "x": [
            0,
            -0.0019000000320374966
           ],
           "y": [
            0,
            0.9692999720573425
           ],
           "z": [
            0,
            0.2282000035047531
           ]
          },
          {
           "line": {
            "color": "black",
            "width": 2
           },
           "mode": "lines",
           "showlegend": false,
           "type": "scatter3d",
           "x": [
            -0.0019000000320374966,
            0.051979053765535355
           ],
           "y": [
            0.9692999720573425,
            1.412590503692627
           ],
           "z": [
            0.2282000035047531,
            0.21333931386470795
           ]
          },
          {
           "line": {
            "color": "black",
            "width": 2
           },
           "mode": "lines",
           "showlegend": false,
           "type": "scatter3d",
           "x": [
            0.051979053765535355,
            0.32497280836105347
           ],
           "y": [
            1.412590503692627,
            1.4274309873580933
           ],
           "z": [
            0.21333931386470795,
            0.17203035950660706
           ]
          },
          {
           "line": {
            "color": "black",
            "width": 2
           },
           "mode": "lines",
           "showlegend": false,
           "type": "scatter3d",
           "x": [
            0.32497280836105347,
            0.5415179133415222
           ],
           "y": [
            1.4274309873580933,
            1.4171817302703857
           ],
           "z": [
            0.17203035950660706,
            0.139598548412323
           ]
          },
          {
           "line": {
            "color": "black",
            "width": 2
           },
           "mode": "lines",
           "showlegend": false,
           "type": "scatter3d",
           "x": [
            0,
            -0.0020000000949949026
           ],
           "y": [
            0,
            0.996999979019165
           ],
           "z": [
            0,
            -0.012400000356137753
           ]
          },
          {
           "line": {
            "color": "black",
            "width": 2
           },
           "mode": "lines",
           "showlegend": false,
           "type": "scatter3d",
           "x": [
            -0.0020000000949949026,
            0.188414067029953
           ],
           "y": [
            0.996999979019165,
            1.5178836584091187
           ],
           "z": [
            -0.012400000356137753,
            -0.07572422921657562
           ]
          },
          {
           "line": {
            "color": "black",
            "width": 2
           },
           "mode": "lines",
           "showlegend": false,
           "type": "scatter3d",
           "x": [
            0.188414067029953,
            0.5027589797973633
           ],
           "y": [
            1.5178836584091187,
            1.4550602436065674
           ],
           "z": [
            -0.07572422921657562,
            -0.14886733889579773
           ]
          },
          {
           "line": {
            "color": "black",
            "width": 2
           },
           "mode": "lines",
           "showlegend": false,
           "type": "scatter3d",
           "x": [
            0.5027589797973633,
            0.6887062191963196
           ],
           "y": [
            1.4550602436065674,
            1.3447848558425903
           ],
           "z": [
            -0.14886733889579773,
            -0.1896466761827469
           ]
          },
          {
           "line": {
            "color": "black",
            "width": 2
           },
           "mode": "lines",
           "showlegend": false,
           "type": "scatter3d",
           "x": [
            0,
            -0.04529999941587448
           ],
           "y": [
            0,
            0.9214000105857849
           ],
           "z": [
            0,
            -0.20730000734329224
           ]
          },
          {
           "line": {
            "color": "black",
            "width": 2
           },
           "mode": "lines",
           "showlegend": false,
           "type": "scatter3d",
           "x": [
            -0.04529999941587448,
            0.09420806914567947
           ],
           "y": [
            0.9214000105857849,
            1.4454247951507568
           ],
           "z": [
            -0.20730000734329224,
            -0.31719285249710083
           ]
          },
          {
           "line": {
            "color": "black",
            "width": 2
           },
           "mode": "lines",
           "showlegend": false,
           "type": "scatter3d",
           "x": [
            0.09420806914567947,
            0.32445135712623596
           ],
           "y": [
            1.4454247951507568,
            1.6764552593231201
           ],
           "z": [
            -0.31719285249710083,
            -0.38176193833351135
           ]
          },
          {
           "line": {
            "color": "black",
            "width": 2
           },
           "mode": "lines",
           "showlegend": false,
           "type": "scatter3d",
           "x": [
            0.32445135712623596,
            0.5065551996231079
           ],
           "y": [
            1.6764552593231201,
            1.5506669282913208
           ],
           "z": [
            -0.38176193833351135,
            -0.37597888708114624
           ]
          },
          {
           "line": {
            "color": "black",
            "width": 2
           },
           "mode": "lines",
           "showlegend": false,
           "type": "scatter3d",
           "x": [
            0,
            -0.11640000343322754
           ],
           "y": [
            0,
            0.7821999788284302
           ],
           "z": [
            0,
            -0.3912999927997589
           ]
          },
          {
           "line": {
            "color": "black",
            "width": 2
           },
           "mode": "lines",
           "showlegend": false,
           "type": "scatter3d",
           "x": [
            -0.11640000343322754,
            0.07886815071105957
           ],
           "y": [
            0.7821999788284302,
            1.1828532218933105
           ],
           "z": [
            -0.3912999927997589,
            -0.36303597688674927
           ]
          },
          {
           "line": {
            "color": "black",
            "width": 2
           },
           "mode": "lines",
           "showlegend": false,
           "type": "scatter3d",
           "x": [
            0.07886815071105957,
            0.32165807485580444
           ],
           "y": [
            1.1828532218933105,
            1.3218764066696167
           ],
           "z": [
            -0.36303597688674927,
            -0.4178778827190399
           ]
          },
          {
           "line": {
            "color": "black",
            "width": 2
           },
           "mode": "lines",
           "showlegend": false,
           "type": "scatter3d",
           "x": [
            0.32165807485580444,
            0.5315171480178833
           ],
           "y": [
            1.3218764066696167,
            1.34588623046875
           ],
           "z": [
            -0.4178778827190399,
            -0.48937419056892395
           ]
          },
          {
           "line": {
            "color": "black",
            "width": 2
           },
           "mode": "lines",
           "showlegend": false,
           "type": "scatter3d",
           "x": [
            0.01576283574104309,
            -0.0019000000320374966
           ],
           "y": [
            0.4792580306529999,
            0.9692999720573425
           ],
           "z": [
            0.34368473291397095,
            0.2282000035047531
           ]
          },
          {
           "line": {
            "color": "black",
            "width": 2
           },
           "mode": "lines",
           "showlegend": false,
           "type": "scatter3d",
           "x": [
            -0.0019000000320374966,
            -0.0020000000949949026
           ],
           "y": [
            0.9692999720573425,
            0.996999979019165
           ],
           "z": [
            0.2282000035047531,
            -0.012400000356137753
           ]
          },
          {
           "line": {
            "color": "black",
            "width": 2
           },
           "mode": "lines",
           "showlegend": false,
           "type": "scatter3d",
           "x": [
            -0.0020000000949949026,
            -0.04529999941587448
           ],
           "y": [
            0.996999979019165,
            0.9214000105857849
           ],
           "z": [
            -0.012400000356137753,
            -0.20730000734329224
           ]
          },
          {
           "line": {
            "color": "black",
            "width": 2
           },
           "mode": "lines",
           "showlegend": false,
           "type": "scatter3d",
           "x": [
            -0.04529999941587448,
            -0.11640000343322754
           ],
           "y": [
            0.9214000105857849,
            0.7821999788284302
           ],
           "z": [
            -0.20730000734329224,
            -0.3912999927997589
           ]
          }
         ],
         "name": "47"
        },
        {
         "data": [
          {
           "marker": {
            "color": "blue",
            "size": 4
           },
           "mode": "markers+text",
           "name": "Landmarks",
           "text": [
            "0",
            "1",
            "2",
            "3",
            "4",
            "5",
            "6",
            "7",
            "8",
            "9",
            "10",
            "11",
            "12",
            "13",
            "14",
            "15",
            "16",
            "17",
            "18",
            "19"
           ],
           "textfont": {
            "color": "black",
            "size": 8
           },
           "textposition": "top center",
           "type": "scatter3d",
           "x": {
            "bdata": "AAAAAMACQzz/2w4+KLmbPWwJ+brrnos8NzmUPrF9AT9vEgO7+jkqPk5N9T5ZOCo/fow5vUcztz37tZ8+ePH8PiBj7r0+iZ897PukPkdUCD8=",
            "dtype": "f4"
           },
           "y": {
            "bdata": "AAAAANi69z4KGkk/NktyPwskeD+QNbU/QIG3P/qctj9kO38/DpPDPxPGvD9QQ68/3+BrPzIRuT9vh9c/LnDHP0I+SD+uhJc/PtOoPwMRqz8=",
            "dtype": "f4"
           },
           "z": {
            "bdata": "AAAAALTesz57syk+lI4lvUOtaT4momg+vAM8Pmt9GD5fKUu8/CdMvTQgC76lokC+dEZUvtplpL7acca+XZfCvnlYyL62RL2+aa7avkCW/74=",
            "dtype": "f4"
           }
          },
          {
           "line": {
            "color": "black",
            "width": 2
           },
           "mode": "lines",
           "showlegend": false,
           "type": "scatter3d",
           "x": [
            0,
            0.01190251111984253
           ],
           "y": [
            0,
            0.48384737968444824
           ],
           "z": [
            0,
            0.3513084650039673
           ]
          },
          {
           "line": {
            "color": "black",
            "width": 2
           },
           "mode": "lines",
           "showlegend": false,
           "type": "scatter3d",
           "x": [
            0.01190251111984253,
            0.1395110934972763
           ],
           "y": [
            0.48384737968444824,
            0.7855535745620728
           ],
           "z": [
            0.3513084650039673,
            0.16572372615337372
           ]
          },
          {
           "line": {
            "color": "black",
            "width": 2
           },
           "mode": "lines",
           "showlegend": false,
           "type": "scatter3d",
           "x": [
            0.1395110934972763,
            0.07603675127029419
           ],
           "y": [
            0.7855535745620728,
            0.9464601278305054
           ],
           "z": [
            0.16572372615337372,
            -0.04041917622089386
           ]
          },
          {
           "line": {
            "color": "black",
            "width": 2
           },
           "mode": "lines",
           "showlegend": false,
           "type": "scatter3d",
           "x": [
            0,
            -0.0019000000320374966
           ],
           "y": [
            0,
            0.9692999720573425
           ],
           "z": [
            0,
            0.2282000035047531
           ]
          },
          {
           "line": {
            "color": "black",
            "width": 2
           },
           "mode": "lines",
           "showlegend": false,
           "type": "scatter3d",
           "x": [
            -0.0019000000320374966,
            0.017043551430106163
           ],
           "y": [
            0.9692999720573425,
            1.4156970977783203
           ],
           "z": [
            0.2282000035047531,
            0.22718104720115662
           ]
          },
          {
           "line": {
            "color": "black",
            "width": 2
           },
           "mode": "lines",
           "showlegend": false,
           "type": "scatter3d",
           "x": [
            0.017043551430106163,
            0.2894990146160126
           ],
           "y": [
            1.4156970977783203,
            1.4336318969726562
           ],
           "z": [
            0.22718104720115662,
            0.18360799551010132
           ]
          },
          {
           "line": {
            "color": "black",
            "width": 2
           },
           "mode": "lines",
           "showlegend": false,
           "type": "scatter3d",
           "x": [
            0.2894990146160126,
            0.5058241486549377
           ],
           "y": [
            1.4336318969726562,
            1.4266655445098877
           ],
           "z": [
            0.18360799551010132,
            0.14891593158245087
           ]
          },
          {
           "line": {
            "color": "black",
            "width": 2
           },
           "mode": "lines",
           "showlegend": false,
           "type": "scatter3d",
           "x": [
            0,
            -0.0020000000949949026
           ],
           "y": [
            0,
            0.996999979019165
           ],
           "z": [
            0,
            -0.012400000356137753
           ]
          },
          {
           "line": {
            "color": "black",
            "width": 2
           },
           "mode": "lines",
           "showlegend": false,
           "type": "scatter3d",
           "x": [
            -0.0020000000949949026,
            0.1662367880344391
           ],
           "y": [
            0.996999979019165,
            1.5279252529144287
           ],
           "z": [
            -0.012400000356137753,
            -0.049842819571495056
           ]
          },
          {
           "line": {
            "color": "black",
            "width": 2
           },
           "mode": "lines",
           "showlegend": false,
           "type": "scatter3d",
           "x": [
            0.1662367880344391,
            0.4791054129600525
           ],
           "y": [
            1.5279252529144287,
            1.4747947454452515
           ],
           "z": [
            -0.049842819571495056,
            -0.13586503267288208
           ]
          },
          {
           "line": {
            "color": "black",
            "width": 2
           },
           "mode": "lines",
           "showlegend": false,
           "type": "scatter3d",
           "x": [
            0.4791054129600525,
            0.664922297000885
           ],
           "y": [
            1.4747947454452515,
            1.369241714477539
           ],
           "z": [
            -0.13586503267288208,
            -0.18812043964862823
           ]
          },
          {
           "line": {
            "color": "black",
            "width": 2
           },
           "mode": "lines",
           "showlegend": false,
           "type": "scatter3d",
           "x": [
            0,
            -0.04529999941587448
           ],
           "y": [
            0,
            0.9214000105857849
           ],
           "z": [
            0,
            -0.20730000734329224
           ]
          },
          {
           "line": {
            "color": "black",
            "width": 2
           },
           "mode": "lines",
           "showlegend": false,
           "type": "scatter3d",
           "x": [
            -0.04529999941587448,
            0.08945327252149582
           ],
           "y": [
            0.9214000105857849,
            1.4458372592926025
           ],
           "z": [
            -0.20730000734329224,
            -0.32108956575393677
           ]
          },
          {
           "line": {
            "color": "black",
            "width": 2
           },
           "mode": "lines",
           "showlegend": false,
           "type": "scatter3d",
           "x": [
            0.08945327252149582,
            0.31193527579307556
           ],
           "y": [
            1.4458372592926025,
            1.6838206052780151
           ],
           "z": [
            -0.32108956575393677,
            -0.38758736848831177
           ]
          },
          {
           "line": {
            "color": "black",
            "width": 2
           },
           "mode": "lines",
           "showlegend": false,
           "type": "scatter3d",
           "x": [
            0.31193527579307556,
            0.4940297603607178
           ],
           "y": [
            1.6838206052780151,
            1.5581109523773193
           ],
           "z": [
            -0.38758736848831177,
            -0.3800610601902008
           ]
          },
          {
           "line": {
            "color": "black",
            "width": 2
           },
           "mode": "lines",
           "showlegend": false,
           "type": "scatter3d",
           "x": [
            0,
            -0.11640000343322754
           ],
           "y": [
            0,
            0.7821999788284302
           ],
           "z": [
            0,
            -0.3912999927997589
           ]
          },
          {
           "line": {
            "color": "black",
            "width": 2
           },
           "mode": "lines",
           "showlegend": false,
           "type": "scatter3d",
           "x": [
            -0.11640000343322754,
            0.07789848744869232
           ],
           "y": [
            0.7821999788284302,
            1.1837365627288818
           ],
           "z": [
            -0.3912999927997589,
            -0.36966484785079956
           ]
          },
          {
           "line": {
            "color": "black",
            "width": 2
           },
           "mode": "lines",
           "showlegend": false,
           "type": "scatter3d",
           "x": [
            0.07789848744869232,
            0.32223451137542725
           ],
           "y": [
            1.1837365627288818,
            1.3189465999603271
           ],
           "z": [
            -0.36966484785079956,
            -0.4271118938922882
           ]
          },
          {
           "line": {
            "color": "black",
            "width": 2
           },
           "mode": "lines",
           "showlegend": false,
           "type": "scatter3d",
           "x": [
            0.32223451137542725,
            0.532535970211029
           ],
           "y": [
            1.3189465999603271,
            1.3364566564559937
           ],
           "z": [
            -0.4271118938922882,
            -0.4991931915283203
           ]
          },
          {
           "line": {
            "color": "black",
            "width": 2
           },
           "mode": "lines",
           "showlegend": false,
           "type": "scatter3d",
           "x": [
            0.01190251111984253,
            -0.0019000000320374966
           ],
           "y": [
            0.48384737968444824,
            0.9692999720573425
           ],
           "z": [
            0.3513084650039673,
            0.2282000035047531
           ]
          },
          {
           "line": {
            "color": "black",
            "width": 2
           },
           "mode": "lines",
           "showlegend": false,
           "type": "scatter3d",
           "x": [
            -0.0019000000320374966,
            -0.0020000000949949026
           ],
           "y": [
            0.9692999720573425,
            0.996999979019165
           ],
           "z": [
            0.2282000035047531,
            -0.012400000356137753
           ]
          },
          {
           "line": {
            "color": "black",
            "width": 2
           },
           "mode": "lines",
           "showlegend": false,
           "type": "scatter3d",
           "x": [
            -0.0020000000949949026,
            -0.04529999941587448
           ],
           "y": [
            0.996999979019165,
            0.9214000105857849
           ],
           "z": [
            -0.012400000356137753,
            -0.20730000734329224
           ]
          },
          {
           "line": {
            "color": "black",
            "width": 2
           },
           "mode": "lines",
           "showlegend": false,
           "type": "scatter3d",
           "x": [
            -0.04529999941587448,
            -0.11640000343322754
           ],
           "y": [
            0.9214000105857849,
            0.7821999788284302
           ],
           "z": [
            -0.20730000734329224,
            -0.3912999927997589
           ]
          }
         ],
         "name": "48"
        },
        {
         "data": [
          {
           "marker": {
            "color": "blue",
            "size": 4
           },
           "mode": "markers+text",
           "name": "Landmarks",
           "text": [
            "0",
            "1",
            "2",
            "3",
            "4",
            "5",
            "6",
            "7",
            "8",
            "9",
            "10",
            "11",
            "12",
            "13",
            "14",
            "15",
            "16",
            "17",
            "18",
            "19"
           ],
           "textfont": {
            "color": "black",
            "size": 8
           },
           "textposition": "top center",
           "type": "scatter3d",
           "x": {
            "bdata": "AAAAAKCYMDy4ZRM+WTCxPWwJ+br19Ms7SaiOPoYv/T5vEgO7Z/oiPiri7z4neSc/fow5vZRYPD7cxgE/ryMwPyBj7r0w6J89qvakPjJNCD8=",
            "dtype": "f4"
           },
           "y": {
            "bdata": "AAAAAJQn+D54JEo/spV0PwskeD9ePbU/t8W2P8+LtT9kO38/aPPDP9jruz+hwq4/3+BrP4Retj+bVb0/XN+tP0I+SD+5f5c/4uCoP346qz8=",
            "dtype": "f4"
           },
           "z": {
            "bdata": "AAAAADittz70+Do+gK+vvEOtaT5753I+YutDPgo7Hj5fKUu8RVkXvYQRBL62YD++dEZUvoWSY76BBY++gK2jvnlYyL44rry+lOPZvq7J/r4=",
            "dtype": "f4"
           }
          },
          {
           "line": {
            "color": "black",
            "width": 2
           },
           "mode": "lines",
           "showlegend": false,
           "type": "scatter3d",
           "x": [
            0,
            0.010778576135635376
           ],
           "y": [
            0,
            0.48467695713043213
           ],
           "z": [
            0,
            0.35874342918395996
           ]
          },
          {
           "line": {
            "color": "black",
            "width": 2
           },
           "mode": "lines",
           "showlegend": false,
           "type": "scatter3d",
           "x": [
            0.010778576135635376,
            0.1439427137374878
           ],
           "y": [
            0.48467695713043213,
            0.789618968963623
           ],
           "z": [
            0.35874342918395996,
            0.1825903058052063
           ]
          },
          {
           "line": {
            "color": "black",
            "width": 2
           },
           "mode": "lines",
           "showlegend": false,
           "type": "scatter3d",
           "x": [
            0.1439427137374878,
            0.08651799708604813
           ],
           "y": [
            0.789618968963623,
            0.9554091691970825
           ],
           "z": [
            0.1825903058052063,
            -0.02144598960876465
           ]
          },
          {
           "line": {
            "color": "black",
            "width": 2
           },
           "mode": "lines",
           "showlegend": false,
           "type": "scatter3d",
           "x": [
            0,
            -0.0019000000320374966
           ],
           "y": [
            0,
            0.9692999720573425
           ],
           "z": [
            0,
            0.2282000035047531
           ]
          },
          {
           "line": {
            "color": "black",
            "width": 2
           },
           "mode": "lines",
           "showlegend": false,
           "type": "scatter3d",
           "x": [
            -0.0019000000320374966,
            0.006224269513040781
           ],
           "y": [
            0.9692999720573425,
            1.4159352779388428
           ],
           "z": [
            0.2282000035047531,
            0.23721115291118622
           ]
          },
          {
           "line": {
            "color": "black",
            "width": 2
           },
           "mode": "lines",
           "showlegend": false,
           "type": "scatter3d",
           "x": [
            0.006224269513040781,
            0.2786276638507843
           ],
           "y": [
            1.4159352779388428,
            1.4279087781906128
           ],
           "z": [
            0.23721115291118622,
            0.19132760167121887
           ]
          },
          {
           "line": {
            "color": "black",
            "width": 2
           },
           "mode": "lines",
           "showlegend": false,
           "type": "scatter3d",
           "x": [
            0.2786276638507843,
            0.4945032000541687
           ],
           "y": [
            1.4279087781906128,
            1.418329119682312
           ],
           "z": [
            0.19132760167121887,
            0.1545220911502838
           ]
          },
          {
           "line": {
            "color": "black",
            "width": 2
           },
           "mode": "lines",
           "showlegend": false,
           "type": "scatter3d",
           "x": [
            0,
            -0.0020000000949949026
           ],
           "y": [
            0,
            0.996999979019165
           ],
           "z": [
            0,
            -0.012400000356137753
           ]
          },
          {
           "line": {
            "color": "black",
            "width": 2
           },
           "mode": "lines",
           "showlegend": false,
           "type": "scatter3d",
           "x": [
            -0.0020000000949949026,
            0.15915833413600922
           ],
           "y": [
            0.996999979019165,
            1.5308656692504883
           ],
           "z": [
            -0.012400000356137753,
            -0.03695036843419075
           ]
          },
          {
           "line": {
            "color": "black",
            "width": 2
           },
           "mode": "lines",
           "showlegend": false,
           "type": "scatter3d",
           "x": [
            0.15915833413600922,
            0.4685223698616028
           ],
           "y": [
            1.5308656692504883,
            1.468134880065918
           ],
           "z": [
            -0.03695036843419075,
            -0.1289730668067932
           ]
          },
          {
           "line": {
            "color": "black",
            "width": 2
           },
           "mode": "lines",
           "showlegend": false,
           "type": "scatter3d",
           "x": [
            0.4685223698616028,
            0.6541923880577087
           ],
           "y": [
            1.468134880065918,
            1.3653146028518677
           ],
           "z": [
            -0.1289730668067932,
            -0.18689236044883728
           ]
          },
          {
           "line": {
            "color": "black",
            "width": 2
           },
           "mode": "lines",
           "showlegend": false,
           "type": "scatter3d",
           "x": [
            0,
            -0.04529999941587448
           ],
           "y": [
            0,
            0.9214000105857849
           ],
           "z": [
            0,
            -0.20730000734329224
           ]
          },
          {
           "line": {
            "color": "black",
            "width": 2
           },
           "mode": "lines",
           "showlegend": false,
           "type": "scatter3d",
           "x": [
            -0.04529999941587448,
            0.1839316487312317
           ],
           "y": [
            0.9214000105857849,
            1.4247593879699707
           ],
           "z": [
            -0.20730000734329224,
            -0.22223861515522003
           ]
          },
          {
           "line": {
            "color": "black",
            "width": 2
           },
           "mode": "lines",
           "showlegend": false,
           "type": "scatter3d",
           "x": [
            0.1839316487312317,
            0.5069406032562256
           ],
           "y": [
            1.4247593879699707,
            1.4791749715805054
           ],
           "z": [
            -0.22223861515522003,
            -0.27933886647224426
           ]
          },
          {
           "line": {
            "color": "black",
            "width": 2
           },
           "mode": "lines",
           "showlegend": false,
           "type": "scatter3d",
           "x": [
            0.5069406032562256,
            0.6880444884300232
           ],
           "y": [
            1.4791749715805054,
            1.3583788871765137
           ],
           "z": [
            -0.27933886647224426,
            -0.3196830749511719
           ]
          },
          {
           "line": {
            "color": "black",
            "width": 2
           },
           "mode": "lines",
           "showlegend": false,
           "type": "scatter3d",
           "x": [
            0,
            -0.11640000343322754
           ],
           "y": [
            0,
            0.7821999788284302
           ],
           "z": [
            0,
            -0.3912999927997589
           ]
          },
          {
           "line": {
            "color": "black",
            "width": 2
           },
           "mode": "lines",
           "showlegend": false,
           "type": "scatter3d",
           "x": [
            -0.11640000343322754,
            0.07807958126068115
           ],
           "y": [
            0.7821999788284302,
            1.183585286140442
           ],
           "z": [
            -0.3912999927997589,
            -0.3685166835784912
           ]
          },
          {
           "line": {
            "color": "black",
            "width": 2
           },
           "mode": "lines",
           "showlegend": false,
           "type": "scatter3d",
           "x": [
            0.07807958126068115,
            0.3221943974494934
           ],
           "y": [
            1.183585286140442,
            1.3193628787994385
           ],
           "z": [
            -0.3685166835784912,
            -0.42556440830230713
           ]
          },
          {
           "line": {
            "color": "black",
            "width": 2
           },
           "mode": "lines",
           "showlegend": false,
           "type": "scatter3d",
           "x": [
            0.3221943974494934,
            0.5324279069900513
           ],
           "y": [
            1.3193628787994385,
            1.3377225399017334
           ],
           "z": [
            -0.42556440830230713,
            -0.4976324439048767
           ]
          },
          {
           "line": {
            "color": "black",
            "width": 2
           },
           "mode": "lines",
           "showlegend": false,
           "type": "scatter3d",
           "x": [
            0.010778576135635376,
            -0.0019000000320374966
           ],
           "y": [
            0.48467695713043213,
            0.9692999720573425
           ],
           "z": [
            0.35874342918395996,
            0.2282000035047531
           ]
          },
          {
           "line": {
            "color": "black",
            "width": 2
           },
           "mode": "lines",
           "showlegend": false,
           "type": "scatter3d",
           "x": [
            -0.0019000000320374966,
            -0.0020000000949949026
           ],
           "y": [
            0.9692999720573425,
            0.996999979019165
           ],
           "z": [
            0.2282000035047531,
            -0.012400000356137753
           ]
          },
          {
           "line": {
            "color": "black",
            "width": 2
           },
           "mode": "lines",
           "showlegend": false,
           "type": "scatter3d",
           "x": [
            -0.0020000000949949026,
            -0.04529999941587448
           ],
           "y": [
            0.996999979019165,
            0.9214000105857849
           ],
           "z": [
            -0.012400000356137753,
            -0.20730000734329224
           ]
          },
          {
           "line": {
            "color": "black",
            "width": 2
           },
           "mode": "lines",
           "showlegend": false,
           "type": "scatter3d",
           "x": [
            -0.04529999941587448,
            -0.11640000343322754
           ],
           "y": [
            0.9214000105857849,
            0.7821999788284302
           ],
           "z": [
            -0.20730000734329224,
            -0.3912999927997589
           ]
          }
         ],
         "name": "49"
        },
        {
         "data": [
          {
           "marker": {
            "color": "blue",
            "size": 4
           },
           "mode": "markers+text",
           "name": "Landmarks",
           "text": [
            "0",
            "1",
            "2",
            "3",
            "4",
            "5",
            "6",
            "7",
            "8",
            "9",
            "10",
            "11",
            "12",
            "13",
            "14",
            "15",
            "16",
            "17",
            "18",
            "19"
           ],
           "textfont": {
            "color": "black",
            "size": 8
           },
           "textposition": "top center",
           "type": "scatter3d",
           "x": {
            "bdata": "AAAAACCEJDxgdhE+UhytPWwJ+brM4RW6CDWLPii9+T5vEgO7K/0cPoy27D7s/SU/fow5vZ4qOz64ygE/KsMwPyBj7r2uBqA93AClPrxSCD8=",
            "dtype": "f4"
           },
           "y": {
            "bdata": "AAAAAJKV+D7Gh0o/VAV1PwskeD/VP7U/mcm2Py9utT9kO38/mC7EP1rtuz9E3a4/3+BrP2Bwtj+qSLw/5k6tP0I+SD8Kf5c/kd6oP5Iwqz8=",
            "dtype": "f4"
           },
           "z": {
            "bdata": "AAAAAB0SuD6VEjw+gGWlvEOtaT6ou3I+LRxEPhzAHj5fKUu8L1wQva1BAr5Cnz2+dEZUvgHLYr7pCo++o++jvnlYyL5Tv7y+N/nZvnLk/r4=",
            "dtype": "f4"
           }
          },
          {
           "line": {
            "color": "black",
            "width": 2
           },
           "mode": "lines",
           "showlegend": false,
           "type": "scatter3d",
           "x": [
            0,
            0.010041266679763794
           ],
           "y": [
            0,
            0.48551613092422485
           ],
           "z": [
            0,
            0.35951319336891174
           ]
          },
          {
           "line": {
            "color": "black",
            "width": 2
           },
           "mode": "lines",
           "showlegend": false,
           "type": "scatter3d",
           "x": [
            0.010041266679763794,
            0.14205312728881836
           ],
           "y": [
            0.48551613092422485,
            0.791134238243103
           ],
           "z": [
            0.35951319336891174,
            0.18366463482379913
           ]
          },
          {
           "line": {
            "color": "black",
            "width": 2
           },
           "mode": "lines",
           "showlegend": false,
           "type": "scatter3d",
           "x": [
            0.14205312728881836,
            0.0845266729593277
           ],
           "y": [
            0.791134238243103,
            0.9571125507354736
           ],
           "z": [
            0.18366463482379913,
            -0.020190000534057617
           ]
          },
          {
           "line": {
            "color": "black",
            "width": 2
           },
           "mode": "lines",
           "showlegend": false,
           "type": "scatter3d",
           "x": [
            0,
            -0.0019000000320374966
           ],
           "y": [
            0,
            0.9692999720573425
           ],
           "z": [
            0,
            0.2282000035047531
           ]
          },
          {
           "line": {
            "color": "black",
            "width": 2
           },
           "mode": "lines",
           "showlegend": false,
           "type": "scatter3d",
           "x": [
            -0.0019000000320374966,
            -0.0005717545282095671
           ],
           "y": [
            0.9692999720573425,
            1.4160104990005493
           ],
           "z": [
            0.2282000035047531,
            0.23704397678375244
           ]
          },
          {
           "line": {
            "color": "black",
            "width": 2
           },
           "mode": "lines",
           "showlegend": false,
           "type": "scatter3d",
           "x": [
            -0.0005717545282095671,
            0.27188897132873535
           ],
           "y": [
            1.4160104990005493,
            1.4280272722244263
           ],
           "z": [
            0.23704397678375244,
            0.19151373207569122
           ]
          },
          {
           "line": {
            "color": "black",
            "width": 2
           },
           "mode": "lines",
           "showlegend": false,
           "type": "scatter3d",
           "x": [
            0.27188897132873535,
            0.48777127265930176
           ],
           "y": [
            1.4280272722244263,
            1.4174250364303589
           ],
           "z": [
            0.19151373207569122,
            0.15502971410751343
           ]
          },
          {
           "line": {
            "color": "black",
            "width": 2
           },
           "mode": "lines",
           "showlegend": false,
           "type": "scatter3d",
           "x": [
            0,
            -0.0020000000949949026
           ],
           "y": [
            0,
            0.996999979019165
           ],
           "z": [
            0,
            -0.012400000356137753
           ]
          },
          {
           "line": {
            "color": "black",
            "width": 2
           },
           "mode": "lines",
           "showlegend": false,
           "type": "scatter3d",
           "x": [
            -0.0020000000949949026,
            0.15330950915813446
           ],
           "y": [
            0.996999979019165,
            1.5326719284057617
           ],
           "z": [
            -0.012400000356137753,
            -0.0352441631257534
           ]
          },
          {
           "line": {
            "color": "black",
            "width": 2
           },
           "mode": "lines",
           "showlegend": false,
           "type": "scatter3d",
           "x": [
            0.15330950915813446,
            0.4623302221298218
           ],
           "y": [
            1.5326719284057617,
            1.4681808948516846
           ],
           "z": [
            -0.0352441631257534,
            -0.12720365822315216
           ]
          },
          {
           "line": {
            "color": "black",
            "width": 2
           },
           "mode": "lines",
           "showlegend": false,
           "type": "scatter3d",
           "x": [
            0.4623302221298218,
            0.6484057903289795
           ],
           "y": [
            1.4681808948516846,
            1.3661274909973145
           ],
           "z": [
            -0.12720365822315216,
            -0.18517783284187317
           ]
          },
          {
           "line": {
            "color": "black",
            "width": 2
           },
           "mode": "lines",
           "showlegend": false,
           "type": "scatter3d",
           "x": [
            0,
            -0.04529999941587448
           ],
           "y": [
            0,
            0.9214000105857849
           ],
           "z": [
            0,
            -0.20730000734329224
           ]
          },
          {
           "line": {
            "color": "black",
            "width": 2
           },
           "mode": "lines",
           "showlegend": false,
           "type": "scatter3d",
           "x": [
            -0.04529999941587448,
            0.18277975916862488
           ],
           "y": [
            0.9214000105857849,
            1.4253044128417969
           ],
           "z": [
            -0.20730000734329224,
            -0.22147752344608307
           ]
          },
          {
           "line": {
            "color": "black",
            "width": 2
           },
           "mode": "lines",
           "showlegend": false,
           "type": "scatter3d",
           "x": [
            0.18277975916862488,
            0.5069994926452637
           ],
           "y": [
            1.4253044128417969,
            1.4709675312042236
           ],
           "z": [
            -0.22147752344608307,
            -0.27938011288642883
           ]
          },
          {
           "line": {
            "color": "black",
            "width": 2
           },
           "mode": "lines",
           "showlegend": false,
           "type": "scatter3d",
           "x": [
            0.5069994926452637,
            0.6904779672622681
           ],
           "y": [
            1.4709675312042236,
            1.3539702892303467
           ],
           "z": [
            -0.27938011288642883,
            -0.32018765807151794
           ]
          },
          {
           "line": {
            "color": "black",
            "width": 2
           },
           "mode": "lines",
           "showlegend": false,
           "type": "scatter3d",
           "x": [
            0,
            -0.11640000343322754
           ],
           "y": [
            0,
            0.7821999788284302
           ],
           "z": [
            0,
            -0.3912999927997589
           ]
          },
          {
           "line": {
            "color": "black",
            "width": 2
           },
           "mode": "lines",
           "showlegend": false,
           "type": "scatter3d",
           "x": [
            -0.11640000343322754,
            0.07813774049282074
           ],
           "y": [
            0.7821999788284302,
            1.1835644245147705
           ],
           "z": [
            -0.3912999927997589,
            -0.36864718794822693
           ]
          },
          {
           "line": {
            "color": "black",
            "width": 2
           },
           "mode": "lines",
           "showlegend": false,
           "type": "scatter3d",
           "x": [
            0.07813774049282074,
            0.3222721815109253
           ],
           "y": [
            1.1835644245147705,
            1.3192921876907349
           ],
           "z": [
            -0.36864718794822693,
            -0.4257294833660126
           ]
          },
          {
           "line": {
            "color": "black",
            "width": 2
           },
           "mode": "lines",
           "showlegend": false,
           "type": "scatter3d",
           "x": [
            0.3222721815109253,
            0.5325124263763428
           ],
           "y": [
            1.3192921876907349,
            1.3374197483062744
           ],
           "z": [
            -0.4257294833660126,
            -0.4978366494178772
           ]
          },
          {
           "line": {
            "color": "black",
            "width": 2
           },
           "mode": "lines",
           "showlegend": false,
           "type": "scatter3d",
           "x": [
            0.010041266679763794,
            -0.0019000000320374966
           ],
           "y": [
            0.48551613092422485,
            0.9692999720573425
           ],
           "z": [
            0.35951319336891174,
            0.2282000035047531
           ]
          },
          {
           "line": {
            "color": "black",
            "width": 2
           },
           "mode": "lines",
           "showlegend": false,
           "type": "scatter3d",
           "x": [
            -0.0019000000320374966,
            -0.0020000000949949026
           ],
           "y": [
            0.9692999720573425,
            0.996999979019165
           ],
           "z": [
            0.2282000035047531,
            -0.012400000356137753
           ]
          },
          {
           "line": {
            "color": "black",
            "width": 2
           },
           "mode": "lines",
           "showlegend": false,
           "type": "scatter3d",
           "x": [
            -0.0020000000949949026,
            -0.04529999941587448
           ],
           "y": [
            0.996999979019165,
            0.9214000105857849
           ],
           "z": [
            -0.012400000356137753,
            -0.20730000734329224
           ]
          },
          {
           "line": {
            "color": "black",
            "width": 2
           },
           "mode": "lines",
           "showlegend": false,
           "type": "scatter3d",
           "x": [
            -0.04529999941587448,
            -0.11640000343322754
           ],
           "y": [
            0.9214000105857849,
            0.7821999788284302
           ],
           "z": [
            -0.20730000734329224,
            -0.3912999927997589
           ]
          }
         ],
         "name": "50"
        },
        {
         "data": [
          {
           "marker": {
            "color": "blue",
            "size": 4
           },
           "mode": "markers+text",
           "name": "Landmarks",
           "text": [
            "0",
            "1",
            "2",
            "3",
            "4",
            "5",
            "6",
            "7",
            "8",
            "9",
            "10",
            "11",
            "12",
            "13",
            "14",
            "15",
            "16",
            "17",
            "18",
            "19"
           ],
           "textfont": {
            "color": "black",
            "size": 8
           },
           "textposition": "top center",
           "type": "scatter3d",
           "x": {
            "bdata": "AAAAAMBBZjyQzRw+yPLOPWwJ+boK1zs9AE2jPpDzCD9vEgO7aVhFPkC5AD+/qS8/fow5vfrOMT6EEQA/h1oxPyBj7r2WYJ89ksikPsQ1CD8=",
            "dtype": "f4"
           },
           "y": {
            "bdata": "AAAAAB4+9j5GS0g/zT5zPwskeD9x7LQ/Jp61P0Cssz9kO38/LknCP0QnuT9Z7qo/3+BrP8Lytj/gibk/IoSsP0I+SD9lg5c/Y+uoP29Gqz8=",
            "dtype": "f4"
           },
           "z": {
            "bdata": "AAAAAEVHtT7EtjQ++DDgvEOtaT5rWGE+H1k1PreSEj5fKUu8OYh6veNmE76q7EW+dEZUvtPKZL6fhZC+7gWlvnlYyL4VkLy+drjZvlKf/r4=",
            "dtype": "f4"
           }
          },
          {
           "line": {
            "color": "black",
            "width": 2
           },
           "mode": "lines",
           "showlegend": false,
           "type": "scatter3d",
           "x": [
            0,
            0.014053761959075928
           ],
           "y": [
            0,
            0.48094266653060913
           ],
           "z": [
            0,
            0.3540593683719635
           ]
          },
          {
           "line": {
            "color": "black",
            "width": 2
           },
           "mode": "lines",
           "showlegend": false,
           "type": "scatter3d",
           "x": [
            0.014053761959075928,
            0.15312790870666504
           ],
           "y": [
            0.48094266653060913,
            0.7823985815048218
           ],
           "z": [
            0.3540593683719635,
            0.17647844552993774
           ]
          },
          {
           "line": {
            "color": "black",
            "width": 2
           },
           "mode": "lines",
           "showlegend": false,
           "type": "scatter3d",
           "x": [
            0.15312790870666504,
            0.10104900598526001
           ],
           "y": [
            0.7823985815048218,
            0.950177013874054
           ],
           "z": [
            0.17647844552993774,
            -0.02736710011959076
           ]
          },
          {
           "line": {
            "color": "black",
            "width": 2
           },
           "mode": "lines",
           "showlegend": false,
           "type": "scatter3d",
           "x": [
            0,
            -0.0019000000320374966
           ],
           "y": [
            0,
            0.9692999720573425
           ],
           "z": [
            0,
            0.2282000035047531
           ]
          },
          {
           "line": {
            "color": "black",
            "width": 2
           },
           "mode": "lines",
           "showlegend": false,
           "type": "scatter3d",
           "x": [
            -0.0019000000320374966,
            0.04585937410593033
           ],
           "y": [
            0.9692999720573425,
            1.4134656190872192
           ],
           "z": [
            0.2282000035047531,
            0.22006385028362274
           ]
          },
          {
           "line": {
            "color": "black",
            "width": 2
           },
           "mode": "lines",
           "showlegend": false,
           "type": "scatter3d",
           "x": [
            0.04585937410593033,
            0.31894683837890625
           ],
           "y": [
            1.4134656190872192,
            1.418888807296753
           ],
           "z": [
            0.22006385028362274,
            0.17709778249263763
           ]
          },
          {
           "line": {
            "color": "black",
            "width": 2
           },
           "mode": "lines",
           "showlegend": false,
           "type": "scatter3d",
           "x": [
            0.31894683837890625,
            0.5349664688110352
           ],
           "y": [
            1.418888807296753,
            1.4036941528320312
           ],
           "z": [
            0.17709778249263763,
            0.14313779771327972
           ]
          },
          {
           "line": {
            "color": "black",
            "width": 2
           },
           "mode": "lines",
           "showlegend": false,
           "type": "scatter3d",
           "x": [
            0,
            -0.0020000000949949026
           ],
           "y": [
            0,
            0.996999979019165
           ],
           "z": [
            0,
            -0.012400000356137753
           ]
          },
          {
           "line": {
            "color": "black",
            "width": 2
           },
           "mode": "lines",
           "showlegend": false,
           "type": "scatter3d",
           "x": [
            -0.0020000000949949026,
            0.19272007048130035
           ],
           "y": [
            0.996999979019165,
            1.5178582668304443
           ],
           "z": [
            -0.012400000356137753,
            -0.06116506829857826
           ]
          },
          {
           "line": {
            "color": "black",
            "width": 2
           },
           "mode": "lines",
           "showlegend": false,
           "type": "scatter3d",
           "x": [
            0.19272007048130035,
            0.5028266906738281
           ],
           "y": [
            1.5178582668304443,
            1.4465107917785645
           ],
           "z": [
            -0.06116506829857826,
            -0.14394716918468475
           ]
          },
          {
           "line": {
            "color": "black",
            "width": 2
           },
           "mode": "lines",
           "showlegend": false,
           "type": "scatter3d",
           "x": [
            0.5028266906738281,
            0.6861838698387146
           ],
           "y": [
            1.4465107917785645,
            1.33539879322052
           ],
           "z": [
            -0.14394716918468475,
            -0.19328561425209045
           ]
          },
          {
           "line": {
            "color": "black",
            "width": 2
           },
           "mode": "lines",
           "showlegend": false,
           "type": "scatter3d",
           "x": [
            0,
            -0.04529999941587448
           ],
           "y": [
            0,
            0.9214000105857849
           ],
           "z": [
            0,
            -0.20730000734329224
           ]
          },
          {
           "line": {
            "color": "black",
            "width": 2
           },
           "mode": "lines",
           "showlegend": false,
           "type": "scatter3d",
           "x": [
            -0.04529999941587448,
            0.1736411154270172
           ],
           "y": [
            0.9214000105857849,
            1.4292833805084229
           ],
           "z": [
            -0.20730000734329224,
            -0.22342996299266815
           ]
          },
          {
           "line": {
            "color": "black",
            "width": 2
           },
           "mode": "lines",
           "showlegend": false,
           "type": "scatter3d",
           "x": [
            0.1736411154270172,
            0.5002672672271729
           ],
           "y": [
            1.4292833805084229,
            1.4495201110839844
           ],
           "z": [
            -0.22342996299266815,
            -0.2822694480419159
           ]
          },
          {
           "line": {
            "color": "black",
            "width": 2
           },
           "mode": "lines",
           "showlegend": false,
           "type": "scatter3d",
           "x": [
            0.5002672672271729,
            0.6927875876426697
           ],
           "y": [
            1.4495201110839844,
            1.3477823734283447
           ],
           "z": [
            -0.2822694480419159,
            -0.3223108649253845
           ]
          },
          {
           "line": {
            "color": "black",
            "width": 2
           },
           "mode": "lines",
           "showlegend": false,
           "type": "scatter3d",
           "x": [
            0,
            -0.11640000343322754
           ],
           "y": [
            0,
            0.7821999788284302
           ],
           "z": [
            0,
            -0.3912999927997589
           ]
          },
          {
           "line": {
            "color": "black",
            "width": 2
           },
           "mode": "lines",
           "showlegend": false,
           "type": "scatter3d",
           "x": [
            -0.11640000343322754,
            0.07782094180583954
           ],
           "y": [
            0.7821999788284302,
            1.1836973428726196
           ],
           "z": [
            -0.3912999927997589,
            -0.36828675866127014
           ]
          },
          {
           "line": {
            "color": "black",
            "width": 2
           },
           "mode": "lines",
           "showlegend": false,
           "type": "scatter3d",
           "x": [
            0.07782094180583954,
            0.3218427300453186
           ],
           "y": [
            1.1836973428726196,
            1.3196834325790405
           ],
           "z": [
            -0.36828675866127014,
            -0.42523545026779175
           ]
          },
          {
           "line": {
            "color": "black",
            "width": 2
           },
           "mode": "lines",
           "showlegend": false,
           "type": "scatter3d",
           "x": [
            0.3218427300453186,
            0.5320703983306885
           ],
           "y": [
            1.3196834325790405,
            1.3380869626998901
           ],
           "z": [
            -0.42523545026779175,
            -0.49730926752090454
           ]
          },
          {
           "line": {
            "color": "black",
            "width": 2
           },
           "mode": "lines",
           "showlegend": false,
           "type": "scatter3d",
           "x": [
            0.014053761959075928,
            -0.0019000000320374966
           ],
           "y": [
            0.48094266653060913,
            0.9692999720573425
           ],
           "z": [
            0.3540593683719635,
            0.2282000035047531
           ]
          },
          {
           "line": {
            "color": "black",
            "width": 2
           },
           "mode": "lines",
           "showlegend": false,
           "type": "scatter3d",
           "x": [
            -0.0019000000320374966,
            -0.0020000000949949026
           ],
           "y": [
            0.9692999720573425,
            0.996999979019165
           ],
           "z": [
            0.2282000035047531,
            -0.012400000356137753
           ]
          },
          {
           "line": {
            "color": "black",
            "width": 2
           },
           "mode": "lines",
           "showlegend": false,
           "type": "scatter3d",
           "x": [
            -0.0020000000949949026,
            -0.04529999941587448
           ],
           "y": [
            0.996999979019165,
            0.9214000105857849
           ],
           "z": [
            -0.012400000356137753,
            -0.20730000734329224
           ]
          },
          {
           "line": {
            "color": "black",
            "width": 2
           },
           "mode": "lines",
           "showlegend": false,
           "type": "scatter3d",
           "x": [
            -0.04529999941587448,
            -0.11640000343322754
           ],
           "y": [
            0.9214000105857849,
            0.7821999788284302
           ],
           "z": [
            -0.20730000734329224,
            -0.3912999927997589
           ]
          }
         ],
         "name": "51"
        },
        {
         "data": [
          {
           "marker": {
            "color": "blue",
            "size": 4
           },
           "mode": "markers+text",
           "name": "Landmarks",
           "text": [
            "0",
            "1",
            "2",
            "3",
            "4",
            "5",
            "6",
            "7",
            "8",
            "9",
            "10",
            "11",
            "12",
            "13",
            "14",
            "15",
            "16",
            "17",
            "18",
            "19"
           ],
           "textfont": {
            "color": "black",
            "size": 8
           },
           "textposition": "top center",
           "type": "scatter3d",
           "x": {
            "bdata": "AAAAACC1Tzx99Rg+ecfDPWwJ+bptLvE886SaPq+TBD9vEgO7yqQ0PmAM+T4ktys/fow5vaAaMj4+HgA/aUsxPyBj7r3UYZ89BMmkPgQ2CD8=",
            "dtype": "f4"
           },
           "y": {
            "bdata": "AAAAAGAL9z7YGkk/i/JzPwskeD92HrU/nF22P7PHtD9kO38/TinDP+7auj9MJa0/3+BrP7jutj9YvLk/aJysP0I+SD9gg5c/SOuoP0FGqz8=",
            "dtype": "f4"
           },
           "z": {
            "bdata": "AAAAALB3tj6y/jc+8C/FvEOtaT4hTmw+qfg9PuLsGD5fKUu8sQJGvbniC75PeUO+dEZUvui/ZL7CdpC+PPekvnlYyL4ikby+yLnZvpSg/r4=",
            "dtype": "f4"
           }
          },
          {
           "line": {
            "color": "black",
            "width": 2
           },
           "mode": "lines",
           "showlegend": false,
           "type": "scatter3d",
           "x": [
            0,
            0.01267746090888977
           ],
           "y": [
            0,
            0.48250865936279297
           ],
           "z": [
            0,
            0.356381893157959
           ]
          },
          {
           "line": {
            "color": "black",
            "width": 2
           },
           "mode": "lines",
           "showlegend": false,
           "type": "scatter3d",
           "x": [
            0.01267746090888977,
            0.14937396347522736
           ],
           "y": [
            0.48250865936279297,
            0.7855658531188965
           ],
           "z": [
            0.356381893157959,
            0.17968252301216125
           ]
          },
          {
           "line": {
            "color": "black",
            "width": 2
           },
           "mode": "lines",
           "showlegend": false,
           "type": "scatter3d",
           "x": [
            0.14937396347522736,
            0.09559530764818192
           ],
           "y": [
            0.7855658531188965,
            0.9529196619987488
           ],
           "z": [
            0.17968252301216125,
            -0.024070709943771362
           ]
          },
          {
           "line": {
            "color": "black",
            "width": 2
           },
           "mode": "lines",
           "showlegend": false,
           "type": "scatter3d",
           "x": [
            0,
            -0.0019000000320374966
           ],
           "y": [
            0,
            0.9692999720573425
           ],
           "z": [
            0,
            0.2282000035047531
           ]
          },
          {
           "line": {
            "color": "black",
            "width": 2
           },
           "mode": "lines",
           "showlegend": false,
           "type": "scatter3d",
           "x": [
            -0.0019000000320374966,
            0.02944108285009861
           ],
           "y": [
            0.9692999720573425,
            1.414992094039917
           ],
           "z": [
            0.2282000035047531,
            0.23076678812503815
           ]
          },
          {
           "line": {
            "color": "black",
            "width": 2
           },
           "mode": "lines",
           "showlegend": false,
           "type": "scatter3d",
           "x": [
            0.02944108285009861,
            0.3020397126674652
           ],
           "y": [
            1.414992094039917,
            1.424731731414795
           ],
           "z": [
            0.23076678812503815,
            0.18551887571811676
           ]
          },
          {
           "line": {
            "color": "black",
            "width": 2
           },
           "mode": "lines",
           "showlegend": false,
           "type": "scatter3d",
           "x": [
            0.3020397126674652,
            0.5178784728050232
           ],
           "y": [
            1.424731731414795,
            1.4123443365097046
           ],
           "z": [
            0.18551887571811676,
            0.1493411362171173
           ]
          },
          {
           "line": {
            "color": "black",
            "width": 2
           },
           "mode": "lines",
           "showlegend": false,
           "type": "scatter3d",
           "x": [
            0,
            -0.0020000000949949026
           ],
           "y": [
            0,
            0.996999979019165
           ],
           "z": [
            0,
            -0.012400000356137753
           ]
          },
          {
           "line": {
            "color": "black",
            "width": 2
           },
           "mode": "lines",
           "showlegend": false,
           "type": "scatter3d",
           "x": [
            -0.0020000000949949026,
            0.17640987038612366
           ],
           "y": [
            0.996999979019165,
            1.52469801902771
           ],
           "z": [
            -0.012400000356137753,
            -0.04834241047501564
           ]
          },
          {
           "line": {
            "color": "black",
            "width": 2
           },
           "mode": "lines",
           "showlegend": false,
           "type": "scatter3d",
           "x": [
            0.17640987038612366,
            0.4864225387573242
           ],
           "y": [
            1.52469801902771,
            1.459806203842163
           ],
           "z": [
            -0.04834241047501564,
            -0.1366070657968521
           ]
          },
          {
           "line": {
            "color": "black",
            "width": 2
           },
           "mode": "lines",
           "showlegend": false,
           "type": "scatter3d",
           "x": [
            0.4864225387573242,
            0.6707632541656494
           ],
           "y": [
            1.459806203842163,
            1.3527007102966309
           ],
           "z": [
            -0.1366070657968521,
            -0.19089244306087494
           ]
          },
          {
           "line": {
            "color": "black",
            "width": 2
           },
           "mode": "lines",
           "showlegend": false,
           "type": "scatter3d",
           "x": [
            0,
            -0.04529999941587448
           ],
           "y": [
            0,
            0.9214000105857849
           ],
           "z": [
            0,
            -0.20730000734329224
           ]
          },
          {
           "line": {
            "color": "black",
            "width": 2
           },
           "mode": "lines",
           "showlegend": false,
           "type": "scatter3d",
           "x": [
            -0.04529999941587448,
            0.17392969131469727
           ],
           "y": [
            0.9214000105857849,
            1.4291601181030273
           ],
           "z": [
            -0.20730000734329224,
            -0.22338831424713135
           ]
          },
          {
           "line": {
            "color": "black",
            "width": 2
           },
           "mode": "lines",
           "showlegend": false,
           "type": "scatter3d",
           "x": [
            0.17392969131469727,
            0.5004614591598511
           ],
           "y": [
            1.4291601181030273,
            1.4510602951049805
           ],
           "z": [
            -0.22338831424713135,
            -0.2821560502052307
           ]
          },
          {
           "line": {
            "color": "black",
            "width": 2
           },
           "mode": "lines",
           "showlegend": false,
           "type": "scatter3d",
           "x": [
            0.5004614591598511,
            0.6925569176673889
           ],
           "y": [
            1.4510602951049805,
            1.3485231399536133
           ],
           "z": [
            -0.2821560502052307,
            -0.322198748588562
           ]
          },
          {
           "line": {
            "color": "black",
            "width": 2
           },
           "mode": "lines",
           "showlegend": false,
           "type": "scatter3d",
           "x": [
            0,
            -0.11640000343322754
           ],
           "y": [
            0,
            0.7821999788284302
           ],
           "z": [
            0,
            -0.3912999927997589
           ]
          },
          {
           "line": {
            "color": "black",
            "width": 2
           },
           "mode": "lines",
           "showlegend": false,
           "type": "scatter3d",
           "x": [
            -0.11640000343322754,
            0.07782331109046936
           ],
           "y": [
            0.7821999788284302,
            1.1836967468261719
           ],
           "z": [
            -0.3912999927997589,
            -0.36829477548599243
           ]
          },
          {
           "line": {
            "color": "black",
            "width": 2
           },
           "mode": "lines",
           "showlegend": false,
           "type": "scatter3d",
           "x": [
            0.07782331109046936,
            0.3218461275100708
           ],
           "y": [
            1.1836967468261719,
            1.3196802139282227
           ],
           "z": [
            -0.36829477548599243,
            -0.4252455234527588
           ]
          },
          {
           "line": {
            "color": "black",
            "width": 2
           },
           "mode": "lines",
           "showlegend": false,
           "type": "scatter3d",
           "x": [
            0.3218461275100708,
            0.5320742130279541
           ],
           "y": [
            1.3196802139282227,
            1.3380814790725708
           ],
           "z": [
            -0.4252455234527588,
            -0.4973188638687134
           ]
          },
          {
           "line": {
            "color": "black",
            "width": 2
           },
           "mode": "lines",
           "showlegend": false,
           "type": "scatter3d",
           "x": [
            0.01267746090888977,
            -0.0019000000320374966
           ],
           "y": [
            0.48250865936279297,
            0.9692999720573425
           ],
           "z": [
            0.356381893157959,
            0.2282000035047531
           ]
          },
          {
           "line": {
            "color": "black",
            "width": 2
           },
           "mode": "lines",
           "showlegend": false,
           "type": "scatter3d",
           "x": [
            -0.0019000000320374966,
            -0.0020000000949949026
           ],
           "y": [
            0.9692999720573425,
            0.996999979019165
           ],
           "z": [
            0.2282000035047531,
            -0.012400000356137753
           ]
          },
          {
           "line": {
            "color": "black",
            "width": 2
           },
           "mode": "lines",
           "showlegend": false,
           "type": "scatter3d",
           "x": [
            -0.0020000000949949026,
            -0.04529999941587448
           ],
           "y": [
            0.996999979019165,
            0.9214000105857849
           ],
           "z": [
            -0.012400000356137753,
            -0.20730000734329224
           ]
          },
          {
           "line": {
            "color": "black",
            "width": 2
           },
           "mode": "lines",
           "showlegend": false,
           "type": "scatter3d",
           "x": [
            -0.04529999941587448,
            -0.11640000343322754
           ],
           "y": [
            0.9214000105857849,
            0.7821999788284302
           ],
           "z": [
            -0.20730000734329224,
            -0.3912999927997589
           ]
          }
         ],
         "name": "52"
        },
        {
         "data": [
          {
           "marker": {
            "color": "blue",
            "size": 4
           },
           "mode": "markers+text",
           "name": "Landmarks",
           "text": [
            "0",
            "1",
            "2",
            "3",
            "4",
            "5",
            "6",
            "7",
            "8",
            "9",
            "10",
            "11",
            "12",
            "13",
            "14",
            "15",
            "16",
            "17",
            "18",
            "19"
           ],
           "textfont": {
            "color": "black",
            "size": 8
           },
           "textposition": "top center",
           "type": "scatter3d",
           "x": {
            "bdata": "AAAAAACEPDxXDBY+DjK9PWwJ+bqcz4g8UxeUPnRMAT9vEgO73RYsPgRh9D4agik/fow5vUgSMj5aHQA/cU8xPyBj7r3ClJ89Q9qkPuQ+CD8=",
            "dtype": "f4"
           },
           "y": {
            "bdata": "AAAAAIq49z4uxEk/Iqx0PwskeD/pNLU/aoS2PygCtT9kO38/H4/DP04guz8Cp60/3+BrPzDvtj8Csrk/0JasP0I+SD8Lgpc/W+eoP9I/qz8=",
            "dtype": "f4"
           },
           "z": {
            "bdata": "AAAAAEpZtz6Xqjo+6FWtvEOtaT5Eb28+GNpAPhCQGz5fKUu8pKEuvf4ECL5dh0G+dEZUvjm8ZL6kd5C+bfmkvnlYyL7Yn7y+5M3ZvsC1/r4=",
            "dtype": "f4"
           }
          },
          {
           "line": {
            "color": "black",
            "width": 2
           },
           "mode": "lines",
           "showlegend": false,
           "type": "scatter3d",
           "x": [
            0,
            0.011506080627441406
           ],
           "y": [
            0,
            0.4838297963142395
           ],
           "z": [
            0,
            0.35810309648513794
           ]
          },
          {
           "line": {
            "color": "black",
            "width": 2
           },
           "mode": "lines",
           "showlegend": false,
           "type": "scatter3d",
           "x": [
            0.011506080627441406,
            0.14653144776821136
           ],
           "y": [
            0.4838297963142395,
            0.7881497144699097
           ],
           "z": [
            0.35810309648513794,
            0.18229137361049652
           ]
          },
          {
           "line": {
            "color": "black",
            "width": 2
           },
           "mode": "lines",
           "showlegend": false,
           "type": "scatter3d",
           "x": [
            0.14653144776821136,
            0.09238062798976898
           ],
           "y": [
            0.7881497144699097,
            0.9557515382766724
           ],
           "z": [
            0.18229137361049652,
            -0.021159127354621887
           ]
          },
          {
           "line": {
            "color": "black",
            "width": 2
           },
           "mode": "lines",
           "showlegend": false,
           "type": "scatter3d",
           "x": [
            0,
            -0.0019000000320374966
           ],
           "y": [
            0,
            0.9692999720573425
           ],
           "z": [
            0,
            0.2282000035047531
           ]
          },
          {
           "line": {
            "color": "black",
            "width": 2
           },
           "mode": "lines",
           "showlegend": false,
           "type": "scatter3d",
           "x": [
            -0.0019000000320374966,
            0.016700558364391327
           ],
           "y": [
            0.9692999720573425,
            1.4156771898269653
           ],
           "z": [
            0.2282000035047531,
            0.23382288217544556
           ]
          },
          {
           "line": {
            "color": "black",
            "width": 2
           },
           "mode": "lines",
           "showlegend": false,
           "type": "scatter3d",
           "x": [
            0.016700558364391327,
            0.28924044966697693
           ],
           "y": [
            1.4156771898269653,
            1.4259159564971924
           ],
           "z": [
            0.23382288217544556,
            0.1883319616317749
           ]
          },
          {
           "line": {
            "color": "black",
            "width": 2
           },
           "mode": "lines",
           "showlegend": false,
           "type": "scatter3d",
           "x": [
            0.28924044966697693,
            0.505072832107544
           ],
           "y": [
            1.4259159564971924,
            1.414128303527832
           ],
           "z": [
            0.1883319616317749,
            0.1519167423248291
           ]
          },
          {
           "line": {
            "color": "black",
            "width": 2
           },
           "mode": "lines",
           "showlegend": false,
           "type": "scatter3d",
           "x": [
            0,
            -0.0020000000949949026
           ],
           "y": [
            0,
            0.996999979019165
           ],
           "z": [
            0,
            -0.012400000356137753
           ]
          },
          {
           "line": {
            "color": "black",
            "width": 2
           },
           "mode": "lines",
           "showlegend": false,
           "type": "scatter3d",
           "x": [
            -0.0020000000949949026,
            0.1680559664964676
           ],
           "y": [
            0.996999979019165,
            1.527805209159851
           ],
           "z": [
            -0.012400000356137753,
            -0.042634621262550354
           ]
          },
          {
           "line": {
            "color": "black",
            "width": 2
           },
           "mode": "lines",
           "showlegend": false,
           "type": "scatter3d",
           "x": [
            0.1680559664964676,
            0.4773026704788208
           ],
           "y": [
            1.527805209159851,
            1.461923360824585
           ],
           "z": [
            -0.042634621262550354,
            -0.13283154368400574
           ]
          },
          {
           "line": {
            "color": "black",
            "width": 2
           },
           "mode": "lines",
           "showlegend": false,
           "type": "scatter3d",
           "x": [
            0.4773026704788208,
            0.6621414422988892
           ],
           "y": [
            1.461923360824585,
            1.356659173965454
           ],
           "z": [
            -0.13283154368400574,
            -0.1889929324388504
           ]
          },
          {
           "line": {
            "color": "black",
            "width": 2
           },
           "mode": "lines",
           "showlegend": false,
           "type": "scatter3d",
           "x": [
            0,
            -0.04529999941587448
           ],
           "y": [
            0,
            0.9214000105857849
           ],
           "z": [
            0,
            -0.20730000734329224
           ]
          },
          {
           "line": {
            "color": "black",
            "width": 2
           },
           "mode": "lines",
           "showlegend": false,
           "type": "scatter3d",
           "x": [
            -0.04529999941587448,
            0.1738978624343872
           ],
           "y": [
            0.9214000105857849,
            1.4291744232177734
           ],
           "z": [
            -0.20730000734329224,
            -0.22337426245212555
           ]
          },
          {
           "line": {
            "color": "black",
            "width": 2
           },
           "mode": "lines",
           "showlegend": false,
           "type": "scatter3d",
           "x": [
            0.1738978624343872,
            0.5004478693008423
           ],
           "y": [
            1.4291744232177734,
            1.450744867324829
           ],
           "z": [
            -0.22337426245212555,
            -0.28216278553009033
           ]
          },
          {
           "line": {
            "color": "black",
            "width": 2
           },
           "mode": "lines",
           "showlegend": false,
           "type": "scatter3d",
           "x": [
            0.5004478693008423,
            0.6926184296607971
           ],
           "y": [
            1.450744867324829,
            1.3483524322509766
           ],
           "z": [
            -0.28216278553009033,
            -0.3222154676914215
           ]
          },
          {
           "line": {
            "color": "black",
            "width": 2
           },
           "mode": "lines",
           "showlegend": false,
           "type": "scatter3d",
           "x": [
            0,
            -0.11640000343322754
           ],
           "y": [
            0,
            0.7821999788284302
           ],
           "z": [
            0,
            -0.3912999927997589
           ]
          },
          {
           "line": {
            "color": "black",
            "width": 2
           },
           "mode": "lines",
           "showlegend": false,
           "type": "scatter3d",
           "x": [
            -0.11640000343322754,
            0.07792045176029205
           ],
           "y": [
            0.7821999788284302,
            1.183656096458435
           ],
           "z": [
            -0.3912999927997589,
            -0.3684070110321045
           ]
          },
          {
           "line": {
            "color": "black",
            "width": 2
           },
           "mode": "lines",
           "showlegend": false,
           "type": "scatter3d",
           "x": [
            0.07792045176029205,
            0.3219777047634125
           ],
           "y": [
            1.183656096458435,
            1.3195604085922241
           ],
           "z": [
            -0.3684070110321045,
            -0.42539894580841064
           ]
          },
          {
           "line": {
            "color": "black",
            "width": 2
           },
           "mode": "lines",
           "showlegend": false,
           "type": "scatter3d",
           "x": [
            0.3219777047634125,
            0.5322096347808838
           ],
           "y": [
            1.3195604085922241,
            1.3378851413726807
           ],
           "z": [
            -0.42539894580841064,
            -0.4974803924560547
           ]
          },
          {
           "line": {
            "color": "black",
            "width": 2
           },
           "mode": "lines",
           "showlegend": false,
           "type": "scatter3d",
           "x": [
            0.011506080627441406,
            -0.0019000000320374966
           ],
           "y": [
            0.4838297963142395,
            0.9692999720573425
           ],
           "z": [
            0.35810309648513794,
            0.2282000035047531
           ]
          },
          {
           "line": {
            "color": "black",
            "width": 2
           },
           "mode": "lines",
           "showlegend": false,
           "type": "scatter3d",
           "x": [
            -0.0019000000320374966,
            -0.0020000000949949026
           ],
           "y": [
            0.9692999720573425,
            0.996999979019165
           ],
           "z": [
            0.2282000035047531,
            -0.012400000356137753
           ]
          },
          {
           "line": {
            "color": "black",
            "width": 2
           },
           "mode": "lines",
           "showlegend": false,
           "type": "scatter3d",
           "x": [
            -0.0020000000949949026,
            -0.04529999941587448
           ],
           "y": [
            0.996999979019165,
            0.9214000105857849
           ],
           "z": [
            -0.012400000356137753,
            -0.20730000734329224
           ]
          },
          {
           "line": {
            "color": "black",
            "width": 2
           },
           "mode": "lines",
           "showlegend": false,
           "type": "scatter3d",
           "x": [
            -0.04529999941587448,
            -0.11640000343322754
           ],
           "y": [
            0.9214000105857849,
            0.7821999788284302
           ],
           "z": [
            -0.20730000734329224,
            -0.3912999927997589
           ]
          }
         ],
         "name": "53"
        },
        {
         "data": [
          {
           "marker": {
            "color": "blue",
            "size": 4
           },
           "mode": "markers+text",
           "name": "Landmarks",
           "text": [
            "0",
            "1",
            "2",
            "3",
            "4",
            "5",
            "6",
            "7",
            "8",
            "9",
            "10",
            "11",
            "12",
            "13",
            "14",
            "15",
            "16",
            "17",
            "18",
            "19"
           ],
           "textfont": {
            "color": "black",
            "size": 8
           },
           "textposition": "top center",
           "type": "scatter3d",
           "x": {
            "bdata": "AAAAACBgJTxk+BM+bEy7PWwJ+bomKNg6lE2MPgjE+j5vEgO7CwsfPlyj7T6KXyY/fow5vTbhMT4yEAA/ikQxPyBj7r1sDaA98wKlPl5TCD8=",
            "dtype": "f4"
           },
           "y": {
            "bdata": "AAAAAMt2+D5Rm0o/hd11PwskeD+EPbU/HZe2PxI4tT9kO38/0xvEP33Tuz/kt64/3+BrP+jxtj/Xu7k/+qKsP0I+SD+hfpc/Nt6oP0kxqz8=",
            "dtype": "f4"
           },
           "z": {
            "bdata": "AAAAAGfvuD7goUA+0EhtvEOtaT4jYHU++eRFPm/CHz5fKUu8sBsPvdp4Ar5RPj6+dEZUvlypZL6YbZC+lvGkvnlYyL6bsLy+NujZvsLU/r4=",
            "dtype": "f4"
           }
          },
          {
           "line": {
            "color": "black",
            "width": 2
           },
           "mode": "lines",
           "showlegend": false,
           "type": "scatter3d",
           "x": [
            0,
            0.010093718767166138
           ],
           "y": [
            0,
            0.4852813184261322
           ],
           "z": [
            0,
            0.3612014949321747
           ]
          },
          {
           "line": {
            "color": "black",
            "width": 2
           },
           "mode": "lines",
           "showlegend": false,
           "type": "scatter3d",
           "x": [
            0.010093718767166138,
            0.14450222253799438
           ],
           "y": [
            0.4852813184261322,
            0.7914324402809143
           ],
           "z": [
            0.3612014949321747,
            0.18811750411987305
           ]
          },
          {
           "line": {
            "color": "black",
            "width": 2
           },
           "mode": "lines",
           "showlegend": false,
           "type": "scatter3d",
           "x": [
            0.14450222253799438,
            0.09145435690879822
           ],
           "y": [
            0.7914324402809143,
            0.9604113698005676
           ],
           "z": [
            0.18811750411987305,
            -0.014482691884040833
           ]
          },
          {
           "line": {
            "color": "black",
            "width": 2
           },
           "mode": "lines",
           "showlegend": false,
           "type": "scatter3d",
           "x": [
            0,
            -0.0019000000320374966
           ],
           "y": [
            0,
            0.9692999720573425
           ],
           "z": [
            0,
            0.2282000035047531
           ]
          },
          {
           "line": {
            "color": "black",
            "width": 2
           },
           "mode": "lines",
           "showlegend": false,
           "type": "scatter3d",
           "x": [
            -0.0019000000320374966,
            0.0016491457354277372
           ],
           "y": [
            0.9692999720573425,
            1.4159398078918457
           ],
           "z": [
            0.2282000035047531,
            0.23962454497814178
           ]
          },
          {
           "line": {
            "color": "black",
            "width": 2
           },
           "mode": "lines",
           "showlegend": false,
           "type": "scatter3d",
           "x": [
            0.0016491457354277372,
            0.27402937412261963
           ],
           "y": [
            1.4159398078918457,
            1.426486611366272
           ],
           "z": [
            0.23962454497814178,
            0.19325627386569977
           ]
          },
          {
           "line": {
            "color": "black",
            "width": 2
           },
           "mode": "lines",
           "showlegend": false,
           "type": "scatter3d",
           "x": [
            0.27402937412261963,
            0.4897768497467041
           ],
           "y": [
            1.426486611366272,
            1.415773630142212
           ],
           "z": [
            0.19325627386569977,
            0.15601514279842377
           ]
          },
          {
           "line": {
            "color": "black",
            "width": 2
           },
           "mode": "lines",
           "showlegend": false,
           "type": "scatter3d",
           "x": [
            0,
            -0.0020000000949949026
           ],
           "y": [
            0,
            0.996999979019165
           ],
           "z": [
            0,
            -0.012400000356137753
           ]
          },
          {
           "line": {
            "color": "black",
            "width": 2
           },
           "mode": "lines",
           "showlegend": false,
           "type": "scatter3d",
           "x": [
            -0.0020000000949949026,
            0.155315563082695
           ],
           "y": [
            0.996999979019165,
            1.5320991277694702
           ],
           "z": [
            -0.012400000356137753,
            -0.0349385142326355
           ]
          },
          {
           "line": {
            "color": "black",
            "width": 2
           },
           "mode": "lines",
           "showlegend": false,
           "type": "scatter3d",
           "x": [
            0.155315563082695,
            0.4641369581222534
           ],
           "y": [
            1.5320991277694702,
            1.4673916101455688
           ],
           "z": [
            -0.0349385142326355,
            -0.12741413712501526
           ]
          },
          {
           "line": {
            "color": "black",
            "width": 2
           },
           "mode": "lines",
           "showlegend": false,
           "type": "scatter3d",
           "x": [
            0.4641369581222534,
            0.6498953104019165
           ],
           "y": [
            1.4673916101455688,
            1.3649868965148926
           ],
           "z": [
            -0.12741413712501526,
            -0.18578459322452545
           ]
          },
          {
           "line": {
            "color": "black",
            "width": 2
           },
           "mode": "lines",
           "showlegend": false,
           "type": "scatter3d",
           "x": [
            0,
            -0.04529999941587448
           ],
           "y": [
            0,
            0.9214000105857849
           ],
           "z": [
            0,
            -0.20730000734329224
           ]
          },
          {
           "line": {
            "color": "black",
            "width": 2
           },
           "mode": "lines",
           "showlegend": false,
           "type": "scatter3d",
           "x": [
            -0.04529999941587448,
            0.1737106740474701
           ],
           "y": [
            0.9214000105857849,
            1.4292573928833008
           ],
           "z": [
            -0.20730000734329224,
            -0.22330230474472046
           ]
          },
          {
           "line": {
            "color": "black",
            "width": 2
           },
           "mode": "lines",
           "showlegend": false,
           "type": "scatter3d",
           "x": [
            0.1737106740474701,
            0.5002471208572388
           ],
           "y": [
            1.4292573928833008,
            1.4510449171066284
           ],
           "z": [
            -0.22330230474472046,
            -0.2820861339569092
           ]
          },
          {
           "line": {
            "color": "black",
            "width": 2
           },
           "mode": "lines",
           "showlegend": false,
           "type": "scatter3d",
           "x": [
            0.5002471208572388,
            0.692452073097229
           ],
           "y": [
            1.4510449171066284,
            1.3487236499786377
           ],
           "z": [
            -0.2820861339569092,
            -0.3221556544303894
           ]
          },
          {
           "line": {
            "color": "black",
            "width": 2
           },
           "mode": "lines",
           "showlegend": false,
           "type": "scatter3d",
           "x": [
            0,
            -0.11640000343322754
           ],
           "y": [
            0,
            0.7821999788284302
           ],
           "z": [
            0,
            -0.3912999927997589
           ]
          },
          {
           "line": {
            "color": "black",
            "width": 2
           },
           "mode": "lines",
           "showlegend": false,
           "type": "scatter3d",
           "x": [
            -0.11640000343322754,
            0.07815060019493103
           ],
           "y": [
            0.7821999788284302,
            1.1835519075393677
           ],
           "z": [
            -0.3912999927997589,
            -0.3685348927974701
           ]
          },
          {
           "line": {
            "color": "black",
            "width": 2
           },
           "mode": "lines",
           "showlegend": false,
           "type": "scatter3d",
           "x": [
            0.07815060019493103,
            0.3222881257534027
           ],
           "y": [
            1.1835519075393677,
            1.3192813396453857
           ],
           "z": [
            -0.3685348927974701,
            -0.42559975385665894
           ]
          },
          {
           "line": {
            "color": "black",
            "width": 2
           },
           "mode": "lines",
           "showlegend": false,
           "type": "scatter3d",
           "x": [
            0.3222881257534027,
            0.5325220823287964
           ],
           "y": [
            1.3192813396453857,
            1.3374415636062622
           ],
           "z": [
            -0.42559975385665894,
            -0.4977169632911682
           ]
          },
          {
           "line": {
            "color": "black",
            "width": 2
           },
           "mode": "lines",
           "showlegend": false,
           "type": "scatter3d",
           "x": [
            0.010093718767166138,
            -0.0019000000320374966
           ],
           "y": [
            0.4852813184261322,
            0.9692999720573425
           ],
           "z": [
            0.3612014949321747,
            0.2282000035047531
           ]
          },
          {
           "line": {
            "color": "black",
            "width": 2
           },
           "mode": "lines",
           "showlegend": false,
           "type": "scatter3d",
           "x": [
            -0.0019000000320374966,
            -0.0020000000949949026
           ],
           "y": [
            0.9692999720573425,
            0.996999979019165
           ],
           "z": [
            0.2282000035047531,
            -0.012400000356137753
           ]
          },
          {
           "line": {
            "color": "black",
            "width": 2
           },
           "mode": "lines",
           "showlegend": false,
           "type": "scatter3d",
           "x": [
            -0.0020000000949949026,
            -0.04529999941587448
           ],
           "y": [
            0.996999979019165,
            0.9214000105857849
           ],
           "z": [
            -0.012400000356137753,
            -0.20730000734329224
           ]
          },
          {
           "line": {
            "color": "black",
            "width": 2
           },
           "mode": "lines",
           "showlegend": false,
           "type": "scatter3d",
           "x": [
            -0.04529999941587448,
            -0.11640000343322754
           ],
           "y": [
            0.9214000105857849,
            0.7821999788284302
           ],
           "z": [
            -0.20730000734329224,
            -0.3912999927997589
           ]
          }
         ],
         "name": "54"
        },
        {
         "data": [
          {
           "marker": {
            "color": "blue",
            "size": 4
           },
           "mode": "markers+text",
           "name": "Landmarks",
           "text": [
            "0",
            "1",
            "2",
            "3",
            "4",
            "5",
            "6",
            "7",
            "8",
            "9",
            "10",
            "11",
            "12",
            "13",
            "14",
            "15",
            "16",
            "17",
            "18",
            "19"
           ],
           "textfont": {
            "color": "black",
            "size": 8
           },
           "textposition": "top center",
           "type": "scatter3d",
           "x": {
            "bdata": "AAAAAIDjNDz5NhY+1mnAPWwJ+bqkZRs8/U6QPtbF/j5vEgO7JOsmPvl18T7qISg/fow5vV7bMT6uDgA/6UIxPyBj7r1KH6A96gilPn5WCD8=",
            "dtype": "f4"
           },
           "y": {
            "bdata": "AAAAAJDu9z7UFko/V0x1PwskeD8COrU/yY62P/I7tT9kO38/Uc3DPwNzuz82OK4/3+BrP0Lytj/3u7k/JaOsP0I+SD8xfpc/39yoPw8vqz8=",
            "dtype": "f4"
           },
           "z": {
            "bdata": "AAAAALRBuD7Gfj4+6LaJvEOtaT4PYHQ+TslEPrqPHj5fKUu8lA8WvRyVBL48kUC+dEZUvpWgZL4iapC+ou+kvnlYyL7it7y+q/HZvkXe/r4=",
            "dtype": "f4"
           }
          },
          {
           "line": {
            "color": "black",
            "width": 2
           },
           "mode": "lines",
           "showlegend": false,
           "type": "scatter3d",
           "x": [
            0,
            0.011040568351745605
           ],
           "y": [
            0,
            0.48424196243286133
           ],
           "z": [
            0,
            0.35987627506256104
           ]
          },
          {
           "line": {
            "color": "black",
            "width": 2
           },
           "mode": "lines",
           "showlegend": false,
           "type": "scatter3d",
           "x": [
            0.011040568351745605,
            0.14669407904148102
           ],
           "y": [
            0.48424196243286133,
            0.7894108295440674
           ],
           "z": [
            0.35987627506256104,
            0.18603047728538513
           ]
          },
          {
           "line": {
            "color": "black",
            "width": 2
           },
           "mode": "lines",
           "showlegend": false,
           "type": "scatter3d",
           "x": [
            0.14669407904148102,
            0.09395186603069305
           ],
           "y": [
            0.7894108295440674,
            0.9581961035728455
           ],
           "z": [
            0.18603047728538513,
            -0.01681084930896759
           ]
          },
          {
           "line": {
            "color": "black",
            "width": 2
           },
           "mode": "lines",
           "showlegend": false,
           "type": "scatter3d",
           "x": [
            0,
            -0.0019000000320374966
           ],
           "y": [
            0,
            0.9692999720573425
           ],
           "z": [
            0,
            0.2282000035047531
           ]
          },
          {
           "line": {
            "color": "black",
            "width": 2
           },
           "mode": "lines",
           "showlegend": false,
           "type": "scatter3d",
           "x": [
            -0.0019000000320374966,
            0.009484682232141495
           ],
           "y": [
            0.9692999720573425,
            1.415832757949829
           ],
           "z": [
            0.2282000035047531,
            0.2386476844549179
           ]
          },
          {
           "line": {
            "color": "black",
            "width": 2
           },
           "mode": "lines",
           "showlegend": false,
           "type": "scatter3d",
           "x": [
            0.009484682232141495,
            0.2818526327610016
           ],
           "y": [
            1.415832757949829,
            1.4262324571609497
           ],
           "z": [
            0.2386476844549179,
            0.19217416644096375
           ]
          },
          {
           "line": {
            "color": "black",
            "width": 2
           },
           "mode": "lines",
           "showlegend": false,
           "type": "scatter3d",
           "x": [
            0.2818526327610016,
            0.4976031184196472
           ],
           "y": [
            1.4262324571609497,
            1.4158918857574463
           ],
           "z": [
            0.19217416644096375,
            0.15484514832496643
           ]
          },
          {
           "line": {
            "color": "black",
            "width": 2
           },
           "mode": "lines",
           "showlegend": false,
           "type": "scatter3d",
           "x": [
            0,
            -0.0020000000949949026
           ],
           "y": [
            0,
            0.996999979019165
           ],
           "z": [
            0,
            -0.012400000356137753
           ]
          },
          {
           "line": {
            "color": "black",
            "width": 2
           },
           "mode": "lines",
           "showlegend": false,
           "type": "scatter3d",
           "x": [
            -0.0020000000949949026,
            0.16300636529922485
           ],
           "y": [
            0.996999979019165,
            1.5297032594680786
           ],
           "z": [
            -0.012400000356137753,
            -0.036635950207710266
           ]
          },
          {
           "line": {
            "color": "black",
            "width": 2
           },
           "mode": "lines",
           "showlegend": false,
           "type": "scatter3d",
           "x": [
            0.16300636529922485,
            0.4716031849384308
           ],
           "y": [
            1.5297032594680786,
            1.4644473791122437
           ],
           "z": [
            -0.036635950207710266,
            -0.12947505712509155
           ]
          },
          {
           "line": {
            "color": "black",
            "width": 2
           },
           "mode": "lines",
           "showlegend": false,
           "type": "scatter3d",
           "x": [
            0.4716031849384308,
            0.6567674875259399
           ],
           "y": [
            1.4644473791122437,
            1.3610904216766357
           ],
           "z": [
            -0.12947505712509155,
            -0.18805402517318726
           ]
          },
          {
           "line": {
            "color": "black",
            "width": 2
           },
           "mode": "lines",
           "showlegend": false,
           "type": "scatter3d",
           "x": [
            0,
            -0.04529999941587448
           ],
           "y": [
            0,
            0.9214000105857849
           ],
           "z": [
            0,
            -0.20730000734329224
           ]
          },
          {
           "line": {
            "color": "black",
            "width": 2
           },
           "mode": "lines",
           "showlegend": false,
           "type": "scatter3d",
           "x": [
            -0.04529999941587448,
            0.1736883819103241
           ],
           "y": [
            0.9214000105857849,
            1.4292681217193604
           ],
           "z": [
            -0.20730000734329224,
            -0.22326882183551788
           ]
          },
          {
           "line": {
            "color": "black",
            "width": 2
           },
           "mode": "lines",
           "showlegend": false,
           "type": "scatter3d",
           "x": [
            0.1736883819103241,
            0.5002239942550659
           ],
           "y": [
            1.4292681217193604,
            1.451048731803894
           ],
           "z": [
            -0.22326882183551788,
            -0.2820597290992737
           ]
          },
          {
           "line": {
            "color": "black",
            "width": 2
           },
           "mode": "lines",
           "showlegend": false,
           "type": "scatter3d",
           "x": [
            0.5002239942550659,
            0.6924272179603577
           ],
           "y": [
            1.451048731803894,
            1.3487287759780884
           ],
           "z": [
            -0.2820597290992737,
            -0.32214075326919556
           ]
          },
          {
           "line": {
            "color": "black",
            "width": 2
           },
           "mode": "lines",
           "showlegend": false,
           "type": "scatter3d",
           "x": [
            0,
            -0.11640000343322754
           ],
           "y": [
            0,
            0.7821999788284302
           ],
           "z": [
            0,
            -0.3912999927997589
           ]
          },
          {
           "line": {
            "color": "black",
            "width": 2
           },
           "mode": "lines",
           "showlegend": false,
           "type": "scatter3d",
           "x": [
            -0.11640000343322754,
            0.07818467915058136
           ],
           "y": [
            0.7821999788284302,
            1.183538556098938
           ],
           "z": [
            -0.3912999927997589,
            -0.36859041452407837
           ]
          },
          {
           "line": {
            "color": "black",
            "width": 2
           },
           "mode": "lines",
           "showlegend": false,
           "type": "scatter3d",
           "x": [
            0.07818467915058136,
            0.3223336338996887
           ],
           "y": [
            1.183538556098938,
            1.3192404508590698
           ],
           "z": [
            -0.36859041452407837,
            -0.42567190527915955
           ]
          },
          {
           "line": {
            "color": "black",
            "width": 2
           },
           "mode": "lines",
           "showlegend": false,
           "type": "scatter3d",
           "x": [
            0.3223336338996887,
            0.5325697660446167
           ],
           "y": [
            1.3192404508590698,
            1.3373736143112183
           ],
           "z": [
            -0.42567190527915955,
            -0.49778953194618225
           ]
          },
          {
           "line": {
            "color": "black",
            "width": 2
           },
           "mode": "lines",
           "showlegend": false,
           "type": "scatter3d",
           "x": [
            0.011040568351745605,
            -0.0019000000320374966
           ],
           "y": [
            0.48424196243286133,
            0.9692999720573425
           ],
           "z": [
            0.35987627506256104,
            0.2282000035047531
           ]
          },
          {
           "line": {
            "color": "black",
            "width": 2
           },
           "mode": "lines",
           "showlegend": false,
           "type": "scatter3d",
           "x": [
            -0.0019000000320374966,
            -0.0020000000949949026
           ],
           "y": [
            0.9692999720573425,
            0.996999979019165
           ],
           "z": [
            0.2282000035047531,
            -0.012400000356137753
           ]
          },
          {
           "line": {
            "color": "black",
            "width": 2
           },
           "mode": "lines",
           "showlegend": false,
           "type": "scatter3d",
           "x": [
            -0.0020000000949949026,
            -0.04529999941587448
           ],
           "y": [
            0.996999979019165,
            0.9214000105857849
           ],
           "z": [
            -0.012400000356137753,
            -0.20730000734329224
           ]
          },
          {
           "line": {
            "color": "black",
            "width": 2
           },
           "mode": "lines",
           "showlegend": false,
           "type": "scatter3d",
           "x": [
            -0.04529999941587448,
            -0.11640000343322754
           ],
           "y": [
            0.9214000105857849,
            0.7821999788284302
           ],
           "z": [
            -0.20730000734329224,
            -0.3912999927997589
           ]
          }
         ],
         "name": "55"
        },
        {
         "data": [
          {
           "marker": {
            "color": "blue",
            "size": 4
           },
           "mode": "markers+text",
           "name": "Landmarks",
           "text": [
            "0",
            "1",
            "2",
            "3",
            "4",
            "5",
            "6",
            "7",
            "8",
            "9",
            "10",
            "11",
            "12",
            "13",
            "14",
            "15",
            "16",
            "17",
            "18",
            "19"
           ],
           "textfont": {
            "color": "black",
            "size": 8
           },
           "textposition": "top center",
           "type": "scatter3d",
           "x": {
            "bdata": "AAAAAOBQNDwmgRQ+/dy4PWwJ+bqWnTA8vhSRPtig/z5vEgO7mhElPlPZ8D6O3ic/fow5vbbgMT4iEAA/NEQxPyBj7r3S9Z892PqkPk1PCD8=",
            "dtype": "f4"
           },
           "y": {
            "bdata": "AAAAAFAD+D74CEo/UuR0PwskeD/AOrU/LCK2P+butD9kO38/hNzDP8meuz+uVq4/3+BrP/Dxtj86u7k/HaKsP0I+SD9Of5c/FeCoP000qz8=",
            "dtype": "f4"
           },
           "z": {
            "bdata": "AAAAAIqltz6nUjs+YAyovEOtaT5edXE+woNCPvz+HD5fKUu8exAevescBb67zj++dEZUvqaoZL51bZC+hvGkvnlYyL7Orby+fuPZvvfO/r4=",
            "dtype": "f4"
           }
          },
          {
           "line": {
            "color": "black",
            "width": 2
           },
           "mode": "lines",
           "showlegend": false,
           "type": "scatter3d",
           "x": [
            0,
            0.011005610227584839
           ],
           "y": [
            0,
            0.48440027236938477
           ],
           "z": [
            0,
            0.35868483781814575
           ]
          },
          {
           "line": {
            "color": "black",
            "width": 2
           },
           "mode": "lines",
           "showlegend": false,
           "type": "scatter3d",
           "x": [
            0.011005610227584839,
            0.145023912191391
           ],
           "y": [
            0.48440027236938477,
            0.7891993522644043
           ],
           "z": [
            0.35868483781814575,
            0.18293248116970062
           ]
          },
          {
           "line": {
            "color": "black",
            "width": 2
           },
           "mode": "lines",
           "showlegend": false,
           "type": "scatter3d",
           "x": [
            0.145023912191391,
            0.09026525169610977
           ],
           "y": [
            0.7891993522644043,
            0.9566088914871216
           ],
           "z": [
            0.18293248116970062,
            -0.020513713359832764
           ]
          },
          {
           "line": {
            "color": "black",
            "width": 2
           },
           "mode": "lines",
           "showlegend": false,
           "type": "scatter3d",
           "x": [
            0,
            -0.0019000000320374966
           ],
           "y": [
            0,
            0.9692999720573425
           ],
           "z": [
            0,
            0.2282000035047531
           ]
          },
          {
           "line": {
            "color": "black",
            "width": 2
           },
           "mode": "lines",
           "showlegend": false,
           "type": "scatter3d",
           "x": [
            -0.0019000000320374966,
            0.010779758915305138
           ],
           "y": [
            0.9692999720573425,
            1.4158554077148438
           ],
           "z": [
            0.2282000035047531,
            0.23579928278923035
           ]
          },
          {
           "line": {
            "color": "black",
            "width": 2
           },
           "mode": "lines",
           "showlegend": false,
           "type": "scatter3d",
           "x": [
            0.010779758915305138,
            0.28336137533187866
           ],
           "y": [
            1.4158554077148438,
            1.4229178428649902
           ],
           "z": [
            0.23579928278923035,
            0.18995574116706848
           ]
          },
          {
           "line": {
            "color": "black",
            "width": 2
           },
           "mode": "lines",
           "showlegend": false,
           "type": "scatter3d",
           "x": [
            0.28336137533187866,
            0.49927401542663574
           ],
           "y": [
            1.4229178428649902,
            1.4135406017303467
           ],
           "z": [
            0.18995574116706848,
            0.1533164381980896
           ]
          },
          {
           "line": {
            "color": "black",
            "width": 2
           },
           "mode": "lines",
           "showlegend": false,
           "type": "scatter3d",
           "x": [
            0,
            -0.0020000000949949026
           ],
           "y": [
            0,
            0.996999979019165
           ],
           "z": [
            0,
            -0.012400000356137753
           ]
          },
          {
           "line": {
            "color": "black",
            "width": 2
           },
           "mode": "lines",
           "showlegend": false,
           "type": "scatter3d",
           "x": [
            -0.0020000000949949026,
            0.16119995713233948
           ],
           "y": [
            0.996999979019165,
            1.5301671028137207
           ],
           "z": [
            -0.012400000356137753,
            -0.03858993574976921
           ]
          },
          {
           "line": {
            "color": "black",
            "width": 2
           },
           "mode": "lines",
           "showlegend": false,
           "type": "scatter3d",
           "x": [
            0.16119995713233948,
            0.47040805220603943
           ],
           "y": [
            1.5301671028137207,
            1.4657832384109497
           ],
           "z": [
            -0.03858993574976921,
            -0.12999312579631805
           ]
          },
          {
           "line": {
            "color": "black",
            "width": 2
           },
           "mode": "lines",
           "showlegend": false,
           "type": "scatter3d",
           "x": [
            0.47040805220603943,
            0.6557396650314331
           ],
           "y": [
            1.4657832384109497,
            1.3620202541351318
           ],
           "z": [
            -0.12999312579631805,
            -0.187312051653862
           ]
          },
          {
           "line": {
            "color": "black",
            "width": 2
           },
           "mode": "lines",
           "showlegend": false,
           "type": "scatter3d",
           "x": [
            0,
            -0.04529999941587448
           ],
           "y": [
            0,
            0.9214000105857849
           ],
           "z": [
            0,
            -0.20730000734329224
           ]
          },
          {
           "line": {
            "color": "black",
            "width": 2
           },
           "mode": "lines",
           "showlegend": false,
           "type": "scatter3d",
           "x": [
            -0.04529999941587448,
            0.17370876669883728
           ],
           "y": [
            0.9214000105857849,
            1.4292583465576172
           ],
           "z": [
            -0.20730000734329224,
            -0.22329959273338318
           ]
          },
          {
           "line": {
            "color": "black",
            "width": 2
           },
           "mode": "lines",
           "showlegend": false,
           "type": "scatter3d",
           "x": [
            0.17370876669883728,
            0.5002461671829224
           ],
           "y": [
            1.4292583465576172,
            1.451026201248169
           ],
           "z": [
            -0.22329959273338318,
            -0.2820850908756256
           ]
          },
          {
           "line": {
            "color": "black",
            "width": 2
           },
           "mode": "lines",
           "showlegend": false,
           "type": "scatter3d",
           "x": [
            0.5002461671829224,
            0.6924469470977783
           ],
           "y": [
            1.451026201248169,
            1.348697304725647
           ],
           "z": [
            -0.2820850908756256,
            -0.3221551775932312
           ]
          },
          {
           "line": {
            "color": "black",
            "width": 2
           },
           "mode": "lines",
           "showlegend": false,
           "type": "scatter3d",
           "x": [
            0,
            -0.11640000343322754
           ],
           "y": [
            0,
            0.7821999788284302
           ],
           "z": [
            0,
            -0.3912999927997589
           ]
          },
          {
           "line": {
            "color": "black",
            "width": 2
           },
           "mode": "lines",
           "showlegend": false,
           "type": "scatter3d",
           "x": [
            -0.11640000343322754,
            0.07810558378696442
           ],
           "y": [
            0.7821999788284302,
            1.18357253074646
           ],
           "z": [
            -0.3912999927997589,
            -0.3685135245323181
           ]
          },
          {
           "line": {
            "color": "black",
            "width": 2
           },
           "mode": "lines",
           "showlegend": false,
           "type": "scatter3d",
           "x": [
            0.07810558378696442,
            0.32222628593444824
           ],
           "y": [
            1.18357253074646,
            1.3193384408950806
           ],
           "z": [
            -0.3685135245323181,
            -0.4255637526512146
           ]
          },
          {
           "line": {
            "color": "black",
            "width": 2
           },
           "mode": "lines",
           "showlegend": false,
           "type": "scatter3d",
           "x": [
            0.32222628593444824,
            0.5324600338935852
           ],
           "y": [
            1.3193384408950806,
            1.3375335931777954
           ],
           "z": [
            -0.4255637526512146,
            -0.49767276644706726
           ]
          },
          {
           "line": {
            "color": "black",
            "width": 2
           },
           "mode": "lines",
           "showlegend": false,
           "type": "scatter3d",
           "x": [
            0.011005610227584839,
            -0.0019000000320374966
           ],
           "y": [
            0.48440027236938477,
            0.9692999720573425
           ],
           "z": [
            0.35868483781814575,
            0.2282000035047531
           ]
          },
          {
           "line": {
            "color": "black",
            "width": 2
           },
           "mode": "lines",
           "showlegend": false,
           "type": "scatter3d",
           "x": [
            -0.0019000000320374966,
            -0.0020000000949949026
           ],
           "y": [
            0.9692999720573425,
            0.996999979019165
           ],
           "z": [
            0.2282000035047531,
            -0.012400000356137753
           ]
          },
          {
           "line": {
            "color": "black",
            "width": 2
           },
           "mode": "lines",
           "showlegend": false,
           "type": "scatter3d",
           "x": [
            -0.0020000000949949026,
            -0.04529999941587448
           ],
           "y": [
            0.996999979019165,
            0.9214000105857849
           ],
           "z": [
            -0.012400000356137753,
            -0.20730000734329224
           ]
          },
          {
           "line": {
            "color": "black",
            "width": 2
           },
           "mode": "lines",
           "showlegend": false,
           "type": "scatter3d",
           "x": [
            -0.04529999941587448,
            -0.11640000343322754
           ],
           "y": [
            0.9214000105857849,
            0.7821999788284302
           ],
           "z": [
            -0.20730000734329224,
            -0.3912999927997589
           ]
          }
         ],
         "name": "56"
        },
        {
         "data": [
          {
           "marker": {
            "color": "blue",
            "size": 4
           },
           "mode": "markers+text",
           "name": "Landmarks",
           "text": [
            "0",
            "1",
            "2",
            "3",
            "4",
            "5",
            "6",
            "7",
            "8",
            "9",
            "10",
            "11",
            "12",
            "13",
            "14",
            "15",
            "16",
            "17",
            "18",
            "19"
           ],
           "textfont": {
            "color": "black",
            "size": 8
           },
           "textposition": "top center",
           "type": "scatter3d",
           "x": {
            "bdata": "AAAAAICBPzwccBY+ENG/PWwJ+bp5iKg83BaWPhVPAj9vEgO7CDUlPvEP8T6iAyg/fow5vUDwMT4kFAA/Y0cxPyBj7r0CVZ89jsSkPrwzCD8=",
            "dtype": "f4"
           },
           "y": {
            "bdata": "AAAAAFid9z52qkk/LLJ0PwskeD+uLrU/svy1PwzBtD9kO38/ztnDPwG0uz/Rba4/3+BrPxjxtj8Wubk/OZ+sP0I+SD+4g5c/VOyoP/dHqz8=",
            "dtype": "f4"
           },
           "z": {
            "bdata": "AAAAADQ7tz5qQjo+sEKvvEOtaT4qVXA+VDRBPnuIGz5fKUu8aXYhvWKCBb490T++dEZUvqupZL6EbpC+3PKkvnlYyL4Gjry+T7XZvrib/r4=",
            "dtype": "f4"
           }
          },
          {
           "line": {
            "color": "black",
            "width": 2
           },
           "mode": "lines",
           "showlegend": false,
           "type": "scatter3d",
           "x": [
            0,
            0.011688590049743652
           ],
           "y": [
            0,
            0.48362231254577637
           ],
           "z": [
            0,
            0.3578735589981079
           ]
          },
          {
           "line": {
            "color": "black",
            "width": 2
           },
           "mode": "lines",
           "showlegend": false,
           "type": "scatter3d",
           "x": [
            0.011688590049743652,
            0.14691203832626343
           ],
           "y": [
            0.48362231254577637,
            0.7877572774887085
           ],
           "z": [
            0.3578735589981079,
            0.1818939745426178
           ]
          },
          {
           "line": {
            "color": "black",
            "width": 2
           },
           "mode": "lines",
           "showlegend": false,
           "type": "scatter3d",
           "x": [
            0.14691203832626343,
            0.09366047382354736
           ],
           "y": [
            0.7877572774887085,
            0.9558436870574951
           ],
           "z": [
            0.1818939745426178,
            -0.02139410376548767
           ]
          },
          {
           "line": {
            "color": "black",
            "width": 2
           },
           "mode": "lines",
           "showlegend": false,
           "type": "scatter3d",
           "x": [
            0,
            -0.0019000000320374966
           ],
           "y": [
            0,
            0.9692999720573425
           ],
           "z": [
            0,
            0.2282000035047531
           ]
          },
          {
           "line": {
            "color": "black",
            "width": 2
           },
           "mode": "lines",
           "showlegend": false,
           "type": "scatter3d",
           "x": [
            -0.0019000000320374966,
            0.020572887733578682
           ],
           "y": [
            0.9692999720573425,
            1.4154870510101318
           ],
           "z": [
            0.2282000035047531,
            0.23469987511634827
           ]
          },
          {
           "line": {
            "color": "black",
            "width": 2
           },
           "mode": "lines",
           "showlegend": false,
           "type": "scatter3d",
           "x": [
            0.020572887733578682,
            0.2931431531906128
           ],
           "y": [
            1.4154870510101318,
            1.42177414894104
           ],
           "z": [
            0.23469987511634827,
            0.18867617845535278
           ]
          },
          {
           "line": {
            "color": "black",
            "width": 2
           },
           "mode": "lines",
           "showlegend": false,
           "type": "scatter3d",
           "x": [
            0.2931431531906128,
            0.5090191960334778
           ],
           "y": [
            1.42177414894104,
            1.4121413230895996
           ],
           "z": [
            0.18867617845535278,
            0.15188781917095184
           ]
          },
          {
           "line": {
            "color": "black",
            "width": 2
           },
           "mode": "lines",
           "showlegend": false,
           "type": "scatter3d",
           "x": [
            0,
            -0.0020000000949949026
           ],
           "y": [
            0,
            0.996999979019165
           ],
           "z": [
            0,
            -0.012400000356137753
           ]
          },
          {
           "line": {
            "color": "black",
            "width": 2
           },
           "mode": "lines",
           "showlegend": false,
           "type": "scatter3d",
           "x": [
            -0.0020000000949949026,
            0.16133511066436768
           ],
           "y": [
            0.996999979019165,
            1.5300843715667725
           ],
           "z": [
            -0.012400000356137753,
            -0.039419565349817276
           ]
          },
          {
           "line": {
            "color": "black",
            "width": 2
           },
           "mode": "lines",
           "showlegend": false,
           "type": "scatter3d",
           "x": [
            0.16133511066436768,
            0.4708247482776642
           ],
           "y": [
            1.5300843715667725,
            1.4664307832717896
           ],
           "z": [
            -0.039419565349817276,
            -0.13038018345832825
           ]
          },
          {
           "line": {
            "color": "black",
            "width": 2
           },
           "mode": "lines",
           "showlegend": false,
           "type": "scatter3d",
           "x": [
            0.4708247482776642,
            0.6563054323196411
           ],
           "y": [
            1.4664307832717896,
            1.3627263307571411
           ],
           "z": [
            -0.13038018345832825,
            -0.18732161819934845
           ]
          },
          {
           "line": {
            "color": "black",
            "width": 2
           },
           "mode": "lines",
           "showlegend": false,
           "type": "scatter3d",
           "x": [
            0,
            -0.04529999941587448
           ],
           "y": [
            0,
            0.9214000105857849
           ],
           "z": [
            0,
            -0.20730000734329224
           ]
          },
          {
           "line": {
            "color": "black",
            "width": 2
           },
           "mode": "lines",
           "showlegend": false,
           "type": "scatter3d",
           "x": [
            -0.04529999941587448,
            0.1737680435180664
           ],
           "y": [
            0.9214000105857849,
            1.4292325973510742
           ],
           "z": [
            -0.20730000734329224,
            -0.22330348193645477
           ]
          },
          {
           "line": {
            "color": "black",
            "width": 2
           },
           "mode": "lines",
           "showlegend": false,
           "type": "scatter3d",
           "x": [
            0.1737680435180664,
            0.5003073215484619
           ],
           "y": [
            1.4292325973510742,
            1.4509608745574951
           ],
           "z": [
            -0.22330348193645477,
            -0.2820931673049927
           ]
          },
          {
           "line": {
            "color": "black",
            "width": 2
           },
           "mode": "lines",
           "showlegend": false,
           "type": "scatter3d",
           "x": [
            0.5003073215484619,
            0.6924955248832703
           ],
           "y": [
            1.4509608745574951,
            1.3486090898513794
           ],
           "z": [
            -0.2820931673049927,
            -0.3221653699874878
           ]
          },
          {
           "line": {
            "color": "black",
            "width": 2
           },
           "mode": "lines",
           "showlegend": false,
           "type": "scatter3d",
           "x": [
            0,
            -0.11640000343322754
           ],
           "y": [
            0,
            0.7821999788284302
           ],
           "z": [
            0,
            -0.3912999927997589
           ]
          },
          {
           "line": {
            "color": "black",
            "width": 2
           },
           "mode": "lines",
           "showlegend": false,
           "type": "scatter3d",
           "x": [
            -0.11640000343322754,
            0.07779885828495026
           ],
           "y": [
            0.7821999788284302,
            1.1837072372436523
           ],
           "z": [
            -0.3912999927997589,
            -0.3682710528373718
           ]
          },
          {
           "line": {
            "color": "black",
            "width": 2
           },
           "mode": "lines",
           "showlegend": false,
           "type": "scatter3d",
           "x": [
            0.07779885828495026,
            0.32181209325790405
           ],
           "y": [
            1.1837072372436523,
            1.3197121620178223
           ],
           "z": [
            -0.3682710528373718,
            -0.4252113997936249
           ]
          },
          {
           "line": {
            "color": "black",
            "width": 2
           },
           "mode": "lines",
           "showlegend": false,
           "type": "scatter3d",
           "x": [
            0.32181209325790405,
            0.5320394039154053
           ],
           "y": [
            1.3197121620178223,
            1.338133692741394
           ],
           "z": [
            -0.4252113997936249,
            -0.4972817897796631
           ]
          },
          {
           "line": {
            "color": "black",
            "width": 2
           },
           "mode": "lines",
           "showlegend": false,
           "type": "scatter3d",
           "x": [
            0.011688590049743652,
            -0.0019000000320374966
           ],
           "y": [
            0.48362231254577637,
            0.9692999720573425
           ],
           "z": [
            0.3578735589981079,
            0.2282000035047531
           ]
          },
          {
           "line": {
            "color": "black",
            "width": 2
           },
           "mode": "lines",
           "showlegend": false,
           "type": "scatter3d",
           "x": [
            -0.0019000000320374966,
            -0.0020000000949949026
           ],
           "y": [
            0.9692999720573425,
            0.996999979019165
           ],
           "z": [
            0.2282000035047531,
            -0.012400000356137753
           ]
          },
          {
           "line": {
            "color": "black",
            "width": 2
           },
           "mode": "lines",
           "showlegend": false,
           "type": "scatter3d",
           "x": [
            -0.0020000000949949026,
            -0.04529999941587448
           ],
           "y": [
            0.996999979019165,
            0.9214000105857849
           ],
           "z": [
            -0.012400000356137753,
            -0.20730000734329224
           ]
          },
          {
           "line": {
            "color": "black",
            "width": 2
           },
           "mode": "lines",
           "showlegend": false,
           "type": "scatter3d",
           "x": [
            -0.04529999941587448,
            -0.11640000343322754
           ],
           "y": [
            0.9214000105857849,
            0.7821999788284302
           ],
           "z": [
            -0.20730000734329224,
            -0.3912999927997589
           ]
          }
         ],
         "name": "57"
        },
        {
         "data": [
          {
           "marker": {
            "color": "blue",
            "size": 4
           },
           "mode": "markers+text",
           "name": "Landmarks",
           "text": [
            "0",
            "1",
            "2",
            "3",
            "4",
            "5",
            "6",
            "7",
            "8",
            "9",
            "10",
            "11",
            "12",
            "13",
            "14",
            "15",
            "16",
            "17",
            "18",
            "19"
           ],
           "textfont": {
            "color": "black",
            "size": 8
           },
           "textposition": "top center",
           "type": "scatter3d",
           "x": {
            "bdata": "AAAAAKDmWzzETx8+tqDcPWwJ+br+zyM95QKgPrQ0Bz9vEgO7D/ZHPk/kAD+KZS8/fow5vXz9MT6cFwA/NUoxPyBj7r244589VPWkPlFMCD8=",
            "dtype": "f4"
           },
           "y": {
            "bdata": "AAAAAOxz9j4w4Eg/j6Z0PwskeD+1AbU/Ndq1P6YftD9kO38/3kvCP1yBuT9oYqs/3+BrP1zwtj83t7k/rZysP0I+SD+zf5c/KuGoPyI2qz8=",
            "dtype": "f4"
           },
           "z": {
            "bdata": "AAAAABmutz42Wz8+8C17vEOtaT5bqW0+DFQ+PhlnGD5fKUu8dfpFvQJYD745iUm+dEZUvi+vZL41cZC+3fSkvnlYyL4No7y+adbZvnbC/r4=",
            "dtype": "f4"
           }
          },
          {
           "line": {
            "color": "black",
            "width": 2
           },
           "mode": "lines",
           "showlegend": false,
           "type": "scatter3d",
           "x": [
            0,
            0.013421684503555298
           ],
           "y": [
            0,
            0.48135316371917725
           ],
           "z": [
            0,
            0.3587501347064972
           ]
          },
          {
           "line": {
            "color": "black",
            "width": 2
           },
           "mode": "lines",
           "showlegend": false,
           "type": "scatter3d",
           "x": [
            0.013421684503555298,
            0.15557771921157837
           ],
           "y": [
            0.48135316371917725,
            0.7846708297729492
           ],
           "z": [
            0.3587501347064972,
            0.18687137961387634
           ]
          },
          {
           "line": {
            "color": "black",
            "width": 2
           },
           "mode": "lines",
           "showlegend": false,
           "type": "scatter3d",
           "x": [
            0.15557771921157837,
            0.10772840678691864
           ],
           "y": [
            0.7846708297729492,
            0.9556664824485779
           ],
           "z": [
            0.18687137961387634,
            -0.015330776572227478
           ]
          },
          {
           "line": {
            "color": "black",
            "width": 2
           },
           "mode": "lines",
           "showlegend": false,
           "type": "scatter3d",
           "x": [
            0,
            -0.0019000000320374966
           ],
           "y": [
            0,
            0.9692999720573425
           ],
           "z": [
            0,
            0.2282000035047531
           ]
          },
          {
           "line": {
            "color": "black",
            "width": 2
           },
           "mode": "lines",
           "showlegend": false,
           "type": "scatter3d",
           "x": [
            -0.0019000000320374966,
            0.0399932786822319
           ],
           "y": [
            0.9692999720573425,
            1.4141145944595337
           ],
           "z": [
            0.2282000035047531,
            0.23209135234355927
           ]
          },
          {
           "line": {
            "color": "black",
            "width": 2
           },
           "mode": "lines",
           "showlegend": false,
           "type": "scatter3d",
           "x": [
            0.0399932786822319,
            0.3125220835208893
           ],
           "y": [
            1.4141145944595337,
            1.4207216501235962
           ],
           "z": [
            0.23209135234355927,
            0.18586748838424683
           ]
          },
          {
           "line": {
            "color": "black",
            "width": 2
           },
           "mode": "lines",
           "showlegend": false,
           "type": "scatter3d",
           "x": [
            0.3125220835208893,
            0.5281479358673096
           ],
           "y": [
            1.4207216501235962,
            1.4072158336639404
           ],
           "z": [
            0.18586748838424683,
            0.14883078634738922
           ]
          },
          {
           "line": {
            "color": "black",
            "width": 2
           },
           "mode": "lines",
           "showlegend": false,
           "type": "scatter3d",
           "x": [
            0,
            -0.0020000000949949026
           ],
           "y": [
            0,
            0.996999979019165
           ],
           "z": [
            0,
            -0.012400000356137753
           ]
          },
          {
           "line": {
            "color": "black",
            "width": 2
           },
           "mode": "lines",
           "showlegend": false,
           "type": "scatter3d",
           "x": [
            -0.0020000000949949026,
            0.19527457654476166
           ],
           "y": [
            0.996999979019165,
            1.5179402828216553
           ],
           "z": [
            -0.012400000356137753,
            -0.04833455756306648
           ]
          },
          {
           "line": {
            "color": "black",
            "width": 2
           },
           "mode": "lines",
           "showlegend": false,
           "type": "scatter3d",
           "x": [
            0.19527457654476166,
            0.5034837126731873
           ],
           "y": [
            1.5179402828216553,
            1.4492602348327637
           ],
           "z": [
            -0.04833455756306648,
            -0.1399841606616974
           ]
          },
          {
           "line": {
            "color": "black",
            "width": 2
           },
           "mode": "lines",
           "showlegend": false,
           "type": "scatter3d",
           "x": [
            0.5034837126731873,
            0.6851431131362915
           ],
           "y": [
            1.4492602348327637,
            1.3389406204223633
           ],
           "z": [
            -0.1399841606616974,
            -0.19681252539157867
           ]
          },
          {
           "line": {
            "color": "black",
            "width": 2
           },
           "mode": "lines",
           "showlegend": false,
           "type": "scatter3d",
           "x": [
            0,
            -0.04529999941587448
           ],
           "y": [
            0,
            0.9214000105857849
           ],
           "z": [
            0,
            -0.20730000734329224
           ]
          },
          {
           "line": {
            "color": "black",
            "width": 2
           },
           "mode": "lines",
           "showlegend": false,
           "type": "scatter3d",
           "x": [
            -0.04529999941587448,
            0.17381852865219116
           ],
           "y": [
            0.9214000105857849,
            1.4292101860046387
           ],
           "z": [
            -0.20730000734329224,
            -0.22332452237606049
           ]
          },
          {
           "line": {
            "color": "black",
            "width": 2
           },
           "mode": "lines",
           "showlegend": false,
           "type": "scatter3d",
           "x": [
            0.17381852865219116,
            0.5003602504730225
           ],
           "y": [
            1.4292101860046387,
            1.4509037733078003
           ],
           "z": [
            -0.22332452237606049,
            -0.2821137011051178
           ]
          },
          {
           "line": {
            "color": "black",
            "width": 2
           },
           "mode": "lines",
           "showlegend": false,
           "type": "scatter3d",
           "x": [
            0.5003602504730225,
            0.6925385594367981
           ],
           "y": [
            1.4509037733078003,
            1.3485313653945923
           ],
           "z": [
            -0.2821137011051178,
            -0.3221806585788727
           ]
          },
          {
           "line": {
            "color": "black",
            "width": 2
           },
           "mode": "lines",
           "showlegend": false,
           "type": "scatter3d",
           "x": [
            0,
            -0.11640000343322754
           ],
           "y": [
            0,
            0.7821999788284302
           ],
           "z": [
            0,
            -0.3912999927997589
           ]
          },
          {
           "line": {
            "color": "black",
            "width": 2
           },
           "mode": "lines",
           "showlegend": false,
           "type": "scatter3d",
           "x": [
            -0.11640000343322754,
            0.07807105779647827
           ],
           "y": [
            0.7821999788284302,
            1.1835845708847046
           ],
           "z": [
            -0.3912999927997589,
            -0.3684314787387848
           ]
          },
          {
           "line": {
            "color": "black",
            "width": 2
           },
           "mode": "lines",
           "showlegend": false,
           "type": "scatter3d",
           "x": [
            0.07807105779647827,
            0.3221842050552368
           ],
           "y": [
            1.1835845708847046,
            1.3193714618682861
           ],
           "z": [
            -0.3684314787387848,
            -0.4254639446735382
           ]
          },
          {
           "line": {
            "color": "black",
            "width": 2
           },
           "mode": "lines",
           "showlegend": false,
           "type": "scatter3d",
           "x": [
            0.3221842050552368,
            0.5324144959449768
           ],
           "y": [
            1.3193714618682861,
            1.3375895023345947
           ],
           "z": [
            -0.4254639446735382,
            -0.49757736921310425
           ]
          },
          {
           "line": {
            "color": "black",
            "width": 2
           },
           "mode": "lines",
           "showlegend": false,
           "type": "scatter3d",
           "x": [
            0.013421684503555298,
            -0.0019000000320374966
           ],
           "y": [
            0.48135316371917725,
            0.9692999720573425
           ],
           "z": [
            0.3587501347064972,
            0.2282000035047531
           ]
          },
          {
           "line": {
            "color": "black",
            "width": 2
           },
           "mode": "lines",
           "showlegend": false,
           "type": "scatter3d",
           "x": [
            -0.0019000000320374966,
            -0.0020000000949949026
           ],
           "y": [
            0.9692999720573425,
            0.996999979019165
           ],
           "z": [
            0.2282000035047531,
            -0.012400000356137753
           ]
          },
          {
           "line": {
            "color": "black",
            "width": 2
           },
           "mode": "lines",
           "showlegend": false,
           "type": "scatter3d",
           "x": [
            -0.0020000000949949026,
            -0.04529999941587448
           ],
           "y": [
            0.996999979019165,
            0.9214000105857849
           ],
           "z": [
            -0.012400000356137753,
            -0.20730000734329224
           ]
          },
          {
           "line": {
            "color": "black",
            "width": 2
           },
           "mode": "lines",
           "showlegend": false,
           "type": "scatter3d",
           "x": [
            -0.04529999941587448,
            -0.11640000343322754
           ],
           "y": [
            0.9214000105857849,
            0.7821999788284302
           ],
           "z": [
            -0.20730000734329224,
            -0.3912999927997589
           ]
          }
         ],
         "name": "58"
        },
        {
         "data": [
          {
           "marker": {
            "color": "blue",
            "size": 4
           },
           "mode": "markers+text",
           "name": "Landmarks",
           "text": [
            "0",
            "1",
            "2",
            "3",
            "4",
            "5",
            "6",
            "7",
            "8",
            "9",
            "10",
            "11",
            "12",
            "13",
            "14",
            "15",
            "16",
            "17",
            "18",
            "19"
           ],
           "textfont": {
            "color": "black",
            "size": 8
           },
           "textposition": "top center",
           "type": "scatter3d",
           "x": {
            "bdata": "AAAAACCddzzSCyY+YM/1PWwJ+bqXQn89eNurPqc6DT9vEgO7jsxEPoAFAD+jfS4/fow5vVYMMj7rGwA/HE4xPyBj7r1sy549yJOkPsUaCD8=",
            "dtype": "f4"
           },
           "y": {
            "bdata": "AAAAAMBq9T5m7kc/3mB0PwskeD9DorQ/ECK0P+XWsT9kO38/UnfCP8mquT8ck6s/3+BrP2bvtj9wtLk/xZisP0I+SD9fh5c/EPioP+1aqz8=",
            "dtype": "f4"
           },
           "z": {
            "bdata": "AAAAAGrctj6T7T4+4C1yvEOtaT4fL1o+Ua8vPlNIDj5fKUu8n6o7vS3JDb7L3Ui+dEZUvvrXZL6mgZC+m/2kvnlYyL4ba7y+uYLZvhdl/r4=",
            "dtype": "f4"
           }
          },
          {
           "line": {
            "color": "black",
            "width": 2
           },
           "mode": "lines",
           "showlegend": false,
           "type": "scatter3d",
           "x": [
            0,
            0.015113145112991333
           ],
           "y": [
            0,
            0.47933006286621094
           ],
           "z": [
            0,
            0.3571503758430481
           ]
          },
          {
           "line": {
            "color": "black",
            "width": 2
           },
           "mode": "lines",
           "showlegend": false,
           "type": "scatter3d",
           "x": [
            0.015113145112991333,
            0.16215446591377258
           ],
           "y": [
            0.47933006286621094,
            0.7809814214706421
           ],
           "z": [
            0.3571503758430481,
            0.18645314872264862
           ]
          },
          {
           "line": {
            "color": "black",
            "width": 2
           },
           "mode": "lines",
           "showlegend": false,
           "type": "scatter3d",
           "x": [
            0.16215446591377258,
            0.12002444267272949
           ],
           "y": [
            0.7809814214706421,
            0.9546030759811401
           ],
           "z": [
            0.18645314872264862,
            -0.014781445264816284
           ]
          },
          {
           "line": {
            "color": "black",
            "width": 2
           },
           "mode": "lines",
           "showlegend": false,
           "type": "scatter3d",
           "x": [
            0,
            -0.0019000000320374966
           ],
           "y": [
            0,
            0.9692999720573425
           ],
           "z": [
            0,
            0.2282000035047531
           ]
          },
          {
           "line": {
            "color": "black",
            "width": 2
           },
           "mode": "lines",
           "showlegend": false,
           "type": "scatter3d",
           "x": [
            -0.0019000000320374966,
            0.06231936439871788
           ],
           "y": [
            0.9692999720573425,
            1.41120183467865
           ],
           "z": [
            0.2282000035047531,
            0.21307037770748138
           ]
          },
          {
           "line": {
            "color": "black",
            "width": 2
           },
           "mode": "lines",
           "showlegend": false,
           "type": "scatter3d",
           "x": [
            0.06231936439871788,
            0.3356587886810303
           ],
           "y": [
            1.41120183467865,
            1.4072895050048828
           ],
           "z": [
            0.21307037770748138,
            0.17156721651554108
           ]
          },
          {
           "line": {
            "color": "black",
            "width": 2
           },
           "mode": "lines",
           "showlegend": false,
           "type": "scatter3d",
           "x": [
            0.3356587886810303,
            0.5516762137413025
           ],
           "y": [
            1.4072895050048828,
            1.3893705606460571
           ],
           "z": [
            0.17156721651554108,
            0.1389477699995041
           ]
          },
          {
           "line": {
            "color": "black",
            "width": 2
           },
           "mode": "lines",
           "showlegend": false,
           "type": "scatter3d",
           "x": [
            0,
            -0.0020000000949949026
           ],
           "y": [
            0,
            0.996999979019165
           ],
           "z": [
            0,
            -0.012400000356137753
           ]
          },
          {
           "line": {
            "color": "black",
            "width": 2
           },
           "mode": "lines",
           "showlegend": false,
           "type": "scatter3d",
           "x": [
            -0.0020000000949949026,
            0.19218656420707703
           ],
           "y": [
            0.996999979019165,
            1.5192663669586182
           ],
           "z": [
            -0.012400000356137753,
            -0.04581701382994652
           ]
          },
          {
           "line": {
            "color": "black",
            "width": 2
           },
           "mode": "lines",
           "showlegend": false,
           "type": "scatter3d",
           "x": [
            0.19218656420707703,
            0.5000839233398438
           ],
           "y": [
            1.5192663669586182,
            1.4505244493484497
           ],
           "z": [
            -0.04581701382994652,
            -0.13846273720264435
           ]
          },
          {
           "line": {
            "color": "black",
            "width": 2
           },
           "mode": "lines",
           "showlegend": false,
           "type": "scatter3d",
           "x": [
            0.5000839233398438,
            0.6816045641899109
           ],
           "y": [
            1.4505244493484497,
            1.3404269218444824
           ],
           "z": [
            -0.13846273720264435,
            -0.19615857303142548
           ]
          },
          {
           "line": {
            "color": "black",
            "width": 2
           },
           "mode": "lines",
           "showlegend": false,
           "type": "scatter3d",
           "x": [
            0,
            -0.04529999941587448
           ],
           "y": [
            0,
            0.9214000105857849
           ],
           "z": [
            0,
            -0.20730000734329224
           ]
          },
          {
           "line": {
            "color": "black",
            "width": 2
           },
           "mode": "lines",
           "showlegend": false,
           "type": "scatter3d",
           "x": [
            -0.04529999941587448,
            0.17387518286705017
           ],
           "y": [
            0.9214000105857849,
            1.4291808605194092
           ],
           "z": [
            -0.20730000734329224,
            -0.22348013520240784
           ]
          },
          {
           "line": {
            "color": "black",
            "width": 2
           },
           "mode": "lines",
           "showlegend": false,
           "type": "scatter3d",
           "x": [
            0.17387518286705017,
            0.5004259943962097
           ],
           "y": [
            1.4291808605194092,
            1.4508190155029297
           ],
           "z": [
            -0.22348013520240784,
            -0.2822391390800476
           ]
          },
          {
           "line": {
            "color": "black",
            "width": 2
           },
           "mode": "lines",
           "showlegend": false,
           "type": "scatter3d",
           "x": [
            0.5004259943962097,
            0.6925981044769287
           ],
           "y": [
            1.4508190155029297,
            1.3484121561050415
           ],
           "z": [
            -0.2822391390800476,
            -0.32224735617637634
           ]
          },
          {
           "line": {
            "color": "black",
            "width": 2
           },
           "mode": "lines",
           "showlegend": false,
           "type": "scatter3d",
           "x": [
            0,
            -0.11640000343322754
           ],
           "y": [
            0,
            0.7821999788284302
           ],
           "z": [
            0,
            -0.3912999927997589
           ]
          },
          {
           "line": {
            "color": "black",
            "width": 2
           },
           "mode": "lines",
           "showlegend": false,
           "type": "scatter3d",
           "x": [
            -0.11640000343322754,
            0.0775364339351654
           ],
           "y": [
            0.7821999788284302,
            1.1838186979293823
           ],
           "z": [
            -0.3912999927997589,
            -0.3680046498775482
           ]
          },
          {
           "line": {
            "color": "black",
            "width": 2
           },
           "mode": "lines",
           "showlegend": false,
           "type": "scatter3d",
           "x": [
            0.0775364339351654,
            0.3214399814605713
           ],
           "y": [
            1.1838186979293823,
            1.3200702667236328
           ],
           "z": [
            -0.3680046498775482,
            -0.4248254597187042
           ]
          },
          {
           "line": {
            "color": "black",
            "width": 2
           },
           "mode": "lines",
           "showlegend": false,
           "type": "scatter3d",
           "x": [
            0.3214399814605713,
            0.5316584706306458
           ],
           "y": [
            1.3200702667236328,
            1.3387123346328735
           ],
           "z": [
            -0.4248254597187042,
            -0.49686500430107117
           ]
          },
          {
           "line": {
            "color": "black",
            "width": 2
           },
           "mode": "lines",
           "showlegend": false,
           "type": "scatter3d",
           "x": [
            0.015113145112991333,
            -0.0019000000320374966
           ],
           "y": [
            0.47933006286621094,
            0.9692999720573425
           ],
           "z": [
            0.3571503758430481,
            0.2282000035047531
           ]
          },
          {
           "line": {
            "color": "black",
            "width": 2
           },
           "mode": "lines",
           "showlegend": false,
           "type": "scatter3d",
           "x": [
            -0.0019000000320374966,
            -0.0020000000949949026
           ],
           "y": [
            0.9692999720573425,
            0.996999979019165
           ],
           "z": [
            0.2282000035047531,
            -0.012400000356137753
           ]
          },
          {
           "line": {
            "color": "black",
            "width": 2
           },
           "mode": "lines",
           "showlegend": false,
           "type": "scatter3d",
           "x": [
            -0.0020000000949949026,
            -0.04529999941587448
           ],
           "y": [
            0.996999979019165,
            0.9214000105857849
           ],
           "z": [
            -0.012400000356137753,
            -0.20730000734329224
           ]
          },
          {
           "line": {
            "color": "black",
            "width": 2
           },
           "mode": "lines",
           "showlegend": false,
           "type": "scatter3d",
           "x": [
            -0.04529999941587448,
            -0.11640000343322754
           ],
           "y": [
            0.9214000105857849,
            0.7821999788284302
           ],
           "z": [
            -0.20730000734329224,
            -0.3912999927997589
           ]
          }
         ],
         "name": "59"
        },
        {
         "data": [
          {
           "marker": {
            "color": "blue",
            "size": 4
           },
           "mode": "markers+text",
           "name": "Landmarks",
           "text": [
            "0",
            "1",
            "2",
            "3",
            "4",
            "5",
            "6",
            "7",
            "8",
            "9",
            "10",
            "11",
            "12",
            "13",
            "14",
            "15",
            "16",
            "17",
            "18",
            "19"
           ],
           "textfont": {
            "color": "black",
            "size": 8
           },
           "textposition": "top center",
           "type": "scatter3d",
           "x": {
            "bdata": "AAAAAODbWjzshx4+VifhPWwJ+boK2TE9ScOhPqAYCD9vEgO7oyBFPlYeAD/Gmi4/fow5vdgOMj4WHAA/xE0xPyBj7r0aVZ89lMSkPsszCD8=",
            "dtype": "f4"
           },
           "y": {
            "bdata": "AAAAAMeE9j544Ug/kBZ1PwskeD+i9rQ/lIO1P2z7sz9kO38/MnPCP2WvuT99m6s/3+BrP2vvtj/ctLk/fJmsP0I+SD++g5c/U+yoP+dHqz8=",
            "dtype": "f4"
           },
           "z": {
            "bdata": "AAAAAKBrtz4uDT4+kNaBvEOtaT5/4W0+Zjw+PrgbGD5fKUu8UxQ8vZ3kDb6d/Ei+dEZUvrSwZL6IcpC+bvakvnlYyL7gj7y+erfZvqud/r4=",
            "dtype": "f4"
           }
          },
          {
           "line": {
            "color": "black",
            "width": 2
           },
           "mode": "lines",
           "showlegend": false,
           "type": "scatter3d",
           "x": [
            0,
            0.013358086347579956
           ],
           "y": [
            0,
            0.48148176074028015
           ],
           "z": [
            0,
            0.3582429885864258
           ]
          },
          {
           "line": {
            "color": "black",
            "width": 2
           },
           "mode": "lines",
           "showlegend": false,
           "type": "scatter3d",
           "x": [
            0.013358086347579956,
            0.15481537580490112
           ],
           "y": [
            0.48148176074028015,
            0.7846903800964355
           ],
           "z": [
            0.3582429885864258,
            0.18559715151786804
           ]
          },
          {
           "line": {
            "color": "black",
            "width": 2
           },
           "mode": "lines",
           "showlegend": false,
           "type": "scatter3d",
           "x": [
            0.15481537580490112,
            0.10993830859661102
           ],
           "y": [
            0.7846903800964355,
            0.9573755264282227
           ],
           "z": [
            0.18559715151786804,
            -0.015849381685256958
           ]
          },
          {
           "line": {
            "color": "black",
            "width": 2
           },
           "mode": "lines",
           "showlegend": false,
           "type": "scatter3d",
           "x": [
            0,
            -0.0019000000320374966
           ],
           "y": [
            0,
            0.9692999720573425
           ],
           "z": [
            0,
            0.2282000035047531
           ]
          },
          {
           "line": {
            "color": "black",
            "width": 2
           },
           "mode": "lines",
           "showlegend": false,
           "type": "scatter3d",
           "x": [
            -0.0019000000320374966,
            0.04341987520456314
           ],
           "y": [
            0.9692999720573425,
            1.4137766361236572
           ],
           "z": [
            0.2282000035047531,
            0.23230551183223724
           ]
          },
          {
           "line": {
            "color": "black",
            "width": 2
           },
           "mode": "lines",
           "showlegend": false,
           "type": "scatter3d",
           "x": [
            0.04341987520456314,
            0.31594303250312805
           ],
           "y": [
            1.4137766361236572,
            1.4180779457092285
           ],
           "z": [
            0.23230551183223724,
            0.18577727675437927
           ]
          },
          {
           "line": {
            "color": "black",
            "width": 2
           },
           "mode": "lines",
           "showlegend": false,
           "type": "scatter3d",
           "x": [
            0.31594303250312805,
            0.5316257476806641
           ],
           "y": [
            1.4180779457092285,
            1.4061102867126465
           ],
           "z": [
            0.18577727675437927,
            0.14854323863983154
           ]
          },
          {
           "line": {
            "color": "black",
            "width": 2
           },
           "mode": "lines",
           "showlegend": false,
           "type": "scatter3d",
           "x": [
            0,
            -0.0020000000949949026
           ],
           "y": [
            0,
            0.996999979019165
           ],
           "z": [
            0,
            -0.012400000356137753
           ]
          },
          {
           "line": {
            "color": "black",
            "width": 2
           },
           "mode": "lines",
           "showlegend": false,
           "type": "scatter3d",
           "x": [
            -0.0020000000949949026,
            0.1925073117017746
           ],
           "y": [
            0.996999979019165,
            1.5191404819488525
           ],
           "z": [
            -0.012400000356137753,
            -0.0459178201854229
           ]
          },
          {
           "line": {
            "color": "black",
            "width": 2
           },
           "mode": "lines",
           "showlegend": false,
           "type": "scatter3d",
           "x": [
            0.1925073117017746,
            0.5004628896713257
           ],
           "y": [
            1.5191404819488525,
            1.4506651163101196
           ],
           "z": [
            -0.0459178201854229,
            -0.13856740295886993
           ]
          },
          {
           "line": {
            "color": "black",
            "width": 2
           },
           "mode": "lines",
           "showlegend": false,
           "type": "scatter3d",
           "x": [
            0.5004628896713257,
            0.6820491552352905
           ],
           "y": [
            1.4506651163101196,
            1.3406826257705688
           ],
           "z": [
            -0.13856740295886993,
            -0.19627614319324493
           ]
          },
          {
           "line": {
            "color": "black",
            "width": 2
           },
           "mode": "lines",
           "showlegend": false,
           "type": "scatter3d",
           "x": [
            0,
            -0.04529999941587448
           ],
           "y": [
            0,
            0.9214000105857849
           ],
           "z": [
            0,
            -0.20730000734329224
           ]
          },
          {
           "line": {
            "color": "black",
            "width": 2
           },
           "mode": "lines",
           "showlegend": false,
           "type": "scatter3d",
           "x": [
            -0.04529999941587448,
            0.17388474941253662
           ],
           "y": [
            0.9214000105857849,
            1.429181456565857
           ],
           "z": [
            -0.20730000734329224,
            -0.2233303189277649
           ]
          },
          {
           "line": {
            "color": "black",
            "width": 2
           },
           "mode": "lines",
           "showlegend": false,
           "type": "scatter3d",
           "x": [
            0.17388474941253662,
            0.5004285573959351
           ],
           "y": [
            1.429181456565857,
            1.4508318901062012
           ],
           "z": [
            -0.2233303189277649,
            -0.2821238040924072
           ]
          },
          {
           "line": {
            "color": "black",
            "width": 2
           },
           "mode": "lines",
           "showlegend": false,
           "type": "scatter3d",
           "x": [
            0.5004285573959351,
            0.6925928592681885
           ],
           "y": [
            1.4508318901062012,
            1.3484339714050293
           ],
           "z": [
            -0.2821238040924072,
            -0.32219260931015015
           ]
          },
          {
           "line": {
            "color": "black",
            "width": 2
           },
           "mode": "lines",
           "showlegend": false,
           "type": "scatter3d",
           "x": [
            0,
            -0.11640000343322754
           ],
           "y": [
            0,
            0.7821999788284302
           ],
           "z": [
            0,
            -0.3912999927997589
           ]
          },
          {
           "line": {
            "color": "black",
            "width": 2
           },
           "mode": "lines",
           "showlegend": false,
           "type": "scatter3d",
           "x": [
            -0.11640000343322754,
            0.07779903709888458
           ],
           "y": [
            0.7821999788284302,
            1.1837079524993896
           ],
           "z": [
            -0.3912999927997589,
            -0.3682851791381836
           ]
          },
          {
           "line": {
            "color": "black",
            "width": 2
           },
           "mode": "lines",
           "showlegend": false,
           "type": "scatter3d",
           "x": [
            0.07779903709888458,
            0.3218122720718384
           ],
           "y": [
            1.1837079524993896,
            1.3197120428085327
           ],
           "z": [
            -0.3682851791381836,
            -0.42522794008255005
           ]
          },
          {
           "line": {
            "color": "black",
            "width": 2
           },
           "mode": "lines",
           "showlegend": false,
           "type": "scatter3d",
           "x": [
            0.3218122720718384,
            0.5320402979850769
           ],
           "y": [
            1.3197120428085327,
            1.3381317853927612
           ],
           "z": [
            -0.42522794008255005,
            -0.49729666113853455
           ]
          },
          {
           "line": {
            "color": "black",
            "width": 2
           },
           "mode": "lines",
           "showlegend": false,
           "type": "scatter3d",
           "x": [
            0.013358086347579956,
            -0.0019000000320374966
           ],
           "y": [
            0.48148176074028015,
            0.9692999720573425
           ],
           "z": [
            0.3582429885864258,
            0.2282000035047531
           ]
          },
          {
           "line": {
            "color": "black",
            "width": 2
           },
           "mode": "lines",
           "showlegend": false,
           "type": "scatter3d",
           "x": [
            -0.0019000000320374966,
            -0.0020000000949949026
           ],
           "y": [
            0.9692999720573425,
            0.996999979019165
           ],
           "z": [
            0.2282000035047531,
            -0.012400000356137753
           ]
          },
          {
           "line": {
            "color": "black",
            "width": 2
           },
           "mode": "lines",
           "showlegend": false,
           "type": "scatter3d",
           "x": [
            -0.0020000000949949026,
            -0.04529999941587448
           ],
           "y": [
            0.996999979019165,
            0.9214000105857849
           ],
           "z": [
            -0.012400000356137753,
            -0.20730000734329224
           ]
          },
          {
           "line": {
            "color": "black",
            "width": 2
           },
           "mode": "lines",
           "showlegend": false,
           "type": "scatter3d",
           "x": [
            -0.04529999941587448,
            -0.11640000343322754
           ],
           "y": [
            0.9214000105857849,
            0.7821999788284302
           ],
           "z": [
            -0.20730000734329224,
            -0.3912999927997589
           ]
          }
         ],
         "name": "60"
        },
        {
         "data": [
          {
           "marker": {
            "color": "blue",
            "size": 4
           },
           "mode": "markers+text",
           "name": "Landmarks",
           "text": [
            "0",
            "1",
            "2",
            "3",
            "4",
            "5",
            "6",
            "7",
            "8",
            "9",
            "10",
            "11",
            "12",
            "13",
            "14",
            "15",
            "16",
            "17",
            "18",
            "19"
           ],
           "textfont": {
            "color": "black",
            "size": 8
           },
           "textposition": "top center",
           "type": "scatter3d",
           "x": {
            "bdata": "AAAAAIDbajyGgx8++HbdPWwJ+boltE09qGOlPvv3CT9vEgO7hfpEPpQTAD+pjy4/fow5vXIJMj7eGgA/9kwxPyBj7r0caZ89dsukPj43CD8=",
            "dtype": "f4"
           },
           "y": {
            "bdata": "AAAAAGYA9j72PUg/PeNzPwskeD+Y3rQ/v0q1P9W4sz9kO38/X3XCP+qyuT8eoKs/3+BrP6jvtj9Otbk/CpqsP0I+SD8qg5c/u+qoP2RFqz8=",
            "dtype": "f4"
           },
           "z": {
            "bdata": "AAAAALIEtj7dljg+cJ+3vEOtaT67NGc+wTI5PqiSFD5fKUu8uUw7vfzKDb5V+Ei+dEZUvju+ZL6Nd5C+kvikvnlYyL4Fkry+N7vZvk6i/r4=",
            "dtype": "f4"
           }
          },
          {
           "line": {
            "color": "black",
            "width": 2
           },
           "mode": "lines",
           "showlegend": false,
           "type": "scatter3d",
           "x": [
            0,
            0.014334559440612793
           ],
           "y": [
            0,
            0.48047178983688354
           ],
           "z": [
            0,
            0.35550457239151
           ]
          },
          {
           "line": {
            "color": "black",
            "width": 2
           },
           "mode": "lines",
           "showlegend": false,
           "type": "scatter3d",
           "x": [
            0.014334559440612793,
            0.15577515959739685
           ],
           "y": [
            0.48047178983688354,
            0.7821954488754272
           ],
           "z": [
            0.35550457239151,
            0.1802629977464676
           ]
          },
          {
           "line": {
            "color": "black",
            "width": 2
           },
           "mode": "lines",
           "showlegend": false,
           "type": "scatter3d",
           "x": [
            0.15577515959739685,
            0.10813707113265991
           ],
           "y": [
            0.7821954488754272,
            0.9526861310005188
           ],
           "z": [
            0.1802629977464676,
            -0.02241489291191101
           ]
          },
          {
           "line": {
            "color": "black",
            "width": 2
           },
           "mode": "lines",
           "showlegend": false,
           "type": "scatter3d",
           "x": [
            0,
            -0.0019000000320374966
           ],
           "y": [
            0,
            0.9692999720573425
           ],
           "z": [
            0,
            0.2282000035047531
           ]
          },
          {
           "line": {
            "color": "black",
            "width": 2
           },
           "mode": "lines",
           "showlegend": false,
           "type": "scatter3d",
           "x": [
            -0.0019000000320374966,
            0.05022062733769417
           ],
           "y": [
            0.9692999720573425,
            1.4130430221557617
           ],
           "z": [
            0.2282000035047531,
            0.22578708827495575
           ]
          },
          {
           "line": {
            "color": "black",
            "width": 2
           },
           "mode": "lines",
           "showlegend": false,
           "type": "scatter3d",
           "x": [
            0.05022062733769417,
            0.3230259418487549
           ],
           "y": [
            1.4130430221557617,
            1.4163435697555542
           ],
           "z": [
            0.22578708827495575,
            0.18085767328739166
           ]
          },
          {
           "line": {
            "color": "black",
            "width": 2
           },
           "mode": "lines",
           "showlegend": false,
           "type": "scatter3d",
           "x": [
            0.3230259418487549,
            0.5389401316642761
           ],
           "y": [
            1.4163435697555542,
            1.4040781259536743
           ],
           "z": [
            0.18085767328739166,
            0.14509069919586182
           ]
          },
          {
           "line": {
            "color": "black",
            "width": 2
           },
           "mode": "lines",
           "showlegend": false,
           "type": "scatter3d",
           "x": [
            0,
            -0.0020000000949949026
           ],
           "y": [
            0,
            0.996999979019165
           ],
           "z": [
            0,
            -0.012400000356137753
           ]
          },
          {
           "line": {
            "color": "black",
            "width": 2
           },
           "mode": "lines",
           "showlegend": false,
           "type": "scatter3d",
           "x": [
            -0.0020000000949949026,
            0.19236190617084503
           ],
           "y": [
            0.996999979019165,
            1.5192068815231323
           ],
           "z": [
            -0.012400000356137753,
            -0.04572746530175209
           ]
          },
          {
           "line": {
            "color": "black",
            "width": 2
           },
           "mode": "lines",
           "showlegend": false,
           "type": "scatter3d",
           "x": [
            0.19236190617084503,
            0.5002987384796143
           ],
           "y": [
            1.5192068815231323,
            1.4507725238800049
           ],
           "z": [
            -0.04572746530175209,
            -0.1384696364402771
           ]
          },
          {
           "line": {
            "color": "black",
            "width": 2
           },
           "mode": "lines",
           "showlegend": false,
           "type": "scatter3d",
           "x": [
            0.5002987384796143,
            0.6818795800209045
           ],
           "y": [
            1.4507725238800049,
            1.3408238887786865
           ],
           "z": [
            -0.1384696364402771,
            -0.19625981152057648
           ]
          },
          {
           "line": {
            "color": "black",
            "width": 2
           },
           "mode": "lines",
           "showlegend": false,
           "type": "scatter3d",
           "x": [
            0,
            -0.04529999941587448
           ],
           "y": [
            0,
            0.9214000105857849
           ],
           "z": [
            0,
            -0.20730000734329224
           ]
          },
          {
           "line": {
            "color": "black",
            "width": 2
           },
           "mode": "lines",
           "showlegend": false,
           "type": "scatter3d",
           "x": [
            -0.04529999941587448,
            0.17386415600776672
           ],
           "y": [
            0.9214000105857849,
            1.4291887283325195
           ],
           "z": [
            -0.20730000734329224,
            -0.2233819216489792
           ]
          },
          {
           "line": {
            "color": "black",
            "width": 2
           },
           "mode": "lines",
           "showlegend": false,
           "type": "scatter3d",
           "x": [
            0.17386415600776672,
            0.5004099607467651
           ],
           "y": [
            1.4291887283325195,
            1.45084547996521
           ],
           "z": [
            -0.2233819216489792,
            -0.2821621000766754
           ]
          },
          {
           "line": {
            "color": "black",
            "width": 2
           },
           "mode": "lines",
           "showlegend": false,
           "type": "scatter3d",
           "x": [
            0.5004099607467651,
            0.6925805807113647
           ],
           "y": [
            1.45084547996521,
            1.3484508991241455
           ],
           "z": [
            -0.2821621000766754,
            -0.3222089409828186
           ]
          },
          {
           "line": {
            "color": "black",
            "width": 2
           },
           "mode": "lines",
           "showlegend": false,
           "type": "scatter3d",
           "x": [
            0,
            -0.11640000343322754
           ],
           "y": [
            0,
            0.7821999788284302
           ],
           "z": [
            0,
            -0.3912999927997589
           ]
          },
          {
           "line": {
            "color": "black",
            "width": 2
           },
           "mode": "lines",
           "showlegend": false,
           "type": "scatter3d",
           "x": [
            -0.11640000343322754,
            0.07783719897270203
           ],
           "y": [
            0.7821999788284302,
            1.1836903095245361
           ],
           "z": [
            -0.3912999927997589,
            -0.36830154061317444
           ]
          },
          {
           "line": {
            "color": "black",
            "width": 2
           },
           "mode": "lines",
           "showlegend": false,
           "type": "scatter3d",
           "x": [
            0.07783719897270203,
            0.3218647837638855
           ],
           "y": [
            1.1836903095245361,
            1.319663405418396
           ],
           "z": [
            -0.36830154061317444,
            -0.4252564609050751
           ]
          },
          {
           "line": {
            "color": "black",
            "width": 2
           },
           "mode": "lines",
           "showlegend": false,
           "type": "scatter3d",
           "x": [
            0.3218647837638855,
            0.5320929288864136
           ],
           "y": [
            1.319663405418396,
            1.33805513381958
           ],
           "z": [
            -0.4252564609050751,
            -0.49733203649520874
           ]
          },
          {
           "line": {
            "color": "black",
            "width": 2
           },
           "mode": "lines",
           "showlegend": false,
           "type": "scatter3d",
           "x": [
            0.014334559440612793,
            -0.0019000000320374966
           ],
           "y": [
            0.48047178983688354,
            0.9692999720573425
           ],
           "z": [
            0.35550457239151,
            0.2282000035047531
           ]
          },
          {
           "line": {
            "color": "black",
            "width": 2
           },
           "mode": "lines",
           "showlegend": false,
           "type": "scatter3d",
           "x": [
            -0.0019000000320374966,
            -0.0020000000949949026
           ],
           "y": [
            0.9692999720573425,
            0.996999979019165
           ],
           "z": [
            0.2282000035047531,
            -0.012400000356137753
           ]
          },
          {
           "line": {
            "color": "black",
            "width": 2
           },
           "mode": "lines",
           "showlegend": false,
           "type": "scatter3d",
           "x": [
            -0.0020000000949949026,
            -0.04529999941587448
           ],
           "y": [
            0.996999979019165,
            0.9214000105857849
           ],
           "z": [
            -0.012400000356137753,
            -0.20730000734329224
           ]
          },
          {
           "line": {
            "color": "black",
            "width": 2
           },
           "mode": "lines",
           "showlegend": false,
           "type": "scatter3d",
           "x": [
            -0.04529999941587448,
            -0.11640000343322754
           ],
           "y": [
            0.9214000105857849,
            0.7821999788284302
           ],
           "z": [
            -0.20730000734329224,
            -0.3912999927997589
           ]
          }
         ],
         "name": "61"
        },
        {
         "data": [
          {
           "marker": {
            "color": "blue",
            "size": 4
           },
           "mode": "markers+text",
           "name": "Landmarks",
           "text": [
            "0",
            "1",
            "2",
            "3",
            "4",
            "5",
            "6",
            "7",
            "8",
            "9",
            "10",
            "11",
            "12",
            "13",
            "14",
            "15",
            "16",
            "17",
            "18",
            "19"
           ],
           "textfont": {
            "color": "black",
            "size": 8
           },
           "textposition": "top center",
           "type": "scatter3d",
           "x": {
            "bdata": "AAAAAABybzwivh8+1NzYPWwJ+bpMa1c9lqamPuSdCj9vEgO7av1EPioUAD8bkC4/fow5vSwKMj4gGwA/PU0xPyBj7r3yZ589D8ukPgo3CD8=",
            "dtype": "f4"
           },
           "y": {
            "bdata": "AAAAANzZ9T6EDUg/2khzPwskeD+m1LQ/Bku1P2eusz9kO38/QnXCP+uyuT8loKs/3+BrP5jvtj8btbk/vZmsP0I+SD8zg5c/0+qoP4lFqz8=",
            "dtype": "f4"
           },
           "z": {
            "bdata": "AAAAAFmXtT7r5zY+0EjLvEOtaT4+22Q+4HI3Pu5cEz5fKUu8tEA7vXTKDb7k+Ui+dEZUvl/EZL72eZC+xvmkvnlYyL7ikby+/LrZvgai/r4=",
            "dtype": "f4"
           }
          },
          {
           "line": {
            "color": "black",
            "width": 2
           },
           "mode": "lines",
           "showlegend": false,
           "type": "scatter3d",
           "x": [
            0,
            0.014614582061767578
           ],
           "y": [
            0,
            0.48017776012420654
           ],
           "z": [
            0,
            0.35467031598091125
           ]
          },
          {
           "line": {
            "color": "black",
            "width": 2
           },
           "mode": "lines",
           "showlegend": false,
           "type": "scatter3d",
           "x": [
            0.014614582061767578,
            0.15599873661994934
           ],
           "y": [
            0.48017776012420654,
            0.7814562320709229
           ],
           "z": [
            0.35467031598091125,
            0.17861907184123993
           ]
          },
          {
           "line": {
            "color": "black",
            "width": 2
           },
           "mode": "lines",
           "showlegend": false,
           "type": "scatter3d",
           "x": [
            0.15599873661994934,
            0.1058899462223053
           ],
           "y": [
            0.7814562320709229,
            0.950330376625061
           ],
           "z": [
            0.17861907184123993,
            -0.024814993143081665
           ]
          },
          {
           "line": {
            "color": "black",
            "width": 2
           },
           "mode": "lines",
           "showlegend": false,
           "type": "scatter3d",
           "x": [
            0,
            -0.0019000000320374966
           ],
           "y": [
            0,
            0.9692999720573425
           ],
           "z": [
            0,
            0.2282000035047531
           ]
          },
          {
           "line": {
            "color": "black",
            "width": 2
           },
           "mode": "lines",
           "showlegend": false,
           "type": "scatter3d",
           "x": [
            -0.0019000000320374966,
            0.05259256064891815
           ],
           "y": [
            0.9692999720573425,
            1.4127395153045654
           ],
           "z": [
            0.2282000035047531,
            0.2234925925731659
           ]
          },
          {
           "line": {
            "color": "black",
            "width": 2
           },
           "mode": "lines",
           "showlegend": false,
           "type": "scatter3d",
           "x": [
            0.05259256064891815,
            0.32548969984054565
           ],
           "y": [
            1.4127395153045654,
            1.4163520336151123
           ],
           "z": [
            0.2234925925731659,
            0.17914915084838867
           ]
          },
          {
           "line": {
            "color": "black",
            "width": 2
           },
           "mode": "lines",
           "showlegend": false,
           "type": "scatter3d",
           "x": [
            0.32548969984054565,
            0.5414717197418213
           ],
           "y": [
            1.4163520336151123,
            1.4037598371505737
           ],
           "z": [
            0.17914915084838867,
            0.14390918612480164
           ]
          },
          {
           "line": {
            "color": "black",
            "width": 2
           },
           "mode": "lines",
           "showlegend": false,
           "type": "scatter3d",
           "x": [
            0,
            -0.0020000000949949026
           ],
           "y": [
            0,
            0.996999979019165
           ],
           "z": [
            0,
            -0.012400000356137753
           ]
          },
          {
           "line": {
            "color": "black",
            "width": 2
           },
           "mode": "lines",
           "showlegend": false,
           "type": "scatter3d",
           "x": [
            -0.0020000000949949026,
            0.19237294793128967
           ],
           "y": [
            0.996999979019165,
            1.5192034244537354
           ],
           "z": [
            -0.012400000356137753,
            -0.04571600258350372
           ]
          },
          {
           "line": {
            "color": "black",
            "width": 2
           },
           "mode": "lines",
           "showlegend": false,
           "type": "scatter3d",
           "x": [
            0.19237294793128967,
            0.5003076791763306
           ],
           "y": [
            1.5192034244537354,
            1.4507726430892944
           ],
           "z": [
            -0.04571600258350372,
            -0.13846760988235474
           ]
          },
          {
           "line": {
            "color": "black",
            "width": 2
           },
           "mode": "lines",
           "showlegend": false,
           "type": "scatter3d",
           "x": [
            0.5003076791763306,
            0.6818863749504089
           ],
           "y": [
            1.4507726430892944,
            1.3408247232437134
           ],
           "z": [
            -0.13846760988235474,
            -0.19626575708389282
           ]
          },
          {
           "line": {
            "color": "black",
            "width": 2
           },
           "mode": "lines",
           "showlegend": false,
           "type": "scatter3d",
           "x": [
            0,
            -0.04529999941587448
           ],
           "y": [
            0,
            0.9214000105857849
           ],
           "z": [
            0,
            -0.20730000734329224
           ]
          },
          {
           "line": {
            "color": "black",
            "width": 2
           },
           "mode": "lines",
           "showlegend": false,
           "type": "scatter3d",
           "x": [
            -0.04529999941587448,
            0.17386692762374878
           ],
           "y": [
            0.9214000105857849,
            1.4291868209838867
           ],
           "z": [
            -0.20730000734329224,
            -0.22340534627437592
           ]
          },
          {
           "line": {
            "color": "black",
            "width": 2
           },
           "mode": "lines",
           "showlegend": false,
           "type": "scatter3d",
           "x": [
            0.17386692762374878,
            0.5004138946533203
           ],
           "y": [
            1.4291868209838867,
            1.4508394002914429
           ],
           "z": [
            -0.22340534627437592,
            -0.2821804881095886
           ]
          },
          {
           "line": {
            "color": "black",
            "width": 2
           },
           "mode": "lines",
           "showlegend": false,
           "type": "scatter3d",
           "x": [
            0.5004138946533203,
            0.6925848126411438
           ],
           "y": [
            1.4508394002914429,
            1.34844172000885
           ],
           "z": [
            -0.2821804881095886,
            -0.322218120098114
           ]
          },
          {
           "line": {
            "color": "black",
            "width": 2
           },
           "mode": "lines",
           "showlegend": false,
           "type": "scatter3d",
           "x": [
            0,
            -0.11640000343322754
           ],
           "y": [
            0,
            0.7821999788284302
           ],
           "z": [
            0,
            -0.3912999927997589
           ]
          },
          {
           "line": {
            "color": "black",
            "width": 2
           },
           "mode": "lines",
           "showlegend": false,
           "type": "scatter3d",
           "x": [
            -0.11640000343322754,
            0.07783497869968414
           ],
           "y": [
            0.7821999788284302,
            1.183691382408142
           ],
           "z": [
            -0.3912999927997589,
            -0.36830049753189087
           ]
          },
          {
           "line": {
            "color": "black",
            "width": 2
           },
           "mode": "lines",
           "showlegend": false,
           "type": "scatter3d",
           "x": [
            0.07783497869968414,
            0.32186171412467957
           ],
           "y": [
            1.183691382408142,
            1.3196662664413452
           ],
           "z": [
            -0.36830049753189087,
            -0.4252547025680542
           ]
          },
          {
           "line": {
            "color": "black",
            "width": 2
           },
           "mode": "lines",
           "showlegend": false,
           "type": "scatter3d",
           "x": [
            0.32186171412467957,
            0.5320898294448853
           ],
           "y": [
            1.3196662664413452,
            1.3380595445632935
           ],
           "z": [
            -0.4252547025680542,
            -0.4973298907279968
           ]
          },
          {
           "line": {
            "color": "black",
            "width": 2
           },
           "mode": "lines",
           "showlegend": false,
           "type": "scatter3d",
           "x": [
            0.014614582061767578,
            -0.0019000000320374966
           ],
           "y": [
            0.48017776012420654,
            0.9692999720573425
           ],
           "z": [
            0.35467031598091125,
            0.2282000035047531
           ]
          },
          {
           "line": {
            "color": "black",
            "width": 2
           },
           "mode": "lines",
           "showlegend": false,
           "type": "scatter3d",
           "x": [
            -0.0019000000320374966,
            -0.0020000000949949026
           ],
           "y": [
            0.9692999720573425,
            0.996999979019165
           ],
           "z": [
            0.2282000035047531,
            -0.012400000356137753
           ]
          },
          {
           "line": {
            "color": "black",
            "width": 2
           },
           "mode": "lines",
           "showlegend": false,
           "type": "scatter3d",
           "x": [
            -0.0020000000949949026,
            -0.04529999941587448
           ],
           "y": [
            0.996999979019165,
            0.9214000105857849
           ],
           "z": [
            -0.012400000356137753,
            -0.20730000734329224
           ]
          },
          {
           "line": {
            "color": "black",
            "width": 2
           },
           "mode": "lines",
           "showlegend": false,
           "type": "scatter3d",
           "x": [
            -0.04529999941587448,
            -0.11640000343322754
           ],
           "y": [
            0.9214000105857849,
            0.7821999788284302
           ],
           "z": [
            -0.20730000734329224,
            -0.3912999927997589
           ]
          }
         ],
         "name": "62"
        },
        {
         "data": [
          {
           "marker": {
            "color": "blue",
            "size": 4
           },
           "mode": "markers+text",
           "name": "Landmarks",
           "text": [
            "0",
            "1",
            "2",
            "3",
            "4",
            "5",
            "6",
            "7",
            "8",
            "9",
            "10",
            "11",
            "12",
            "13",
            "14",
            "15",
            "16",
            "17",
            "18",
            "19"
           ],
           "textfont": {
            "color": "black",
            "size": 8
           },
           "textposition": "top center",
           "type": "scatter3d",
           "x": {
            "bdata": "AAAAAADcazyp/Bw+Nv/MPWwJ+bpOEEY9QnqkPmGQCT9vEgO7WJREPmL5/z51fC4/fow5vbj2MT60FQA/S0gxPyBj7r1SuJ89Y+akPr5ECD8=",
            "dtype": "f4"
           },
           "y": {
            "bdata": "AAAAAJQM9j5IEkg/ps1yPwskeD/55LQ/h7y1P/pXtD9kO38/XnrCPwO+uT9zrqs/3+BrP8Lwtj/ZuLk/cp6sP0I+SD/mgJc/oeSoP8I7qz8=",
            "dtype": "f4"
           },
           "z": {
            "bdata": "AAAAAL/ZtD594DI+QEDyvEOtaT4Qq2Q+fpA3Poy5Ez5fKUu8LNA6vX2sDb683Ei+dEZUvpimZL53bZC+lPKkvnlYyL7zmry+QMrZvri0/r4=",
            "dtype": "f4"
           }
          },
          {
           "line": {
            "color": "black",
            "width": 2
           },
           "mode": "lines",
           "showlegend": false,
           "type": "scatter3d",
           "x": [
            0,
            0.014395713806152344
           ],
           "y": [
            0,
            0.4805647134780884
           ],
           "z": [
            0,
            0.3532237708568573
           ]
          },
          {
           "line": {
            "color": "black",
            "width": 2
           },
           "mode": "lines",
           "showlegend": false,
           "type": "scatter3d",
           "x": [
            0.014395713806152344,
            0.15330757200717926
           ],
           "y": [
            0.4805647134780884,
            0.7815289497375488
           ],
           "z": [
            0.3532237708568573,
            0.17468447983264923
           ]
          },
          {
           "line": {
            "color": "black",
            "width": 2
           },
           "mode": "lines",
           "showlegend": false,
           "type": "scatter3d",
           "x": [
            0.15330757200717926,
            0.10009615123271942
           ],
           "y": [
            0.7815289497375488,
            0.9484504461288452
           ],
           "z": [
            0.17468447983264923,
            -0.02957165241241455
           ]
          },
          {
           "line": {
            "color": "black",
            "width": 2
           },
           "mode": "lines",
           "showlegend": false,
           "type": "scatter3d",
           "x": [
            0,
            -0.0019000000320374966
           ],
           "y": [
            0,
            0.9692999720573425
           ],
           "z": [
            0,
            0.2282000035047531
           ]
          },
          {
           "line": {
            "color": "black",
            "width": 2
           },
           "mode": "lines",
           "showlegend": false,
           "type": "scatter3d",
           "x": [
            -0.0019000000320374966,
            0.04835539311170578
           ],
           "y": [
            0.9692999720573425,
            1.4132376909255981
           ],
           "z": [
            0.2282000035047531,
            0.22330880165100098
           ]
          },
          {
           "line": {
            "color": "black",
            "width": 2
           },
           "mode": "lines",
           "showlegend": false,
           "type": "scatter3d",
           "x": [
            0.04835539311170578,
            0.3212452530860901
           ],
           "y": [
            1.4132376909255981,
            1.4198158979415894
           ],
           "z": [
            0.22330880165100098,
            0.17926213145256042
           ]
          },
          {
           "line": {
            "color": "black",
            "width": 2
           },
           "mode": "lines",
           "showlegend": false,
           "type": "scatter3d",
           "x": [
            0.3212452530860901,
            0.5373592972755432
           ],
           "y": [
            1.4198158979415894,
            1.4089348316192627
           ],
           "z": [
            0.17926213145256042,
            0.14426249265670776
           ]
          },
          {
           "line": {
            "color": "black",
            "width": 2
           },
           "mode": "lines",
           "showlegend": false,
           "type": "scatter3d",
           "x": [
            0,
            -0.0020000000949949026
           ],
           "y": [
            0,
            0.996999979019165
           ],
           "z": [
            0,
            -0.012400000356137753
           ]
          },
          {
           "line": {
            "color": "black",
            "width": 2
           },
           "mode": "lines",
           "showlegend": false,
           "type": "scatter3d",
           "x": [
            -0.0020000000949949026,
            0.19197213649749756
           ],
           "y": [
            0.996999979019165,
            1.5193593502044678
           ],
           "z": [
            -0.012400000356137753,
            -0.04560868442058563
           ]
          },
          {
           "line": {
            "color": "black",
            "width": 2
           },
           "mode": "lines",
           "showlegend": false,
           "type": "scatter3d",
           "x": [
            0.19197213649749756,
            0.49994951486587524
           ],
           "y": [
            1.5193593502044678,
            1.4511111974716187
           ],
           "z": [
            -0.04560868442058563,
            -0.13835330307483673
           ]
          },
          {
           "line": {
            "color": "black",
            "width": 2
           },
           "mode": "lines",
           "showlegend": false,
           "type": "scatter3d",
           "x": [
            0.49994951486587524,
            0.6815865635871887
           ],
           "y": [
            1.4511111974716187,
            1.3412612676620483
           ],
           "z": [
            -0.13835330307483673,
            -0.19615453481674194
           ]
          },
          {
           "line": {
            "color": "black",
            "width": 2
           },
           "mode": "lines",
           "showlegend": false,
           "type": "scatter3d",
           "x": [
            0,
            -0.04529999941587448
           ],
           "y": [
            0,
            0.9214000105857849
           ],
           "z": [
            0,
            -0.20730000734329224
           ]
          },
          {
           "line": {
            "color": "black",
            "width": 2
           },
           "mode": "lines",
           "showlegend": false,
           "type": "scatter3d",
           "x": [
            -0.04529999941587448,
            0.17379271984100342
           ],
           "y": [
            0.9214000105857849,
            1.4292223453521729
           ],
           "z": [
            -0.20730000734329224,
            -0.22329175472259521
           ]
          },
          {
           "line": {
            "color": "black",
            "width": 2
           },
           "mode": "lines",
           "showlegend": false,
           "type": "scatter3d",
           "x": [
            0.17379271984100342,
            0.5003311634063721
           ],
           "y": [
            1.4292223453521729,
            1.4509536027908325
           ],
           "z": [
            -0.22329175472259521,
            -0.2820851504802704
           ]
          },
          {
           "line": {
            "color": "black",
            "width": 2
           },
           "mode": "lines",
           "showlegend": false,
           "type": "scatter3d",
           "x": [
            0.5003311634063721,
            0.6925093531608582
           ],
           "y": [
            1.4509536027908325,
            1.3485853672027588
           ],
           "z": [
            -0.2820851504802704,
            -0.3221632242202759
           ]
          },
          {
           "line": {
            "color": "black",
            "width": 2
           },
           "mode": "lines",
           "showlegend": false,
           "type": "scatter3d",
           "x": [
            0,
            -0.11640000343322754
           ],
           "y": [
            0,
            0.7821999788284302
           ],
           "z": [
            0,
            -0.3912999927997589
           ]
          },
          {
           "line": {
            "color": "black",
            "width": 2
           },
           "mode": "lines",
           "showlegend": false,
           "type": "scatter3d",
           "x": [
            -0.11640000343322754,
            0.07798828184604645
           ],
           "y": [
            0.7821999788284302,
            1.1836211681365967
           ],
           "z": [
            -0.3912999927997589,
            -0.3683696687221527
           ]
          },
          {
           "line": {
            "color": "black",
            "width": 2
           },
           "mode": "lines",
           "showlegend": false,
           "type": "scatter3d",
           "x": [
            0.07798828184604645,
            0.3220702111721039
           ],
           "y": [
            1.1836211681365967,
            1.3194772005081177
           ],
           "z": [
            -0.3683696687221527,
            -0.4253711700439453
           ]
          },
          {
           "line": {
            "color": "black",
            "width": 2
           },
           "mode": "lines",
           "showlegend": false,
           "type": "scatter3d",
           "x": [
            0.3220702111721039,
            0.5322989225387573
           ],
           "y": [
            1.3194772005081177,
            1.3377611637115479
           ],
           "z": [
            -0.4253711700439453,
            -0.49747252464294434
           ]
          },
          {
           "line": {
            "color": "black",
            "width": 2
           },
           "mode": "lines",
           "showlegend": false,
           "type": "scatter3d",
           "x": [
            0.014395713806152344,
            -0.0019000000320374966
           ],
           "y": [
            0.4805647134780884,
            0.9692999720573425
           ],
           "z": [
            0.3532237708568573,
            0.2282000035047531
           ]
          },
          {
           "line": {
            "color": "black",
            "width": 2
           },
           "mode": "lines",
           "showlegend": false,
           "type": "scatter3d",
           "x": [
            -0.0019000000320374966,
            -0.0020000000949949026
           ],
           "y": [
            0.9692999720573425,
            0.996999979019165
           ],
           "z": [
            0.2282000035047531,
            -0.012400000356137753
           ]
          },
          {
           "line": {
            "color": "black",
            "width": 2
           },
           "mode": "lines",
           "showlegend": false,
           "type": "scatter3d",
           "x": [
            -0.0020000000949949026,
            -0.04529999941587448
           ],
           "y": [
            0.996999979019165,
            0.9214000105857849
           ],
           "z": [
            -0.012400000356137753,
            -0.20730000734329224
           ]
          },
          {
           "line": {
            "color": "black",
            "width": 2
           },
           "mode": "lines",
           "showlegend": false,
           "type": "scatter3d",
           "x": [
            -0.04529999941587448,
            -0.11640000343322754
           ],
           "y": [
            0.9214000105857849,
            0.7821999788284302
           ],
           "z": [
            -0.20730000734329224,
            -0.3912999927997589
           ]
          }
         ],
         "name": "63"
        },
        {
         "data": [
          {
           "marker": {
            "color": "blue",
            "size": 4
           },
           "mode": "markers+text",
           "name": "Landmarks",
           "text": [
            "0",
            "1",
            "2",
            "3",
            "4",
            "5",
            "6",
            "7",
            "8",
            "9",
            "10",
            "11",
            "12",
            "13",
            "14",
            "15",
            "16",
            "17",
            "18",
            "19"
           ],
           "textfont": {
            "color": "black",
            "size": 8
           },
           "textposition": "top center",
           "type": "scatter3d",
           "x": {
            "bdata": "AAAAAECiSTxB/xg+2GfDPWwJ+bpvM7o87/qWPuyvAj9vEgO7pjpGPsZhAD9U3C4/fow5vebkMT4oEQA/KkUxPyBj7r1W16A9lkilPgV2CD8=",
            "dtype": "f4"
           },
           "y": {
            "bdata": "AAAAAPQw9z6qZkk/VEp0PwskeD8WJrU/GVq2P2FHtT9kO38/UmXCP3aauT/mhKs/3+BrP8Lxtj8Purk/JKGsP0I+SD+yeJc/Fs6oP/8Xqz8=",
            "dtype": "f4"
           },
           "z": {
            "bdata": "AAAAAMaDtz4G9Ds+kNCjvEOtaT4wNnc+TCRGPnagHj5fKUu8L3A9vYQ6Dr7rUEm+dEZUvoacZL4gaZC+zO+kvnlYyL4Pvry+igTavjn7/r4=",
            "dtype": "f4"
           }
          },
          {
           "line": {
            "color": "black",
            "width": 2
           },
           "mode": "lines",
           "showlegend": false,
           "type": "scatter3d",
           "x": [
            0,
            0.012306749820709229
           ],
           "y": [
            0,
            0.4827953577041626
           ],
           "z": [
            0,
            0.3584272265434265
           ]
          },
          {
           "line": {
            "color": "black",
            "width": 2
           },
           "mode": "lines",
           "showlegend": false,
           "type": "scatter3d",
           "x": [
            0.012306749820709229,
            0.14941121637821198
           ],
           "y": [
            0.4827953577041626,
            0.7867227792739868
           ],
           "z": [
            0.3584272265434265,
            0.18354806303977966
           ]
          },
          {
           "line": {
            "color": "black",
            "width": 2
           },
           "mode": "lines",
           "showlegend": false,
           "type": "scatter3d",
           "x": [
            0.14941121637821198,
            0.09541290998458862
           ],
           "y": [
            0.7867227792739868,
            0.9542591571807861
           ],
           "z": [
            0.18354806303977966,
            -0.01999691128730774
           ]
          },
          {
           "line": {
            "color": "black",
            "width": 2
           },
           "mode": "lines",
           "showlegend": false,
           "type": "scatter3d",
           "x": [
            0,
            -0.0019000000320374966
           ],
           "y": [
            0,
            0.9692999720573425
           ],
           "z": [
            0,
            0.2282000035047531
           ]
          },
          {
           "line": {
            "color": "black",
            "width": 2
           },
           "mode": "lines",
           "showlegend": false,
           "type": "scatter3d",
           "x": [
            -0.0019000000320374966,
            0.022729603573679924
           ],
           "y": [
            0.9692999720573425,
            1.4152247905731201
           ],
           "z": [
            0.2282000035047531,
            0.24141764640808105
           ]
          },
          {
           "line": {
            "color": "black",
            "width": 2
           },
           "mode": "lines",
           "showlegend": false,
           "type": "scatter3d",
           "x": [
            0.022729603573679924,
            0.29488322138786316
           ],
           "y": [
            1.4152247905731201,
            1.4246245622634888
           ],
           "z": [
            0.24141764640808105,
            0.19349783658981323
           ]
          },
          {
           "line": {
            "color": "black",
            "width": 2
           },
           "mode": "lines",
           "showlegend": false,
           "type": "scatter3d",
           "x": [
            0.29488322138786316,
            0.5104968547821045
           ],
           "y": [
            1.4246245622634888,
            1.4162408113479614
           ],
           "z": [
            0.19349783658981323,
            0.15490898489952087
           ]
          },
          {
           "line": {
            "color": "black",
            "width": 2
           },
           "mode": "lines",
           "showlegend": false,
           "type": "scatter3d",
           "x": [
            0,
            -0.0020000000949949026
           ],
           "y": [
            0,
            0.996999979019165
           ],
           "z": [
            0,
            -0.012400000356137753
           ]
          },
          {
           "line": {
            "color": "black",
            "width": 2
           },
           "mode": "lines",
           "showlegend": false,
           "type": "scatter3d",
           "x": [
            -0.0020000000949949026,
            0.19358310103416443
           ],
           "y": [
            0.996999979019165,
            1.5187170505523682
           ],
           "z": [
            -0.012400000356137753,
            -0.04624956473708153
           ]
          },
          {
           "line": {
            "color": "black",
            "width": 2
           },
           "mode": "lines",
           "showlegend": false,
           "type": "scatter3d",
           "x": [
            0.19358310103416443,
            0.501491904258728
           ],
           "y": [
            1.5187170505523682,
            1.450026273727417
           ],
           "z": [
            -0.04624956473708153,
            -0.13889509439468384
           ]
          },
          {
           "line": {
            "color": "black",
            "width": 2
           },
           "mode": "lines",
           "showlegend": false,
           "type": "scatter3d",
           "x": [
            0.501491904258728,
            0.6830494403839111
           ],
           "y": [
            1.450026273727417,
            1.3399932384490967
           ],
           "z": [
            -0.13889509439468384,
            -0.19659774005413055
           ]
          },
          {
           "line": {
            "color": "black",
            "width": 2
           },
           "mode": "lines",
           "showlegend": false,
           "type": "scatter3d",
           "x": [
            0,
            -0.04529999941587448
           ],
           "y": [
            0,
            0.9214000105857849
           ],
           "z": [
            0,
            -0.20730000734329224
           ]
          },
          {
           "line": {
            "color": "black",
            "width": 2
           },
           "mode": "lines",
           "showlegend": false,
           "type": "scatter3d",
           "x": [
            -0.04529999941587448,
            0.17372474074363708
           ],
           "y": [
            0.9214000105857849,
            1.4292528629302979
           ],
           "z": [
            -0.20730000734329224,
            -0.22325333952903748
           ]
          },
          {
           "line": {
            "color": "black",
            "width": 2
           },
           "mode": "lines",
           "showlegend": false,
           "type": "scatter3d",
           "x": [
            0.17372474074363708,
            0.5002617835998535
           ],
           "y": [
            1.4292528629302979,
            1.4509905576705933
           ],
           "z": [
            -0.22325333952903748,
            -0.28205204010009766
           ]
          },
          {
           "line": {
            "color": "black",
            "width": 2
           },
           "mode": "lines",
           "showlegend": false,
           "type": "scatter3d",
           "x": [
            0.5002617835998535,
            0.6924616098403931
           ],
           "y": [
            1.4509905576705933,
            1.3486676216125488
           ],
           "z": [
            -0.28205204010009766,
            -0.32214200496673584
           ]
          },
          {
           "line": {
            "color": "black",
            "width": 2
           },
           "mode": "lines",
           "showlegend": false,
           "type": "scatter3d",
           "x": [
            0,
            -0.11640000343322754
           ],
           "y": [
            0,
            0.7821999788284302
           ],
           "z": [
            0,
            -0.3912999927997589
           ]
          },
          {
           "line": {
            "color": "black",
            "width": 2
           },
           "mode": "lines",
           "showlegend": false,
           "type": "scatter3d",
           "x": [
            -0.11640000343322754,
            0.07853572070598602
           ],
           "y": [
            0.7821999788284302,
            1.18337082862854
           ],
           "z": [
            -0.3912999927997589,
            -0.3686375319957733
           ]
          },
          {
           "line": {
            "color": "black",
            "width": 2
           },
           "mode": "lines",
           "showlegend": false,
           "type": "scatter3d",
           "x": [
            0.07853572070598602,
            0.32281941175460815
           ],
           "y": [
            1.18337082862854,
            1.3187892436981201
           ],
           "z": [
            -0.3686375319957733,
            -0.4258158802986145
           ]
          },
          {
           "line": {
            "color": "black",
            "width": 2
           },
           "mode": "lines",
           "showlegend": false,
           "type": "scatter3d",
           "x": [
            0.32281941175460815,
            0.5330508351325989
           ],
           "y": [
            1.3187892436981201,
            1.3366698026657104
           ],
           "z": [
            -0.4258158802986145,
            -0.49801042675971985
           ]
          },
          {
           "line": {
            "color": "black",
            "width": 2
           },
           "mode": "lines",
           "showlegend": false,
           "type": "scatter3d",
           "x": [
            0.012306749820709229,
            -0.0019000000320374966
           ],
           "y": [
            0.4827953577041626,
            0.9692999720573425
           ],
           "z": [
            0.3584272265434265,
            0.2282000035047531
           ]
          },
          {
           "line": {
            "color": "black",
            "width": 2
           },
           "mode": "lines",
           "showlegend": false,
           "type": "scatter3d",
           "x": [
            -0.0019000000320374966,
            -0.0020000000949949026
           ],
           "y": [
            0.9692999720573425,
            0.996999979019165
           ],
           "z": [
            0.2282000035047531,
            -0.012400000356137753
           ]
          },
          {
           "line": {
            "color": "black",
            "width": 2
           },
           "mode": "lines",
           "showlegend": false,
           "type": "scatter3d",
           "x": [
            -0.0020000000949949026,
            -0.04529999941587448
           ],
           "y": [
            0.996999979019165,
            0.9214000105857849
           ],
           "z": [
            -0.012400000356137753,
            -0.20730000734329224
           ]
          },
          {
           "line": {
            "color": "black",
            "width": 2
           },
           "mode": "lines",
           "showlegend": false,
           "type": "scatter3d",
           "x": [
            -0.04529999941587448,
            -0.11640000343322754
           ],
           "y": [
            0.9214000105857849,
            0.7821999788284302
           ],
           "z": [
            -0.20730000734329224,
            -0.3912999927997589
           ]
          }
         ],
         "name": "64"
        },
        {
         "data": [
          {
           "marker": {
            "color": "blue",
            "size": 4
           },
           "mode": "markers+text",
           "name": "Landmarks",
           "text": [
            "0",
            "1",
            "2",
            "3",
            "4",
            "5",
            "6",
            "7",
            "8",
            "9",
            "10",
            "11",
            "12",
            "13",
            "14",
            "15",
            "16",
            "17",
            "18",
            "19"
           ],
           "textfont": {
            "color": "black",
            "size": 8
           },
           "textposition": "top center",
           "type": "scatter3d",
           "x": {
            "bdata": "AAAAAICXLzwRGRI+gmiuPWwJ+bqy70Y7zdSMPjFD+z5vEgO785I4Pqpc+j7k9Ss/fow5vaRyMT4H4f8+8CIxPyBj7r2er6A9AjulPhpvCD8=",
            "dtype": "f4"
           },
           "y": {
            "bdata": "AAAAANYy+D4yKEo/7pV0PwskeD+yNrU/Osu2PwoRtj9kO38/+wzDP+njuj/kHa0/3+BrP3z4tj8f2bk/KcGsP0I+SD/GeZc/N9GoPxUdqz8=",
            "dtype": "f4"
           },
           "z": {
            "bdata": "AAAAAGqftz6c4jk+uIi4vEOtaT7LjHs+aWtKPmXQIj5fKUu8rwYovTenCb67n0W+dEZUvi8IZL6lJ5C+O8ekvnlYyL43tby+0vfZvkrt/r4=",
            "dtype": "f4"
           }
          },
          {
           "line": {
            "color": "black",
            "width": 2
           },
           "mode": "lines",
           "showlegend": false,
           "type": "scatter3d",
           "x": [
            0,
            0.010717272758483887
           ],
           "y": [
            0,
            0.48476284742355347
           ],
           "z": [
            0,
            0.35863810777664185
           ]
          },
          {
           "line": {
            "color": "black",
            "width": 2
           },
           "mode": "lines",
           "showlegend": false,
           "type": "scatter3d",
           "x": [
            0.010717272758483887,
            0.14267374575138092
           ],
           "y": [
            0.48476284742355347,
            0.7896758317947388
           ],
           "z": [
            0.35863810777664185,
            0.1815285086631775
           ]
          },
          {
           "line": {
            "color": "black",
            "width": 2
           },
           "mode": "lines",
           "showlegend": false,
           "type": "scatter3d",
           "x": [
            0.14267374575138092,
            0.0851602703332901
           ],
           "y": [
            0.7896758317947388,
            0.955412745475769
           ],
           "z": [
            0.1815285086631775,
            -0.022526130080223083
           ]
          },
          {
           "line": {
            "color": "black",
            "width": 2
           },
           "mode": "lines",
           "showlegend": false,
           "type": "scatter3d",
           "x": [
            0,
            -0.0019000000320374966
           ],
           "y": [
            0,
            0.9692999720573425
           ],
           "z": [
            0,
            0.2282000035047531
           ]
          },
          {
           "line": {
            "color": "black",
            "width": 2
           },
           "mode": "lines",
           "showlegend": false,
           "type": "scatter3d",
           "x": [
            -0.0019000000320374966,
            0.0030355271883308887
           ],
           "y": [
            0.9692999720573425,
            1.41573166847229
           ],
           "z": [
            0.2282000035047531,
            0.24565427005290985
           ]
          },
          {
           "line": {
            "color": "black",
            "width": 2
           },
           "mode": "lines",
           "showlegend": false,
           "type": "scatter3d",
           "x": [
            0.0030355271883308887,
            0.2750610411167145
           ],
           "y": [
            1.41573166847229,
            1.428076982498169
           ],
           "z": [
            0.24565427005290985,
            0.19767536222934723
           ]
          },
          {
           "line": {
            "color": "black",
            "width": 2
           },
           "mode": "lines",
           "showlegend": false,
           "type": "scatter3d",
           "x": [
            0.2750610411167145,
            0.49074700474739075
           ],
           "y": [
            1.428076982498169,
            1.4223949909210205
           ],
           "z": [
            0.19767536222934723,
            0.15899808704853058
           ]
          },
          {
           "line": {
            "color": "black",
            "width": 2
           },
           "mode": "lines",
           "showlegend": false,
           "type": "scatter3d",
           "x": [
            0,
            -0.0020000000949949026
           ],
           "y": [
            0,
            0.996999979019165
           ],
           "z": [
            0,
            -0.012400000356137753
           ]
          },
          {
           "line": {
            "color": "black",
            "width": 2
           },
           "mode": "lines",
           "showlegend": false,
           "type": "scatter3d",
           "x": [
            -0.0020000000949949026,
            0.18024806678295135
           ],
           "y": [
            0.996999979019165,
            1.5238336324691772
           ],
           "z": [
            -0.012400000356137753,
            -0.04102199897170067
           ]
          },
          {
           "line": {
            "color": "black",
            "width": 2
           },
           "mode": "lines",
           "showlegend": false,
           "type": "scatter3d",
           "x": [
            0.18024806678295135,
            0.4889882206916809
           ],
           "y": [
            1.5238336324691772,
            1.4600802659988403
           ],
           "z": [
            -0.04102199897170067,
            -0.13442693650722504
           ]
          },
          {
           "line": {
            "color": "black",
            "width": 2
           },
           "mode": "lines",
           "showlegend": false,
           "type": "scatter3d",
           "x": [
            0.4889882206916809,
            0.6717207431793213
           ],
           "y": [
            1.4600802659988403,
            1.3524746894836426
           ],
           "z": [
            -0.13442693650722504,
            -0.19299213588237762
           ]
          },
          {
           "line": {
            "color": "black",
            "width": 2
           },
           "mode": "lines",
           "showlegend": false,
           "type": "scatter3d",
           "x": [
            0,
            -0.04529999941587448
           ],
           "y": [
            0,
            0.9214000105857849
           ],
           "z": [
            0,
            -0.20730000734329224
           ]
          },
          {
           "line": {
            "color": "black",
            "width": 2
           },
           "mode": "lines",
           "showlegend": false,
           "type": "scatter3d",
           "x": [
            -0.04529999941587448,
            0.17328888177871704
           ],
           "y": [
            0.9214000105857849,
            1.4294581413269043
           ],
           "z": [
            -0.20730000734329224,
            -0.2226874679327011
           ]
          },
          {
           "line": {
            "color": "black",
            "width": 2
           },
           "mode": "lines",
           "showlegend": false,
           "type": "scatter3d",
           "x": [
            0.17328888177871704,
            0.49976369738578796
           ],
           "y": [
            1.4294581413269043,
            1.451938509941101
           ],
           "z": [
            -0.2226874679327011,
            -0.2815524637699127
           ]
          },
          {
           "line": {
            "color": "black",
            "width": 2
           },
           "mode": "lines",
           "showlegend": false,
           "type": "scatter3d",
           "x": [
            0.49976369738578796,
            0.6919393539428711
           ],
           "y": [
            1.451938509941101,
            1.3496447801589966
           ],
           "z": [
            -0.2815524637699127,
            -0.3218325078487396
           ]
          },
          {
           "line": {
            "color": "black",
            "width": 2
           },
           "mode": "lines",
           "showlegend": false,
           "type": "scatter3d",
           "x": [
            0,
            -0.11640000343322754
           ],
           "y": [
            0,
            0.7821999788284302
           ],
           "z": [
            0,
            -0.3912999927997589
           ]
          },
          {
           "line": {
            "color": "black",
            "width": 2
           },
           "mode": "lines",
           "showlegend": false,
           "type": "scatter3d",
           "x": [
            -0.11640000343322754,
            0.0784599632024765
           ],
           "y": [
            0.7821999788284302,
            1.183403730392456
           ],
           "z": [
            -0.3912999927997589,
            -0.3685700595378876
           ]
          },
          {
           "line": {
            "color": "black",
            "width": 2
           },
           "mode": "lines",
           "showlegend": false,
           "type": "scatter3d",
           "x": [
            0.0784599632024765,
            0.3227158188819885
           ],
           "y": [
            1.183403730392456,
            1.3188847303390503
           ],
           "z": [
            -0.3685700595378876,
            -0.42571884393692017
           ]
          },
          {
           "line": {
            "color": "black",
            "width": 2
           },
           "mode": "lines",
           "showlegend": false,
           "type": "scatter3d",
           "x": [
            0.3227158188819885,
            0.5329452753067017
           ],
           "y": [
            1.3188847303390503,
            1.3368250131607056
           ],
           "z": [
            -0.42571884393692017,
            -0.49790412187576294
           ]
          },
          {
           "line": {
            "color": "black",
            "width": 2
           },
           "mode": "lines",
           "showlegend": false,
           "type": "scatter3d",
           "x": [
            0.010717272758483887,
            -0.0019000000320374966
           ],
           "y": [
            0.48476284742355347,
            0.9692999720573425
           ],
           "z": [
            0.35863810777664185,
            0.2282000035047531
           ]
          },
          {
           "line": {
            "color": "black",
            "width": 2
           },
           "mode": "lines",
           "showlegend": false,
           "type": "scatter3d",
           "x": [
            -0.0019000000320374966,
            -0.0020000000949949026
           ],
           "y": [
            0.9692999720573425,
            0.996999979019165
           ],
           "z": [
            0.2282000035047531,
            -0.012400000356137753
           ]
          },
          {
           "line": {
            "color": "black",
            "width": 2
           },
           "mode": "lines",
           "showlegend": false,
           "type": "scatter3d",
           "x": [
            -0.0020000000949949026,
            -0.04529999941587448
           ],
           "y": [
            0.996999979019165,
            0.9214000105857849
           ],
           "z": [
            -0.012400000356137753,
            -0.20730000734329224
           ]
          },
          {
           "line": {
            "color": "black",
            "width": 2
           },
           "mode": "lines",
           "showlegend": false,
           "type": "scatter3d",
           "x": [
            -0.04529999941587448,
            -0.11640000343322754
           ],
           "y": [
            0.9214000105857849,
            0.7821999788284302
           ],
           "z": [
            -0.20730000734329224,
            -0.3912999927997589
           ]
          }
         ],
         "name": "65"
        },
        {
         "data": [
          {
           "marker": {
            "color": "blue",
            "size": 4
           },
           "mode": "markers+text",
           "name": "Landmarks",
           "text": [
            "0",
            "1",
            "2",
            "3",
            "4",
            "5",
            "6",
            "7",
            "8",
            "9",
            "10",
            "11",
            "12",
            "13",
            "14",
            "15",
            "16",
            "17",
            "18",
            "19"
           ],
           "textfont": {
            "color": "black",
            "size": 8
           },
           "textposition": "top center",
           "type": "scatter3d",
           "x": {
            "bdata": "AAAAAOA8fjzuQxw+Fna5PWwJ+bprNDU94ISiPpCwCD9vEgO7P5caPkww7D7mgyU/fow5vZ/hzD0f4M4+PN0XPyBj7r3Kf589P9KkPuI7CD8=",
            "dtype": "f4"
           },
           "y": {
            "bdata": "AAAAAFFy9T4+NEc/aF1wPwskeD+077Q/xfq1P6HmtD9kO38/ykvEP/iHvT/Lc7A/3+BrPxRzuT97kMk/t7e9P0I+SD8zg5c/T+moP+9Bqz8=",
            "dtype": "f4"
           },
           "z": {
            "bdata": "AAAAAOWKsj76FSk+7C8qvUOtaT6pAl4+xBIzPocwET5fKUu8qq/wvKqH/r3PGT2+dEZUvlkp/71wfjC+RnV2vnlYyL6kxLy+/vbZvt7Y/r4=",
            "dtype": "f4"
           }
          },
          {
           "line": {
            "color": "black",
            "width": 2
           },
           "mode": "lines",
           "showlegend": false,
           "type": "scatter3d",
           "x": [
            0,
            0.015517443418502808
           ],
           "y": [
            0,
            0.4793877899646759
           ],
           "z": [
            0,
            0.3487159311771393
           ]
          },
          {
           "line": {
            "color": "black",
            "width": 2
           },
           "mode": "lines",
           "showlegend": false,
           "type": "scatter3d",
           "x": [
            0.015517443418502808,
            0.152602881193161
           ],
           "y": [
            0.4793877899646759,
            0.7781409025192261
           ],
           "z": [
            0.3487159311771393,
            0.1651228964328766
           ]
          },
          {
           "line": {
            "color": "black",
            "width": 2
           },
           "mode": "lines",
           "showlegend": false,
           "type": "scatter3d",
           "x": [
            0.152602881193161,
            0.09055726230144501
           ],
           "y": [
            0.7781409025192261,
            0.9389252662658691
           ],
           "z": [
            0.1651228964328766,
            -0.04154960811138153
           ]
          },
          {
           "line": {
            "color": "black",
            "width": 2
           },
           "mode": "lines",
           "showlegend": false,
           "type": "scatter3d",
           "x": [
            0,
            -0.0019000000320374966
           ],
           "y": [
            0,
            0.9692999720573425
           ],
           "z": [
            0,
            0.2282000035047531
           ]
          },
          {
           "line": {
            "color": "black",
            "width": 2
           },
           "mode": "lines",
           "showlegend": false,
           "type": "scatter3d",
           "x": [
            -0.0019000000320374966,
            0.04423944279551506
           ],
           "y": [
            0.9692999720573425,
            1.4135651588439941
           ],
           "z": [
            0.2282000035047531,
            0.216807022690773
           ]
          },
          {
           "line": {
            "color": "black",
            "width": 2
           },
           "mode": "lines",
           "showlegend": false,
           "type": "scatter3d",
           "x": [
            0.04423944279551506,
            0.31742000579833984
           ],
           "y": [
            1.4135651588439941,
            1.4217153787612915
           ],
           "z": [
            0.216807022690773,
            0.17487627267837524
           ]
          },
          {
           "line": {
            "color": "black",
            "width": 2
           },
           "mode": "lines",
           "showlegend": false,
           "type": "scatter3d",
           "x": [
            0.31742000579833984,
            0.5339441299438477
           ],
           "y": [
            1.4217153787612915,
            1.4132882356643677
           ],
           "z": [
            0.17487627267837524,
            0.14178667962551117
           ]
          },
          {
           "line": {
            "color": "black",
            "width": 2
           },
           "mode": "lines",
           "showlegend": false,
           "type": "scatter3d",
           "x": [
            0,
            -0.0020000000949949026
           ],
           "y": [
            0,
            0.996999979019165
           ],
           "z": [
            0,
            -0.012400000356137753
           ]
          },
          {
           "line": {
            "color": "black",
            "width": 2
           },
           "mode": "lines",
           "showlegend": false,
           "type": "scatter3d",
           "x": [
            -0.0020000000949949026,
            0.1509675830602646
           ],
           "y": [
            0.996999979019165,
            1.5335628986358643
           ],
           "z": [
            -0.012400000356137753,
            -0.029380638152360916
           ]
          },
          {
           "line": {
            "color": "black",
            "width": 2
           },
           "mode": "lines",
           "showlegend": false,
           "type": "scatter3d",
           "x": [
            0.1509675830602646,
            0.46130597591400146
           ],
           "y": [
            1.5335628986358643,
            1.4807119369506836
           ],
           "z": [
            -0.029380638152360916,
            -0.12428219616413116
           ]
          },
          {
           "line": {
            "color": "black",
            "width": 2
           },
           "mode": "lines",
           "showlegend": false,
           "type": "scatter3d",
           "x": [
            0.46130597591400146,
            0.6465438604354858
           ],
           "y": [
            1.4807119369506836,
            1.3785337209701538
           ],
           "z": [
            -0.12428219616413116,
            -0.18466876447200775
           ]
          },
          {
           "line": {
            "color": "black",
            "width": 2
           },
           "mode": "lines",
           "showlegend": false,
           "type": "scatter3d",
           "x": [
            0,
            -0.04529999941587448
           ],
           "y": [
            0,
            0.9214000105857849
           ],
           "z": [
            0,
            -0.20730000734329224
           ]
          },
          {
           "line": {
            "color": "black",
            "width": 2
           },
           "mode": "lines",
           "showlegend": false,
           "type": "scatter3d",
           "x": [
            -0.04529999941587448,
            0.10003971308469772
           ],
           "y": [
            0.9214000105857849,
            1.448824405670166
           ],
           "z": [
            -0.20730000734329224,
            -0.12459058314561844
           ]
          },
          {
           "line": {
            "color": "black",
            "width": 2
           },
           "mode": "lines",
           "showlegend": false,
           "type": "scatter3d",
           "x": [
            0.10003971308469772,
            0.404053658246994
           ],
           "y": [
            1.448824405670166,
            1.5747216939926147
           ],
           "z": [
            -0.12459058314561844,
            -0.17235732078552246
           ]
          },
          {
           "line": {
            "color": "black",
            "width": 2
           },
           "mode": "lines",
           "showlegend": false,
           "type": "scatter3d",
           "x": [
            0.404053658246994,
            0.593219518661499
           ],
           "y": [
            1.5747216939926147,
            1.4821690320968628
           ],
           "z": [
            -0.17235732078552246,
            -0.2406817376613617
           ]
          },
          {
           "line": {
            "color": "black",
            "width": 2
           },
           "mode": "lines",
           "showlegend": false,
           "type": "scatter3d",
           "x": [
            0,
            -0.11640000343322754
           ],
           "y": [
            0,
            0.7821999788284302
           ],
           "z": [
            0,
            -0.3912999927997589
           ]
          },
          {
           "line": {
            "color": "black",
            "width": 2
           },
           "mode": "lines",
           "showlegend": false,
           "type": "scatter3d",
           "x": [
            -0.11640000343322754,
            0.07788045704364777
           ],
           "y": [
            0.7821999788284302,
            1.183691382408142
           ],
           "z": [
            -0.3912999927997589,
            -0.3686877489089966
           ]
          },
          {
           "line": {
            "color": "black",
            "width": 2
           },
           "mode": "lines",
           "showlegend": false,
           "type": "scatter3d",
           "x": [
            0.07788045704364777,
            0.3219165503978729
           ],
           "y": [
            1.183691382408142,
            1.3196200132369995
           ],
           "z": [
            -0.3686877489089966,
            -0.425712525844574
           ]
          },
          {
           "line": {
            "color": "black",
            "width": 2
           },
           "mode": "lines",
           "showlegend": false,
           "type": "scatter3d",
           "x": [
            0.3219165503978729,
            0.5321637392044067
           ],
           "y": [
            1.3196200132369995,
            1.3379496335983276
           ],
           "z": [
            -0.425712525844574,
            -0.49774831533432007
           ]
          },
          {
           "line": {
            "color": "black",
            "width": 2
           },
           "mode": "lines",
           "showlegend": false,
           "type": "scatter3d",
           "x": [
            0.015517443418502808,
            -0.0019000000320374966
           ],
           "y": [
            0.4793877899646759,
            0.9692999720573425
           ],
           "z": [
            0.3487159311771393,
            0.2282000035047531
           ]
          },
          {
           "line": {
            "color": "black",
            "width": 2
           },
           "mode": "lines",
           "showlegend": false,
           "type": "scatter3d",
           "x": [
            -0.0019000000320374966,
            -0.0020000000949949026
           ],
           "y": [
            0.9692999720573425,
            0.996999979019165
           ],
           "z": [
            0.2282000035047531,
            -0.012400000356137753
           ]
          },
          {
           "line": {
            "color": "black",
            "width": 2
           },
           "mode": "lines",
           "showlegend": false,
           "type": "scatter3d",
           "x": [
            -0.0020000000949949026,
            -0.04529999941587448
           ],
           "y": [
            0.996999979019165,
            0.9214000105857849
           ],
           "z": [
            -0.012400000356137753,
            -0.20730000734329224
           ]
          },
          {
           "line": {
            "color": "black",
            "width": 2
           },
           "mode": "lines",
           "showlegend": false,
           "type": "scatter3d",
           "x": [
            -0.04529999941587448,
            -0.11640000343322754
           ],
           "y": [
            0.9214000105857849,
            0.7821999788284302
           ],
           "z": [
            -0.20730000734329224,
            -0.3912999927997589
           ]
          }
         ],
         "name": "66"
        },
        {
         "data": [
          {
           "marker": {
            "color": "blue",
            "size": 4
           },
           "mode": "markers+text",
           "name": "Landmarks",
           "text": [
            "0",
            "1",
            "2",
            "3",
            "4",
            "5",
            "6",
            "7",
            "8",
            "9",
            "10",
            "11",
            "12",
            "13",
            "14",
            "15",
            "16",
            "17",
            "18",
            "19"
           ],
           "textfont": {
            "color": "black",
            "size": 8
           },
           "textposition": "top center",
           "type": "scatter3d",
           "x": {
            "bdata": "AAAAADDpijwlfSE+yqXEPWwJ+br1zYQ9bYetPlJSDj9vEgO7o1kaPjwU7D7qdiU/fow5vcO06T2Ehdk+VgEaPyBj7r3s4p49pZukPqYfCD8=",
            "dtype": "f4"
           },
           "y": {
            "bdata": "AAAAAGuK9D4jTkY/V2FvPwskeD/eeLQ/Rte0P0kysz9kO38/9k3EPw2LvT/vdrA/3+BrP+ZiuT9m5sY/icO3P0I+SD86h5c/MvaoP0VXqz8=",
            "dtype": "f4"
           },
           "z": {
            "bdata": "AAAAAOlJsT5uhSY+LPQ1vUOtaT6QFkk+dc8jPgcaBz5fKUu8tuPwvNZ4/r1lBj2+dEZUvuSEG77KPFK+C62IvnlYyL5Hkry+37HZvoyQ/r4=",
            "dtype": "f4"
           }
          },
          {
           "line": {
            "color": "black",
            "width": 2
           },
           "mode": "lines",
           "showlegend": false,
           "type": "scatter3d",
           "x": [
            0,
            0.01695689558982849
           ],
           "y": [
            0,
            0.477618545293808
           ],
           "z": [
            0,
            0.3462670147418976
           ]
          },
          {
           "line": {
            "color": "black",
            "width": 2
           },
           "mode": "lines",
           "showlegend": false,
           "type": "scatter3d",
           "x": [
            0.01695689558982849,
            0.1577039510011673
           ],
           "y": [
            0.477618545293808,
            0.7746297717094421
           ],
           "z": [
            0.3462670147418976,
            0.16261836886405945
           ]
          },
          {
           "line": {
            "color": "black",
            "width": 2
           },
           "mode": "lines",
           "showlegend": false,
           "type": "scatter3d",
           "x": [
            0.1577039510011673,
            0.09601934254169464
           ],
           "y": [
            0.7746297717094421,
            0.935079038143158
           ],
           "z": [
            0.16261836886405945,
            -0.04442231357097626
           ]
          },
          {
           "line": {
            "color": "black",
            "width": 2
           },
           "mode": "lines",
           "showlegend": false,
           "type": "scatter3d",
           "x": [
            0,
            -0.0019000000320374966
           ],
           "y": [
            0,
            0.9692999720573425
           ],
           "z": [
            0,
            0.2282000035047531
           ]
          },
          {
           "line": {
            "color": "black",
            "width": 2
           },
           "mode": "lines",
           "showlegend": false,
           "type": "scatter3d",
           "x": [
            -0.0019000000320374966,
            0.06484595686197281
           ],
           "y": [
            0.9692999720573425,
            1.4099385738372803
           ],
           "z": [
            0.2282000035047531,
            0.19637513160705566
           ]
          },
          {
           "line": {
            "color": "black",
            "width": 2
           },
           "mode": "lines",
           "showlegend": false,
           "type": "scatter3d",
           "x": [
            0.06484595686197281,
            0.338923841714859
           ],
           "y": [
            1.4099385738372803,
            1.4128196239471436
           ],
           "z": [
            0.19637513160705566,
            0.15997107326984406
           ]
          },
          {
           "line": {
            "color": "black",
            "width": 2
           },
           "mode": "lines",
           "showlegend": false,
           "type": "scatter3d",
           "x": [
            0.338923841714859,
            0.5559436082839966
           ],
           "y": [
            1.4128196239471436,
            1.3999720811843872
           ],
           "z": [
            0.15997107326984406,
            0.1319352239370346
           ]
          },
          {
           "line": {
            "color": "black",
            "width": 2
           },
           "mode": "lines",
           "showlegend": false,
           "type": "scatter3d",
           "x": [
            0,
            -0.0020000000949949026
           ],
           "y": [
            0,
            0.996999979019165
           ],
           "z": [
            0,
            -0.012400000356137753
           ]
          },
          {
           "line": {
            "color": "black",
            "width": 2
           },
           "mode": "lines",
           "showlegend": false,
           "type": "scatter3d",
           "x": [
            -0.0020000000949949026,
            0.15073256194591522
           ],
           "y": [
            0.996999979019165,
            1.5336291790008545
           ],
           "z": [
            -0.012400000356137753,
            -0.02940545603632927
           ]
          },
          {
           "line": {
            "color": "black",
            "width": 2
           },
           "mode": "lines",
           "showlegend": false,
           "type": "scatter3d",
           "x": [
            0.15073256194591522,
            0.46109187602996826
           ],
           "y": [
            1.5336291790008545,
            1.4808059930801392
           ],
           "z": [
            -0.02940545603632927,
            -0.12425391376018524
           ]
          },
          {
           "line": {
            "color": "black",
            "width": 2
           },
           "mode": "lines",
           "showlegend": false,
           "type": "scatter3d",
           "x": [
            0.46109187602996826,
            0.6463457345962524
           ],
           "y": [
            1.4808059930801392,
            1.3786295652389526
           ],
           "z": [
            -0.12425391376018524,
            -0.18459470570087433
           ]
          },
          {
           "line": {
            "color": "black",
            "width": 2
           },
           "mode": "lines",
           "showlegend": false,
           "type": "scatter3d",
           "x": [
            0,
            -0.04529999941587448
           ],
           "y": [
            0,
            0.9214000105857849
           ],
           "z": [
            0,
            -0.20730000734329224
           ]
          },
          {
           "line": {
            "color": "black",
            "width": 2
           },
           "mode": "lines",
           "showlegend": false,
           "type": "scatter3d",
           "x": [
            -0.04529999941587448,
            0.11411430686712265
           ],
           "y": [
            0.9214000105857849,
            1.4483306407928467
           ],
           "z": [
            -0.20730000734329224,
            -0.1518741250038147
           ]
          },
          {
           "line": {
            "color": "black",
            "width": 2
           },
           "mode": "lines",
           "showlegend": false,
           "type": "scatter3d",
           "x": [
            0.11411430686712265,
            0.4248467683792114
           ],
           "y": [
            1.4483306407928467,
            1.5539062023162842
           ],
           "z": [
            -0.1518741250038147,
            -0.20531001687049866
           ]
          },
          {
           "line": {
            "color": "black",
            "width": 2
           },
           "mode": "lines",
           "showlegend": false,
           "type": "scatter3d",
           "x": [
            0.4248467683792114,
            0.6015828847885132
           ],
           "y": [
            1.5539062023162842,
            1.4356547594070435
           ],
           "z": [
            -0.20531001687049866,
            -0.2669452130794525
           ]
          },
          {
           "line": {
            "color": "black",
            "width": 2
           },
           "mode": "lines",
           "showlegend": false,
           "type": "scatter3d",
           "x": [
            0,
            -0.11640000343322754
           ],
           "y": [
            0,
            0.7821999788284302
           ],
           "z": [
            0,
            -0.3912999927997589
           ]
          },
          {
           "line": {
            "color": "black",
            "width": 2
           },
           "mode": "lines",
           "showlegend": false,
           "type": "scatter3d",
           "x": [
            -0.11640000343322754,
            0.0775812566280365
           ],
           "y": [
            0.7821999788284302,
            1.183814287185669
           ],
           "z": [
            -0.3912999927997589,
            -0.368303507566452
           ]
          },
          {
           "line": {
            "color": "black",
            "width": 2
           },
           "mode": "lines",
           "showlegend": false,
           "type": "scatter3d",
           "x": [
            0.0775812566280365,
            0.3214999735355377
           ],
           "y": [
            1.183814287185669,
            1.3200132846832275
           ],
           "z": [
            -0.368303507566452,
            -0.4251851737499237
           ]
          },
          {
           "line": {
            "color": "black",
            "width": 2
           },
           "mode": "lines",
           "showlegend": false,
           "type": "scatter3d",
           "x": [
            0.3214999735355377,
            0.5317329168319702
           ],
           "y": [
            1.3200132846832275,
            1.338600754737854
           ],
           "z": [
            -0.4251851737499237,
            -0.4971965551376343
           ]
          },
          {
           "line": {
            "color": "black",
            "width": 2
           },
           "mode": "lines",
           "showlegend": false,
           "type": "scatter3d",
           "x": [
            0.01695689558982849,
            -0.0019000000320374966
           ],
           "y": [
            0.477618545293808,
            0.9692999720573425
           ],
           "z": [
            0.3462670147418976,
            0.2282000035047531
           ]
          },
          {
           "line": {
            "color": "black",
            "width": 2
           },
           "mode": "lines",
           "showlegend": false,
           "type": "scatter3d",
           "x": [
            -0.0019000000320374966,
            -0.0020000000949949026
           ],
           "y": [
            0.9692999720573425,
            0.996999979019165
           ],
           "z": [
            0.2282000035047531,
            -0.012400000356137753
           ]
          },
          {
           "line": {
            "color": "black",
            "width": 2
           },
           "mode": "lines",
           "showlegend": false,
           "type": "scatter3d",
           "x": [
            -0.0020000000949949026,
            -0.04529999941587448
           ],
           "y": [
            0.996999979019165,
            0.9214000105857849
           ],
           "z": [
            -0.012400000356137753,
            -0.20730000734329224
           ]
          },
          {
           "line": {
            "color": "black",
            "width": 2
           },
           "mode": "lines",
           "showlegend": false,
           "type": "scatter3d",
           "x": [
            -0.04529999941587448,
            -0.11640000343322754
           ],
           "y": [
            0.9214000105857849,
            0.7821999788284302
           ],
           "z": [
            -0.20730000734329224,
            -0.3912999927997589
           ]
          }
         ],
         "name": "67"
        },
        {
         "data": [
          {
           "marker": {
            "color": "blue",
            "size": 4
           },
           "mode": "markers+text",
           "name": "Landmarks",
           "text": [
            "0",
            "1",
            "2",
            "3",
            "4",
            "5",
            "6",
            "7",
            "8",
            "9",
            "10",
            "11",
            "12",
            "13",
            "14",
            "15",
            "16",
            "17",
            "18",
            "19"
           ],
           "textfont": {
            "color": "black",
            "size": 8
           },
           "textposition": "top center",
           "type": "scatter3d",
           "x": {
            "bdata": "AAAAAABvcTwtbRg+yROsPWwJ+bpJqg49RrGdPjhIBj9vEgO7+y8aPqz/6z5mbiU/fow5vaUEwj1nmso+tRoUPyBj7r24lJ89zNikPug+CD8=",
            "dtype": "f4"
           },
           "y": {
            "bdata": "AAAAACv49T4ckEc/X09wPwskeD9wDbU/MjK2P24stT9kO38/pE/EP6mRvT+igLA/3+BrP0CTuT9ot8o/OXS9P0I+SD92gpc/CeioP2JAqz8=",
            "dtype": "f4"
           },
           "z": {
            "bdata": "AAAAAJRmsj4GMyc+JFozvUOtaT4FT18+j2o0PuqREj5fKUu8CE7vvO87/r0U/Dy+dEZUvvpa+b1w5iq+tEVyvnlYyL4xvby+/u7ZvpnS/r4=",
            "dtype": "f4"
           }
          },
          {
           "line": {
            "color": "black",
            "width": 2
           },
           "mode": "lines",
           "showlegend": false,
           "type": "scatter3d",
           "x": [
            0,
            0.014735937118530273
           ],
           "y": [
            0,
            0.48040899634361267
           ],
           "z": [
            0,
            0.3484388589859009
           ]
          },
          {
           "line": {
            "color": "black",
            "width": 2
           },
           "mode": "lines",
           "showlegend": false,
           "type": "scatter3d",
           "x": [
            0.014735937118530273,
            0.14885397255420685
           ],
           "y": [
            0.48040899634361267,
            0.7795426845550537
           ],
           "z": [
            0.3484388589859009,
            0.16328057646751404
           ]
          },
          {
           "line": {
            "color": "black",
            "width": 2
           },
           "mode": "lines",
           "showlegend": false,
           "type": "scatter3d",
           "x": [
            0.14885397255420685,
            0.08402211219072342
           ],
           "y": [
            0.7795426845550537,
            0.9387111067771912
           ],
           "z": [
            0.16328057646751404,
            -0.04378713667392731
           ]
          },
          {
           "line": {
            "color": "black",
            "width": 2
           },
           "mode": "lines",
           "showlegend": false,
           "type": "scatter3d",
           "x": [
            0,
            -0.0019000000320374966
           ],
           "y": [
            0,
            0.9692999720573425
           ],
           "z": [
            0,
            0.2282000035047531
           ]
          },
          {
           "line": {
            "color": "black",
            "width": 2
           },
           "mode": "lines",
           "showlegend": false,
           "type": "scatter3d",
           "x": [
            -0.0019000000320374966,
            0.03483036532998085
           ],
           "y": [
            0.9692999720573425,
            1.4144725799560547
           ],
           "z": [
            0.2282000035047531,
            0.21807487308979034
           ]
          },
          {
           "line": {
            "color": "black",
            "width": 2
           },
           "mode": "lines",
           "showlegend": false,
           "type": "scatter3d",
           "x": [
            0.03483036532998085,
            0.3079931139945984
           ],
           "y": [
            1.4144725799560547,
            1.4234068393707275
           ],
           "z": [
            0.21807487308979034,
            0.17618773877620697
           ]
          },
          {
           "line": {
            "color": "black",
            "width": 2
           },
           "mode": "lines",
           "showlegend": false,
           "type": "scatter3d",
           "x": [
            0.3079931139945984,
            0.5245394706726074
           ],
           "y": [
            1.4234068393707275,
            1.4154183864593506
           ],
           "z": [
            0.17618773877620697,
            0.14313474297523499
           ]
          },
          {
           "line": {
            "color": "black",
            "width": 2
           },
           "mode": "lines",
           "showlegend": false,
           "type": "scatter3d",
           "x": [
            0,
            -0.0020000000949949026
           ],
           "y": [
            0,
            0.996999979019165
           ],
           "z": [
            0,
            -0.012400000356137753
           ]
          },
          {
           "line": {
            "color": "black",
            "width": 2
           },
           "mode": "lines",
           "showlegend": false,
           "type": "scatter3d",
           "x": [
            -0.0020000000949949026,
            0.15057365596294403
           ],
           "y": [
            0.996999979019165,
            1.5336804389953613
           ],
           "z": [
            -0.012400000356137753,
            -0.029212012887001038
           ]
          },
          {
           "line": {
            "color": "black",
            "width": 2
           },
           "mode": "lines",
           "showlegend": false,
           "type": "scatter3d",
           "x": [
            0.15057365596294403,
            0.46093499660491943
           ],
           "y": [
            1.5336804389953613,
            1.481007695198059
           ],
           "z": [
            -0.029212012887001038,
            -0.1241377517580986
           ]
          },
          {
           "line": {
            "color": "black",
            "width": 2
           },
           "mode": "lines",
           "showlegend": false,
           "type": "scatter3d",
           "x": [
            0.46093499660491943,
            0.6462157964706421
           ],
           "y": [
            1.481007695198059,
            1.3789255619049072
           ],
           "z": [
            -0.1241377517580986,
            -0.18455535173416138
           ]
          },
          {
           "line": {
            "color": "black",
            "width": 2
           },
           "mode": "lines",
           "showlegend": false,
           "type": "scatter3d",
           "x": [
            0,
            -0.04529999941587448
           ],
           "y": [
            0,
            0.9214000105857849
           ],
           "z": [
            0,
            -0.20730000734329224
           ]
          },
          {
           "line": {
            "color": "black",
            "width": 2
           },
           "mode": "lines",
           "showlegend": false,
           "type": "scatter3d",
           "x": [
            -0.04529999941587448,
            0.09473542124032974
           ],
           "y": [
            0.9214000105857849,
            1.4498062133789062
           ],
           "z": [
            -0.20730000734329224,
            -0.12175555527210236
           ]
          },
          {
           "line": {
            "color": "black",
            "width": 2
           },
           "mode": "lines",
           "showlegend": false,
           "type": "scatter3d",
           "x": [
            0.09473542124032974,
            0.39570924639701843
           ],
           "y": [
            1.4498062133789062,
            1.5837221145629883
           ],
           "z": [
            -0.12175555527210236,
            -0.16689467430114746
           ]
          },
          {
           "line": {
            "color": "black",
            "width": 2
           },
           "mode": "lines",
           "showlegend": false,
           "type": "scatter3d",
           "x": [
            0.39570924639701843,
            0.5785325169563293
           ],
           "y": [
            1.5837221145629883,
            1.4801093339920044
           ],
           "z": [
            -0.16689467430114746,
            -0.23659402132034302
           ]
          },
          {
           "line": {
            "color": "black",
            "width": 2
           },
           "mode": "lines",
           "showlegend": false,
           "type": "scatter3d",
           "x": [
            0,
            -0.11640000343322754
           ],
           "y": [
            0,
            0.7821999788284302
           ],
           "z": [
            0,
            -0.3912999927997589
           ]
          },
          {
           "line": {
            "color": "black",
            "width": 2
           },
           "mode": "lines",
           "showlegend": false,
           "type": "scatter3d",
           "x": [
            -0.11640000343322754,
            0.07792037725448608
           ],
           "y": [
            0.7821999788284302,
            1.183668851852417
           ],
           "z": [
            -0.3912999927997589,
            -0.36863091588020325
           ]
          },
          {
           "line": {
            "color": "black",
            "width": 2
           },
           "mode": "lines",
           "showlegend": false,
           "type": "scatter3d",
           "x": [
            0.07792037725448608,
            0.3219665288925171
           ],
           "y": [
            1.183668851852417,
            1.319581151008606
           ],
           "z": [
            -0.36863091588020325,
            -0.425651490688324
           ]
          },
          {
           "line": {
            "color": "black",
            "width": 2
           },
           "mode": "lines",
           "showlegend": false,
           "type": "scatter3d",
           "x": [
            0.3219665288925171,
            0.5322098731994629
           ],
           "y": [
            1.319581151008606,
            1.337902307510376
           ],
           "z": [
            -0.425651490688324,
            -0.4977004826068878
           ]
          },
          {
           "line": {
            "color": "black",
            "width": 2
           },
           "mode": "lines",
           "showlegend": false,
           "type": "scatter3d",
           "x": [
            0.014735937118530273,
            -0.0019000000320374966
           ],
           "y": [
            0.48040899634361267,
            0.9692999720573425
           ],
           "z": [
            0.3484388589859009,
            0.2282000035047531
           ]
          },
          {
           "line": {
            "color": "black",
            "width": 2
           },
           "mode": "lines",
           "showlegend": false,
           "type": "scatter3d",
           "x": [
            -0.0019000000320374966,
            -0.0020000000949949026
           ],
           "y": [
            0.9692999720573425,
            0.996999979019165
           ],
           "z": [
            0.2282000035047531,
            -0.012400000356137753
           ]
          },
          {
           "line": {
            "color": "black",
            "width": 2
           },
           "mode": "lines",
           "showlegend": false,
           "type": "scatter3d",
           "x": [
            -0.0020000000949949026,
            -0.04529999941587448
           ],
           "y": [
            0.996999979019165,
            0.9214000105857849
           ],
           "z": [
            -0.012400000356137753,
            -0.20730000734329224
           ]
          },
          {
           "line": {
            "color": "black",
            "width": 2
           },
           "mode": "lines",
           "showlegend": false,
           "type": "scatter3d",
           "x": [
            -0.04529999941587448,
            -0.11640000343322754
           ],
           "y": [
            0.9214000105857849,
            0.7821999788284302
           ],
           "z": [
            -0.20730000734329224,
            -0.3912999927997589
           ]
          }
         ],
         "name": "68"
        },
        {
         "data": [
          {
           "marker": {
            "color": "blue",
            "size": 4
           },
           "mode": "markers+text",
           "name": "Landmarks",
           "text": [
            "0",
            "1",
            "2",
            "3",
            "4",
            "5",
            "6",
            "7",
            "8",
            "9",
            "10",
            "11",
            "12",
            "13",
            "14",
            "15",
            "16",
            "17",
            "18",
            "19"
           ],
           "textfont": {
            "color": "black",
            "size": 8
           },
           "textposition": "top center",
           "type": "scatter3d",
           "x": {
            "bdata": "AAAAAKC+DTwnmQc+X/qBPWwJ+borDfO84+Z2PiDc6T5vEgO70ocaPggt7D7GgSU/fow5veW5sj3W5b8+shMPPyBj7r2mr589XOOkPtlDCD8=",
            "dtype": "f4"
           },
           "y": {
            "bdata": "AAAAACR++T47D0s/DqlzPwskeD8KC7U/rba4PzHvuD9kO38/8kvEPxSCvT+babA/3+BrP5BIuT/iP84/VN7BP0I+SD9+gZc/QeWoPzU8qz8=",
            "dtype": "f4"
           },
           "z": {
            "bdata": "AAAAAN6vtz6qxTU+gMnqvEOtaT6d0YI+i3dUPr46LD5fKUu8psjzvLjd/r2qED2+dEZUvpJ8yr0YdQa+1j9UvnlYyL42sry+6eTZvu7L/r4=",
            "dtype": "f4"
           }
          },
          {
           "line": {
            "color": "black",
            "width": 2
           },
           "mode": "lines",
           "showlegend": false,
           "type": "scatter3d",
           "x": [
            0,
            0.008651405572891235
           ],
           "y": [
            0,
            0.48729050159454346
           ],
           "z": [
            0,
            0.3587636351585388
           ]
          },
          {
           "line": {
            "color": "black",
            "width": 2
           },
           "mode": "lines",
           "showlegend": false,
           "type": "scatter3d",
           "x": [
            0.008651405572891235,
            0.13242016732692719
           ],
           "y": [
            0.48729050159454346,
            0.7932011485099792
           ],
           "z": [
            0.3587636351585388,
            0.17751184105873108
           ]
          },
          {
           "line": {
            "color": "black",
            "width": 2
           },
           "mode": "lines",
           "showlegend": false,
           "type": "scatter3d",
           "x": [
            0.13242016732692719,
            0.06346582621335983
           ],
           "y": [
            0.7932011485099792,
            0.9517983198165894
           ],
           "z": [
            0.17751184105873108,
            -0.02866053581237793
           ]
          },
          {
           "line": {
            "color": "black",
            "width": 2
           },
           "mode": "lines",
           "showlegend": false,
           "type": "scatter3d",
           "x": [
            0,
            -0.0019000000320374966
           ],
           "y": [
            0,
            0.9692999720573425
           ],
           "z": [
            0,
            0.2282000035047531
           ]
          },
          {
           "line": {
            "color": "black",
            "width": 2
           },
           "mode": "lines",
           "showlegend": false,
           "type": "scatter3d",
           "x": [
            -0.0019000000320374966,
            -0.029669364914298058
           ],
           "y": [
            0.9692999720573425,
            1.4143993854522705
           ],
           "z": [
            0.2282000035047531,
            0.2555054724216461
           ]
          },
          {
           "line": {
            "color": "black",
            "width": 2
           },
           "mode": "lines",
           "showlegend": false,
           "type": "scatter3d",
           "x": [
            -0.029669364914298058,
            0.24111513793468475
           ],
           "y": [
            1.4143993854522705,
            1.4430748224258423
           ],
           "z": [
            0.2555054724216461,
            0.20748727023601532
           ]
          },
          {
           "line": {
            "color": "black",
            "width": 2
           },
           "mode": "lines",
           "showlegend": false,
           "type": "scatter3d",
           "x": [
            0.24111513793468475,
            0.4567575454711914
           ],
           "y": [
            1.4430748224258423,
            1.444799542427063
           ],
           "z": [
            0.20748727023601532,
            0.16819283366203308
           ]
          },
          {
           "line": {
            "color": "black",
            "width": 2
           },
           "mode": "lines",
           "showlegend": false,
           "type": "scatter3d",
           "x": [
            0,
            -0.0020000000949949026
           ],
           "y": [
            0,
            0.996999979019165
           ],
           "z": [
            0,
            -0.012400000356137753
           ]
          },
          {
           "line": {
            "color": "black",
            "width": 2
           },
           "mode": "lines",
           "showlegend": false,
           "type": "scatter3d",
           "x": [
            -0.0020000000949949026,
            0.15090873837471008
           ],
           "y": [
            0.996999979019165,
            1.5335676670074463
           ],
           "z": [
            -0.012400000356137753,
            -0.029758762568235397
           ]
          },
          {
           "line": {
            "color": "black",
            "width": 2
           },
           "mode": "lines",
           "showlegend": false,
           "type": "scatter3d",
           "x": [
            0.15090873837471008,
            0.46128106117248535
           ],
           "y": [
            1.5335676670074463,
            1.480532169342041
           ],
           "z": [
            -0.029758762568235397,
            -0.1244463324546814
           ]
          },
          {
           "line": {
            "color": "black",
            "width": 2
           },
           "mode": "lines",
           "showlegend": false,
           "type": "scatter3d",
           "x": [
            0.46128106117248535,
            0.646511435508728
           ],
           "y": [
            1.480532169342041,
            1.3782228231430054
           ],
           "z": [
            -0.1244463324546814,
            -0.18463388085365295
           ]
          },
          {
           "line": {
            "color": "black",
            "width": 2
           },
           "mode": "lines",
           "showlegend": false,
           "type": "scatter3d",
           "x": [
            0,
            -0.04529999941587448
           ],
           "y": [
            0,
            0.9214000105857849
           ],
           "z": [
            0,
            -0.20730000734329224
           ]
          },
          {
           "line": {
            "color": "black",
            "width": 2
           },
           "mode": "lines",
           "showlegend": false,
           "type": "scatter3d",
           "x": [
            -0.04529999941587448,
            0.08726862818002701
           ],
           "y": [
            0.9214000105857849,
            1.4475269317626953
           ],
           "z": [
            -0.20730000734329224,
            -0.0988704115152359
           ]
          },
          {
           "line": {
            "color": "black",
            "width": 2
           },
           "mode": "lines",
           "showlegend": false,
           "type": "scatter3d",
           "x": [
            0.08726862818002701,
            0.3748003840446472
           ],
           "y": [
            1.4475269317626953,
            1.6113245487213135
           ],
           "z": [
            -0.0988704115152359,
            -0.13130605220794678
           ]
          },
          {
           "line": {
            "color": "black",
            "width": 2
           },
           "mode": "lines",
           "showlegend": false,
           "type": "scatter3d",
           "x": [
            0.3748003840446472,
            0.5588942766189575
           ],
           "y": [
            1.6113245487213135,
            1.5145974159240723
           ],
           "z": [
            -0.13130605220794678,
            -0.20727476477622986
           ]
          },
          {
           "line": {
            "color": "black",
            "width": 2
           },
           "mode": "lines",
           "showlegend": false,
           "type": "scatter3d",
           "x": [
            0,
            -0.11640000343322754
           ],
           "y": [
            0,
            0.7821999788284302
           ],
           "z": [
            0,
            -0.3912999927997589
           ]
          },
          {
           "line": {
            "color": "black",
            "width": 2
           },
           "mode": "lines",
           "showlegend": false,
           "type": "scatter3d",
           "x": [
            -0.11640000343322754,
            0.07797174155712128
           ],
           "y": [
            0.7821999788284302,
            1.1836392879486084
           ],
           "z": [
            -0.3912999927997589,
            -0.36854714155197144
           ]
          },
          {
           "line": {
            "color": "black",
            "width": 2
           },
           "mode": "lines",
           "showlegend": false,
           "type": "scatter3d",
           "x": [
            0.07797174155712128,
            0.3220471143722534
           ],
           "y": [
            1.1836392879486084,
            1.3194962739944458
           ],
           "z": [
            -0.36854714155197144,
            -0.42557457089424133
           ]
          },
          {
           "line": {
            "color": "black",
            "width": 2
           },
           "mode": "lines",
           "showlegend": false,
           "type": "scatter3d",
           "x": [
            0.3220471143722534,
            0.5322852730751038
           ],
           "y": [
            1.3194962739944458,
            1.3377748727798462
           ],
           "z": [
            -0.42557457089424133,
            -0.497649610042572
           ]
          },
          {
           "line": {
            "color": "black",
            "width": 2
           },
           "mode": "lines",
           "showlegend": false,
           "type": "scatter3d",
           "x": [
            0.008651405572891235,
            -0.0019000000320374966
           ],
           "y": [
            0.48729050159454346,
            0.9692999720573425
           ],
           "z": [
            0.3587636351585388,
            0.2282000035047531
           ]
          },
          {
           "line": {
            "color": "black",
            "width": 2
           },
           "mode": "lines",
           "showlegend": false,
           "type": "scatter3d",
           "x": [
            -0.0019000000320374966,
            -0.0020000000949949026
           ],
           "y": [
            0.9692999720573425,
            0.996999979019165
           ],
           "z": [
            0.2282000035047531,
            -0.012400000356137753
           ]
          },
          {
           "line": {
            "color": "black",
            "width": 2
           },
           "mode": "lines",
           "showlegend": false,
           "type": "scatter3d",
           "x": [
            -0.0020000000949949026,
            -0.04529999941587448
           ],
           "y": [
            0.996999979019165,
            0.9214000105857849
           ],
           "z": [
            -0.012400000356137753,
            -0.20730000734329224
           ]
          },
          {
           "line": {
            "color": "black",
            "width": 2
           },
           "mode": "lines",
           "showlegend": false,
           "type": "scatter3d",
           "x": [
            -0.04529999941587448,
            -0.11640000343322754
           ],
           "y": [
            0.9214000105857849,
            0.7821999788284302
           ],
           "z": [
            -0.20730000734329224,
            -0.3912999927997589
           ]
          }
         ],
         "name": "69"
        },
        {
         "data": [
          {
           "marker": {
            "color": "blue",
            "size": 4
           },
           "mode": "markers+text",
           "name": "Landmarks",
           "text": [
            "0",
            "1",
            "2",
            "3",
            "4",
            "5",
            "6",
            "7",
            "8",
            "9",
            "10",
            "11",
            "12",
            "13",
            "14",
            "15",
            "16",
            "17",
            "18",
            "19"
           ],
           "textfont": {
            "color": "black",
            "size": 8
           },
           "textposition": "top center",
           "type": "scatter3d",
           "x": {
            "bdata": "AAAAAGAEJzwXag4+NGGYPWwJ+boqbU+87HaEPh3e8j5vEgO762IaPjYZ7D7weCU/fow5vakiwT1kEMI+PQ8QPyBj7r2QNJ89CrukPkkvCD8=",
            "dtype": "f4"
           },
           "y": {
            "bdata": "AAAAAICI+D6IYEo/pKNzPwskeD9sKrU/dvW3P/uetz9kO38/ik3EP7mIvT9wc7A/3+BrP1ohuT+Dw84/SUXCP0I+SD/ShJc/+O2oP+FJqz8=",
            "dtype": "f4"
           },
           "z": {
            "bdata": "AAAAAG+Xtz794Dc++OHUvEOtaT6k0YA+cThQPqr4Jz5fKUu8PpnxvOSQ/r00CD2+dEZUvoTI0L1WfAe+1BpVvnlYyL6Ulry+w77ZvhSj/r4=",
            "dtype": "f4"
           }
          },
          {
           "line": {
            "color": "black",
            "width": 2
           },
           "mode": "lines",
           "showlegend": false,
           "type": "scatter3d",
           "x": [
            0,
            0.01019391417503357
           ],
           "y": [
            0,
            0.4854164123535156
           ],
           "z": [
            0,
            0.3585772216320038
           ]
          },
          {
           "line": {
            "color": "black",
            "width": 2
           },
           "mode": "lines",
           "showlegend": false,
           "type": "scatter3d",
           "x": [
            0.01019391417503357,
            0.1390765756368637
           ],
           "y": [
            0.4854164123535156,
            0.7905354499816895
           ],
           "z": [
            0.3585772216320038,
            0.17956919968128204
           ]
          },
          {
           "line": {
            "color": "black",
            "width": 2
           },
           "mode": "lines",
           "showlegend": false,
           "type": "scatter3d",
           "x": [
            0.1390765756368637,
            0.07440415024757385
           ],
           "y": [
            0.7905354499816895,
            0.9517157077789307
           ],
           "z": [
            0.17956919968128204,
            -0.025986656546592712
           ]
          },
          {
           "line": {
            "color": "black",
            "width": 2
           },
           "mode": "lines",
           "showlegend": false,
           "type": "scatter3d",
           "x": [
            0,
            -0.0019000000320374966
           ],
           "y": [
            0,
            0.9692999720573425
           ],
           "z": [
            0,
            0.2282000035047531
           ]
          },
          {
           "line": {
            "color": "black",
            "width": 2
           },
           "mode": "lines",
           "showlegend": false,
           "type": "scatter3d",
           "x": [
            -0.0019000000320374966,
            -0.012660304084420204
           ],
           "y": [
            0.9692999720573425,
            1.4153571128845215
           ],
           "z": [
            0.2282000035047531,
            0.25159943103790283
           ]
          },
          {
           "line": {
            "color": "black",
            "width": 2
           },
           "mode": "lines",
           "showlegend": false,
           "type": "scatter3d",
           "x": [
            -0.012660304084420204,
            0.258719801902771
           ],
           "y": [
            1.4153571128845215,
            1.437178373336792
           ],
           "z": [
            0.25159943103790283,
            0.2033403068780899
           ]
          },
          {
           "line": {
            "color": "black",
            "width": 2
           },
           "mode": "lines",
           "showlegend": false,
           "type": "scatter3d",
           "x": [
            0.258719801902771,
            0.47435083985328674
           ],
           "y": [
            1.437178373336792,
            1.4345391988754272
           ],
           "z": [
            0.2033403068780899,
            0.16403451561927795
           ]
          },
          {
           "line": {
            "color": "black",
            "width": 2
           },
           "mode": "lines",
           "showlegend": false,
           "type": "scatter3d",
           "x": [
            0,
            -0.0020000000949949026
           ],
           "y": [
            0,
            0.996999979019165
           ],
           "z": [
            0,
            -0.012400000356137753
           ]
          },
          {
           "line": {
            "color": "black",
            "width": 2
           },
           "mode": "lines",
           "showlegend": false,
           "type": "scatter3d",
           "x": [
            -0.0020000000949949026,
            0.1507679671049118
           ],
           "y": [
            0.996999979019165,
            1.533616304397583
           ],
           "z": [
            -0.012400000356137753,
            -0.02949201688170433
           ]
          },
          {
           "line": {
            "color": "black",
            "width": 2
           },
           "mode": "lines",
           "showlegend": false,
           "type": "scatter3d",
           "x": [
            0.1507679671049118,
            0.4611298441886902
           ],
           "y": [
            1.533616304397583,
            1.480734944343567
           ],
           "z": [
            -0.02949201688170433,
            -0.1242997944355011
           ]
          },
          {
           "line": {
            "color": "black",
            "width": 2
           },
           "mode": "lines",
           "showlegend": false,
           "type": "scatter3d",
           "x": [
            0.4611298441886902,
            0.6463766098022461
           ],
           "y": [
            1.480734944343567,
            1.3785228729248047
           ],
           "z": [
            -0.1242997944355011,
            -0.18460160493850708
           ]
          },
          {
           "line": {
            "color": "black",
            "width": 2
           },
           "mode": "lines",
           "showlegend": false,
           "type": "scatter3d",
           "x": [
            0,
            -0.04529999941587448
           ],
           "y": [
            0,
            0.9214000105857849
           ],
           "z": [
            0,
            -0.20730000734329224
           ]
          },
          {
           "line": {
            "color": "black",
            "width": 2
           },
           "mode": "lines",
           "showlegend": false,
           "type": "scatter3d",
           "x": [
            -0.04529999941587448,
            0.0943043902516365
           ],
           "y": [
            0.9214000105857849,
            1.4463303089141846
           ],
           "z": [
            -0.20730000734329224,
            -0.1019449532032013
           ]
          },
          {
           "line": {
            "color": "black",
            "width": 2
           },
           "mode": "lines",
           "showlegend": false,
           "type": "scatter3d",
           "x": [
            0.0943043902516365,
            0.37903130054473877
           ],
           "y": [
            1.4463303089141846,
            1.6153415441513062
           ],
           "z": [
            -0.1019449532032013,
            -0.13231024146080017
           ]
          },
          {
           "line": {
            "color": "black",
            "width": 2
           },
           "mode": "lines",
           "showlegend": false,
           "type": "scatter3d",
           "x": [
            0.37903130054473877,
            0.5627325177192688
           ],
           "y": [
            1.6153415441513062,
            1.5177394151687622
           ],
           "z": [
            -0.13231024146080017,
            -0.20811015367507935
           ]
          },
          {
           "line": {
            "color": "black",
            "width": 2
           },
           "mode": "lines",
           "showlegend": false,
           "type": "scatter3d",
           "x": [
            0,
            -0.11640000343322754
           ],
           "y": [
            0,
            0.7821999788284302
           ],
           "z": [
            0,
            -0.3912999927997589
           ]
          },
          {
           "line": {
            "color": "black",
            "width": 2
           },
           "mode": "lines",
           "showlegend": false,
           "type": "scatter3d",
           "x": [
            -0.11640000343322754,
            0.07773697376251221
           ],
           "y": [
            0.7821999788284302,
            1.1837408542633057
           ],
           "z": [
            -0.3912999927997589,
            -0.3683363199234009
           ]
          },
          {
           "line": {
            "color": "black",
            "width": 2
           },
           "mode": "lines",
           "showlegend": false,
           "type": "scatter3d",
           "x": [
            0.07773697376251221,
            0.3217394948005676
           ],
           "y": [
            1.1837408542633057,
            1.3197622299194336
           ],
           "z": [
            -0.3683363199234009,
            -0.4252835214138031
           ]
          },
          {
           "line": {
            "color": "black",
            "width": 2
           },
           "mode": "lines",
           "showlegend": false,
           "type": "scatter3d",
           "x": [
            0.3217394948005676,
            0.5319715142250061
           ],
           "y": [
            1.3197622299194336,
            1.338192105293274
           ],
           "z": [
            -0.4252835214138031,
            -0.4973379373550415
           ]
          },
          {
           "line": {
            "color": "black",
            "width": 2
           },
           "mode": "lines",
           "showlegend": false,
           "type": "scatter3d",
           "x": [
            0.01019391417503357,
            -0.0019000000320374966
           ],
           "y": [
            0.4854164123535156,
            0.9692999720573425
           ],
           "z": [
            0.3585772216320038,
            0.2282000035047531
           ]
          },
          {
           "line": {
            "color": "black",
            "width": 2
           },
           "mode": "lines",
           "showlegend": false,
           "type": "scatter3d",
           "x": [
            -0.0019000000320374966,
            -0.0020000000949949026
           ],
           "y": [
            0.9692999720573425,
            0.996999979019165
           ],
           "z": [
            0.2282000035047531,
            -0.012400000356137753
           ]
          },
          {
           "line": {
            "color": "black",
            "width": 2
           },
           "mode": "lines",
           "showlegend": false,
           "type": "scatter3d",
           "x": [
            -0.0020000000949949026,
            -0.04529999941587448
           ],
           "y": [
            0.996999979019165,
            0.9214000105857849
           ],
           "z": [
            -0.012400000356137753,
            -0.20730000734329224
           ]
          },
          {
           "line": {
            "color": "black",
            "width": 2
           },
           "mode": "lines",
           "showlegend": false,
           "type": "scatter3d",
           "x": [
            -0.04529999941587448,
            -0.11640000343322754
           ],
           "y": [
            0.9214000105857849,
            0.7821999788284302
           ],
           "z": [
            -0.20730000734329224,
            -0.3912999927997589
           ]
          }
         ],
         "name": "70"
        }
       ],
       "layout": {
        "height": 400,
        "margin": {
         "b": 0,
         "l": 0,
         "r": 0,
         "t": 30
        },
        "scene": {
         "aspectmode": "cube",
         "camera": {
          "eye": {
           "x": 0.2,
           "y": 0.2,
           "z": 0.2
          }
         },
         "xaxis": {
          "range": [
           2,
           -2
          ],
          "title": {
           "text": "X"
          }
         },
         "yaxis": {
          "range": [
           -1,
           3
          ],
          "title": {
           "text": "Y"
          }
         },
         "zaxis": {
          "range": [
           -2,
           2
          ],
          "title": {
           "text": "Z"
          }
         }
        },
        "sliders": [
         {
          "len": 0.9,
          "pad": {
           "b": 10,
           "t": 10
          },
          "steps": [
           {
            "args": [
             [
              "0"
             ],
             {
              "frame": {
               "duration": 33.33,
               "redraw": true
              },
              "mode": "immediate",
              "transition": {
               "duration": 0
              }
             }
            ],
            "label": "0",
            "method": "animate"
           },
           {
            "args": [
             [
              "1"
             ],
             {
              "frame": {
               "duration": 33.33,
               "redraw": true
              },
              "mode": "immediate",
              "transition": {
               "duration": 0
              }
             }
            ],
            "label": "1",
            "method": "animate"
           },
           {
            "args": [
             [
              "2"
             ],
             {
              "frame": {
               "duration": 33.33,
               "redraw": true
              },
              "mode": "immediate",
              "transition": {
               "duration": 0
              }
             }
            ],
            "label": "2",
            "method": "animate"
           },
           {
            "args": [
             [
              "3"
             ],
             {
              "frame": {
               "duration": 33.33,
               "redraw": true
              },
              "mode": "immediate",
              "transition": {
               "duration": 0
              }
             }
            ],
            "label": "3",
            "method": "animate"
           },
           {
            "args": [
             [
              "4"
             ],
             {
              "frame": {
               "duration": 33.33,
               "redraw": true
              },
              "mode": "immediate",
              "transition": {
               "duration": 0
              }
             }
            ],
            "label": "4",
            "method": "animate"
           },
           {
            "args": [
             [
              "5"
             ],
             {
              "frame": {
               "duration": 33.33,
               "redraw": true
              },
              "mode": "immediate",
              "transition": {
               "duration": 0
              }
             }
            ],
            "label": "5",
            "method": "animate"
           },
           {
            "args": [
             [
              "6"
             ],
             {
              "frame": {
               "duration": 33.33,
               "redraw": true
              },
              "mode": "immediate",
              "transition": {
               "duration": 0
              }
             }
            ],
            "label": "6",
            "method": "animate"
           },
           {
            "args": [
             [
              "7"
             ],
             {
              "frame": {
               "duration": 33.33,
               "redraw": true
              },
              "mode": "immediate",
              "transition": {
               "duration": 0
              }
             }
            ],
            "label": "7",
            "method": "animate"
           },
           {
            "args": [
             [
              "8"
             ],
             {
              "frame": {
               "duration": 33.33,
               "redraw": true
              },
              "mode": "immediate",
              "transition": {
               "duration": 0
              }
             }
            ],
            "label": "8",
            "method": "animate"
           },
           {
            "args": [
             [
              "9"
             ],
             {
              "frame": {
               "duration": 33.33,
               "redraw": true
              },
              "mode": "immediate",
              "transition": {
               "duration": 0
              }
             }
            ],
            "label": "9",
            "method": "animate"
           },
           {
            "args": [
             [
              "10"
             ],
             {
              "frame": {
               "duration": 33.33,
               "redraw": true
              },
              "mode": "immediate",
              "transition": {
               "duration": 0
              }
             }
            ],
            "label": "10",
            "method": "animate"
           },
           {
            "args": [
             [
              "11"
             ],
             {
              "frame": {
               "duration": 33.33,
               "redraw": true
              },
              "mode": "immediate",
              "transition": {
               "duration": 0
              }
             }
            ],
            "label": "11",
            "method": "animate"
           },
           {
            "args": [
             [
              "12"
             ],
             {
              "frame": {
               "duration": 33.33,
               "redraw": true
              },
              "mode": "immediate",
              "transition": {
               "duration": 0
              }
             }
            ],
            "label": "12",
            "method": "animate"
           },
           {
            "args": [
             [
              "13"
             ],
             {
              "frame": {
               "duration": 33.33,
               "redraw": true
              },
              "mode": "immediate",
              "transition": {
               "duration": 0
              }
             }
            ],
            "label": "13",
            "method": "animate"
           },
           {
            "args": [
             [
              "14"
             ],
             {
              "frame": {
               "duration": 33.33,
               "redraw": true
              },
              "mode": "immediate",
              "transition": {
               "duration": 0
              }
             }
            ],
            "label": "14",
            "method": "animate"
           },
           {
            "args": [
             [
              "15"
             ],
             {
              "frame": {
               "duration": 33.33,
               "redraw": true
              },
              "mode": "immediate",
              "transition": {
               "duration": 0
              }
             }
            ],
            "label": "15",
            "method": "animate"
           },
           {
            "args": [
             [
              "16"
             ],
             {
              "frame": {
               "duration": 33.33,
               "redraw": true
              },
              "mode": "immediate",
              "transition": {
               "duration": 0
              }
             }
            ],
            "label": "16",
            "method": "animate"
           },
           {
            "args": [
             [
              "17"
             ],
             {
              "frame": {
               "duration": 33.33,
               "redraw": true
              },
              "mode": "immediate",
              "transition": {
               "duration": 0
              }
             }
            ],
            "label": "17",
            "method": "animate"
           },
           {
            "args": [
             [
              "18"
             ],
             {
              "frame": {
               "duration": 33.33,
               "redraw": true
              },
              "mode": "immediate",
              "transition": {
               "duration": 0
              }
             }
            ],
            "label": "18",
            "method": "animate"
           },
           {
            "args": [
             [
              "19"
             ],
             {
              "frame": {
               "duration": 33.33,
               "redraw": true
              },
              "mode": "immediate",
              "transition": {
               "duration": 0
              }
             }
            ],
            "label": "19",
            "method": "animate"
           },
           {
            "args": [
             [
              "20"
             ],
             {
              "frame": {
               "duration": 33.33,
               "redraw": true
              },
              "mode": "immediate",
              "transition": {
               "duration": 0
              }
             }
            ],
            "label": "20",
            "method": "animate"
           },
           {
            "args": [
             [
              "21"
             ],
             {
              "frame": {
               "duration": 33.33,
               "redraw": true
              },
              "mode": "immediate",
              "transition": {
               "duration": 0
              }
             }
            ],
            "label": "21",
            "method": "animate"
           },
           {
            "args": [
             [
              "22"
             ],
             {
              "frame": {
               "duration": 33.33,
               "redraw": true
              },
              "mode": "immediate",
              "transition": {
               "duration": 0
              }
             }
            ],
            "label": "22",
            "method": "animate"
           },
           {
            "args": [
             [
              "23"
             ],
             {
              "frame": {
               "duration": 33.33,
               "redraw": true
              },
              "mode": "immediate",
              "transition": {
               "duration": 0
              }
             }
            ],
            "label": "23",
            "method": "animate"
           },
           {
            "args": [
             [
              "24"
             ],
             {
              "frame": {
               "duration": 33.33,
               "redraw": true
              },
              "mode": "immediate",
              "transition": {
               "duration": 0
              }
             }
            ],
            "label": "24",
            "method": "animate"
           },
           {
            "args": [
             [
              "25"
             ],
             {
              "frame": {
               "duration": 33.33,
               "redraw": true
              },
              "mode": "immediate",
              "transition": {
               "duration": 0
              }
             }
            ],
            "label": "25",
            "method": "animate"
           },
           {
            "args": [
             [
              "26"
             ],
             {
              "frame": {
               "duration": 33.33,
               "redraw": true
              },
              "mode": "immediate",
              "transition": {
               "duration": 0
              }
             }
            ],
            "label": "26",
            "method": "animate"
           },
           {
            "args": [
             [
              "27"
             ],
             {
              "frame": {
               "duration": 33.33,
               "redraw": true
              },
              "mode": "immediate",
              "transition": {
               "duration": 0
              }
             }
            ],
            "label": "27",
            "method": "animate"
           },
           {
            "args": [
             [
              "28"
             ],
             {
              "frame": {
               "duration": 33.33,
               "redraw": true
              },
              "mode": "immediate",
              "transition": {
               "duration": 0
              }
             }
            ],
            "label": "28",
            "method": "animate"
           },
           {
            "args": [
             [
              "29"
             ],
             {
              "frame": {
               "duration": 33.33,
               "redraw": true
              },
              "mode": "immediate",
              "transition": {
               "duration": 0
              }
             }
            ],
            "label": "29",
            "method": "animate"
           },
           {
            "args": [
             [
              "30"
             ],
             {
              "frame": {
               "duration": 33.33,
               "redraw": true
              },
              "mode": "immediate",
              "transition": {
               "duration": 0
              }
             }
            ],
            "label": "30",
            "method": "animate"
           },
           {
            "args": [
             [
              "31"
             ],
             {
              "frame": {
               "duration": 33.33,
               "redraw": true
              },
              "mode": "immediate",
              "transition": {
               "duration": 0
              }
             }
            ],
            "label": "31",
            "method": "animate"
           },
           {
            "args": [
             [
              "32"
             ],
             {
              "frame": {
               "duration": 33.33,
               "redraw": true
              },
              "mode": "immediate",
              "transition": {
               "duration": 0
              }
             }
            ],
            "label": "32",
            "method": "animate"
           },
           {
            "args": [
             [
              "33"
             ],
             {
              "frame": {
               "duration": 33.33,
               "redraw": true
              },
              "mode": "immediate",
              "transition": {
               "duration": 0
              }
             }
            ],
            "label": "33",
            "method": "animate"
           },
           {
            "args": [
             [
              "34"
             ],
             {
              "frame": {
               "duration": 33.33,
               "redraw": true
              },
              "mode": "immediate",
              "transition": {
               "duration": 0
              }
             }
            ],
            "label": "34",
            "method": "animate"
           },
           {
            "args": [
             [
              "35"
             ],
             {
              "frame": {
               "duration": 33.33,
               "redraw": true
              },
              "mode": "immediate",
              "transition": {
               "duration": 0
              }
             }
            ],
            "label": "35",
            "method": "animate"
           },
           {
            "args": [
             [
              "36"
             ],
             {
              "frame": {
               "duration": 33.33,
               "redraw": true
              },
              "mode": "immediate",
              "transition": {
               "duration": 0
              }
             }
            ],
            "label": "36",
            "method": "animate"
           },
           {
            "args": [
             [
              "37"
             ],
             {
              "frame": {
               "duration": 33.33,
               "redraw": true
              },
              "mode": "immediate",
              "transition": {
               "duration": 0
              }
             }
            ],
            "label": "37",
            "method": "animate"
           },
           {
            "args": [
             [
              "38"
             ],
             {
              "frame": {
               "duration": 33.33,
               "redraw": true
              },
              "mode": "immediate",
              "transition": {
               "duration": 0
              }
             }
            ],
            "label": "38",
            "method": "animate"
           },
           {
            "args": [
             [
              "39"
             ],
             {
              "frame": {
               "duration": 33.33,
               "redraw": true
              },
              "mode": "immediate",
              "transition": {
               "duration": 0
              }
             }
            ],
            "label": "39",
            "method": "animate"
           },
           {
            "args": [
             [
              "40"
             ],
             {
              "frame": {
               "duration": 33.33,
               "redraw": true
              },
              "mode": "immediate",
              "transition": {
               "duration": 0
              }
             }
            ],
            "label": "40",
            "method": "animate"
           },
           {
            "args": [
             [
              "41"
             ],
             {
              "frame": {
               "duration": 33.33,
               "redraw": true
              },
              "mode": "immediate",
              "transition": {
               "duration": 0
              }
             }
            ],
            "label": "41",
            "method": "animate"
           },
           {
            "args": [
             [
              "42"
             ],
             {
              "frame": {
               "duration": 33.33,
               "redraw": true
              },
              "mode": "immediate",
              "transition": {
               "duration": 0
              }
             }
            ],
            "label": "42",
            "method": "animate"
           },
           {
            "args": [
             [
              "43"
             ],
             {
              "frame": {
               "duration": 33.33,
               "redraw": true
              },
              "mode": "immediate",
              "transition": {
               "duration": 0
              }
             }
            ],
            "label": "43",
            "method": "animate"
           },
           {
            "args": [
             [
              "44"
             ],
             {
              "frame": {
               "duration": 33.33,
               "redraw": true
              },
              "mode": "immediate",
              "transition": {
               "duration": 0
              }
             }
            ],
            "label": "44",
            "method": "animate"
           },
           {
            "args": [
             [
              "45"
             ],
             {
              "frame": {
               "duration": 33.33,
               "redraw": true
              },
              "mode": "immediate",
              "transition": {
               "duration": 0
              }
             }
            ],
            "label": "45",
            "method": "animate"
           },
           {
            "args": [
             [
              "46"
             ],
             {
              "frame": {
               "duration": 33.33,
               "redraw": true
              },
              "mode": "immediate",
              "transition": {
               "duration": 0
              }
             }
            ],
            "label": "46",
            "method": "animate"
           },
           {
            "args": [
             [
              "47"
             ],
             {
              "frame": {
               "duration": 33.33,
               "redraw": true
              },
              "mode": "immediate",
              "transition": {
               "duration": 0
              }
             }
            ],
            "label": "47",
            "method": "animate"
           },
           {
            "args": [
             [
              "48"
             ],
             {
              "frame": {
               "duration": 33.33,
               "redraw": true
              },
              "mode": "immediate",
              "transition": {
               "duration": 0
              }
             }
            ],
            "label": "48",
            "method": "animate"
           },
           {
            "args": [
             [
              "49"
             ],
             {
              "frame": {
               "duration": 33.33,
               "redraw": true
              },
              "mode": "immediate",
              "transition": {
               "duration": 0
              }
             }
            ],
            "label": "49",
            "method": "animate"
           },
           {
            "args": [
             [
              "50"
             ],
             {
              "frame": {
               "duration": 33.33,
               "redraw": true
              },
              "mode": "immediate",
              "transition": {
               "duration": 0
              }
             }
            ],
            "label": "50",
            "method": "animate"
           },
           {
            "args": [
             [
              "51"
             ],
             {
              "frame": {
               "duration": 33.33,
               "redraw": true
              },
              "mode": "immediate",
              "transition": {
               "duration": 0
              }
             }
            ],
            "label": "51",
            "method": "animate"
           },
           {
            "args": [
             [
              "52"
             ],
             {
              "frame": {
               "duration": 33.33,
               "redraw": true
              },
              "mode": "immediate",
              "transition": {
               "duration": 0
              }
             }
            ],
            "label": "52",
            "method": "animate"
           },
           {
            "args": [
             [
              "53"
             ],
             {
              "frame": {
               "duration": 33.33,
               "redraw": true
              },
              "mode": "immediate",
              "transition": {
               "duration": 0
              }
             }
            ],
            "label": "53",
            "method": "animate"
           },
           {
            "args": [
             [
              "54"
             ],
             {
              "frame": {
               "duration": 33.33,
               "redraw": true
              },
              "mode": "immediate",
              "transition": {
               "duration": 0
              }
             }
            ],
            "label": "54",
            "method": "animate"
           },
           {
            "args": [
             [
              "55"
             ],
             {
              "frame": {
               "duration": 33.33,
               "redraw": true
              },
              "mode": "immediate",
              "transition": {
               "duration": 0
              }
             }
            ],
            "label": "55",
            "method": "animate"
           },
           {
            "args": [
             [
              "56"
             ],
             {
              "frame": {
               "duration": 33.33,
               "redraw": true
              },
              "mode": "immediate",
              "transition": {
               "duration": 0
              }
             }
            ],
            "label": "56",
            "method": "animate"
           },
           {
            "args": [
             [
              "57"
             ],
             {
              "frame": {
               "duration": 33.33,
               "redraw": true
              },
              "mode": "immediate",
              "transition": {
               "duration": 0
              }
             }
            ],
            "label": "57",
            "method": "animate"
           },
           {
            "args": [
             [
              "58"
             ],
             {
              "frame": {
               "duration": 33.33,
               "redraw": true
              },
              "mode": "immediate",
              "transition": {
               "duration": 0
              }
             }
            ],
            "label": "58",
            "method": "animate"
           },
           {
            "args": [
             [
              "59"
             ],
             {
              "frame": {
               "duration": 33.33,
               "redraw": true
              },
              "mode": "immediate",
              "transition": {
               "duration": 0
              }
             }
            ],
            "label": "59",
            "method": "animate"
           },
           {
            "args": [
             [
              "60"
             ],
             {
              "frame": {
               "duration": 33.33,
               "redraw": true
              },
              "mode": "immediate",
              "transition": {
               "duration": 0
              }
             }
            ],
            "label": "60",
            "method": "animate"
           },
           {
            "args": [
             [
              "61"
             ],
             {
              "frame": {
               "duration": 33.33,
               "redraw": true
              },
              "mode": "immediate",
              "transition": {
               "duration": 0
              }
             }
            ],
            "label": "61",
            "method": "animate"
           },
           {
            "args": [
             [
              "62"
             ],
             {
              "frame": {
               "duration": 33.33,
               "redraw": true
              },
              "mode": "immediate",
              "transition": {
               "duration": 0
              }
             }
            ],
            "label": "62",
            "method": "animate"
           },
           {
            "args": [
             [
              "63"
             ],
             {
              "frame": {
               "duration": 33.33,
               "redraw": true
              },
              "mode": "immediate",
              "transition": {
               "duration": 0
              }
             }
            ],
            "label": "63",
            "method": "animate"
           },
           {
            "args": [
             [
              "64"
             ],
             {
              "frame": {
               "duration": 33.33,
               "redraw": true
              },
              "mode": "immediate",
              "transition": {
               "duration": 0
              }
             }
            ],
            "label": "64",
            "method": "animate"
           },
           {
            "args": [
             [
              "65"
             ],
             {
              "frame": {
               "duration": 33.33,
               "redraw": true
              },
              "mode": "immediate",
              "transition": {
               "duration": 0
              }
             }
            ],
            "label": "65",
            "method": "animate"
           },
           {
            "args": [
             [
              "66"
             ],
             {
              "frame": {
               "duration": 33.33,
               "redraw": true
              },
              "mode": "immediate",
              "transition": {
               "duration": 0
              }
             }
            ],
            "label": "66",
            "method": "animate"
           },
           {
            "args": [
             [
              "67"
             ],
             {
              "frame": {
               "duration": 33.33,
               "redraw": true
              },
              "mode": "immediate",
              "transition": {
               "duration": 0
              }
             }
            ],
            "label": "67",
            "method": "animate"
           },
           {
            "args": [
             [
              "68"
             ],
             {
              "frame": {
               "duration": 33.33,
               "redraw": true
              },
              "mode": "immediate",
              "transition": {
               "duration": 0
              }
             }
            ],
            "label": "68",
            "method": "animate"
           },
           {
            "args": [
             [
              "69"
             ],
             {
              "frame": {
               "duration": 33.33,
               "redraw": true
              },
              "mode": "immediate",
              "transition": {
               "duration": 0
              }
             }
            ],
            "label": "69",
            "method": "animate"
           },
           {
            "args": [
             [
              "70"
             ],
             {
              "frame": {
               "duration": 33.33,
               "redraw": true
              },
              "mode": "immediate",
              "transition": {
               "duration": 0
              }
             }
            ],
            "label": "70",
            "method": "animate"
           }
          ],
          "x": 0.1,
          "xanchor": "left",
          "y": 0,
          "yanchor": "top"
         }
        ],
        "template": {
         "data": {
          "bar": [
           {
            "error_x": {
             "color": "#2a3f5f"
            },
            "error_y": {
             "color": "#2a3f5f"
            },
            "marker": {
             "line": {
              "color": "#E5ECF6",
              "width": 0.5
             },
             "pattern": {
              "fillmode": "overlay",
              "size": 10,
              "solidity": 0.2
             }
            },
            "type": "bar"
           }
          ],
          "barpolar": [
           {
            "marker": {
             "line": {
              "color": "#E5ECF6",
              "width": 0.5
             },
             "pattern": {
              "fillmode": "overlay",
              "size": 10,
              "solidity": 0.2
             }
            },
            "type": "barpolar"
           }
          ],
          "carpet": [
           {
            "aaxis": {
             "endlinecolor": "#2a3f5f",
             "gridcolor": "white",
             "linecolor": "white",
             "minorgridcolor": "white",
             "startlinecolor": "#2a3f5f"
            },
            "baxis": {
             "endlinecolor": "#2a3f5f",
             "gridcolor": "white",
             "linecolor": "white",
             "minorgridcolor": "white",
             "startlinecolor": "#2a3f5f"
            },
            "type": "carpet"
           }
          ],
          "choropleth": [
           {
            "colorbar": {
             "outlinewidth": 0,
             "ticks": ""
            },
            "type": "choropleth"
           }
          ],
          "contour": [
           {
            "colorbar": {
             "outlinewidth": 0,
             "ticks": ""
            },
            "colorscale": [
             [
              0,
              "#0d0887"
             ],
             [
              0.1111111111111111,
              "#46039f"
             ],
             [
              0.2222222222222222,
              "#7201a8"
             ],
             [
              0.3333333333333333,
              "#9c179e"
             ],
             [
              0.4444444444444444,
              "#bd3786"
             ],
             [
              0.5555555555555556,
              "#d8576b"
             ],
             [
              0.6666666666666666,
              "#ed7953"
             ],
             [
              0.7777777777777778,
              "#fb9f3a"
             ],
             [
              0.8888888888888888,
              "#fdca26"
             ],
             [
              1,
              "#f0f921"
             ]
            ],
            "type": "contour"
           }
          ],
          "contourcarpet": [
           {
            "colorbar": {
             "outlinewidth": 0,
             "ticks": ""
            },
            "type": "contourcarpet"
           }
          ],
          "heatmap": [
           {
            "colorbar": {
             "outlinewidth": 0,
             "ticks": ""
            },
            "colorscale": [
             [
              0,
              "#0d0887"
             ],
             [
              0.1111111111111111,
              "#46039f"
             ],
             [
              0.2222222222222222,
              "#7201a8"
             ],
             [
              0.3333333333333333,
              "#9c179e"
             ],
             [
              0.4444444444444444,
              "#bd3786"
             ],
             [
              0.5555555555555556,
              "#d8576b"
             ],
             [
              0.6666666666666666,
              "#ed7953"
             ],
             [
              0.7777777777777778,
              "#fb9f3a"
             ],
             [
              0.8888888888888888,
              "#fdca26"
             ],
             [
              1,
              "#f0f921"
             ]
            ],
            "type": "heatmap"
           }
          ],
          "histogram": [
           {
            "marker": {
             "pattern": {
              "fillmode": "overlay",
              "size": 10,
              "solidity": 0.2
             }
            },
            "type": "histogram"
           }
          ],
          "histogram2d": [
           {
            "colorbar": {
             "outlinewidth": 0,
             "ticks": ""
            },
            "colorscale": [
             [
              0,
              "#0d0887"
             ],
             [
              0.1111111111111111,
              "#46039f"
             ],
             [
              0.2222222222222222,
              "#7201a8"
             ],
             [
              0.3333333333333333,
              "#9c179e"
             ],
             [
              0.4444444444444444,
              "#bd3786"
             ],
             [
              0.5555555555555556,
              "#d8576b"
             ],
             [
              0.6666666666666666,
              "#ed7953"
             ],
             [
              0.7777777777777778,
              "#fb9f3a"
             ],
             [
              0.8888888888888888,
              "#fdca26"
             ],
             [
              1,
              "#f0f921"
             ]
            ],
            "type": "histogram2d"
           }
          ],
          "histogram2dcontour": [
           {
            "colorbar": {
             "outlinewidth": 0,
             "ticks": ""
            },
            "colorscale": [
             [
              0,
              "#0d0887"
             ],
             [
              0.1111111111111111,
              "#46039f"
             ],
             [
              0.2222222222222222,
              "#7201a8"
             ],
             [
              0.3333333333333333,
              "#9c179e"
             ],
             [
              0.4444444444444444,
              "#bd3786"
             ],
             [
              0.5555555555555556,
              "#d8576b"
             ],
             [
              0.6666666666666666,
              "#ed7953"
             ],
             [
              0.7777777777777778,
              "#fb9f3a"
             ],
             [
              0.8888888888888888,
              "#fdca26"
             ],
             [
              1,
              "#f0f921"
             ]
            ],
            "type": "histogram2dcontour"
           }
          ],
          "mesh3d": [
           {
            "colorbar": {
             "outlinewidth": 0,
             "ticks": ""
            },
            "type": "mesh3d"
           }
          ],
          "parcoords": [
           {
            "line": {
             "colorbar": {
              "outlinewidth": 0,
              "ticks": ""
             }
            },
            "type": "parcoords"
           }
          ],
          "pie": [
           {
            "automargin": true,
            "type": "pie"
           }
          ],
          "scatter": [
           {
            "fillpattern": {
             "fillmode": "overlay",
             "size": 10,
             "solidity": 0.2
            },
            "type": "scatter"
           }
          ],
          "scatter3d": [
           {
            "line": {
             "colorbar": {
              "outlinewidth": 0,
              "ticks": ""
             }
            },
            "marker": {
             "colorbar": {
              "outlinewidth": 0,
              "ticks": ""
             }
            },
            "type": "scatter3d"
           }
          ],
          "scattercarpet": [
           {
            "marker": {
             "colorbar": {
              "outlinewidth": 0,
              "ticks": ""
             }
            },
            "type": "scattercarpet"
           }
          ],
          "scattergeo": [
           {
            "marker": {
             "colorbar": {
              "outlinewidth": 0,
              "ticks": ""
             }
            },
            "type": "scattergeo"
           }
          ],
          "scattergl": [
           {
            "marker": {
             "colorbar": {
              "outlinewidth": 0,
              "ticks": ""
             }
            },
            "type": "scattergl"
           }
          ],
          "scattermap": [
           {
            "marker": {
             "colorbar": {
              "outlinewidth": 0,
              "ticks": ""
             }
            },
            "type": "scattermap"
           }
          ],
          "scattermapbox": [
           {
            "marker": {
             "colorbar": {
              "outlinewidth": 0,
              "ticks": ""
             }
            },
            "type": "scattermapbox"
           }
          ],
          "scatterpolar": [
           {
            "marker": {
             "colorbar": {
              "outlinewidth": 0,
              "ticks": ""
             }
            },
            "type": "scatterpolar"
           }
          ],
          "scatterpolargl": [
           {
            "marker": {
             "colorbar": {
              "outlinewidth": 0,
              "ticks": ""
             }
            },
            "type": "scatterpolargl"
           }
          ],
          "scatterternary": [
           {
            "marker": {
             "colorbar": {
              "outlinewidth": 0,
              "ticks": ""
             }
            },
            "type": "scatterternary"
           }
          ],
          "surface": [
           {
            "colorbar": {
             "outlinewidth": 0,
             "ticks": ""
            },
            "colorscale": [
             [
              0,
              "#0d0887"
             ],
             [
              0.1111111111111111,
              "#46039f"
             ],
             [
              0.2222222222222222,
              "#7201a8"
             ],
             [
              0.3333333333333333,
              "#9c179e"
             ],
             [
              0.4444444444444444,
              "#bd3786"
             ],
             [
              0.5555555555555556,
              "#d8576b"
             ],
             [
              0.6666666666666666,
              "#ed7953"
             ],
             [
              0.7777777777777778,
              "#fb9f3a"
             ],
             [
              0.8888888888888888,
              "#fdca26"
             ],
             [
              1,
              "#f0f921"
             ]
            ],
            "type": "surface"
           }
          ],
          "table": [
           {
            "cells": {
             "fill": {
              "color": "#EBF0F8"
             },
             "line": {
              "color": "white"
             }
            },
            "header": {
             "fill": {
              "color": "#C8D4E3"
             },
             "line": {
              "color": "white"
             }
            },
            "type": "table"
           }
          ]
         },
         "layout": {
          "annotationdefaults": {
           "arrowcolor": "#2a3f5f",
           "arrowhead": 0,
           "arrowwidth": 1
          },
          "autotypenumbers": "strict",
          "coloraxis": {
           "colorbar": {
            "outlinewidth": 0,
            "ticks": ""
           }
          },
          "colorscale": {
           "diverging": [
            [
             0,
             "#8e0152"
            ],
            [
             0.1,
             "#c51b7d"
            ],
            [
             0.2,
             "#de77ae"
            ],
            [
             0.3,
             "#f1b6da"
            ],
            [
             0.4,
             "#fde0ef"
            ],
            [
             0.5,
             "#f7f7f7"
            ],
            [
             0.6,
             "#e6f5d0"
            ],
            [
             0.7,
             "#b8e186"
            ],
            [
             0.8,
             "#7fbc41"
            ],
            [
             0.9,
             "#4d9221"
            ],
            [
             1,
             "#276419"
            ]
           ],
           "sequential": [
            [
             0,
             "#0d0887"
            ],
            [
             0.1111111111111111,
             "#46039f"
            ],
            [
             0.2222222222222222,
             "#7201a8"
            ],
            [
             0.3333333333333333,
             "#9c179e"
            ],
            [
             0.4444444444444444,
             "#bd3786"
            ],
            [
             0.5555555555555556,
             "#d8576b"
            ],
            [
             0.6666666666666666,
             "#ed7953"
            ],
            [
             0.7777777777777778,
             "#fb9f3a"
            ],
            [
             0.8888888888888888,
             "#fdca26"
            ],
            [
             1,
             "#f0f921"
            ]
           ],
           "sequentialminus": [
            [
             0,
             "#0d0887"
            ],
            [
             0.1111111111111111,
             "#46039f"
            ],
            [
             0.2222222222222222,
             "#7201a8"
            ],
            [
             0.3333333333333333,
             "#9c179e"
            ],
            [
             0.4444444444444444,
             "#bd3786"
            ],
            [
             0.5555555555555556,
             "#d8576b"
            ],
            [
             0.6666666666666666,
             "#ed7953"
            ],
            [
             0.7777777777777778,
             "#fb9f3a"
            ],
            [
             0.8888888888888888,
             "#fdca26"
            ],
            [
             1,
             "#f0f921"
            ]
           ]
          },
          "colorway": [
           "#636efa",
           "#EF553B",
           "#00cc96",
           "#ab63fa",
           "#FFA15A",
           "#19d3f3",
           "#FF6692",
           "#B6E880",
           "#FF97FF",
           "#FECB52"
          ],
          "font": {
           "color": "#2a3f5f"
          },
          "geo": {
           "bgcolor": "white",
           "lakecolor": "white",
           "landcolor": "#E5ECF6",
           "showlakes": true,
           "showland": true,
           "subunitcolor": "white"
          },
          "hoverlabel": {
           "align": "left"
          },
          "hovermode": "closest",
          "mapbox": {
           "style": "light"
          },
          "paper_bgcolor": "white",
          "plot_bgcolor": "#E5ECF6",
          "polar": {
           "angularaxis": {
            "gridcolor": "white",
            "linecolor": "white",
            "ticks": ""
           },
           "bgcolor": "#E5ECF6",
           "radialaxis": {
            "gridcolor": "white",
            "linecolor": "white",
            "ticks": ""
           }
          },
          "scene": {
           "xaxis": {
            "backgroundcolor": "#E5ECF6",
            "gridcolor": "white",
            "gridwidth": 2,
            "linecolor": "white",
            "showbackground": true,
            "ticks": "",
            "zerolinecolor": "white"
           },
           "yaxis": {
            "backgroundcolor": "#E5ECF6",
            "gridcolor": "white",
            "gridwidth": 2,
            "linecolor": "white",
            "showbackground": true,
            "ticks": "",
            "zerolinecolor": "white"
           },
           "zaxis": {
            "backgroundcolor": "#E5ECF6",
            "gridcolor": "white",
            "gridwidth": 2,
            "linecolor": "white",
            "showbackground": true,
            "ticks": "",
            "zerolinecolor": "white"
           }
          },
          "shapedefaults": {
           "line": {
            "color": "#2a3f5f"
           }
          },
          "ternary": {
           "aaxis": {
            "gridcolor": "white",
            "linecolor": "white",
            "ticks": ""
           },
           "baxis": {
            "gridcolor": "white",
            "linecolor": "white",
            "ticks": ""
           },
           "bgcolor": "#E5ECF6",
           "caxis": {
            "gridcolor": "white",
            "linecolor": "white",
            "ticks": ""
           }
          },
          "title": {
           "x": 0.05
          },
          "xaxis": {
           "automargin": true,
           "gridcolor": "white",
           "linecolor": "white",
           "ticks": "",
           "title": {
            "standoff": 15
           },
           "zerolinecolor": "white",
           "zerolinewidth": 2
          },
          "yaxis": {
           "automargin": true,
           "gridcolor": "white",
           "linecolor": "white",
           "ticks": "",
           "title": {
            "standoff": 15
           },
           "zerolinecolor": "white",
           "zerolinewidth": 2
          }
         }
        },
        "title": {
         "text": "3D Hand Pose with Point Labels"
        },
        "updatemenus": [
         {
          "buttons": [
           {
            "args": [
             null,
             {
              "frame": {
               "duration": 33.33,
               "redraw": true
              },
              "fromcurrent": true,
              "transition": {
               "duration": 0
              }
             }
            ],
            "label": "Play",
            "method": "animate"
           },
           {
            "args": [
             [
              null
             ],
             {
              "frame": {
               "duration": 0,
               "redraw": true
              },
              "mode": "immediate",
              "transition": {
               "duration": 0
              }
             }
            ],
            "label": "Pause",
            "method": "animate"
           }
          ],
          "direction": "left",
          "pad": {
           "r": 10,
           "t": 30
          },
          "showactive": false,
          "type": "buttons",
          "x": 0.1,
          "xanchor": "right",
          "y": 0,
          "yanchor": "top"
         }
        ]
       }
      }
     },
     "metadata": {},
     "output_type": "display_data"
    }
   ],
   "source": [
    "landmarks = hand_landmarks_by_angles(torch.tensor(frames))\n",
    "plot_3d_hands(landmarks)"
   ]
  }
 ],
 "metadata": {
  "kernelspec": {
   "display_name": "Python 3",
   "language": "python",
   "name": "python3"
  },
  "language_info": {
   "codemirror_mode": {
    "name": "ipython",
    "version": 3
   },
   "file_extension": ".py",
   "mimetype": "text/x-python",
   "name": "python",
   "nbconvert_exporter": "python",
   "pygments_lexer": "ipython3",
   "version": "3.10.11"
  }
 },
 "nbformat": 4,
 "nbformat_minor": 5
}
