{
 "cells": [
  {
   "cell_type": "code",
   "execution_count": 1,
   "metadata": {},
   "outputs": [
    {
     "name": "stdout",
     "output_type": "stream",
     "text": [
      "PYTHONPATH = c:\\Users\\shich\\Src\\thesis\\hand_emg_regression\n"
     ]
    }
   ],
   "source": [
    "import os\n",
    "import sys\n",
    "\n",
    "# Go one level up from 'notebooks/' to project root\n",
    "project_root = os.path.abspath(os.path.join(os.getcwd(), \"..\"))\n",
    "\n",
    "# Set PYTHONPATH environment variable\n",
    "os.environ[\"PYTHONPATH\"] = project_root\n",
    "\n",
    "# Also update sys.path so Python knows to look there for imports\n",
    "if project_root not in sys.path:\n",
    "    sys.path.insert(0, project_root)\n",
    "\n",
    "# Optional: verify\n",
    "print(\"PYTHONPATH =\", os.environ[\"PYTHONPATH\"])"
   ]
  },
  {
   "cell_type": "code",
   "execution_count": 2,
   "metadata": {},
   "outputs": [],
   "source": [
    "import os\n",
    "from dotenv import load_dotenv\n",
    "load_dotenv()\n",
    "\n",
    "DATASET_PATH = os.environ[\"DATASET_PATH\"]"
   ]
  },
  {
   "cell_type": "code",
   "execution_count": 3,
   "metadata": {},
   "outputs": [
    {
     "data": {
      "text/plain": [
       "torch.Size([192, 16])"
      ]
     },
     "execution_count": 3,
     "metadata": {},
     "output_type": "execute_result"
    }
   ],
   "source": [
    "from emg_hand_tracking.dataset import emg2poseInMemSessionSlice\n",
    "\n",
    "d = emg2poseInMemSessionSlice(f\"{DATASET_PATH}/2022-04-07-1649318400-8125c-cv-emg-pose-train@2-recording-10_left.hdf5\", 0, 35000, 340)\n",
    "emg = d[30][\"emg\"]\n",
    "emg.shape"
   ]
  },
  {
   "cell_type": "code",
   "execution_count": 4,
   "metadata": {},
   "outputs": [
    {
     "data": {
      "text/plain": [
       "torch.Size([7, 20])"
      ]
     },
     "execution_count": 4,
     "metadata": {},
     "output_type": "execute_result"
    }
   ],
   "source": [
    "poses = d[30][\"poses\"]\n",
    "poses.shape"
   ]
  }
 ],
 "metadata": {
  "kernelspec": {
   "display_name": "emg2pose",
   "language": "python",
   "name": "python3"
  },
  "language_info": {
   "codemirror_mode": {
    "name": "ipython",
    "version": 3
   },
   "file_extension": ".py",
   "mimetype": "text/x-python",
   "name": "python",
   "nbconvert_exporter": "python",
   "pygments_lexer": "ipython3",
   "version": "3.10.13"
  }
 },
 "nbformat": 4,
 "nbformat_minor": 2
}
