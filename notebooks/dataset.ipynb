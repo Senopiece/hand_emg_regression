{
 "cells": [
  {
   "cell_type": "code",
   "execution_count": 2,
   "metadata": {},
   "outputs": [
    {
     "name": "stdout",
     "output_type": "stream",
     "text": [
      "PYTHONPATH = c:\\Users\\shich\\Src\\thesis\\hand_emg_regression\n"
     ]
    }
   ],
   "source": [
    "import os\n",
    "import sys\n",
    "\n",
    "# Go one level up from 'notebooks/' to project root\n",
    "project_root = os.path.abspath(os.path.join(os.getcwd(), \"..\"))\n",
    "\n",
    "# Set PYTHONPATH environment variable\n",
    "os.environ[\"PYTHONPATH\"] = project_root\n",
    "\n",
    "# Also update sys.path so Python knows to look there for imports\n",
    "if project_root not in sys.path:\n",
    "    sys.path.insert(0, project_root)\n",
    "\n",
    "# Optional: verify\n",
    "print(\"PYTHONPATH =\", os.environ[\"PYTHONPATH\"])"
   ]
  },
  {
   "cell_type": "code",
   "execution_count": 3,
   "metadata": {},
   "outputs": [],
   "source": [
    "import os\n",
    "from dotenv import load_dotenv\n",
    "load_dotenv()\n",
    "\n",
    "DATASET_PATH = os.environ[\"DATASET_PATH\"]"
   ]
  },
  {
   "cell_type": "code",
   "execution_count": 4,
   "metadata": {},
   "outputs": [
    {
     "data": {
      "text/plain": [
       "torch.Size([192, 16])"
      ]
     },
     "execution_count": 4,
     "metadata": {},
     "output_type": "execute_result"
    }
   ],
   "source": [
    "from emg_hand_tracking.dataset import emg2poseInMemSessionSlice\n",
    "\n",
    "d = emg2poseInMemSessionSlice(f\"{DATASET_PATH}/2022-04-07-1649318400-8125c-cv-emg-pose-train@2-recording-10_left.hdf5\", 0, 35000, 340)\n",
    "emg = d[30][\"emg\"]\n",
    "emg.shape"
   ]
  },
  {
   "cell_type": "code",
   "execution_count": 5,
   "metadata": {},
   "outputs": [
    {
     "data": {
      "text/plain": [
       "tensor([  2.8664,   3.0683,   1.2990,   1.0943,   2.2460,   5.1276,  11.1847,\n",
       "         16.6591, -17.2796,  -2.9172,   7.4584,  11.2332,  19.2694,   6.5000,\n",
       "          2.4091,   0.2221])"
      ]
     },
     "execution_count": 5,
     "metadata": {},
     "output_type": "execute_result"
    }
   ],
   "source": [
    "emg[0]"
   ]
  },
  {
   "cell_type": "code",
   "execution_count": 6,
   "metadata": {},
   "outputs": [
    {
     "data": {
      "text/plain": [
       "torch.Size([7, 20])"
      ]
     },
     "execution_count": 6,
     "metadata": {},
     "output_type": "execute_result"
    }
   ],
   "source": [
    "poses = d[30][\"poses\"]\n",
    "poses.shape"
   ]
  },
  {
   "cell_type": "code",
   "execution_count": 7,
   "metadata": {},
   "outputs": [
    {
     "data": {
      "text/plain": [
       "tensor([ 0.0126, -0.4568,  0.6465,  0.5559,  0.4641,  0.1058,  0.4471,  0.5114,\n",
       "        -0.0144,  0.1594,  0.6994,  0.6286, -0.3748,  0.1568,  0.7361,  0.6375,\n",
       "        -0.6944,  0.5245,  0.4591,  0.4513])"
      ]
     },
     "execution_count": 7,
     "metadata": {},
     "output_type": "execute_result"
    }
   ],
   "source": [
    "poses[0]"
   ]
  }
 ],
 "metadata": {
  "kernelspec": {
   "display_name": "emg2pose",
   "language": "python",
   "name": "python3"
  },
  "language_info": {
   "codemirror_mode": {
    "name": "ipython",
    "version": 3
   },
   "file_extension": ".py",
   "mimetype": "text/x-python",
   "name": "python",
   "nbconvert_exporter": "python",
   "pygments_lexer": "ipython3",
   "version": "3.10.13"
  }
 },
 "nbformat": 4,
 "nbformat_minor": 2
}
