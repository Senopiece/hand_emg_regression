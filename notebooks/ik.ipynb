{
 "cells": [
  {
   "cell_type": "code",
   "execution_count": 710,
   "id": "aef11825",
   "metadata": {},
   "outputs": [
    {
     "name": "stdout",
     "output_type": "stream",
     "text": [
      "PYTHONPATH = c:\\Users\\shich\\Src\\thesis\\hand_emg_regression\n"
     ]
    }
   ],
   "source": [
    "import os\n",
    "import sys\n",
    "\n",
    "# Go one level up from 'notebooks/' to project root\n",
    "project_root = os.path.abspath(os.path.join(os.getcwd(), \"..\"))\n",
    "\n",
    "# Set PYTHONPATH environment variable\n",
    "os.environ[\"PYTHONPATH\"] = project_root\n",
    "\n",
    "# Also update sys.path so Python knows to look there for imports\n",
    "if project_root not in sys.path:\n",
    "    sys.path.insert(0, project_root)\n",
    "\n",
    "# Optional: verify\n",
    "print(\"PYTHONPATH =\", os.environ[\"PYTHONPATH\"])"
   ]
  },
  {
   "cell_type": "code",
   "execution_count": 711,
   "id": "bf0610c2",
   "metadata": {},
   "outputs": [
    {
     "name": "stderr",
     "output_type": "stream",
     "text": [
      "Loading dataset: 100%|██████████| 17/17 [00:00<00:00, 29.10it/s]\n"
     ]
    }
   ],
   "source": [
    "from emg_hand_tracking.dataset import load_recordings\n",
    "\n",
    "d = load_recordings(\"../datasets/s1.z\")\n",
    "\n",
    "frames = d[7][-1].frames"
   ]
  },
  {
   "cell_type": "code",
   "execution_count": 712,
   "id": "7531ed1a",
   "metadata": {},
   "outputs": [],
   "source": [
    "from emg2pose.kinematics import forward_kinematics, load_default_hand_model\n",
    "import numpy as np\n",
    "import torch\n",
    "\n",
    "hand_model = load_default_hand_model()\n",
    "\n",
    "POINTS_SELECT = [5, 6, 7, 0, 8, 9, 10, 1, 11, 12, 13, 2, 14, 15, 16, 3, 17, 18, 19, 4]\n",
    "\n",
    "\n",
    "# x: B, C\n",
    "def forward_hand_kinematics(x: torch.Tensor | np.ndarray):\n",
    "    if not isinstance(x, torch.Tensor):\n",
    "        x = torch.tensor(x, dtype=torch.float32)\n",
    "    hands = forward_kinematics(x.unsqueeze(1).permute(0, 2, 1), hand_model).squeeze(1)\n",
    "    return hands[:, POINTS_SELECT, :]  # B, L, 3"
   ]
  },
  {
   "cell_type": "code",
   "execution_count": 713,
   "id": "dc5ccc0a",
   "metadata": {},
   "outputs": [],
   "source": [
    "import numpy as np\n",
    "import torch\n",
    "\n",
    "\n",
    "def rotation_matrix_from_vectors(\n",
    "    vec1: torch.Tensor,\n",
    "    vec2: torch.Tensor,\n",
    "    eps: float = 1e-6,\n",
    ") -> torch.Tensor:\n",
    "    a = vec1 / vec1.norm()\n",
    "    b = vec2 / vec2.norm()\n",
    "    v = torch.cross(a, b, dim=-1)\n",
    "    if v.norm() < eps:\n",
    "        return torch.eye(3, dtype=vec1.dtype, device=vec1.device)\n",
    "    c = torch.dot(a, b)\n",
    "    s = v.norm()\n",
    "    K = torch.tensor(\n",
    "        [[0, -v[2], v[1]], [v[2], 0, -v[0]], [-v[1], v[0], 0]],\n",
    "        dtype=vec1.dtype,\n",
    "        device=vec1.device,\n",
    "    )\n",
    "    R = torch.eye(3, dtype=vec1.dtype, device=vec1.device)\n",
    "    return R + K + K @ K * ((1 - c) / (s * s))\n",
    "\n",
    "\n",
    "def normalize_hand(\n",
    "    hand_3d_points: torch.Tensor | np.ndarray,\n",
    "    whrist_base: int = 0,\n",
    "    middle_finger_inner_bone: int = 8,\n",
    "    point_finger_inner_bone: int = 4,\n",
    "    eps: float = 1e-6,\n",
    ") -> torch.Tensor:\n",
    "    \"\"\"\n",
    "    Normalize one hand (L,3) or a batch of hands (B, L, 3):\n",
    "      1. translate so point `whrist_base` is at the origin\n",
    "      2. rotate so `middle_finger_inner_bone` aligns with +Y\n",
    "      3. scale so that vector to `middle_finger_inner_bone` has length 1\n",
    "      4. rotate around Y so `point_finger_inner_bone` lies in the +Z half-plane\n",
    "    Returns same shape as input.\n",
    "    \"\"\"\n",
    "    if not isinstance(hand_3d_points, torch.Tensor):\n",
    "        hand_3d_points = torch.tensor(hand_3d_points, dtype=torch.float32)\n",
    "\n",
    "    # if batch of hands, just loop\n",
    "    if hand_3d_points.dim() == 3:\n",
    "        B, L, _ = hand_3d_points.shape\n",
    "        normalized = torch.empty_like(hand_3d_points)\n",
    "        for b in range(B):\n",
    "            # recursive call on each (L,3)\n",
    "            normalized[b] = normalize_hand(\n",
    "                hand_3d_points[b],\n",
    "                whrist_base,\n",
    "                middle_finger_inner_bone,\n",
    "                point_finger_inner_bone,\n",
    "                eps,\n",
    "            )\n",
    "        return normalized\n",
    "\n",
    "    # --- below is the original single‑hand logic for shape (L,3) ---\n",
    "    device, dtype = hand_3d_points.device, hand_3d_points.dtype\n",
    "\n",
    "    # 1) translate so wrist base → origin\n",
    "    T = -hand_3d_points[whrist_base]\n",
    "    hand = hand_3d_points + T\n",
    "\n",
    "    # 2) rotate so that middle finger inner bone aligns with +Y\n",
    "    target_y = torch.tensor([0, 1, 0], dtype=dtype, device=device)\n",
    "    R1 = rotation_matrix_from_vectors(hand[middle_finger_inner_bone], target_y, eps=eps)\n",
    "    hand = hand @ R1.T\n",
    "\n",
    "    # 3) scale so middle‐finger inner bone length → 1\n",
    "    hand = hand / (hand[middle_finger_inner_bone][1] + eps)\n",
    "\n",
    "    # 4) rotate around Y so the point finger inner bone lies in +Z half-plane\n",
    "    v = hand[point_finger_inner_bone]\n",
    "    xz = torch.stack([v[0], v[2]])\n",
    "    norm_xz = xz.norm()\n",
    "    if norm_xz >= eps:\n",
    "        sinA, cosA = xz[0] / norm_xz, xz[1] / norm_xz\n",
    "        R2 = torch.tensor(\n",
    "            [[cosA, 0.0, -sinA], [0.0, 1.0, 0.0], [sinA, 0.0, cosA]],\n",
    "            dtype=dtype,\n",
    "            device=device,\n",
    "        )\n",
    "        hand = hand @ R2.T\n",
    "\n",
    "    return hand"
   ]
  },
  {
   "cell_type": "code",
   "execution_count": 714,
   "id": "0fdd6c31",
   "metadata": {},
   "outputs": [],
   "source": [
    "import time\n",
    "import matplotlib.pyplot as plt\n",
    "import torch\n",
    "\n",
    "\n",
    "def inverse_hand_kinematics(y, x_init=None, show_plots=False):\n",
    "    # y: B, L, 3\n",
    "\n",
    "    scaler = 10.0\n",
    "\n",
    "    if show_plots:\n",
    "        start_time = time.time()\n",
    "\n",
    "    y = scaler * normalize_hand(y)\n",
    "\n",
    "    B, L = y.shape[0], y.shape[1]\n",
    "    C = 20\n",
    "\n",
    "    if x_init is not None:\n",
    "        x = x_init.clone().detach().to(y.device).requires_grad_(True)\n",
    "    else:\n",
    "        x = torch.zeros(B, C, device=y.device, requires_grad=True)\n",
    "\n",
    "    # lr estimated from initial error\n",
    "    y_hat = scaler * normalize_hand(forward_hand_kinematics(x))\n",
    "    mx_s_err = ((y_hat - y) ** 2).sum(dim=-1).max()\n",
    "    mx_err = mx_s_err.sqrt()\n",
    "    mx_s_err = mx_s_err.item()\n",
    "\n",
    "    optimizer = torch.optim.NAdam([x], lr=mx_s_err * 0.005)\n",
    "    scheduler = torch.optim.lr_scheduler.LinearLR(\n",
    "        optimizer,\n",
    "        start_factor=1.0,\n",
    "        end_factor=0.1,\n",
    "        total_iters=6,\n",
    "    )\n",
    "\n",
    "    err_history = []\n",
    "    lr_history = []\n",
    "    mx_history = []\n",
    "\n",
    "    for _ in range(6):\n",
    "        optimizer.zero_grad()\n",
    "        y_hat = scaler * normalize_hand(forward_hand_kinematics(x))\n",
    "        loss = ((y_hat - y) ** 2).sum(dim=-1).mean()\n",
    "        loss.backward()\n",
    "        optimizer.step()\n",
    "        scheduler.step()\n",
    "\n",
    "        mx_err = ((y_hat - y) ** 2).sum(dim=-1).max().sqrt().item()\n",
    "\n",
    "        if show_plots:\n",
    "            err_history.append(loss.sqrt().item())\n",
    "            lr_history.append(optimizer.param_groups[0][\"lr\"])\n",
    "            mx_history.append(mx_err)\n",
    "\n",
    "        if mx_err < 1:\n",
    "            break\n",
    "\n",
    "    if show_plots:\n",
    "        elapsed = (time.time() - start_time) * 1000  # type: ignore\n",
    "        fps = y.shape[0] / (elapsed / 1000)\n",
    "\n",
    "        print(\n",
    "            f\"time = {int(elapsed)}ms, fps = {fps:.2f}, final rmse = {err_history[-1]:.2f}, final max err={mx_err:.2f}\"\n",
    "        )\n",
    "\n",
    "        # Plot max error progression\n",
    "        plt.figure(figsize=(6, 4))\n",
    "        plt.plot(mx_history, label=\"Max Error\")\n",
    "        plt.yscale(\"log\")\n",
    "        plt.xlabel(\"Iteration\")\n",
    "        plt.ylabel(\"Max Error\")\n",
    "        plt.title(f\"Max Error Progression\")\n",
    "        plt.legend()\n",
    "        plt.tight_layout()\n",
    "        plt.show()\n",
    "\n",
    "        # Plot error progression\n",
    "        plt.figure(figsize=(6, 4))\n",
    "        plt.plot(err_history, label=\"RMSE\")\n",
    "        plt.yscale(\"log\")\n",
    "        plt.xlabel(\"Iteration\")\n",
    "        plt.ylabel(\"RMSE\")\n",
    "        plt.title(f\"Error Progression\")\n",
    "        plt.legend()\n",
    "        plt.tight_layout()\n",
    "        plt.show()\n",
    "\n",
    "        # Plot LR schedule\n",
    "        if scheduler:\n",
    "            plt.figure(figsize=(6, 2))\n",
    "            plt.plot(lr_history, label=\"LR\")\n",
    "            plt.xlabel(\"Iteration\")\n",
    "            plt.ylabel(\"Learning Rate\")\n",
    "            plt.title(f\"LR Schedule\")\n",
    "            plt.tight_layout()\n",
    "            plt.show()\n",
    "\n",
    "    return x"
   ]
  },
  {
   "cell_type": "code",
   "execution_count": 715,
   "id": "51df87f0",
   "metadata": {},
   "outputs": [
    {
     "data": {
      "text/plain": [
       "torch.Size([1, 20, 3])"
      ]
     },
     "execution_count": 715,
     "metadata": {},
     "output_type": "execute_result"
    }
   ],
   "source": [
    "from random import randint\n",
    "\n",
    "i = randint(0, 40)\n",
    "\n",
    "landmarks = forward_hand_kinematics(frames[i : i + 1])\n",
    "landmarks = landmarks + torch.randn_like(landmarks) * 3.0\n",
    "landmarks.shape"
   ]
  },
  {
   "cell_type": "code",
   "execution_count": 716,
   "id": "157ddc48",
   "metadata": {},
   "outputs": [
    {
     "name": "stdout",
     "output_type": "stream",
     "text": [
      "time = 38ms, fps = 26.16, final rmse = 1.03, final max err=1.96\n"
     ]
    },
    {
     "data": {
      "image/png": "[encoded data removed]",
      "text/plain": [
       "<Figure size 600x400 with 1 Axes>"
      ]
     },
     "metadata": {},
     "output_type": "display_data"
    },
    {
     "data": {
      "image/png": "[encoded data removed]",
      "text/plain": [
       "<Figure size 600x400 with 1 Axes>"
      ]
     },
     "metadata": {},
     "output_type": "display_data"
    },
    {
     "data": {
      "image/png": "[encoded data removed]",
      "text/plain": [
       "<Figure size 600x200 with 1 Axes>"
      ]
     },
     "metadata": {},
     "output_type": "display_data"
    },
    {
     "data": {
      "text/plain": [
       "torch.Size([1, 20])"
      ]
     },
     "execution_count": 716,
     "metadata": {},
     "output_type": "execute_result"
    }
   ],
   "source": [
    "angles = inverse_hand_kinematics(landmarks, show_plots=True)\n",
    "angles.shape"
   ]
  },
  {
   "cell_type": "code",
   "execution_count": 717,
   "id": "edb52c99",
   "metadata": {},
   "outputs": [],
   "source": [
    "import plotly.graph_objects as go\n",
    "import numpy as np\n",
    "import torch\n",
    "\n",
    "\n",
    "def plot_3d_hand(landmarks: torch.Tensor | np.ndarray):\n",
    "    if isinstance(landmarks, torch.Tensor):\n",
    "        landmarks = landmarks.detach().cpu().numpy()\n",
    "\n",
    "    fig = go.Figure()\n",
    "    n_pts = landmarks.shape[0]\n",
    "    labels = [str(i) for i in range(n_pts)]\n",
    "\n",
    "    # Plot landmarks as 3D markers + text labels\n",
    "    fig.add_trace(\n",
    "        go.Scatter3d(\n",
    "            x=landmarks[:, 0],\n",
    "            y=landmarks[:, 1],\n",
    "            z=landmarks[:, 2],\n",
    "            mode=\"markers+text\",\n",
    "            marker=dict(size=4, color=\"blue\"),\n",
    "            text=labels,\n",
    "            textposition=\"top center\",\n",
    "            textfont=dict(size=8, color=\"black\"),\n",
    "            name=\"Landmarks\",\n",
    "        )\n",
    "    )\n",
    "\n",
    "    connections = [\n",
    "        (0, 1),\n",
    "        (1, 2),\n",
    "        (2, 3),  # Thumb\n",
    "        (0, 4),\n",
    "        (4, 5),\n",
    "        (5, 6),\n",
    "        (6, 7),  # Index\n",
    "        (0, 8),\n",
    "        (8, 9),\n",
    "        (9, 10),\n",
    "        (10, 11),  # Middle\n",
    "        (0, 12),\n",
    "        (12, 13),\n",
    "        (13, 14),\n",
    "        (14, 15),  # Ring\n",
    "        (0, 16),\n",
    "        (16, 17),\n",
    "        (17, 18),\n",
    "        (18, 19),  # Pinky\n",
    "        # Palm\n",
    "        (1, 4),\n",
    "        (4, 8),\n",
    "        (8, 12),\n",
    "        (12, 16),\n",
    "    ]\n",
    "\n",
    "    # Plot connections (lines) between the landmarks\n",
    "    for i, j in connections:\n",
    "        fig.add_trace(\n",
    "            go.Scatter3d(\n",
    "                x=[landmarks[i, 0], landmarks[j, 0]],\n",
    "                y=[landmarks[i, 1], landmarks[j, 1]],\n",
    "                z=[landmarks[i, 2], landmarks[j, 2]],\n",
    "                mode=\"lines\",\n",
    "                line=dict(color=\"black\", width=2),\n",
    "                showlegend=False,\n",
    "            )\n",
    "        )\n",
    "\n",
    "    fig.update_layout(\n",
    "        scene=dict(xaxis_title=\"X\", yaxis_title=\"Y\", zaxis_title=\"Z\"),\n",
    "        title=\"3D Hand Pose with Point Labels\",\n",
    "        margin=dict(l=0, r=0, b=0, t=30),\n",
    "    )\n",
    "\n",
    "    fig.show()"
   ]
  },
  {
   "cell_type": "code",
   "execution_count": 718,
   "id": "3e3f55be",
   "metadata": {},
   "outputs": [
    {
     "data": {
      "application/vnd.plotly.v1+json": {
       "config": {
        "plotlyServerURL": "https://plot.ly"
       },
       "data": [
        {
         "marker": {
          "color": "blue",
          "size": 4
         },
         "mode": "markers+text",
         "name": "Landmarks",
         "text": [
          "0",
          "1",
          "2",
          "3",
          "4",
          "5",
          "6",
          "7",
          "8",
          "9",
          "10",
          "11",
          "12",
          "13",
          "14",
          "15",
          "16",
          "17",
          "18",
          "19"
         ],
         "textfont": {
          "color": "black",
          "size": 8
         },
         "textposition": "top center",
         "type": "scatter3d",
         "x": [
          0,
          0.2758530378341675,
          0.3106957674026489,
          0.5259228944778442,
          -7.450580596923828e-9,
          0.2736817002296448,
          0.4640481472015381,
          0.6855784058570862,
          -1.6156096904751394e-8,
          0.3724815845489502,
          0.6403007507324219,
          0.8375993371009827,
          0.12692293524742126,
          0.4837770164012909,
          0.6488741636276245,
          0.8384578824043274,
          0.3064337372779846,
          0.5798501968383789,
          0.7382633090019226,
          0.7972471117973328
         ],
         "y": [
          0,
          0.6782227754592896,
          1.0038018226623535,
          1.1605224609375,
          1.1108630895614624,
          1.3757562637329102,
          1.4529087543487549,
          1.3699618577957153,
          1,
          1.351884365081787,
          1.2095279693603516,
          1.1780614852905273,
          0.9156885147094727,
          1.2762224674224854,
          1.2459295988082886,
          1.0775926113128662,
          0.6873812675476074,
          1.0578421354293823,
          1.1018500328063965,
          1.0598297119140625
         ],
         "z": [
          0,
          0.4744628667831421,
          0.4751013517379761,
          0.2828756272792816,
          0.31147387623786926,
          0.1696942150592804,
          0.2811663746833801,
          0.4276239275932312,
          -7.509081356715797e-9,
          -0.08918827772140503,
          0.054265767335891724,
          0.2547686994075775,
          -0.11688587814569473,
          -0.21863611042499542,
          -0.17268157005310059,
          0.13581906259059906,
          -0.2371646612882614,
          -0.3558141589164734,
          -0.3704068660736084,
          -0.10326635837554932
         ]
        },
        {
         "line": {
          "color": "black",
          "width": 2
         },
         "mode": "lines",
         "showlegend": false,
         "type": "scatter3d",
         "x": [
          0,
          0.2758530378341675
         ],
         "y": [
          0,
          0.6782227754592896
         ],
         "z": [
          0,
          0.4744628667831421
         ]
        },
        {
         "line": {
          "color": "black",
          "width": 2
         },
         "mode": "lines",
         "showlegend": false,
         "type": "scatter3d",
         "x": [
          0.2758530378341675,
          0.3106957674026489
         ],
         "y": [
          0.6782227754592896,
          1.0038018226623535
         ],
         "z": [
          0.4744628667831421,
          0.4751013517379761
         ]
        },
        {
         "line": {
          "color": "black",
          "width": 2
         },
         "mode": "lines",
         "showlegend": false,
         "type": "scatter3d",
         "x": [
          0.3106957674026489,
          0.5259228944778442
         ],
         "y": [
          1.0038018226623535,
          1.1605224609375
         ],
         "z": [
          0.4751013517379761,
          0.2828756272792816
         ]
        },
        {
         "line": {
          "color": "black",
          "width": 2
         },
         "mode": "lines",
         "showlegend": false,
         "type": "scatter3d",
         "x": [
          0,
          -7.450580596923828e-9
         ],
         "y": [
          0,
          1.1108630895614624
         ],
         "z": [
          0,
          0.31147387623786926
         ]
        },
        {
         "line": {
          "color": "black",
          "width": 2
         },
         "mode": "lines",
         "showlegend": false,
         "type": "scatter3d",
         "x": [
          -7.450580596923828e-9,
          0.2736817002296448
         ],
         "y": [
          1.1108630895614624,
          1.3757562637329102
         ],
         "z": [
          0.31147387623786926,
          0.1696942150592804
         ]
        },
        {
         "line": {
          "color": "black",
          "width": 2
         },
         "mode": "lines",
         "showlegend": false,
         "type": "scatter3d",
         "x": [
          0.2736817002296448,
          0.4640481472015381
         ],
         "y": [
          1.3757562637329102,
          1.4529087543487549
         ],
         "z": [
          0.1696942150592804,
          0.2811663746833801
         ]
        },
        {
         "line": {
          "color": "black",
          "width": 2
         },
         "mode": "lines",
         "showlegend": false,
         "type": "scatter3d",
         "x": [
          0.4640481472015381,
          0.6855784058570862
         ],
         "y": [
          1.4529087543487549,
          1.3699618577957153
         ],
         "z": [
          0.2811663746833801,
          0.4276239275932312
         ]
        },
        {
         "line": {
          "color": "black",
          "width": 2
         },
         "mode": "lines",
         "showlegend": false,
         "type": "scatter3d",
         "x": [
          0,
          -1.6156096904751394e-8
         ],
         "y": [
          0,
          1
         ],
         "z": [
          0,
          -7.509081356715797e-9
         ]
        },
        {
         "line": {
          "color": "black",
          "width": 2
         },
         "mode": "lines",
         "showlegend": false,
         "type": "scatter3d",
         "x": [
          -1.6156096904751394e-8,
          0.3724815845489502
         ],
         "y": [
          1,
          1.351884365081787
         ],
         "z": [
          -7.509081356715797e-9,
          -0.08918827772140503
         ]
        },
        {
         "line": {
          "color": "black",
          "width": 2
         },
         "mode": "lines",
         "showlegend": false,
         "type": "scatter3d",
         "x": [
          0.3724815845489502,
          0.6403007507324219
         ],
         "y": [
          1.351884365081787,
          1.2095279693603516
         ],
         "z": [
          -0.08918827772140503,
          0.054265767335891724
         ]
        },
        {
         "line": {
          "color": "black",
          "width": 2
         },
         "mode": "lines",
         "showlegend": false,
         "type": "scatter3d",
         "x": [
          0.6403007507324219,
          0.8375993371009827
         ],
         "y": [
          1.2095279693603516,
          1.1780614852905273
         ],
         "z": [
          0.054265767335891724,
          0.2547686994075775
         ]
        },
        {
         "line": {
          "color": "black",
          "width": 2
         },
         "mode": "lines",
         "showlegend": false,
         "type": "scatter3d",
         "x": [
          0,
          0.12692293524742126
         ],
         "y": [
          0,
          0.9156885147094727
         ],
         "z": [
          0,
          -0.11688587814569473
         ]
        },
        {
         "line": {
          "color": "black",
          "width": 2
         },
         "mode": "lines",
         "showlegend": false,
         "type": "scatter3d",
         "x": [
          0.12692293524742126,
          0.4837770164012909
         ],
         "y": [
          0.9156885147094727,
          1.2762224674224854
         ],
         "z": [
          -0.11688587814569473,
          -0.21863611042499542
         ]
        },
        {
         "line": {
          "color": "black",
          "width": 2
         },
         "mode": "lines",
         "showlegend": false,
         "type": "scatter3d",
         "x": [
          0.4837770164012909,
          0.6488741636276245
         ],
         "y": [
          1.2762224674224854,
          1.2459295988082886
         ],
         "z": [
          -0.21863611042499542,
          -0.17268157005310059
         ]
        },
        {
         "line": {
          "color": "black",
          "width": 2
         },
         "mode": "lines",
         "showlegend": false,
         "type": "scatter3d",
         "x": [
          0.6488741636276245,
          0.8384578824043274
         ],
         "y": [
          1.2459295988082886,
          1.0775926113128662
         ],
         "z": [
          -0.17268157005310059,
          0.13581906259059906
         ]
        },
        {
         "line": {
          "color": "black",
          "width": 2
         },
         "mode": "lines",
         "showlegend": false,
         "type": "scatter3d",
         "x": [
          0,
          0.3064337372779846
         ],
         "y": [
          0,
          0.6873812675476074
         ],
         "z": [
          0,
          -0.2371646612882614
         ]
        },
        {
         "line": {
          "color": "black",
          "width": 2
         },
         "mode": "lines",
         "showlegend": false,
         "type": "scatter3d",
         "x": [
          0.3064337372779846,
          0.5798501968383789
         ],
         "y": [
          0.6873812675476074,
          1.0578421354293823
         ],
         "z": [
          -0.2371646612882614,
          -0.3558141589164734
         ]
        },
        {
         "line": {
          "color": "black",
          "width": 2
         },
         "mode": "lines",
         "showlegend": false,
         "type": "scatter3d",
         "x": [
          0.5798501968383789,
          0.7382633090019226
         ],
         "y": [
          1.0578421354293823,
          1.1018500328063965
         ],
         "z": [
          -0.3558141589164734,
          -0.3704068660736084
         ]
        },
        {
         "line": {
          "color": "black",
          "width": 2
         },
         "mode": "lines",
         "showlegend": false,
         "type": "scatter3d",
         "x": [
          0.7382633090019226,
          0.7972471117973328
         ],
         "y": [
          1.1018500328063965,
          1.0598297119140625
         ],
         "z": [
          -0.3704068660736084,
          -0.10326635837554932
         ]
        },
        {
         "line": {
          "color": "black",
          "width": 2
         },
         "mode": "lines",
         "showlegend": false,
         "type": "scatter3d",
         "x": [
          0.2758530378341675,
          -7.450580596923828e-9
         ],
         "y": [
          0.6782227754592896,
          1.1108630895614624
         ],
         "z": [
          0.4744628667831421,
          0.31147387623786926
         ]
        },
        {
         "line": {
          "color": "black",
          "width": 2
         },
         "mode": "lines",
         "showlegend": false,
         "type": "scatter3d",
         "x": [
          -7.450580596923828e-9,
          -1.6156096904751394e-8
         ],
         "y": [
          1.1108630895614624,
          1
         ],
         "z": [
          0.31147387623786926,
          -7.509081356715797e-9
         ]
        },
        {
         "line": {
          "color": "black",
          "width": 2
         },
         "mode": "lines",
         "showlegend": false,
         "type": "scatter3d",
         "x": [
          -1.6156096904751394e-8,
          0.12692293524742126
         ],
         "y": [
          1,
          0.9156885147094727
         ],
         "z": [
          -7.509081356715797e-9,
          -0.11688587814569473
         ]
        },
        {
         "line": {
          "color": "black",
          "width": 2
         },
         "mode": "lines",
         "showlegend": false,
         "type": "scatter3d",
         "x": [
          0.12692293524742126,
          0.3064337372779846
         ],
         "y": [
          0.9156885147094727,
          0.6873812675476074
         ],
         "z": [
          -0.11688587814569473,
          -0.2371646612882614
         ]
        }
       ],
       "layout": {
        "margin": {
         "b": 0,
         "l": 0,
         "r": 0,
         "t": 30
        },
        "scene": {
         "xaxis": {
          "title": {
           "text": "X"
          }
         },
         "yaxis": {
          "title": {
           "text": "Y"
          }
         },
         "zaxis": {
          "title": {
           "text": "Z"
          }
         }
        },
        "template": {
         "data": {
          "bar": [
           {
            "error_x": {
             "color": "#2a3f5f"
            },
            "error_y": {
             "color": "#2a3f5f"
            },
            "marker": {
             "line": {
              "color": "#E5ECF6",
              "width": 0.5
             },
             "pattern": {
              "fillmode": "overlay",
              "size": 10,
              "solidity": 0.2
             }
            },
            "type": "bar"
           }
          ],
          "barpolar": [
           {
            "marker": {
             "line": {
              "color": "#E5ECF6",
              "width": 0.5
             },
             "pattern": {
              "fillmode": "overlay",
              "size": 10,
              "solidity": 0.2
             }
            },
            "type": "barpolar"
           }
          ],
          "carpet": [
           {
            "aaxis": {
             "endlinecolor": "#2a3f5f",
             "gridcolor": "white",
             "linecolor": "white",
             "minorgridcolor": "white",
             "startlinecolor": "#2a3f5f"
            },
            "baxis": {
             "endlinecolor": "#2a3f5f",
             "gridcolor": "white",
             "linecolor": "white",
             "minorgridcolor": "white",
             "startlinecolor": "#2a3f5f"
            },
            "type": "carpet"
           }
          ],
          "choropleth": [
           {
            "colorbar": {
             "outlinewidth": 0,
             "ticks": ""
            },
            "type": "choropleth"
           }
          ],
          "contour": [
           {
            "colorbar": {
             "outlinewidth": 0,
             "ticks": ""
            },
            "colorscale": [
             [
              0,
              "#0d0887"
             ],
             [
              0.1111111111111111,
              "#46039f"
             ],
             [
              0.2222222222222222,
              "#7201a8"
             ],
             [
              0.3333333333333333,
              "#9c179e"
             ],
             [
              0.4444444444444444,
              "#bd3786"
             ],
             [
              0.5555555555555556,
              "#d8576b"
             ],
             [
              0.6666666666666666,
              "#ed7953"
             ],
             [
              0.7777777777777778,
              "#fb9f3a"
             ],
             [
              0.8888888888888888,
              "#fdca26"
             ],
             [
              1,
              "#f0f921"
             ]
            ],
            "type": "contour"
           }
          ],
          "contourcarpet": [
           {
            "colorbar": {
             "outlinewidth": 0,
             "ticks": ""
            },
            "type": "contourcarpet"
           }
          ],
          "heatmap": [
           {
            "colorbar": {
             "outlinewidth": 0,
             "ticks": ""
            },
            "colorscale": [
             [
              0,
              "#0d0887"
             ],
             [
              0.1111111111111111,
              "#46039f"
             ],
             [
              0.2222222222222222,
              "#7201a8"
             ],
             [
              0.3333333333333333,
              "#9c179e"
             ],
             [
              0.4444444444444444,
              "#bd3786"
             ],
             [
              0.5555555555555556,
              "#d8576b"
             ],
             [
              0.6666666666666666,
              "#ed7953"
             ],
             [
              0.7777777777777778,
              "#fb9f3a"
             ],
             [
              0.8888888888888888,
              "#fdca26"
             ],
             [
              1,
              "#f0f921"
             ]
            ],
            "type": "heatmap"
           }
          ],
          "heatmapgl": [
           {
            "colorbar": {
             "outlinewidth": 0,
             "ticks": ""
            },
            "colorscale": [
             [
              0,
              "#0d0887"
             ],
             [
              0.1111111111111111,
              "#46039f"
             ],
             [
              0.2222222222222222,
              "#7201a8"
             ],
             [
              0.3333333333333333,
              "#9c179e"
             ],
             [
              0.4444444444444444,
              "#bd3786"
             ],
             [
              0.5555555555555556,
              "#d8576b"
             ],
             [
              0.6666666666666666,
              "#ed7953"
             ],
             [
              0.7777777777777778,
              "#fb9f3a"
             ],
             [
              0.8888888888888888,
              "#fdca26"
             ],
             [
              1,
              "#f0f921"
             ]
            ],
            "type": "heatmapgl"
           }
          ],
          "histogram": [
           {
            "marker": {
             "pattern": {
              "fillmode": "overlay",
              "size": 10,
              "solidity": 0.2
             }
            },
            "type": "histogram"
           }
          ],
          "histogram2d": [
           {
            "colorbar": {
             "outlinewidth": 0,
             "ticks": ""
            },
            "colorscale": [
             [
              0,
              "#0d0887"
             ],
             [
              0.1111111111111111,
              "#46039f"
             ],
             [
              0.2222222222222222,
              "#7201a8"
             ],
             [
              0.3333333333333333,
              "#9c179e"
             ],
             [
              0.4444444444444444,
              "#bd3786"
             ],
             [
              0.5555555555555556,
              "#d8576b"
             ],
             [
              0.6666666666666666,
              "#ed7953"
             ],
             [
              0.7777777777777778,
              "#fb9f3a"
             ],
             [
              0.8888888888888888,
              "#fdca26"
             ],
             [
              1,
              "#f0f921"
             ]
            ],
            "type": "histogram2d"
           }
          ],
          "histogram2dcontour": [
           {
            "colorbar": {
             "outlinewidth": 0,
             "ticks": ""
            },
            "colorscale": [
             [
              0,
              "#0d0887"
             ],
             [
              0.1111111111111111,
              "#46039f"
             ],
             [
              0.2222222222222222,
              "#7201a8"
             ],
             [
              0.3333333333333333,
              "#9c179e"
             ],
             [
              0.4444444444444444,
              "#bd3786"
             ],
             [
              0.5555555555555556,
              "#d8576b"
             ],
             [
              0.6666666666666666,
              "#ed7953"
             ],
             [
              0.7777777777777778,
              "#fb9f3a"
             ],
             [
              0.8888888888888888,
              "#fdca26"
             ],
             [
              1,
              "#f0f921"
             ]
            ],
            "type": "histogram2dcontour"
           }
          ],
          "mesh3d": [
           {
            "colorbar": {
             "outlinewidth": 0,
             "ticks": ""
            },
            "type": "mesh3d"
           }
          ],
          "parcoords": [
           {
            "line": {
             "colorbar": {
              "outlinewidth": 0,
              "ticks": ""
             }
            },
            "type": "parcoords"
           }
          ],
          "pie": [
           {
            "automargin": true,
            "type": "pie"
           }
          ],
          "scatter": [
           {
            "fillpattern": {
             "fillmode": "overlay",
             "size": 10,
             "solidity": 0.2
            },
            "type": "scatter"
           }
          ],
          "scatter3d": [
           {
            "line": {
             "colorbar": {
              "outlinewidth": 0,
              "ticks": ""
             }
            },
            "marker": {
             "colorbar": {
              "outlinewidth": 0,
              "ticks": ""
             }
            },
            "type": "scatter3d"
           }
          ],
          "scattercarpet": [
           {
            "marker": {
             "colorbar": {
              "outlinewidth": 0,
              "ticks": ""
             }
            },
            "type": "scattercarpet"
           }
          ],
          "scattergeo": [
           {
            "marker": {
             "colorbar": {
              "outlinewidth": 0,
              "ticks": ""
             }
            },
            "type": "scattergeo"
           }
          ],
          "scattergl": [
           {
            "marker": {
             "colorbar": {
              "outlinewidth": 0,
              "ticks": ""
             }
            },
            "type": "scattergl"
           }
          ],
          "scattermapbox": [
           {
            "marker": {
             "colorbar": {
              "outlinewidth": 0,
              "ticks": ""
             }
            },
            "type": "scattermapbox"
           }
          ],
          "scatterpolar": [
           {
            "marker": {
             "colorbar": {
              "outlinewidth": 0,
              "ticks": ""
             }
            },
            "type": "scatterpolar"
           }
          ],
          "scatterpolargl": [
           {
            "marker": {
             "colorbar": {
              "outlinewidth": 0,
              "ticks": ""
             }
            },
            "type": "scatterpolargl"
           }
          ],
          "scatterternary": [
           {
            "marker": {
             "colorbar": {
              "outlinewidth": 0,
              "ticks": ""
             }
            },
            "type": "scatterternary"
           }
          ],
          "surface": [
           {
            "colorbar": {
             "outlinewidth": 0,
             "ticks": ""
            },
            "colorscale": [
             [
              0,
              "#0d0887"
             ],
             [
              0.1111111111111111,
              "#46039f"
             ],
             [
              0.2222222222222222,
              "#7201a8"
             ],
             [
              0.3333333333333333,
              "#9c179e"
             ],
             [
              0.4444444444444444,
              "#bd3786"
             ],
             [
              0.5555555555555556,
              "#d8576b"
             ],
             [
              0.6666666666666666,
              "#ed7953"
             ],
             [
              0.7777777777777778,
              "#fb9f3a"
             ],
             [
              0.8888888888888888,
              "#fdca26"
             ],
             [
              1,
              "#f0f921"
             ]
            ],
            "type": "surface"
           }
          ],
          "table": [
           {
            "cells": {
             "fill": {
              "color": "#EBF0F8"
             },
             "line": {
              "color": "white"
             }
            },
            "header": {
             "fill": {
              "color": "#C8D4E3"
             },
             "line": {
              "color": "white"
             }
            },
            "type": "table"
           }
          ]
         },
         "layout": {
          "annotationdefaults": {
           "arrowcolor": "#2a3f5f",
           "arrowhead": 0,
           "arrowwidth": 1
          },
          "autotypenumbers": "strict",
          "coloraxis": {
           "colorbar": {
            "outlinewidth": 0,
            "ticks": ""
           }
          },
          "colorscale": {
           "diverging": [
            [
             0,
             "#8e0152"
            ],
            [
             0.1,
             "#c51b7d"
            ],
            [
             0.2,
             "#de77ae"
            ],
            [
             0.3,
             "#f1b6da"
            ],
            [
             0.4,
             "#fde0ef"
            ],
            [
             0.5,
             "#f7f7f7"
            ],
            [
             0.6,
             "#e6f5d0"
            ],
            [
             0.7,
             "#b8e186"
            ],
            [
             0.8,
             "#7fbc41"
            ],
            [
             0.9,
             "#4d9221"
            ],
            [
             1,
             "#276419"
            ]
           ],
           "sequential": [
            [
             0,
             "#0d0887"
            ],
            [
             0.1111111111111111,
             "#46039f"
            ],
            [
             0.2222222222222222,
             "#7201a8"
            ],
            [
             0.3333333333333333,
             "#9c179e"
            ],
            [
             0.4444444444444444,
             "#bd3786"
            ],
            [
             0.5555555555555556,
             "#d8576b"
            ],
            [
             0.6666666666666666,
             "#ed7953"
            ],
            [
             0.7777777777777778,
             "#fb9f3a"
            ],
            [
             0.8888888888888888,
             "#fdca26"
            ],
            [
             1,
             "#f0f921"
            ]
           ],
           "sequentialminus": [
            [
             0,
             "#0d0887"
            ],
            [
             0.1111111111111111,
             "#46039f"
            ],
            [
             0.2222222222222222,
             "#7201a8"
            ],
            [
             0.3333333333333333,
             "#9c179e"
            ],
            [
             0.4444444444444444,
             "#bd3786"
            ],
            [
             0.5555555555555556,
             "#d8576b"
            ],
            [
             0.6666666666666666,
             "#ed7953"
            ],
            [
             0.7777777777777778,
             "#fb9f3a"
            ],
            [
             0.8888888888888888,
             "#fdca26"
            ],
            [
             1,
             "#f0f921"
            ]
           ]
          },
          "colorway": [
           "#636efa",
           "#EF553B",
           "#00cc96",
           "#ab63fa",
           "#FFA15A",
           "#19d3f3",
           "#FF6692",
           "#B6E880",
           "#FF97FF",
           "#FECB52"
          ],
          "font": {
           "color": "#2a3f5f"
          },
          "geo": {
           "bgcolor": "white",
           "lakecolor": "white",
           "landcolor": "#E5ECF6",
           "showlakes": true,
           "showland": true,
           "subunitcolor": "white"
          },
          "hoverlabel": {
           "align": "left"
          },
          "hovermode": "closest",
          "mapbox": {
           "style": "light"
          },
          "paper_bgcolor": "white",
          "plot_bgcolor": "#E5ECF6",
          "polar": {
           "angularaxis": {
            "gridcolor": "white",
            "linecolor": "white",
            "ticks": ""
           },
           "bgcolor": "#E5ECF6",
           "radialaxis": {
            "gridcolor": "white",
            "linecolor": "white",
            "ticks": ""
           }
          },
          "scene": {
           "xaxis": {
            "backgroundcolor": "#E5ECF6",
            "gridcolor": "white",
            "gridwidth": 2,
            "linecolor": "white",
            "showbackground": true,
            "ticks": "",
            "zerolinecolor": "white"
           },
           "yaxis": {
            "backgroundcolor": "#E5ECF6",
            "gridcolor": "white",
            "gridwidth": 2,
            "linecolor": "white",
            "showbackground": true,
            "ticks": "",
            "zerolinecolor": "white"
           },
           "zaxis": {
            "backgroundcolor": "#E5ECF6",
            "gridcolor": "white",
            "gridwidth": 2,
            "linecolor": "white",
            "showbackground": true,
            "ticks": "",
            "zerolinecolor": "white"
           }
          },
          "shapedefaults": {
           "line": {
            "color": "#2a3f5f"
           }
          },
          "ternary": {
           "aaxis": {
            "gridcolor": "white",
            "linecolor": "white",
            "ticks": ""
           },
           "baxis": {
            "gridcolor": "white",
            "linecolor": "white",
            "ticks": ""
           },
           "bgcolor": "#E5ECF6",
           "caxis": {
            "gridcolor": "white",
            "linecolor": "white",
            "ticks": ""
           }
          },
          "title": {
           "x": 0.05
          },
          "xaxis": {
           "automargin": true,
           "gridcolor": "white",
           "linecolor": "white",
           "ticks": "",
           "title": {
            "standoff": 15
           },
           "zerolinecolor": "white",
           "zerolinewidth": 2
          },
          "yaxis": {
           "automargin": true,
           "gridcolor": "white",
           "linecolor": "white",
           "ticks": "",
           "title": {
            "standoff": 15
           },
           "zerolinecolor": "white",
           "zerolinewidth": 2
          }
         }
        },
        "title": {
         "text": "3D Hand Pose with Point Labels"
        }
       }
      }
     },
     "metadata": {},
     "output_type": "display_data"
    },
    {
     "data": {
      "application/vnd.plotly.v1+json": {
       "config": {
        "plotlyServerURL": "https://plot.ly"
       },
       "data": [
        {
         "marker": {
          "color": "blue",
          "size": 4
         },
         "mode": "markers+text",
         "name": "Landmarks",
         "text": [
          "0",
          "1",
          "2",
          "3",
          "4",
          "5",
          "6",
          "7",
          "8",
          "9",
          "10",
          "11",
          "12",
          "13",
          "14",
          "15",
          "16",
          "17",
          "18",
          "19"
         ],
         "textfont": {
          "color": "black",
          "size": 8
         },
         "textposition": "top center",
         "type": "scatter3d",
         "x": [
          0,
          0.28648728132247925,
          0.39015907049179077,
          0.4903428852558136,
          0,
          0.23958541452884674,
          0.4776274263858795,
          0.7073343396186829,
          -1.0027011398960894e-7,
          0.36051487922668457,
          0.6357975006103516,
          0.822704017162323,
          0.08506233990192413,
          0.40698856115341187,
          0.6673899292945862,
          0.832310676574707,
          0.1998564600944519,
          0.45561760663986206,
          0.6537575125694275,
          0.8101874589920044
         ],
         "y": [
          0,
          0.6963149905204773,
          1.0320618152618408,
          1.2302637100219727,
          1.0090901851654053,
          1.3238376379013062,
          1.4052139520645142,
          1.3725051879882812,
          1,
          1.2658957242965698,
          1.2342994213104248,
          1.093732476234436,
          0.9248722791671753,
          1.1739203929901123,
          1.1780385971069336,
          1.05720853805542,
          0.8107684850692749,
          1.0028972625732422,
          1.0451151132583618,
          1.0102410316467285
         ],
         "z": [
          0,
          0.41744232177734375,
          0.4524676203727722,
          0.32256096601486206,
          0.23330606520175934,
          0.2580283284187317,
          0.2928602695465088,
          0.3228759765625,
          -2.249392139219708e-8,
          -0.023441001772880554,
          0.054660096764564514,
          0.17091552913188934,
          -0.18534167110919952,
          -0.20520716905593872,
          -0.1088566780090332,
          0.043161459267139435,
          -0.3463313579559326,
          -0.37330061197280884,
          -0.3099934160709381,
          -0.14579565823078156
         ]
        },
        {
         "line": {
          "color": "black",
          "width": 2
         },
         "mode": "lines",
         "showlegend": false,
         "type": "scatter3d",
         "x": [
          0,
          0.28648728132247925
         ],
         "y": [
          0,
          0.6963149905204773
         ],
         "z": [
          0,
          0.41744232177734375
         ]
        },
        {
         "line": {
          "color": "black",
          "width": 2
         },
         "mode": "lines",
         "showlegend": false,
         "type": "scatter3d",
         "x": [
          0.28648728132247925,
          0.39015907049179077
         ],
         "y": [
          0.6963149905204773,
          1.0320618152618408
         ],
         "z": [
          0.41744232177734375,
          0.4524676203727722
         ]
        },
        {
         "line": {
          "color": "black",
          "width": 2
         },
         "mode": "lines",
         "showlegend": false,
         "type": "scatter3d",
         "x": [
          0.39015907049179077,
          0.4903428852558136
         ],
         "y": [
          1.0320618152618408,
          1.2302637100219727
         ],
         "z": [
          0.4524676203727722,
          0.32256096601486206
         ]
        },
        {
         "line": {
          "color": "black",
          "width": 2
         },
         "mode": "lines",
         "showlegend": false,
         "type": "scatter3d",
         "x": [
          0,
          0
         ],
         "y": [
          0,
          1.0090901851654053
         ],
         "z": [
          0,
          0.23330606520175934
         ]
        },
        {
         "line": {
          "color": "black",
          "width": 2
         },
         "mode": "lines",
         "showlegend": false,
         "type": "scatter3d",
         "x": [
          0,
          0.23958541452884674
         ],
         "y": [
          1.0090901851654053,
          1.3238376379013062
         ],
         "z": [
          0.23330606520175934,
          0.2580283284187317
         ]
        },
        {
         "line": {
          "color": "black",
          "width": 2
         },
         "mode": "lines",
         "showlegend": false,
         "type": "scatter3d",
         "x": [
          0.23958541452884674,
          0.4776274263858795
         ],
         "y": [
          1.3238376379013062,
          1.4052139520645142
         ],
         "z": [
          0.2580283284187317,
          0.2928602695465088
         ]
        },
        {
         "line": {
          "color": "black",
          "width": 2
         },
         "mode": "lines",
         "showlegend": false,
         "type": "scatter3d",
         "x": [
          0.4776274263858795,
          0.7073343396186829
         ],
         "y": [
          1.4052139520645142,
          1.3725051879882812
         ],
         "z": [
          0.2928602695465088,
          0.3228759765625
         ]
        },
        {
         "line": {
          "color": "black",
          "width": 2
         },
         "mode": "lines",
         "showlegend": false,
         "type": "scatter3d",
         "x": [
          0,
          -1.0027011398960894e-7
         ],
         "y": [
          0,
          1
         ],
         "z": [
          0,
          -2.249392139219708e-8
         ]
        },
        {
         "line": {
          "color": "black",
          "width": 2
         },
         "mode": "lines",
         "showlegend": false,
         "type": "scatter3d",
         "x": [
          -1.0027011398960894e-7,
          0.36051487922668457
         ],
         "y": [
          1,
          1.2658957242965698
         ],
         "z": [
          -2.249392139219708e-8,
          -0.023441001772880554
         ]
        },
        {
         "line": {
          "color": "black",
          "width": 2
         },
         "mode": "lines",
         "showlegend": false,
         "type": "scatter3d",
         "x": [
          0.36051487922668457,
          0.6357975006103516
         ],
         "y": [
          1.2658957242965698,
          1.2342994213104248
         ],
         "z": [
          -0.023441001772880554,
          0.054660096764564514
         ]
        },
        {
         "line": {
          "color": "black",
          "width": 2
         },
         "mode": "lines",
         "showlegend": false,
         "type": "scatter3d",
         "x": [
          0.6357975006103516,
          0.822704017162323
         ],
         "y": [
          1.2342994213104248,
          1.093732476234436
         ],
         "z": [
          0.054660096764564514,
          0.17091552913188934
         ]
        },
        {
         "line": {
          "color": "black",
          "width": 2
         },
         "mode": "lines",
         "showlegend": false,
         "type": "scatter3d",
         "x": [
          0,
          0.08506233990192413
         ],
         "y": [
          0,
          0.9248722791671753
         ],
         "z": [
          0,
          -0.18534167110919952
         ]
        },
        {
         "line": {
          "color": "black",
          "width": 2
         },
         "mode": "lines",
         "showlegend": false,
         "type": "scatter3d",
         "x": [
          0.08506233990192413,
          0.40698856115341187
         ],
         "y": [
          0.9248722791671753,
          1.1739203929901123
         ],
         "z": [
          -0.18534167110919952,
          -0.20520716905593872
         ]
        },
        {
         "line": {
          "color": "black",
          "width": 2
         },
         "mode": "lines",
         "showlegend": false,
         "type": "scatter3d",
         "x": [
          0.40698856115341187,
          0.6673899292945862
         ],
         "y": [
          1.1739203929901123,
          1.1780385971069336
         ],
         "z": [
          -0.20520716905593872,
          -0.1088566780090332
         ]
        },
        {
         "line": {
          "color": "black",
          "width": 2
         },
         "mode": "lines",
         "showlegend": false,
         "type": "scatter3d",
         "x": [
          0.6673899292945862,
          0.832310676574707
         ],
         "y": [
          1.1780385971069336,
          1.05720853805542
         ],
         "z": [
          -0.1088566780090332,
          0.043161459267139435
         ]
        },
        {
         "line": {
          "color": "black",
          "width": 2
         },
         "mode": "lines",
         "showlegend": false,
         "type": "scatter3d",
         "x": [
          0,
          0.1998564600944519
         ],
         "y": [
          0,
          0.8107684850692749
         ],
         "z": [
          0,
          -0.3463313579559326
         ]
        },
        {
         "line": {
          "color": "black",
          "width": 2
         },
         "mode": "lines",
         "showlegend": false,
         "type": "scatter3d",
         "x": [
          0.1998564600944519,
          0.45561760663986206
         ],
         "y": [
          0.8107684850692749,
          1.0028972625732422
         ],
         "z": [
          -0.3463313579559326,
          -0.37330061197280884
         ]
        },
        {
         "line": {
          "color": "black",
          "width": 2
         },
         "mode": "lines",
         "showlegend": false,
         "type": "scatter3d",
         "x": [
          0.45561760663986206,
          0.6537575125694275
         ],
         "y": [
          1.0028972625732422,
          1.0451151132583618
         ],
         "z": [
          -0.37330061197280884,
          -0.3099934160709381
         ]
        },
        {
         "line": {
          "color": "black",
          "width": 2
         },
         "mode": "lines",
         "showlegend": false,
         "type": "scatter3d",
         "x": [
          0.6537575125694275,
          0.8101874589920044
         ],
         "y": [
          1.0451151132583618,
          1.0102410316467285
         ],
         "z": [
          -0.3099934160709381,
          -0.14579565823078156
         ]
        },
        {
         "line": {
          "color": "black",
          "width": 2
         },
         "mode": "lines",
         "showlegend": false,
         "type": "scatter3d",
         "x": [
          0.28648728132247925,
          0
         ],
         "y": [
          0.6963149905204773,
          1.0090901851654053
         ],
         "z": [
          0.41744232177734375,
          0.23330606520175934
         ]
        },
        {
         "line": {
          "color": "black",
          "width": 2
         },
         "mode": "lines",
         "showlegend": false,
         "type": "scatter3d",
         "x": [
          0,
          -1.0027011398960894e-7
         ],
         "y": [
          1.0090901851654053,
          1
         ],
         "z": [
          0.23330606520175934,
          -2.249392139219708e-8
         ]
        },
        {
         "line": {
          "color": "black",
          "width": 2
         },
         "mode": "lines",
         "showlegend": false,
         "type": "scatter3d",
         "x": [
          -1.0027011398960894e-7,
          0.08506233990192413
         ],
         "y": [
          1,
          0.9248722791671753
         ],
         "z": [
          -2.249392139219708e-8,
          -0.18534167110919952
         ]
        },
        {
         "line": {
          "color": "black",
          "width": 2
         },
         "mode": "lines",
         "showlegend": false,
         "type": "scatter3d",
         "x": [
          0.08506233990192413,
          0.1998564600944519
         ],
         "y": [
          0.9248722791671753,
          0.8107684850692749
         ],
         "z": [
          -0.18534167110919952,
          -0.3463313579559326
         ]
        }
       ],
       "layout": {
        "margin": {
         "b": 0,
         "l": 0,
         "r": 0,
         "t": 30
        },
        "scene": {
         "xaxis": {
          "title": {
           "text": "X"
          }
         },
         "yaxis": {
          "title": {
           "text": "Y"
          }
         },
         "zaxis": {
          "title": {
           "text": "Z"
          }
         }
        },
        "template": {
         "data": {
          "bar": [
           {
            "error_x": {
             "color": "#2a3f5f"
            },
            "error_y": {
             "color": "#2a3f5f"
            },
            "marker": {
             "line": {
              "color": "#E5ECF6",
              "width": 0.5
             },
             "pattern": {
              "fillmode": "overlay",
              "size": 10,
              "solidity": 0.2
             }
            },
            "type": "bar"
           }
          ],
          "barpolar": [
           {
            "marker": {
             "line": {
              "color": "#E5ECF6",
              "width": 0.5
             },
             "pattern": {
              "fillmode": "overlay",
              "size": 10,
              "solidity": 0.2
             }
            },
            "type": "barpolar"
           }
          ],
          "carpet": [
           {
            "aaxis": {
             "endlinecolor": "#2a3f5f",
             "gridcolor": "white",
             "linecolor": "white",
             "minorgridcolor": "white",
             "startlinecolor": "#2a3f5f"
            },
            "baxis": {
             "endlinecolor": "#2a3f5f",
             "gridcolor": "white",
             "linecolor": "white",
             "minorgridcolor": "white",
             "startlinecolor": "#2a3f5f"
            },
            "type": "carpet"
           }
          ],
          "choropleth": [
           {
            "colorbar": {
             "outlinewidth": 0,
             "ticks": ""
            },
            "type": "choropleth"
           }
          ],
          "contour": [
           {
            "colorbar": {
             "outlinewidth": 0,
             "ticks": ""
            },
            "colorscale": [
             [
              0,
              "#0d0887"
             ],
             [
              0.1111111111111111,
              "#46039f"
             ],
             [
              0.2222222222222222,
              "#7201a8"
             ],
             [
              0.3333333333333333,
              "#9c179e"
             ],
             [
              0.4444444444444444,
              "#bd3786"
             ],
             [
              0.5555555555555556,
              "#d8576b"
             ],
             [
              0.6666666666666666,
              "#ed7953"
             ],
             [
              0.7777777777777778,
              "#fb9f3a"
             ],
             [
              0.8888888888888888,
              "#fdca26"
             ],
             [
              1,
              "#f0f921"
             ]
            ],
            "type": "contour"
           }
          ],
          "contourcarpet": [
           {
            "colorbar": {
             "outlinewidth": 0,
             "ticks": ""
            },
            "type": "contourcarpet"
           }
          ],
          "heatmap": [
           {
            "colorbar": {
             "outlinewidth": 0,
             "ticks": ""
            },
            "colorscale": [
             [
              0,
              "#0d0887"
             ],
             [
              0.1111111111111111,
              "#46039f"
             ],
             [
              0.2222222222222222,
              "#7201a8"
             ],
             [
              0.3333333333333333,
              "#9c179e"
             ],
             [
              0.4444444444444444,
              "#bd3786"
             ],
             [
              0.5555555555555556,
              "#d8576b"
             ],
             [
              0.6666666666666666,
              "#ed7953"
             ],
             [
              0.7777777777777778,
              "#fb9f3a"
             ],
             [
              0.8888888888888888,
              "#fdca26"
             ],
             [
              1,
              "#f0f921"
             ]
            ],
            "type": "heatmap"
           }
          ],
          "heatmapgl": [
           {
            "colorbar": {
             "outlinewidth": 0,
             "ticks": ""
            },
            "colorscale": [
             [
              0,
              "#0d0887"
             ],
             [
              0.1111111111111111,
              "#46039f"
             ],
             [
              0.2222222222222222,
              "#7201a8"
             ],
             [
              0.3333333333333333,
              "#9c179e"
             ],
             [
              0.4444444444444444,
              "#bd3786"
             ],
             [
              0.5555555555555556,
              "#d8576b"
             ],
             [
              0.6666666666666666,
              "#ed7953"
             ],
             [
              0.7777777777777778,
              "#fb9f3a"
             ],
             [
              0.8888888888888888,
              "#fdca26"
             ],
             [
              1,
              "#f0f921"
             ]
            ],
            "type": "heatmapgl"
           }
          ],
          "histogram": [
           {
            "marker": {
             "pattern": {
              "fillmode": "overlay",
              "size": 10,
              "solidity": 0.2
             }
            },
            "type": "histogram"
           }
          ],
          "histogram2d": [
           {
            "colorbar": {
             "outlinewidth": 0,
             "ticks": ""
            },
            "colorscale": [
             [
              0,
              "#0d0887"
             ],
             [
              0.1111111111111111,
              "#46039f"
             ],
             [
              0.2222222222222222,
              "#7201a8"
             ],
             [
              0.3333333333333333,
              "#9c179e"
             ],
             [
              0.4444444444444444,
              "#bd3786"
             ],
             [
              0.5555555555555556,
              "#d8576b"
             ],
             [
              0.6666666666666666,
              "#ed7953"
             ],
             [
              0.7777777777777778,
              "#fb9f3a"
             ],
             [
              0.8888888888888888,
              "#fdca26"
             ],
             [
              1,
              "#f0f921"
             ]
            ],
            "type": "histogram2d"
           }
          ],
          "histogram2dcontour": [
           {
            "colorbar": {
             "outlinewidth": 0,
             "ticks": ""
            },
            "colorscale": [
             [
              0,
              "#0d0887"
             ],
             [
              0.1111111111111111,
              "#46039f"
             ],
             [
              0.2222222222222222,
              "#7201a8"
             ],
             [
              0.3333333333333333,
              "#9c179e"
             ],
             [
              0.4444444444444444,
              "#bd3786"
             ],
             [
              0.5555555555555556,
              "#d8576b"
             ],
             [
              0.6666666666666666,
              "#ed7953"
             ],
             [
              0.7777777777777778,
              "#fb9f3a"
             ],
             [
              0.8888888888888888,
              "#fdca26"
             ],
             [
              1,
              "#f0f921"
             ]
            ],
            "type": "histogram2dcontour"
           }
          ],
          "mesh3d": [
           {
            "colorbar": {
             "outlinewidth": 0,
             "ticks": ""
            },
            "type": "mesh3d"
           }
          ],
          "parcoords": [
           {
            "line": {
             "colorbar": {
              "outlinewidth": 0,
              "ticks": ""
             }
            },
            "type": "parcoords"
           }
          ],
          "pie": [
           {
            "automargin": true,
            "type": "pie"
           }
          ],
          "scatter": [
           {
            "fillpattern": {
             "fillmode": "overlay",
             "size": 10,
             "solidity": 0.2
            },
            "type": "scatter"
           }
          ],
          "scatter3d": [
           {
            "line": {
             "colorbar": {
              "outlinewidth": 0,
              "ticks": ""
             }
            },
            "marker": {
             "colorbar": {
              "outlinewidth": 0,
              "ticks": ""
             }
            },
            "type": "scatter3d"
           }
          ],
          "scattercarpet": [
           {
            "marker": {
             "colorbar": {
              "outlinewidth": 0,
              "ticks": ""
             }
            },
            "type": "scattercarpet"
           }
          ],
          "scattergeo": [
           {
            "marker": {
             "colorbar": {
              "outlinewidth": 0,
              "ticks": ""
             }
            },
            "type": "scattergeo"
           }
          ],
          "scattergl": [
           {
            "marker": {
             "colorbar": {
              "outlinewidth": 0,
              "ticks": ""
             }
            },
            "type": "scattergl"
           }
          ],
          "scattermapbox": [
           {
            "marker": {
             "colorbar": {
              "outlinewidth": 0,
              "ticks": ""
             }
            },
            "type": "scattermapbox"
           }
          ],
          "scatterpolar": [
           {
            "marker": {
             "colorbar": {
              "outlinewidth": 0,
              "ticks": ""
             }
            },
            "type": "scatterpolar"
           }
          ],
          "scatterpolargl": [
           {
            "marker": {
             "colorbar": {
              "outlinewidth": 0,
              "ticks": ""
             }
            },
            "type": "scatterpolargl"
           }
          ],
          "scatterternary": [
           {
            "marker": {
             "colorbar": {
              "outlinewidth": 0,
              "ticks": ""
             }
            },
            "type": "scatterternary"
           }
          ],
          "surface": [
           {
            "colorbar": {
             "outlinewidth": 0,
             "ticks": ""
            },
            "colorscale": [
             [
              0,
              "#0d0887"
             ],
             [
              0.1111111111111111,
              "#46039f"
             ],
             [
              0.2222222222222222,
              "#7201a8"
             ],
             [
              0.3333333333333333,
              "#9c179e"
             ],
             [
              0.4444444444444444,
              "#bd3786"
             ],
             [
              0.5555555555555556,
              "#d8576b"
             ],
             [
              0.6666666666666666,
              "#ed7953"
             ],
             [
              0.7777777777777778,
              "#fb9f3a"
             ],
             [
              0.8888888888888888,
              "#fdca26"
             ],
             [
              1,
              "#f0f921"
             ]
            ],
            "type": "surface"
           }
          ],
          "table": [
           {
            "cells": {
             "fill": {
              "color": "#EBF0F8"
             },
             "line": {
              "color": "white"
             }
            },
            "header": {
             "fill": {
              "color": "#C8D4E3"
             },
             "line": {
              "color": "white"
             }
            },
            "type": "table"
           }
          ]
         },
         "layout": {
          "annotationdefaults": {
           "arrowcolor": "#2a3f5f",
           "arrowhead": 0,
           "arrowwidth": 1
          },
          "autotypenumbers": "strict",
          "coloraxis": {
           "colorbar": {
            "outlinewidth": 0,
            "ticks": ""
           }
          },
          "colorscale": {
           "diverging": [
            [
             0,
             "#8e0152"
            ],
            [
             0.1,
             "#c51b7d"
            ],
            [
             0.2,
             "#de77ae"
            ],
            [
             0.3,
             "#f1b6da"
            ],
            [
             0.4,
             "#fde0ef"
            ],
            [
             0.5,
             "#f7f7f7"
            ],
            [
             0.6,
             "#e6f5d0"
            ],
            [
             0.7,
             "#b8e186"
            ],
            [
             0.8,
             "#7fbc41"
            ],
            [
             0.9,
             "#4d9221"
            ],
            [
             1,
             "#276419"
            ]
           ],
           "sequential": [
            [
             0,
             "#0d0887"
            ],
            [
             0.1111111111111111,
             "#46039f"
            ],
            [
             0.2222222222222222,
             "#7201a8"
            ],
            [
             0.3333333333333333,
             "#9c179e"
            ],
            [
             0.4444444444444444,
             "#bd3786"
            ],
            [
             0.5555555555555556,
             "#d8576b"
            ],
            [
             0.6666666666666666,
             "#ed7953"
            ],
            [
             0.7777777777777778,
             "#fb9f3a"
            ],
            [
             0.8888888888888888,
             "#fdca26"
            ],
            [
             1,
             "#f0f921"
            ]
           ],
           "sequentialminus": [
            [
             0,
             "#0d0887"
            ],
            [
             0.1111111111111111,
             "#46039f"
            ],
            [
             0.2222222222222222,
             "#7201a8"
            ],
            [
             0.3333333333333333,
             "#9c179e"
            ],
            [
             0.4444444444444444,
             "#bd3786"
            ],
            [
             0.5555555555555556,
             "#d8576b"
            ],
            [
             0.6666666666666666,
             "#ed7953"
            ],
            [
             0.7777777777777778,
             "#fb9f3a"
            ],
            [
             0.8888888888888888,
             "#fdca26"
            ],
            [
             1,
             "#f0f921"
            ]
           ]
          },
          "colorway": [
           "#636efa",
           "#EF553B",
           "#00cc96",
           "#ab63fa",
           "#FFA15A",
           "#19d3f3",
           "#FF6692",
           "#B6E880",
           "#FF97FF",
           "#FECB52"
          ],
          "font": {
           "color": "#2a3f5f"
          },
          "geo": {
           "bgcolor": "white",
           "lakecolor": "white",
           "landcolor": "#E5ECF6",
           "showlakes": true,
           "showland": true,
           "subunitcolor": "white"
          },
          "hoverlabel": {
           "align": "left"
          },
          "hovermode": "closest",
          "mapbox": {
           "style": "light"
          },
          "paper_bgcolor": "white",
          "plot_bgcolor": "#E5ECF6",
          "polar": {
           "angularaxis": {
            "gridcolor": "white",
            "linecolor": "white",
            "ticks": ""
           },
           "bgcolor": "#E5ECF6",
           "radialaxis": {
            "gridcolor": "white",
            "linecolor": "white",
            "ticks": ""
           }
          },
          "scene": {
           "xaxis": {
            "backgroundcolor": "#E5ECF6",
            "gridcolor": "white",
            "gridwidth": 2,
            "linecolor": "white",
            "showbackground": true,
            "ticks": "",
            "zerolinecolor": "white"
           },
           "yaxis": {
            "backgroundcolor": "#E5ECF6",
            "gridcolor": "white",
            "gridwidth": 2,
            "linecolor": "white",
            "showbackground": true,
            "ticks": "",
            "zerolinecolor": "white"
           },
           "zaxis": {
            "backgroundcolor": "#E5ECF6",
            "gridcolor": "white",
            "gridwidth": 2,
            "linecolor": "white",
            "showbackground": true,
            "ticks": "",
            "zerolinecolor": "white"
           }
          },
          "shapedefaults": {
           "line": {
            "color": "#2a3f5f"
           }
          },
          "ternary": {
           "aaxis": {
            "gridcolor": "white",
            "linecolor": "white",
            "ticks": ""
           },
           "baxis": {
            "gridcolor": "white",
            "linecolor": "white",
            "ticks": ""
           },
           "bgcolor": "#E5ECF6",
           "caxis": {
            "gridcolor": "white",
            "linecolor": "white",
            "ticks": ""
           }
          },
          "title": {
           "x": 0.05
          },
          "xaxis": {
           "automargin": true,
           "gridcolor": "white",
           "linecolor": "white",
           "ticks": "",
           "title": {
            "standoff": 15
           },
           "zerolinecolor": "white",
           "zerolinewidth": 2
          },
          "yaxis": {
           "automargin": true,
           "gridcolor": "white",
           "linecolor": "white",
           "ticks": "",
           "title": {
            "standoff": 15
           },
           "zerolinecolor": "white",
           "zerolinewidth": 2
          }
         }
        },
        "title": {
         "text": "3D Hand Pose with Point Labels"
        }
       }
      }
     },
     "metadata": {},
     "output_type": "display_data"
    }
   ],
   "source": [
    "# verify they are the same\n",
    "\n",
    "plot_3d_hand(normalize_hand(landmarks.squeeze(0)))\n",
    "plot_3d_hand(normalize_hand(forward_hand_kinematics(angles).squeeze(0)))"
   ]
  }
 ],
 "metadata": {
  "kernelspec": {
   "display_name": "emg2pose",
   "language": "python",
   "name": "python3"
  },
  "language_info": {
   "codemirror_mode": {
    "name": "ipython",
    "version": 3
   },
   "file_extension": ".py",
   "mimetype": "text/x-python",
   "name": "python",
   "nbconvert_exporter": "python",
   "pygments_lexer": "ipython3",
   "version": "3.10.13"
  }
 },
 "nbformat": 4,
 "nbformat_minor": 5
}
