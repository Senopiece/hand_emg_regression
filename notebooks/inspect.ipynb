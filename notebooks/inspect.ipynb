{
 "cells": [
  {
   "cell_type": "code",
   "execution_count": 1,
   "metadata": {},
   "outputs": [
    {
     "name": "stdout",
     "output_type": "stream",
     "text": [
      "PYTHONPATH = c:\\Users\\shich\\Src\\thesis\\hand_emg_regression\n"
     ]
    }
   ],
   "source": [
    "import os\n",
    "import sys\n",
    "\n",
    "# Go one level up from 'notebooks/' to project root\n",
    "project_root = os.path.abspath(os.path.join(os.getcwd(), \"..\"))\n",
    "\n",
    "# Set PYTHONPATH environment variable\n",
    "os.environ[\"PYTHONPATH\"] = project_root\n",
    "\n",
    "# Also update sys.path so Python knows to look there for imports\n",
    "if project_root not in sys.path:\n",
    "    sys.path.insert(0, project_root)\n",
    "\n",
    "# Optional: verify\n",
    "print(\"PYTHONPATH =\", os.environ[\"PYTHONPATH\"])"
   ]
  },
  {
   "cell_type": "code",
   "execution_count": 4,
   "metadata": {},
   "outputs": [],
   "source": [
    "from emg_hand_tracking.model import Model\n",
    "\n",
    "m = Model.load_from_checkpoint(\"../checkpoints/last.ckpt\", map_location=\"cpu\")\n",
    "m = m.eval()"
   ]
  },
  {
   "cell_type": "code",
   "execution_count": 5,
   "metadata": {},
   "outputs": [
    {
     "data": {
      "text/plain": [
       "Parameter containing:\n",
       "tensor([ 0.3300, -0.0975,  0.1726,  0.0825,  0.0671,  0.3818,  0.4371],\n",
       "       requires_grad=True)"
      ]
     },
     "execution_count": 5,
     "metadata": {},
     "output_type": "execute_result"
    }
   ],
   "source": [
    "m.filter"
   ]
  }
 ],
 "metadata": {
  "kernelspec": {
   "display_name": "emg2pose",
   "language": "python",
   "name": "python3"
  },
  "language_info": {
   "codemirror_mode": {
    "name": "ipython",
    "version": 3
   },
   "file_extension": ".py",
   "mimetype": "text/x-python",
   "name": "python",
   "nbconvert_exporter": "python",
   "pygments_lexer": "ipython3",
   "version": "3.10.13"
  }
 },
 "nbformat": 4,
 "nbformat_minor": 2
}
