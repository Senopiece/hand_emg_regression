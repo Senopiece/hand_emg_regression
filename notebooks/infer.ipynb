{
    "cells": [
        {
            "cell_type": "markdown",
            "metadata": {},
            "source": [
                "TODO: uptodate"
            ]
        },
        {
            "cell_type": "code",
            "execution_count": null,
            "metadata": {},
            "outputs": [],
            "source": [
                "from shared import *\n",
                "\n",
                "rootme()"
            ]
        },
        {
            "cell_type": "code",
            "execution_count": null,
            "metadata": {},
            "outputs": [],
            "source": [
                "from emg_hand_tracking.model import Model\n",
                "\n",
                "m = Model.load_from_checkpoint(f\"../checkpoints/s1.ckpt\", map_location=\"cpu\")\n",
                "m = m.eval()"
            ]
        },
        {
            "cell_type": "code",
            "execution_count": null,
            "metadata": {},
            "outputs": [],
            "source": [
                "import time\n",
                "from emg2pose.kinematics import forward_kinematics\n",
                "import emg2pose.visualization as visualization\n",
                "import matplotlib.pyplot as plt\n",
                "from emg_hand_tracking.dataset import load_recordings\n",
                "\n",
                "d = load_recordings(\"../datasets/s1.z\", m.emg_samples_per_frame)\n",
                "\n",
                "seg = d[11][-1]\n",
                "print(len(seg.couples))\n",
                "\n",
                "emg = seg.emg\n",
                "poses = seg.frames\n",
                "\n",
                "import plotly.io as pio\n",
                "import torch\n",
                "\n",
                "start_time = time.time()\n",
                "with torch.no_grad():\n",
                "    y_hat = m.forward(\n",
                "        emg=torch.tensor(emg, dtype=torch.float32),\n",
                "        initial_poses=torch.tensor(\n",
                "            poses[: m.frames_per_window, :],\n",
                "            dtype=torch.float32,\n",
                "        ),\n",
                "    ).cpu()  # (T + 1 - I, 20)\n",
                "end_time = time.time()\n",
                "\n",
                "predictions_per_second = y_hat.shape[0] / (end_time - start_time)\n",
                "print(f\"Predictions per second: {predictions_per_second:.2f}\")\n",
                "print()\n",
                "\n",
                "# downsample 2x\n",
                "y_hat = y_hat[::2, :]\n",
                "y = torch.tensor(poses[m.frames_per_window :, :][::2, :], dtype=torch.float32)\n",
                "\n",
                "print(\"Ground Truth\")\n",
                "pio.show(\n",
                "    visualization.get_plotly_animation_for_joint_angles(y.numpy(), title=\"Ground Truth\")\n",
                ")\n",
                "\n",
                "print(\"Estimated\")\n",
                "pio.show(\n",
                "    visualization.get_plotly_animation_for_joint_angles(\n",
                "        y_hat.numpy(), title=\"Estimated\"\n",
                "    )\n",
                ")\n",
                "\n",
                "print(\"Progressive Error\")\n",
                "landmarks_pred = forward_kinematics(y_hat.unsqueeze(0).permute(0, 2, 1))[0]  # (S, L, 3)\n",
                "landmarks_gt = forward_kinematics(y.unsqueeze(0).permute(0, 2, 1))[0]  # (S, L, 3)\n",
                "\n",
                "sq_delta = (landmarks_pred - landmarks_gt) ** 2  # (S, L, 3)\n",
                "err_per_lmk = sq_delta.sum(dim=-1).sqrt()  # (S, L)\n",
                "err_per_prediction = err_per_lmk.mean(dim=-1).numpy()  # S\n",
                "err_per_prediction_std = err_per_lmk.std(dim=-1).numpy()  # S\n",
                "\n",
                "plt.figure(figsize=(10, 4))\n",
                "plt.plot(err_per_prediction, label=\"Mean Error\", color=\"b\")\n",
                "\n",
                "plt.fill_between(\n",
                "    range(len(err_per_prediction)),\n",
                "    err_per_prediction - err_per_prediction_std,\n",
                "    err_per_prediction + err_per_prediction_std,\n",
                "    color=\"b\",\n",
                "    alpha=0.2,\n",
                "    label=\"Standard Deviation\",\n",
                ")\n",
                "\n",
                "plt.title(\"Error per Prediction with Standard Deviation\")\n",
                "plt.xlabel(\"Prediction Step\")\n",
                "plt.ylabel(\"Error\")\n",
                "plt.grid(True)\n",
                "plt.tight_layout()\n",
                "plt.legend()\n",
                "plt.show()"
            ]
        }
    ],
    "metadata": {
        "kernelspec": {
            "display_name": "Python 3",
            "language": "python",
            "name": "python3"
        },
        "language_info": {
            "codemirror_mode": {
                "name": "ipython",
                "version": 3
            },
            "file_extension": ".py",
            "mimetype": "text/x-python",
            "name": "python",
            "nbconvert_exporter": "python",
            "pygments_lexer": "ipython3",
            "version": "3.10.11"
        }
    },
    "nbformat": 4,
    "nbformat_minor": 2
}
